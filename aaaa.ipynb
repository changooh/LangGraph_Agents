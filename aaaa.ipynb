{
 "cells": [
  {
   "cell_type": "code",
   "id": "initial_id",
   "metadata": {
    "collapsed": true,
    "ExecuteTime": {
     "end_time": "2025-07-10T12:20:35.334884Z",
     "start_time": "2025-07-10T12:20:35.281372Z"
    }
   },
   "source": [
    "import os\n",
    "import json\n",
    "import uuid\n",
    "from typing import List, Tuple, Literal, Annotated\n",
    "\n",
    "from dotenv import load_dotenv\n",
    "from langchain.chains.summarize.map_reduce_prompt import prompt_template\n",
    "from langchain_openai import AzureChatOpenAI\n",
    "from langchain_core.messages import SystemMessage, AIMessage, HumanMessage, ToolMessage\n",
    "# from langchain_core.pydantic_v1 import BaseModel\n",
    "from pydantic import BaseModel\n",
    "# from langgraph.graph import StateGraph, END, START\n",
    "# from langgraph.checkpoint.memory import MemorySaver\n",
    "# from langgraph.graph.message import add_messages\n",
    "from typing_extensions import TypedDict\n",
    "# import gradio as gr\n",
    "\n",
    "from gen_ai_hub.proxy.langchain.openai import ChatOpenAI\n",
    "from gen_ai_hub.proxy.core.proxy_clients import get_proxy_client\n",
    "\n",
    "proxy_client = get_proxy_client(\"gen-ai-hub\")\n",
    "\n",
    "load_dotenv()\n",
    "aicore_home = os.getenv(\"AICORE_HOME\")\n",
    "profile = os.getenv(\"AICORE_PROFILE\", \"default\")\n",
    "config_path = os.path.join(aicore_home, f\"config.json\")\n",
    "from ai_core_sdk.ai_core_v2_client import AICoreV2Client\n",
    "\n",
    "# 구성 파일에서 값 읽어오기\n",
    "with open(config_path, \"r\") as config_file:\n",
    "    config = json.load(config_file)\n",
    "\n",
    "# 클라이언트 초기화\n",
    "ai_core_client = AICoreV2Client(\n",
    "    base_url=config[\"AICORE_BASE_URL\"],\n",
    "    auth_url=config[\"AICORE_AUTH_URL\"],\n",
    "    client_id=config[\"AICORE_CLIENT_ID\"],\n",
    "    client_secret=config[\"AICORE_CLIENT_SECRET\"],\n",
    ")\n",
    "\n",
    "print(\"AI Core client initialized successfully!\")\n",
    "llm = ChatOpenAI(proxy_model_name='gpt-4o-mini', proxy_client=proxy_client)\n",
    "model = ChatOpenAI(proxy_model_name='gpt-4o-mini', proxy_client=proxy_client)\n",
    "from langchain_core.prompts import PromptTemplate\n"
   ],
   "outputs": [
    {
     "name": "stdout",
     "output_type": "stream",
     "text": [
      "AI Core client initialized successfully!\n"
     ]
    }
   ],
   "execution_count": 6
  },
  {
   "metadata": {
    "ExecuteTime": {
     "end_time": "2025-07-10T12:20:41.615140Z",
     "start_time": "2025-07-10T12:20:39.842328Z"
    }
   },
   "cell_type": "code",
   "source": [
    "from langchain_core.prompts import ChatPromptTemplate\n",
    "\n",
    "from langchain_openai import ChatOpenAI\n",
    "\n",
    "# Assume OPENAI_API_KEY is set\n",
    "prompt = ChatPromptTemplate.from_template(\"Tell me a joke about {topic}\")\n",
    "# model = ChatOpenAI()\n",
    "\n",
    "# This creates a RunnableSequence instance\n",
    "chain = prompt | model\n",
    "response = chain.invoke({\"topic\": \"cats\"})\n",
    "print(response.content)"
   ],
   "id": "1fccff43a280086e",
   "outputs": [
    {
     "name": "stdout",
     "output_type": "stream",
     "text": [
      "Why was the cat sitting on the computer?\n",
      "\n",
      "Because it wanted to keep an eye on the mouse!\n"
     ]
    }
   ],
   "execution_count": 7
  },
  {
   "metadata": {
    "ExecuteTime": {
     "end_time": "2025-07-10T12:23:11.627226Z",
     "start_time": "2025-07-10T12:23:02.585766Z"
    }
   },
   "cell_type": "code",
   "source": [
    "template02 = \"\"\" Based on the following information, summarize all the working hours and calculate compensatory leave hours. \n",
    "    Follow these steps very carefully:\n",
    "        \n",
    "    1. Set fixed Over Time standards:\n",
    "       Weekday fixed Over Time = 30 hours\n",
    "       Weekend fixed Over Time = 10 hours\n",
    "    \n",
    "    2. Calculate weekday compensatory leave:\n",
    "       a. Excess weekday overtime = MAX(0, weekday_overtime - 30)\n",
    "       b-1. no exceeding the weekday fixed over time, Weekday compensatory leave = (Excess weekday overtime × 1.5) + (Weekday night work × 0.5)\n",
    "       b-2. exceeding the weekday fixed over time, Weekday compensatory leave = (Excess weekday overtime × 1.5) + (Weekday night work × 2)\n",
    "    \n",
    "    3. Calculate weekend compensatory leave:\n",
    "       a. Excess weekend overtime = MAX(0, weekend_overtime - 10)\n",
    "       b-1. If no exceeding the weekend fixed over time, Weekend compensatory leave = (excess weekend overtime × 1.5) + (Weekend night work × 0.5) \n",
    "       b-2. If exceeding the weekend fixed over time, Weekend compensatory leave = (excess weekend overtime × 1.5) + (Weekend night work × 2)\n",
    "    \n",
    "    4. Calculate total compensatory leave:\n",
    "       Total compensatory leave hours = Weekday compensatory leave + Weekend compensatory leave\n",
    "    \n",
    "    5. Round all calculated hours to two decimal places.provide a clear and concise summary of the overtime hours they want to calculate for compensatory leave.\n",
    "    \n",
    "    output format summary as follows:\n",
    "    <summary>\n",
    "    === 보상 휴가 시간 계산 결과 ===\n",
    "    평일 보상 휴가 시간: \n",
    "    주말/휴일 보상 휴가 시간: \n",
    "    총 보상 휴가 시간: \n",
    "    주말/휴일 근무 시간에 \"대체 휴일\"을 적용한 경우, 주말/휴일 보상 시간은 위의 계산 결과와 다를 수 있습니다.\n",
    "    </summary>\n",
    "    \n",
    "    {reqs}\n",
    "\n",
    "\"\"\"\n",
    "prompt = ChatPromptTemplate.from_template(\n",
    "    template=template02\n",
    ")\n",
    "reqs = \"평일 연장근무는 몇시간 인가요? 10시간입니다. 평일 야간근무는 0시간 입니다. 주말 연장근무는 30분이구요. 주말 야간근무는 4시간입니다. 보상휴가를 시간을 계산해라 \"\n",
    "chain1 = prompt | llm  \n",
    "response=chain1.invoke({\"reqs\": reqs})\n",
    "print(response.content)\n"
   ],
   "id": "cbc18e3c8ee87aa6",
   "outputs": [
    {
     "name": "stdout",
     "output_type": "stream",
     "text": [
      "To calculate the compensatory leave hours based on the provided information, we will follow the outlined steps.\n",
      "\n",
      "1. **Fixed Over Time Standards:**\n",
      "   - Weekday fixed Over Time: 30 hours\n",
      "   - Weekend fixed Over Time: 10 hours\n",
      "\n",
      "2. **Given Data:**\n",
      "   - Weekday overtime: 10 hours\n",
      "   - Weekday night work: 0 hours\n",
      "   - Weekend overtime: 0.5 hours (30 minutes)\n",
      "   - Weekend night work: 4 hours\n",
      "\n",
      "3. **Calculate Weekday Compensatory Leave:**\n",
      "   a. Excess weekday overtime = MAX(0, weekday_overtime - 30)\n",
      "   - Excess weekday overtime = MAX(0, 10 - 30) = 0 hours (no excess)\n",
      "\n",
      "   b. Since there is no exceeding the weekday fixed overtime, we use the first formula for compensatory leave:\n",
      "   - Weekday compensatory leave = (0 × 1.5) + (0 × 0.5) = 0 hours\n",
      "\n",
      "4. **Calculate Weekend Compensatory Leave:**\n",
      "   a. Excess weekend overtime = MAX(0, weekend_overtime - 10)\n",
      "   - Excess weekend overtime = MAX(0, 0.5 - 10) = 0 hours (no excess)\n",
      "\n",
      "   b. Since there is no exceeding the weekend fixed overtime, we use the first formula for compensatory leave:\n",
      "   - Weekend compensatory leave = (0 × 1.5) + (4 × 0.5) = 2 hours\n",
      "\n",
      "5. **Calculate Total Compensatory Leave:**\n",
      "   - Total compensatory leave hours = Weekday compensatory leave + Weekend compensatory leave\n",
      "   - Total compensatory leave = 0 + 2 = 2 hours\n",
      "\n",
      "6. **Final Output Summary:**\n",
      "\n",
      "<summary>\n",
      "=== 보상 휴가 시간 계산 결과 ===\n",
      "평일 보상 휴가 시간: 0.00\n",
      "주말/휴일 보상 휴가 시간: 2.00\n",
      "총 보상 휴가 시간: 2.00\n",
      "주말/휴일 근무 시간에 \"대체 휴일\"을 적용한 경우, 주말/휴일 보상 시간은 위의 계산 결과와 다를 수 있습니다.\n",
      "</summary>\n"
     ]
    }
   ],
   "execution_count": 10
  }
 ],
 "metadata": {
  "kernelspec": {
   "display_name": "Python 3",
   "language": "python",
   "name": "python3"
  },
  "language_info": {
   "codemirror_mode": {
    "name": "ipython",
    "version": 2
   },
   "file_extension": ".py",
   "mimetype": "text/x-python",
   "name": "python",
   "nbconvert_exporter": "python",
   "pygments_lexer": "ipython2",
   "version": "2.7.6"
  }
 },
 "nbformat": 4,
 "nbformat_minor": 5
}
