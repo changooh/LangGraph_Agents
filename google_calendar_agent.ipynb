{
 "cells": [
  {
   "metadata": {},
   "cell_type": "markdown",
   "source": [
    "```\n",
    "Google Calendar Toolkit\n",
    "https://python.langchain.com/docs/integrations/tools/google_calendar/"
   ],
   "id": "40e7af608d15cfed"
  },
  {
   "cell_type": "code",
   "id": "initial_id",
   "metadata": {
    "collapsed": true
   },
   "source": "# %pip install -qU langchain-google-community[calendar]",
   "outputs": [],
   "execution_count": null
  },
  {
   "metadata": {
    "ExecuteTime": {
     "end_time": "2025-06-30T05:44:18.015054Z",
     "start_time": "2025-06-30T05:43:53.561893Z"
    }
   },
   "cell_type": "code",
   "source": [
    "from langchain_google_community import CalendarToolkit\n",
    "from torch.backends.mkl import verbose\n",
    "\n",
    "toolkit = CalendarToolkit()"
   ],
   "id": "990404450782213",
   "outputs": [],
   "execution_count": 1
  },
  {
   "metadata": {
    "ExecuteTime": {
     "end_time": "2025-06-30T05:45:22.319425Z",
     "start_time": "2025-06-30T05:45:22.241379Z"
    }
   },
   "cell_type": "code",
   "source": [
    "from langchain_google_community import CalendarToolkit\n",
    "from langchain_google_community.calendar.utils import (\n",
    "    build_resource_service,\n",
    "    get_google_credentials,\n",
    ")\n",
    "\n",
    "# Can review scopes here: https://developers.google.com/calendar/api/auth\n",
    "# For instance, readonly scope is https://www.googleapis.com/auth/calendar.readonly\n",
    "credentials = get_google_credentials(\n",
    "    token_file=\"token.json\",\n",
    "    scopes=[\"https://www.googleapis.com/auth/calendar\"],\n",
    "    client_secrets_file=\"credentials.json\",\n",
    ")\n",
    "\n",
    "api_resource = build_resource_service(credentials=credentials)\n",
    "toolkit = CalendarToolkit(api_resource=api_resource)"
   ],
   "id": "aeb113a24f2fc097",
   "outputs": [],
   "execution_count": 2
  },
  {
   "metadata": {
    "ExecuteTime": {
     "end_time": "2025-06-30T05:45:25.524778Z",
     "start_time": "2025-06-30T05:45:25.514826Z"
    }
   },
   "cell_type": "code",
   "source": [
    "tools = toolkit.get_tools()\n",
    "tools"
   ],
   "id": "e1de0b5217f9fc6b",
   "outputs": [
    {
     "data": {
      "text/plain": [
       "[CalendarCreateEvent(api_resource=<googleapiclient.discovery.Resource object at 0x000002589C177B90>),\n",
       " CalendarSearchEvents(api_resource=<googleapiclient.discovery.Resource object at 0x000002589C177B90>),\n",
       " CalendarUpdateEvent(api_resource=<googleapiclient.discovery.Resource object at 0x000002589C177B90>),\n",
       " GetCalendarsInfo(api_resource=<googleapiclient.discovery.Resource object at 0x000002589C177B90>),\n",
       " CalendarMoveEvent(api_resource=<googleapiclient.discovery.Resource object at 0x000002589C177B90>),\n",
       " CalendarDeleteEvent(api_resource=<googleapiclient.discovery.Resource object at 0x000002589C177B90>),\n",
       " GetCurrentDatetime(api_resource=<googleapiclient.discovery.Resource object at 0x000002589C177B90>)]"
      ]
     },
     "execution_count": 3,
     "metadata": {},
     "output_type": "execute_result"
    }
   ],
   "execution_count": 3
  },
  {
   "metadata": {},
   "cell_type": "markdown",
   "source": "",
   "id": "471354a3222bd9c4"
  },
  {
   "metadata": {
    "ExecuteTime": {
     "end_time": "2025-06-30T05:58:20.109146Z",
     "start_time": "2025-06-30T05:58:19.151571Z"
    }
   },
   "cell_type": "code",
   "source": [
    "# Invoke directly with args\n",
    "# You can invoke the tool directly by passing the required arguments in a dictionary format. Here is an example of creating a new event using the CalendarCreateEvent tool.\n",
    "from langchain_google_community.calendar.create_event import CalendarCreateEvent\n",
    "\n",
    "tool = CalendarCreateEvent()\n",
    "tool.invoke(\n",
    "    {\n",
    "        \"summary\": \"Calculus exam\",\n",
    "        \"start_datetime\": \"2025-04-30 11:00:00\",\n",
    "        \"end_datetime\": \"2025-04-30 13:00:00\",\n",
    "        \"timezone\": \"Asia/Seoul\",\n",
    "        \"location\": \"Seoul\",\n",
    "        \"description\": \"Event created from the LangChain toolkit\",\n",
    "        \"reminders\": [{\"method\": \"popup\", \"minutes\": 60}],\n",
    "        \"conference_data\": True,\n",
    "        \"color_id\": \"5\",\n",
    "    }\n",
    ")"
   ],
   "id": "442a20f0e247a752",
   "outputs": [
    {
     "data": {
      "text/plain": [
       "'Event created: https://www.google.com/calendar/event?eid=dXYxNjg3aXFiczE2cHJ1cG1hNHBhZzk4cmMgY2hhbmdvb2gua0Bt'"
      ]
     },
     "execution_count": 6,
     "metadata": {},
     "output_type": "execute_result"
    }
   ],
   "execution_count": 6
  },
  {
   "metadata": {
    "ExecuteTime": {
     "end_time": "2025-06-30T05:58:22.209989Z",
     "start_time": "2025-06-30T05:58:22.201334Z"
    }
   },
   "cell_type": "code",
   "source": [
    "from dotenv import load_dotenv\n",
    "load_dotenv()\n",
    "import warnings\n",
    "warnings.filterwarnings(\"ignore\")"
   ],
   "id": "d27d1fe36d28118a",
   "outputs": [],
   "execution_count": 7
  },
  {
   "metadata": {
    "ExecuteTime": {
     "end_time": "2025-06-30T05:58:26.676570Z",
     "start_time": "2025-06-30T05:58:23.789959Z"
    }
   },
   "cell_type": "code",
   "source": [
    "from langchain_openai import ChatOpenAI\n",
    "# # 기본 LLM\n",
    "# llm = ChatOpenAI(model=\"gpt-4o-mini\", temperature=0, streaming=True)\n",
    "\n",
    "import os\n",
    "\n",
    "os.environ[\"OPENAI_API_VERSION\"] = os.getenv('AZURE_OPENAI_VERSION')\n",
    "os.environ[\"AZURE_OPENAI_ENDPOINT\"] = os.getenv('AZURE_OPENAI_END_POINT')\n",
    "os.environ[\"AZURE_OPENAI_API_KEY\"] = os.getenv('AZURE_OPENAI_KEY')\n",
    "\n",
    "from langchain_openai import AzureChatOpenAI\n",
    "\n",
    "llm = AzureChatOpenAI(\n",
    "    azure_deployment=os.getenv('DEPLOYMENT_NAME'),  # or your deployment\n",
    "    api_version=os.getenv('AZURE_OPENAI_VERSION'),  # or your api version\n",
    "    temperature=0,\n",
    "    # stream=True,\n",
    "    # max_tokens=40000,\n",
    "    # timeout=None,\n",
    "    # max_retries=2,\n",
    "    # other params...\n",
    ")\n",
    "\n",
    "# from langchain_anthropic import ChatAnthropic\n",
    "# \n",
    "# # claude 모델 로드 \n",
    "# llm = ChatAnthropic(\n",
    "#     # model=\"claude-3-5-sonnet-20241022\",\n",
    "#     model=\"claude-3-7-sonnet-20250219\",\n",
    "#     temperature=0,\n",
    "#     # max_tokens=200, \n",
    "#     api_key=os.getenv('ANTHROPIC_API_KEY'),\n",
    "#     streaming=True,\n",
    "# )"
   ],
   "id": "1ca634d8fc14524",
   "outputs": [],
   "execution_count": 8
  },
  {
   "metadata": {
    "ExecuteTime": {
     "end_time": "2025-06-30T05:58:28.378950Z",
     "start_time": "2025-06-30T05:58:28.006460Z"
    }
   },
   "cell_type": "code",
   "source": [
    "from langgraph.prebuilt import create_react_agent\n",
    "\n",
    "agent_executor = create_react_agent(llm, tools)"
   ],
   "id": "c9bb3a004264b3d2",
   "outputs": [],
   "execution_count": 9
  },
  {
   "metadata": {
    "ExecuteTime": {
     "end_time": "2025-06-30T05:58:36.349768Z",
     "start_time": "2025-06-30T05:58:30.693084Z"
    }
   },
   "cell_type": "code",
   "source": [
    "example_query = \"Create a green event for every 22:00 until the end of this month to go for a 30-minute run.\"\n",
    "\n",
    "events = agent_executor.stream(\n",
    "    {\"messages\": [(\"user\", example_query)]},\n",
    "    stream_mode=\"values\",\n",
    ")\n",
    "for event in events:\n",
    "    event[\"messages\"][-1].pretty_print()"
   ],
   "id": "b2cae9f776ed2168",
   "outputs": [
    {
     "name": "stdout",
     "output_type": "stream",
     "text": [
      "================================\u001B[1m Human Message \u001B[0m=================================\n",
      "\n",
      "Create a green event for every 22:00 until the end of this month to go for a 30-minute run.\n",
      "==================================\u001B[1m Ai Message \u001B[0m==================================\n",
      "Tool Calls:\n",
      "  get_current_datetime (call_SwHnP55pK95NTbKXBcSn0J78)\n",
      " Call ID: call_SwHnP55pK95NTbKXBcSn0J78\n",
      "  Args:\n",
      "    calendar_id: primary\n",
      "=================================\u001B[1m Tool Message \u001B[0m=================================\n",
      "Name: get_current_datetime\n",
      "\n",
      "Time zone: Asia/Seoul, Date and time: 2025-06-30 14:58:32\n",
      "==================================\u001B[1m Ai Message \u001B[0m==================================\n",
      "Tool Calls:\n",
      "  create_calendar_event (call_Ua5WulOImzKY1GfqVaZFo1cJ)\n",
      " Call ID: call_Ua5WulOImzKY1GfqVaZFo1cJ\n",
      "  Args:\n",
      "    summary: 30-Minute Run\n",
      "    start_datetime: 2025-06-30 22:00:00\n",
      "    end_datetime: 2025-06-30 22:30:00\n",
      "    timezone: Asia/Seoul\n",
      "    recurrence: {'FREQ': 'DAILY', 'INTERVAL': 1, 'UNTIL': '20250630', 'COUNT': None, 'BYDAY': None}\n",
      "    color_id: 10\n",
      "=================================\u001B[1m Tool Message \u001B[0m=================================\n",
      "Name: create_calendar_event\n",
      "\n",
      "Event created: https://www.google.com/calendar/event?eid=Y2t1bDhzOGwwajRtY244bmV1cGRsdm9hZjRfMjAyNTA2MzBUMTMwMDAwWiBjaGFuZ29vaC5rQG0\n",
      "==================================\u001B[1m Ai Message \u001B[0m==================================\n",
      "\n",
      "The event for a 30-minute run at 22:00 has been created and will recur daily until the end of this month. You can view and manage the event [here](https://www.google.com/calendar/event?eid=Y2t1bDhzOGwwajRtY244bmV1cGRsdm9hZjRfMjAyNTA2MzBUMTMwMDAwWiBjaGFuZ29vaC5rQG0).\n"
     ]
    }
   ],
   "execution_count": 10
  },
  {
   "metadata": {
    "ExecuteTime": {
     "end_time": "2025-06-30T05:58:41.889984Z",
     "start_time": "2025-06-30T05:58:36.356775Z"
    }
   },
   "cell_type": "code",
   "source": [
    "# example_query = \" delete a 30-minute run created on this afternoon.\"\n",
    "example_query = \" delete a 30-minute run created on tomorrow.\"\n",
    "\n",
    "events = agent_executor.stream(\n",
    "    {\"messages\": [(\"user\", example_query)]},\n",
    "    stream_mode=\"values\",\n",
    ")\n",
    "for event in events:\n",
    "    event[\"messages\"][-1].pretty_print()"
   ],
   "id": "9eaa9c5896587520",
   "outputs": [
    {
     "name": "stdout",
     "output_type": "stream",
     "text": [
      "================================\u001B[1m Human Message \u001B[0m=================================\n",
      "\n",
      " delete a 30-minute run created on tomorrow.\n",
      "==================================\u001B[1m Ai Message \u001B[0m==================================\n",
      "Tool Calls:\n",
      "  get_current_datetime (call_dYZfFeBRonY1OqZfHfjpz39H)\n",
      " Call ID: call_dYZfFeBRonY1OqZfHfjpz39H\n",
      "  Args:\n",
      "    calendar_id: primary\n",
      "=================================\u001B[1m Tool Message \u001B[0m=================================\n",
      "Name: get_current_datetime\n",
      "\n",
      "Time zone: Asia/Seoul, Date and time: 2025-06-30 14:58:37\n",
      "==================================\u001B[1m Ai Message \u001B[0m==================================\n",
      "Tool Calls:\n",
      "  get_calendars_info (call_udNZHnGQN581sBeXPbLIvUhY)\n",
      " Call ID: call_udNZHnGQN581sBeXPbLIvUhY\n",
      "  Args:\n",
      "=================================\u001B[1m Tool Message \u001B[0m=================================\n",
      "Name: get_calendars_info\n",
      "\n",
      "[{\"id\": \"ko.south_korea#holiday@group.v.calendar.google.com\", \"summary\": \"\\ub300\\ud55c\\ubbfc\\uad6d\\uc758 \\ud734\\uc77c\", \"timeZone\": \"Asia/Seoul\"}, {\"id\": \"family03736668094246964661@group.calendar.google.com\", \"summary\": \"\\uac00\\uc871\", \"timeZone\": \"UTC\"}, {\"id\": \"changooh.k@gmail.com\", \"summary\": \"changooh.k@gmail.com\", \"timeZone\": \"Asia/Seoul\"}]\n",
      "==================================\u001B[1m Ai Message \u001B[0m==================================\n",
      "Tool Calls:\n",
      "  search_events (call_ekfEJoAM6iTy3gmrWvNZ6gAh)\n",
      " Call ID: call_ekfEJoAM6iTy3gmrWvNZ6gAh\n",
      "  Args:\n",
      "    calendars_info: [{\"id\": \"ko.south_korea#holiday@group.v.calendar.google.com\", \"summary\": \"\\ub300\\ud55c\\ubbfc\\uad6d\\uc758 \\ud734\\uc77c\", \"timeZone\": \"Asia/Seoul\"}, {\"id\": \"family03736668094246964661@group.calendar.google.com\", \"summary\": \"\\uac00\\uc871\", \"timeZone\": \"UTC\"}, {\"id\": \"changooh.k@gmail.com\", \"summary\": \"changooh.k@gmail.com\", \"timeZone\": \"Asia/Seoul\"}]\n",
      "    min_datetime: 2025-07-01 00:00:00\n",
      "    max_datetime: 2025-07-01 23:59:59\n",
      "    query: run\n",
      "=================================\u001B[1m Tool Message \u001B[0m=================================\n",
      "Name: search_events\n",
      "\n",
      "[]\n",
      "==================================\u001B[1m Ai Message \u001B[0m==================================\n",
      "\n",
      "It seems there are no events related to a \"run\" scheduled for tomorrow. If you need further assistance or want to search for something else, feel free to let me know!\n"
     ]
    }
   ],
   "execution_count": 11
  },
  {
   "metadata": {
    "ExecuteTime": {
     "end_time": "2025-04-22T08:28:29.906917Z",
     "start_time": "2025-04-22T08:28:15.215059Z"
    }
   },
   "cell_type": "code",
   "source": [
    "example_query = \"\"\" show all the schedule for 30-minute run in April 2025. \"\"\"\n",
    "\n",
    "events = agent_executor.stream(\n",
    "    {\"messages\": [(\"user\", example_query)]},\n",
    "    stream_mode=\"values\",\n",
    ")\n",
    "for event in events:\n",
    "    event[\"messages\"][-1].pretty_print()"
   ],
   "id": "28b426eab30d65d7",
   "outputs": [
    {
     "name": "stdout",
     "output_type": "stream",
     "text": [
      "================================\u001B[1m Human Message \u001B[0m=================================\n",
      "\n",
      " show all the schedule for 30-minute run in April 2025. \n",
      "==================================\u001B[1m Ai Message \u001B[0m==================================\n",
      "\n",
      "To find all the scheduled 30-minute runs in April 2025, I need to search the calendar for events that match this description. First, I'll retrieve the calendar information to ensure I search in the correct calendar. Then, I'll search for events in April 2025. Let's start by getting the calendar information.\n",
      "Tool Calls:\n",
      "  get_calendars_info (call_JvIMRXKBKD6b57JRsxErHzP1)\n",
      " Call ID: call_JvIMRXKBKD6b57JRsxErHzP1\n",
      "  Args:\n",
      "=================================\u001B[1m Tool Message \u001B[0m=================================\n",
      "Name: get_calendars_info\n",
      "\n",
      "[{\"id\": \"changooh.k@gmail.com\", \"summary\": \"changooh.k@gmail.com\", \"timeZone\": \"Asia/Seoul\"}, {\"id\": \"ko.south_korea#holiday@group.v.calendar.google.com\", \"summary\": \"\\ub300\\ud55c\\ubbfc\\uad6d\\uc758 \\ud734\\uc77c\", \"timeZone\": \"Asia/Seoul\"}, {\"id\": \"family03736668094246964661@group.calendar.google.com\", \"summary\": \"\\uac00\\uc871\", \"timeZone\": \"UTC\"}]\n",
      "==================================\u001B[1m Ai Message \u001B[0m==================================\n",
      "Tool Calls:\n",
      "  search_events (call_YrrHS2NDT9NAo507CmtXVTQx)\n",
      " Call ID: call_YrrHS2NDT9NAo507CmtXVTQx\n",
      "  Args:\n",
      "    calendars_info: [{\"id\": \"changooh.k@gmail.com\", \"summary\": \"changooh.k@gmail.com\", \"timeZone\": \"Asia/Seoul\"}, {\"id\": \"ko.south_korea#holiday@group.v.calendar.google.com\", \"summary\": \"\\ub300\\ud55c\\ubbfc\\uad6d\\uc758 \\ud734\\uc77c\", \"timeZone\": \"Asia/Seoul\"}, {\"id\": \"family03736668094246964661@group.calendar.google.com\", \"summary\": \"\\uac00\\uc871\", \"timeZone\": \"UTC\"}]\n",
      "    min_datetime: 2025-04-01 00:00:00\n",
      "    max_datetime: 2025-04-30 23:59:59\n",
      "    query: 30-minute run\n",
      "=================================\u001B[1m Tool Message \u001B[0m=================================\n",
      "Name: search_events\n",
      "\n",
      "[{\"id\": \"u27nrlj3sbpicl35ta4vspooe0\", \"htmlLink\": \"https://www.google.com/calendar/event?eid=dTI3bnJsajNzYnBpY2wzNXRhNHZzcG9vZTAgY2hhbmdvb2gua0Bt\", \"summary\": \"30-Minute Run\", \"creator\": \"changooh.k@gmail.com\", \"organizer\": \"changooh.k@gmail.com\", \"start\": \"2025-04-22T17:30:00+09:00\", \"end\": \"2025-04-22T18:00:00+09:00\"}, {\"id\": \"mivi1mffgo1o4i2p72ikd1edkk_20250422T130000Z\", \"htmlLink\": \"https://www.google.com/calendar/event?eid=bWl2aTFtZmZnbzFvNGkycDcyaWtkMWVka2tfMjAyNTA0MjJUMTMwMDAwWiBjaGFuZ29vaC5rQG0\", \"summary\": \"30-Minute Run\", \"creator\": \"changooh.k@gmail.com\", \"organizer\": \"changooh.k@gmail.com\", \"start\": \"2025-04-22T22:00:00+09:00\", \"end\": \"2025-04-22T22:30:00+09:00\"}, {\"id\": \"mivi1mffgo1o4i2p72ikd1edkk_20250423T130000Z\", \"htmlLink\": \"https://www.google.com/calendar/event?eid=bWl2aTFtZmZnbzFvNGkycDcyaWtkMWVka2tfMjAyNTA0MjNUMTMwMDAwWiBjaGFuZ29vaC5rQG0\", \"summary\": \"30-Minute Run\", \"creator\": \"changooh.k@gmail.com\", \"organizer\": \"changooh.k@gmail.com\", \"start\": \"2025-04-23T22:00:00+09:00\", \"end\": \"2025-04-23T22:30:00+09:00\"}, {\"id\": \"mivi1mffgo1o4i2p72ikd1edkk_20250424T130000Z\", \"htmlLink\": \"https://www.google.com/calendar/event?eid=bWl2aTFtZmZnbzFvNGkycDcyaWtkMWVka2tfMjAyNTA0MjRUMTMwMDAwWiBjaGFuZ29vaC5rQG0\", \"summary\": \"30-Minute Run\", \"creator\": \"changooh.k@gmail.com\", \"organizer\": \"changooh.k@gmail.com\", \"start\": \"2025-04-24T22:00:00+09:00\", \"end\": \"2025-04-24T22:30:00+09:00\"}, {\"id\": \"mivi1mffgo1o4i2p72ikd1edkk_20250425T130000Z\", \"htmlLink\": \"https://www.google.com/calendar/event?eid=bWl2aTFtZmZnbzFvNGkycDcyaWtkMWVka2tfMjAyNTA0MjVUMTMwMDAwWiBjaGFuZ29vaC5rQG0\", \"summary\": \"30-Minute Run\", \"creator\": \"changooh.k@gmail.com\", \"organizer\": \"changooh.k@gmail.com\", \"start\": \"2025-04-25T22:00:00+09:00\", \"end\": \"2025-04-25T22:30:00+09:00\"}, {\"id\": \"mivi1mffgo1o4i2p72ikd1edkk_20250426T130000Z\", \"htmlLink\": \"https://www.google.com/calendar/event?eid=bWl2aTFtZmZnbzFvNGkycDcyaWtkMWVka2tfMjAyNTA0MjZUMTMwMDAwWiBjaGFuZ29vaC5rQG0\", \"summary\": \"30-Minute Run\", \"creator\": \"changooh.k@gmail.com\", \"organizer\": \"changooh.k@gmail.com\", \"start\": \"2025-04-26T22:00:00+09:00\", \"end\": \"2025-04-26T22:30:00+09:00\"}, {\"id\": \"mivi1mffgo1o4i2p72ikd1edkk_20250427T130000Z\", \"htmlLink\": \"https://www.google.com/calendar/event?eid=bWl2aTFtZmZnbzFvNGkycDcyaWtkMWVka2tfMjAyNTA0MjdUMTMwMDAwWiBjaGFuZ29vaC5rQG0\", \"summary\": \"30-Minute Run\", \"creator\": \"changooh.k@gmail.com\", \"organizer\": \"changooh.k@gmail.com\", \"start\": \"2025-04-27T22:00:00+09:00\", \"end\": \"2025-04-27T22:30:00+09:00\"}, {\"id\": \"mivi1mffgo1o4i2p72ikd1edkk_20250428T130000Z\", \"htmlLink\": \"https://www.google.com/calendar/event?eid=bWl2aTFtZmZnbzFvNGkycDcyaWtkMWVka2tfMjAyNTA0MjhUMTMwMDAwWiBjaGFuZ29vaC5rQG0\", \"summary\": \"30-Minute Run\", \"creator\": \"changooh.k@gmail.com\", \"organizer\": \"changooh.k@gmail.com\", \"start\": \"2025-04-28T22:00:00+09:00\", \"end\": \"2025-04-28T22:30:00+09:00\"}, {\"id\": \"mivi1mffgo1o4i2p72ikd1edkk_20250429T130000Z\", \"htmlLink\": \"https://www.google.com/calendar/event?eid=bWl2aTFtZmZnbzFvNGkycDcyaWtkMWVka2tfMjAyNTA0MjlUMTMwMDAwWiBjaGFuZ29vaC5rQG0\", \"summary\": \"30-Minute Run\", \"creator\": \"changooh.k@gmail.com\", \"organizer\": \"changooh.k@gmail.com\", \"start\": \"2025-04-29T22:00:00+09:00\", \"end\": \"2025-04-29T22:30:00+09:00\"}]\n",
      "==================================\u001B[1m Ai Message \u001B[0m==================================\n",
      "\n",
      "Here are the scheduled 30-minute runs in April 2025:\n",
      "\n",
      "1. **April 22, 2025**\n",
      "   - **Time:** 17:30 - 18:00 (Asia/Seoul)\n",
      "   - [Event Link](https://www.google.com/calendar/event?eid=dTI3bnJsajNzYnBpY2wzNXRhNHZzcG9vZTAgY2hhbmdvb2gua0Bt)\n",
      "\n",
      "2. **April 22, 2025**\n",
      "   - **Time:** 22:00 - 22:30 (Asia/Seoul)\n",
      "   - [Event Link](https://www.google.com/calendar/event?eid=bWl2aTFtZmZnbzFvNGkycDcyaWtkMWVka2tfMjAyNTA0MjJUMTMwMDAwWiBjaGFuZ29vaC5rQG0)\n",
      "\n",
      "3. **April 23, 2025**\n",
      "   - **Time:** 22:00 - 22:30 (Asia/Seoul)\n",
      "   - [Event Link](https://www.google.com/calendar/event?eid=bWl2aTFtZmZnbzFvNGkycDcyaWtkMWVka2tfMjAyNTA0MjNUMTMwMDAwWiBjaGFuZ29vaC5rQG0)\n",
      "\n",
      "4. **April 24, 2025**\n",
      "   - **Time:** 22:00 - 22:30 (Asia/Seoul)\n",
      "   - [Event Link](https://www.google.com/calendar/event?eid=bWl2aTFtZmZnbzFvNGkycDcyaWtkMWVka2tfMjAyNTA0MjRUMTMwMDAwWiBjaGFuZ29vaC5rQG0)\n",
      "\n",
      "5. **April 25, 2025**\n",
      "   - **Time:** 22:00 - 22:30 (Asia/Seoul)\n",
      "   - [Event Link](https://www.google.com/calendar/event?eid=bWl2aTFtZmZnbzFvNGkycDcyaWtkMWVka2tfMjAyNTA0MjVUMTMwMDAwWiBjaGFuZ29vaC5rQG0)\n",
      "\n",
      "6. **April 26, 2025**\n",
      "   - **Time:** 22:00 - 22:30 (Asia/Seoul)\n",
      "   - [Event Link](https://www.google.com/calendar/event?eid=bWl2aTFtZmZnbzFvNGkycDcyaWtkMWVka2tfMjAyNTA0MjZUMTMwMDAwWiBjaGFuZ29vaC5rQG0)\n",
      "\n",
      "7. **April 27, 2025**\n",
      "   - **Time:** 22:00 - 22:30 (Asia/Seoul)\n",
      "   - [Event Link](https://www.google.com/calendar/event?eid=bWl2aTFtZmZnbzFvNGkycDcyaWtkMWVka2tfMjAyNTA0MjdUMTMwMDAwWiBjaGFuZ29vaC5rQG0)\n",
      "\n",
      "8. **April 28, 2025**\n",
      "   - **Time:** 22:00 - 22:30 (Asia/Seoul)\n",
      "   - [Event Link](https://www.google.com/calendar/event?eid=bWl2aTFtZmZnbzFvNGkycDcyaWtkMWVka2tfMjAyNTA0MjhUMTMwMDAwWiBjaGFuZ29vaC5rQG0)\n",
      "\n",
      "9. **April 29, 2025**\n",
      "   - **Time:** 22:00 - 22:30 (Asia/Seoul)\n",
      "   - [Event Link](https://www.google.com/calendar/event?eid=bWl2aTFtZmZnbzFvNGkycDcyaWtkMWVka2tfMjAyNTA0MjlUMTMwMDAwWiBjaGFuZ29vaC5rQG0)\n",
      "\n",
      "You can click on the event links to view more details or make changes if needed.\n"
     ]
    }
   ],
   "execution_count": 23
  },
  {
   "metadata": {
    "ExecuteTime": {
     "end_time": "2025-06-30T05:58:48.833857Z",
     "start_time": "2025-06-30T05:58:48.581048Z"
    }
   },
   "cell_type": "code",
   "source": [
    "from langgraph.graph import MessagesState, StateGraph, START, END\n",
    "from langgraph.prebuilt import create_react_agent\n",
    "from langgraph.checkpoint.memory import MemorySaver\n",
    "from IPython.display import Image, display\n",
    "\n",
    "# 메모리 초기화 \n",
    "memory = MemorySaver()\n",
    "\n",
    "# 그래프 생성 \n",
    "graph = create_react_agent(\n",
    "    llm, \n",
    "    tools=tools, \n",
    "    checkpointer=memory,\n",
    "    )\n",
    "\n",
    "# 그래프 출력\n",
    "display(Image(graph.get_graph().draw_mermaid_png()))"
   ],
   "id": "dda320bedccb92be",
   "outputs": [
    {
     "data": {
      "image/png": "[encoded data removed]",
      "text/plain": [
       "<IPython.core.display.Image object>"
      ]
     },
     "metadata": {},
     "output_type": "display_data"
    }
   ],
   "execution_count": 12
  },
  {
   "metadata": {
    "ExecuteTime": {
     "end_time": "2025-06-30T05:58:59.274Z",
     "start_time": "2025-06-30T05:58:52.736555Z"
    }
   },
   "cell_type": "code",
   "source": [
    "import gradio as gr\n",
    "from typing import List, Tuple\n",
    "from langchain_core.messages import HumanMessage, AIMessage\n",
    "from langgraph.checkpoint.memory import MemorySaver\n",
    "import uuid\n",
    "# 메모리 사용 준비\n",
    "memory = MemorySaver()\n",
    "# graph_memory = graph.compile(checkpointer=memory)\n",
    "\n",
    "# 예시 질문들\n",
    "example_questions = [\n",
    "    \"create a green event for this evening to go for a 30-minute run.\",\n",
    "    \"create a green event for every 22:00 until the end of this month to go for a 30-minute run.\",\n",
    "    \"delete a 30-minute run created on tomorrow.\",\n",
    "    \"show all the schedule for 30-minute run in April 2025.\"\n",
    "]\n",
    "\n",
    "# 답변 메시지 처리를 위한 함수\n",
    "def process_message(message: str, history: List[Tuple[str, str]], thread_id: str) -> str:\n",
    "    try:\n",
    "        config = {\"configurable\": {\"thread_id\": thread_id}}\n",
    "        inputs = {\"messages\": [HumanMessage(content=message)]}\n",
    "        \n",
    "        result = graph.invoke(inputs, config=config)\n",
    "        \n",
    "        if \"messages\" in result:\n",
    "            # 메시지 로깅 (선택사항)\n",
    "            print(f\"스레드 ID: {thread_id}\")\n",
    "            for msg in result[\"messages\"]:\n",
    "                msg.pretty_print()\n",
    "\n",
    "            last_message = result[\"messages\"][-1]\n",
    "            if isinstance(last_message, AIMessage):\n",
    "                return last_message.content\n",
    "\n",
    "        return \"Sorry, couldn't generate a response. please try again.\"\n",
    "\n",
    "    except Exception as e:\n",
    "        print(f\"Error occurred: {str(e)}\")\n",
    "        return \"Sorry, an unexpected error was occurred. please try it all over again.\"\n",
    "\n",
    "\n",
    "# 챗봇 클래스 생성\n",
    "class ChatBot:\n",
    "    def __init__(self):\n",
    "        self.thread_id = str(uuid.uuid4())\n",
    "\n",
    "    def chat(self, message: str, history: List[Tuple[str, str]]) -> str:\n",
    "        print(f\"Thread ID: {self.thread_id}\")\n",
    "        response = process_message(message, history, self.thread_id)\n",
    "        return response\n",
    "\n",
    "chatbot = ChatBot()\n",
    "\n",
    "\n",
    "# ChatInterface 생성\n",
    "demo = gr.ChatInterface(\n",
    "    fn=chatbot.chat,\n",
    "    title=\"Google Calendar AI Agent\",\n",
    "    description=\"I can help several crucial roles to enhance your productive and streamlined calendar management.\",\n",
    "    examples=example_questions,\n",
    "    theme=gr.themes.Soft()\n",
    ")\n"
   ],
   "id": "813249488185d13a",
   "outputs": [],
   "execution_count": 13
  },
  {
   "metadata": {
    "ExecuteTime": {
     "end_time": "2025-06-30T05:59:03.081367Z",
     "start_time": "2025-06-30T05:59:02.691225Z"
    }
   },
   "cell_type": "code",
   "source": [
    "# Gradio 앱 실행\n",
    "demo.launch()"
   ],
   "id": "fcc2f26a83b57b80",
   "outputs": [
    {
     "name": "stdout",
     "output_type": "stream",
     "text": [
      "Running on local URL:  http://127.0.0.1:7860\n",
      "\n",
      "To create a public link, set `share=True` in `launch()`.\n"
     ]
    },
    {
     "data": {
      "text/plain": [
       "<IPython.core.display.HTML object>"
      ],
      "text/html": [
       "<div><iframe src=\"http://127.0.0.1:7860/\" width=\"100%\" height=\"500\" allow=\"autoplay; camera; microphone; clipboard-read; clipboard-write;\" frameborder=\"0\" allowfullscreen></iframe></div>"
      ]
     },
     "metadata": {},
     "output_type": "display_data"
    },
    {
     "data": {
      "text/plain": []
     },
     "execution_count": 14,
     "metadata": {},
     "output_type": "execute_result"
    }
   ],
   "execution_count": 14
  },
  {
   "metadata": {
    "ExecuteTime": {
     "end_time": "2025-06-30T05:59:11.258714Z",
     "start_time": "2025-06-30T05:59:11.062891Z"
    }
   },
   "cell_type": "code",
   "source": "demo.close()",
   "id": "fec453f9e1825755",
   "outputs": [
    {
     "name": "stdout",
     "output_type": "stream",
     "text": [
      "Closing server running on port: 7860\n"
     ]
    }
   ],
   "execution_count": 15
  }
 ],
 "metadata": {
  "kernelspec": {
   "display_name": "Python 3",
   "language": "python",
   "name": "python3"
  },
  "language_info": {
   "codemirror_mode": {
    "name": "ipython",
    "version": 2
   },
   "file_extension": ".py",
   "mimetype": "text/x-python",
   "name": "python",
   "nbconvert_exporter": "python",
   "pygments_lexer": "ipython2",
   "version": "2.7.6"
  }
 },
 "nbformat": 4,
 "nbformat_minor": 5
}
