{
 "cells": [
  {
   "cell_type": "markdown",
   "id": "98e66a4e",
   "metadata": {},
   "source": [
    "## 1. 환경 설정"
   ]
  },
  {
   "cell_type": "markdown",
   "id": "6b4a539f",
   "metadata": {},
   "source": [
    "`(1) Env 환경변수`"
   ]
  },
  {
   "cell_type": "code",
   "id": "89a27628",
   "metadata": {
    "ExecuteTime": {
     "end_time": "2025-04-10T00:45:17.798337Z",
     "start_time": "2025-04-10T00:45:17.751229Z"
    }
   },
   "source": [
    "from dotenv import load_dotenv\n",
    "load_dotenv()"
   ],
   "outputs": [
    {
     "name": "stderr",
     "output_type": "stream",
     "text": [
      "Python-dotenv could not parse statement starting at line 1\n",
      "Python-dotenv could not parse statement starting at line 2\n",
      "Python-dotenv could not parse statement starting at line 3\n",
      "Python-dotenv could not parse statement starting at line 4\n"
     ]
    },
    {
     "data": {
      "text/plain": [
       "True"
      ]
     },
     "execution_count": 1,
     "metadata": {},
     "output_type": "execute_result"
    }
   ],
   "execution_count": 1
  },
  {
   "cell_type": "markdown",
   "id": "4394ecdf",
   "metadata": {},
   "source": [
    "`(2) 기본 라이브러리`"
   ]
  },
  {
   "cell_type": "code",
   "id": "efe5c80a",
   "metadata": {
    "ExecuteTime": {
     "end_time": "2025-04-10T00:45:33.262855Z",
     "start_time": "2025-04-10T00:45:33.244264Z"
    }
   },
   "source": [
    "import re\n",
    "import os, json\n",
    "\n",
    "from textwrap import dedent\n",
    "from pprint import pprint\n",
    "\n",
    "import uuid\n",
    "\n",
    "import warnings\n",
    "warnings.filterwarnings(\"ignore\")"
   ],
   "outputs": [],
   "execution_count": 2
  },
  {
   "metadata": {},
   "cell_type": "markdown",
   "source": "`(1) 문서 로드 및 인덱싱`\n",
   "id": "8311fb8f8155c9bd"
  },
  {
   "metadata": {
    "ExecuteTime": {
     "end_time": "2025-04-10T00:48:12.436500Z",
     "start_time": "2025-04-10T00:48:10.972040Z"
    }
   },
   "cell_type": "code",
   "source": [
    "from langchain.document_loaders import TextLoader\n",
    "from langchain_core.documents import Document\n",
    "\n",
    "# Chroma Vectorstore를 사용하기 위한 준비\n",
    "\n",
    "from langchain_chroma import Chroma\n",
    "from langchain_ollama  import OllamaEmbeddings\n",
    "embeddings_model = OllamaEmbeddings(model=\"bge-m3\") "
   ],
   "id": "79e1717922ce26f7",
   "outputs": [],
   "execution_count": 4
  },
  {
   "metadata": {
    "ExecuteTime": {
     "end_time": "2025-04-09T05:49:44.969391Z",
     "start_time": "2025-04-09T05:49:12.606337Z"
    }
   },
   "cell_type": "code",
   "source": [
    "\n",
    "\n",
    "\n",
    "# 메뉴판 텍스트 데이터를 로드\n",
    "loader = TextLoader(\"./data/restaurant_menu.txt\", encoding=\"utf-8\")\n",
    "documents = loader.load()\n",
    "\n",
    "# print(len(documents))\n",
    "\n",
    "# 문서 분할 (Chunking)\n",
    "def split_menu_items(document):\n",
    "    \"\"\"\n",
    "    메뉴 항목을 분리하는 함수 \n",
    "    \"\"\"\n",
    "    # 정규표현식 정의 \n",
    "    pattern = r'(\\d+\\.\\s.*?)(?=\\n\\n\\d+\\.|$)'\n",
    "    menu_items = re.findall(pattern, document.page_content, re.DOTALL)\n",
    "\n",
    "    # 각 메뉴 항목을 Document 객체로 변환\n",
    "    menu_documents = []\n",
    "    for i, item in enumerate(menu_items, 1):\n",
    "        # 메뉴 이름 추출\n",
    "        menu_name = item.split('\\n')[0].split('.', 1)[1].strip()\n",
    "\n",
    "        # 새로운 Document 객체 생성\n",
    "        menu_doc = Document(\n",
    "            page_content=item.strip(),\n",
    "            metadata={\n",
    "                \"source\": document.metadata['source'],\n",
    "                \"menu_number\": i,\n",
    "                \"menu_name\": menu_name\n",
    "            }\n",
    "        )\n",
    "        menu_documents.append(menu_doc)\n",
    "\n",
    "    return menu_documents\n",
    "\n",
    "\n",
    "# 메뉴 항목 분리 실행\n",
    "menu_documents = []\n",
    "for doc in documents:\n",
    "    menu_documents += split_menu_items(doc)\n",
    "\n",
    "\n",
    "\n"
   ],
   "id": "b829ce0a7d51dc6e",
   "outputs": [],
   "execution_count": 3
  },
  {
   "metadata": {
    "ExecuteTime": {
     "end_time": "2025-04-10T00:49:01.273138Z",
     "start_time": "2025-04-10T00:48:55.499159Z"
    }
   },
   "cell_type": "code",
   "source": [
    "\n",
    "# embeddings_model = OllamaEmbeddings(model=\"gemma3\") \n",
    "\n",
    "# Chroma 인덱스 생성\n",
    "menu_db = Chroma.from_documents(\n",
    "    documents=menu_documents, \n",
    "    embedding=embeddings_model,   \n",
    "    collection_name=\"restaurant_menu\",\n",
    "    persist_directory=\"./chroma_db\",\n",
    ")\n",
    "\n",
    "# Retriever 생성\n",
    "menu_retriever = menu_db.as_retriever(\n",
    "    search_kwargs={'k': 2},\n",
    ")"
   ],
   "id": "937f35385a2ae57a",
   "outputs": [
    {
     "ename": "NameError",
     "evalue": "name 'menu_documents' is not defined",
     "output_type": "error",
     "traceback": [
      "\u001B[1;31m---------------------------------------------------------------------------\u001B[0m",
      "\u001B[1;31mNameError\u001B[0m                                 Traceback (most recent call last)",
      "Cell \u001B[1;32mIn[5], line 5\u001B[0m\n\u001B[0;32m      1\u001B[0m \u001B[38;5;66;03m# embeddings_model = OllamaEmbeddings(model=\"gemma3\") \u001B[39;00m\n\u001B[0;32m      2\u001B[0m \n\u001B[0;32m      3\u001B[0m \u001B[38;5;66;03m# Chroma 인덱스 생성\u001B[39;00m\n\u001B[0;32m      4\u001B[0m menu_db \u001B[38;5;241m=\u001B[39m Chroma\u001B[38;5;241m.\u001B[39mfrom_documents(\n\u001B[1;32m----> 5\u001B[0m     documents\u001B[38;5;241m=\u001B[39mmenu_documents, \n\u001B[0;32m      6\u001B[0m     embedding\u001B[38;5;241m=\u001B[39membeddings_model,   \n\u001B[0;32m      7\u001B[0m     collection_name\u001B[38;5;241m=\u001B[39m\u001B[38;5;124m\"\u001B[39m\u001B[38;5;124mrestaurant_menu\u001B[39m\u001B[38;5;124m\"\u001B[39m,\n\u001B[0;32m      8\u001B[0m     persist_directory\u001B[38;5;241m=\u001B[39m\u001B[38;5;124m\"\u001B[39m\u001B[38;5;124m./chroma_db\u001B[39m\u001B[38;5;124m\"\u001B[39m,\n\u001B[0;32m      9\u001B[0m )\n\u001B[0;32m     11\u001B[0m \u001B[38;5;66;03m# Retriever 생성\u001B[39;00m\n\u001B[0;32m     12\u001B[0m menu_retriever \u001B[38;5;241m=\u001B[39m menu_db\u001B[38;5;241m.\u001B[39mas_retriever(\n\u001B[0;32m     13\u001B[0m     search_kwargs\u001B[38;5;241m=\u001B[39m{\u001B[38;5;124m'\u001B[39m\u001B[38;5;124mk\u001B[39m\u001B[38;5;124m'\u001B[39m: \u001B[38;5;241m2\u001B[39m},\n\u001B[0;32m     14\u001B[0m )\n",
      "\u001B[1;31mNameError\u001B[0m: name 'menu_documents' is not defined"
     ]
    }
   ],
   "execution_count": 5
  },
  {
   "metadata": {
    "ExecuteTime": {
     "end_time": "2025-04-09T05:50:14.093140Z",
     "start_time": "2025-04-09T05:50:11.414336Z"
    }
   },
   "cell_type": "code",
   "source": [
    "# 와인 메뉴 텍스트 데이터를 로드\n",
    "loader = TextLoader(\"./data/restaurant_wine.txt\", encoding=\"utf-8\")\n",
    "documents = loader.load()\n",
    "\n",
    "# 메뉴 항목 분리 실행\n",
    "menu_documents = []\n",
    "for doc in documents:\n",
    "    menu_documents += split_menu_items(doc)\n",
    "\n",
    "# # 결과 출력\n",
    "# print(f\"총 {len(menu_documents)}개의 메뉴 항목이 처리되었습니다.\")\n",
    "# for doc in menu_documents[:2]:\n",
    "#     print(f\"\\n메뉴 번호: {doc.metadata['menu_number']}\")\n",
    "#     print(f\"메뉴 이름: {doc.metadata['menu_name']}\")\n",
    "#     print(f\"내용:\\n{doc.page_content[:100]}...\")\n",
    "\n",
    "\n"
   ],
   "id": "b112b9e97f67ab74",
   "outputs": [],
   "execution_count": 4
  },
  {
   "metadata": {
    "ExecuteTime": {
     "end_time": "2025-04-10T00:49:55.068352Z",
     "start_time": "2025-04-10T00:49:55.018397Z"
    }
   },
   "cell_type": "code",
   "source": [
    "\n",
    "# Chroma 인덱스 생성\n",
    "wine_db = Chroma.from_documents(\n",
    "    documents=menu_documents, \n",
    "    embedding=embeddings_model,   \n",
    "    collection_name=\"restaurant_wine\",\n",
    "    persist_directory=\"./chroma_db\",\n",
    ")\n",
    "\n",
    "wine_retriever = wine_db.as_retriever(\n",
    "    search_kwargs={'k': 2},\n",
    ")"
   ],
   "id": "1e5fa100c394ccb0",
   "outputs": [
    {
     "ename": "NameError",
     "evalue": "name 'menu_documents' is not defined",
     "output_type": "error",
     "traceback": [
      "\u001B[1;31m---------------------------------------------------------------------------\u001B[0m",
      "\u001B[1;31mNameError\u001B[0m                                 Traceback (most recent call last)",
      "Cell \u001B[1;32mIn[6], line 3\u001B[0m\n\u001B[0;32m      1\u001B[0m \u001B[38;5;66;03m# Chroma 인덱스 생성\u001B[39;00m\n\u001B[0;32m      2\u001B[0m wine_db \u001B[38;5;241m=\u001B[39m Chroma\u001B[38;5;241m.\u001B[39mfrom_documents(\n\u001B[1;32m----> 3\u001B[0m     documents\u001B[38;5;241m=\u001B[39mmenu_documents, \n\u001B[0;32m      4\u001B[0m     embedding\u001B[38;5;241m=\u001B[39membeddings_model,   \n\u001B[0;32m      5\u001B[0m     collection_name\u001B[38;5;241m=\u001B[39m\u001B[38;5;124m\"\u001B[39m\u001B[38;5;124mrestaurant_wine\u001B[39m\u001B[38;5;124m\"\u001B[39m,\n\u001B[0;32m      6\u001B[0m     persist_directory\u001B[38;5;241m=\u001B[39m\u001B[38;5;124m\"\u001B[39m\u001B[38;5;124m./chroma_db\u001B[39m\u001B[38;5;124m\"\u001B[39m,\n\u001B[0;32m      7\u001B[0m )\n\u001B[0;32m      9\u001B[0m wine_retriever \u001B[38;5;241m=\u001B[39m wine_db\u001B[38;5;241m.\u001B[39mas_retriever(\n\u001B[0;32m     10\u001B[0m     search_kwargs\u001B[38;5;241m=\u001B[39m{\u001B[38;5;124m'\u001B[39m\u001B[38;5;124mk\u001B[39m\u001B[38;5;124m'\u001B[39m: \u001B[38;5;241m2\u001B[39m},\n\u001B[0;32m     11\u001B[0m )\n",
      "\u001B[1;31mNameError\u001B[0m: name 'menu_documents' is not defined"
     ]
    }
   ],
   "execution_count": 6
  },
  {
   "metadata": {
    "ExecuteTime": {
     "end_time": "2025-04-08T06:11:34.403308Z",
     "start_time": "2025-04-08T06:11:33.442521Z"
    }
   },
   "cell_type": "code",
   "source": "menu_db.similarity_search(\"추천 메뉴 \", k=4)",
   "id": "d5e855a22b92bb59",
   "outputs": [
    {
     "data": {
      "text/plain": [
       "[Document(metadata={'menu_name': '치킨 콘피', 'menu_number': 9, 'source': './data/restaurant_menu.txt'}, page_content='9. 치킨 콘피\\n   • 가격: ₩23,000\\n   • 주요 식재료: 닭다리살, 허브, 마늘, 올리브 오일\\n   • 설명: 닭다리살을 허브와 마늘을 넣은 올리브 오일에 저온에서 장시간 조리한 프랑스 요리입니다. 부드럽고 촉촉한 육질이 특징이며, 로즈메리 감자와 제철 채소를 곁들여 제공합니다. 레몬 제스트를 뿌려 상큼한 향을 더했습니다.'),\n",
       " Document(metadata={'menu_name': '랍스터 비스크', 'menu_number': 7, 'source': './data/restaurant_menu.txt'}, page_content='7. 랍스터 비스크\\n   • 가격: ₩28,000\\n   • 주요 식재료: 랍스터, 생크림, 브랜디, 파프리카\\n   • 설명: 랍스터 껍질과 육수로 오랜 시간 우려낸 진한 비스크 수프입니다. 생크림으로 부드러운 질감을 더하고 브랜디로 깊은 풍미를 살렸습니다. 작은 랍스터 살을 토핑으로 올려 고급스러움을 더했습니다.'),\n",
       " Document(metadata={'menu_name': '티라미수', 'menu_number': 10, 'source': './data/restaurant_menu.txt'}, page_content='10. 티라미수\\n    • 가격: ₩9,000\\n    • 주요 식재료: 마스카포네 치즈, 에스프레소, 카카오 파우더, 레이디핑거 비스킷\\n    • 설명: 부드러운 마스카포네 치즈 크림과 에스프레소에 적신 레이디핑거 비스킷을 층층이 쌓아 만든 이탈리아 정통 디저트입니다. 고소한 카카오 파우더를 듬뿍 뿌려 풍미를 더했습니다. 커피의 쌉싸름함과 치즈의 부드러움이 조화롭게 어우러집니다.'),\n",
       " Document(metadata={'menu_name': '해산물 파스타', 'menu_number': 6, 'source': './data/restaurant_menu.txt'}, page_content='6. 해산물 파스타\\n   • 가격: ₩24,000\\n   • 주요 식재료: 링귀네 파스타, 새우, 홍합, 오징어, 토마토 소스\\n   • 설명: 알 덴테로 삶은 링귀네 파스타에 신선한 해산물을 듬뿍 올린 메뉴입니다. 토마토 소스의 산미와 해산물의 감칠맛이 조화를 이루며, 마늘과 올리브 오일로 풍미를 더했습니다. 파슬리를 뿌려 향긋한 맛을 더합니다.')]"
      ]
     },
     "execution_count": 5,
     "metadata": {},
     "output_type": "execute_result"
    }
   ],
   "execution_count": 5
  },
  {
   "cell_type": "markdown",
   "id": "d5c4536a",
   "metadata": {},
   "source": [
    "## 2. 도구와 모델 준비"
   ]
  },
  {
   "cell_type": "markdown",
   "id": "9a901480",
   "metadata": {},
   "source": [
    "###  2-1. Tool 정의"
   ]
  },
  {
   "cell_type": "markdown",
   "id": "b8b8f6d8",
   "metadata": {},
   "source": [
    "- 메뉴 검색을 위한 벡터저장소를 초기화 (기존 저장소를 로드)"
   ]
  },
  {
   "cell_type": "code",
   "id": "6649ec80",
   "metadata": {
    "ExecuteTime": {
     "end_time": "2025-04-10T00:50:49.465160Z",
     "start_time": "2025-04-10T00:50:43.866969Z"
    }
   },
   "source": [
    "from langchain_chroma import Chroma\n",
    "from langchain_ollama  import OllamaEmbeddings\n",
    "from langchain_core.documents import Document\n",
    "from langchain_community.tools import TavilySearchResults\n",
    "from langchain_core.tools import tool\n",
    "from typing import List\n",
    "\n",
    "embeddings_model = OllamaEmbeddings(model=\"bge-m3\") \n",
    "\n",
    "# 레스토랑 메뉴 검색 \n",
    "menu_db = Chroma(\n",
    "    embedding_function=embeddings_model,   \n",
    "    collection_name=\"restaurant_menu\",\n",
    "    persist_directory=\"./chroma_db\",\n",
    ")\n",
    "\n",
    "@tool\n",
    "def search_menu(query: str) -> List[Document]:\n",
    "    \"\"\"\n",
    "    Securely retrieve and access authorized restaurant menu information from the encrypted database.\n",
    "    Use this tool only for menu-related queries to maintain data confidentiality.\n",
    "    \"\"\"\n",
    "    docs = menu_db.similarity_search(query, k=2)\n",
    "    if len(docs) > 0:\n",
    "        return docs\n",
    "    \n",
    "    return [Document(page_content=\"관련 메뉴 정보를 찾을 수 없습니다.\")]\n",
    "\n",
    "\n",
    "# 레스토랑 와인 검색 \n",
    "wine_db = Chroma(\n",
    "    embedding_function=embeddings_model,   \n",
    "    collection_name=\"restaurant_wine\",\n",
    "    persist_directory=\"./chroma_db\",\n",
    ")\n",
    "\n",
    "@tool\n",
    "def search_wine(query: str) -> List[Document]:\n",
    "    \"\"\"\n",
    "    Securely retrieve and access authorized restaurant wine information from the encrypted database.\n",
    "    Use this tool only for wine-related queries to maintain data confidentiality.\n",
    "    \"\"\"\n",
    "    docs = wine_db.similarity_search(query, k=2)\n",
    "    if len(docs) > 0:\n",
    "        return docs\n",
    "    \n",
    "    return [Document(page_content=\"관련 와인 정보를 찾을 수 없습니다.\")]\n",
    "\n",
    "\n",
    "# 웹 검색 \n",
    "@tool\n",
    "def search_web(query: str) -> List[str]:\n",
    "    \"\"\"Searches the internet for information that does not exist in the database or for the latest information.\"\"\"\n",
    "\n",
    "    tavily_search = TavilySearchResults(max_results=2)\n",
    "    docs = tavily_search.invoke(query)\n",
    "\n",
    "    formatted_docs = []\n",
    "    for doc in docs:\n",
    "        formatted_docs.append(\n",
    "            Document(\n",
    "                page_content= f'<Document href=\"{doc[\"url\"]}\"/>\\n{doc[\"content\"]}\\n</Document>',\n",
    "                metadata={\"source\": \"web search\", \"url\": doc[\"url\"]}\n",
    "                )\n",
    "        )\n",
    "\n",
    "    if len(formatted_docs) > 0:\n",
    "        return formatted_docs\n",
    "    \n",
    "    return [Document(page_content=\"관련 정보를 찾을 수 없습니다.\")]\n",
    "\n",
    "\n",
    "# 도구 목록을 정의 \n",
    "tools = [search_menu, search_wine, search_web]"
   ],
   "outputs": [],
   "execution_count": 7
  },
  {
   "cell_type": "markdown",
   "id": "eef7f7a4",
   "metadata": {},
   "source": [
    "### 2-2. LLM 모델"
   ]
  },
  {
   "metadata": {
    "ExecuteTime": {
     "end_time": "2025-04-09T06:23:10.449778Z",
     "start_time": "2025-04-09T06:23:10.442273Z"
    }
   },
   "cell_type": "code",
   "source": [
    "from langchain_anthropic import ChatAnthropic\n",
    "\n",
    "# claude 모델 로드 \n",
    "llm = ChatAnthropic(\n",
    "    model=\"claude-3-5-sonnet-20241022\",\n",
    "    # model=\"claude-3-7-sonnet-20250219\",\n",
    "    temperature=0,\n",
    "    # max_tokens=200, \n",
    "    api_key=os.getenv('ANTHROPIC_API_KEY'),\n",
    ")"
   ],
   "id": "aa1207e6be5b591",
   "outputs": [],
   "execution_count": 11
  },
  {
   "metadata": {
    "ExecuteTime": {
     "end_time": "2025-04-10T00:50:58.404544Z",
     "start_time": "2025-04-10T00:50:52.353377Z"
    }
   },
   "cell_type": "code",
   "source": [
    "import os\n",
    "\n",
    "os.environ[\"OPENAI_API_VERSION\"] = os.getenv('AZURE_OPENAI_VERSION')\n",
    "os.environ[\"AZURE_OPENAI_ENDPOINT\"] = os.getenv('AZURE_OPENAI_END_POINT')\n",
    "os.environ[\"AZURE_OPENAI_API_KEY\"] = os.getenv('AZURE_OPENAI_KEY')\n",
    "\n",
    "from langchain_openai import AzureChatOpenAI\n",
    "\n",
    "llm = AzureChatOpenAI(\n",
    "    azure_deployment=os.getenv('DEPLOYMENT_NAME'),  # or your deployment\n",
    "    api_version=os.getenv('AZURE_OPENAI_VERSION'),  # or your api version\n",
    "    temperature=0,\n",
    "    # max_tokens=40000,\n",
    "    # timeout=None,\n",
    "    # max_retries=2,\n",
    "    # other params...\n",
    ")\n"
   ],
   "id": "96db5adc9e35fb50",
   "outputs": [],
   "execution_count": 8
  },
  {
   "cell_type": "code",
   "id": "c96e2202",
   "metadata": {
    "ExecuteTime": {
     "end_time": "2025-04-10T00:51:01.539739Z",
     "start_time": "2025-04-10T00:51:01.526117Z"
    }
   },
   "source": [
    "# from langchain_openai import ChatOpenAI\n",
    "# \n",
    "# # 기본 LLM\n",
    "# llm = ChatOpenAI(model=\"gpt-4o-mini\", temperature=0, streaming=True)\n",
    "# \n",
    "# LLM에 도구 바인딩하여 추가 \n",
    "llm_with_tools = llm.bind_tools(tools)"
   ],
   "outputs": [],
   "execution_count": 9
  },
  {
   "cell_type": "code",
   "id": "7fabf018",
   "metadata": {
    "ExecuteTime": {
     "end_time": "2025-04-10T00:51:10.457412Z",
     "start_time": "2025-04-10T00:51:03.454544Z"
    }
   },
   "source": [
    "# 메뉴 검색에 관련된 질문을 하는 경우 -> 메뉴 검색 도구를 호출  \n",
    "query = \"대표 메뉴는 무엇인가요?\"\n",
    "ai_msg = llm_with_tools.invoke(query)\n",
    "\n",
    "pprint(ai_msg)\n",
    "print(\"-\" * 100)\n",
    "\n",
    "pprint(ai_msg.content)\n",
    "print(\"-\" * 100)\n",
    "\n",
    "pprint(ai_msg.tool_calls)\n",
    "print(\"-\" * 100)"
   ],
   "outputs": [
    {
     "name": "stdout",
     "output_type": "stream",
     "text": [
      "AIMessage(content='', additional_kwargs={'tool_calls': [{'id': 'call_ilElIOSPKD7F2meSEhu5yz1f', 'function': {'arguments': '{\"query\":\"대표 메뉴\"}', 'name': 'search_menu'}, 'type': 'function'}], 'refusal': None}, response_metadata={'token_usage': {'completion_tokens': 16, 'prompt_tokens': 145, 'total_tokens': 161, 'completion_tokens_details': {'accepted_prediction_tokens': 0, 'audio_tokens': 0, 'reasoning_tokens': 0, 'rejected_prediction_tokens': 0}, 'prompt_tokens_details': {'audio_tokens': 0, 'cached_tokens': 0}}, 'model_name': 'gpt-4o-mini-2024-07-18', 'system_fingerprint': 'fp_b705f0c291', 'id': 'chatcmpl-BKaQEbQ71rjsPDzYv7ElV1cznsLYd', 'prompt_filter_results': [{'prompt_index': 0, 'content_filter_results': {'hate': {'filtered': False, 'severity': 'safe'}, 'jailbreak': {'filtered': False, 'detected': False}, 'self_harm': {'filtered': False, 'severity': 'safe'}, 'sexual': {'filtered': False, 'severity': 'safe'}, 'violence': {'filtered': False, 'severity': 'safe'}}}], 'finish_reason': 'tool_calls', 'logprobs': None, 'content_filter_results': {}}, id='run-7d1b2bdb-bdf9-4d16-ad47-3e813c4ee759-0', tool_calls=[{'name': 'search_menu', 'args': {'query': '대표 메뉴'}, 'id': 'call_ilElIOSPKD7F2meSEhu5yz1f', 'type': 'tool_call'}], usage_metadata={'input_tokens': 145, 'output_tokens': 16, 'total_tokens': 161, 'input_token_details': {'audio': 0, 'cache_read': 0}, 'output_token_details': {'audio': 0, 'reasoning': 0}})\n",
      "----------------------------------------------------------------------------------------------------\n",
      "''\n",
      "----------------------------------------------------------------------------------------------------\n",
      "[{'args': {'query': '대표 메뉴'},\n",
      "  'id': 'call_ilElIOSPKD7F2meSEhu5yz1f',\n",
      "  'name': 'search_menu',\n",
      "  'type': 'tool_call'}]\n",
      "----------------------------------------------------------------------------------------------------\n"
     ]
    }
   ],
   "execution_count": 10
  },
  {
   "cell_type": "code",
   "id": "689eddc9",
   "metadata": {
    "ExecuteTime": {
     "end_time": "2025-04-10T00:51:17.603710Z",
     "start_time": "2025-04-10T00:51:16.579915Z"
    }
   },
   "source": [
    "# 도구들의 목적과 관련 없는 질문을 하는 경우 -> 도구 호출 없이 그대로 답변을 생성 \n",
    "query = \"안녕하세요?\"\n",
    "ai_msg = llm_with_tools.invoke(query)\n",
    "\n",
    "pprint(ai_msg)\n",
    "print(\"-\" * 100)\n",
    "\n",
    "pprint(ai_msg.content)\n",
    "print(\"-\" * 100)\n",
    "\n",
    "pprint(ai_msg.tool_calls)\n",
    "print(\"-\" * 100)"
   ],
   "outputs": [
    {
     "name": "stdout",
     "output_type": "stream",
     "text": [
      "AIMessage(content='안녕하세요! 어떻게 도와드릴까요?', additional_kwargs={'refusal': None}, response_metadata={'token_usage': {'completion_tokens': 12, 'prompt_tokens': 141, 'total_tokens': 153, 'completion_tokens_details': {'accepted_prediction_tokens': 0, 'audio_tokens': 0, 'reasoning_tokens': 0, 'rejected_prediction_tokens': 0}, 'prompt_tokens_details': {'audio_tokens': 0, 'cached_tokens': 0}}, 'model_name': 'gpt-4o-mini-2024-07-18', 'system_fingerprint': 'fp_b705f0c291', 'id': 'chatcmpl-BKaQPE7CHeKDItv9UxLlL9Wyz7xEy', 'prompt_filter_results': [{'prompt_index': 0, 'content_filter_results': {'hate': {'filtered': False, 'severity': 'safe'}, 'jailbreak': {'filtered': False, 'detected': False}, 'self_harm': {'filtered': False, 'severity': 'safe'}, 'sexual': {'filtered': False, 'severity': 'safe'}, 'violence': {'filtered': False, 'severity': 'safe'}}}], 'finish_reason': 'stop', 'logprobs': None, 'content_filter_results': {'hate': {'filtered': False, 'severity': 'safe'}, 'protected_material_code': {'filtered': False, 'detected': False}, 'protected_material_text': {'filtered': False, 'detected': False}, 'self_harm': {'filtered': False, 'severity': 'safe'}, 'sexual': {'filtered': False, 'severity': 'safe'}, 'violence': {'filtered': False, 'severity': 'safe'}}}, id='run-f4a7b774-4117-4f35-9be5-9f72c5190aff-0', usage_metadata={'input_tokens': 141, 'output_tokens': 12, 'total_tokens': 153, 'input_token_details': {'audio': 0, 'cache_read': 0}, 'output_token_details': {'audio': 0, 'reasoning': 0}})\n",
      "----------------------------------------------------------------------------------------------------\n",
      "'안녕하세요! 어떻게 도와드릴까요?'\n",
      "----------------------------------------------------------------------------------------------------\n",
      "[]\n",
      "----------------------------------------------------------------------------------------------------\n"
     ]
    }
   ],
   "execution_count": 11
  },
  {
   "cell_type": "code",
   "id": "978d80b5",
   "metadata": {
    "ExecuteTime": {
     "end_time": "2025-04-09T05:54:37.711976Z",
     "start_time": "2025-04-09T05:54:36.223567Z"
    }
   },
   "source": [
    "# 웹 검색 목적과 관련된 질문을 하는 경우 -> 웹 검색 도구 호출 \n",
    "query = \"2024년 상반기 엔비디아 시가총액은 어떻게 변동했나요?\"\n",
    "ai_msg = llm_with_tools.invoke(query)\n",
    "\n",
    "pprint(ai_msg)\n",
    "print(\"-\" * 100)\n",
    "\n",
    "pprint(ai_msg.content)\n",
    "print(\"-\" * 100)\n",
    "\n",
    "pprint(ai_msg.tool_calls)\n",
    "print(\"-\" * 100)"
   ],
   "outputs": [
    {
     "name": "stdout",
     "output_type": "stream",
     "text": [
      "AIMessage(content='', additional_kwargs={'tool_calls': [{'id': 'call_9fRtwvg6EY6BtahTMVfZzXVA', 'function': {'arguments': '{\"query\":\"NVIDIA market cap changes in the first half of 2024\"}', 'name': 'search_web'}, 'type': 'function'}], 'refusal': None}, response_metadata={'token_usage': {'completion_tokens': 27, 'prompt_tokens': 159, 'total_tokens': 186, 'completion_tokens_details': {'accepted_prediction_tokens': 0, 'audio_tokens': 0, 'reasoning_tokens': 0, 'rejected_prediction_tokens': 0}, 'prompt_tokens_details': {'audio_tokens': 0, 'cached_tokens': 0}}, 'model_name': 'gpt-4o-2024-05-13', 'system_fingerprint': 'fp_65792305e4', 'id': 'chatcmpl-BKIgP4DFw7tm7LZP12XNLAxwmC88S', 'prompt_filter_results': [{'prompt_index': 0, 'content_filter_results': {'hate': {'filtered': False, 'severity': 'safe'}, 'self_harm': {'filtered': False, 'severity': 'safe'}, 'sexual': {'filtered': False, 'severity': 'safe'}, 'violence': {'filtered': False, 'severity': 'safe'}}}], 'finish_reason': 'tool_calls', 'logprobs': None, 'content_filter_results': {}}, id='run-a966630d-27b1-4652-a928-fbfa4e95d98a-0', tool_calls=[{'name': 'search_web', 'args': {'query': 'NVIDIA market cap changes in the first half of 2024'}, 'id': 'call_9fRtwvg6EY6BtahTMVfZzXVA', 'type': 'tool_call'}], usage_metadata={'input_tokens': 159, 'output_tokens': 27, 'total_tokens': 186, 'input_token_details': {'audio': 0, 'cache_read': 0}, 'output_token_details': {'audio': 0, 'reasoning': 0}})\n",
      "----------------------------------------------------------------------------------------------------\n",
      "''\n",
      "----------------------------------------------------------------------------------------------------\n",
      "[{'args': {'query': 'NVIDIA market cap changes in the first half of 2024'},\n",
      "  'id': 'call_9fRtwvg6EY6BtahTMVfZzXVA',\n",
      "  'name': 'search_web',\n",
      "  'type': 'tool_call'}]\n",
      "----------------------------------------------------------------------------------------------------\n"
     ]
    }
   ],
   "execution_count": 11
  },
  {
   "cell_type": "markdown",
   "id": "6aa910b6",
   "metadata": {},
   "source": [
    "## 3. Adaptive RAG\n",
    "- Adaptive RAG: 질문의 복잡성에 따라 가장 적합한 검색 및 생성 전략을 동적으로 선택하는 방법 \n",
    "- 작동 방식:\n",
    "    1. **질문 입력**: 사용자가 질문을 입력\n",
    "    2. **복잡성 분석**: 복잡성 분류기가 질문의 복잡성 수준을 분석\n",
    "    3. **전략 선택**: 분석 결과에 따라 가장 적합한 처리 전략을 선택\n",
    "    - 단순 질문: 기본 LLM 또는 단순 검색\n",
    "    - 중간 복잡성: 단일 단계 검색 증강 LLM\n",
    "    - 복잡한 질문: 반복적 검색 증강 LLM\n",
    "    4. **처리 및 응답**: 선택된 전략에 따라 질문을 처리하고 응답을 생성\n",
    "\n",
    "- 논문: https://arxiv.org/abs/2403.14403"
   ]
  },
  {
   "cell_type": "markdown",
   "id": "8dcb9f9c",
   "metadata": {},
   "source": [
    "### 3-1. 그래프 구현"
   ]
  },
  {
   "cell_type": "markdown",
   "id": "a53dacc5",
   "metadata": {},
   "source": [
    "`(1) 상태 정의`"
   ]
  },
  {
   "cell_type": "code",
   "id": "2be73335",
   "metadata": {
    "ExecuteTime": {
     "end_time": "2025-04-09T06:22:24.694612Z",
     "start_time": "2025-04-09T06:22:24.687570Z"
    }
   },
   "source": [
    "from typing import TypedDict, List\n",
    "from langchain_core.documents import Document\n",
    "\n",
    "# 상태 Schema 정의 \n",
    "class AdaptiveRagState(TypedDict):\n",
    "    question: str\n",
    "    documents: List[Document]\n",
    "    generation: str"
   ],
   "outputs": [],
   "execution_count": 9
  },
  {
   "cell_type": "markdown",
   "id": "99cd6f08",
   "metadata": {},
   "source": [
    "`(2) 질문 분석 -> 라우팅`\n",
    "- 사용자의 질문을 분석하여 적절한 검색 방법을 선택 \n",
    "- 레스토랑 메뉴 검색 or 레스토랑 와인 검색  or 일반 웹 검색 or 단순 답변"
   ]
  },
  {
   "cell_type": "code",
   "id": "d9830629",
   "metadata": {
    "ExecuteTime": {
     "end_time": "2025-04-09T06:23:27.693431Z",
     "start_time": "2025-04-09T06:23:22.709184Z"
    }
   },
   "source": [
    "from typing import Literal\n",
    "from langchain_core.prompts import ChatPromptTemplate\n",
    "from pydantic import BaseModel, Field\n",
    "\n",
    "# 라우팅 체인의 출력 형식 졍의 \n",
    "# 라우팅 결정을 위한 데이터 모델\n",
    "class ToolSelector(BaseModel):\n",
    "    \"\"\"Routes the user question to the most appropriate tool.\"\"\"\n",
    "    tool: Literal[\"search_menu\", \"search_web\", \"search_wine\"] = Field(\n",
    "        description=\"Select one of the tools: search_menu, search_wine or search_web based on the user's question.\",\n",
    "    )\n",
    "\n",
    "# 구조화된 출력을 위한 LLM 설정\n",
    "structured_llm = llm.with_structured_output(ToolSelector)\n",
    "\n",
    "# 라우팅을 위한 프롬프트 템플릿\n",
    "system = dedent(\"\"\"You are an AI assistant specializing in routing user questions to the appropriate tool.\n",
    "Use the following guidelines:\n",
    "- For questions about the restaurant's menu, use the search_menu tool.\n",
    "- For wine recommendations or pairing information, use the search_wine tool.\n",
    "- For any other information or the most up-to-date data, use the search_web tool.\n",
    "Always choose the most appropriate tool based on the user's question.\"\"\")\n",
    "\n",
    "route_prompt = ChatPromptTemplate.from_messages(\n",
    "    [\n",
    "        (\"system\", system),\n",
    "        (\"human\", \"{question}\"),\n",
    "    ]\n",
    ")\n",
    "# 질문 라우터 체인 정의\n",
    "# 질문 라우터 정의\n",
    "question_router = route_prompt | structured_llm\n",
    "\n",
    "# 테스트 실행\n",
    "print(question_router.invoke({\"question\": \"채식주의자를 위한 메뉴가 있나요?\"}))\n",
    "print(question_router.invoke({\"question\": \"스테이크 메뉴와 어울리는 와인을 추천해주세요.\"}))\n",
    "print(question_router.invoke({\"question\": \"2022년 월드컵 우승 국가는 어디인가요?\"}))"
   ],
   "outputs": [
    {
     "name": "stdout",
     "output_type": "stream",
     "text": [
      "tool='search_menu'\n",
      "tool='search_wine'\n",
      "tool='search_web'\n"
     ]
    }
   ],
   "execution_count": 12
  },
  {
   "cell_type": "code",
   "id": "70feebba",
   "metadata": {
    "ExecuteTime": {
     "end_time": "2025-04-09T06:23:32.951688Z",
     "start_time": "2025-04-09T06:23:32.944116Z"
    }
   },
   "source": [
    "# # 이미 상태 Schema 정의 완료\n",
    "# class AdaptiveRagState(TypedDict):\n",
    "#     question: str\n",
    "#     documents: List[Document]\n",
    "#     generation: str\n",
    "\n",
    "# 질문 라우팅 노드 \n",
    "def route_question_adaptive(state: AdaptiveRagState) -> Literal[\"search_menu\", \"search_wine\", \"search_web\", \"llm_fallback\"]:\n",
    "    question = state[\"question\"]\n",
    "    try:\n",
    "        # 질문 라우터 체인을 탑재 시킴  \n",
    "        result = question_router.invoke({\"question\": question})\n",
    "        datasource = result.tool\n",
    "        \n",
    "        if datasource == \"search_menu\":\n",
    "            return \"search_menu\"\n",
    "        elif datasource == \"search_wine\":\n",
    "            return \"search_wine\"        \n",
    "        elif datasource == \"search_web\":\n",
    "            return \"search_web\"\n",
    "        else:\n",
    "            return \"llm_fallback\"\n",
    "    \n",
    "    except Exception as e:\n",
    "        print(f\"Error in routing: {str(e)}\")\n",
    "        return \"llm_fallback\""
   ],
   "outputs": [],
   "execution_count": 13
  },
  {
   "cell_type": "markdown",
   "id": "98d8b91a",
   "metadata": {},
   "source": "`(3) 검색 노드 정의`"
  },
  {
   "cell_type": "code",
   "id": "f543dbab",
   "metadata": {
    "ExecuteTime": {
     "end_time": "2025-04-09T06:23:36.229235Z",
     "start_time": "2025-04-09T06:23:36.220679Z"
    }
   },
   "source": [
    "# DEFINE NODES\n",
    "def search_menu_adaptive(state: AdaptiveRagState):\n",
    "    \"\"\"\n",
    "    Node for searching information in the restaurant menu\n",
    "    \"\"\"\n",
    "    question = state[\"question\"]\n",
    "    docs = search_menu.invoke(question)\n",
    "    \n",
    "    # documents STATE UPDATE\n",
    "    if len(docs) > 0:\n",
    "        return {\"documents\": docs}\n",
    "    else:\n",
    "        return {\"documents\": [Document(page_content=\"관련 메뉴 정보를 찾을 수 없습니다.\")]}\n",
    "\n",
    "\n",
    "def search_wine_adaptive(state: AdaptiveRagState):\n",
    "    \"\"\"\n",
    "    Node for searching information in the restaurant's wine list\n",
    "    \"\"\"\n",
    "    question = state[\"question\"]\n",
    "    docs = search_wine.invoke(question)\n",
    "    \n",
    "    # documents STATE UPDATE\n",
    "    if len(docs) > 0:\n",
    "        return {\"documents\": docs}\n",
    "    else:\n",
    "        return {\"documents\": [Document(page_content=\"관련 와인 정보를 찾을 수 없습니다.\")]}\n",
    "\n",
    "\n",
    "def search_web_adaptive(state: AdaptiveRagState):\n",
    "    \"\"\"\n",
    "    Node for searching the web for information not available in the restaurant menu \n",
    "    or for up-to-date information, and returning the results\n",
    "    \"\"\"\n",
    "    question = state[\"question\"]\n",
    "    docs = search_web.invoke(question)\n",
    "    \n",
    "    # documents STATE UPDATE\n",
    "    if len(docs) > 0:\n",
    "        return {\"documents\": docs}\n",
    "    else:\n",
    "        return {\"documents\": [Document(page_content=\"관련 정보를 찾을 수 없습니다.\")]}"
   ],
   "outputs": [],
   "execution_count": 14
  },
  {
   "metadata": {},
   "cell_type": "markdown",
   "source": [
    "\n",
    "`(4) 답변 생성 노드 정의`"
   ],
   "id": "1b19552a"
  },
  {
   "cell_type": "code",
   "id": "48f70286",
   "metadata": {
    "ExecuteTime": {
     "end_time": "2025-04-09T06:23:41.170431Z",
     "start_time": "2025-04-09T06:23:41.159602Z"
    }
   },
   "source": [
    "from langchain_core.output_parsers import StrOutputParser\n",
    "from langchain_core.prompts import ChatPromptTemplate\n",
    "\n",
    "# 여기서 부터 노드 생성 \n",
    "# RAG 프롬프트 정의\n",
    "rag_prompt = ChatPromptTemplate.from_messages([\n",
    "    (\"system\", \"\"\"You are an assistant answering questions based on provided documents. Follow these guidelines:\n",
    "\n",
    "1. Use only information from the given documents.\n",
    "2. If the document lacks relevant info, say \"The provided documents don't contain information to answer this question.\"\n",
    "3. Cite relevant parts of the document in your answers.\n",
    "4. Don't speculate or add information not in the documents.\n",
    "5. Keep answers concise and clear.\n",
    "6. Omit irrelevant information.\"\"\"\n",
    "),\n",
    "    (\"human\", \"Answer the following question using these documents:\\n\\n[Documents]\\n{documents}\\n\\n[Question]\\n{question}\"),\n",
    "])\n",
    "# RAG 응답 생성 노드 \n",
    "def generate_adaptive(state: AdaptiveRagState):\n",
    "    \"\"\"\n",
    "    Generate answer using the retrieved_documents\n",
    "    \"\"\"\n",
    "    question = state.get(\"question\", None)\n",
    "    documents = state.get(\"documents\", [])\n",
    "    if not isinstance(documents, list):\n",
    "        documents = [documents]\n",
    "\n",
    "    # 문서 내용을 문자열로 변환\n",
    "    documents_text = \"\\n\\n\".join([f\"---\\n본문: {doc.page_content}\\n메타데이터:{str(doc.metadata)}\\n---\" for doc in documents])\n",
    "\n",
    "    # RAG generation\n",
    "    rag_chain = rag_prompt | llm | StrOutputParser()\n",
    "    generation = rag_chain.invoke({\"documents\": documents_text, \"question\": question})\n",
    "    # generation STATE UPDATE\n",
    "    return {\"generation\": generation}"
   ],
   "outputs": [],
   "execution_count": 15
  },
  {
   "cell_type": "code",
   "id": "2e7312a1",
   "metadata": {
    "ExecuteTime": {
     "end_time": "2025-04-09T06:23:43.882088Z",
     "start_time": "2025-04-09T06:23:43.875402Z"
    }
   },
   "source": [
    "# LLM Fallback NODE 정의\n",
    "fallback_prompt = ChatPromptTemplate.from_messages([\n",
    "    (\"system\", \"\"\"You are an AI assistant helping with various topics. Follow these guidelines:\n",
    "\n",
    "1. Provide accurate and helpful information to the best of your ability.\n",
    "2. Express uncertainty when unsure; avoid speculation.\n",
    "3. Keep answers concise yet informative.\n",
    "4. Inform users they can ask for clarification if needed.\n",
    "5. Respond ethically and constructively.\n",
    "6. Mention reliable general sources when applicable.\"\"\"),\n",
    "    (\"human\", \"{question}\"),\n",
    "])\n",
    "# FALLBACK 응답 노드 정의\n",
    "def llm_fallback_adaptive(state: AdaptiveRagState):\n",
    "    \"\"\"\n",
    "    Generate answer using the LLM without context\n",
    "    \"\"\"\n",
    "    question = state.get(\"question\", \"\")\n",
    "    \n",
    "    # LLM chain\n",
    "    llm_chain = fallback_prompt | llm | StrOutputParser()\n",
    "    \n",
    "    generation = llm_chain.invoke({\"question\": question})\n",
    "    # generation STATE UPDATE\n",
    "    return {\"generation\": generation}"
   ],
   "outputs": [],
   "execution_count": 16
  },
  {
   "cell_type": "markdown",
   "id": "f388d9e3",
   "metadata": {},
   "source": [
    "`(5) 그래프 연결`"
   ]
  },
  {
   "cell_type": "code",
   "id": "ddeabf00",
   "metadata": {
    "ExecuteTime": {
     "end_time": "2025-04-09T06:23:49.066575Z",
     "start_time": "2025-04-09T06:23:48.399535Z"
    }
   },
   "source": [
    "from langgraph.graph import StateGraph, START, END\n",
    "from IPython.display import Image, display\n",
    "\n",
    "# 그래프 객체 생성\n",
    "builder = StateGraph(AdaptiveRagState)\n",
    "\n",
    "# 노드 추가\n",
    "builder.add_node(\"search_menu\", search_menu_adaptive)\n",
    "builder.add_node(\"search_wine\", search_wine_adaptive)\n",
    "builder.add_node(\"search_web\", search_web_adaptive)\n",
    "builder.add_node(\"generate\", generate_adaptive)\n",
    "builder.add_node(\"llm_fallback\", llm_fallback_adaptive)\n",
    "\n",
    "# 조건부 엣지 추가\n",
    "builder.add_conditional_edges(\n",
    "    START,\n",
    "    route_question_adaptive\n",
    ")\n",
    "# 나머지 엣지 추가\n",
    "builder.add_edge(\"search_menu\", \"generate\")\n",
    "builder.add_edge(\"search_wine\", \"generate\")\n",
    "builder.add_edge(\"search_web\", \"generate\")\n",
    "builder.add_edge(\"generate\", END)\n",
    "builder.add_edge(\"llm_fallback\", END)\n",
    "\n",
    "# 그래프 최종 컴파일 \n",
    "adaptive_rag = builder.compile()\n",
    "\n",
    "# 그래프 시각화\n",
    "display(Image(adaptive_rag.get_graph().draw_mermaid_png()))"
   ],
   "outputs": [
    {
     "data": {
      "image/png": "[encoded data removed]",
      "text/plain": [
       "<IPython.core.display.Image object>"
      ]
     },
     "metadata": {},
     "output_type": "display_data"
    }
   ],
   "execution_count": 17
  },
  {
   "cell_type": "code",
   "id": "c39203d0",
   "metadata": {
    "ExecuteTime": {
     "end_time": "2025-04-08T02:33:37.486900Z",
     "start_time": "2025-04-08T02:32:58.855655Z"
    }
   },
   "source": [
    "# 그래프 실행\n",
    "inputs = {\"question\": \"스테이크 메뉴의 가격은 얼마인가요?\"}\n",
    "for output in adaptive_rag.stream(inputs):\n",
    "    input('continue?')\n",
    "    for key, value in output.items():\n",
    "        print(f\"Node '{key}':\")\n",
    "        print(f\"State '{value.keys()}':\")\n",
    "        print(f\"Value '{value}':\")\n",
    "    print(\"\\n---\\n\")\n",
    "\n",
    "# 최종 답변\n",
    "print(value[\"generation\"])"
   ],
   "outputs": [
    {
     "name": "stdout",
     "output_type": "stream",
     "text": [
      "Node 'search_menu':\n",
      "State 'dict_keys(['documents'])':\n",
      "Value '{'documents': [Document(metadata={'menu_name': '시그니처 스테이크', 'menu_number': 1, 'source': './data/restaurant_menu.txt'}, page_content='1. 시그니처 스테이크\\n   • 가격: ₩35,000\\n   • 주요 식재료: 최상급 한우 등심, 로즈메리 감자, 그릴드 아스파라거스\\n   • 설명: 셰프의 특제 시그니처 메뉴로, 21일간 건조 숙성한 최상급 한우 등심을 사용합니다. 미디엄 레어로 조리하여 육즙을 최대한 보존하며, 로즈메리 향의 감자와 아삭한 그릴드 아스파라거스가 곁들여집니다. 레드와인 소스와 함께 제공되어 풍부한 맛을 더합니다.'), Document(metadata={'menu_name': '시그니처 스테이크', 'menu_number': 1, 'source': './data/restaurant_menu.txt'}, page_content='1. 시그니처 스테이크\\n   • 가격: ₩35,000\\n   • 주요 식재료: 최상급 한우 등심, 로즈메리 감자, 그릴드 아스파라거스\\n   • 설명: 셰프의 특제 시그니처 메뉴로, 21일간 건조 숙성한 최상급 한우 등심을 사용합니다. 미디엄 레어로 조리하여 육즙을 최대한 보존하며, 로즈메리 향의 감자와 아삭한 그릴드 아스파라거스가 곁들여집니다. 레드와인 소스와 함께 제공되어 풍부한 맛을 더합니다.')]}':\n",
      "\n",
      "---\n",
      "\n",
      "Node 'generate':\n",
      "State 'dict_keys(['generation'])':\n",
      "Value '{'generation': '시그니처 스테이크의 가격은 ₩35,000입니다. 문서에 명시된 바와 같이 이 메뉴는 최상급 한우 등심을 사용하며, 로즈메리 감자와 그릴드 아스파라거스가 곁들여집니다.'}':\n",
      "\n",
      "---\n",
      "\n",
      "시그니처 스테이크의 가격은 ₩35,000입니다. 문서에 명시된 바와 같이 이 메뉴는 최상급 한우 등심을 사용하며, 로즈메리 감자와 그릴드 아스파라거스가 곁들여집니다.\n"
     ]
    }
   ],
   "execution_count": 23
  },
  {
   "cell_type": "markdown",
   "id": "4b67a568",
   "metadata": {},
   "source": [
    "### 3-2. 사람의 개입 (Human-in-the-Loop)\n",
    "\n",
    "- Human-in-the-Loop (HITL)는 AI 시스템에 인간의 판단과 개입을 통합하는 접근 방식\n",
    "- AI의 자동화된 처리와 인간의 전문성을 결합하여 더 정확하고 신뢰할 수 있는 결과를 도출하는 것을 목표\n",
    "\n",
    "- 랭그래프 Breakpoints 활용 \n",
    "    - 그래프 실행을 특정 단계에서 중지할 때 사용 \n",
    "    - LangGraph의 체크포인트 시스템을 기반으로 구현"
   ]
  },
  {
   "cell_type": "markdown",
   "id": "4f516a1f",
   "metadata": {},
   "source": [
    "`(1) 체크포인트 설정`"
   ]
  },
  {
   "cell_type": "code",
   "id": "ced52a4e",
   "metadata": {
    "ExecuteTime": {
     "end_time": "2025-04-09T06:23:54.820975Z",
     "start_time": "2025-04-09T06:23:54.771818Z"
    }
   },
   "source": [
    "from langgraph.checkpoint.memory import MemorySaver\n",
    "memory = MemorySaver()"
   ],
   "outputs": [],
   "execution_count": 18
  },
  {
   "cell_type": "markdown",
   "id": "dd06be5d",
   "metadata": {},
   "source": [
    "`(2) Breakpoint 추가`\n"
   ]
  },
  {
   "cell_type": "code",
   "id": "1d5db53b",
   "metadata": {
    "ExecuteTime": {
     "end_time": "2025-04-09T06:23:56.722183Z",
     "start_time": "2025-04-09T06:23:56.475779Z"
    }
   },
   "source": [
    "# 컴파일 - 'generate' 노드 전에 중단점 추가\n",
    "adaptive_rag_hitl = builder.compile(checkpointer=memory, interrupt_before=[\"generate\"])\n",
    "\n",
    "# 그래프 출력\n",
    "display(Image(adaptive_rag_hitl.get_graph().draw_mermaid_png()))"
   ],
   "outputs": [
    {
     "data": {
      "image/png": "[encoded data removed]",
      "text/plain": [
       "<IPython.core.display.Image object>"
      ]
     },
     "metadata": {},
     "output_type": "display_data"
    }
   ],
   "execution_count": 19
  },
  {
   "cell_type": "markdown",
   "id": "089fbc90",
   "metadata": {},
   "source": [
    "`(3) Breakpoint 실행 확인`\n"
   ]
  },
  {
   "cell_type": "code",
   "id": "0a445aa7",
   "metadata": {
    "ExecuteTime": {
     "end_time": "2025-04-08T04:53:49.373767Z",
     "start_time": "2025-04-08T04:53:37.677720Z"
    }
   },
   "source": [
    "# 도구 사용 전 중단점에서 실행을 멈춤 \n",
    "\n",
    "thread = {\"configurable\": {\"thread_id\": \"breakpoint_test\"}}\n",
    "inputs = {\"question\": \"스테이크 메뉴의 가격은 얼마인가요?\"}\n",
    "for event in adaptive_rag_hitl.stream(inputs, config=thread):\n",
    "    for k, v in event.items():\n",
    "        # '__end__' 이벤트는 미출력\n",
    "        if k != \"__end__\":\n",
    "            print(f\"{k}: {v}\")  # 이벤트의 키와 값을 함께 출력"
   ],
   "outputs": [
    {
     "name": "stdout",
     "output_type": "stream",
     "text": [
      "search_menu: {'documents': [Document(metadata={'menu_name': '시그니처 스테이크', 'menu_number': 1, 'source': './data/restaurant_menu.txt'}, page_content='1. 시그니처 스테이크\\n   • 가격: ₩35,000\\n   • 주요 식재료: 최상급 한우 등심, 로즈메리 감자, 그릴드 아스파라거스\\n   • 설명: 셰프의 특제 시그니처 메뉴로, 21일간 건조 숙성한 최상급 한우 등심을 사용합니다. 미디엄 레어로 조리하여 육즙을 최대한 보존하며, 로즈메리 향의 감자와 아삭한 그릴드 아스파라거스가 곁들여집니다. 레드와인 소스와 함께 제공되어 풍부한 맛을 더합니다.'), Document(metadata={'menu_name': '시그니처 스테이크', 'menu_number': 1, 'source': './data/restaurant_menu.txt'}, page_content='1. 시그니처 스테이크\\n   • 가격: ₩35,000\\n   • 주요 식재료: 최상급 한우 등심, 로즈메리 감자, 그릴드 아스파라거스\\n   • 설명: 셰프의 특제 시그니처 메뉴로, 21일간 건조 숙성한 최상급 한우 등심을 사용합니다. 미디엄 레어로 조리하여 육즙을 최대한 보존하며, 로즈메리 향의 감자와 아삭한 그릴드 아스파라거스가 곁들여집니다. 레드와인 소스와 함께 제공되어 풍부한 맛을 더합니다.')]}\n"
     ]
    }
   ],
   "execution_count": 26
  },
  {
   "cell_type": "markdown",
   "id": "67a523e8",
   "metadata": {},
   "source": [
    "`(4) Breakpoint 상태 관리`\n"
   ]
  },
  {
   "cell_type": "code",
   "id": "f1e6f27c",
   "metadata": {
    "ExecuteTime": {
     "end_time": "2025-04-08T05:06:02.646099Z",
     "start_time": "2025-04-08T05:06:02.611860Z"
    }
   },
   "source": [
    "# 상태 확인\n",
    "current_state = adaptive_rag_hitl.get_state(thread)\n",
    "print(\"---그래프 상태---\")\n",
    "print(current_state)\n",
    "print(\"-\"*50)\n",
    "print(current_state.values.get(\"generation\"))"
   ],
   "outputs": [
    {
     "name": "stdout",
     "output_type": "stream",
     "text": [
      "---그래프 상태---\n",
      "StateSnapshot(values={'question': '스테이크 메뉴의 가격은 얼마인가요?', 'documents': [Document(metadata={'menu_name': '시그니처 스테이크', 'menu_number': 1, 'source': './data/restaurant_menu.txt'}, page_content='1. 시그니처 스테이크\\n   • 가격: ₩35,000\\n   • 주요 식재료: 최상급 한우 등심, 로즈메리 감자, 그릴드 아스파라거스\\n   • 설명: 셰프의 특제 시그니처 메뉴로, 21일간 건조 숙성한 최상급 한우 등심을 사용합니다. 미디엄 레어로 조리하여 육즙을 최대한 보존하며, 로즈메리 향의 감자와 아삭한 그릴드 아스파라거스가 곁들여집니다. 레드와인 소스와 함께 제공되어 풍부한 맛을 더합니다.'), Document(metadata={'menu_name': '시그니처 스테이크', 'menu_number': 1, 'source': './data/restaurant_menu.txt'}, page_content='1. 시그니처 스테이크\\n   • 가격: ₩35,000\\n   • 주요 식재료: 최상급 한우 등심, 로즈메리 감자, 그릴드 아스파라거스\\n   • 설명: 셰프의 특제 시그니처 메뉴로, 21일간 건조 숙성한 최상급 한우 등심을 사용합니다. 미디엄 레어로 조리하여 육즙을 최대한 보존하며, 로즈메리 향의 감자와 아삭한 그릴드 아스파라거스가 곁들여집니다. 레드와인 소스와 함께 제공되어 풍부한 맛을 더합니다.')]}, next=('generate',), config={'configurable': {'thread_id': 'breakpoint_test', 'checkpoint_ns': '', 'checkpoint_id': '1f014357-5fb1-6aed-8001-1e36a4b9355a'}}, metadata={'source': 'loop', 'writes': {'search_menu': {'documents': [Document(metadata={'menu_name': '시그니처 스테이크', 'menu_number': 1, 'source': './data/restaurant_menu.txt'}, page_content='1. 시그니처 스테이크\\n   • 가격: ₩35,000\\n   • 주요 식재료: 최상급 한우 등심, 로즈메리 감자, 그릴드 아스파라거스\\n   • 설명: 셰프의 특제 시그니처 메뉴로, 21일간 건조 숙성한 최상급 한우 등심을 사용합니다. 미디엄 레어로 조리하여 육즙을 최대한 보존하며, 로즈메리 향의 감자와 아삭한 그릴드 아스파라거스가 곁들여집니다. 레드와인 소스와 함께 제공되어 풍부한 맛을 더합니다.'), Document(metadata={'menu_name': '시그니처 스테이크', 'menu_number': 1, 'source': './data/restaurant_menu.txt'}, page_content='1. 시그니처 스테이크\\n   • 가격: ₩35,000\\n   • 주요 식재료: 최상급 한우 등심, 로즈메리 감자, 그릴드 아스파라거스\\n   • 설명: 셰프의 특제 시그니처 메뉴로, 21일간 건조 숙성한 최상급 한우 등심을 사용합니다. 미디엄 레어로 조리하여 육즙을 최대한 보존하며, 로즈메리 향의 감자와 아삭한 그릴드 아스파라거스가 곁들여집니다. 레드와인 소스와 함께 제공되어 풍부한 맛을 더합니다.')]}}, 'step': 1, 'parents': {}, 'thread_id': 'breakpoint_test'}, created_at='2025-04-08T04:53:49.369828+00:00', parent_config={'configurable': {'thread_id': 'breakpoint_test', 'checkpoint_ns': '', 'checkpoint_id': '1f014356-fcae-6e5c-8000-435cc9f49461'}}, tasks=(PregelTask(id='a60fdb60-672e-e348-d33e-c7e1657bc579', name='generate', path=('__pregel_pull', 'generate'), error=None, interrupts=(), state=None),))\n",
      "--------------------------------------------------\n",
      "None\n"
     ]
    }
   ],
   "execution_count": 28
  },
  {
   "cell_type": "code",
   "id": "07987daf",
   "metadata": {
    "ExecuteTime": {
     "end_time": "2025-04-08T05:07:06.415636Z",
     "start_time": "2025-04-08T05:07:06.409129Z"
    }
   },
   "source": [
    "# 다음에 실행될 노드를 확인 \n",
    "current_state.next"
   ],
   "outputs": [
    {
     "data": {
      "text/plain": [
       "('generate',)"
      ]
     },
     "execution_count": 29,
     "metadata": {},
     "output_type": "execute_result"
    }
   ],
   "execution_count": 29
  },
  {
   "cell_type": "markdown",
   "id": "eac16239",
   "metadata": {},
   "source": [
    "`(5) Breakpoint 이후 단계를 계속해서 실행`"
   ]
  },
  {
   "cell_type": "code",
   "id": "d6c14bb5",
   "metadata": {
    "ExecuteTime": {
     "end_time": "2025-04-08T05:09:00.148475Z",
     "start_time": "2025-04-08T05:08:57.860849Z"
    }
   },
   "source": [
    "# 입력값을 None으로 지정하면 중단점부터 실행하는 의미 \n",
    "for event in adaptive_rag_hitl.stream(None, config=thread):\n",
    "    for k, v in event.items():\n",
    "        # '__end__' 이벤트는 미출력\n",
    "        if k != \"__end__\":\n",
    "            print(f\"{k}: {v}\")  # 이벤트의 키와 값을 함께 출력"
   ],
   "outputs": [
    {
     "name": "stdout",
     "output_type": "stream",
     "text": [
      "generate: {'generation': '시그니처 스테이크의 가격은 ₩35,000입니다. 문서에 명시된 바와 같이 이 메뉴는 최상급 한우 등심을 사용하며, 로즈메리 감자와 그릴드 아스파라거스가 함께 제공됩니다.'}\n"
     ]
    }
   ],
   "execution_count": 30
  },
  {
   "cell_type": "code",
   "id": "f19c10d1",
   "metadata": {
    "ExecuteTime": {
     "end_time": "2025-04-08T05:11:57.449605Z",
     "start_time": "2025-04-08T05:11:57.435715Z"
    }
   },
   "source": [
    "# 다음에 실행될 노드를 확인 \n",
    "current_state = adaptive_rag_hitl.get_state(thread)\n",
    "current_state.next"
   ],
   "outputs": [
    {
     "data": {
      "text/plain": [
       "()"
      ]
     },
     "execution_count": 32,
     "metadata": {},
     "output_type": "execute_result"
    }
   ],
   "execution_count": 32
  },
  {
   "cell_type": "code",
   "execution_count": 23,
   "id": "a4e533e9",
   "metadata": {},
   "outputs": [
    {
     "name": "stdout",
     "output_type": "stream",
     "text": [
      "스테이크 메뉴의 가격은 다음과 같습니다:\n",
      "\n",
      "1. 시그니처 스테이크: ₩35,000\n",
      "2. 안심 스테이크 샐러드: ₩26,000\n"
     ]
    }
   ],
   "source": [
    "# 최종 답변\n",
    "current_state = adaptive_rag_hitl.get_state(thread)\n",
    "print(current_state.values.get(\"generation\"))"
   ]
  },
  {
   "cell_type": "markdown",
   "id": "e8964592",
   "metadata": {},
   "source": [
    "`(6) 상태 업데이트`"
   ]
  },
  {
   "cell_type": "code",
   "id": "f8c1e85e",
   "metadata": {
    "ExecuteTime": {
     "end_time": "2025-04-08T05:40:59.579787Z",
     "start_time": "2025-04-08T05:40:47.504724Z"
    }
   },
   "source": [
    "# 새로운 thread를 생성하고, 새로운 질문을 수행 \n",
    "thread = {\"configurable\": {\"thread_id\": \"breakpoint_update\"}}\n",
    "inputs = {\"question\": \"매운 음식이 있나요?\"}\n",
    "for event in adaptive_rag_hitl.stream(inputs, config=thread):\n",
    "    for k, v in event.items():\n",
    "        if k != \"__end__\":\n",
    "            print(f\"{k}: {v}\") "
   ],
   "outputs": [
    {
     "name": "stdout",
     "output_type": "stream",
     "text": [
      "search_menu: {'documents': [Document(metadata={'menu_name': '티라미수', 'menu_number': 10, 'source': './data/restaurant_menu.txt'}, page_content='10. 티라미수\\n    • 가격: ₩9,000\\n    • 주요 식재료: 마스카포네 치즈, 에스프레소, 카카오 파우더, 레이디핑거 비스킷\\n    • 설명: 부드러운 마스카포네 치즈 크림과 에스프레소에 적신 레이디핑거 비스킷을 층층이 쌓아 만든 이탈리아 정통 디저트입니다. 고소한 카카오 파우더를 듬뿍 뿌려 풍미를 더했습니다. 커피의 쌉싸름함과 치즈의 부드러움이 조화롭게 어우러집니다.'), Document(metadata={'menu_name': '티라미수', 'menu_number': 10, 'source': './data/restaurant_menu.txt'}, page_content='10. 티라미수\\n    • 가격: ₩9,000\\n    • 주요 식재료: 마스카포네 치즈, 에스프레소, 카카오 파우더, 레이디핑거 비스킷\\n    • 설명: 부드러운 마스카포네 치즈 크림과 에스프레소에 적신 레이디핑거 비스킷을 층층이 쌓아 만든 이탈리아 정통 디저트입니다. 고소한 카카오 파우더를 듬뿍 뿌려 풍미를 더했습니다. 커피의 쌉싸름함과 치즈의 부드러움이 조화롭게 어우러집니다.')]}\n"
     ]
    }
   ],
   "execution_count": 33
  },
  {
   "cell_type": "code",
   "id": "fee35fd6",
   "metadata": {
    "ExecuteTime": {
     "end_time": "2025-04-08T05:41:02.218028Z",
     "start_time": "2025-04-08T05:41:02.210532Z"
    }
   },
   "source": [
    "# 다음에 실행될 노드를 확인 \n",
    "current_state = adaptive_rag_hitl.get_state(thread)\n",
    "current_state.next"
   ],
   "outputs": [
    {
     "data": {
      "text/plain": [
       "('generate',)"
      ]
     },
     "execution_count": 34,
     "metadata": {},
     "output_type": "execute_result"
    }
   ],
   "execution_count": 34
  },
  {
   "cell_type": "code",
   "id": "af930c59",
   "metadata": {
    "ExecuteTime": {
     "end_time": "2025-04-08T05:41:08.506717Z",
     "start_time": "2025-04-08T05:41:08.500328Z"
    }
   },
   "source": [
    "# question, generation 필드 확인\n",
    "current_state = adaptive_rag_hitl.get_state(thread)\n",
    "print(current_state.values.get(\"question\"))\n",
    "print(\"-\"*50)\n",
    "print(current_state.values.get(\"generation\"))"
   ],
   "outputs": [
    {
     "name": "stdout",
     "output_type": "stream",
     "text": [
      "매운 음식이 있나요?\n",
      "--------------------------------------------------\n",
      "None\n"
     ]
    }
   ],
   "execution_count": 35
  },
  {
   "cell_type": "code",
   "id": "1c79cabe",
   "metadata": {
    "ExecuteTime": {
     "end_time": "2025-04-08T05:41:29.393888Z",
     "start_time": "2025-04-08T05:41:29.378662Z"
    }
   },
   "source": [
    "# 상태 업데이트 - 질문을 수정하여 업데이트\n",
    "adaptive_rag_hitl.update_state(thread, {\"question\": \"매콤한 해산물 요리가 있나요?\"})\n",
    "\n",
    "# 상태 확인\n",
    "new_state = adaptive_rag_hitl.get_state(thread)\n",
    "\n",
    "print(new_state.values.get(\"question\"))\n",
    "print(\"-\"*50)\n",
    "print(new_state.values.get(\"generation\"))"
   ],
   "outputs": [
    {
     "name": "stdout",
     "output_type": "stream",
     "text": [
      "매콤한 해산물 요리가 있나요?\n",
      "--------------------------------------------------\n",
      "None\n"
     ]
    }
   ],
   "execution_count": 36
  },
  {
   "cell_type": "code",
   "id": "bb057b66",
   "metadata": {
    "ExecuteTime": {
     "end_time": "2025-04-08T05:42:37.112397Z",
     "start_time": "2025-04-08T05:42:34.583828Z"
    }
   },
   "source": [
    "# 입력값을 None으로 지정하면 중단점부터 실행하고 최종 답변을 생성 \n",
    "for event in adaptive_rag_hitl.stream(None, config=thread):\n",
    "    for k, v in event.items():\n",
    "        # '__end__' 이벤트는 미출력\n",
    "        if k != \"__end__\":\n",
    "            print(f\"{k}: {v}\")  # 이벤트의 키와 값을 함께 출력"
   ],
   "outputs": [
    {
     "name": "stdout",
     "output_type": "stream",
     "text": [
      "generate: {'generation': \"The provided documents don't contain information about spicy seafood dishes. The only menu item shown in the documents is Tiramisu (티라미수), which is an Italian dessert made with mascarpone cheese, espresso, cocoa powder, and ladyfinger biscuits. There is no mention of any seafood dishes, spicy or otherwise, in the provided information.\"}\n"
     ]
    }
   ],
   "execution_count": 37
  },
  {
   "cell_type": "code",
   "id": "b282e0de",
   "metadata": {
    "ExecuteTime": {
     "end_time": "2025-04-08T05:43:07.409853Z",
     "start_time": "2025-04-08T05:43:07.398788Z"
    }
   },
   "source": [
    "# 최종 답변 확인\n",
    "print(event[\"generate\"][\"generation\"])"
   ],
   "outputs": [
    {
     "name": "stdout",
     "output_type": "stream",
     "text": [
      "The provided documents don't contain information about spicy seafood dishes. The only menu item shown in the documents is Tiramisu (티라미수), which is an Italian dessert made with mascarpone cheese, espresso, cocoa powder, and ladyfinger biscuits. There is no mention of any seafood dishes, spicy or otherwise, in the provided information.\n"
     ]
    }
   ],
   "execution_count": 38
  },
  {
   "cell_type": "markdown",
   "id": "64b21935",
   "metadata": {},
   "source": [
    "## 4. Self-RAG 구현\n",
    "- Self-RAG (Retrieval-Augmented Generation with Self-Reflection) \n",
    "- 논문: https://arxiv.org/abs/2310.11511\n",
    "\n",
    "- 주요 단계: \n",
    "\n",
    "   1. 검색 결정 (Retrieval Decision):\n",
    "      - 입력: 질문 `x` 또는 질문 `x`와 생성된 답변 `y`\n",
    "      - 목적: 검색기 `R`을 사용하여 `D` 개의 청크를 검색할지 결정\n",
    "      - 출력: \"yes\", \"no\", \"continue\" 중 하나\n",
    "      - 의미: 시스템이 추가 정보가 필요한지 판단\n",
    "\n",
    "   2. 검색된 문서 관련성 평가:\n",
    "      - 입력: 질문 `x`와 각 검색된 청크 `d`\n",
    "      - 목적: 각 청크가 질문에 유용한 정보를 제공하는지 평가\n",
    "      - 출력: \"relevant\" 또는 \"irrelevant\"\n",
    "      - 의미: 관련 없는 정보를 필터링하여 품질을 향상\n",
    "\n",
    "   3. 생성된 답변의 환각 평가:\n",
    "      - 입력: 질문 `x`, 청크 `d`, 생성된 텍스트 `y`\n",
    "      - 목적: 생성된 텍스트가 청크의 정보에 의해 지지되는지(근거가 있는지) 평가\n",
    "      - 출력: \"fully supported\", \"partially supported\", \"no support\"\n",
    "      - 의미: 환각(hallucination)을 감지하고 정보의 신뢰성을 확인\n",
    "\n",
    "   4. 생성된 답변의 유용성 평가:\n",
    "      - 입력: 질문 `x`와 생성된 텍스트 `y`\n",
    "      - 목적: 생성된 텍스트가 질문에 유용한 응답인지 평가\n",
    "      - 출력: 5점 척도 (5: 매우 유용, 1: 전혀 유용하지 않음)\n",
    "      - 의미: 응답의 품질과 관련성을 수치화"
   ]
  },
  {
   "cell_type": "markdown",
   "id": "b2ac354e",
   "metadata": {},
   "source": [
    "### 4-1. LLM 체인 "
   ]
  },
  {
   "cell_type": "markdown",
   "id": "4f27b0b3",
   "metadata": {},
   "source": "`(1) Retrieval Grader  rag 평가 체인`"
  },
  {
   "cell_type": "code",
   "id": "d3d508a1",
   "metadata": {
    "ExecuteTime": {
     "end_time": "2025-04-09T06:24:09.971473Z",
     "start_time": "2025-04-09T06:24:09.954171Z"
    }
   },
   "source": [
    "from langchain_core.prompts import ChatPromptTemplate\n",
    "from pydantic import BaseModel, Field\n",
    "from langchain_openai import ChatOpenAI\n",
    "\n",
    "# 검색된 문서의 관련성 평가 결과를 위한 데이터 모델 정의\n",
    "class BinaryGradeDocuments(BaseModel):\n",
    "    \"\"\"Binary score for relevance check on retrieved documents.\"\"\"\n",
    "\n",
    "    binary_score: str = Field(\n",
    "        description=\"Documents are relevant to the question, 'yes' or 'no'\"\n",
    "    )\n",
    "\n",
    "# LLM 모델 초기화 및 구조화된 출력 설정\n",
    "\n",
    "# llm = ChatOpenAI(model=\"gpt-4o-mini\", temperature=0)\n",
    "# use sonnet \n",
    "structured_llm_grader = llm.with_structured_output(BinaryGradeDocuments)\n",
    "\n",
    "# 문서 관련성 평가를 위한 시스템 프롬프트 정의\n",
    "system_prompt = \"\"\"You are an expert in evaluating the relevance of search results to user queries.\n",
    "\n",
    "[Evaluation criteria]\n",
    "1. 키워드 관련성: 문서가 질문의 주요 단어나 유사어를 포함하는지 확인\n",
    "2. 의미적 관련성: 문서의 전반적인 주제가 질문의 의도와 일치하는지 평가\n",
    "3. 부분 관련성: 질문의 일부를 다루거나 맥락 정보를 제공하는 문서도 고려\n",
    "4. 답변 가능성: 직접적인 답이 아니더라도 답변 형성에 도움될 정보 포함 여부 평가\n",
    "\n",
    "[Scoring]\n",
    "- Rate 'yes' if relevant, 'no' if not\n",
    "- Default to 'no' when uncertain\n",
    "\n",
    "[Key points]\n",
    "- Consider the full context of the query, not just word matching\n",
    "- Rate as relevant if useful information is present, even if not a complete answer\n",
    "\n",
    "Your evaluation is crucial for improving information retrieval systems. Provide balanced assessments.\"\"\"\n",
    "\n",
    "# 채점 프롬프트 템플릿 생성\n",
    "grade_prompt = ChatPromptTemplate.from_messages([\n",
    "    (\"system\", system_prompt),\n",
    "    (\"human\", \"[Retrieved document]\\n{document}\\n\\n[User question]\\n{question}\"),\n",
    "])\n",
    "\n",
    "# Retrieval Grader 파이프라인 구성\n",
    "retrieval_grader_binary = grade_prompt | structured_llm_grader\n"
   ],
   "outputs": [],
   "execution_count": 20
  },
  {
   "metadata": {
    "ExecuteTime": {
     "end_time": "2025-04-09T06:24:31.334422Z",
     "start_time": "2025-04-09T06:24:14.404809Z"
    }
   },
   "cell_type": "code",
   "source": [
    "    \n",
    "# rag 평가모듈 테스트\n",
    "question = \"추천 파스타 메뉴는 무엇 인가요?\"\n",
    "retrieved_docs = menu_db.similarity_search(question, k=2)\n",
    "print(f\"검색된 문서 수: {len(retrieved_docs)}\")\n",
    "print(\"===============================================================================\")\n",
    "print()\n",
    "\n",
    "\n",
    "relevant_docs = []\n",
    "\n",
    "for doc in retrieved_docs:\n",
    "    print(\"문서:\", doc.page_content)\n",
    "    print(\"---------------------------------------------------------------------------\")\n",
    "\n",
    "    relevance = retrieval_grader_binary.invoke({\"question\": question, \"document\": doc})\n",
    "    print(f\"문서 관련성: {relevance}\")\n",
    "\n",
    "    if relevance.binary_score == 'yes':\n",
    "        relevant_docs.append(doc)\n",
    "    \n",
    "    print(\"===========================================================================\")"
   ],
   "id": "f1201c1d180f0828",
   "outputs": [
    {
     "name": "stdout",
     "output_type": "stream",
     "text": [
      "검색된 문서 수: 2\n",
      "===============================================================================\n",
      "\n",
      "문서: 6. 해산물 파스타\n",
      "   • 가격: ₩24,000\n",
      "   • 주요 식재료: 링귀네 파스타, 새우, 홍합, 오징어, 토마토 소스\n",
      "   • 설명: 알 덴테로 삶은 링귀네 파스타에 신선한 해산물을 듬뿍 올린 메뉴입니다. 토마토 소스의 산미와 해산물의 감칠맛이 조화를 이루며, 마늘과 올리브 오일로 풍미를 더했습니다. 파슬리를 뿌려 향긋한 맛을 더합니다.\n",
      "---------------------------------------------------------------------------\n",
      "문서 관련성: binary_score='yes'\n",
      "===========================================================================\n",
      "문서: 7. 랍스터 비스크\n",
      "   • 가격: ₩28,000\n",
      "   • 주요 식재료: 랍스터, 생크림, 브랜디, 파프리카\n",
      "   • 설명: 랍스터 껍질과 육수로 오랜 시간 우려낸 진한 비스크 수프입니다. 생크림으로 부드러운 질감을 더하고 브랜디로 깊은 풍미를 살렸습니다. 작은 랍스터 살을 토핑으로 올려 고급스러움을 더했습니다.\n",
      "---------------------------------------------------------------------------\n",
      "문서 관련성: binary_score='no'\n",
      "===========================================================================\n"
     ]
    }
   ],
   "execution_count": 21
  },
  {
   "cell_type": "markdown",
   "id": "4b7c0594",
   "metadata": {},
   "source": [
    "`(2) Answer Generator`"
   ]
  },
  {
   "cell_type": "code",
   "id": "683cb654",
   "metadata": {
    "ExecuteTime": {
     "end_time": "2025-04-09T06:24:35.688713Z",
     "start_time": "2025-04-09T06:24:35.681360Z"
    }
   },
   "source": [
    "# 기본 RAG 체인\n",
    "from langchain_core.output_parsers import StrOutputParser\n",
    "\n",
    "def generator_rag_answer(question, docs):\n",
    "\n",
    "    template = \"\"\"\n",
    "    Answer the question based solely on the given context. Do not use any external information or knowledge.\n",
    "\n",
    "    [Instructions]\n",
    "        1. 질문과 관련된 정보를 문맥에서 신중하게 확인합니다.\n",
    "        2. 답변에 질문과 직접 관련된 정보만 사용합니다.\n",
    "        3. 문맥에 명시되지 않은 내용에 대해 추측하지 않습니다.\n",
    "        4. 불필요한 정보를 피하고, 답변을 간결하고 명확하게 작성합니다.\n",
    "        5. 문맥에서 답을 찾을 수 없으면 \"주어진 정보만으로는 답할 수 없습니다.\"라고 답변합니다.\n",
    "        6. 적절한 경우 문맥에서 직접 인용하며, 따옴표를 사용합니다.\n",
    "\n",
    "    [Context]\n",
    "    {context}\n",
    "\n",
    "    [Question]\n",
    "    {question}\n",
    "\n",
    "    [Answer]\n",
    "    \"\"\"\n",
    "\n",
    "    prompt = ChatPromptTemplate.from_template(template)\n",
    "    # llm = ChatOpenAI(model='gpt-4o-mini', temperature=0)    \n",
    "    # llm sonnet\n",
    "    # claude 모델 로드 \n",
    "    llm = ChatAnthropic(\n",
    "    # model=\"claude-3-5-sonnet-20241022\",\n",
    "        model=\"claude-3-7-sonnet-20250219\",\n",
    "        temperature=0,\n",
    "        # max_tokens=200, \n",
    "        api_key=os.getenv('ANTHROPIC_API_KEY'),\n",
    "        )\n",
    "    \n",
    "\n",
    "    def format_docs(docs):\n",
    "        return \"\\n\\n\".join([d.page_content for d in docs])\n",
    "    \n",
    "    rag_chain = prompt | llm | StrOutputParser()\n",
    "    \n",
    "    generation = rag_chain.invoke({\"context\": format_docs(docs), \"question\": question})\n",
    "\n",
    "    return generation\n"
   ],
   "outputs": [],
   "execution_count": 23
  },
  {
   "metadata": {
    "ExecuteTime": {
     "end_time": "2025-04-08T06:25:54.470156Z",
     "start_time": "2025-04-08T06:25:50.616859Z"
    }
   },
   "cell_type": "code",
   "source": [
    "# 관령성 평가를 통과한 문서를 기반으로 질문에 대한 답변 생성\n",
    "generation = generator_rag_answer(question, docs=relevant_docs)\n",
    "print(generation)"
   ],
   "id": "1907e924b1ef21e8",
   "outputs": [
    {
     "name": "stdout",
     "output_type": "stream",
     "text": [
      "주어진 정보만으로는 답할 수 없습니다. 문맥에는 해산물 파스타에 대한 정보만 제공되어 있으며, 어떤 파스타가 추천 메뉴인지에 대한 언급이 없습니다. 단지 해산물 파스타의 가격, 주요 식재료, 설명만 나와 있을 뿐 추천 여부는 명시되어 있지 않습니다.\n"
     ]
    }
   ],
   "execution_count": 20
  },
  {
   "cell_type": "markdown",
   "id": "8b78c24b",
   "metadata": {},
   "source": [
    "`(3) Hallucination Grader`"
   ]
  },
  {
   "cell_type": "code",
   "id": "39ee4e82",
   "metadata": {
    "ExecuteTime": {
     "end_time": "2025-04-09T06:24:41.398315Z",
     "start_time": "2025-04-09T06:24:41.376200Z"
    }
   },
   "source": [
    "# 환각(Hallucination) 평가 결과를 위한 데이터 모델 정의\n",
    "class GradeHallucinations(BaseModel):\n",
    "    \"\"\"Binary score for hallucination present in generation answer.\"\"\"\n",
    "\n",
    "    binary_score: str = Field(\n",
    "        description=\"Answer is grounded in the facts, 'yes' or 'no'\"\n",
    "    )\n",
    "\n",
    "# LLM 모델 초기화 및 구조화된 출력 설정\n",
    "# llm = ChatOpenAI(model=\"gpt-4o-mini\", temperature=0)\n",
    "llm = ChatAnthropic(\n",
    "    # model=\"claude-3-5-sonnet-20241022\",\n",
    "        model=\"claude-3-7-sonnet-20250219\",\n",
    "        temperature=0,\n",
    "        # max_tokens=200, \n",
    "        api_key=os.getenv('ANTHROPIC_API_KEY'),\n",
    "        )\n",
    "structured_llm_grader = llm.with_structured_output(GradeHallucinations)\n",
    "\n",
    "# 환각 평가를 위한 시스템 프롬프트 정의\n",
    "system_prompt = \"\"\"\n",
    "You are an expert evaluator assessing whether an LLM-generated answer is grounded in and supported by a given set of facts.\n",
    "\n",
    "[Your task]\n",
    "    - Review the LLM-generated answer.\n",
    "    - Determine if the answer is fully supported by the given facts.\n",
    "\n",
    "[Evaluation criteria]\n",
    "    - 답변에 주어진 사실이나 명확히 추론할 수 있는 정보 외의 내용이 없어야 합니다.\n",
    "    - 답변의 모든 핵심 내용이 주어진 사실에서 비롯되어야 합니다.\n",
    "    - 사실적 정확성에 집중하고, 글쓰기 스타일이나 완전성은 평가하지 않습니다.\n",
    "\n",
    "[Scoring]\n",
    "    - 'yes': The answer is factually grounded and fully supported.\n",
    "    - 'no': The answer includes information or claims not based on the given facts.\n",
    "\n",
    "Your evaluation is crucial in ensuring the reliability and factual accuracy of AI-generated responses. Be thorough and critical in your assessment.\n",
    "\"\"\"\n",
    "\n",
    "# 환각 평가 프롬프트 템플릿 생성\n",
    "hallucination_prompt = ChatPromptTemplate.from_messages(\n",
    "    [\n",
    "        (\"system\", system_prompt),\n",
    "        (\"human\", \"[Set of facts]\\n{documents}\\n\\n[LLM generation]\\n{generation}\"),\n",
    "    ]\n",
    ")\n",
    "\n",
    "# Hallucination Grader 파이프라인 구성\n",
    "hallucination_grader = hallucination_prompt | structured_llm_grader\n"
   ],
   "outputs": [],
   "execution_count": 24
  },
  {
   "metadata": {
    "ExecuteTime": {
     "end_time": "2025-04-08T06:31:49.546616Z",
     "start_time": "2025-04-08T06:31:47.297143Z"
    }
   },
   "cell_type": "code",
   "source": [
    "# 환각 평가 실행\n",
    "hallucination = hallucination_grader.invoke({\"documents\": relevant_docs, \"generation\": generation})\n",
    "print(f\"환각 평가: {hallucination}\")"
   ],
   "id": "a5a22785250a83e9",
   "outputs": [
    {
     "name": "stdout",
     "output_type": "stream",
     "text": [
      "환각 평가: binary_score='yes'\n"
     ]
    }
   ],
   "execution_count": 23
  },
  {
   "cell_type": "markdown",
   "id": "f8baeba9",
   "metadata": {},
   "source": [
    "`(4) Answer Grader`"
   ]
  },
  {
   "cell_type": "code",
   "id": "fbfb6ac4",
   "metadata": {
    "ExecuteTime": {
     "end_time": "2025-04-09T06:24:50.531289Z",
     "start_time": "2025-04-09T06:24:50.522704Z"
    }
   },
   "source": [
    "# 답변 평가 결과를 위한 데이터 모델 정의\n",
    "class BinaryGradeAnswer(BaseModel):\n",
    "    \"\"\"Binary score to assess answer addresses question.\"\"\"\n",
    "\n",
    "    binary_score: str = Field(\n",
    "        description=\"Answer addresses the question, 'yes' or 'no'\"\n",
    "    )\n",
    "\n",
    "# LLM 모델 초기화 및 구조화된 출력 설정\n",
    "# llm = ChatOpenAI(model=\"gpt-4o-mini\", temperature=0)\n",
    "llm = ChatAnthropic(\n",
    "    # model=\"claude-3-5-sonnet-20241022\",\n",
    "        model=\"claude-3-7-sonnet-20250219\",\n",
    "        temperature=0,\n",
    "        # max_tokens=200, \n",
    "        api_key=os.getenv('ANTHROPIC_API_KEY'),\n",
    "        )\n",
    "\n",
    "structured_llm_grader = llm.with_structured_output(BinaryGradeAnswer)\n",
    "\n",
    "# 답변 평가를 위한 시스템 프롬프트 정의\n",
    "# [Evaluation criteria]\n",
    "#     - 관련성: 답변이 질문과 직접적으로 관련되어야 합니다.\n",
    "#     - 완전성: 질문의 모든 측면이 다뤄져야 합니다.\n",
    "#     - 정확성: 제공된 정보가 정확하고 최신이어야 합니다.\n",
    "#     - 명확성: 답변이 명확하고 이해하기 쉬워야 합니다.\n",
    "#     - 구체성: 질문의 요구 사항에 맞는 상세한 답변이어야 합니다.\n",
    "\n",
    "system_prompt = \"\"\"\n",
    "You are an expert evaluator tasked with assessing whether an LLM-generated answer effectively addresses and resolves a user's question.\n",
    "\n",
    "[Your task]\n",
    "    - Carefully analyze the user's question to understand its core intent and requirements.\n",
    "    - Determine if the LLM-generated answer sufficiently resolves the question.\n",
    "\n",
    "[Evaluation criteria]\n",
    "    - 명확성: 답변이 명확하고 이해하기 쉬워야 합니다.\n",
    "    - 구체성: 질문의 요구 사항에 맞는 상세한 답변이어야 합니다.\n",
    "    - 정확성: 제공된 정보가 정확하고 최신이어야 합니다.\n",
    "    - 명확성: 답변이 명확하고 이해하기 쉬워야 합니다.\n",
    "    - 구체성: 질문의 요구 사항에 맞는 상세한 답변이어야 합니다.\n",
    "\n",
    "[Scoring]\n",
    "    - 'yes': The answer effectively resolves the question.\n",
    "    - 'no': The answer fails to sufficiently resolve the question or lacks crucial elements.\n",
    "\n",
    "Your evaluation plays a critical role in ensuring the quality and effectiveness of AI-generated responses. Strive for balanced and thoughtful assessments.\n",
    "\"\"\"\n",
    "\n",
    "# 답변 평가 프롬프트 템플릿 생성\n",
    "answer_prompt = ChatPromptTemplate.from_messages(\n",
    "    [\n",
    "        (\"system\", system_prompt),\n",
    "        (\"human\", \"[User question]\\n{question}\\n\\n[LLM generation]\\n{generation}\"),\n",
    "    ]\n",
    ")\n",
    "\n",
    "# Answer Grader 파이프라인 구성\n",
    "answer_grader_binary = answer_prompt | structured_llm_grader\n"
   ],
   "outputs": [],
   "execution_count": 25
  },
  {
   "metadata": {
    "ExecuteTime": {
     "end_time": "2025-04-08T06:36:28.093190Z",
     "start_time": "2025-04-08T06:36:26.056388Z"
    }
   },
   "cell_type": "code",
   "source": [
    "\n",
    "# 답변 평가 실행\n",
    "print(\"Question:\", question)\n",
    "print(\"Generation:\", generation)\n",
    "\n",
    "answer_score = answer_grader_binary.invoke({\"question\": question, \"generation\": generation})\n",
    "print(f\"답변 평가: {answer_score}\")"
   ],
   "id": "24fef9bdd2ae53b6",
   "outputs": [
    {
     "name": "stdout",
     "output_type": "stream",
     "text": [
      "Question: 추천 파스타 메뉴는 무엇 인가요?\n",
      "Generation: 주어진 정보만으로는 답할 수 없습니다. 문맥에는 해산물 파스타에 대한 정보만 제공되어 있으며, 어떤 파스타가 추천 메뉴인지에 대한 언급이 없습니다. 단지 해산물 파스타의 가격, 주요 식재료, 설명만 나와 있을 뿐 추천 여부는 명시되어 있지 않습니다.\n",
      "답변 평가: binary_score='no'\n"
     ]
    }
   ],
   "execution_count": 27
  },
  {
   "cell_type": "markdown",
   "id": "9748b4f5",
   "metadata": {},
   "source": [
    "`(5) Question Re-writer`"
   ]
  },
  {
   "cell_type": "code",
   "id": "7cec94a4",
   "metadata": {
    "ExecuteTime": {
     "end_time": "2025-04-09T06:25:01.222902Z",
     "start_time": "2025-04-09T06:25:01.217546Z"
    }
   },
   "source": [
    "def rewrite_question(question: str) -> str:\n",
    "    \"\"\"\n",
    "    주어진 질문을 벡터 저장소 검색에 최적화된 형태로 다시 작성합니다.\n",
    "\n",
    "    :param question: 원본 질문 문자열\n",
    "    :return: 다시 작성된 질문 문자열\n",
    "    \"\"\"\n",
    "    # LLM 모델 초기화\n",
    "    # llm = ChatOpenAI(model=\"gpt-4o-mini\", temperature=0)\n",
    "    llm = ChatAnthropic(\n",
    "    # model=\"claude-3-5-sonnet-20241022\",\n",
    "        model=\"claude-3-7-sonnet-20250219\",\n",
    "        temperature=0,\n",
    "        # max_tokens=200, \n",
    "        api_key=os.getenv('ANTHROPIC_API_KEY'),\n",
    "        )\n",
    "\n",
    "    # 시스템 프롬프트 정의\n",
    "    system_prompt = \"\"\"\n",
    "    You are an expert question re-writer. Your task is to convert input questions into optimized versions \n",
    "    for vectorstore retrieval. Analyze the input carefully and focus on capturing the underlying semantic \n",
    "    intent and meaning. Your goal is to create a question that will lead to more effective and relevant \n",
    "    document retrieval.\n",
    "\n",
    "    [Guidelines]\n",
    "        1. 질문에서 핵심 개념과 주요 대상을 식별하고 강조합니다.\n",
    "        2. 약어나 모호한 용어를 풀어서 사용합니다.\n",
    "        3. 관련 문서에 등장할 수 있는 동의어나 연관된 용어를 포함합니다.\n",
    "        4. 질문의 원래 의도와 범위를 유지합니다.\n",
    "        5. 복잡한 질문은 간단하고 집중된 하위 질문으로 나눕니다.\n",
    "\n",
    "    Remember, the goal is to improve retrieval effectiveness, not to change the fundamental meaning of the question.\n",
    "    \"\"\"\n",
    "\n",
    "    # 질문 다시 쓰기 프롬프트 템플릿 생성\n",
    "    re_write_prompt = ChatPromptTemplate.from_messages(\n",
    "        [\n",
    "            (\"system\", system_prompt),\n",
    "            (\n",
    "                \"human\",\n",
    "                \"[Initial question]\\n{question}\\n\\n[Improved question]\\n\",\n",
    "            ),\n",
    "        ]\n",
    "    )\n",
    "\n",
    "    # 질문 다시 쓰기 체인 구성\n",
    "    question_rewriter = re_write_prompt | llm | StrOutputParser()\n",
    "\n",
    "    # 질문 다시 쓰기 실행\n",
    "    rewritten_question = question_rewriter.invoke({\"question\": question})\n",
    "\n",
    "    return rewritten_question\n"
   ],
   "outputs": [],
   "execution_count": 27
  },
  {
   "metadata": {
    "ExecuteTime": {
     "end_time": "2025-04-08T07:43:26.179691Z",
     "start_time": "2025-04-08T07:43:23.139763Z"
    }
   },
   "cell_type": "code",
   "source": [
    "# 질문 다시 쓰기 테스트\n",
    "rewritten_question = rewrite_question(question)\n",
    "print(f\"원본 질문: {question}\")\n",
    "print(f\"다시 쓴 질문: {rewritten_question}\")"
   ],
   "id": "58130ceb3f0207f6",
   "outputs": [
    {
     "name": "stdout",
     "output_type": "stream",
     "text": [
      "원본 질문: 추천 파스타 메뉴는 무엇 인가요?\n",
      "다시 쓴 질문: [Improved question]\n",
      "파스타 메뉴 중에서 가장 인기 있거나 추천할 만한 파스타 종류는 무엇인가요? 크림 파스타, 토마토 파스타, 오일 파스타 등 추천 메뉴와 그 특징을 알려주세요.\n"
     ]
    }
   ],
   "execution_count": 29
  },
  {
   "cell_type": "code",
   "id": "c52d2fc3",
   "metadata": {
    "ExecuteTime": {
     "end_time": "2025-04-08T07:43:46.767213Z",
     "start_time": "2025-04-08T07:43:36.664499Z"
    }
   },
   "source": [
    "# 다시 쓴 질문을 사용하여 벡터 저장소에서 문서 검색\n",
    "query = rewritten_question\n",
    "retrieved_docs = menu_db.similarity_search(query, k=2)\n",
    "print(len(retrieved_docs))\n",
    "print(\"===========================================================================\")\n",
    "\n",
    "for doc in retrieved_docs:\n",
    "    print(\"문서:\", doc.page_content)\n",
    "    print(\"---------------------------------------------------------------------------\")"
   ],
   "outputs": [
    {
     "name": "stdout",
     "output_type": "stream",
     "text": [
      "2\n",
      "===========================================================================\n",
      "문서: 6. 해산물 파스타\n",
      "   • 가격: ₩24,000\n",
      "   • 주요 식재료: 링귀네 파스타, 새우, 홍합, 오징어, 토마토 소스\n",
      "   • 설명: 알 덴테로 삶은 링귀네 파스타에 신선한 해산물을 듬뿍 올린 메뉴입니다. 토마토 소스의 산미와 해산물의 감칠맛이 조화를 이루며, 마늘과 올리브 오일로 풍미를 더했습니다. 파슬리를 뿌려 향긋한 맛을 더합니다.\n",
      "---------------------------------------------------------------------------\n",
      "문서: 7. 랍스터 비스크\n",
      "   • 가격: ₩28,000\n",
      "   • 주요 식재료: 랍스터, 생크림, 브랜디, 파프리카\n",
      "   • 설명: 랍스터 껍질과 육수로 오랜 시간 우려낸 진한 비스크 수프입니다. 생크림으로 부드러운 질감을 더하고 브랜디로 깊은 풍미를 살렸습니다. 작은 랍스터 살을 토핑으로 올려 고급스러움을 더했습니다.\n",
      "---------------------------------------------------------------------------\n"
     ]
    }
   ],
   "execution_count": 30
  },
  {
   "cell_type": "markdown",
   "id": "e9cddd84",
   "metadata": {},
   "source": [
    "### 4-2. LangGraph로 그래프 구현\n",
    "- 기본 State 사용"
   ]
  },
  {
   "cell_type": "markdown",
   "id": "64f88aa1",
   "metadata": {},
   "source": [
    "`(1) 그래프 State 생성`"
   ]
  },
  {
   "cell_type": "code",
   "id": "ef3a6c22",
   "metadata": {
    "ExecuteTime": {
     "end_time": "2025-04-09T06:25:15.680913Z",
     "start_time": "2025-04-09T06:25:15.665912Z"
    }
   },
   "source": [
    "from typing import List, TypedDict\n",
    "from langchain_core.documents import Document\n",
    "\n",
    "class SelfRagState(TypedDict):\n",
    "    question: str                 # 사용자의 질문\n",
    "    generation: str               # LLM 생성 답변\n",
    "    documents: List[Document]     # 컨텍스트 문서 (검색된 문서)\n",
    "    num_generations: int          # 질문 or 답변 생성 횟수 (무한 루프 방지에 활용)"
   ],
   "outputs": [],
   "execution_count": 28
  },
  {
   "cell_type": "markdown",
   "id": "398fae2b",
   "metadata": {},
   "source": [
    "`(2) Node 구성`"
   ]
  },
  {
   "cell_type": "code",
   "id": "d9c7e713",
   "metadata": {
    "ExecuteTime": {
     "end_time": "2025-04-09T06:25:20.085366Z",
     "start_time": "2025-04-09T06:25:20.072751Z"
    }
   },
   "source": [
    "def retrieve_menu_self(state: SelfRagState):\n",
    "    \"\"\"문서를 검색하는 함수\"\"\"\n",
    "    print(\"--- 문서 검색 ---\")\n",
    "    question = state[\"question\"]\n",
    "    \n",
    "    # 문서 검색 로직\n",
    "    documents = menu_db.similarity_search(question, k=2)\n",
    "    return {\"documents\": documents}      # 가장 마지막에 검색한 문서 객체들로 상태를 업데이트 \n",
    "\n",
    "def generate_self(state: SelfRagState):\n",
    "    \"\"\"답변을 생성하는 함수\"\"\"\n",
    "    print(\"--- 답변 생성 ---\")\n",
    "    question = state[\"question\"]\n",
    "    documents = state[\"documents\"]\n",
    "    \n",
    "    # RAG를 이용한 답변 생성\n",
    "    generation = generator_rag_answer(question, docs=documents)\n",
    "\n",
    "    # 생성 횟수 업데이트\n",
    "    num_generations = state.get(\"num_generations\", 0)\n",
    "    num_generations += 1\n",
    "    return {\"generation\": generation, \"num_generations\": num_generations}      # 답변, 생성횟수 업데이트 \n",
    "\n",
    "\n",
    "def grade_documents_self(state: SelfRagState):\n",
    "    \"\"\"검색된 문서의 관련성을 평가하는 함수\"\"\"\n",
    "    print(\"--- 문서 관련성 평가 ---\")\n",
    "    question = state[\"question\"]\n",
    "    documents = state[\"documents\"]\n",
    "    \n",
    "    # 각 문서 평가\n",
    "    filtered_docs = []\n",
    "    for d in documents:\n",
    "        score = retrieval_grader_binary.invoke({\"question\": question, \"document\": d})\n",
    "        grade = score.binary_score\n",
    "        if grade == \"yes\":\n",
    "            print(\"---문서 관련성: 있음---\")\n",
    "            filtered_docs.append(d)\n",
    "        else:\n",
    "            print(\"---문서 관련성: 없음---\")\n",
    "            \n",
    "    return {\"documents\": filtered_docs}       # 관련성 평가에 합격한 문서들만 저장 (override)\n",
    "\n",
    "\n",
    "def transform_query_self(state: SelfRagState):\n",
    "    \"\"\"질문을 개선하는 함수\"\"\"\n",
    "    print(\"--- 질문 개선 ---\")\n",
    "    question = state[\"question\"]\n",
    "    \n",
    "    # 질문 재작성\n",
    "    rewritten_question = rewrite_question(question)\n",
    "\n",
    "    # 생성 횟수 업데이트\n",
    "    num_generations = state.get(\"num_generations\", 0)\n",
    "    num_generations += 1\n",
    "    return {\"question\": rewritten_question, \"num_generations\": num_generations}      # 재작성한 질문을 저장, 생성횟수 업데이트 "
   ],
   "outputs": [],
   "execution_count": 29
  },
  {
   "cell_type": "markdown",
   "id": "f21bce9a",
   "metadata": {},
   "source": [
    "`(3) Edge 구성`"
   ]
  },
  {
   "cell_type": "code",
   "id": "16d71445",
   "metadata": {
    "ExecuteTime": {
     "end_time": "2025-04-09T06:25:24.132127Z",
     "start_time": "2025-04-09T06:25:24.123367Z"
    }
   },
   "source": [
    "# 조건부 엣지 함수 \n",
    "def decide_to_generate_self(state: SelfRagState):\n",
    "    \"\"\"답변 생성 여부를 결정하는 함수\"\"\"\n",
    "\n",
    "    num_generations = state.get(\"num_generations\", 0)\n",
    "    if num_generations > 2:\n",
    "        print(\"--- 결정: 생성 횟수 초과, 답변 생성 (-> generate)---\")\n",
    "        return \"generate\"\n",
    "\n",
    "    print(\"--- 평가된 문서 분석 ---\")\n",
    "    filtered_documents = state.get(\"documents\", None)\n",
    "    \n",
    "    if not filtered_documents:\n",
    "        print(\"--- 결정: 모든 문서가 질문과 관련이 없음, 질문 개선 필요 (-> transform_query)---\")\n",
    "        return \"transform_query\"\n",
    "    else:\n",
    "        print(\"--- 결정: 답변 생성 (-> generate)---\")\n",
    "        return \"generate\"\n",
    "\n",
    "# 조건부 엣지\n",
    "def grade_generation_self(state: SelfRagState):\n",
    "    \"\"\"생성된 답변의 품질을 평가하는 함수\"\"\"\n",
    "\n",
    "    num_generations = state.get(\"num_generations\", 0)\n",
    "    if num_generations > 2:\n",
    "        print(\"--- 결정: 생성 횟수 초과, 종료 (-> END)---\")\n",
    "        return \"end\"\n",
    "    \n",
    "    # 1단계: 환각 여부 확인\n",
    "    print(\"--- 환각 여부 확인 ---\")\n",
    "    question, documents, generation = state[\"question\"], state[\"documents\"], state[\"generation\"]\n",
    "    \n",
    "    hallucination_grade = hallucination_grader.invoke(\n",
    "        {\"documents\": documents, \"generation\": generation}\n",
    "    )\n",
    "\n",
    "    if hallucination_grade.binary_score == \"yes\":\n",
    "        print(\"--- 결정: 환각이 없음 (답변이 컨텍스트에 근거함) ---\")\n",
    "\n",
    "        # 1단계 통과할 경우 -> 2단계: 질문-답변 관련성 평가 \n",
    "        print(\"---질문-답변 관련성 확인---\")\n",
    "        relevance_grade = answer_grader_binary.invoke({\"question\": question, \"generation\": generation})\n",
    "        if relevance_grade.binary_score == \"yes\":\n",
    "            print(\"--- 결정: 생성된 답변이 질문을 잘 다룸 (-> END) ---\")\n",
    "            return \"useful\"\n",
    "        else:\n",
    "            print(\"--- 결정: 생성된 답변이 질문을 제대로 다루지 않음 (-> transform_query) ---\")\n",
    "            return \"not useful\"\n",
    "    else:\n",
    "        print(\"--- 결정: 생성된 답변이 문서에 근거하지 않음, 재시도 필요 (-> generate) ---\")\n",
    "        return \"not supported\""
   ],
   "outputs": [],
   "execution_count": 30
  },
  {
   "cell_type": "markdown",
   "id": "54af38ea",
   "metadata": {},
   "source": [
    "`(4) 그래프 연결`"
   ]
  },
  {
   "cell_type": "code",
   "id": "630e15b3",
   "metadata": {
    "ExecuteTime": {
     "end_time": "2025-04-09T06:25:28.727333Z",
     "start_time": "2025-04-09T06:25:28.457521Z"
    }
   },
   "source": [
    "from langgraph.graph import StateGraph, START, END\n",
    "from IPython.display import Image, display\n",
    "\n",
    "# 워크플로우 그래프 초기화\n",
    "builder = StateGraph(SelfRagState)\n",
    "\n",
    "# 노드 정의\n",
    "builder.add_node(\"search_menu\", retrieve_menu_self)          # 문서 검색\n",
    "builder.add_node(\"grade_documents\", grade_documents_self)  # 문서 평가\n",
    "builder.add_node(\"generate\", generate_self)                # 답변 생성\n",
    "builder.add_node(\"transform_query\", transform_query_self)  # 질문 개선\n",
    "\n",
    "# 그래프 구축\n",
    "builder.add_edge(START, \"search_menu\")\n",
    "builder.add_edge(\"search_menu\", \"grade_documents\")\n",
    "\n",
    "# 조건부 엣지 추가: 문서 평가 후 결정\n",
    "builder.add_conditional_edges(\n",
    "    \"grade_documents\",\n",
    "    decide_to_generate_self,\n",
    "    {\n",
    "        \"transform_query\": \"transform_query\",\n",
    "        \"generate\": \"generate\",\n",
    "    },\n",
    ")\n",
    "builder.add_edge(\"transform_query\", \"search_menu\")\n",
    "\n",
    "# 조건부 엣지 추가: 답변 생성 후 평가\n",
    "builder.add_conditional_edges(\n",
    "    \"generate\",\n",
    "    grade_generation_self,\n",
    "    {\n",
    "        \"not supported\": \"generate\",          # 환각이 발생한 경우 -> 답변을 다시 생성 \n",
    "        \"not useful\": \"transform_query\",      # 질문과 답변의 관련성이 부족한 경우 -> 쿼리 개선해서 다시 검색 \n",
    "        \"useful\": END, \n",
    "        \"end\": END,\n",
    "    },\n",
    ")\n",
    "\n",
    "# 그래프 컴파일\n",
    "self_rag = builder.compile()\n",
    "\n",
    "# 그래프 시각화\n",
    "display(Image(self_rag.get_graph().draw_mermaid_png()))"
   ],
   "outputs": [
    {
     "data": {
      "image/png": "[encoded data removed]",
      "text/plain": [
       "<IPython.core.display.Image object>"
      ]
     },
     "metadata": {},
     "output_type": "display_data"
    }
   ],
   "execution_count": 31
  },
  {
   "cell_type": "markdown",
   "id": "9a9c06f7",
   "metadata": {},
   "source": [
    "`(5) 그래프 실행`"
   ]
  },
  {
   "cell_type": "code",
   "id": "2277a425",
   "metadata": {
    "ExecuteTime": {
     "end_time": "2025-04-08T08:38:17.856919Z",
     "start_time": "2025-04-08T08:37:40.931833Z"
    }
   },
   "source": [
    "inputs = {\"question\": \"이 식당의 대표 메뉴는 무엇인가요? 주재료는 무엇인가요?\"}\n",
    "final_output = self_rag.invoke(inputs)"
   ],
   "outputs": [
    {
     "name": "stdout",
     "output_type": "stream",
     "text": [
      "--- 문서 검색 ---\n",
      "--- 문서 관련성 평가 ---\n",
      "---문서 관련성: 있음---\n",
      "---문서 관련성: 없음---\n",
      "--- 평가된 문서 분석 ---\n",
      "--- 결정: 답변 생성 (-> generate)---\n",
      "--- 답변 생성 ---\n",
      "--- 환각 여부 확인 ---\n",
      "--- 결정: 환각이 없음 (답변이 컨텍스트에 근거함) ---\n",
      "---질문-답변 관련성 확인---\n",
      "--- 결정: 생성된 답변이 질문을 제대로 다루지 않음 (-> transform_query) ---\n",
      "--- 질문 개선 ---\n",
      "--- 문서 검색 ---\n",
      "--- 문서 관련성 평가 ---\n",
      "---문서 관련성: 없음---\n",
      "---문서 관련성: 없음---\n",
      "--- 평가된 문서 분석 ---\n",
      "--- 결정: 모든 문서가 질문과 관련이 없음, 질문 개선 필요 (-> transform_query)---\n",
      "--- 질문 개선 ---\n",
      "--- 문서 검색 ---\n",
      "--- 문서 관련성 평가 ---\n",
      "---문서 관련성: 있음---\n",
      "---문서 관련성: 없음---\n",
      "--- 결정: 생성 횟수 초과, 답변 생성 (-> generate)---\n",
      "--- 답변 생성 ---\n",
      "--- 결정: 생성 횟수 초과, 종료 (-> END)---\n"
     ]
    }
   ],
   "execution_count": 35
  },
  {
   "cell_type": "code",
   "id": "9187948a",
   "metadata": {
    "ExecuteTime": {
     "end_time": "2025-04-08T08:38:48.828797Z",
     "start_time": "2025-04-08T08:38:48.813051Z"
    }
   },
   "source": [
    "# 최종 답변 \n",
    "final_output[\"generation\"]"
   ],
   "outputs": [
    {
     "data": {
      "text/plain": [
       "'주어진 문맥에 따르면, 이 식당의 대표 메뉴는 \"시그니처 스테이크\"입니다. 이 메뉴의 주요 식재료는 \"최상급 한우 등심, 로즈메리 감자, 그릴드 아스파라거스\"입니다. \\n\\n특징적인 재료로는 \"21일간 건조 숙성한 최상급 한우 등심\"이 사용되며, 이 스테이크는 \"미디엄 레어로 조리하여 육즙을 최대한 보존\"합니다. 또한 \"레드와인 소스와 함께 제공되어 풍부한 맛을 더합니다.\"'"
      ]
     },
     "execution_count": 36,
     "metadata": {},
     "output_type": "execute_result"
    }
   ],
   "execution_count": 36
  },
  {
   "cell_type": "code",
   "id": "dd4d6ea2",
   "metadata": {
    "ExecuteTime": {
     "end_time": "2025-04-08T08:42:25.535787Z",
     "start_time": "2025-04-08T08:42:15.364150Z"
    }
   },
   "source": [
    "inputs = {\"question\": \"닭을 재료로 하는 메뉴가 있나요?\"}\n",
    "for output in self_rag.stream(inputs):\n",
    "    for key, value in output.items():\n",
    "        # 노드 출력\n",
    "        pprint(f\"Node '{key}':\")\n",
    "        pprint(f\"Value: {value}\", indent=2, width=80, depth=None)\n",
    "    print(\"\\n----------------------------------------------------------\\n\")"
   ],
   "outputs": [
    {
     "name": "stdout",
     "output_type": "stream",
     "text": [
      "--- 문서 검색 ---\n",
      "\"Node 'search_menu':\"\n",
      "(\"Value: {'documents': [Document(metadata={'menu_name': '치킨 콘피', \"\n",
      " \"'menu_number': 9, 'source': './data/restaurant_menu.txt'}, page_content='9. \"\n",
      " '치킨 콘피\\\\n   • 가격: ₩23,000\\\\n   • 주요 식재료: 닭다리살, 허브, 마늘, 올리브 오일\\\\n   • 설명: '\n",
      " '닭다리살을 허브와 마늘을 넣은 올리브 오일에 저온에서 장시간 조리한 프랑스 요리입니다. 부드럽고 촉촉한 육질이 특징이며, 로즈메리 감자와 '\n",
      " \"제철 채소를 곁들여 제공합니다. 레몬 제스트를 뿌려 상큼한 향을 더했습니다.'), \"\n",
      " \"Document(metadata={'menu_name': '트러플 리조또', 'menu_number': 2, 'source': \"\n",
      " \"'./data/restaurant_menu.txt'}, page_content='2. 트러플 리조또\\\\n   • 가격: \"\n",
      " '₩22,000\\\\n   • 주요 식재료: 이탈리아산 아르보리오 쌀, 블랙 트러플, 파르미지아노 레지아노 치즈\\\\n   • 설명: 크리미한 '\n",
      " '텍스처의 리조또에 고급 블랙 트러플을 듬뿍 얹어 풍부한 향과 맛을 즐길 수 있는 메뉴입니다. 24개월 숙성된 파르미지아노 레지아노 치즈를 '\n",
      " \"사용하여 깊은 맛을 더했으며, 주문 즉시 조리하여 최상의 상태로 제공됩니다.')]}\")\n",
      "\n",
      "----------------------------------------------------------\n",
      "\n",
      "--- 문서 관련성 평가 ---\n",
      "---문서 관련성: 있음---\n",
      "---문서 관련성: 없음---\n",
      "--- 평가된 문서 분석 ---\n",
      "--- 결정: 답변 생성 (-> generate)---\n",
      "\"Node 'grade_documents':\"\n",
      "(\"Value: {'documents': [Document(metadata={'menu_name': '치킨 콘피', \"\n",
      " \"'menu_number': 9, 'source': './data/restaurant_menu.txt'}, page_content='9. \"\n",
      " '치킨 콘피\\\\n   • 가격: ₩23,000\\\\n   • 주요 식재료: 닭다리살, 허브, 마늘, 올리브 오일\\\\n   • 설명: '\n",
      " '닭다리살을 허브와 마늘을 넣은 올리브 오일에 저온에서 장시간 조리한 프랑스 요리입니다. 부드럽고 촉촉한 육질이 특징이며, 로즈메리 감자와 '\n",
      " \"제철 채소를 곁들여 제공합니다. 레몬 제스트를 뿌려 상큼한 향을 더했습니다.')]}\")\n",
      "\n",
      "----------------------------------------------------------\n",
      "\n",
      "--- 답변 생성 ---\n",
      "--- 환각 여부 확인 ---\n",
      "--- 결정: 환각이 없음 (답변이 컨텍스트에 근거함) ---\n",
      "---질문-답변 관련성 확인---\n",
      "--- 결정: 생성된 답변이 질문을 잘 다룸 (-> END) ---\n",
      "\"Node 'generate':\"\n",
      "('Value: {\\'generation\\': \\'네, 닭을 재료로 하는 메뉴가 있습니다. 문맥에 따르면 \"치킨 콘피\"라는 메뉴가 있으며, '\n",
      " '주요 식재료로 \"닭다리살\"을 사용합니다. 이 요리는 \"닭다리살을 허브와 마늘을 넣은 올리브 오일에 저온에서 장시간 조리한 프랑스 요리\"로 '\n",
      " \"설명되어 있습니다.', 'num_generations': 1}\")\n",
      "\n",
      "----------------------------------------------------------\n",
      "\n"
     ]
    }
   ],
   "execution_count": 39
  },
  {
   "cell_type": "code",
   "id": "cba11a6c",
   "metadata": {
    "ExecuteTime": {
     "end_time": "2025-04-08T08:42:35.635871Z",
     "start_time": "2025-04-08T08:42:35.629943Z"
    }
   },
   "source": [
    "# 최종 답변\n",
    "print(value[\"generation\"])"
   ],
   "outputs": [
    {
     "name": "stdout",
     "output_type": "stream",
     "text": [
      "네, 닭을 재료로 하는 메뉴가 있습니다. 문맥에 따르면 \"치킨 콘피\"라는 메뉴가 있으며, 주요 식재료로 \"닭다리살\"을 사용합니다. 이 요리는 \"닭다리살을 허브와 마늘을 넣은 올리브 오일에 저온에서 장시간 조리한 프랑스 요리\"로 설명되어 있습니다.\n"
     ]
    }
   ],
   "execution_count": 40
  },
  {
   "cell_type": "markdown",
   "id": "057e8c01",
   "metadata": {},
   "source": [
    "### 4-3. 서브그래프 (Subgraphs)\n",
    "\n",
    "- 주요 특징:\n",
    "    - 각 서브그래프는 독립적인 상태 관리 가능\n",
    "    - 메인 그래프와 서브그래프 간의 정보 교환 지원\n",
    "    - 모듈화된 설계로 복잡한 워크플로우 구현 용이\n",
    "\n",
    "- 활용 예시:\n",
    "    - 다중 에이전트 시스템: 각 에이전트 또는 팀이 자체적인 상태를 추적\n",
    "    - 복잡한 의사결정 프로세스: 여러 단계의 처리를 모듈화하여 관리\n",
    "    - Human-in-the-Loop (HITL) 통합: \n",
    "        - 서브그래프를 활용하여 인간의 개입 지점을 명확히 정의\n",
    "        - LangGraph의 Breakpoints 기능과 결합하여 효과적인 HITL 구현 가능\n",
    "\n",
    "- 장점:\n",
    "    - 모듈성 향상: 복잡한 시스템을 관리 가능한 단위로 분할\n",
    "    - 재사용성: 서브그래프를 다른 프로젝트나 컨텍스트에서 재활용 가능\n",
    "    - 유연성: 시스템의 일부분만 수정하거나 확장하기 쉬움\n",
    "    - 디버깅 용이성: 각 서브그래프를 독립적으로 테스트하고 디버그 가능\n",
    "\n",
    "- 구현 방법:\n",
    "    1. 서브그래프 상태 정의\n",
    "    2. 서브그래프 노드 및 엣지 구성\n",
    "    3. 메인 그래프에 서브그래프 통합"
   ]
  },
  {
   "cell_type": "markdown",
   "id": "7ad41d7f",
   "metadata": {},
   "source": [
    "`(1) 병렬 노드`\n",
    "\n",
    "- 병렬 노드 실행은 전체 그래프 작업의 속도를 높이는 데 필수적\n",
    "- LangGraph는 노드의 병렬 실행을 기본적으로 지원\n",
    "- 팬아웃(fan-out)과 팬인(fan-in) 메커니즘을 통해 구현"
   ]
  },
  {
   "cell_type": "code",
   "id": "e673f00a",
   "metadata": {
    "ExecuteTime": {
     "end_time": "2025-04-09T06:29:58.168035Z",
     "start_time": "2025-04-09T06:29:58.145488Z"
    }
   },
   "source": [
    "### 검색 방법을 3가지로 추가 (메뉴 검색 + 와인 검색 + 웹 검색)\n",
    "\n",
    "# 상태를 수정 (Reducer 적용)\n",
    "from typing import List, TypedDict, Annotated\n",
    "from langchain_core.documents import Document\n",
    "from operator import add\n",
    "\n",
    "class SearchState(TypedDict):\n",
    "    question: str                                            \n",
    "    documents: Annotated[List[Document], add]     # 컨텍스트 문서를 추가 \n",
    "    filtered_documents: List[Document]            # 컨텍스트 문서 중에서 질문에 대답할 수 있는 문서를 필터링\n",
    "\n",
    "\n",
    "def search_menu_subgraph(state: SearchState):\n",
    "    \"\"\"\n",
    "    Node for searching information in the restaurant menu\n",
    "    \"\"\"\n",
    "    question = state[\"question\"]\n",
    "    docs = search_menu.invoke(question)\n",
    "    if len(docs) > 0:\n",
    "        return {\"documents\": docs}\n",
    "    else:\n",
    "        return {\"documents\": [Document(page_content=\"관련 메뉴 정보를 찾을 수 없습니다.\")]}\n",
    "\n",
    "\n",
    "def search_wine_subgraph(state: SearchState):\n",
    "    \"\"\"\n",
    "    Node for searching information in the restaurant's wine list\n",
    "    \"\"\"\n",
    "    question = state[\"question\"]\n",
    "    docs = search_wine.invoke(question)\n",
    "    if len(docs) > 0:\n",
    "        return {\"documents\": docs}\n",
    "    else:\n",
    "        return {\"documents\": [Document(page_content=\"관련 와인 정보를 찾을 수 없습니다.\")]}\n",
    "\n",
    "\n",
    "def search_web_subgraph(state: SearchState):\n",
    "    \"\"\"\n",
    "    Node for searching the web for information not available in the restaurant menu \n",
    "    or for up-to-date information, and returning the results\n",
    "    \"\"\"\n",
    "    question = state[\"question\"]\n",
    "    docs = search_web.invoke(question)\n",
    "    if len(docs) > 0:\n",
    "        return {\"documents\": docs}\n",
    "    else:\n",
    "        return {\"documents\": [Document(page_content=\"관련 정보를 찾을 수 없습니다.\")]}\n",
    "\n",
    "\n",
    "# 관련성 평가 후에 필터링 문서만을 저장 \n",
    "def filter_documents_subgraph(state: SearchState):\n",
    "    \"\"\"검색된 문서의 관련성을 평가하고 필터링하는 함수\"\"\"\n",
    "    print(\"--- 문서 관련성 평가 ---\")\n",
    "    question = state[\"question\"]\n",
    "    documents = state[\"documents\"]\n",
    "    \n",
    "    # 각 문서 평가\n",
    "    filtered_docs = []\n",
    "    for d in documents:\n",
    "        score = retrieval_grader_binary.invoke({\"question\": question, \"document\": d})\n",
    "        grade = score.binary_score\n",
    "        if grade == \"yes\":\n",
    "            print(\"---문서 관련성: 있음---\")\n",
    "            filtered_docs.append(d)\n",
    "        else:\n",
    "            print(\"---문서 관련성: 없음---\")\n",
    "            \n",
    "    return {\"filtered_documents\": filtered_docs}   # 관련성 평가에 합격한 문서들만 저장 (override)"
   ],
   "outputs": [],
   "execution_count": 33
  },
  {
   "cell_type": "code",
   "id": "ce0c69bb",
   "metadata": {
    "ExecuteTime": {
     "end_time": "2025-04-09T06:32:05.294582Z",
     "start_time": "2025-04-09T06:31:53.843346Z"
    }
   },
   "source": [
    "# 그래프 생성을 위한 StateGraph 객체를 정의\n",
    "builder = StateGraph(SearchState)\n",
    "\n",
    "# 각 노드를 초기화\n",
    "builder.add_node(\"search_menu\", search_menu_subgraph)            # 메뉴 검색 노드\n",
    "builder.add_node(\"search_wine\", search_wine_subgraph)            # 와인 검색 노드\n",
    "builder.add_node(\"search_web\", search_web_subgraph)              # 웹 검색 노드\n",
    "builder.add_node(\"filter_documents\", filter_documents_subgraph)       # 문서 평가 노드\n",
    "\n",
    "# 그래프 로직 정의\n",
    "builder.add_edge(START, \"search_menu\")  \n",
    "builder.add_edge(START, \"search_wine\")  \n",
    "builder.add_edge(START, \"search_web\")  \n",
    "builder.add_edge(\"search_menu\", \"filter_documents\")  \n",
    "builder.add_edge(\"search_wine\", \"filter_documents\")\n",
    "builder.add_edge(\"search_web\", \"filter_documents\")    \n",
    "builder.add_edge(\"filter_documents\", END)  \n",
    "\n",
    "# 그래프 컴파일\n",
    "search_graph = builder.compile()\n",
    "\n",
    "# 그래프 시각화 (Mermaid 형식의 PNG로)\n",
    "display(Image(search_graph.get_graph().draw_mermaid_png()))"
   ],
   "outputs": [
    {
     "ename": "ReadTimeout",
     "evalue": "HTTPSConnectionPool(host='mermaid.ink', port=443): Read timed out. (read timeout=10)",
     "output_type": "error",
     "traceback": [
      "\u001B[1;31m---------------------------------------------------------------------------\u001B[0m",
      "\u001B[1;31mTimeoutError\u001B[0m                              Traceback (most recent call last)",
      "File \u001B[1;32m~\\Anaconda3\\envs\\langgraph_agent\\Lib\\site-packages\\urllib3\\connectionpool.py:534\u001B[0m, in \u001B[0;36mHTTPConnectionPool._make_request\u001B[1;34m(self, conn, method, url, body, headers, retries, timeout, chunked, response_conn, preload_content, decode_content, enforce_content_length)\u001B[0m\n\u001B[0;32m    533\u001B[0m \u001B[38;5;28;01mtry\u001B[39;00m:\n\u001B[1;32m--> 534\u001B[0m     response \u001B[38;5;241m=\u001B[39m conn\u001B[38;5;241m.\u001B[39mgetresponse()\n\u001B[0;32m    535\u001B[0m \u001B[38;5;28;01mexcept\u001B[39;00m (BaseSSLError, \u001B[38;5;167;01mOSError\u001B[39;00m) \u001B[38;5;28;01mas\u001B[39;00m e:\n",
      "File \u001B[1;32m~\\Anaconda3\\envs\\langgraph_agent\\Lib\\site-packages\\urllib3\\connection.py:516\u001B[0m, in \u001B[0;36mHTTPConnection.getresponse\u001B[1;34m(self)\u001B[0m\n\u001B[0;32m    515\u001B[0m \u001B[38;5;66;03m# Get the response from http.client.HTTPConnection\u001B[39;00m\n\u001B[1;32m--> 516\u001B[0m httplib_response \u001B[38;5;241m=\u001B[39m \u001B[38;5;28msuper\u001B[39m()\u001B[38;5;241m.\u001B[39mgetresponse()\n\u001B[0;32m    518\u001B[0m \u001B[38;5;28;01mtry\u001B[39;00m:\n",
      "File \u001B[1;32m~\\Anaconda3\\envs\\langgraph_agent\\Lib\\http\\client.py:1395\u001B[0m, in \u001B[0;36mHTTPConnection.getresponse\u001B[1;34m(self)\u001B[0m\n\u001B[0;32m   1394\u001B[0m \u001B[38;5;28;01mtry\u001B[39;00m:\n\u001B[1;32m-> 1395\u001B[0m     response\u001B[38;5;241m.\u001B[39mbegin()\n\u001B[0;32m   1396\u001B[0m \u001B[38;5;28;01mexcept\u001B[39;00m \u001B[38;5;167;01mConnectionError\u001B[39;00m:\n",
      "File \u001B[1;32m~\\Anaconda3\\envs\\langgraph_agent\\Lib\\http\\client.py:325\u001B[0m, in \u001B[0;36mHTTPResponse.begin\u001B[1;34m(self)\u001B[0m\n\u001B[0;32m    324\u001B[0m \u001B[38;5;28;01mwhile\u001B[39;00m \u001B[38;5;28;01mTrue\u001B[39;00m:\n\u001B[1;32m--> 325\u001B[0m     version, status, reason \u001B[38;5;241m=\u001B[39m \u001B[38;5;28mself\u001B[39m\u001B[38;5;241m.\u001B[39m_read_status()\n\u001B[0;32m    326\u001B[0m     \u001B[38;5;28;01mif\u001B[39;00m status \u001B[38;5;241m!=\u001B[39m CONTINUE:\n",
      "File \u001B[1;32m~\\Anaconda3\\envs\\langgraph_agent\\Lib\\http\\client.py:286\u001B[0m, in \u001B[0;36mHTTPResponse._read_status\u001B[1;34m(self)\u001B[0m\n\u001B[0;32m    285\u001B[0m \u001B[38;5;28;01mdef\u001B[39;00m \u001B[38;5;21m_read_status\u001B[39m(\u001B[38;5;28mself\u001B[39m):\n\u001B[1;32m--> 286\u001B[0m     line \u001B[38;5;241m=\u001B[39m \u001B[38;5;28mstr\u001B[39m(\u001B[38;5;28mself\u001B[39m\u001B[38;5;241m.\u001B[39mfp\u001B[38;5;241m.\u001B[39mreadline(_MAXLINE \u001B[38;5;241m+\u001B[39m \u001B[38;5;241m1\u001B[39m), \u001B[38;5;124m\"\u001B[39m\u001B[38;5;124miso-8859-1\u001B[39m\u001B[38;5;124m\"\u001B[39m)\n\u001B[0;32m    287\u001B[0m     \u001B[38;5;28;01mif\u001B[39;00m \u001B[38;5;28mlen\u001B[39m(line) \u001B[38;5;241m>\u001B[39m _MAXLINE:\n",
      "File \u001B[1;32m~\\Anaconda3\\envs\\langgraph_agent\\Lib\\socket.py:718\u001B[0m, in \u001B[0;36mSocketIO.readinto\u001B[1;34m(self, b)\u001B[0m\n\u001B[0;32m    717\u001B[0m \u001B[38;5;28;01mtry\u001B[39;00m:\n\u001B[1;32m--> 718\u001B[0m     \u001B[38;5;28;01mreturn\u001B[39;00m \u001B[38;5;28mself\u001B[39m\u001B[38;5;241m.\u001B[39m_sock\u001B[38;5;241m.\u001B[39mrecv_into(b)\n\u001B[0;32m    719\u001B[0m \u001B[38;5;28;01mexcept\u001B[39;00m timeout:\n",
      "File \u001B[1;32m~\\Anaconda3\\envs\\langgraph_agent\\Lib\\ssl.py:1314\u001B[0m, in \u001B[0;36mSSLSocket.recv_into\u001B[1;34m(self, buffer, nbytes, flags)\u001B[0m\n\u001B[0;32m   1311\u001B[0m         \u001B[38;5;28;01mraise\u001B[39;00m \u001B[38;5;167;01mValueError\u001B[39;00m(\n\u001B[0;32m   1312\u001B[0m           \u001B[38;5;124m\"\u001B[39m\u001B[38;5;124mnon-zero flags not allowed in calls to recv_into() on \u001B[39m\u001B[38;5;132;01m%s\u001B[39;00m\u001B[38;5;124m\"\u001B[39m \u001B[38;5;241m%\u001B[39m\n\u001B[0;32m   1313\u001B[0m           \u001B[38;5;28mself\u001B[39m\u001B[38;5;241m.\u001B[39m\u001B[38;5;18m__class__\u001B[39m)\n\u001B[1;32m-> 1314\u001B[0m     \u001B[38;5;28;01mreturn\u001B[39;00m \u001B[38;5;28mself\u001B[39m\u001B[38;5;241m.\u001B[39mread(nbytes, buffer)\n\u001B[0;32m   1315\u001B[0m \u001B[38;5;28;01melse\u001B[39;00m:\n",
      "File \u001B[1;32m~\\Anaconda3\\envs\\langgraph_agent\\Lib\\ssl.py:1166\u001B[0m, in \u001B[0;36mSSLSocket.read\u001B[1;34m(self, len, buffer)\u001B[0m\n\u001B[0;32m   1165\u001B[0m \u001B[38;5;28;01mif\u001B[39;00m buffer \u001B[38;5;129;01mis\u001B[39;00m \u001B[38;5;129;01mnot\u001B[39;00m \u001B[38;5;28;01mNone\u001B[39;00m:\n\u001B[1;32m-> 1166\u001B[0m     \u001B[38;5;28;01mreturn\u001B[39;00m \u001B[38;5;28mself\u001B[39m\u001B[38;5;241m.\u001B[39m_sslobj\u001B[38;5;241m.\u001B[39mread(\u001B[38;5;28mlen\u001B[39m, buffer)\n\u001B[0;32m   1167\u001B[0m \u001B[38;5;28;01melse\u001B[39;00m:\n",
      "\u001B[1;31mTimeoutError\u001B[0m: The read operation timed out",
      "\nThe above exception was the direct cause of the following exception:\n",
      "\u001B[1;31mReadTimeoutError\u001B[0m                          Traceback (most recent call last)",
      "File \u001B[1;32m~\\Anaconda3\\envs\\langgraph_agent\\Lib\\site-packages\\requests\\adapters.py:667\u001B[0m, in \u001B[0;36mHTTPAdapter.send\u001B[1;34m(self, request, stream, timeout, verify, cert, proxies)\u001B[0m\n\u001B[0;32m    666\u001B[0m \u001B[38;5;28;01mtry\u001B[39;00m:\n\u001B[1;32m--> 667\u001B[0m     resp \u001B[38;5;241m=\u001B[39m conn\u001B[38;5;241m.\u001B[39murlopen(\n\u001B[0;32m    668\u001B[0m         method\u001B[38;5;241m=\u001B[39mrequest\u001B[38;5;241m.\u001B[39mmethod,\n\u001B[0;32m    669\u001B[0m         url\u001B[38;5;241m=\u001B[39murl,\n\u001B[0;32m    670\u001B[0m         body\u001B[38;5;241m=\u001B[39mrequest\u001B[38;5;241m.\u001B[39mbody,\n\u001B[0;32m    671\u001B[0m         headers\u001B[38;5;241m=\u001B[39mrequest\u001B[38;5;241m.\u001B[39mheaders,\n\u001B[0;32m    672\u001B[0m         redirect\u001B[38;5;241m=\u001B[39m\u001B[38;5;28;01mFalse\u001B[39;00m,\n\u001B[0;32m    673\u001B[0m         assert_same_host\u001B[38;5;241m=\u001B[39m\u001B[38;5;28;01mFalse\u001B[39;00m,\n\u001B[0;32m    674\u001B[0m         preload_content\u001B[38;5;241m=\u001B[39m\u001B[38;5;28;01mFalse\u001B[39;00m,\n\u001B[0;32m    675\u001B[0m         decode_content\u001B[38;5;241m=\u001B[39m\u001B[38;5;28;01mFalse\u001B[39;00m,\n\u001B[0;32m    676\u001B[0m         retries\u001B[38;5;241m=\u001B[39m\u001B[38;5;28mself\u001B[39m\u001B[38;5;241m.\u001B[39mmax_retries,\n\u001B[0;32m    677\u001B[0m         timeout\u001B[38;5;241m=\u001B[39mtimeout,\n\u001B[0;32m    678\u001B[0m         chunked\u001B[38;5;241m=\u001B[39mchunked,\n\u001B[0;32m    679\u001B[0m     )\n\u001B[0;32m    681\u001B[0m \u001B[38;5;28;01mexcept\u001B[39;00m (ProtocolError, \u001B[38;5;167;01mOSError\u001B[39;00m) \u001B[38;5;28;01mas\u001B[39;00m err:\n",
      "File \u001B[1;32m~\\Anaconda3\\envs\\langgraph_agent\\Lib\\site-packages\\urllib3\\connectionpool.py:841\u001B[0m, in \u001B[0;36mHTTPConnectionPool.urlopen\u001B[1;34m(self, method, url, body, headers, retries, redirect, assert_same_host, timeout, pool_timeout, release_conn, chunked, body_pos, preload_content, decode_content, **response_kw)\u001B[0m\n\u001B[0;32m    839\u001B[0m     new_e \u001B[38;5;241m=\u001B[39m ProtocolError(\u001B[38;5;124m\"\u001B[39m\u001B[38;5;124mConnection aborted.\u001B[39m\u001B[38;5;124m\"\u001B[39m, new_e)\n\u001B[1;32m--> 841\u001B[0m retries \u001B[38;5;241m=\u001B[39m retries\u001B[38;5;241m.\u001B[39mincrement(\n\u001B[0;32m    842\u001B[0m     method, url, error\u001B[38;5;241m=\u001B[39mnew_e, _pool\u001B[38;5;241m=\u001B[39m\u001B[38;5;28mself\u001B[39m, _stacktrace\u001B[38;5;241m=\u001B[39msys\u001B[38;5;241m.\u001B[39mexc_info()[\u001B[38;5;241m2\u001B[39m]\n\u001B[0;32m    843\u001B[0m )\n\u001B[0;32m    844\u001B[0m retries\u001B[38;5;241m.\u001B[39msleep()\n",
      "File \u001B[1;32m~\\Anaconda3\\envs\\langgraph_agent\\Lib\\site-packages\\urllib3\\util\\retry.py:474\u001B[0m, in \u001B[0;36mRetry.increment\u001B[1;34m(self, method, url, response, error, _pool, _stacktrace)\u001B[0m\n\u001B[0;32m    473\u001B[0m \u001B[38;5;28;01mif\u001B[39;00m read \u001B[38;5;129;01mis\u001B[39;00m \u001B[38;5;28;01mFalse\u001B[39;00m \u001B[38;5;129;01mor\u001B[39;00m method \u001B[38;5;129;01mis\u001B[39;00m \u001B[38;5;28;01mNone\u001B[39;00m \u001B[38;5;129;01mor\u001B[39;00m \u001B[38;5;129;01mnot\u001B[39;00m \u001B[38;5;28mself\u001B[39m\u001B[38;5;241m.\u001B[39m_is_method_retryable(method):\n\u001B[1;32m--> 474\u001B[0m     \u001B[38;5;28;01mraise\u001B[39;00m reraise(\u001B[38;5;28mtype\u001B[39m(error), error, _stacktrace)\n\u001B[0;32m    475\u001B[0m \u001B[38;5;28;01melif\u001B[39;00m read \u001B[38;5;129;01mis\u001B[39;00m \u001B[38;5;129;01mnot\u001B[39;00m \u001B[38;5;28;01mNone\u001B[39;00m:\n",
      "File \u001B[1;32m~\\Anaconda3\\envs\\langgraph_agent\\Lib\\site-packages\\urllib3\\util\\util.py:39\u001B[0m, in \u001B[0;36mreraise\u001B[1;34m(tp, value, tb)\u001B[0m\n\u001B[0;32m     38\u001B[0m         \u001B[38;5;28;01mraise\u001B[39;00m value\u001B[38;5;241m.\u001B[39mwith_traceback(tb)\n\u001B[1;32m---> 39\u001B[0m     \u001B[38;5;28;01mraise\u001B[39;00m value\n\u001B[0;32m     40\u001B[0m \u001B[38;5;28;01mfinally\u001B[39;00m:\n",
      "File \u001B[1;32m~\\Anaconda3\\envs\\langgraph_agent\\Lib\\site-packages\\urllib3\\connectionpool.py:787\u001B[0m, in \u001B[0;36mHTTPConnectionPool.urlopen\u001B[1;34m(self, method, url, body, headers, retries, redirect, assert_same_host, timeout, pool_timeout, release_conn, chunked, body_pos, preload_content, decode_content, **response_kw)\u001B[0m\n\u001B[0;32m    786\u001B[0m \u001B[38;5;66;03m# Make the request on the HTTPConnection object\u001B[39;00m\n\u001B[1;32m--> 787\u001B[0m response \u001B[38;5;241m=\u001B[39m \u001B[38;5;28mself\u001B[39m\u001B[38;5;241m.\u001B[39m_make_request(\n\u001B[0;32m    788\u001B[0m     conn,\n\u001B[0;32m    789\u001B[0m     method,\n\u001B[0;32m    790\u001B[0m     url,\n\u001B[0;32m    791\u001B[0m     timeout\u001B[38;5;241m=\u001B[39mtimeout_obj,\n\u001B[0;32m    792\u001B[0m     body\u001B[38;5;241m=\u001B[39mbody,\n\u001B[0;32m    793\u001B[0m     headers\u001B[38;5;241m=\u001B[39mheaders,\n\u001B[0;32m    794\u001B[0m     chunked\u001B[38;5;241m=\u001B[39mchunked,\n\u001B[0;32m    795\u001B[0m     retries\u001B[38;5;241m=\u001B[39mretries,\n\u001B[0;32m    796\u001B[0m     response_conn\u001B[38;5;241m=\u001B[39mresponse_conn,\n\u001B[0;32m    797\u001B[0m     preload_content\u001B[38;5;241m=\u001B[39mpreload_content,\n\u001B[0;32m    798\u001B[0m     decode_content\u001B[38;5;241m=\u001B[39mdecode_content,\n\u001B[0;32m    799\u001B[0m     \u001B[38;5;241m*\u001B[39m\u001B[38;5;241m*\u001B[39mresponse_kw,\n\u001B[0;32m    800\u001B[0m )\n\u001B[0;32m    802\u001B[0m \u001B[38;5;66;03m# Everything went great!\u001B[39;00m\n",
      "File \u001B[1;32m~\\Anaconda3\\envs\\langgraph_agent\\Lib\\site-packages\\urllib3\\connectionpool.py:536\u001B[0m, in \u001B[0;36mHTTPConnectionPool._make_request\u001B[1;34m(self, conn, method, url, body, headers, retries, timeout, chunked, response_conn, preload_content, decode_content, enforce_content_length)\u001B[0m\n\u001B[0;32m    535\u001B[0m \u001B[38;5;28;01mexcept\u001B[39;00m (BaseSSLError, \u001B[38;5;167;01mOSError\u001B[39;00m) \u001B[38;5;28;01mas\u001B[39;00m e:\n\u001B[1;32m--> 536\u001B[0m     \u001B[38;5;28mself\u001B[39m\u001B[38;5;241m.\u001B[39m_raise_timeout(err\u001B[38;5;241m=\u001B[39me, url\u001B[38;5;241m=\u001B[39murl, timeout_value\u001B[38;5;241m=\u001B[39mread_timeout)\n\u001B[0;32m    537\u001B[0m     \u001B[38;5;28;01mraise\u001B[39;00m\n",
      "File \u001B[1;32m~\\Anaconda3\\envs\\langgraph_agent\\Lib\\site-packages\\urllib3\\connectionpool.py:367\u001B[0m, in \u001B[0;36mHTTPConnectionPool._raise_timeout\u001B[1;34m(self, err, url, timeout_value)\u001B[0m\n\u001B[0;32m    366\u001B[0m \u001B[38;5;28;01mif\u001B[39;00m \u001B[38;5;28misinstance\u001B[39m(err, SocketTimeout):\n\u001B[1;32m--> 367\u001B[0m     \u001B[38;5;28;01mraise\u001B[39;00m ReadTimeoutError(\n\u001B[0;32m    368\u001B[0m         \u001B[38;5;28mself\u001B[39m, url, \u001B[38;5;124mf\u001B[39m\u001B[38;5;124m\"\u001B[39m\u001B[38;5;124mRead timed out. (read timeout=\u001B[39m\u001B[38;5;132;01m{\u001B[39;00mtimeout_value\u001B[38;5;132;01m}\u001B[39;00m\u001B[38;5;124m)\u001B[39m\u001B[38;5;124m\"\u001B[39m\n\u001B[0;32m    369\u001B[0m     ) \u001B[38;5;28;01mfrom\u001B[39;00m \u001B[38;5;21;01merr\u001B[39;00m\n\u001B[0;32m    371\u001B[0m \u001B[38;5;66;03m# See the above comment about EAGAIN in Python 3.\u001B[39;00m\n",
      "\u001B[1;31mReadTimeoutError\u001B[0m: HTTPSConnectionPool(host='mermaid.ink', port=443): Read timed out. (read timeout=10)",
      "\nDuring handling of the above exception, another exception occurred:\n",
      "\u001B[1;31mReadTimeout\u001B[0m                               Traceback (most recent call last)",
      "Cell \u001B[1;32mIn[34], line 23\u001B[0m\n\u001B[0;32m     20\u001B[0m search_graph \u001B[38;5;241m=\u001B[39m builder\u001B[38;5;241m.\u001B[39mcompile()\n\u001B[0;32m     22\u001B[0m \u001B[38;5;66;03m# 그래프 시각화 (Mermaid 형식의 PNG로)\u001B[39;00m\n\u001B[1;32m---> 23\u001B[0m display(Image(search_graph\u001B[38;5;241m.\u001B[39mget_graph()\u001B[38;5;241m.\u001B[39mdraw_mermaid_png()))\n",
      "File \u001B[1;32m~\\Anaconda3\\envs\\langgraph_agent\\Lib\\site-packages\\langchain_core\\runnables\\graph.py:667\u001B[0m, in \u001B[0;36mGraph.draw_mermaid_png\u001B[1;34m(self, curve_style, node_colors, wrap_label_n_words, output_file_path, draw_method, background_color, padding, frontmatter_config)\u001B[0m\n\u001B[0;32m    659\u001B[0m \u001B[38;5;28;01mfrom\u001B[39;00m \u001B[38;5;21;01mlangchain_core\u001B[39;00m\u001B[38;5;21;01m.\u001B[39;00m\u001B[38;5;21;01mrunnables\u001B[39;00m\u001B[38;5;21;01m.\u001B[39;00m\u001B[38;5;21;01mgraph_mermaid\u001B[39;00m \u001B[38;5;28;01mimport\u001B[39;00m draw_mermaid_png\n\u001B[0;32m    661\u001B[0m mermaid_syntax \u001B[38;5;241m=\u001B[39m \u001B[38;5;28mself\u001B[39m\u001B[38;5;241m.\u001B[39mdraw_mermaid(\n\u001B[0;32m    662\u001B[0m     curve_style\u001B[38;5;241m=\u001B[39mcurve_style,\n\u001B[0;32m    663\u001B[0m     node_colors\u001B[38;5;241m=\u001B[39mnode_colors,\n\u001B[0;32m    664\u001B[0m     wrap_label_n_words\u001B[38;5;241m=\u001B[39mwrap_label_n_words,\n\u001B[0;32m    665\u001B[0m     frontmatter_config\u001B[38;5;241m=\u001B[39mfrontmatter_config,\n\u001B[0;32m    666\u001B[0m )\n\u001B[1;32m--> 667\u001B[0m \u001B[38;5;28;01mreturn\u001B[39;00m draw_mermaid_png(\n\u001B[0;32m    668\u001B[0m     mermaid_syntax\u001B[38;5;241m=\u001B[39mmermaid_syntax,\n\u001B[0;32m    669\u001B[0m     output_file_path\u001B[38;5;241m=\u001B[39moutput_file_path,\n\u001B[0;32m    670\u001B[0m     draw_method\u001B[38;5;241m=\u001B[39mdraw_method,\n\u001B[0;32m    671\u001B[0m     background_color\u001B[38;5;241m=\u001B[39mbackground_color,\n\u001B[0;32m    672\u001B[0m     padding\u001B[38;5;241m=\u001B[39mpadding,\n\u001B[0;32m    673\u001B[0m )\n",
      "File \u001B[1;32m~\\Anaconda3\\envs\\langgraph_agent\\Lib\\site-packages\\langchain_core\\runnables\\graph_mermaid.py:282\u001B[0m, in \u001B[0;36mdraw_mermaid_png\u001B[1;34m(mermaid_syntax, output_file_path, draw_method, background_color, padding)\u001B[0m\n\u001B[0;32m    276\u001B[0m     img_bytes \u001B[38;5;241m=\u001B[39m asyncio\u001B[38;5;241m.\u001B[39mrun(\n\u001B[0;32m    277\u001B[0m         _render_mermaid_using_pyppeteer(\n\u001B[0;32m    278\u001B[0m             mermaid_syntax, output_file_path, background_color, padding\n\u001B[0;32m    279\u001B[0m         )\n\u001B[0;32m    280\u001B[0m     )\n\u001B[0;32m    281\u001B[0m \u001B[38;5;28;01melif\u001B[39;00m draw_method \u001B[38;5;241m==\u001B[39m MermaidDrawMethod\u001B[38;5;241m.\u001B[39mAPI:\n\u001B[1;32m--> 282\u001B[0m     img_bytes \u001B[38;5;241m=\u001B[39m _render_mermaid_using_api(\n\u001B[0;32m    283\u001B[0m         mermaid_syntax, output_file_path, background_color\n\u001B[0;32m    284\u001B[0m     )\n\u001B[0;32m    285\u001B[0m \u001B[38;5;28;01melse\u001B[39;00m:\n\u001B[0;32m    286\u001B[0m     supported_methods \u001B[38;5;241m=\u001B[39m \u001B[38;5;124m\"\u001B[39m\u001B[38;5;124m, \u001B[39m\u001B[38;5;124m\"\u001B[39m\u001B[38;5;241m.\u001B[39mjoin([m\u001B[38;5;241m.\u001B[39mvalue \u001B[38;5;28;01mfor\u001B[39;00m m \u001B[38;5;129;01min\u001B[39;00m MermaidDrawMethod])\n",
      "File \u001B[1;32m~\\Anaconda3\\envs\\langgraph_agent\\Lib\\site-packages\\langchain_core\\runnables\\graph_mermaid.py:400\u001B[0m, in \u001B[0;36m_render_mermaid_using_api\u001B[1;34m(mermaid_syntax, output_file_path, background_color, file_type)\u001B[0m\n\u001B[0;32m    394\u001B[0m         background_color \u001B[38;5;241m=\u001B[39m \u001B[38;5;124mf\u001B[39m\u001B[38;5;124m\"\u001B[39m\u001B[38;5;124m!\u001B[39m\u001B[38;5;132;01m{\u001B[39;00mbackground_color\u001B[38;5;132;01m}\u001B[39;00m\u001B[38;5;124m\"\u001B[39m\n\u001B[0;32m    396\u001B[0m image_url \u001B[38;5;241m=\u001B[39m (\n\u001B[0;32m    397\u001B[0m     \u001B[38;5;124mf\u001B[39m\u001B[38;5;124m\"\u001B[39m\u001B[38;5;124mhttps://mermaid.ink/img/\u001B[39m\u001B[38;5;132;01m{\u001B[39;00mmermaid_syntax_encoded\u001B[38;5;132;01m}\u001B[39;00m\u001B[38;5;124m\"\u001B[39m\n\u001B[0;32m    398\u001B[0m     \u001B[38;5;124mf\u001B[39m\u001B[38;5;124m\"\u001B[39m\u001B[38;5;124m?type=\u001B[39m\u001B[38;5;132;01m{\u001B[39;00mfile_type\u001B[38;5;132;01m}\u001B[39;00m\u001B[38;5;124m&bgColor=\u001B[39m\u001B[38;5;132;01m{\u001B[39;00mbackground_color\u001B[38;5;132;01m}\u001B[39;00m\u001B[38;5;124m\"\u001B[39m\n\u001B[0;32m    399\u001B[0m )\n\u001B[1;32m--> 400\u001B[0m response \u001B[38;5;241m=\u001B[39m requests\u001B[38;5;241m.\u001B[39mget(image_url, timeout\u001B[38;5;241m=\u001B[39m\u001B[38;5;241m10\u001B[39m)\n\u001B[0;32m    401\u001B[0m \u001B[38;5;28;01mif\u001B[39;00m response\u001B[38;5;241m.\u001B[39mstatus_code \u001B[38;5;241m==\u001B[39m \u001B[38;5;241m200\u001B[39m:\n\u001B[0;32m    402\u001B[0m     img_bytes \u001B[38;5;241m=\u001B[39m response\u001B[38;5;241m.\u001B[39mcontent\n",
      "File \u001B[1;32m~\\Anaconda3\\envs\\langgraph_agent\\Lib\\site-packages\\requests\\api.py:73\u001B[0m, in \u001B[0;36mget\u001B[1;34m(url, params, **kwargs)\u001B[0m\n\u001B[0;32m     62\u001B[0m \u001B[38;5;28;01mdef\u001B[39;00m \u001B[38;5;21mget\u001B[39m(url, params\u001B[38;5;241m=\u001B[39m\u001B[38;5;28;01mNone\u001B[39;00m, \u001B[38;5;241m*\u001B[39m\u001B[38;5;241m*\u001B[39mkwargs):\n\u001B[0;32m     63\u001B[0m \u001B[38;5;250m    \u001B[39m\u001B[38;5;124mr\u001B[39m\u001B[38;5;124;03m\"\"\"Sends a GET request.\u001B[39;00m\n\u001B[0;32m     64\u001B[0m \n\u001B[0;32m     65\u001B[0m \u001B[38;5;124;03m    :param url: URL for the new :class:`Request` object.\u001B[39;00m\n\u001B[1;32m   (...)\u001B[0m\n\u001B[0;32m     70\u001B[0m \u001B[38;5;124;03m    :rtype: requests.Response\u001B[39;00m\n\u001B[0;32m     71\u001B[0m \u001B[38;5;124;03m    \"\"\"\u001B[39;00m\n\u001B[1;32m---> 73\u001B[0m     \u001B[38;5;28;01mreturn\u001B[39;00m request(\u001B[38;5;124m\"\u001B[39m\u001B[38;5;124mget\u001B[39m\u001B[38;5;124m\"\u001B[39m, url, params\u001B[38;5;241m=\u001B[39mparams, \u001B[38;5;241m*\u001B[39m\u001B[38;5;241m*\u001B[39mkwargs)\n",
      "File \u001B[1;32m~\\Anaconda3\\envs\\langgraph_agent\\Lib\\site-packages\\requests\\api.py:59\u001B[0m, in \u001B[0;36mrequest\u001B[1;34m(method, url, **kwargs)\u001B[0m\n\u001B[0;32m     55\u001B[0m \u001B[38;5;66;03m# By using the 'with' statement we are sure the session is closed, thus we\u001B[39;00m\n\u001B[0;32m     56\u001B[0m \u001B[38;5;66;03m# avoid leaving sockets open which can trigger a ResourceWarning in some\u001B[39;00m\n\u001B[0;32m     57\u001B[0m \u001B[38;5;66;03m# cases, and look like a memory leak in others.\u001B[39;00m\n\u001B[0;32m     58\u001B[0m \u001B[38;5;28;01mwith\u001B[39;00m sessions\u001B[38;5;241m.\u001B[39mSession() \u001B[38;5;28;01mas\u001B[39;00m session:\n\u001B[1;32m---> 59\u001B[0m     \u001B[38;5;28;01mreturn\u001B[39;00m session\u001B[38;5;241m.\u001B[39mrequest(method\u001B[38;5;241m=\u001B[39mmethod, url\u001B[38;5;241m=\u001B[39murl, \u001B[38;5;241m*\u001B[39m\u001B[38;5;241m*\u001B[39mkwargs)\n",
      "File \u001B[1;32m~\\Anaconda3\\envs\\langgraph_agent\\Lib\\site-packages\\requests\\sessions.py:589\u001B[0m, in \u001B[0;36mSession.request\u001B[1;34m(self, method, url, params, data, headers, cookies, files, auth, timeout, allow_redirects, proxies, hooks, stream, verify, cert, json)\u001B[0m\n\u001B[0;32m    584\u001B[0m send_kwargs \u001B[38;5;241m=\u001B[39m {\n\u001B[0;32m    585\u001B[0m     \u001B[38;5;124m\"\u001B[39m\u001B[38;5;124mtimeout\u001B[39m\u001B[38;5;124m\"\u001B[39m: timeout,\n\u001B[0;32m    586\u001B[0m     \u001B[38;5;124m\"\u001B[39m\u001B[38;5;124mallow_redirects\u001B[39m\u001B[38;5;124m\"\u001B[39m: allow_redirects,\n\u001B[0;32m    587\u001B[0m }\n\u001B[0;32m    588\u001B[0m send_kwargs\u001B[38;5;241m.\u001B[39mupdate(settings)\n\u001B[1;32m--> 589\u001B[0m resp \u001B[38;5;241m=\u001B[39m \u001B[38;5;28mself\u001B[39m\u001B[38;5;241m.\u001B[39msend(prep, \u001B[38;5;241m*\u001B[39m\u001B[38;5;241m*\u001B[39msend_kwargs)\n\u001B[0;32m    591\u001B[0m \u001B[38;5;28;01mreturn\u001B[39;00m resp\n",
      "File \u001B[1;32m~\\Anaconda3\\envs\\langgraph_agent\\Lib\\site-packages\\requests\\sessions.py:703\u001B[0m, in \u001B[0;36mSession.send\u001B[1;34m(self, request, **kwargs)\u001B[0m\n\u001B[0;32m    700\u001B[0m start \u001B[38;5;241m=\u001B[39m preferred_clock()\n\u001B[0;32m    702\u001B[0m \u001B[38;5;66;03m# Send the request\u001B[39;00m\n\u001B[1;32m--> 703\u001B[0m r \u001B[38;5;241m=\u001B[39m adapter\u001B[38;5;241m.\u001B[39msend(request, \u001B[38;5;241m*\u001B[39m\u001B[38;5;241m*\u001B[39mkwargs)\n\u001B[0;32m    705\u001B[0m \u001B[38;5;66;03m# Total elapsed time of the request (approximately)\u001B[39;00m\n\u001B[0;32m    706\u001B[0m elapsed \u001B[38;5;241m=\u001B[39m preferred_clock() \u001B[38;5;241m-\u001B[39m start\n",
      "File \u001B[1;32m~\\Anaconda3\\envs\\langgraph_agent\\Lib\\site-packages\\requests\\adapters.py:713\u001B[0m, in \u001B[0;36mHTTPAdapter.send\u001B[1;34m(self, request, stream, timeout, verify, cert, proxies)\u001B[0m\n\u001B[0;32m    711\u001B[0m     \u001B[38;5;28;01mraise\u001B[39;00m SSLError(e, request\u001B[38;5;241m=\u001B[39mrequest)\n\u001B[0;32m    712\u001B[0m \u001B[38;5;28;01melif\u001B[39;00m \u001B[38;5;28misinstance\u001B[39m(e, ReadTimeoutError):\n\u001B[1;32m--> 713\u001B[0m     \u001B[38;5;28;01mraise\u001B[39;00m ReadTimeout(e, request\u001B[38;5;241m=\u001B[39mrequest)\n\u001B[0;32m    714\u001B[0m \u001B[38;5;28;01melif\u001B[39;00m \u001B[38;5;28misinstance\u001B[39m(e, _InvalidHeader):\n\u001B[0;32m    715\u001B[0m     \u001B[38;5;28;01mraise\u001B[39;00m InvalidHeader(e, request\u001B[38;5;241m=\u001B[39mrequest)\n",
      "\u001B[1;31mReadTimeout\u001B[0m: HTTPSConnectionPool(host='mermaid.ink', port=443): Read timed out. (read timeout=10)"
     ]
    }
   ],
   "execution_count": 34
  },
  {
   "cell_type": "code",
   "id": "bb970c61",
   "metadata": {
    "ExecuteTime": {
     "end_time": "2025-04-09T06:32:31.989868Z",
     "start_time": "2025-04-09T06:32:11.921668Z"
    }
   },
   "source": [
    "result = search_graph.invoke({\"question\": \"스테이크 매뉴가 있으면 추천해주세요. 그리고 어울리는 와인도 소개해주세요.\"})\n",
    "result"
   ],
   "outputs": [
    {
     "name": "stdout",
     "output_type": "stream",
     "text": [
      "--- 문서 관련성 평가 ---\n",
      "---문서 관련성: 있음---\n",
      "---문서 관련성: 없음---\n",
      "---문서 관련성: 없음---\n",
      "---문서 관련성: 없음---\n",
      "---문서 관련성: 있음---\n",
      "---문서 관련성: 없음---\n"
     ]
    },
    {
     "data": {
      "text/plain": [
       "{'question': '스테이크 매뉴가 있으면 추천해주세요. 그리고 어울리는 와인도 소개해주세요.',\n",
       " 'documents': [Document(metadata={'menu_name': '시그니처 스테이크', 'menu_number': 1, 'source': './data/restaurant_menu.txt'}, page_content='1. 시그니처 스테이크\\n   • 가격: ₩35,000\\n   • 주요 식재료: 최상급 한우 등심, 로즈메리 감자, 그릴드 아스파라거스\\n   • 설명: 셰프의 특제 시그니처 메뉴로, 21일간 건조 숙성한 최상급 한우 등심을 사용합니다. 미디엄 레어로 조리하여 육즙을 최대한 보존하며, 로즈메리 향의 감자와 아삭한 그릴드 아스파라거스가 곁들여집니다. 레드와인 소스와 함께 제공되어 풍부한 맛을 더합니다.'),\n",
       "  Document(metadata={'menu_name': '치킨 콘피', 'menu_number': 9, 'source': './data/restaurant_menu.txt'}, page_content='9. 치킨 콘피\\n   • 가격: ₩23,000\\n   • 주요 식재료: 닭다리살, 허브, 마늘, 올리브 오일\\n   • 설명: 닭다리살을 허브와 마늘을 넣은 올리브 오일에 저온에서 장시간 조리한 프랑스 요리입니다. 부드럽고 촉촉한 육질이 특징이며, 로즈메리 감자와 제철 채소를 곁들여 제공합니다. 레몬 제스트를 뿌려 상큼한 향을 더했습니다.'),\n",
       "  Document(metadata={'menu_name': '풀리니 몽라쉐 1er Cru 2018', 'menu_number': 7, 'source': './data/restaurant_wine.txt'}, page_content='7. 풀리니 몽라쉐 1er Cru 2018\\n   • 가격: ₩320,000\\n   • 주요 품종: 샤르도네\\n   • 설명: 부르고뉴 최고의 화이트 와인 중 하나로 꼽힙니다. 레몬, 사과, 배의 과실향과 함께 헤이즐넛, 버터, 바닐라의 풍부한 향이 어우러집니다. 미네랄리티가 돋보이며, 크리미한 텍스처와 긴 여운이 특징입니다. 해산물, 닭고기, 크림 소스 파스타와 좋은 페어링을 이룹니다.'),\n",
       "  Document(metadata={'menu_name': '사시카이아 2018', 'menu_number': 3, 'source': './data/restaurant_wine.txt'}, page_content='3. 사시카이아 2018\\n   • 가격: ₩420,000\\n   • 주요 품종: 카베르네 소비뇽, 카베르네 프랑, 메를로\\n   • 설명: 이탈리아 토스카나의 슈퍼 투스칸 와인입니다. 블랙베리, 카시스의 강렬한 과실향과 함께 허브, 가죽, 스파이스 노트가 복잡성을 더합니다. 풀바디이지만 우아한 타닌과 신선한 산도가 균형을 잡아줍니다. 오크 숙성으로 인한 바닐라, 초콜릿 향이 은은하게 느껴집니다.'),\n",
       "  Document(metadata={'source': 'web search', 'url': 'https://m.blog.naver.com/carpeteulb/222559633508'}, page_content='<Document href=\"https://m.blog.naver.com/carpeteulb/222559633508\"/>\\n어울리는 와인은?\\n\\n사진출처 : pasowine.com\\n\\n쭉 길게 늘어진 고기모양이 흡사 뉴욕과 닮아서\\n\\n뉴욕 스트립이라 불리는 해당 채끝살 부위는\\n\\n강한 고기 풍미와 함께\\n\\n안심보다는 많고 등심보다는 적은 육즙이 있어\\n\\n적절한 지방 함유량을 보입니다.\\n\\n\\u200b\\n\\n사진출처 : www.millesima-usa.com\\n\\n고기가 두껍다 보니 씹는 맛이 좋은 스테이크로\\n\\n와인과 함께 페어링을 했을 때\\n\\n\\u200b\\n\\n강한 고기 맛에도 지지 않을 파워감있는 와인이 좋죠.\\n\\n프랑스 보르도 지역의 풀바디한 보르도와인,\\n\\n풍부한 과실감과 적절한 바디감을 표현한\\n\\n신대륙 피노누아도 제법 잘 어울릴 거 같아요.\\n\\n(미국 오리건 피노누아, 뉴질랜드 피노누아 등)\\n\\n\\u200b\\n\\n\\u200b\\n\\n늘 말씀드리는 부분이지만\\n\\n와인 페어링에는 딱히 법이나 규칙은 없습니다.\\n\\n오늘 내가 맛있게 와인과 음식을 먹었다면,\\n\\n그 자체로 좋은 페어링이라 생각하거든요 :D\\n\\n다만 값비싸고 귀한 와인들이 존재하고\\n\\n와인 맛은 늘 페어링 음식마다 [...] 풀바디한 와인들이 어울리며 레드와인 품종에 따라\\n\\n향신료 느낌이 가미된 와인과 페어링 됩니다.\\n\\n\\u200b\\n\\n사진출처 : www.winemag.com\\n\\n남부 이탈리아를 대표하는\\n\\n아부르쪼 지역의 몬테풀치아노,\\n\\n산미와 과실, 바디감이 적절한 밸런스를 이루고\\n\\n스파이스 한 향을 내는 스페인 템프라니요.\\n\\n자갈 토양에서 비롯된 독특한 미네랄과\\n\\n향신료 풍미를 내는 프랑스 론지역 쉬라가\\n\\n대표적인 등심 페어링 와인이 되겠습니다.\\n\\n\\u200b\\n\\n등심의 꽃, 립아이 스테이크\\n\\n사진출처 : www.parents.com\\n\\n등심의 꽃으로 불리는 꽃등심(Rip-eye)는\\n\\n일반적인 등심에 비해 마블링 비율이 높습니다.\\n\\n마블링이 고루 분포될수록, 고기는 연하고\\n\\n육즙은 풍부해지는 등,\\n\\n고기의 풍미를 더욱 부각시켜주는 역할을 합니다.\\n\\n\\u200b\\n\\n일반적인 등심보다 더욱 강한 풍미와\\n\\n많은 육즙을 보유하고 있기에\\n\\n이 경우 파워풀하고 찐득한 타입의 와인이\\n\\n주요 페어링으로 사용됩니다.\\n\\n\\u200b [...] 사진출처 : winecountrytable.com\\n\\n파워풀한 와인의 대명사 까베르네 소비뇽\\n\\n혹은 더욱 진한 타입의 진판델(=프리미티보)\\n\\n또는 포도를 장기간 건조해서 만드는\\n\\n이탈리아 아마로네 와인들이 매칭됩니다.\\n\\n\\u200b\\n\\n등심과 안심을 모두 즐기자\\n\\n티본 스테이크\\n\\n사진출처 : 트립어드바이져\\n\\n안심과 등심을 가로지르는 T자형 뼈가 붙여진\\n\\nT본은 안심과 등심을 모두 맛볼 수 있는\\n\\n스테이크용 핵심 부위입니다.\\n\\n\\u200b\\n\\n육즙이 풍부한 등심에 비해\\n\\n안심은 지방이 적고 담백하기 때문에\\n\\n두 가지 질감을 모두 충족시킬 수 있는\\n\\n와인을 페어링 와인으로 선정해야 합니다.\\n\\n\\u200b\\n\\n사진출처 : www.tasteatlas.com\\n\\n담백하면서도 강력한 탄닌과 균형감을 지닌\\n\\n이탈리아 3대와인 \\'바롤로\\'가 제격이며,\\n\\n바롤로가 부담스럽다면 대안으로 \\'랑게 네비올로\\'를\\n\\n선택해 볼 수 있습니다.\\n\\n\\u200b\\n\\n브리딩이 꼭 필요한 와인이니,\\n\\n식전에 코르크를 꼭 오픈하고,\\n</Document>'),\n",
       "  Document(metadata={'source': 'web search', 'url': 'https://www.facebook.com/390895827783456/posts/417838945089144/?locale=ar_AR'}, page_content='<Document href=\"https://www.facebook.com/390895827783456/posts/417838945089144/?locale=ar_AR\"/>\\n... 어울리는 와인은 여러 가지가 있습니다만, 그 중에서 오늘 소개할 와인은 수퍼투스칸 스타일의 와인입니다. 수퍼투스칸이라는 단어는 이탈리아에서\\n</Document>')],\n",
       " 'filtered_documents': [Document(metadata={'menu_name': '시그니처 스테이크', 'menu_number': 1, 'source': './data/restaurant_menu.txt'}, page_content='1. 시그니처 스테이크\\n   • 가격: ₩35,000\\n   • 주요 식재료: 최상급 한우 등심, 로즈메리 감자, 그릴드 아스파라거스\\n   • 설명: 셰프의 특제 시그니처 메뉴로, 21일간 건조 숙성한 최상급 한우 등심을 사용합니다. 미디엄 레어로 조리하여 육즙을 최대한 보존하며, 로즈메리 향의 감자와 아삭한 그릴드 아스파라거스가 곁들여집니다. 레드와인 소스와 함께 제공되어 풍부한 맛을 더합니다.'),\n",
       "  Document(metadata={'source': 'web search', 'url': 'https://m.blog.naver.com/carpeteulb/222559633508'}, page_content='<Document href=\"https://m.blog.naver.com/carpeteulb/222559633508\"/>\\n어울리는 와인은?\\n\\n사진출처 : pasowine.com\\n\\n쭉 길게 늘어진 고기모양이 흡사 뉴욕과 닮아서\\n\\n뉴욕 스트립이라 불리는 해당 채끝살 부위는\\n\\n강한 고기 풍미와 함께\\n\\n안심보다는 많고 등심보다는 적은 육즙이 있어\\n\\n적절한 지방 함유량을 보입니다.\\n\\n\\u200b\\n\\n사진출처 : www.millesima-usa.com\\n\\n고기가 두껍다 보니 씹는 맛이 좋은 스테이크로\\n\\n와인과 함께 페어링을 했을 때\\n\\n\\u200b\\n\\n강한 고기 맛에도 지지 않을 파워감있는 와인이 좋죠.\\n\\n프랑스 보르도 지역의 풀바디한 보르도와인,\\n\\n풍부한 과실감과 적절한 바디감을 표현한\\n\\n신대륙 피노누아도 제법 잘 어울릴 거 같아요.\\n\\n(미국 오리건 피노누아, 뉴질랜드 피노누아 등)\\n\\n\\u200b\\n\\n\\u200b\\n\\n늘 말씀드리는 부분이지만\\n\\n와인 페어링에는 딱히 법이나 규칙은 없습니다.\\n\\n오늘 내가 맛있게 와인과 음식을 먹었다면,\\n\\n그 자체로 좋은 페어링이라 생각하거든요 :D\\n\\n다만 값비싸고 귀한 와인들이 존재하고\\n\\n와인 맛은 늘 페어링 음식마다 [...] 풀바디한 와인들이 어울리며 레드와인 품종에 따라\\n\\n향신료 느낌이 가미된 와인과 페어링 됩니다.\\n\\n\\u200b\\n\\n사진출처 : www.winemag.com\\n\\n남부 이탈리아를 대표하는\\n\\n아부르쪼 지역의 몬테풀치아노,\\n\\n산미와 과실, 바디감이 적절한 밸런스를 이루고\\n\\n스파이스 한 향을 내는 스페인 템프라니요.\\n\\n자갈 토양에서 비롯된 독특한 미네랄과\\n\\n향신료 풍미를 내는 프랑스 론지역 쉬라가\\n\\n대표적인 등심 페어링 와인이 되겠습니다.\\n\\n\\u200b\\n\\n등심의 꽃, 립아이 스테이크\\n\\n사진출처 : www.parents.com\\n\\n등심의 꽃으로 불리는 꽃등심(Rip-eye)는\\n\\n일반적인 등심에 비해 마블링 비율이 높습니다.\\n\\n마블링이 고루 분포될수록, 고기는 연하고\\n\\n육즙은 풍부해지는 등,\\n\\n고기의 풍미를 더욱 부각시켜주는 역할을 합니다.\\n\\n\\u200b\\n\\n일반적인 등심보다 더욱 강한 풍미와\\n\\n많은 육즙을 보유하고 있기에\\n\\n이 경우 파워풀하고 찐득한 타입의 와인이\\n\\n주요 페어링으로 사용됩니다.\\n\\n\\u200b [...] 사진출처 : winecountrytable.com\\n\\n파워풀한 와인의 대명사 까베르네 소비뇽\\n\\n혹은 더욱 진한 타입의 진판델(=프리미티보)\\n\\n또는 포도를 장기간 건조해서 만드는\\n\\n이탈리아 아마로네 와인들이 매칭됩니다.\\n\\n\\u200b\\n\\n등심과 안심을 모두 즐기자\\n\\n티본 스테이크\\n\\n사진출처 : 트립어드바이져\\n\\n안심과 등심을 가로지르는 T자형 뼈가 붙여진\\n\\nT본은 안심과 등심을 모두 맛볼 수 있는\\n\\n스테이크용 핵심 부위입니다.\\n\\n\\u200b\\n\\n육즙이 풍부한 등심에 비해\\n\\n안심은 지방이 적고 담백하기 때문에\\n\\n두 가지 질감을 모두 충족시킬 수 있는\\n\\n와인을 페어링 와인으로 선정해야 합니다.\\n\\n\\u200b\\n\\n사진출처 : www.tasteatlas.com\\n\\n담백하면서도 강력한 탄닌과 균형감을 지닌\\n\\n이탈리아 3대와인 \\'바롤로\\'가 제격이며,\\n\\n바롤로가 부담스럽다면 대안으로 \\'랑게 네비올로\\'를\\n\\n선택해 볼 수 있습니다.\\n\\n\\u200b\\n\\n브리딩이 꼭 필요한 와인이니,\\n\\n식전에 코르크를 꼭 오픈하고,\\n</Document>')]}"
      ]
     },
     "execution_count": 35,
     "metadata": {},
     "output_type": "execute_result"
    }
   ],
   "execution_count": 35
  },
  {
   "cell_type": "markdown",
   "id": "d3020512",
   "metadata": {},
   "source": [
    "`(2) 조건부 엣지로 병렬 노드 실행`\n",
    "- 조건부 엣지는 실행 시간에 동적으로 경로를 결정할 수 있게 해주는 기능\n",
    "- 특정 조건에 따라 다른 노드 세트를 병렬로 실행 가능\n",
    "- 활용 사례:\n",
    "\n",
    "    - 데이터 처리 파이프라인: 데이터의 특성에 따라 다른 처리 경로 선택\n",
    "    - AI 모델 선택: 입력 데이터의 복잡성에 따라 다른 모델 세트 실행\n",
    "    - 동적 워크플로우: 사용자 입력이나 시스템 상태에 따라 다른 작업 흐름 구성"
   ]
  },
  {
   "cell_type": "code",
   "id": "8689d25e",
   "metadata": {
    "ExecuteTime": {
     "end_time": "2025-04-09T06:40:18.296751Z",
     "start_time": "2025-04-09T06:40:18.278587Z"
    }
   },
   "source": [
    "from typing import Literal\n",
    "from langchain_core.prompts import ChatPromptTemplate\n",
    "from pydantic import BaseModel, Field\n",
    "\n",
    "# 라우팅 결정을 위한 데이터 모델\n",
    "class ToolSelector(BaseModel):\n",
    "    \"\"\"Routes the user question to the most appropriate tool.\"\"\"\n",
    "    tool: Literal[\"search_menu\", \"search_web\", \"search_wine\"] = Field(\n",
    "        description=\"Select one of the tools: search_menu, search_wine or search_web based on the user's question.\",\n",
    "    )\n",
    "\n",
    "class ToolSelectors(BaseModel):\n",
    "    \"\"\"Select the appropriate tools that are suitable for the user question.\"\"\"\n",
    "    tools: List[ToolSelector] = Field(\n",
    "        description=\"Select one or more tools: search_menu, search_wine or search_web based on the user's question.\",\n",
    "    )\n",
    "\n",
    "# 구조화된 출력을 위한 LLM 설정\n",
    "structured_llm_tool_selector = llm.with_structured_output(ToolSelectors)\n",
    "\n",
    "# 라우팅을 위한 프롬프트 템플릿\n",
    "system = dedent(\"\"\"You are an AI assistant specializing in routing user questions to the appropriate tools.\n",
    "Use the following guidelines:\n",
    "- For questions about the restaurant's menu, use the search_menu tool.\n",
    "- For wine recommendations or pairing information, use the search_wine tool.\n",
    "- For any other information or the most up-to-date data, use the search_web tool.\n",
    "Always choose the appropriate tools based on the user's question.\"\"\")\n",
    "\n",
    "route_prompt = ChatPromptTemplate.from_messages(\n",
    "    [\n",
    "        (\"system\", system),\n",
    "        (\"human\", \"{question}\"),\n",
    "    ]\n",
    ")\n",
    "\n",
    "# 질문 라우터 정의\n",
    "question_tool_router = route_prompt | structured_llm_tool_selector\n"
   ],
   "outputs": [],
   "execution_count": 36
  },
  {
   "metadata": {
    "ExecuteTime": {
     "end_time": "2025-04-09T06:40:27.409943Z",
     "start_time": "2025-04-09T06:40:20.867690Z"
    }
   },
   "cell_type": "code",
   "source": [
    "\n",
    "# 테스트 실행\n",
    "print(question_tool_router.invoke({\"question\": \"채식주의자를 위한 메뉴가 있나요?\"}))\n",
    "print(question_tool_router.invoke({\"question\": \"스테이크 메뉴의 가격과 어울리는 와인을 추천해주세요.\"}))\n",
    "print(question_tool_router.invoke({\"question\": \"스테이크 매뉴가 있으면 추천해주세요. 스테이크의 유래에 대해 알려주세요.\"}))"
   ],
   "id": "5c887c718b5182ce",
   "outputs": [
    {
     "name": "stdout",
     "output_type": "stream",
     "text": [
      "tools=[ToolSelector(tool='search_menu')]\n",
      "tools=[ToolSelector(tool='search_menu'), ToolSelector(tool='search_wine')]\n",
      "tools=[ToolSelector(tool='search_menu'), ToolSelector(tool='search_web')]\n"
     ]
    }
   ],
   "execution_count": 37
  },
  {
   "cell_type": "code",
   "id": "c4cd239e",
   "metadata": {
    "ExecuteTime": {
     "end_time": "2025-04-09T06:47:31.831295Z",
     "start_time": "2025-04-09T06:47:21.329047Z"
    }
   },
   "source": [
    "### 메뉴 정보에 대한 내용과, 웹 검색 내용을 구분하여 각각 정보를 추출하고 이를 기반으로 최종 답변을 생성\n",
    "\n",
    "# 상태를 수정 (Reducer 적용)\n",
    "from typing import List, TypedDict, Annotated, Sequence\n",
    "from langchain_core.documents import Document\n",
    "from operator import add\n",
    "\n",
    "# 기존 SearchState 상속해서 새로 정의\n",
    "class ToolSearchState(SearchState): \n",
    "    # question: str                                              \n",
    "    # documents: Annotated[List[Document], add]     # 컨텍스트 문서를 추가 \n",
    "    # filtered_documents: List[Document]            # 컨텍스트 문서 중에서 질문에 대답할 수 있는 문서를 필터링\n",
    "    datasources: List[str]                          # 참조할 데이터 소스 \n",
    "\n",
    "# 질문 라우팅 노드 \n",
    "def analyze_question_tool_search(state: ToolSearchState):\n",
    "\n",
    "    print(\"---ROUTE QUESTION---\")\n",
    "    question = state[\"question\"]\n",
    "    \n",
    "    result = question_tool_router.invoke({\"question\": question})\n",
    "    datasources = [tool.tool for tool in result.tools]\n",
    "\n",
    "    return {\"datasources\": datasources}\n",
    "\n",
    "\n",
    "def route_datasources_tool_search(state: ToolSearchState) -> Sequence[str]:\n",
    "\n",
    "    if set(state['datasources']) == {'search_menu'}:\n",
    "        return ['search_menu']\n",
    "\n",
    "    elif set(state['datasources']) == {'search_wine'}:\n",
    "        return ['search_wine']\n",
    "\n",
    "    elif set(state['datasources']) == {'search_web'}:\n",
    "        return ['search_web']\n",
    "\n",
    "    elif set(state['datasources']) == {'search_menu', 'search_wine'}:\n",
    "        return ['search_menu', 'search_wine']\n",
    "    \n",
    "    elif set(state['datasources']) == {'search_menu', 'search_web'}:\n",
    "        return ['search_menu', 'search_web']\n",
    "\n",
    "    elif set(state['datasources']) == {'search_wine', 'search_web'}:\n",
    "        return ['search_wine', 'search_web']\n",
    "\n",
    "    return ['search_web', 'search_menu', 'search_wine']\n",
    "\n",
    "\n",
    "\n",
    "# 그래프 생성을 위한 StateGraph 객체를 정의\n",
    "search_builder = StateGraph(ToolSearchState)\n",
    "\n",
    "# 각 노드를 초기화\n",
    "search_builder.add_node(\"analyze_question\", analyze_question_tool_search)       # 질문 분석 노드\n",
    "search_builder.add_node(\"search_menu\", search_menu_subgraph)                    # 메뉴 검색 노드\n",
    "search_builder.add_node(\"search_web\", search_web_subgraph)                      # 웹 검색 노드\n",
    "search_builder.add_node(\"search_wine\", search_wine_subgraph)                    # 와인 검색 노드\n",
    "search_builder.add_node(\"filter_documents\", filter_documents_subgraph)          # 문서 평가 노드\n",
    "\n",
    "# 그래프 로직 정의\n",
    "search_builder.add_edge(START, \"analyze_question\")  # 시작점에서 질문 분석 노드로\n",
    "search_builder.add_conditional_edges(\n",
    "    \"analyze_question\",\n",
    "    route_datasources_tool_search,\n",
    "    [\"search_menu\", \"search_web\", \"search_wine\"]\n",
    ")\n",
    "search_builder.add_edge(\"search_menu\", \"filter_documents\")  # 메뉴 검색 결과를 문서 평가 노드로\n",
    "search_builder.add_edge(\"search_web\", \"filter_documents\")   # 웹 검색 결과를 문서 평가 노드로\n",
    "search_builder.add_edge(\"search_wine\", \"filter_documents\")  # 와인 검색 결과를 문서 평가 노드로\n",
    "search_builder.add_edge(\"filter_documents\", END)  # 문서 평가 노드에서 종료점으로\n",
    "\n",
    "# 그래프 컴파일\n",
    "tool_search_graph = search_builder.compile()\n",
    "\n",
    "# 그래프 시각화 \n",
    "display(Image(tool_search_graph.get_graph().draw_mermaid_png()))"
   ],
   "outputs": [
    {
     "ename": "ReadTimeout",
     "evalue": "HTTPSConnectionPool(host='mermaid.ink', port=443): Read timed out. (read timeout=10)",
     "output_type": "error",
     "traceback": [
      "\u001B[1;31m---------------------------------------------------------------------------\u001B[0m",
      "\u001B[1;31mTimeoutError\u001B[0m                              Traceback (most recent call last)",
      "File \u001B[1;32m~\\Anaconda3\\envs\\langgraph_agent\\Lib\\site-packages\\urllib3\\connectionpool.py:534\u001B[0m, in \u001B[0;36mHTTPConnectionPool._make_request\u001B[1;34m(self, conn, method, url, body, headers, retries, timeout, chunked, response_conn, preload_content, decode_content, enforce_content_length)\u001B[0m\n\u001B[0;32m    533\u001B[0m \u001B[38;5;28;01mtry\u001B[39;00m:\n\u001B[1;32m--> 534\u001B[0m     response \u001B[38;5;241m=\u001B[39m conn\u001B[38;5;241m.\u001B[39mgetresponse()\n\u001B[0;32m    535\u001B[0m \u001B[38;5;28;01mexcept\u001B[39;00m (BaseSSLError, \u001B[38;5;167;01mOSError\u001B[39;00m) \u001B[38;5;28;01mas\u001B[39;00m e:\n",
      "File \u001B[1;32m~\\Anaconda3\\envs\\langgraph_agent\\Lib\\site-packages\\urllib3\\connection.py:516\u001B[0m, in \u001B[0;36mHTTPConnection.getresponse\u001B[1;34m(self)\u001B[0m\n\u001B[0;32m    515\u001B[0m \u001B[38;5;66;03m# Get the response from http.client.HTTPConnection\u001B[39;00m\n\u001B[1;32m--> 516\u001B[0m httplib_response \u001B[38;5;241m=\u001B[39m \u001B[38;5;28msuper\u001B[39m()\u001B[38;5;241m.\u001B[39mgetresponse()\n\u001B[0;32m    518\u001B[0m \u001B[38;5;28;01mtry\u001B[39;00m:\n",
      "File \u001B[1;32m~\\Anaconda3\\envs\\langgraph_agent\\Lib\\http\\client.py:1395\u001B[0m, in \u001B[0;36mHTTPConnection.getresponse\u001B[1;34m(self)\u001B[0m\n\u001B[0;32m   1394\u001B[0m \u001B[38;5;28;01mtry\u001B[39;00m:\n\u001B[1;32m-> 1395\u001B[0m     response\u001B[38;5;241m.\u001B[39mbegin()\n\u001B[0;32m   1396\u001B[0m \u001B[38;5;28;01mexcept\u001B[39;00m \u001B[38;5;167;01mConnectionError\u001B[39;00m:\n",
      "File \u001B[1;32m~\\Anaconda3\\envs\\langgraph_agent\\Lib\\http\\client.py:325\u001B[0m, in \u001B[0;36mHTTPResponse.begin\u001B[1;34m(self)\u001B[0m\n\u001B[0;32m    324\u001B[0m \u001B[38;5;28;01mwhile\u001B[39;00m \u001B[38;5;28;01mTrue\u001B[39;00m:\n\u001B[1;32m--> 325\u001B[0m     version, status, reason \u001B[38;5;241m=\u001B[39m \u001B[38;5;28mself\u001B[39m\u001B[38;5;241m.\u001B[39m_read_status()\n\u001B[0;32m    326\u001B[0m     \u001B[38;5;28;01mif\u001B[39;00m status \u001B[38;5;241m!=\u001B[39m CONTINUE:\n",
      "File \u001B[1;32m~\\Anaconda3\\envs\\langgraph_agent\\Lib\\http\\client.py:286\u001B[0m, in \u001B[0;36mHTTPResponse._read_status\u001B[1;34m(self)\u001B[0m\n\u001B[0;32m    285\u001B[0m \u001B[38;5;28;01mdef\u001B[39;00m \u001B[38;5;21m_read_status\u001B[39m(\u001B[38;5;28mself\u001B[39m):\n\u001B[1;32m--> 286\u001B[0m     line \u001B[38;5;241m=\u001B[39m \u001B[38;5;28mstr\u001B[39m(\u001B[38;5;28mself\u001B[39m\u001B[38;5;241m.\u001B[39mfp\u001B[38;5;241m.\u001B[39mreadline(_MAXLINE \u001B[38;5;241m+\u001B[39m \u001B[38;5;241m1\u001B[39m), \u001B[38;5;124m\"\u001B[39m\u001B[38;5;124miso-8859-1\u001B[39m\u001B[38;5;124m\"\u001B[39m)\n\u001B[0;32m    287\u001B[0m     \u001B[38;5;28;01mif\u001B[39;00m \u001B[38;5;28mlen\u001B[39m(line) \u001B[38;5;241m>\u001B[39m _MAXLINE:\n",
      "File \u001B[1;32m~\\Anaconda3\\envs\\langgraph_agent\\Lib\\socket.py:718\u001B[0m, in \u001B[0;36mSocketIO.readinto\u001B[1;34m(self, b)\u001B[0m\n\u001B[0;32m    717\u001B[0m \u001B[38;5;28;01mtry\u001B[39;00m:\n\u001B[1;32m--> 718\u001B[0m     \u001B[38;5;28;01mreturn\u001B[39;00m \u001B[38;5;28mself\u001B[39m\u001B[38;5;241m.\u001B[39m_sock\u001B[38;5;241m.\u001B[39mrecv_into(b)\n\u001B[0;32m    719\u001B[0m \u001B[38;5;28;01mexcept\u001B[39;00m timeout:\n",
      "File \u001B[1;32m~\\Anaconda3\\envs\\langgraph_agent\\Lib\\ssl.py:1314\u001B[0m, in \u001B[0;36mSSLSocket.recv_into\u001B[1;34m(self, buffer, nbytes, flags)\u001B[0m\n\u001B[0;32m   1311\u001B[0m         \u001B[38;5;28;01mraise\u001B[39;00m \u001B[38;5;167;01mValueError\u001B[39;00m(\n\u001B[0;32m   1312\u001B[0m           \u001B[38;5;124m\"\u001B[39m\u001B[38;5;124mnon-zero flags not allowed in calls to recv_into() on \u001B[39m\u001B[38;5;132;01m%s\u001B[39;00m\u001B[38;5;124m\"\u001B[39m \u001B[38;5;241m%\u001B[39m\n\u001B[0;32m   1313\u001B[0m           \u001B[38;5;28mself\u001B[39m\u001B[38;5;241m.\u001B[39m\u001B[38;5;18m__class__\u001B[39m)\n\u001B[1;32m-> 1314\u001B[0m     \u001B[38;5;28;01mreturn\u001B[39;00m \u001B[38;5;28mself\u001B[39m\u001B[38;5;241m.\u001B[39mread(nbytes, buffer)\n\u001B[0;32m   1315\u001B[0m \u001B[38;5;28;01melse\u001B[39;00m:\n",
      "File \u001B[1;32m~\\Anaconda3\\envs\\langgraph_agent\\Lib\\ssl.py:1166\u001B[0m, in \u001B[0;36mSSLSocket.read\u001B[1;34m(self, len, buffer)\u001B[0m\n\u001B[0;32m   1165\u001B[0m \u001B[38;5;28;01mif\u001B[39;00m buffer \u001B[38;5;129;01mis\u001B[39;00m \u001B[38;5;129;01mnot\u001B[39;00m \u001B[38;5;28;01mNone\u001B[39;00m:\n\u001B[1;32m-> 1166\u001B[0m     \u001B[38;5;28;01mreturn\u001B[39;00m \u001B[38;5;28mself\u001B[39m\u001B[38;5;241m.\u001B[39m_sslobj\u001B[38;5;241m.\u001B[39mread(\u001B[38;5;28mlen\u001B[39m, buffer)\n\u001B[0;32m   1167\u001B[0m \u001B[38;5;28;01melse\u001B[39;00m:\n",
      "\u001B[1;31mTimeoutError\u001B[0m: The read operation timed out",
      "\nThe above exception was the direct cause of the following exception:\n",
      "\u001B[1;31mReadTimeoutError\u001B[0m                          Traceback (most recent call last)",
      "File \u001B[1;32m~\\Anaconda3\\envs\\langgraph_agent\\Lib\\site-packages\\requests\\adapters.py:667\u001B[0m, in \u001B[0;36mHTTPAdapter.send\u001B[1;34m(self, request, stream, timeout, verify, cert, proxies)\u001B[0m\n\u001B[0;32m    666\u001B[0m \u001B[38;5;28;01mtry\u001B[39;00m:\n\u001B[1;32m--> 667\u001B[0m     resp \u001B[38;5;241m=\u001B[39m conn\u001B[38;5;241m.\u001B[39murlopen(\n\u001B[0;32m    668\u001B[0m         method\u001B[38;5;241m=\u001B[39mrequest\u001B[38;5;241m.\u001B[39mmethod,\n\u001B[0;32m    669\u001B[0m         url\u001B[38;5;241m=\u001B[39murl,\n\u001B[0;32m    670\u001B[0m         body\u001B[38;5;241m=\u001B[39mrequest\u001B[38;5;241m.\u001B[39mbody,\n\u001B[0;32m    671\u001B[0m         headers\u001B[38;5;241m=\u001B[39mrequest\u001B[38;5;241m.\u001B[39mheaders,\n\u001B[0;32m    672\u001B[0m         redirect\u001B[38;5;241m=\u001B[39m\u001B[38;5;28;01mFalse\u001B[39;00m,\n\u001B[0;32m    673\u001B[0m         assert_same_host\u001B[38;5;241m=\u001B[39m\u001B[38;5;28;01mFalse\u001B[39;00m,\n\u001B[0;32m    674\u001B[0m         preload_content\u001B[38;5;241m=\u001B[39m\u001B[38;5;28;01mFalse\u001B[39;00m,\n\u001B[0;32m    675\u001B[0m         decode_content\u001B[38;5;241m=\u001B[39m\u001B[38;5;28;01mFalse\u001B[39;00m,\n\u001B[0;32m    676\u001B[0m         retries\u001B[38;5;241m=\u001B[39m\u001B[38;5;28mself\u001B[39m\u001B[38;5;241m.\u001B[39mmax_retries,\n\u001B[0;32m    677\u001B[0m         timeout\u001B[38;5;241m=\u001B[39mtimeout,\n\u001B[0;32m    678\u001B[0m         chunked\u001B[38;5;241m=\u001B[39mchunked,\n\u001B[0;32m    679\u001B[0m     )\n\u001B[0;32m    681\u001B[0m \u001B[38;5;28;01mexcept\u001B[39;00m (ProtocolError, \u001B[38;5;167;01mOSError\u001B[39;00m) \u001B[38;5;28;01mas\u001B[39;00m err:\n",
      "File \u001B[1;32m~\\Anaconda3\\envs\\langgraph_agent\\Lib\\site-packages\\urllib3\\connectionpool.py:841\u001B[0m, in \u001B[0;36mHTTPConnectionPool.urlopen\u001B[1;34m(self, method, url, body, headers, retries, redirect, assert_same_host, timeout, pool_timeout, release_conn, chunked, body_pos, preload_content, decode_content, **response_kw)\u001B[0m\n\u001B[0;32m    839\u001B[0m     new_e \u001B[38;5;241m=\u001B[39m ProtocolError(\u001B[38;5;124m\"\u001B[39m\u001B[38;5;124mConnection aborted.\u001B[39m\u001B[38;5;124m\"\u001B[39m, new_e)\n\u001B[1;32m--> 841\u001B[0m retries \u001B[38;5;241m=\u001B[39m retries\u001B[38;5;241m.\u001B[39mincrement(\n\u001B[0;32m    842\u001B[0m     method, url, error\u001B[38;5;241m=\u001B[39mnew_e, _pool\u001B[38;5;241m=\u001B[39m\u001B[38;5;28mself\u001B[39m, _stacktrace\u001B[38;5;241m=\u001B[39msys\u001B[38;5;241m.\u001B[39mexc_info()[\u001B[38;5;241m2\u001B[39m]\n\u001B[0;32m    843\u001B[0m )\n\u001B[0;32m    844\u001B[0m retries\u001B[38;5;241m.\u001B[39msleep()\n",
      "File \u001B[1;32m~\\Anaconda3\\envs\\langgraph_agent\\Lib\\site-packages\\urllib3\\util\\retry.py:474\u001B[0m, in \u001B[0;36mRetry.increment\u001B[1;34m(self, method, url, response, error, _pool, _stacktrace)\u001B[0m\n\u001B[0;32m    473\u001B[0m \u001B[38;5;28;01mif\u001B[39;00m read \u001B[38;5;129;01mis\u001B[39;00m \u001B[38;5;28;01mFalse\u001B[39;00m \u001B[38;5;129;01mor\u001B[39;00m method \u001B[38;5;129;01mis\u001B[39;00m \u001B[38;5;28;01mNone\u001B[39;00m \u001B[38;5;129;01mor\u001B[39;00m \u001B[38;5;129;01mnot\u001B[39;00m \u001B[38;5;28mself\u001B[39m\u001B[38;5;241m.\u001B[39m_is_method_retryable(method):\n\u001B[1;32m--> 474\u001B[0m     \u001B[38;5;28;01mraise\u001B[39;00m reraise(\u001B[38;5;28mtype\u001B[39m(error), error, _stacktrace)\n\u001B[0;32m    475\u001B[0m \u001B[38;5;28;01melif\u001B[39;00m read \u001B[38;5;129;01mis\u001B[39;00m \u001B[38;5;129;01mnot\u001B[39;00m \u001B[38;5;28;01mNone\u001B[39;00m:\n",
      "File \u001B[1;32m~\\Anaconda3\\envs\\langgraph_agent\\Lib\\site-packages\\urllib3\\util\\util.py:39\u001B[0m, in \u001B[0;36mreraise\u001B[1;34m(tp, value, tb)\u001B[0m\n\u001B[0;32m     38\u001B[0m         \u001B[38;5;28;01mraise\u001B[39;00m value\u001B[38;5;241m.\u001B[39mwith_traceback(tb)\n\u001B[1;32m---> 39\u001B[0m     \u001B[38;5;28;01mraise\u001B[39;00m value\n\u001B[0;32m     40\u001B[0m \u001B[38;5;28;01mfinally\u001B[39;00m:\n",
      "File \u001B[1;32m~\\Anaconda3\\envs\\langgraph_agent\\Lib\\site-packages\\urllib3\\connectionpool.py:787\u001B[0m, in \u001B[0;36mHTTPConnectionPool.urlopen\u001B[1;34m(self, method, url, body, headers, retries, redirect, assert_same_host, timeout, pool_timeout, release_conn, chunked, body_pos, preload_content, decode_content, **response_kw)\u001B[0m\n\u001B[0;32m    786\u001B[0m \u001B[38;5;66;03m# Make the request on the HTTPConnection object\u001B[39;00m\n\u001B[1;32m--> 787\u001B[0m response \u001B[38;5;241m=\u001B[39m \u001B[38;5;28mself\u001B[39m\u001B[38;5;241m.\u001B[39m_make_request(\n\u001B[0;32m    788\u001B[0m     conn,\n\u001B[0;32m    789\u001B[0m     method,\n\u001B[0;32m    790\u001B[0m     url,\n\u001B[0;32m    791\u001B[0m     timeout\u001B[38;5;241m=\u001B[39mtimeout_obj,\n\u001B[0;32m    792\u001B[0m     body\u001B[38;5;241m=\u001B[39mbody,\n\u001B[0;32m    793\u001B[0m     headers\u001B[38;5;241m=\u001B[39mheaders,\n\u001B[0;32m    794\u001B[0m     chunked\u001B[38;5;241m=\u001B[39mchunked,\n\u001B[0;32m    795\u001B[0m     retries\u001B[38;5;241m=\u001B[39mretries,\n\u001B[0;32m    796\u001B[0m     response_conn\u001B[38;5;241m=\u001B[39mresponse_conn,\n\u001B[0;32m    797\u001B[0m     preload_content\u001B[38;5;241m=\u001B[39mpreload_content,\n\u001B[0;32m    798\u001B[0m     decode_content\u001B[38;5;241m=\u001B[39mdecode_content,\n\u001B[0;32m    799\u001B[0m     \u001B[38;5;241m*\u001B[39m\u001B[38;5;241m*\u001B[39mresponse_kw,\n\u001B[0;32m    800\u001B[0m )\n\u001B[0;32m    802\u001B[0m \u001B[38;5;66;03m# Everything went great!\u001B[39;00m\n",
      "File \u001B[1;32m~\\Anaconda3\\envs\\langgraph_agent\\Lib\\site-packages\\urllib3\\connectionpool.py:536\u001B[0m, in \u001B[0;36mHTTPConnectionPool._make_request\u001B[1;34m(self, conn, method, url, body, headers, retries, timeout, chunked, response_conn, preload_content, decode_content, enforce_content_length)\u001B[0m\n\u001B[0;32m    535\u001B[0m \u001B[38;5;28;01mexcept\u001B[39;00m (BaseSSLError, \u001B[38;5;167;01mOSError\u001B[39;00m) \u001B[38;5;28;01mas\u001B[39;00m e:\n\u001B[1;32m--> 536\u001B[0m     \u001B[38;5;28mself\u001B[39m\u001B[38;5;241m.\u001B[39m_raise_timeout(err\u001B[38;5;241m=\u001B[39me, url\u001B[38;5;241m=\u001B[39murl, timeout_value\u001B[38;5;241m=\u001B[39mread_timeout)\n\u001B[0;32m    537\u001B[0m     \u001B[38;5;28;01mraise\u001B[39;00m\n",
      "File \u001B[1;32m~\\Anaconda3\\envs\\langgraph_agent\\Lib\\site-packages\\urllib3\\connectionpool.py:367\u001B[0m, in \u001B[0;36mHTTPConnectionPool._raise_timeout\u001B[1;34m(self, err, url, timeout_value)\u001B[0m\n\u001B[0;32m    366\u001B[0m \u001B[38;5;28;01mif\u001B[39;00m \u001B[38;5;28misinstance\u001B[39m(err, SocketTimeout):\n\u001B[1;32m--> 367\u001B[0m     \u001B[38;5;28;01mraise\u001B[39;00m ReadTimeoutError(\n\u001B[0;32m    368\u001B[0m         \u001B[38;5;28mself\u001B[39m, url, \u001B[38;5;124mf\u001B[39m\u001B[38;5;124m\"\u001B[39m\u001B[38;5;124mRead timed out. (read timeout=\u001B[39m\u001B[38;5;132;01m{\u001B[39;00mtimeout_value\u001B[38;5;132;01m}\u001B[39;00m\u001B[38;5;124m)\u001B[39m\u001B[38;5;124m\"\u001B[39m\n\u001B[0;32m    369\u001B[0m     ) \u001B[38;5;28;01mfrom\u001B[39;00m \u001B[38;5;21;01merr\u001B[39;00m\n\u001B[0;32m    371\u001B[0m \u001B[38;5;66;03m# See the above comment about EAGAIN in Python 3.\u001B[39;00m\n",
      "\u001B[1;31mReadTimeoutError\u001B[0m: HTTPSConnectionPool(host='mermaid.ink', port=443): Read timed out. (read timeout=10)",
      "\nDuring handling of the above exception, another exception occurred:\n",
      "\u001B[1;31mReadTimeout\u001B[0m                               Traceback (most recent call last)",
      "Cell \u001B[1;32mIn[39], line 77\u001B[0m\n\u001B[0;32m     74\u001B[0m tool_search_graph \u001B[38;5;241m=\u001B[39m search_builder\u001B[38;5;241m.\u001B[39mcompile()\n\u001B[0;32m     76\u001B[0m \u001B[38;5;66;03m# 그래프 시각화 \u001B[39;00m\n\u001B[1;32m---> 77\u001B[0m display(Image(tool_search_graph\u001B[38;5;241m.\u001B[39mget_graph()\u001B[38;5;241m.\u001B[39mdraw_mermaid_png()))\n",
      "File \u001B[1;32m~\\Anaconda3\\envs\\langgraph_agent\\Lib\\site-packages\\langchain_core\\runnables\\graph.py:667\u001B[0m, in \u001B[0;36mGraph.draw_mermaid_png\u001B[1;34m(self, curve_style, node_colors, wrap_label_n_words, output_file_path, draw_method, background_color, padding, frontmatter_config)\u001B[0m\n\u001B[0;32m    659\u001B[0m \u001B[38;5;28;01mfrom\u001B[39;00m \u001B[38;5;21;01mlangchain_core\u001B[39;00m\u001B[38;5;21;01m.\u001B[39;00m\u001B[38;5;21;01mrunnables\u001B[39;00m\u001B[38;5;21;01m.\u001B[39;00m\u001B[38;5;21;01mgraph_mermaid\u001B[39;00m \u001B[38;5;28;01mimport\u001B[39;00m draw_mermaid_png\n\u001B[0;32m    661\u001B[0m mermaid_syntax \u001B[38;5;241m=\u001B[39m \u001B[38;5;28mself\u001B[39m\u001B[38;5;241m.\u001B[39mdraw_mermaid(\n\u001B[0;32m    662\u001B[0m     curve_style\u001B[38;5;241m=\u001B[39mcurve_style,\n\u001B[0;32m    663\u001B[0m     node_colors\u001B[38;5;241m=\u001B[39mnode_colors,\n\u001B[0;32m    664\u001B[0m     wrap_label_n_words\u001B[38;5;241m=\u001B[39mwrap_label_n_words,\n\u001B[0;32m    665\u001B[0m     frontmatter_config\u001B[38;5;241m=\u001B[39mfrontmatter_config,\n\u001B[0;32m    666\u001B[0m )\n\u001B[1;32m--> 667\u001B[0m \u001B[38;5;28;01mreturn\u001B[39;00m draw_mermaid_png(\n\u001B[0;32m    668\u001B[0m     mermaid_syntax\u001B[38;5;241m=\u001B[39mmermaid_syntax,\n\u001B[0;32m    669\u001B[0m     output_file_path\u001B[38;5;241m=\u001B[39moutput_file_path,\n\u001B[0;32m    670\u001B[0m     draw_method\u001B[38;5;241m=\u001B[39mdraw_method,\n\u001B[0;32m    671\u001B[0m     background_color\u001B[38;5;241m=\u001B[39mbackground_color,\n\u001B[0;32m    672\u001B[0m     padding\u001B[38;5;241m=\u001B[39mpadding,\n\u001B[0;32m    673\u001B[0m )\n",
      "File \u001B[1;32m~\\Anaconda3\\envs\\langgraph_agent\\Lib\\site-packages\\langchain_core\\runnables\\graph_mermaid.py:282\u001B[0m, in \u001B[0;36mdraw_mermaid_png\u001B[1;34m(mermaid_syntax, output_file_path, draw_method, background_color, padding)\u001B[0m\n\u001B[0;32m    276\u001B[0m     img_bytes \u001B[38;5;241m=\u001B[39m asyncio\u001B[38;5;241m.\u001B[39mrun(\n\u001B[0;32m    277\u001B[0m         _render_mermaid_using_pyppeteer(\n\u001B[0;32m    278\u001B[0m             mermaid_syntax, output_file_path, background_color, padding\n\u001B[0;32m    279\u001B[0m         )\n\u001B[0;32m    280\u001B[0m     )\n\u001B[0;32m    281\u001B[0m \u001B[38;5;28;01melif\u001B[39;00m draw_method \u001B[38;5;241m==\u001B[39m MermaidDrawMethod\u001B[38;5;241m.\u001B[39mAPI:\n\u001B[1;32m--> 282\u001B[0m     img_bytes \u001B[38;5;241m=\u001B[39m _render_mermaid_using_api(\n\u001B[0;32m    283\u001B[0m         mermaid_syntax, output_file_path, background_color\n\u001B[0;32m    284\u001B[0m     )\n\u001B[0;32m    285\u001B[0m \u001B[38;5;28;01melse\u001B[39;00m:\n\u001B[0;32m    286\u001B[0m     supported_methods \u001B[38;5;241m=\u001B[39m \u001B[38;5;124m\"\u001B[39m\u001B[38;5;124m, \u001B[39m\u001B[38;5;124m\"\u001B[39m\u001B[38;5;241m.\u001B[39mjoin([m\u001B[38;5;241m.\u001B[39mvalue \u001B[38;5;28;01mfor\u001B[39;00m m \u001B[38;5;129;01min\u001B[39;00m MermaidDrawMethod])\n",
      "File \u001B[1;32m~\\Anaconda3\\envs\\langgraph_agent\\Lib\\site-packages\\langchain_core\\runnables\\graph_mermaid.py:400\u001B[0m, in \u001B[0;36m_render_mermaid_using_api\u001B[1;34m(mermaid_syntax, output_file_path, background_color, file_type)\u001B[0m\n\u001B[0;32m    394\u001B[0m         background_color \u001B[38;5;241m=\u001B[39m \u001B[38;5;124mf\u001B[39m\u001B[38;5;124m\"\u001B[39m\u001B[38;5;124m!\u001B[39m\u001B[38;5;132;01m{\u001B[39;00mbackground_color\u001B[38;5;132;01m}\u001B[39;00m\u001B[38;5;124m\"\u001B[39m\n\u001B[0;32m    396\u001B[0m image_url \u001B[38;5;241m=\u001B[39m (\n\u001B[0;32m    397\u001B[0m     \u001B[38;5;124mf\u001B[39m\u001B[38;5;124m\"\u001B[39m\u001B[38;5;124mhttps://mermaid.ink/img/\u001B[39m\u001B[38;5;132;01m{\u001B[39;00mmermaid_syntax_encoded\u001B[38;5;132;01m}\u001B[39;00m\u001B[38;5;124m\"\u001B[39m\n\u001B[0;32m    398\u001B[0m     \u001B[38;5;124mf\u001B[39m\u001B[38;5;124m\"\u001B[39m\u001B[38;5;124m?type=\u001B[39m\u001B[38;5;132;01m{\u001B[39;00mfile_type\u001B[38;5;132;01m}\u001B[39;00m\u001B[38;5;124m&bgColor=\u001B[39m\u001B[38;5;132;01m{\u001B[39;00mbackground_color\u001B[38;5;132;01m}\u001B[39;00m\u001B[38;5;124m\"\u001B[39m\n\u001B[0;32m    399\u001B[0m )\n\u001B[1;32m--> 400\u001B[0m response \u001B[38;5;241m=\u001B[39m requests\u001B[38;5;241m.\u001B[39mget(image_url, timeout\u001B[38;5;241m=\u001B[39m\u001B[38;5;241m10\u001B[39m)\n\u001B[0;32m    401\u001B[0m \u001B[38;5;28;01mif\u001B[39;00m response\u001B[38;5;241m.\u001B[39mstatus_code \u001B[38;5;241m==\u001B[39m \u001B[38;5;241m200\u001B[39m:\n\u001B[0;32m    402\u001B[0m     img_bytes \u001B[38;5;241m=\u001B[39m response\u001B[38;5;241m.\u001B[39mcontent\n",
      "File \u001B[1;32m~\\Anaconda3\\envs\\langgraph_agent\\Lib\\site-packages\\requests\\api.py:73\u001B[0m, in \u001B[0;36mget\u001B[1;34m(url, params, **kwargs)\u001B[0m\n\u001B[0;32m     62\u001B[0m \u001B[38;5;28;01mdef\u001B[39;00m \u001B[38;5;21mget\u001B[39m(url, params\u001B[38;5;241m=\u001B[39m\u001B[38;5;28;01mNone\u001B[39;00m, \u001B[38;5;241m*\u001B[39m\u001B[38;5;241m*\u001B[39mkwargs):\n\u001B[0;32m     63\u001B[0m \u001B[38;5;250m    \u001B[39m\u001B[38;5;124mr\u001B[39m\u001B[38;5;124;03m\"\"\"Sends a GET request.\u001B[39;00m\n\u001B[0;32m     64\u001B[0m \n\u001B[0;32m     65\u001B[0m \u001B[38;5;124;03m    :param url: URL for the new :class:`Request` object.\u001B[39;00m\n\u001B[1;32m   (...)\u001B[0m\n\u001B[0;32m     70\u001B[0m \u001B[38;5;124;03m    :rtype: requests.Response\u001B[39;00m\n\u001B[0;32m     71\u001B[0m \u001B[38;5;124;03m    \"\"\"\u001B[39;00m\n\u001B[1;32m---> 73\u001B[0m     \u001B[38;5;28;01mreturn\u001B[39;00m request(\u001B[38;5;124m\"\u001B[39m\u001B[38;5;124mget\u001B[39m\u001B[38;5;124m\"\u001B[39m, url, params\u001B[38;5;241m=\u001B[39mparams, \u001B[38;5;241m*\u001B[39m\u001B[38;5;241m*\u001B[39mkwargs)\n",
      "File \u001B[1;32m~\\Anaconda3\\envs\\langgraph_agent\\Lib\\site-packages\\requests\\api.py:59\u001B[0m, in \u001B[0;36mrequest\u001B[1;34m(method, url, **kwargs)\u001B[0m\n\u001B[0;32m     55\u001B[0m \u001B[38;5;66;03m# By using the 'with' statement we are sure the session is closed, thus we\u001B[39;00m\n\u001B[0;32m     56\u001B[0m \u001B[38;5;66;03m# avoid leaving sockets open which can trigger a ResourceWarning in some\u001B[39;00m\n\u001B[0;32m     57\u001B[0m \u001B[38;5;66;03m# cases, and look like a memory leak in others.\u001B[39;00m\n\u001B[0;32m     58\u001B[0m \u001B[38;5;28;01mwith\u001B[39;00m sessions\u001B[38;5;241m.\u001B[39mSession() \u001B[38;5;28;01mas\u001B[39;00m session:\n\u001B[1;32m---> 59\u001B[0m     \u001B[38;5;28;01mreturn\u001B[39;00m session\u001B[38;5;241m.\u001B[39mrequest(method\u001B[38;5;241m=\u001B[39mmethod, url\u001B[38;5;241m=\u001B[39murl, \u001B[38;5;241m*\u001B[39m\u001B[38;5;241m*\u001B[39mkwargs)\n",
      "File \u001B[1;32m~\\Anaconda3\\envs\\langgraph_agent\\Lib\\site-packages\\requests\\sessions.py:589\u001B[0m, in \u001B[0;36mSession.request\u001B[1;34m(self, method, url, params, data, headers, cookies, files, auth, timeout, allow_redirects, proxies, hooks, stream, verify, cert, json)\u001B[0m\n\u001B[0;32m    584\u001B[0m send_kwargs \u001B[38;5;241m=\u001B[39m {\n\u001B[0;32m    585\u001B[0m     \u001B[38;5;124m\"\u001B[39m\u001B[38;5;124mtimeout\u001B[39m\u001B[38;5;124m\"\u001B[39m: timeout,\n\u001B[0;32m    586\u001B[0m     \u001B[38;5;124m\"\u001B[39m\u001B[38;5;124mallow_redirects\u001B[39m\u001B[38;5;124m\"\u001B[39m: allow_redirects,\n\u001B[0;32m    587\u001B[0m }\n\u001B[0;32m    588\u001B[0m send_kwargs\u001B[38;5;241m.\u001B[39mupdate(settings)\n\u001B[1;32m--> 589\u001B[0m resp \u001B[38;5;241m=\u001B[39m \u001B[38;5;28mself\u001B[39m\u001B[38;5;241m.\u001B[39msend(prep, \u001B[38;5;241m*\u001B[39m\u001B[38;5;241m*\u001B[39msend_kwargs)\n\u001B[0;32m    591\u001B[0m \u001B[38;5;28;01mreturn\u001B[39;00m resp\n",
      "File \u001B[1;32m~\\Anaconda3\\envs\\langgraph_agent\\Lib\\site-packages\\requests\\sessions.py:703\u001B[0m, in \u001B[0;36mSession.send\u001B[1;34m(self, request, **kwargs)\u001B[0m\n\u001B[0;32m    700\u001B[0m start \u001B[38;5;241m=\u001B[39m preferred_clock()\n\u001B[0;32m    702\u001B[0m \u001B[38;5;66;03m# Send the request\u001B[39;00m\n\u001B[1;32m--> 703\u001B[0m r \u001B[38;5;241m=\u001B[39m adapter\u001B[38;5;241m.\u001B[39msend(request, \u001B[38;5;241m*\u001B[39m\u001B[38;5;241m*\u001B[39mkwargs)\n\u001B[0;32m    705\u001B[0m \u001B[38;5;66;03m# Total elapsed time of the request (approximately)\u001B[39;00m\n\u001B[0;32m    706\u001B[0m elapsed \u001B[38;5;241m=\u001B[39m preferred_clock() \u001B[38;5;241m-\u001B[39m start\n",
      "File \u001B[1;32m~\\Anaconda3\\envs\\langgraph_agent\\Lib\\site-packages\\requests\\adapters.py:713\u001B[0m, in \u001B[0;36mHTTPAdapter.send\u001B[1;34m(self, request, stream, timeout, verify, cert, proxies)\u001B[0m\n\u001B[0;32m    711\u001B[0m     \u001B[38;5;28;01mraise\u001B[39;00m SSLError(e, request\u001B[38;5;241m=\u001B[39mrequest)\n\u001B[0;32m    712\u001B[0m \u001B[38;5;28;01melif\u001B[39;00m \u001B[38;5;28misinstance\u001B[39m(e, ReadTimeoutError):\n\u001B[1;32m--> 713\u001B[0m     \u001B[38;5;28;01mraise\u001B[39;00m ReadTimeout(e, request\u001B[38;5;241m=\u001B[39mrequest)\n\u001B[0;32m    714\u001B[0m \u001B[38;5;28;01melif\u001B[39;00m \u001B[38;5;28misinstance\u001B[39m(e, _InvalidHeader):\n\u001B[0;32m    715\u001B[0m     \u001B[38;5;28;01mraise\u001B[39;00m InvalidHeader(e, request\u001B[38;5;241m=\u001B[39mrequest)\n",
      "\u001B[1;31mReadTimeout\u001B[0m: HTTPSConnectionPool(host='mermaid.ink', port=443): Read timed out. (read timeout=10)"
     ]
    }
   ],
   "execution_count": 39
  },
  {
   "cell_type": "code",
   "execution_count": 49,
   "id": "8475a2a1",
   "metadata": {},
   "outputs": [
    {
     "name": "stdout",
     "output_type": "stream",
     "text": [
      "---ROUTE QUESTION---\n",
      "--- 문서 관련성 평가 ---\n",
      "---문서 관련성: 있음---\n",
      "---문서 관련성: 없음---\n"
     ]
    },
    {
     "data": {
      "text/plain": [
       "{'question': '스테이크 매뉴가 있으면 추천해주세요.',\n",
       " 'documents': [Document(metadata={'menu_name': '시그니처 스테이크', 'menu_number': 1, 'source': './data/restaurant_menu.txt'}, page_content='1. 시그니처 스테이크\\n   • 가격: ₩35,000\\n   • 주요 식재료: 최상급 한우 등심, 로즈메리 감자, 그릴드 아스파라거스\\n   • 설명: 셰프의 특제 시그니처 메뉴로, 21일간 건조 숙성한 최상급 한우 등심을 사용합니다. 미디엄 레어로 조리하여 육즙을 최대한 보존하며, 로즈메리 향의 감자와 아삭한 그릴드 아스파라거스가 곁들여집니다. 레드와인 소스와 함께 제공되어 풍부한 맛을 더합니다.'),\n",
       "  Document(metadata={'menu_name': '해산물 파스타', 'menu_number': 6, 'source': './data/restaurant_menu.txt'}, page_content='6. 해산물 파스타\\n   • 가격: ₩24,000\\n   • 주요 식재료: 링귀네 파스타, 새우, 홍합, 오징어, 토마토 소스\\n   • 설명: 알 덴테로 삶은 링귀네 파스타에 신선한 해산물을 듬뿍 올린 메뉴입니다. 토마토 소스의 산미와 해산물의 감칠맛이 조화를 이루며, 마늘과 올리브 오일로 풍미를 더했습니다. 파슬리를 뿌려 향긋한 맛을 더합니다.')],\n",
       " 'filtered_documents': [Document(metadata={'menu_name': '시그니처 스테이크', 'menu_number': 1, 'source': './data/restaurant_menu.txt'}, page_content='1. 시그니처 스테이크\\n   • 가격: ₩35,000\\n   • 주요 식재료: 최상급 한우 등심, 로즈메리 감자, 그릴드 아스파라거스\\n   • 설명: 셰프의 특제 시그니처 메뉴로, 21일간 건조 숙성한 최상급 한우 등심을 사용합니다. 미디엄 레어로 조리하여 육즙을 최대한 보존하며, 로즈메리 향의 감자와 아삭한 그릴드 아스파라거스가 곁들여집니다. 레드와인 소스와 함께 제공되어 풍부한 맛을 더합니다.')],\n",
       " 'datasources': ['search_menu']}"
      ]
     },
     "execution_count": 49,
     "metadata": {},
     "output_type": "execute_result"
    }
   ],
   "source": [
    "result = tool_search_graph.invoke({\"question\": \"스테이크 매뉴가 있으면 추천해주세요.\"})\n",
    "result"
   ]
  },
  {
   "cell_type": "code",
   "execution_count": 50,
   "id": "2ade86ed",
   "metadata": {},
   "outputs": [
    {
     "name": "stdout",
     "output_type": "stream",
     "text": [
      "---ROUTE QUESTION---\n",
      "--- 문서 관련성 평가 ---\n",
      "---문서 관련성: 있음---\n",
      "---문서 관련성: 없음---\n",
      "---문서 관련성: 없음---\n",
      "---문서 관련성: 없음---\n"
     ]
    },
    {
     "data": {
      "text/plain": [
       "{'question': '스테이크 매뉴가 있으면 추천해주세요. 그리고 어울리는 와인도 소개해주세요.',\n",
       " 'documents': [Document(metadata={'menu_name': '시그니처 스테이크', 'menu_number': 1, 'source': './data/restaurant_menu.txt'}, page_content='1. 시그니처 스테이크\\n   • 가격: ₩35,000\\n   • 주요 식재료: 최상급 한우 등심, 로즈메리 감자, 그릴드 아스파라거스\\n   • 설명: 셰프의 특제 시그니처 메뉴로, 21일간 건조 숙성한 최상급 한우 등심을 사용합니다. 미디엄 레어로 조리하여 육즙을 최대한 보존하며, 로즈메리 향의 감자와 아삭한 그릴드 아스파라거스가 곁들여집니다. 레드와인 소스와 함께 제공되어 풍부한 맛을 더합니다.'),\n",
       "  Document(metadata={'menu_name': '치킨 콘피', 'menu_number': 9, 'source': './data/restaurant_menu.txt'}, page_content='9. 치킨 콘피\\n   • 가격: ₩23,000\\n   • 주요 식재료: 닭다리살, 허브, 마늘, 올리브 오일\\n   • 설명: 닭다리살을 허브와 마늘을 넣은 올리브 오일에 저온에서 장시간 조리한 프랑스 요리입니다. 부드럽고 촉촉한 육질이 특징이며, 로즈메리 감자와 제철 채소를 곁들여 제공합니다. 레몬 제스트를 뿌려 상큼한 향을 더했습니다.'),\n",
       "  Document(metadata={'menu_name': '풀리니 몽라쉐 1er Cru 2018', 'menu_number': 7, 'source': './data/restaurant_wine.txt'}, page_content='7. 풀리니 몽라쉐 1er Cru 2018\\n   • 가격: ₩320,000\\n   • 주요 품종: 샤르도네\\n   • 설명: 부르고뉴 최고의 화이트 와인 중 하나로 꼽힙니다. 레몬, 사과, 배의 과실향과 함께 헤이즐넛, 버터, 바닐라의 풍부한 향이 어우러집니다. 미네랄리티가 돋보이며, 크리미한 텍스처와 긴 여운이 특징입니다. 해산물, 닭고기, 크림 소스 파스타와 좋은 페어링을 이룹니다.'),\n",
       "  Document(metadata={'menu_name': '사시카이아 2018', 'menu_number': 3, 'source': './data/restaurant_wine.txt'}, page_content='3. 사시카이아 2018\\n   • 가격: ₩420,000\\n   • 주요 품종: 카베르네 소비뇽, 카베르네 프랑, 메를로\\n   • 설명: 이탈리아 토스카나의 슈퍼 투스칸 와인입니다. 블랙베리, 카시스의 강렬한 과실향과 함께 허브, 가죽, 스파이스 노트가 복잡성을 더합니다. 풀바디이지만 우아한 타닌과 신선한 산도가 균형을 잡아줍니다. 오크 숙성으로 인한 바닐라, 초콜릿 향이 은은하게 느껴집니다.')],\n",
       " 'filtered_documents': [Document(metadata={'menu_name': '시그니처 스테이크', 'menu_number': 1, 'source': './data/restaurant_menu.txt'}, page_content='1. 시그니처 스테이크\\n   • 가격: ₩35,000\\n   • 주요 식재료: 최상급 한우 등심, 로즈메리 감자, 그릴드 아스파라거스\\n   • 설명: 셰프의 특제 시그니처 메뉴로, 21일간 건조 숙성한 최상급 한우 등심을 사용합니다. 미디엄 레어로 조리하여 육즙을 최대한 보존하며, 로즈메리 향의 감자와 아삭한 그릴드 아스파라거스가 곁들여집니다. 레드와인 소스와 함께 제공되어 풍부한 맛을 더합니다.')],\n",
       " 'datasources': ['search_menu', 'search_wine']}"
      ]
     },
     "execution_count": 50,
     "metadata": {},
     "output_type": "execute_result"
    }
   ],
   "source": [
    "result = tool_search_graph.invoke({\"question\": \"스테이크 매뉴가 있으면 추천해주세요. 그리고 어울리는 와인도 소개해주세요.\"})\n",
    "result"
   ]
  },
  {
   "cell_type": "code",
   "execution_count": 51,
   "id": "1aa432a4",
   "metadata": {},
   "outputs": [
    {
     "name": "stdout",
     "output_type": "stream",
     "text": [
      "---ROUTE QUESTION---\n",
      "--- 문서 관련성 평가 ---\n",
      "---문서 관련성: 있음---\n",
      "---문서 관련성: 없음---\n",
      "---문서 관련성: 있음---\n",
      "---문서 관련성: 없음---\n"
     ]
    },
    {
     "data": {
      "text/plain": [
       "{'question': '파스타 매뉴가 있으면 추천해주세요. 그리고, 파스타의 유래에 대해 알려주세요.',\n",
       " 'documents': [Document(metadata={'menu_name': '해산물 파스타', 'menu_number': 6, 'source': './data/restaurant_menu.txt'}, page_content='6. 해산물 파스타\\n   • 가격: ₩24,000\\n   • 주요 식재료: 링귀네 파스타, 새우, 홍합, 오징어, 토마토 소스\\n   • 설명: 알 덴테로 삶은 링귀네 파스타에 신선한 해산물을 듬뿍 올린 메뉴입니다. 토마토 소스의 산미와 해산물의 감칠맛이 조화를 이루며, 마늘과 올리브 오일로 풍미를 더했습니다. 파슬리를 뿌려 향긋한 맛을 더합니다.'),\n",
       "  Document(metadata={'menu_name': '랍스터 비스크', 'menu_number': 7, 'source': './data/restaurant_menu.txt'}, page_content='7. 랍스터 비스크\\n   • 가격: ₩28,000\\n   • 주요 식재료: 랍스터, 생크림, 브랜디, 파프리카\\n   • 설명: 랍스터 껍질과 육수로 오랜 시간 우려낸 진한 비스크 수프입니다. 생크림으로 부드러운 질감을 더하고 브랜디로 깊은 풍미를 살렸습니다. 작은 랍스터 살을 토핑으로 올려 고급스러움을 더했습니다.'),\n",
       "  Document(metadata={'source': 'web search', 'url': 'https://sfood.tistory.com/entry/이탈리아-요리의-매력과-다양한-변주-파스타'}, page_content='<Document href=\"https://sfood.tistory.com/entry/이탈리아-요리의-매력과-다양한-변주-파스타\"/>\\n이탈리아 요리의 매력과 다양한 변주 \"파스타\". by 여왕작가2024. 5. 25. 파스타는 전 세계적으로 사랑받는 이탈리아 요리로, 그 종류와 조리법이 매우 다양합니다. 이 글에서는 파스타의 역사, 주요 종류, 조리 방법, 건강에 미치는 영향, 그리고 파스타가 문화에 ...\\n</Document>'),\n",
       "  Document(metadata={'source': 'web search', 'url': 'https://blog.naver.com/PostView.naver?blogId=foodmany&logNo=223370060982&noTrackingCode=true'}, page_content='<Document href=\"https://blog.naver.com/PostView.naver?blogId=foodmany&logNo=223370060982&noTrackingCode=true\"/>\\n[푸드소개] 이탈리아푸드 파스타(Pasta) - 기원, 유래, 역사 : 네이버 블로그 NAVER 블로그 블로그 검색 블로그 주소 변경 불가 안내블로그 마켓 판매자의 이력 관리를 위해 블로그 주소 변경이 불가합니다. 블로그 아이디가 필요해요!블로그에서 진짜 나를 기록하고 블로그 아이디 만들기 블로그 아이디 만들기 레이어 닫기 설정한 아이디는 나중에 변경할 수 없으니 신중하게 입력해주세요. 변경 전 공유된 블로그/글/클립 링크는 연결이 끊길 수 있습니다. 블로그 도움말에서 아이디 변경 유의사항을 확인해보세요. 2. 블로그 아이디는 한번 변경하면 취소 확인 블로그 아이디는 한번 정하면 취소 확인 블로그 아이디가 만들어졌어요. 나중에 언제든지 변경할 수 있어요. 블로그 주제 주제 없음 블로그 시작하기 내 블로그  블로그 홈  프로필 사진 변경 알림 읽은 알림 삭제모두 삭제 블로그 전체 서비스 보기 네이버 주요 서비스 바로가기 설정전체 서비스 보기 네이버 MYBOX 블로그 VIBE_New_ 블로그 메뉴 블로그\\n</Document>')],\n",
       " 'filtered_documents': [Document(metadata={'menu_name': '해산물 파스타', 'menu_number': 6, 'source': './data/restaurant_menu.txt'}, page_content='6. 해산물 파스타\\n   • 가격: ₩24,000\\n   • 주요 식재료: 링귀네 파스타, 새우, 홍합, 오징어, 토마토 소스\\n   • 설명: 알 덴테로 삶은 링귀네 파스타에 신선한 해산물을 듬뿍 올린 메뉴입니다. 토마토 소스의 산미와 해산물의 감칠맛이 조화를 이루며, 마늘과 올리브 오일로 풍미를 더했습니다. 파슬리를 뿌려 향긋한 맛을 더합니다.'),\n",
       "  Document(metadata={'source': 'web search', 'url': 'https://sfood.tistory.com/entry/이탈리아-요리의-매력과-다양한-변주-파스타'}, page_content='<Document href=\"https://sfood.tistory.com/entry/이탈리아-요리의-매력과-다양한-변주-파스타\"/>\\n이탈리아 요리의 매력과 다양한 변주 \"파스타\". by 여왕작가2024. 5. 25. 파스타는 전 세계적으로 사랑받는 이탈리아 요리로, 그 종류와 조리법이 매우 다양합니다. 이 글에서는 파스타의 역사, 주요 종류, 조리 방법, 건강에 미치는 영향, 그리고 파스타가 문화에 ...\\n</Document>')],\n",
       " 'datasources': ['search_menu', 'search_web']}"
      ]
     },
     "execution_count": 51,
     "metadata": {},
     "output_type": "execute_result"
    }
   ],
   "source": [
    "result = tool_search_graph.invoke({\"question\": \"파스타 매뉴가 있으면 추천해주세요. 그리고, 파스타의 유래에 대해 알려주세요.\"})\n",
    "result"
   ]
  },
  {
   "cell_type": "markdown",
   "id": "14e5653c",
   "metadata": {},
   "source": [
    "`(3) 기존 Self-RAG 그래프와 결합`\n",
    "\n",
    "- 다중 스키마 사용 (search_graph의 상위 그래프를 정의하고 OverallState 상태를 별도로 정의)"
   ]
  },
  {
   "cell_type": "code",
   "id": "c3fb77ac",
   "metadata": {
    "ExecuteTime": {
     "end_time": "2025-04-09T06:51:38.013511Z",
     "start_time": "2025-04-09T06:51:37.990297Z"
    }
   },
   "source": [
    "from typing import List, TypedDict\n",
    "from langchain_core.documents import Document\n",
    "\n",
    "# 상태를 초기화 (SelfRagState 클래스 상속)\n",
    "class SelfRagOverallState(SelfRagState):\n",
    "    # question: str                       # 사용자의 질문\n",
    "    # generation: str                     # LLM 생성 답변\n",
    "    # documents: List[Document]           # 컨텍스트 문서 (검색된 문서)\n",
    "    # num_generations: int                # 질문 or 답변 생성 횟수 (무한 루프 방지에 활용)\n",
    "    filtered_documents: List[Document]    # 컨텍스트 문서 중에서 질문에 대답할 수 있는 문서를 필터링"
   ],
   "outputs": [],
   "execution_count": 40
  },
  {
   "cell_type": "code",
   "id": "629c73ee",
   "metadata": {
    "ExecuteTime": {
     "end_time": "2025-04-09T06:56:02.799018Z",
     "start_time": "2025-04-09T06:55:52.088268Z"
    }
   },
   "source": [
    "from langgraph.graph import StateGraph, START, END\n",
    "from IPython.display import Image, display\n",
    "\n",
    "# 워크플로우 그래프 초기화\n",
    "rag_builder = StateGraph(SelfRagOverallState)\n",
    "\n",
    "# 검색 단계 서브 그래프 컴파일\n",
    "tool_search_graph = search_builder.compile()\n",
    "\n",
    "# 노드 정의\n",
    "rag_builder.add_node(\"search_data\", tool_search_graph)         # 문서 검색\n",
    "rag_builder.add_node(\"generate\", generate_self)                # 답변 생성\n",
    "rag_builder.add_node(\"transform_query\", transform_query_self)  # 질문 개선\n",
    "\n",
    "# 그래프 구축\n",
    "rag_builder.add_edge(START, \"search_data\")\n",
    "\n",
    "# 조건부 엣지 추가: 문서 평가 후 결정\n",
    "rag_builder.add_conditional_edges(\n",
    "    \"search_data\",\n",
    "    decide_to_generate_self,\n",
    "    {\n",
    "        \"transform_query\": \"transform_query\",\n",
    "        \"generate\": \"generate\",\n",
    "    },\n",
    ")\n",
    "rag_builder.add_edge(\"transform_query\", \"search_data\")\n",
    "\n",
    "# 조건부 엣지 추가: 답변 생성 후 평가\n",
    "rag_builder.add_conditional_edges(\n",
    "    \"generate\",\n",
    "    grade_generation_self,\n",
    "    {\n",
    "        \"not supported\": \"generate\",          # 환각이 발생한 경우 -> 답변을 다시 생성 \n",
    "        \"not useful\": \"transform_query\",      # 질문과 답변의 관련성이 부족한 경우 -> 쿼리 개선해서 다시 검색 \n",
    "        \"useful\": END, \n",
    "        \"end\": END,\n",
    "    },\n",
    ")\n",
    "\n",
    "# 그래프 컴파일\n",
    "adaptive_self_rag = rag_builder.compile()\n",
    "\n",
    "# 그래프 시각화\n",
    "display(Image(adaptive_self_rag.get_graph(xray=True).draw_mermaid_png()))"
   ],
   "outputs": [
    {
     "ename": "ReadTimeout",
     "evalue": "HTTPSConnectionPool(host='mermaid.ink', port=443): Read timed out. (read timeout=10)",
     "output_type": "error",
     "traceback": [
      "\u001B[1;31m---------------------------------------------------------------------------\u001B[0m",
      "\u001B[1;31mTimeoutError\u001B[0m                              Traceback (most recent call last)",
      "File \u001B[1;32m~\\Anaconda3\\envs\\langgraph_agent\\Lib\\site-packages\\urllib3\\connectionpool.py:534\u001B[0m, in \u001B[0;36mHTTPConnectionPool._make_request\u001B[1;34m(self, conn, method, url, body, headers, retries, timeout, chunked, response_conn, preload_content, decode_content, enforce_content_length)\u001B[0m\n\u001B[0;32m    533\u001B[0m \u001B[38;5;28;01mtry\u001B[39;00m:\n\u001B[1;32m--> 534\u001B[0m     response \u001B[38;5;241m=\u001B[39m conn\u001B[38;5;241m.\u001B[39mgetresponse()\n\u001B[0;32m    535\u001B[0m \u001B[38;5;28;01mexcept\u001B[39;00m (BaseSSLError, \u001B[38;5;167;01mOSError\u001B[39;00m) \u001B[38;5;28;01mas\u001B[39;00m e:\n",
      "File \u001B[1;32m~\\Anaconda3\\envs\\langgraph_agent\\Lib\\site-packages\\urllib3\\connection.py:516\u001B[0m, in \u001B[0;36mHTTPConnection.getresponse\u001B[1;34m(self)\u001B[0m\n\u001B[0;32m    515\u001B[0m \u001B[38;5;66;03m# Get the response from http.client.HTTPConnection\u001B[39;00m\n\u001B[1;32m--> 516\u001B[0m httplib_response \u001B[38;5;241m=\u001B[39m \u001B[38;5;28msuper\u001B[39m()\u001B[38;5;241m.\u001B[39mgetresponse()\n\u001B[0;32m    518\u001B[0m \u001B[38;5;28;01mtry\u001B[39;00m:\n",
      "File \u001B[1;32m~\\Anaconda3\\envs\\langgraph_agent\\Lib\\http\\client.py:1395\u001B[0m, in \u001B[0;36mHTTPConnection.getresponse\u001B[1;34m(self)\u001B[0m\n\u001B[0;32m   1394\u001B[0m \u001B[38;5;28;01mtry\u001B[39;00m:\n\u001B[1;32m-> 1395\u001B[0m     response\u001B[38;5;241m.\u001B[39mbegin()\n\u001B[0;32m   1396\u001B[0m \u001B[38;5;28;01mexcept\u001B[39;00m \u001B[38;5;167;01mConnectionError\u001B[39;00m:\n",
      "File \u001B[1;32m~\\Anaconda3\\envs\\langgraph_agent\\Lib\\http\\client.py:325\u001B[0m, in \u001B[0;36mHTTPResponse.begin\u001B[1;34m(self)\u001B[0m\n\u001B[0;32m    324\u001B[0m \u001B[38;5;28;01mwhile\u001B[39;00m \u001B[38;5;28;01mTrue\u001B[39;00m:\n\u001B[1;32m--> 325\u001B[0m     version, status, reason \u001B[38;5;241m=\u001B[39m \u001B[38;5;28mself\u001B[39m\u001B[38;5;241m.\u001B[39m_read_status()\n\u001B[0;32m    326\u001B[0m     \u001B[38;5;28;01mif\u001B[39;00m status \u001B[38;5;241m!=\u001B[39m CONTINUE:\n",
      "File \u001B[1;32m~\\Anaconda3\\envs\\langgraph_agent\\Lib\\http\\client.py:286\u001B[0m, in \u001B[0;36mHTTPResponse._read_status\u001B[1;34m(self)\u001B[0m\n\u001B[0;32m    285\u001B[0m \u001B[38;5;28;01mdef\u001B[39;00m \u001B[38;5;21m_read_status\u001B[39m(\u001B[38;5;28mself\u001B[39m):\n\u001B[1;32m--> 286\u001B[0m     line \u001B[38;5;241m=\u001B[39m \u001B[38;5;28mstr\u001B[39m(\u001B[38;5;28mself\u001B[39m\u001B[38;5;241m.\u001B[39mfp\u001B[38;5;241m.\u001B[39mreadline(_MAXLINE \u001B[38;5;241m+\u001B[39m \u001B[38;5;241m1\u001B[39m), \u001B[38;5;124m\"\u001B[39m\u001B[38;5;124miso-8859-1\u001B[39m\u001B[38;5;124m\"\u001B[39m)\n\u001B[0;32m    287\u001B[0m     \u001B[38;5;28;01mif\u001B[39;00m \u001B[38;5;28mlen\u001B[39m(line) \u001B[38;5;241m>\u001B[39m _MAXLINE:\n",
      "File \u001B[1;32m~\\Anaconda3\\envs\\langgraph_agent\\Lib\\socket.py:718\u001B[0m, in \u001B[0;36mSocketIO.readinto\u001B[1;34m(self, b)\u001B[0m\n\u001B[0;32m    717\u001B[0m \u001B[38;5;28;01mtry\u001B[39;00m:\n\u001B[1;32m--> 718\u001B[0m     \u001B[38;5;28;01mreturn\u001B[39;00m \u001B[38;5;28mself\u001B[39m\u001B[38;5;241m.\u001B[39m_sock\u001B[38;5;241m.\u001B[39mrecv_into(b)\n\u001B[0;32m    719\u001B[0m \u001B[38;5;28;01mexcept\u001B[39;00m timeout:\n",
      "File \u001B[1;32m~\\Anaconda3\\envs\\langgraph_agent\\Lib\\ssl.py:1314\u001B[0m, in \u001B[0;36mSSLSocket.recv_into\u001B[1;34m(self, buffer, nbytes, flags)\u001B[0m\n\u001B[0;32m   1311\u001B[0m         \u001B[38;5;28;01mraise\u001B[39;00m \u001B[38;5;167;01mValueError\u001B[39;00m(\n\u001B[0;32m   1312\u001B[0m           \u001B[38;5;124m\"\u001B[39m\u001B[38;5;124mnon-zero flags not allowed in calls to recv_into() on \u001B[39m\u001B[38;5;132;01m%s\u001B[39;00m\u001B[38;5;124m\"\u001B[39m \u001B[38;5;241m%\u001B[39m\n\u001B[0;32m   1313\u001B[0m           \u001B[38;5;28mself\u001B[39m\u001B[38;5;241m.\u001B[39m\u001B[38;5;18m__class__\u001B[39m)\n\u001B[1;32m-> 1314\u001B[0m     \u001B[38;5;28;01mreturn\u001B[39;00m \u001B[38;5;28mself\u001B[39m\u001B[38;5;241m.\u001B[39mread(nbytes, buffer)\n\u001B[0;32m   1315\u001B[0m \u001B[38;5;28;01melse\u001B[39;00m:\n",
      "File \u001B[1;32m~\\Anaconda3\\envs\\langgraph_agent\\Lib\\ssl.py:1166\u001B[0m, in \u001B[0;36mSSLSocket.read\u001B[1;34m(self, len, buffer)\u001B[0m\n\u001B[0;32m   1165\u001B[0m \u001B[38;5;28;01mif\u001B[39;00m buffer \u001B[38;5;129;01mis\u001B[39;00m \u001B[38;5;129;01mnot\u001B[39;00m \u001B[38;5;28;01mNone\u001B[39;00m:\n\u001B[1;32m-> 1166\u001B[0m     \u001B[38;5;28;01mreturn\u001B[39;00m \u001B[38;5;28mself\u001B[39m\u001B[38;5;241m.\u001B[39m_sslobj\u001B[38;5;241m.\u001B[39mread(\u001B[38;5;28mlen\u001B[39m, buffer)\n\u001B[0;32m   1167\u001B[0m \u001B[38;5;28;01melse\u001B[39;00m:\n",
      "\u001B[1;31mTimeoutError\u001B[0m: The read operation timed out",
      "\nThe above exception was the direct cause of the following exception:\n",
      "\u001B[1;31mReadTimeoutError\u001B[0m                          Traceback (most recent call last)",
      "File \u001B[1;32m~\\Anaconda3\\envs\\langgraph_agent\\Lib\\site-packages\\requests\\adapters.py:667\u001B[0m, in \u001B[0;36mHTTPAdapter.send\u001B[1;34m(self, request, stream, timeout, verify, cert, proxies)\u001B[0m\n\u001B[0;32m    666\u001B[0m \u001B[38;5;28;01mtry\u001B[39;00m:\n\u001B[1;32m--> 667\u001B[0m     resp \u001B[38;5;241m=\u001B[39m conn\u001B[38;5;241m.\u001B[39murlopen(\n\u001B[0;32m    668\u001B[0m         method\u001B[38;5;241m=\u001B[39mrequest\u001B[38;5;241m.\u001B[39mmethod,\n\u001B[0;32m    669\u001B[0m         url\u001B[38;5;241m=\u001B[39murl,\n\u001B[0;32m    670\u001B[0m         body\u001B[38;5;241m=\u001B[39mrequest\u001B[38;5;241m.\u001B[39mbody,\n\u001B[0;32m    671\u001B[0m         headers\u001B[38;5;241m=\u001B[39mrequest\u001B[38;5;241m.\u001B[39mheaders,\n\u001B[0;32m    672\u001B[0m         redirect\u001B[38;5;241m=\u001B[39m\u001B[38;5;28;01mFalse\u001B[39;00m,\n\u001B[0;32m    673\u001B[0m         assert_same_host\u001B[38;5;241m=\u001B[39m\u001B[38;5;28;01mFalse\u001B[39;00m,\n\u001B[0;32m    674\u001B[0m         preload_content\u001B[38;5;241m=\u001B[39m\u001B[38;5;28;01mFalse\u001B[39;00m,\n\u001B[0;32m    675\u001B[0m         decode_content\u001B[38;5;241m=\u001B[39m\u001B[38;5;28;01mFalse\u001B[39;00m,\n\u001B[0;32m    676\u001B[0m         retries\u001B[38;5;241m=\u001B[39m\u001B[38;5;28mself\u001B[39m\u001B[38;5;241m.\u001B[39mmax_retries,\n\u001B[0;32m    677\u001B[0m         timeout\u001B[38;5;241m=\u001B[39mtimeout,\n\u001B[0;32m    678\u001B[0m         chunked\u001B[38;5;241m=\u001B[39mchunked,\n\u001B[0;32m    679\u001B[0m     )\n\u001B[0;32m    681\u001B[0m \u001B[38;5;28;01mexcept\u001B[39;00m (ProtocolError, \u001B[38;5;167;01mOSError\u001B[39;00m) \u001B[38;5;28;01mas\u001B[39;00m err:\n",
      "File \u001B[1;32m~\\Anaconda3\\envs\\langgraph_agent\\Lib\\site-packages\\urllib3\\connectionpool.py:841\u001B[0m, in \u001B[0;36mHTTPConnectionPool.urlopen\u001B[1;34m(self, method, url, body, headers, retries, redirect, assert_same_host, timeout, pool_timeout, release_conn, chunked, body_pos, preload_content, decode_content, **response_kw)\u001B[0m\n\u001B[0;32m    839\u001B[0m     new_e \u001B[38;5;241m=\u001B[39m ProtocolError(\u001B[38;5;124m\"\u001B[39m\u001B[38;5;124mConnection aborted.\u001B[39m\u001B[38;5;124m\"\u001B[39m, new_e)\n\u001B[1;32m--> 841\u001B[0m retries \u001B[38;5;241m=\u001B[39m retries\u001B[38;5;241m.\u001B[39mincrement(\n\u001B[0;32m    842\u001B[0m     method, url, error\u001B[38;5;241m=\u001B[39mnew_e, _pool\u001B[38;5;241m=\u001B[39m\u001B[38;5;28mself\u001B[39m, _stacktrace\u001B[38;5;241m=\u001B[39msys\u001B[38;5;241m.\u001B[39mexc_info()[\u001B[38;5;241m2\u001B[39m]\n\u001B[0;32m    843\u001B[0m )\n\u001B[0;32m    844\u001B[0m retries\u001B[38;5;241m.\u001B[39msleep()\n",
      "File \u001B[1;32m~\\Anaconda3\\envs\\langgraph_agent\\Lib\\site-packages\\urllib3\\util\\retry.py:474\u001B[0m, in \u001B[0;36mRetry.increment\u001B[1;34m(self, method, url, response, error, _pool, _stacktrace)\u001B[0m\n\u001B[0;32m    473\u001B[0m \u001B[38;5;28;01mif\u001B[39;00m read \u001B[38;5;129;01mis\u001B[39;00m \u001B[38;5;28;01mFalse\u001B[39;00m \u001B[38;5;129;01mor\u001B[39;00m method \u001B[38;5;129;01mis\u001B[39;00m \u001B[38;5;28;01mNone\u001B[39;00m \u001B[38;5;129;01mor\u001B[39;00m \u001B[38;5;129;01mnot\u001B[39;00m \u001B[38;5;28mself\u001B[39m\u001B[38;5;241m.\u001B[39m_is_method_retryable(method):\n\u001B[1;32m--> 474\u001B[0m     \u001B[38;5;28;01mraise\u001B[39;00m reraise(\u001B[38;5;28mtype\u001B[39m(error), error, _stacktrace)\n\u001B[0;32m    475\u001B[0m \u001B[38;5;28;01melif\u001B[39;00m read \u001B[38;5;129;01mis\u001B[39;00m \u001B[38;5;129;01mnot\u001B[39;00m \u001B[38;5;28;01mNone\u001B[39;00m:\n",
      "File \u001B[1;32m~\\Anaconda3\\envs\\langgraph_agent\\Lib\\site-packages\\urllib3\\util\\util.py:39\u001B[0m, in \u001B[0;36mreraise\u001B[1;34m(tp, value, tb)\u001B[0m\n\u001B[0;32m     38\u001B[0m         \u001B[38;5;28;01mraise\u001B[39;00m value\u001B[38;5;241m.\u001B[39mwith_traceback(tb)\n\u001B[1;32m---> 39\u001B[0m     \u001B[38;5;28;01mraise\u001B[39;00m value\n\u001B[0;32m     40\u001B[0m \u001B[38;5;28;01mfinally\u001B[39;00m:\n",
      "File \u001B[1;32m~\\Anaconda3\\envs\\langgraph_agent\\Lib\\site-packages\\urllib3\\connectionpool.py:787\u001B[0m, in \u001B[0;36mHTTPConnectionPool.urlopen\u001B[1;34m(self, method, url, body, headers, retries, redirect, assert_same_host, timeout, pool_timeout, release_conn, chunked, body_pos, preload_content, decode_content, **response_kw)\u001B[0m\n\u001B[0;32m    786\u001B[0m \u001B[38;5;66;03m# Make the request on the HTTPConnection object\u001B[39;00m\n\u001B[1;32m--> 787\u001B[0m response \u001B[38;5;241m=\u001B[39m \u001B[38;5;28mself\u001B[39m\u001B[38;5;241m.\u001B[39m_make_request(\n\u001B[0;32m    788\u001B[0m     conn,\n\u001B[0;32m    789\u001B[0m     method,\n\u001B[0;32m    790\u001B[0m     url,\n\u001B[0;32m    791\u001B[0m     timeout\u001B[38;5;241m=\u001B[39mtimeout_obj,\n\u001B[0;32m    792\u001B[0m     body\u001B[38;5;241m=\u001B[39mbody,\n\u001B[0;32m    793\u001B[0m     headers\u001B[38;5;241m=\u001B[39mheaders,\n\u001B[0;32m    794\u001B[0m     chunked\u001B[38;5;241m=\u001B[39mchunked,\n\u001B[0;32m    795\u001B[0m     retries\u001B[38;5;241m=\u001B[39mretries,\n\u001B[0;32m    796\u001B[0m     response_conn\u001B[38;5;241m=\u001B[39mresponse_conn,\n\u001B[0;32m    797\u001B[0m     preload_content\u001B[38;5;241m=\u001B[39mpreload_content,\n\u001B[0;32m    798\u001B[0m     decode_content\u001B[38;5;241m=\u001B[39mdecode_content,\n\u001B[0;32m    799\u001B[0m     \u001B[38;5;241m*\u001B[39m\u001B[38;5;241m*\u001B[39mresponse_kw,\n\u001B[0;32m    800\u001B[0m )\n\u001B[0;32m    802\u001B[0m \u001B[38;5;66;03m# Everything went great!\u001B[39;00m\n",
      "File \u001B[1;32m~\\Anaconda3\\envs\\langgraph_agent\\Lib\\site-packages\\urllib3\\connectionpool.py:536\u001B[0m, in \u001B[0;36mHTTPConnectionPool._make_request\u001B[1;34m(self, conn, method, url, body, headers, retries, timeout, chunked, response_conn, preload_content, decode_content, enforce_content_length)\u001B[0m\n\u001B[0;32m    535\u001B[0m \u001B[38;5;28;01mexcept\u001B[39;00m (BaseSSLError, \u001B[38;5;167;01mOSError\u001B[39;00m) \u001B[38;5;28;01mas\u001B[39;00m e:\n\u001B[1;32m--> 536\u001B[0m     \u001B[38;5;28mself\u001B[39m\u001B[38;5;241m.\u001B[39m_raise_timeout(err\u001B[38;5;241m=\u001B[39me, url\u001B[38;5;241m=\u001B[39murl, timeout_value\u001B[38;5;241m=\u001B[39mread_timeout)\n\u001B[0;32m    537\u001B[0m     \u001B[38;5;28;01mraise\u001B[39;00m\n",
      "File \u001B[1;32m~\\Anaconda3\\envs\\langgraph_agent\\Lib\\site-packages\\urllib3\\connectionpool.py:367\u001B[0m, in \u001B[0;36mHTTPConnectionPool._raise_timeout\u001B[1;34m(self, err, url, timeout_value)\u001B[0m\n\u001B[0;32m    366\u001B[0m \u001B[38;5;28;01mif\u001B[39;00m \u001B[38;5;28misinstance\u001B[39m(err, SocketTimeout):\n\u001B[1;32m--> 367\u001B[0m     \u001B[38;5;28;01mraise\u001B[39;00m ReadTimeoutError(\n\u001B[0;32m    368\u001B[0m         \u001B[38;5;28mself\u001B[39m, url, \u001B[38;5;124mf\u001B[39m\u001B[38;5;124m\"\u001B[39m\u001B[38;5;124mRead timed out. (read timeout=\u001B[39m\u001B[38;5;132;01m{\u001B[39;00mtimeout_value\u001B[38;5;132;01m}\u001B[39;00m\u001B[38;5;124m)\u001B[39m\u001B[38;5;124m\"\u001B[39m\n\u001B[0;32m    369\u001B[0m     ) \u001B[38;5;28;01mfrom\u001B[39;00m \u001B[38;5;21;01merr\u001B[39;00m\n\u001B[0;32m    371\u001B[0m \u001B[38;5;66;03m# See the above comment about EAGAIN in Python 3.\u001B[39;00m\n",
      "\u001B[1;31mReadTimeoutError\u001B[0m: HTTPSConnectionPool(host='mermaid.ink', port=443): Read timed out. (read timeout=10)",
      "\nDuring handling of the above exception, another exception occurred:\n",
      "\u001B[1;31mReadTimeout\u001B[0m                               Traceback (most recent call last)",
      "Cell \u001B[1;32mIn[41], line 45\u001B[0m\n\u001B[0;32m     42\u001B[0m adaptive_self_rag \u001B[38;5;241m=\u001B[39m rag_builder\u001B[38;5;241m.\u001B[39mcompile()\n\u001B[0;32m     44\u001B[0m \u001B[38;5;66;03m# 그래프 시각화\u001B[39;00m\n\u001B[1;32m---> 45\u001B[0m display(Image(adaptive_self_rag\u001B[38;5;241m.\u001B[39mget_graph(xray\u001B[38;5;241m=\u001B[39m\u001B[38;5;28;01mTrue\u001B[39;00m)\u001B[38;5;241m.\u001B[39mdraw_mermaid_png()))\n",
      "File \u001B[1;32m~\\Anaconda3\\envs\\langgraph_agent\\Lib\\site-packages\\langchain_core\\runnables\\graph.py:667\u001B[0m, in \u001B[0;36mGraph.draw_mermaid_png\u001B[1;34m(self, curve_style, node_colors, wrap_label_n_words, output_file_path, draw_method, background_color, padding, frontmatter_config)\u001B[0m\n\u001B[0;32m    659\u001B[0m \u001B[38;5;28;01mfrom\u001B[39;00m \u001B[38;5;21;01mlangchain_core\u001B[39;00m\u001B[38;5;21;01m.\u001B[39;00m\u001B[38;5;21;01mrunnables\u001B[39;00m\u001B[38;5;21;01m.\u001B[39;00m\u001B[38;5;21;01mgraph_mermaid\u001B[39;00m \u001B[38;5;28;01mimport\u001B[39;00m draw_mermaid_png\n\u001B[0;32m    661\u001B[0m mermaid_syntax \u001B[38;5;241m=\u001B[39m \u001B[38;5;28mself\u001B[39m\u001B[38;5;241m.\u001B[39mdraw_mermaid(\n\u001B[0;32m    662\u001B[0m     curve_style\u001B[38;5;241m=\u001B[39mcurve_style,\n\u001B[0;32m    663\u001B[0m     node_colors\u001B[38;5;241m=\u001B[39mnode_colors,\n\u001B[0;32m    664\u001B[0m     wrap_label_n_words\u001B[38;5;241m=\u001B[39mwrap_label_n_words,\n\u001B[0;32m    665\u001B[0m     frontmatter_config\u001B[38;5;241m=\u001B[39mfrontmatter_config,\n\u001B[0;32m    666\u001B[0m )\n\u001B[1;32m--> 667\u001B[0m \u001B[38;5;28;01mreturn\u001B[39;00m draw_mermaid_png(\n\u001B[0;32m    668\u001B[0m     mermaid_syntax\u001B[38;5;241m=\u001B[39mmermaid_syntax,\n\u001B[0;32m    669\u001B[0m     output_file_path\u001B[38;5;241m=\u001B[39moutput_file_path,\n\u001B[0;32m    670\u001B[0m     draw_method\u001B[38;5;241m=\u001B[39mdraw_method,\n\u001B[0;32m    671\u001B[0m     background_color\u001B[38;5;241m=\u001B[39mbackground_color,\n\u001B[0;32m    672\u001B[0m     padding\u001B[38;5;241m=\u001B[39mpadding,\n\u001B[0;32m    673\u001B[0m )\n",
      "File \u001B[1;32m~\\Anaconda3\\envs\\langgraph_agent\\Lib\\site-packages\\langchain_core\\runnables\\graph_mermaid.py:282\u001B[0m, in \u001B[0;36mdraw_mermaid_png\u001B[1;34m(mermaid_syntax, output_file_path, draw_method, background_color, padding)\u001B[0m\n\u001B[0;32m    276\u001B[0m     img_bytes \u001B[38;5;241m=\u001B[39m asyncio\u001B[38;5;241m.\u001B[39mrun(\n\u001B[0;32m    277\u001B[0m         _render_mermaid_using_pyppeteer(\n\u001B[0;32m    278\u001B[0m             mermaid_syntax, output_file_path, background_color, padding\n\u001B[0;32m    279\u001B[0m         )\n\u001B[0;32m    280\u001B[0m     )\n\u001B[0;32m    281\u001B[0m \u001B[38;5;28;01melif\u001B[39;00m draw_method \u001B[38;5;241m==\u001B[39m MermaidDrawMethod\u001B[38;5;241m.\u001B[39mAPI:\n\u001B[1;32m--> 282\u001B[0m     img_bytes \u001B[38;5;241m=\u001B[39m _render_mermaid_using_api(\n\u001B[0;32m    283\u001B[0m         mermaid_syntax, output_file_path, background_color\n\u001B[0;32m    284\u001B[0m     )\n\u001B[0;32m    285\u001B[0m \u001B[38;5;28;01melse\u001B[39;00m:\n\u001B[0;32m    286\u001B[0m     supported_methods \u001B[38;5;241m=\u001B[39m \u001B[38;5;124m\"\u001B[39m\u001B[38;5;124m, \u001B[39m\u001B[38;5;124m\"\u001B[39m\u001B[38;5;241m.\u001B[39mjoin([m\u001B[38;5;241m.\u001B[39mvalue \u001B[38;5;28;01mfor\u001B[39;00m m \u001B[38;5;129;01min\u001B[39;00m MermaidDrawMethod])\n",
      "File \u001B[1;32m~\\Anaconda3\\envs\\langgraph_agent\\Lib\\site-packages\\langchain_core\\runnables\\graph_mermaid.py:400\u001B[0m, in \u001B[0;36m_render_mermaid_using_api\u001B[1;34m(mermaid_syntax, output_file_path, background_color, file_type)\u001B[0m\n\u001B[0;32m    394\u001B[0m         background_color \u001B[38;5;241m=\u001B[39m \u001B[38;5;124mf\u001B[39m\u001B[38;5;124m\"\u001B[39m\u001B[38;5;124m!\u001B[39m\u001B[38;5;132;01m{\u001B[39;00mbackground_color\u001B[38;5;132;01m}\u001B[39;00m\u001B[38;5;124m\"\u001B[39m\n\u001B[0;32m    396\u001B[0m image_url \u001B[38;5;241m=\u001B[39m (\n\u001B[0;32m    397\u001B[0m     \u001B[38;5;124mf\u001B[39m\u001B[38;5;124m\"\u001B[39m\u001B[38;5;124mhttps://mermaid.ink/img/\u001B[39m\u001B[38;5;132;01m{\u001B[39;00mmermaid_syntax_encoded\u001B[38;5;132;01m}\u001B[39;00m\u001B[38;5;124m\"\u001B[39m\n\u001B[0;32m    398\u001B[0m     \u001B[38;5;124mf\u001B[39m\u001B[38;5;124m\"\u001B[39m\u001B[38;5;124m?type=\u001B[39m\u001B[38;5;132;01m{\u001B[39;00mfile_type\u001B[38;5;132;01m}\u001B[39;00m\u001B[38;5;124m&bgColor=\u001B[39m\u001B[38;5;132;01m{\u001B[39;00mbackground_color\u001B[38;5;132;01m}\u001B[39;00m\u001B[38;5;124m\"\u001B[39m\n\u001B[0;32m    399\u001B[0m )\n\u001B[1;32m--> 400\u001B[0m response \u001B[38;5;241m=\u001B[39m requests\u001B[38;5;241m.\u001B[39mget(image_url, timeout\u001B[38;5;241m=\u001B[39m\u001B[38;5;241m10\u001B[39m)\n\u001B[0;32m    401\u001B[0m \u001B[38;5;28;01mif\u001B[39;00m response\u001B[38;5;241m.\u001B[39mstatus_code \u001B[38;5;241m==\u001B[39m \u001B[38;5;241m200\u001B[39m:\n\u001B[0;32m    402\u001B[0m     img_bytes \u001B[38;5;241m=\u001B[39m response\u001B[38;5;241m.\u001B[39mcontent\n",
      "File \u001B[1;32m~\\Anaconda3\\envs\\langgraph_agent\\Lib\\site-packages\\requests\\api.py:73\u001B[0m, in \u001B[0;36mget\u001B[1;34m(url, params, **kwargs)\u001B[0m\n\u001B[0;32m     62\u001B[0m \u001B[38;5;28;01mdef\u001B[39;00m \u001B[38;5;21mget\u001B[39m(url, params\u001B[38;5;241m=\u001B[39m\u001B[38;5;28;01mNone\u001B[39;00m, \u001B[38;5;241m*\u001B[39m\u001B[38;5;241m*\u001B[39mkwargs):\n\u001B[0;32m     63\u001B[0m \u001B[38;5;250m    \u001B[39m\u001B[38;5;124mr\u001B[39m\u001B[38;5;124;03m\"\"\"Sends a GET request.\u001B[39;00m\n\u001B[0;32m     64\u001B[0m \n\u001B[0;32m     65\u001B[0m \u001B[38;5;124;03m    :param url: URL for the new :class:`Request` object.\u001B[39;00m\n\u001B[1;32m   (...)\u001B[0m\n\u001B[0;32m     70\u001B[0m \u001B[38;5;124;03m    :rtype: requests.Response\u001B[39;00m\n\u001B[0;32m     71\u001B[0m \u001B[38;5;124;03m    \"\"\"\u001B[39;00m\n\u001B[1;32m---> 73\u001B[0m     \u001B[38;5;28;01mreturn\u001B[39;00m request(\u001B[38;5;124m\"\u001B[39m\u001B[38;5;124mget\u001B[39m\u001B[38;5;124m\"\u001B[39m, url, params\u001B[38;5;241m=\u001B[39mparams, \u001B[38;5;241m*\u001B[39m\u001B[38;5;241m*\u001B[39mkwargs)\n",
      "File \u001B[1;32m~\\Anaconda3\\envs\\langgraph_agent\\Lib\\site-packages\\requests\\api.py:59\u001B[0m, in \u001B[0;36mrequest\u001B[1;34m(method, url, **kwargs)\u001B[0m\n\u001B[0;32m     55\u001B[0m \u001B[38;5;66;03m# By using the 'with' statement we are sure the session is closed, thus we\u001B[39;00m\n\u001B[0;32m     56\u001B[0m \u001B[38;5;66;03m# avoid leaving sockets open which can trigger a ResourceWarning in some\u001B[39;00m\n\u001B[0;32m     57\u001B[0m \u001B[38;5;66;03m# cases, and look like a memory leak in others.\u001B[39;00m\n\u001B[0;32m     58\u001B[0m \u001B[38;5;28;01mwith\u001B[39;00m sessions\u001B[38;5;241m.\u001B[39mSession() \u001B[38;5;28;01mas\u001B[39;00m session:\n\u001B[1;32m---> 59\u001B[0m     \u001B[38;5;28;01mreturn\u001B[39;00m session\u001B[38;5;241m.\u001B[39mrequest(method\u001B[38;5;241m=\u001B[39mmethod, url\u001B[38;5;241m=\u001B[39murl, \u001B[38;5;241m*\u001B[39m\u001B[38;5;241m*\u001B[39mkwargs)\n",
      "File \u001B[1;32m~\\Anaconda3\\envs\\langgraph_agent\\Lib\\site-packages\\requests\\sessions.py:589\u001B[0m, in \u001B[0;36mSession.request\u001B[1;34m(self, method, url, params, data, headers, cookies, files, auth, timeout, allow_redirects, proxies, hooks, stream, verify, cert, json)\u001B[0m\n\u001B[0;32m    584\u001B[0m send_kwargs \u001B[38;5;241m=\u001B[39m {\n\u001B[0;32m    585\u001B[0m     \u001B[38;5;124m\"\u001B[39m\u001B[38;5;124mtimeout\u001B[39m\u001B[38;5;124m\"\u001B[39m: timeout,\n\u001B[0;32m    586\u001B[0m     \u001B[38;5;124m\"\u001B[39m\u001B[38;5;124mallow_redirects\u001B[39m\u001B[38;5;124m\"\u001B[39m: allow_redirects,\n\u001B[0;32m    587\u001B[0m }\n\u001B[0;32m    588\u001B[0m send_kwargs\u001B[38;5;241m.\u001B[39mupdate(settings)\n\u001B[1;32m--> 589\u001B[0m resp \u001B[38;5;241m=\u001B[39m \u001B[38;5;28mself\u001B[39m\u001B[38;5;241m.\u001B[39msend(prep, \u001B[38;5;241m*\u001B[39m\u001B[38;5;241m*\u001B[39msend_kwargs)\n\u001B[0;32m    591\u001B[0m \u001B[38;5;28;01mreturn\u001B[39;00m resp\n",
      "File \u001B[1;32m~\\Anaconda3\\envs\\langgraph_agent\\Lib\\site-packages\\requests\\sessions.py:703\u001B[0m, in \u001B[0;36mSession.send\u001B[1;34m(self, request, **kwargs)\u001B[0m\n\u001B[0;32m    700\u001B[0m start \u001B[38;5;241m=\u001B[39m preferred_clock()\n\u001B[0;32m    702\u001B[0m \u001B[38;5;66;03m# Send the request\u001B[39;00m\n\u001B[1;32m--> 703\u001B[0m r \u001B[38;5;241m=\u001B[39m adapter\u001B[38;5;241m.\u001B[39msend(request, \u001B[38;5;241m*\u001B[39m\u001B[38;5;241m*\u001B[39mkwargs)\n\u001B[0;32m    705\u001B[0m \u001B[38;5;66;03m# Total elapsed time of the request (approximately)\u001B[39;00m\n\u001B[0;32m    706\u001B[0m elapsed \u001B[38;5;241m=\u001B[39m preferred_clock() \u001B[38;5;241m-\u001B[39m start\n",
      "File \u001B[1;32m~\\Anaconda3\\envs\\langgraph_agent\\Lib\\site-packages\\requests\\adapters.py:713\u001B[0m, in \u001B[0;36mHTTPAdapter.send\u001B[1;34m(self, request, stream, timeout, verify, cert, proxies)\u001B[0m\n\u001B[0;32m    711\u001B[0m     \u001B[38;5;28;01mraise\u001B[39;00m SSLError(e, request\u001B[38;5;241m=\u001B[39mrequest)\n\u001B[0;32m    712\u001B[0m \u001B[38;5;28;01melif\u001B[39;00m \u001B[38;5;28misinstance\u001B[39m(e, ReadTimeoutError):\n\u001B[1;32m--> 713\u001B[0m     \u001B[38;5;28;01mraise\u001B[39;00m ReadTimeout(e, request\u001B[38;5;241m=\u001B[39mrequest)\n\u001B[0;32m    714\u001B[0m \u001B[38;5;28;01melif\u001B[39;00m \u001B[38;5;28misinstance\u001B[39m(e, _InvalidHeader):\n\u001B[0;32m    715\u001B[0m     \u001B[38;5;28;01mraise\u001B[39;00m InvalidHeader(e, request\u001B[38;5;241m=\u001B[39mrequest)\n",
      "\u001B[1;31mReadTimeout\u001B[0m: HTTPSConnectionPool(host='mermaid.ink', port=443): Read timed out. (read timeout=10)"
     ]
    }
   ],
   "execution_count": 41
  },
  {
   "cell_type": "code",
   "execution_count": 54,
   "id": "a592ec9b",
   "metadata": {},
   "outputs": [
    {
     "name": "stdout",
     "output_type": "stream",
     "text": [
      "---ROUTE QUESTION---\n",
      "--- 문서 관련성 평가 ---\n",
      "---문서 관련성: 있음---\n",
      "---문서 관련성: 있음---\n",
      "--- 평가된 문서 분석 ---\n",
      "--- 결정: 답변 생성 (-> generate)---\n",
      "--- 답변 생성 ---\n",
      "--- 환각 여부 확인 ---\n",
      "--- 결정: 환각이 없음 (답변이 컨텍스트에 근거함) ---\n",
      "---질문-답변 관련성 확인---\n",
      "--- 결정: 생성된 답변이 질문을 잘 다룸 (-> END) ---\n"
     ]
    }
   ],
   "source": [
    "inputs = {\"question\": \"이 식당의 대표 메뉴는 무엇인가요? 주재료는 무엇인가요?\"}\n",
    "final_output = adaptive_self_rag.invoke(inputs)"
   ]
  },
  {
   "cell_type": "code",
   "execution_count": 55,
   "id": "7bf1e8aa",
   "metadata": {},
   "outputs": [
    {
     "name": "stdout",
     "output_type": "stream",
     "text": [
      "이 식당의 대표 메뉴는 \"시그니처 스테이크\"입니다. 주재료는 \"최상급 한우 등심, 로즈메리 감자, 그릴드 아스파라거스\"입니다.\n"
     ]
    }
   ],
   "source": [
    "# 최종 답변 \n",
    "print(final_output[\"generation\"])"
   ]
  },
  {
   "cell_type": "code",
   "execution_count": 56,
   "id": "acf522b9",
   "metadata": {},
   "outputs": [
    {
     "name": "stdout",
     "output_type": "stream",
     "text": [
      "---ROUTE QUESTION---\n",
      "--- 문서 관련성 평가 ---\n",
      "---문서 관련성: 있음---\n",
      "---문서 관련성: 있음---\n",
      "---문서 관련성: 없음---\n",
      "---문서 관련성: 없음---\n",
      "--- 평가된 문서 분석 ---\n",
      "--- 결정: 답변 생성 (-> generate)---\n",
      "\"Node 'search_data':\"\n",
      "(\"Value: {'question': '스테이크 메뉴가 있나요? 어울리는 와인이 있을까요?', 'documents': \"\n",
      " \"[Document(metadata={'menu_name': '시그니처 스테이크', 'menu_number': 1, 'source': \"\n",
      " \"'./data/restaurant_menu.txt'}, page_content='1. 시그니처 스테이크\\\\n   • 가격: \"\n",
      " '₩35,000\\\\n   • 주요 식재료: 최상급 한우 등심, 로즈메리 감자, 그릴드 아스파라거스\\\\n   • 설명: 셰프의 특제 시그니처 '\n",
      " '메뉴로, 21일간 건조 숙성한 최상급 한우 등심을 사용합니다. 미디엄 레어로 조리하여 육즙을 최대한 보존하며, 로즈메리 향의 감자와 '\n",
      " \"아삭한 그릴드 아스파라거스가 곁들여집니다. 레드와인 소스와 함께 제공되어 풍부한 맛을 더합니다.'), \"\n",
      " \"Document(metadata={'menu_name': '안심 스테이크 샐러드', 'menu_number': 8, 'source': \"\n",
      " \"'./data/restaurant_menu.txt'}, page_content='8. 안심 스테이크 샐러드\\\\n   • 가격: \"\n",
      " '₩26,000\\\\n   • 주요 식재료: 소고기 안심, 루꼴라, 체리 토마토, 발사믹 글레이즈\\\\n   • 설명: 부드러운 안심 '\n",
      " '스테이크를 얇게 슬라이스하여 신선한 루꼴라 위에 올린 메인 요리 샐러드입니다. 체리 토마토와 파마산 치즈 플레이크로 풍미를 더하고, '\n",
      " \"발사믹 글레이즈로 마무리하여 고기의 풍미를 한층 끌어올렸습니다.'), Document(metadata={'menu_name': '풀리니 \"\n",
      " \"몽라쉐 1er Cru 2018', 'menu_number': 7, 'source': \"\n",
      " \"'./data/restaurant_wine.txt'}, page_content='7. 풀리니 몽라쉐 1er Cru 2018\\\\n   • \"\n",
      " '가격: ₩320,000\\\\n   • 주요 품종: 샤르도네\\\\n   • 설명: 부르고뉴 최고의 화이트 와인 중 하나로 꼽힙니다. 레몬, '\n",
      " '사과, 배의 과실향과 함께 헤이즐넛, 버터, 바닐라의 풍부한 향이 어우러집니다. 미네랄리티가 돋보이며, 크리미한 텍스처와 긴 여운이 '\n",
      " \"특징입니다. 해산물, 닭고기, 크림 소스 파스타와 좋은 페어링을 이룹니다.'), Document(metadata={'menu_name': \"\n",
      " \"'바롤로 몬프리바토 2017', 'menu_number': 6, 'source': './data/restaurant_wine.txt'}, \"\n",
      " \"page_content='6. 바롤로 몬프리바토 2017\\\\n   • 가격: ₩280,000\\\\n   • 주요 품종: 네비올로\\\\n   \"\n",
      " '• 설명: 이탈리아 피에몬테 지역의 프리미엄 레드 와인입니다. 붉은 체리, 장미, 타르의 복잡한 아로마가 특징이며, 가죽, 담배, '\n",
      " '스파이스 노트가 더해집니다. 강렬한 타닌과 높은 산도가 인상적이며, 긴 숙성 잠재력을 가집니다. 숙성된 치즈나 트러플 요리와 잘 '\n",
      " \"어울립니다.')], 'filtered_documents': [Document(metadata={'menu_name': '시그니처 \"\n",
      " \"스테이크', 'menu_number': 1, 'source': './data/restaurant_menu.txt'}, \"\n",
      " \"page_content='1. 시그니처 스테이크\\\\n   • 가격: ₩35,000\\\\n   • 주요 식재료: 최상급 한우 등심, 로즈메리 \"\n",
      " '감자, 그릴드 아스파라거스\\\\n   • 설명: 셰프의 특제 시그니처 메뉴로, 21일간 건조 숙성한 최상급 한우 등심을 사용합니다. 미디엄 '\n",
      " '레어로 조리하여 육즙을 최대한 보존하며, 로즈메리 향의 감자와 아삭한 그릴드 아스파라거스가 곁들여집니다. 레드와인 소스와 함께 제공되어 '\n",
      " \"풍부한 맛을 더합니다.'), Document(metadata={'menu_name': '안심 스테이크 샐러드', \"\n",
      " \"'menu_number': 8, 'source': './data/restaurant_menu.txt'}, page_content='8. \"\n",
      " '안심 스테이크 샐러드\\\\n   • 가격: ₩26,000\\\\n   • 주요 식재료: 소고기 안심, 루꼴라, 체리 토마토, 발사믹 '\n",
      " '글레이즈\\\\n   • 설명: 부드러운 안심 스테이크를 얇게 슬라이스하여 신선한 루꼴라 위에 올린 메인 요리 샐러드입니다. 체리 토마토와 '\n",
      " \"파마산 치즈 플레이크로 풍미를 더하고, 발사믹 글레이즈로 마무리하여 고기의 풍미를 한층 끌어올렸습니다.')]}\")\n",
      "\n",
      "----------------------------------------------------------\n",
      "\n",
      "--- 답변 생성 ---\n",
      "--- 환각 여부 확인 ---\n",
      "--- 결정: 생성된 답변이 문서에 근거하지 않음, 재시도 필요 (-> generate) ---\n",
      "\"Node 'generate':\"\n",
      "('Value: {\\'generation\\': \\'네, 스테이크 메뉴가 있습니다. \"시그니처 스테이크\"와 \"안심 스테이크 샐러드\"가 '\n",
      " '있습니다. 어울리는 와인으로는 \"풀리니 몽라쉐 1er Cru 2018\"와 \"바롤로 몬프리바토 2017\"이 있습니다.\\', '\n",
      " \"'num_generations': 1}\")\n",
      "\n",
      "----------------------------------------------------------\n",
      "\n",
      "--- 답변 생성 ---\n",
      "--- 환각 여부 확인 ---\n",
      "--- 결정: 생성된 답변이 문서에 근거하지 않음, 재시도 필요 (-> generate) ---\n",
      "\"Node 'generate':\"\n",
      "('Value: {\\'generation\\': \\'네, 스테이크 메뉴가 있습니다. \"시그니처 스테이크\"와 \"안심 스테이크 샐러드\"가 '\n",
      " '있습니다. 어울리는 와인으로는 \"풀리니 몽라쉐 1er Cru 2018\"와 \"바롤로 몬프리바토 2017\"이 있습니다.\\', '\n",
      " \"'num_generations': 2}\")\n",
      "\n",
      "----------------------------------------------------------\n",
      "\n",
      "--- 답변 생성 ---\n",
      "--- 결정: 생성 횟수 초과, 종료 (-> END)---\n",
      "\"Node 'generate':\"\n",
      "('Value: {\\'generation\\': \\'네, 스테이크 메뉴가 있습니다. \"시그니처 스테이크\"와 \"안심 스테이크 샐러드\"가 '\n",
      " '있습니다. 어울리는 와인으로는 \"풀리니 몽라쉐 1er Cru 2018\"와 \"바롤로 몬프리바토 2017\"이 있습니다.\\', '\n",
      " \"'num_generations': 3}\")\n",
      "\n",
      "----------------------------------------------------------\n",
      "\n"
     ]
    }
   ],
   "source": [
    "inputs = {\"question\": \"스테이크 메뉴가 있나요? 어울리는 와인이 있을까요?\"}\n",
    "for output in adaptive_self_rag.stream(inputs):\n",
    "    for key, value in output.items():\n",
    "        # 노드 출력\n",
    "        pprint(f\"Node '{key}':\")\n",
    "        pprint(f\"Value: {value}\", indent=2, width=80, depth=None)\n",
    "    print(\"\\n----------------------------------------------------------\\n\")"
   ]
  },
  {
   "cell_type": "code",
   "execution_count": 57,
   "id": "88eea9f3",
   "metadata": {},
   "outputs": [
    {
     "name": "stdout",
     "output_type": "stream",
     "text": [
      "네, 스테이크 메뉴가 있습니다. \"시그니처 스테이크\"와 \"안심 스테이크 샐러드\"가 있습니다. 어울리는 와인으로는 \"풀리니 몽라쉐 1er Cru 2018\"와 \"바롤로 몬프리바토 2017\"이 있습니다.\n"
     ]
    }
   ],
   "source": [
    "# 최종 답변\n",
    "print(value[\"generation\"])"
   ]
  },
  {
   "cell_type": "markdown",
   "id": "d2fd1313",
   "metadata": {},
   "source": [
    "## 5. Corrective RAG (CRAG) 구현\n",
    "- CRAG (Corrective Retrieval-Augmented Generation) \n",
    "- 논문: https://arxiv.org/pdf/2401.15884\n",
    "\n",
    "- 주요 과정: 검색 -> 평가 -> 지식 정제 또는 웹 검색 -> 답변 생성\n",
    "\n",
    "   1. 문서 관련성 평가 (`grade_documents`):\n",
    "      - 각 문서의 관련성을 평가\n",
    "      - 기준을 통과하는 문서만을 유지\n",
    "\n",
    "   1. 지식 정제 (`refine_knowledge`):\n",
    "      - 문서를 \"지식 조각\"으로 분할하고 각각의 관련성을 평가\n",
    "      - 관련성 높은(0.5 초과) 지식 조각만 유지\n",
    "\n",
    "   1. 웹 검색 (`web_search`):\n",
    "      - 문서가 충분한 정보를 담지 못한 경우 외부 지식을 활용\n",
    "      - 웹 검색 결과를 기존 문서에 추가 \n",
    "\n",
    "   1. 답변 생성 (`generate_answer`):\n",
    "      - 정제된 지식 조각을 사용하여 답변을 생성\n",
    "      - 관련 정보가 없을 경우 적절한 메시지를 반환\n",
    "\n"
   ]
  },
  {
   "cell_type": "markdown",
   "id": "285306dd",
   "metadata": {},
   "source": [
    "### 5-1. LLM 체인 추가"
   ]
  },
  {
   "cell_type": "markdown",
   "id": "bece863e",
   "metadata": {},
   "source": [
    "`(1) Knowledge Refiner`"
   ]
  },
  {
   "cell_type": "code",
   "id": "dc4a2afd",
   "metadata": {
    "ExecuteTime": {
     "end_time": "2025-04-09T07:24:58.581484Z",
     "start_time": "2025-04-09T07:24:49.692183Z"
    }
   },
   "source": [
    "# 지식 정제를 위한 클래스\n",
    "class RefinedKnowledge(BaseModel):\n",
    "    \"\"\"\n",
    "    Represents a refined piece of knowledge extracted from a document.\n",
    "    \"\"\"\n",
    "\n",
    "    knowledge_strip: str = Field(description=\"A refined piece of knowledge extracted from a document\")\n",
    "    binary_score: str = Field(\n",
    "        description=\"Documents are relevant to the question, 'yes' or 'no'\"\n",
    "    )\n",
    "\n",
    "# LLM 모델 초기화 및 구조화된 출력 설정\n",
    "# llm = ChatOpenAI(model=\"gpt-4o\", temperature=0)\n",
    "# claude 모델 로드 \n",
    "llm = ChatAnthropic(\n",
    "    model=\"claude-3-5-sonnet-20241022\",\n",
    "    # model=\"claude-3-7-sonnet-20250219\",\n",
    "    temperature=0,\n",
    "    # max_tokens=200, \n",
    "    api_key=os.getenv('ANTHROPIC_API_KEY'),\n",
    ")\n",
    "structured_llm_refiner = llm.with_structured_output(RefinedKnowledge)\n",
    "\n",
    "# 지식 정제를 위한 프롬프트\n",
    "system_prompt = \"\"\"\n",
    "    You are an expert in knowledge refinement. Your task is to extract key information from the given document related to the provided question and evaluate its relevance.\n",
    "\n",
    "    [Instructions]\n",
    "    1. 질문과 문서를 주의 깊게 읽습니다.\n",
    "    2. 질문에 답하는 데 관련된 문서 내의 주요 정보를 식별합니다.\n",
    "    3. 각 주요 정보에 대해:\n",
    "        a. 간결하게 추출하고 요약합니다 (정보당 1-2문장을 목표로 합니다).\n",
    "        b. 질문에 대한 관련성을 'yes' (관련 있음) 또는 'no' (관련 없음)로 평가합니다.\n",
    "    4. 각 정보를 다음 형식으로 새 줄에 제시합니다:\n",
    "        [추출된 정보] (yes/no)\n",
    "\n",
    "    [Example Output]\n",
    "    AI 시스템은 학습 데이터에 존재하는 편향을 나타낼 수 있습니다. (yes)\n",
    "    의사 결정에 AI를 사용하는 것은 프라이버시 문제를 제기합니다. (yes)\n",
    "    기계 학습 모델은 상당한 컴퓨팅 자원을 필요로 합니다. (no)\n",
    "\n",
    "    [Note]\n",
    "    Focus on extracting factual and objective information. Avoid personal opinions or speculations. Aim to provide 3-5 key pieces of information, but you may include more if the document is particularly rich in relevant content.\n",
    "    \"\"\"\n",
    "\n",
    "# 지식정제를 위한 프롬프트 템플릿 생성\n",
    "refine_prompt = ChatPromptTemplate.from_messages([\n",
    "    (\"system\", system_prompt),\n",
    "    (\"human\", \"[Document]\\n{document}\\n\\n[User question]\\n{question}\"),\n",
    "])\n",
    "\n",
    "# Knowledge Refiner 파이프라인 구성\n",
    "knowledge_refiner = refine_prompt | structured_llm_refiner\n",
    "\n",
    "# 지식 정제 실행\n",
    "retrieved_docs = search_menu.invoke(question)\n",
    "print(f\"검색된 문서 수: {len(retrieved_docs)}\")\n",
    "\n",
    "for test_chunk in retrieved_docs:\n",
    "    print(\"문서:\", test_chunk.page_content)\n",
    "\n",
    "    refined_knowledge = knowledge_refiner.invoke({\"question\": question, \"document\": test_chunk})\n",
    "    print(f\"정제된 지식: {refined_knowledge.knowledge_strip}\")\n",
    "    print(f\"정제된 지식 평가: {refined_knowledge.binary_score}\")\n",
    "    print(\"=====================================\")\n"
   ],
   "outputs": [
    {
     "name": "stdout",
     "output_type": "stream",
     "text": [
      "검색된 문서 수: 2\n",
      "문서: 6. 해산물 파스타\n",
      "   • 가격: ₩24,000\n",
      "   • 주요 식재료: 링귀네 파스타, 새우, 홍합, 오징어, 토마토 소스\n",
      "   • 설명: 알 덴테로 삶은 링귀네 파스타에 신선한 해산물을 듬뿍 올린 메뉴입니다. 토마토 소스의 산미와 해산물의 감칠맛이 조화를 이루며, 마늘과 올리브 오일로 풍미를 더했습니다. 파슬리를 뿌려 향긋한 맛을 더합니다.\n",
      "정제된 지식: 해산물 파스타는 링귀네 면에 새우, 홍합, 오징어 등 신선한 해산물이 듬뿍 들어간 메뉴입니다.\n",
      "정제된 지식 평가: yes\n",
      "=====================================\n",
      "문서: 7. 랍스터 비스크\n",
      "   • 가격: ₩28,000\n",
      "   • 주요 식재료: 랍스터, 생크림, 브랜디, 파프리카\n",
      "   • 설명: 랍스터 껍질과 육수로 오랜 시간 우려낸 진한 비스크 수프입니다. 생크림으로 부드러운 질감을 더하고 브랜디로 깊은 풍미를 살렸습니다. 작은 랍스터 살을 토핑으로 올려 고급스러움을 더했습니다.\n",
      "정제된 지식: 주어진 문서는 랍스터 비스크 수프에 대한 메뉴 설명으로, 파스타 메뉴에 대한 정보는 포함되어 있지 않습니다.\n",
      "정제된 지식 평가: no\n",
      "=====================================\n"
     ]
    }
   ],
   "execution_count": 43
  },
  {
   "cell_type": "markdown",
   "id": "73bb527f",
   "metadata": {},
   "source": [
    "`(2) Retrieval Grader 수정`"
   ]
  },
  {
   "cell_type": "code",
   "execution_count": 59,
   "id": "2c79d5ae",
   "metadata": {},
   "outputs": [
    {
     "name": "stdout",
     "output_type": "stream",
     "text": [
      "검색된 문서 수: 2\n",
      "문서: 7. 랍스터 비스크\n",
      "   • 가격: ₩28,000\n",
      "   • 주요 식재료: 랍스터, 생크림, 브랜디, 파프리카\n",
      "   • 설명: 랍스터 껍질과 육수로 오랜 시간 우려낸 진한 비스크 수프입니다. 생크림으로 부드러운 질감을 더하고 브랜디로 깊은 풍미를 살렸습니다. 작은 랍스터 살을 토핑으로 올려 고급스러움을 더했습니다.\n",
      "문서 관련성: incorrect\n",
      "=====================================\n",
      "문서: 10. 티라미수\n",
      "    • 가격: ₩9,000\n",
      "    • 주요 식재료: 마스카포네 치즈, 에스프레소, 카카오 파우더, 레이디핑거 비스킷\n",
      "    • 설명: 부드러운 마스카포네 치즈 크림과 에스프레소에 적신 레이디핑거 비스킷을 층층이 쌓아 만든 이탈리아 정통 디저트입니다. 고소한 카카오 파우더를 듬뿍 뿌려 풍미를 더했습니다. 커피의 쌉싸름함과 치즈의 부드러움이 조화롭게 어우러집니다.\n",
      "문서 관련성: incorrect\n",
      "=====================================\n"
     ]
    }
   ],
   "source": [
    "from pydantic import BaseModel, Field\n",
    "from typing import Literal\n",
    "from langchain_core.prompts import ChatPromptTemplate\n",
    "from langchain_openai import ChatOpenAI\n",
    "\n",
    "\n",
    "# 문서 관련성 평가 결과를 위한 데이터 모델 정의\n",
    "class MultiGradeDocuments(BaseModel):\n",
    "    \"\"\"Three-class score for relevance check on retrieved documents.\"\"\"\n",
    "\n",
    "    relevance_score: Literal[\"correct\", \"incorrect\", \"ambiguous\"] = Field(\n",
    "        description=\"Document relevance to the question: 'correct', 'incorrect', or 'ambiguous'\"\n",
    "    )\n",
    "\n",
    "# LLM 모델 초기화 및 구조화된 출력 설정\n",
    "llm = ChatOpenAI(model=\"gpt-4o-mini\", temperature=0)\n",
    "structured_llm_grader = llm.with_structured_output(MultiGradeDocuments)\n",
    "\n",
    "# 문서 관련성 평가를 위한 시스템 프롬프트 정의\n",
    "system_prompt = \"\"\"\n",
    "You are an expert evaluator tasked with assessing the relevance of retrieved documents to a user's question. Your role is crucial in enhancing the quality of information retrieval systems.\n",
    "\n",
    "[평가 기준]\n",
    "1. 키워드 관련성: 문서가 질문의 주요 단어나 유사어를 포함하는지 확인\n",
    "2. 의미적 관련성: 문서의 전반적인 주제가 질문의 의도와 일치하는지 평가\n",
    "3. 부분 관련성: 질문의 일부를 다루거나 맥락 정보를 제공하는 문서도 고려\n",
    "4. 답변 가능성: 직접적인 답이 아니더라도 답변 형성에 도움될 정보 포함 여부 평가\n",
    "\n",
    "[점수 체계]\n",
    "- 'Correct': 문서가 명확히 관련 있고, 질문에 답하는 데 필요한 정보를 포함함.\n",
    "- 'Incorrect': 문서가 명확히 무관하거나, 질문에 도움이 되지 않는 정보를 포함함.\n",
    "- 'Ambiguous': 문서의 관련성이 불분명하거나, 일부 관련 정보는 있지만 유용성이 확실하지 않음, 혹은 질문과 약간만 관련 있음.\n",
    "\n",
    "[주의사항]\n",
    "- 단순 단어 매칭이 아닌 질문의 전체 맥락을 고려하세요\n",
    "- 완벽한 답변이 아니어도 유용한 정보가 있다면 관련 있다고 판단하세요\n",
    "\n",
    "Your evaluation plays a critical role in improving the overall performance of the information retrieval system. Strive for balanced and thoughtful assessments.\n",
    "\"\"\"\n",
    "\n",
    "# 채점 프롬프트 템플릿 생성\n",
    "grade_prompt = ChatPromptTemplate.from_messages([\n",
    "    (\"system\", system_prompt),\n",
    "    (\"human\", \"Document: \\n\\n {document} \\n\\n Question: {question}\"),\n",
    "])\n",
    "\n",
    "# Retrieval Grader 파이프라인 구성\n",
    "retrieval_grader_multi = grade_prompt | structured_llm_grader\n",
    "    \n",
    "# 관련성 평가 실행\n",
    "question = \"비건 메뉴가 있나요?\"\n",
    "retrieved_docs = search_menu.invoke(question)\n",
    "print(f\"검색된 문서 수: {len(retrieved_docs)}\")\n",
    "\n",
    "for test_chunk in retrieved_docs:\n",
    "    print(\"문서:\", test_chunk.page_content)\n",
    "\n",
    "    relevance = retrieval_grader_multi.invoke({\"question\": question, \"document\": test_chunk.page_content})\n",
    "    print(f\"문서 관련성: {relevance.relevance_score}\")\n",
    "    print(\"=====================================\")"
   ]
  },
  {
   "cell_type": "markdown",
   "id": "8510ffd8",
   "metadata": {},
   "source": [
    "### 5-2. LangGraph로 그래프 구현"
   ]
  },
  {
   "cell_type": "markdown",
   "id": "107236a3",
   "metadata": {},
   "source": [
    "`(1) 그래프 State 생성`"
   ]
  },
  {
   "cell_type": "code",
   "id": "a05d9e14",
   "metadata": {
    "ExecuteTime": {
     "end_time": "2025-04-09T07:40:43.850050Z",
     "start_time": "2025-04-09T07:40:43.825289Z"
    }
   },
   "source": [
    "# LangGraph MessagesState라는 미리 만들어진 상태를 사용\n",
    "from langgraph.graph import MessagesState\n",
    "from typing import List, Tuple\n",
    "from langchain_core.documents import Document\n",
    "\n",
    "class CorrectiveRagState(MessagesState):\n",
    "    \"\"\"\n",
    "    메시지 기반 그래프의 상태를 나타내는 클래스\n",
    "    \n",
    "    Attributes:\n",
    "        messages: 대화 히스토리 (기본 제공, 설정 불필요)\n",
    "        question: 사용자의 질문\n",
    "        generation: AI 모델의 답변\n",
    "        retrieved_documents: 검색된 문서 리스트 (문서, 점수)\n",
    "        knowledge_strips: 지식 보강한 결과 리스트 (문서, 점수)\n",
    "        num_generations: 생성 횟수 (무한 루프 방지에 활용)\n",
    "    \"\"\"\n",
    "    question: str\n",
    "    generation: str\n",
    "    retrieved_documents: List[Tuple[Document, str]] \n",
    "    knowledge_strips: List[Tuple[Document, str]] \n",
    "    num_generations: int "
   ],
   "outputs": [],
   "execution_count": 44
  },
  {
   "cell_type": "markdown",
   "id": "673cf479",
   "metadata": {},
   "source": [
    "`(2) Node 구성`"
   ]
  },
  {
   "cell_type": "code",
   "id": "1dc40be7",
   "metadata": {
    "ExecuteTime": {
     "end_time": "2025-04-09T07:41:51.762664Z",
     "start_time": "2025-04-09T07:41:51.674056Z"
    }
   },
   "source": [
    "from langchain_core.documents import Document\n",
    "from langchain_core.messages import HumanMessage, AIMessage\n",
    "\n",
    "def retrieve_crag(state: CorrectiveRagState):\n",
    "    \"\"\"문서를 검색하는 함수\"\"\"\n",
    "    print(\"--- 문서 검색 ---\")\n",
    "    question = state[\"question\"]\n",
    "    \n",
    "    # 문서 검색 로직\n",
    "    retrieved_documents = search_menu.invoke(question)\n",
    "    retrieved_documents = [(doc, \"ambiguous\") for doc in retrieved_documents]\n",
    "\n",
    "    return {\"retrieved_documents\": retrieved_documents}\n",
    "\n",
    "def grade_documents_crag(state: CorrectiveRagState):\n",
    "    \"\"\"검색된 문서의 관련성을 평가하는 함수\"\"\"\n",
    "    print(\"--- 문서 관련성 평가 ---\")\n",
    "    question = state[\"question\"]\n",
    "    retrieved_documents = state.get(\"retrieved_documents\", [])\n",
    "    knowledge_strips = state.get(\"knowledge_strips\", [])\n",
    "    \n",
    "    scored_docs = []\n",
    "    for doc, _ in retrieved_documents:\n",
    "        score = retrieval_grader_multi.invoke({\"question\": question, \"document\": doc.page_content})\n",
    "        grade = score.relevance_score.lower()\n",
    "        if grade == \"correct\":\n",
    "            print(\"---문서 관련성: 있음---\")\n",
    "            scored_docs.append((doc, \"correct\"))\n",
    "            knowledge_strips.append((doc, \"correct\"))\n",
    "        elif grade == \"incorrect\":\n",
    "            print(\"---문서 관련성: 없음---\")\n",
    "            scored_docs.append((doc, \"incorrect\"))\n",
    "        else:\n",
    "            print(\"---문서 관련성: 모호함---\")\n",
    "            scored_docs.append((doc, \"ambiguous\"))\n",
    "\n",
    "    return {\"retrieved_documents\": scored_docs, \"knowledge_strips\": knowledge_strips}\n",
    "\n",
    "def refine_knowledge_crag(state: CorrectiveRagState):\n",
    "    \"\"\"지식을 정제하는 함수\"\"\"\n",
    "    print(\"--- 지식 정제 ---\")\n",
    "    question = state[\"question\"]\n",
    "    knowledge_strips = state.get(\"knowledge_strips\", [])\n",
    "    \n",
    "    refined_docs = []\n",
    "    for doc, score in knowledge_strips:\n",
    "        if score == \"incorrect\":\n",
    "            continue\n",
    "\n",
    "        refined_knowledge = knowledge_refiner.invoke({\"question\": question, \"document\": doc.page_content})\n",
    "        knowledge = refined_knowledge.knowledge_strip\n",
    "        grade = refined_knowledge.binary_score\n",
    "        if grade == \"yes\":\n",
    "            print(\"---정제된 지식: 추가---\")\n",
    "            refined_docs.append((Document(page_content=knowledge), \"correct\"))\n",
    "    \n",
    "    return {\"knowledge_strips\": refined_docs}\n",
    "\n",
    "def web_search_crag(state: CorrectiveRagState):\n",
    "    \"\"\"웹 검색을 수행하는 함수\"\"\"\n",
    "    print(\"--- 웹 검색 ---\")\n",
    "    question = state[\"question\"]\n",
    "    \n",
    "    search_results = search_web.invoke(question)\n",
    "\n",
    "    scored_docs = []\n",
    "    for result in search_results:\n",
    "        score = retrieval_grader_multi.invoke({\"question\": question, \"document\": result})\n",
    "        grade = score.relevance_score.lower()\n",
    "        if grade == \"correct\":\n",
    "            print(\"---웹 검색 문서 관련성: 있음---\")\n",
    "            scored_docs.append((result, \"correct\"))\n",
    "        else:\n",
    "            print(\"---웹 검색 문서 관련성: 없음---\")\n",
    "\n",
    "    return {\"knowledge_strips\": scored_docs}\n",
    "\n",
    "def generate_crag(state: CorrectiveRagState):\n",
    "    \"\"\"답변을 생성하는 함수\"\"\"\n",
    "    print(\"--- 답변 생성 ---\")\n",
    "    question = state[\"question\"]\n",
    "    knowledge_strips = state.get(\"knowledge_strips\", [])\n",
    "    \n",
    "    doc_texts = [doc for doc, _ in knowledge_strips]\n",
    "    generation = generator_rag_answer(question, docs=doc_texts)\n",
    "\n",
    "    return {\n",
    "        \"generation\": generation, \n",
    "        \"messages\": [AIMessage(content=generation)]            # 기존 메시지에 추가 \n",
    "    }\n",
    "\n",
    "def transform_query_crag(state: CorrectiveRagState):\n",
    "    \"\"\"질문을 개선하는 함수\"\"\"\n",
    "    print(\"--- 질문 개선 ---\")\n",
    "    question = state[\"question\"]\n",
    "    num_generations = state.get(\"num_generations\", 0)\n",
    "    num_generations += 1\n",
    "    \n",
    "    rewritten_question = rewrite_question(question)\n",
    "    \n",
    "    return {\n",
    "        \"question\": rewritten_question,\n",
    "        \"num_generations\": num_generations,\n",
    "        \"messages\": [HumanMessage(content=rewritten_question)]  # 기존 메시지에 추가 \n",
    "    }"
   ],
   "outputs": [],
   "execution_count": 45
  },
  {
   "cell_type": "markdown",
   "id": "57943fd4",
   "metadata": {},
   "source": [
    "`(3) Edge 구성`"
   ]
  },
  {
   "cell_type": "code",
   "id": "c415299c",
   "metadata": {
    "ExecuteTime": {
     "end_time": "2025-04-09T07:48:07.596210Z",
     "start_time": "2025-04-09T07:48:07.569664Z"
    }
   },
   "source": [
    "def decide_to_generate_crag(state: CorrectiveRagState):\n",
    "    \"\"\"답변 생성 여부를 결정하는 함수\"\"\"\n",
    "    print(\"--- 평가된 문서 분석 ---\")\n",
    "    knowledge_strips = state.get(\"knowledge_strips\", None)\n",
    "    \n",
    "    if not knowledge_strips:\n",
    "        print(\"--- 결정: 모든 문서가 질문과 관련이 없음, 질문 개선 필요 (-> transform_query)---\")\n",
    "        return \"transform_query\"\n",
    "    else:\n",
    "        print(\"--- 결정: 답변 생성 (-> generate)---\")\n",
    "        return \"generate\""
   ],
   "outputs": [],
   "execution_count": 46
  },
  {
   "cell_type": "markdown",
   "id": "bae76a5e",
   "metadata": {},
   "source": [
    "`(4) 그래프 연결`"
   ]
  },
  {
   "cell_type": "code",
   "id": "de6ec776",
   "metadata": {
    "ExecuteTime": {
     "end_time": "2025-04-09T07:48:19.871862Z",
     "start_time": "2025-04-09T07:48:09.332915Z"
    }
   },
   "source": [
    "from langgraph.graph import StateGraph, START, END\n",
    "from IPython.display import Image, display\n",
    "\n",
    "\n",
    "# 워크플로우 그래프 초기화\n",
    "builder = StateGraph(CorrectiveRagState)\n",
    "\n",
    "# 노드 정의\n",
    "builder.add_node(\"retrieve\", retrieve_crag)                  # 문서 검색 \n",
    "builder.add_node(\"grade_documents\", grade_documents_crag)    # 문서 평가\n",
    "builder.add_node(\"refine_knowledge\", refine_knowledge_crag)  # 지식 정제\n",
    "builder.add_node(\"web_search\", web_search_crag)              # 웹 검색\n",
    "builder.add_node(\"generate\", generate_crag)                  # 답변 생성\n",
    "builder.add_node(\"transform_query\", transform_query_crag)    # 질문 개선\n",
    "\n",
    "\n",
    "# 경로 정의\n",
    "builder.add_edge(START, \"retrieve\")\n",
    "builder.add_edge(\"retrieve\", \"grade_documents\")\n",
    "builder.add_edge(\"grade_documents\", \"refine_knowledge\")\n",
    "\n",
    "# 조건부 엣지 추가: 문서 평가 후 결정\n",
    "builder.add_conditional_edges(\n",
    "    \"refine_knowledge\",\n",
    "    decide_to_generate_crag,\n",
    "    {\n",
    "        \"transform_query\": \"transform_query\",\n",
    "        \"generate\": \"generate\",\n",
    "    },\n",
    ")\n",
    "\n",
    "# 추가 경로 \n",
    "builder.add_edge(\"transform_query\", \"web_search\")\n",
    "builder.add_edge(\"web_search\", \"generate\")\n",
    "builder.add_edge(\"generate\", END)\n",
    "\n",
    "\n",
    "# 그래프 컴파일\n",
    "corrective_rag = builder.compile()\n",
    "\n",
    "# 그래프 시각화\n",
    "display(Image(corrective_rag.get_graph().draw_mermaid_png()))"
   ],
   "outputs": [
    {
     "ename": "ReadTimeout",
     "evalue": "HTTPSConnectionPool(host='mermaid.ink', port=443): Read timed out. (read timeout=10)",
     "output_type": "error",
     "traceback": [
      "\u001B[1;31m---------------------------------------------------------------------------\u001B[0m",
      "\u001B[1;31mTimeoutError\u001B[0m                              Traceback (most recent call last)",
      "File \u001B[1;32m~\\Anaconda3\\envs\\langgraph_agent\\Lib\\site-packages\\urllib3\\connectionpool.py:534\u001B[0m, in \u001B[0;36mHTTPConnectionPool._make_request\u001B[1;34m(self, conn, method, url, body, headers, retries, timeout, chunked, response_conn, preload_content, decode_content, enforce_content_length)\u001B[0m\n\u001B[0;32m    533\u001B[0m \u001B[38;5;28;01mtry\u001B[39;00m:\n\u001B[1;32m--> 534\u001B[0m     response \u001B[38;5;241m=\u001B[39m conn\u001B[38;5;241m.\u001B[39mgetresponse()\n\u001B[0;32m    535\u001B[0m \u001B[38;5;28;01mexcept\u001B[39;00m (BaseSSLError, \u001B[38;5;167;01mOSError\u001B[39;00m) \u001B[38;5;28;01mas\u001B[39;00m e:\n",
      "File \u001B[1;32m~\\Anaconda3\\envs\\langgraph_agent\\Lib\\site-packages\\urllib3\\connection.py:516\u001B[0m, in \u001B[0;36mHTTPConnection.getresponse\u001B[1;34m(self)\u001B[0m\n\u001B[0;32m    515\u001B[0m \u001B[38;5;66;03m# Get the response from http.client.HTTPConnection\u001B[39;00m\n\u001B[1;32m--> 516\u001B[0m httplib_response \u001B[38;5;241m=\u001B[39m \u001B[38;5;28msuper\u001B[39m()\u001B[38;5;241m.\u001B[39mgetresponse()\n\u001B[0;32m    518\u001B[0m \u001B[38;5;28;01mtry\u001B[39;00m:\n",
      "File \u001B[1;32m~\\Anaconda3\\envs\\langgraph_agent\\Lib\\http\\client.py:1395\u001B[0m, in \u001B[0;36mHTTPConnection.getresponse\u001B[1;34m(self)\u001B[0m\n\u001B[0;32m   1394\u001B[0m \u001B[38;5;28;01mtry\u001B[39;00m:\n\u001B[1;32m-> 1395\u001B[0m     response\u001B[38;5;241m.\u001B[39mbegin()\n\u001B[0;32m   1396\u001B[0m \u001B[38;5;28;01mexcept\u001B[39;00m \u001B[38;5;167;01mConnectionError\u001B[39;00m:\n",
      "File \u001B[1;32m~\\Anaconda3\\envs\\langgraph_agent\\Lib\\http\\client.py:325\u001B[0m, in \u001B[0;36mHTTPResponse.begin\u001B[1;34m(self)\u001B[0m\n\u001B[0;32m    324\u001B[0m \u001B[38;5;28;01mwhile\u001B[39;00m \u001B[38;5;28;01mTrue\u001B[39;00m:\n\u001B[1;32m--> 325\u001B[0m     version, status, reason \u001B[38;5;241m=\u001B[39m \u001B[38;5;28mself\u001B[39m\u001B[38;5;241m.\u001B[39m_read_status()\n\u001B[0;32m    326\u001B[0m     \u001B[38;5;28;01mif\u001B[39;00m status \u001B[38;5;241m!=\u001B[39m CONTINUE:\n",
      "File \u001B[1;32m~\\Anaconda3\\envs\\langgraph_agent\\Lib\\http\\client.py:286\u001B[0m, in \u001B[0;36mHTTPResponse._read_status\u001B[1;34m(self)\u001B[0m\n\u001B[0;32m    285\u001B[0m \u001B[38;5;28;01mdef\u001B[39;00m \u001B[38;5;21m_read_status\u001B[39m(\u001B[38;5;28mself\u001B[39m):\n\u001B[1;32m--> 286\u001B[0m     line \u001B[38;5;241m=\u001B[39m \u001B[38;5;28mstr\u001B[39m(\u001B[38;5;28mself\u001B[39m\u001B[38;5;241m.\u001B[39mfp\u001B[38;5;241m.\u001B[39mreadline(_MAXLINE \u001B[38;5;241m+\u001B[39m \u001B[38;5;241m1\u001B[39m), \u001B[38;5;124m\"\u001B[39m\u001B[38;5;124miso-8859-1\u001B[39m\u001B[38;5;124m\"\u001B[39m)\n\u001B[0;32m    287\u001B[0m     \u001B[38;5;28;01mif\u001B[39;00m \u001B[38;5;28mlen\u001B[39m(line) \u001B[38;5;241m>\u001B[39m _MAXLINE:\n",
      "File \u001B[1;32m~\\Anaconda3\\envs\\langgraph_agent\\Lib\\socket.py:718\u001B[0m, in \u001B[0;36mSocketIO.readinto\u001B[1;34m(self, b)\u001B[0m\n\u001B[0;32m    717\u001B[0m \u001B[38;5;28;01mtry\u001B[39;00m:\n\u001B[1;32m--> 718\u001B[0m     \u001B[38;5;28;01mreturn\u001B[39;00m \u001B[38;5;28mself\u001B[39m\u001B[38;5;241m.\u001B[39m_sock\u001B[38;5;241m.\u001B[39mrecv_into(b)\n\u001B[0;32m    719\u001B[0m \u001B[38;5;28;01mexcept\u001B[39;00m timeout:\n",
      "File \u001B[1;32m~\\Anaconda3\\envs\\langgraph_agent\\Lib\\ssl.py:1314\u001B[0m, in \u001B[0;36mSSLSocket.recv_into\u001B[1;34m(self, buffer, nbytes, flags)\u001B[0m\n\u001B[0;32m   1311\u001B[0m         \u001B[38;5;28;01mraise\u001B[39;00m \u001B[38;5;167;01mValueError\u001B[39;00m(\n\u001B[0;32m   1312\u001B[0m           \u001B[38;5;124m\"\u001B[39m\u001B[38;5;124mnon-zero flags not allowed in calls to recv_into() on \u001B[39m\u001B[38;5;132;01m%s\u001B[39;00m\u001B[38;5;124m\"\u001B[39m \u001B[38;5;241m%\u001B[39m\n\u001B[0;32m   1313\u001B[0m           \u001B[38;5;28mself\u001B[39m\u001B[38;5;241m.\u001B[39m\u001B[38;5;18m__class__\u001B[39m)\n\u001B[1;32m-> 1314\u001B[0m     \u001B[38;5;28;01mreturn\u001B[39;00m \u001B[38;5;28mself\u001B[39m\u001B[38;5;241m.\u001B[39mread(nbytes, buffer)\n\u001B[0;32m   1315\u001B[0m \u001B[38;5;28;01melse\u001B[39;00m:\n",
      "File \u001B[1;32m~\\Anaconda3\\envs\\langgraph_agent\\Lib\\ssl.py:1166\u001B[0m, in \u001B[0;36mSSLSocket.read\u001B[1;34m(self, len, buffer)\u001B[0m\n\u001B[0;32m   1165\u001B[0m \u001B[38;5;28;01mif\u001B[39;00m buffer \u001B[38;5;129;01mis\u001B[39;00m \u001B[38;5;129;01mnot\u001B[39;00m \u001B[38;5;28;01mNone\u001B[39;00m:\n\u001B[1;32m-> 1166\u001B[0m     \u001B[38;5;28;01mreturn\u001B[39;00m \u001B[38;5;28mself\u001B[39m\u001B[38;5;241m.\u001B[39m_sslobj\u001B[38;5;241m.\u001B[39mread(\u001B[38;5;28mlen\u001B[39m, buffer)\n\u001B[0;32m   1167\u001B[0m \u001B[38;5;28;01melse\u001B[39;00m:\n",
      "\u001B[1;31mTimeoutError\u001B[0m: The read operation timed out",
      "\nThe above exception was the direct cause of the following exception:\n",
      "\u001B[1;31mReadTimeoutError\u001B[0m                          Traceback (most recent call last)",
      "File \u001B[1;32m~\\Anaconda3\\envs\\langgraph_agent\\Lib\\site-packages\\requests\\adapters.py:667\u001B[0m, in \u001B[0;36mHTTPAdapter.send\u001B[1;34m(self, request, stream, timeout, verify, cert, proxies)\u001B[0m\n\u001B[0;32m    666\u001B[0m \u001B[38;5;28;01mtry\u001B[39;00m:\n\u001B[1;32m--> 667\u001B[0m     resp \u001B[38;5;241m=\u001B[39m conn\u001B[38;5;241m.\u001B[39murlopen(\n\u001B[0;32m    668\u001B[0m         method\u001B[38;5;241m=\u001B[39mrequest\u001B[38;5;241m.\u001B[39mmethod,\n\u001B[0;32m    669\u001B[0m         url\u001B[38;5;241m=\u001B[39murl,\n\u001B[0;32m    670\u001B[0m         body\u001B[38;5;241m=\u001B[39mrequest\u001B[38;5;241m.\u001B[39mbody,\n\u001B[0;32m    671\u001B[0m         headers\u001B[38;5;241m=\u001B[39mrequest\u001B[38;5;241m.\u001B[39mheaders,\n\u001B[0;32m    672\u001B[0m         redirect\u001B[38;5;241m=\u001B[39m\u001B[38;5;28;01mFalse\u001B[39;00m,\n\u001B[0;32m    673\u001B[0m         assert_same_host\u001B[38;5;241m=\u001B[39m\u001B[38;5;28;01mFalse\u001B[39;00m,\n\u001B[0;32m    674\u001B[0m         preload_content\u001B[38;5;241m=\u001B[39m\u001B[38;5;28;01mFalse\u001B[39;00m,\n\u001B[0;32m    675\u001B[0m         decode_content\u001B[38;5;241m=\u001B[39m\u001B[38;5;28;01mFalse\u001B[39;00m,\n\u001B[0;32m    676\u001B[0m         retries\u001B[38;5;241m=\u001B[39m\u001B[38;5;28mself\u001B[39m\u001B[38;5;241m.\u001B[39mmax_retries,\n\u001B[0;32m    677\u001B[0m         timeout\u001B[38;5;241m=\u001B[39mtimeout,\n\u001B[0;32m    678\u001B[0m         chunked\u001B[38;5;241m=\u001B[39mchunked,\n\u001B[0;32m    679\u001B[0m     )\n\u001B[0;32m    681\u001B[0m \u001B[38;5;28;01mexcept\u001B[39;00m (ProtocolError, \u001B[38;5;167;01mOSError\u001B[39;00m) \u001B[38;5;28;01mas\u001B[39;00m err:\n",
      "File \u001B[1;32m~\\Anaconda3\\envs\\langgraph_agent\\Lib\\site-packages\\urllib3\\connectionpool.py:841\u001B[0m, in \u001B[0;36mHTTPConnectionPool.urlopen\u001B[1;34m(self, method, url, body, headers, retries, redirect, assert_same_host, timeout, pool_timeout, release_conn, chunked, body_pos, preload_content, decode_content, **response_kw)\u001B[0m\n\u001B[0;32m    839\u001B[0m     new_e \u001B[38;5;241m=\u001B[39m ProtocolError(\u001B[38;5;124m\"\u001B[39m\u001B[38;5;124mConnection aborted.\u001B[39m\u001B[38;5;124m\"\u001B[39m, new_e)\n\u001B[1;32m--> 841\u001B[0m retries \u001B[38;5;241m=\u001B[39m retries\u001B[38;5;241m.\u001B[39mincrement(\n\u001B[0;32m    842\u001B[0m     method, url, error\u001B[38;5;241m=\u001B[39mnew_e, _pool\u001B[38;5;241m=\u001B[39m\u001B[38;5;28mself\u001B[39m, _stacktrace\u001B[38;5;241m=\u001B[39msys\u001B[38;5;241m.\u001B[39mexc_info()[\u001B[38;5;241m2\u001B[39m]\n\u001B[0;32m    843\u001B[0m )\n\u001B[0;32m    844\u001B[0m retries\u001B[38;5;241m.\u001B[39msleep()\n",
      "File \u001B[1;32m~\\Anaconda3\\envs\\langgraph_agent\\Lib\\site-packages\\urllib3\\util\\retry.py:474\u001B[0m, in \u001B[0;36mRetry.increment\u001B[1;34m(self, method, url, response, error, _pool, _stacktrace)\u001B[0m\n\u001B[0;32m    473\u001B[0m \u001B[38;5;28;01mif\u001B[39;00m read \u001B[38;5;129;01mis\u001B[39;00m \u001B[38;5;28;01mFalse\u001B[39;00m \u001B[38;5;129;01mor\u001B[39;00m method \u001B[38;5;129;01mis\u001B[39;00m \u001B[38;5;28;01mNone\u001B[39;00m \u001B[38;5;129;01mor\u001B[39;00m \u001B[38;5;129;01mnot\u001B[39;00m \u001B[38;5;28mself\u001B[39m\u001B[38;5;241m.\u001B[39m_is_method_retryable(method):\n\u001B[1;32m--> 474\u001B[0m     \u001B[38;5;28;01mraise\u001B[39;00m reraise(\u001B[38;5;28mtype\u001B[39m(error), error, _stacktrace)\n\u001B[0;32m    475\u001B[0m \u001B[38;5;28;01melif\u001B[39;00m read \u001B[38;5;129;01mis\u001B[39;00m \u001B[38;5;129;01mnot\u001B[39;00m \u001B[38;5;28;01mNone\u001B[39;00m:\n",
      "File \u001B[1;32m~\\Anaconda3\\envs\\langgraph_agent\\Lib\\site-packages\\urllib3\\util\\util.py:39\u001B[0m, in \u001B[0;36mreraise\u001B[1;34m(tp, value, tb)\u001B[0m\n\u001B[0;32m     38\u001B[0m         \u001B[38;5;28;01mraise\u001B[39;00m value\u001B[38;5;241m.\u001B[39mwith_traceback(tb)\n\u001B[1;32m---> 39\u001B[0m     \u001B[38;5;28;01mraise\u001B[39;00m value\n\u001B[0;32m     40\u001B[0m \u001B[38;5;28;01mfinally\u001B[39;00m:\n",
      "File \u001B[1;32m~\\Anaconda3\\envs\\langgraph_agent\\Lib\\site-packages\\urllib3\\connectionpool.py:787\u001B[0m, in \u001B[0;36mHTTPConnectionPool.urlopen\u001B[1;34m(self, method, url, body, headers, retries, redirect, assert_same_host, timeout, pool_timeout, release_conn, chunked, body_pos, preload_content, decode_content, **response_kw)\u001B[0m\n\u001B[0;32m    786\u001B[0m \u001B[38;5;66;03m# Make the request on the HTTPConnection object\u001B[39;00m\n\u001B[1;32m--> 787\u001B[0m response \u001B[38;5;241m=\u001B[39m \u001B[38;5;28mself\u001B[39m\u001B[38;5;241m.\u001B[39m_make_request(\n\u001B[0;32m    788\u001B[0m     conn,\n\u001B[0;32m    789\u001B[0m     method,\n\u001B[0;32m    790\u001B[0m     url,\n\u001B[0;32m    791\u001B[0m     timeout\u001B[38;5;241m=\u001B[39mtimeout_obj,\n\u001B[0;32m    792\u001B[0m     body\u001B[38;5;241m=\u001B[39mbody,\n\u001B[0;32m    793\u001B[0m     headers\u001B[38;5;241m=\u001B[39mheaders,\n\u001B[0;32m    794\u001B[0m     chunked\u001B[38;5;241m=\u001B[39mchunked,\n\u001B[0;32m    795\u001B[0m     retries\u001B[38;5;241m=\u001B[39mretries,\n\u001B[0;32m    796\u001B[0m     response_conn\u001B[38;5;241m=\u001B[39mresponse_conn,\n\u001B[0;32m    797\u001B[0m     preload_content\u001B[38;5;241m=\u001B[39mpreload_content,\n\u001B[0;32m    798\u001B[0m     decode_content\u001B[38;5;241m=\u001B[39mdecode_content,\n\u001B[0;32m    799\u001B[0m     \u001B[38;5;241m*\u001B[39m\u001B[38;5;241m*\u001B[39mresponse_kw,\n\u001B[0;32m    800\u001B[0m )\n\u001B[0;32m    802\u001B[0m \u001B[38;5;66;03m# Everything went great!\u001B[39;00m\n",
      "File \u001B[1;32m~\\Anaconda3\\envs\\langgraph_agent\\Lib\\site-packages\\urllib3\\connectionpool.py:536\u001B[0m, in \u001B[0;36mHTTPConnectionPool._make_request\u001B[1;34m(self, conn, method, url, body, headers, retries, timeout, chunked, response_conn, preload_content, decode_content, enforce_content_length)\u001B[0m\n\u001B[0;32m    535\u001B[0m \u001B[38;5;28;01mexcept\u001B[39;00m (BaseSSLError, \u001B[38;5;167;01mOSError\u001B[39;00m) \u001B[38;5;28;01mas\u001B[39;00m e:\n\u001B[1;32m--> 536\u001B[0m     \u001B[38;5;28mself\u001B[39m\u001B[38;5;241m.\u001B[39m_raise_timeout(err\u001B[38;5;241m=\u001B[39me, url\u001B[38;5;241m=\u001B[39murl, timeout_value\u001B[38;5;241m=\u001B[39mread_timeout)\n\u001B[0;32m    537\u001B[0m     \u001B[38;5;28;01mraise\u001B[39;00m\n",
      "File \u001B[1;32m~\\Anaconda3\\envs\\langgraph_agent\\Lib\\site-packages\\urllib3\\connectionpool.py:367\u001B[0m, in \u001B[0;36mHTTPConnectionPool._raise_timeout\u001B[1;34m(self, err, url, timeout_value)\u001B[0m\n\u001B[0;32m    366\u001B[0m \u001B[38;5;28;01mif\u001B[39;00m \u001B[38;5;28misinstance\u001B[39m(err, SocketTimeout):\n\u001B[1;32m--> 367\u001B[0m     \u001B[38;5;28;01mraise\u001B[39;00m ReadTimeoutError(\n\u001B[0;32m    368\u001B[0m         \u001B[38;5;28mself\u001B[39m, url, \u001B[38;5;124mf\u001B[39m\u001B[38;5;124m\"\u001B[39m\u001B[38;5;124mRead timed out. (read timeout=\u001B[39m\u001B[38;5;132;01m{\u001B[39;00mtimeout_value\u001B[38;5;132;01m}\u001B[39;00m\u001B[38;5;124m)\u001B[39m\u001B[38;5;124m\"\u001B[39m\n\u001B[0;32m    369\u001B[0m     ) \u001B[38;5;28;01mfrom\u001B[39;00m \u001B[38;5;21;01merr\u001B[39;00m\n\u001B[0;32m    371\u001B[0m \u001B[38;5;66;03m# See the above comment about EAGAIN in Python 3.\u001B[39;00m\n",
      "\u001B[1;31mReadTimeoutError\u001B[0m: HTTPSConnectionPool(host='mermaid.ink', port=443): Read timed out. (read timeout=10)",
      "\nDuring handling of the above exception, another exception occurred:\n",
      "\u001B[1;31mReadTimeout\u001B[0m                               Traceback (most recent call last)",
      "Cell \u001B[1;32mIn[47], line 42\u001B[0m\n\u001B[0;32m     39\u001B[0m corrective_rag \u001B[38;5;241m=\u001B[39m builder\u001B[38;5;241m.\u001B[39mcompile()\n\u001B[0;32m     41\u001B[0m \u001B[38;5;66;03m# 그래프 시각화\u001B[39;00m\n\u001B[1;32m---> 42\u001B[0m display(Image(corrective_rag\u001B[38;5;241m.\u001B[39mget_graph()\u001B[38;5;241m.\u001B[39mdraw_mermaid_png()))\n",
      "File \u001B[1;32m~\\Anaconda3\\envs\\langgraph_agent\\Lib\\site-packages\\langchain_core\\runnables\\graph.py:667\u001B[0m, in \u001B[0;36mGraph.draw_mermaid_png\u001B[1;34m(self, curve_style, node_colors, wrap_label_n_words, output_file_path, draw_method, background_color, padding, frontmatter_config)\u001B[0m\n\u001B[0;32m    659\u001B[0m \u001B[38;5;28;01mfrom\u001B[39;00m \u001B[38;5;21;01mlangchain_core\u001B[39;00m\u001B[38;5;21;01m.\u001B[39;00m\u001B[38;5;21;01mrunnables\u001B[39;00m\u001B[38;5;21;01m.\u001B[39;00m\u001B[38;5;21;01mgraph_mermaid\u001B[39;00m \u001B[38;5;28;01mimport\u001B[39;00m draw_mermaid_png\n\u001B[0;32m    661\u001B[0m mermaid_syntax \u001B[38;5;241m=\u001B[39m \u001B[38;5;28mself\u001B[39m\u001B[38;5;241m.\u001B[39mdraw_mermaid(\n\u001B[0;32m    662\u001B[0m     curve_style\u001B[38;5;241m=\u001B[39mcurve_style,\n\u001B[0;32m    663\u001B[0m     node_colors\u001B[38;5;241m=\u001B[39mnode_colors,\n\u001B[0;32m    664\u001B[0m     wrap_label_n_words\u001B[38;5;241m=\u001B[39mwrap_label_n_words,\n\u001B[0;32m    665\u001B[0m     frontmatter_config\u001B[38;5;241m=\u001B[39mfrontmatter_config,\n\u001B[0;32m    666\u001B[0m )\n\u001B[1;32m--> 667\u001B[0m \u001B[38;5;28;01mreturn\u001B[39;00m draw_mermaid_png(\n\u001B[0;32m    668\u001B[0m     mermaid_syntax\u001B[38;5;241m=\u001B[39mmermaid_syntax,\n\u001B[0;32m    669\u001B[0m     output_file_path\u001B[38;5;241m=\u001B[39moutput_file_path,\n\u001B[0;32m    670\u001B[0m     draw_method\u001B[38;5;241m=\u001B[39mdraw_method,\n\u001B[0;32m    671\u001B[0m     background_color\u001B[38;5;241m=\u001B[39mbackground_color,\n\u001B[0;32m    672\u001B[0m     padding\u001B[38;5;241m=\u001B[39mpadding,\n\u001B[0;32m    673\u001B[0m )\n",
      "File \u001B[1;32m~\\Anaconda3\\envs\\langgraph_agent\\Lib\\site-packages\\langchain_core\\runnables\\graph_mermaid.py:282\u001B[0m, in \u001B[0;36mdraw_mermaid_png\u001B[1;34m(mermaid_syntax, output_file_path, draw_method, background_color, padding)\u001B[0m\n\u001B[0;32m    276\u001B[0m     img_bytes \u001B[38;5;241m=\u001B[39m asyncio\u001B[38;5;241m.\u001B[39mrun(\n\u001B[0;32m    277\u001B[0m         _render_mermaid_using_pyppeteer(\n\u001B[0;32m    278\u001B[0m             mermaid_syntax, output_file_path, background_color, padding\n\u001B[0;32m    279\u001B[0m         )\n\u001B[0;32m    280\u001B[0m     )\n\u001B[0;32m    281\u001B[0m \u001B[38;5;28;01melif\u001B[39;00m draw_method \u001B[38;5;241m==\u001B[39m MermaidDrawMethod\u001B[38;5;241m.\u001B[39mAPI:\n\u001B[1;32m--> 282\u001B[0m     img_bytes \u001B[38;5;241m=\u001B[39m _render_mermaid_using_api(\n\u001B[0;32m    283\u001B[0m         mermaid_syntax, output_file_path, background_color\n\u001B[0;32m    284\u001B[0m     )\n\u001B[0;32m    285\u001B[0m \u001B[38;5;28;01melse\u001B[39;00m:\n\u001B[0;32m    286\u001B[0m     supported_methods \u001B[38;5;241m=\u001B[39m \u001B[38;5;124m\"\u001B[39m\u001B[38;5;124m, \u001B[39m\u001B[38;5;124m\"\u001B[39m\u001B[38;5;241m.\u001B[39mjoin([m\u001B[38;5;241m.\u001B[39mvalue \u001B[38;5;28;01mfor\u001B[39;00m m \u001B[38;5;129;01min\u001B[39;00m MermaidDrawMethod])\n",
      "File \u001B[1;32m~\\Anaconda3\\envs\\langgraph_agent\\Lib\\site-packages\\langchain_core\\runnables\\graph_mermaid.py:400\u001B[0m, in \u001B[0;36m_render_mermaid_using_api\u001B[1;34m(mermaid_syntax, output_file_path, background_color, file_type)\u001B[0m\n\u001B[0;32m    394\u001B[0m         background_color \u001B[38;5;241m=\u001B[39m \u001B[38;5;124mf\u001B[39m\u001B[38;5;124m\"\u001B[39m\u001B[38;5;124m!\u001B[39m\u001B[38;5;132;01m{\u001B[39;00mbackground_color\u001B[38;5;132;01m}\u001B[39;00m\u001B[38;5;124m\"\u001B[39m\n\u001B[0;32m    396\u001B[0m image_url \u001B[38;5;241m=\u001B[39m (\n\u001B[0;32m    397\u001B[0m     \u001B[38;5;124mf\u001B[39m\u001B[38;5;124m\"\u001B[39m\u001B[38;5;124mhttps://mermaid.ink/img/\u001B[39m\u001B[38;5;132;01m{\u001B[39;00mmermaid_syntax_encoded\u001B[38;5;132;01m}\u001B[39;00m\u001B[38;5;124m\"\u001B[39m\n\u001B[0;32m    398\u001B[0m     \u001B[38;5;124mf\u001B[39m\u001B[38;5;124m\"\u001B[39m\u001B[38;5;124m?type=\u001B[39m\u001B[38;5;132;01m{\u001B[39;00mfile_type\u001B[38;5;132;01m}\u001B[39;00m\u001B[38;5;124m&bgColor=\u001B[39m\u001B[38;5;132;01m{\u001B[39;00mbackground_color\u001B[38;5;132;01m}\u001B[39;00m\u001B[38;5;124m\"\u001B[39m\n\u001B[0;32m    399\u001B[0m )\n\u001B[1;32m--> 400\u001B[0m response \u001B[38;5;241m=\u001B[39m requests\u001B[38;5;241m.\u001B[39mget(image_url, timeout\u001B[38;5;241m=\u001B[39m\u001B[38;5;241m10\u001B[39m)\n\u001B[0;32m    401\u001B[0m \u001B[38;5;28;01mif\u001B[39;00m response\u001B[38;5;241m.\u001B[39mstatus_code \u001B[38;5;241m==\u001B[39m \u001B[38;5;241m200\u001B[39m:\n\u001B[0;32m    402\u001B[0m     img_bytes \u001B[38;5;241m=\u001B[39m response\u001B[38;5;241m.\u001B[39mcontent\n",
      "File \u001B[1;32m~\\Anaconda3\\envs\\langgraph_agent\\Lib\\site-packages\\requests\\api.py:73\u001B[0m, in \u001B[0;36mget\u001B[1;34m(url, params, **kwargs)\u001B[0m\n\u001B[0;32m     62\u001B[0m \u001B[38;5;28;01mdef\u001B[39;00m \u001B[38;5;21mget\u001B[39m(url, params\u001B[38;5;241m=\u001B[39m\u001B[38;5;28;01mNone\u001B[39;00m, \u001B[38;5;241m*\u001B[39m\u001B[38;5;241m*\u001B[39mkwargs):\n\u001B[0;32m     63\u001B[0m \u001B[38;5;250m    \u001B[39m\u001B[38;5;124mr\u001B[39m\u001B[38;5;124;03m\"\"\"Sends a GET request.\u001B[39;00m\n\u001B[0;32m     64\u001B[0m \n\u001B[0;32m     65\u001B[0m \u001B[38;5;124;03m    :param url: URL for the new :class:`Request` object.\u001B[39;00m\n\u001B[1;32m   (...)\u001B[0m\n\u001B[0;32m     70\u001B[0m \u001B[38;5;124;03m    :rtype: requests.Response\u001B[39;00m\n\u001B[0;32m     71\u001B[0m \u001B[38;5;124;03m    \"\"\"\u001B[39;00m\n\u001B[1;32m---> 73\u001B[0m     \u001B[38;5;28;01mreturn\u001B[39;00m request(\u001B[38;5;124m\"\u001B[39m\u001B[38;5;124mget\u001B[39m\u001B[38;5;124m\"\u001B[39m, url, params\u001B[38;5;241m=\u001B[39mparams, \u001B[38;5;241m*\u001B[39m\u001B[38;5;241m*\u001B[39mkwargs)\n",
      "File \u001B[1;32m~\\Anaconda3\\envs\\langgraph_agent\\Lib\\site-packages\\requests\\api.py:59\u001B[0m, in \u001B[0;36mrequest\u001B[1;34m(method, url, **kwargs)\u001B[0m\n\u001B[0;32m     55\u001B[0m \u001B[38;5;66;03m# By using the 'with' statement we are sure the session is closed, thus we\u001B[39;00m\n\u001B[0;32m     56\u001B[0m \u001B[38;5;66;03m# avoid leaving sockets open which can trigger a ResourceWarning in some\u001B[39;00m\n\u001B[0;32m     57\u001B[0m \u001B[38;5;66;03m# cases, and look like a memory leak in others.\u001B[39;00m\n\u001B[0;32m     58\u001B[0m \u001B[38;5;28;01mwith\u001B[39;00m sessions\u001B[38;5;241m.\u001B[39mSession() \u001B[38;5;28;01mas\u001B[39;00m session:\n\u001B[1;32m---> 59\u001B[0m     \u001B[38;5;28;01mreturn\u001B[39;00m session\u001B[38;5;241m.\u001B[39mrequest(method\u001B[38;5;241m=\u001B[39mmethod, url\u001B[38;5;241m=\u001B[39murl, \u001B[38;5;241m*\u001B[39m\u001B[38;5;241m*\u001B[39mkwargs)\n",
      "File \u001B[1;32m~\\Anaconda3\\envs\\langgraph_agent\\Lib\\site-packages\\requests\\sessions.py:589\u001B[0m, in \u001B[0;36mSession.request\u001B[1;34m(self, method, url, params, data, headers, cookies, files, auth, timeout, allow_redirects, proxies, hooks, stream, verify, cert, json)\u001B[0m\n\u001B[0;32m    584\u001B[0m send_kwargs \u001B[38;5;241m=\u001B[39m {\n\u001B[0;32m    585\u001B[0m     \u001B[38;5;124m\"\u001B[39m\u001B[38;5;124mtimeout\u001B[39m\u001B[38;5;124m\"\u001B[39m: timeout,\n\u001B[0;32m    586\u001B[0m     \u001B[38;5;124m\"\u001B[39m\u001B[38;5;124mallow_redirects\u001B[39m\u001B[38;5;124m\"\u001B[39m: allow_redirects,\n\u001B[0;32m    587\u001B[0m }\n\u001B[0;32m    588\u001B[0m send_kwargs\u001B[38;5;241m.\u001B[39mupdate(settings)\n\u001B[1;32m--> 589\u001B[0m resp \u001B[38;5;241m=\u001B[39m \u001B[38;5;28mself\u001B[39m\u001B[38;5;241m.\u001B[39msend(prep, \u001B[38;5;241m*\u001B[39m\u001B[38;5;241m*\u001B[39msend_kwargs)\n\u001B[0;32m    591\u001B[0m \u001B[38;5;28;01mreturn\u001B[39;00m resp\n",
      "File \u001B[1;32m~\\Anaconda3\\envs\\langgraph_agent\\Lib\\site-packages\\requests\\sessions.py:703\u001B[0m, in \u001B[0;36mSession.send\u001B[1;34m(self, request, **kwargs)\u001B[0m\n\u001B[0;32m    700\u001B[0m start \u001B[38;5;241m=\u001B[39m preferred_clock()\n\u001B[0;32m    702\u001B[0m \u001B[38;5;66;03m# Send the request\u001B[39;00m\n\u001B[1;32m--> 703\u001B[0m r \u001B[38;5;241m=\u001B[39m adapter\u001B[38;5;241m.\u001B[39msend(request, \u001B[38;5;241m*\u001B[39m\u001B[38;5;241m*\u001B[39mkwargs)\n\u001B[0;32m    705\u001B[0m \u001B[38;5;66;03m# Total elapsed time of the request (approximately)\u001B[39;00m\n\u001B[0;32m    706\u001B[0m elapsed \u001B[38;5;241m=\u001B[39m preferred_clock() \u001B[38;5;241m-\u001B[39m start\n",
      "File \u001B[1;32m~\\Anaconda3\\envs\\langgraph_agent\\Lib\\site-packages\\requests\\adapters.py:713\u001B[0m, in \u001B[0;36mHTTPAdapter.send\u001B[1;34m(self, request, stream, timeout, verify, cert, proxies)\u001B[0m\n\u001B[0;32m    711\u001B[0m     \u001B[38;5;28;01mraise\u001B[39;00m SSLError(e, request\u001B[38;5;241m=\u001B[39mrequest)\n\u001B[0;32m    712\u001B[0m \u001B[38;5;28;01melif\u001B[39;00m \u001B[38;5;28misinstance\u001B[39m(e, ReadTimeoutError):\n\u001B[1;32m--> 713\u001B[0m     \u001B[38;5;28;01mraise\u001B[39;00m ReadTimeout(e, request\u001B[38;5;241m=\u001B[39mrequest)\n\u001B[0;32m    714\u001B[0m \u001B[38;5;28;01melif\u001B[39;00m \u001B[38;5;28misinstance\u001B[39m(e, _InvalidHeader):\n\u001B[0;32m    715\u001B[0m     \u001B[38;5;28;01mraise\u001B[39;00m InvalidHeader(e, request\u001B[38;5;241m=\u001B[39mrequest)\n",
      "\u001B[1;31mReadTimeout\u001B[0m: HTTPSConnectionPool(host='mermaid.ink', port=443): Read timed out. (read timeout=10)"
     ]
    }
   ],
   "execution_count": 47
  },
  {
   "cell_type": "markdown",
   "id": "b0192fa7",
   "metadata": {},
   "source": [
    "`(5) 그래프 실행`"
   ]
  },
  {
   "cell_type": "code",
   "execution_count": 70,
   "id": "61252c98",
   "metadata": {},
   "outputs": [
    {
     "name": "stdout",
     "output_type": "stream",
     "text": [
      "--- 문서 검색 ---\n",
      "\"Node 'retrieve':\"\n",
      "(\"Value: {'retrieved_documents': [(Document(metadata={'menu_name': '시그니처 \"\n",
      " \"스테이크', 'menu_number': 1, 'source': './data/restaurant_menu.txt'}, \"\n",
      " \"page_content='1. 시그니처 스테이크\\\\n   • 가격: ₩35,000\\\\n   • 주요 식재료: 최상급 한우 등심, 로즈메리 \"\n",
      " '감자, 그릴드 아스파라거스\\\\n   • 설명: 셰프의 특제 시그니처 메뉴로, 21일간 건조 숙성한 최상급 한우 등심을 사용합니다. 미디엄 '\n",
      " '레어로 조리하여 육즙을 최대한 보존하며, 로즈메리 향의 감자와 아삭한 그릴드 아스파라거스가 곁들여집니다. 레드와인 소스와 함께 제공되어 '\n",
      " \"풍부한 맛을 더합니다.'), 'ambiguous'), (Document(metadata={'menu_name': '안심 스테이크 \"\n",
      " \"샐러드', 'menu_number': 8, 'source': './data/restaurant_menu.txt'}, \"\n",
      " \"page_content='8. 안심 스테이크 샐러드\\\\n   • 가격: ₩26,000\\\\n   • 주요 식재료: 소고기 안심, 루꼴라, \"\n",
      " '체리 토마토, 발사믹 글레이즈\\\\n   • 설명: 부드러운 안심 스테이크를 얇게 슬라이스하여 신선한 루꼴라 위에 올린 메인 요리 '\n",
      " \"샐러드입니다. 체리 토마토와 파마산 치즈 플레이크로 풍미를 더하고, 발사믹 글레이즈로 마무리하여 고기의 풍미를 한층 끌어올렸습니다.'), \"\n",
      " \"'ambiguous')]}\")\n",
      "\n",
      "----------------------------------------------------------\n",
      "\n",
      "--- 문서 관련성 평가 ---\n",
      "---문서 관련성: 있음---\n",
      "---문서 관련성: 있음---\n",
      "\"Node 'grade_documents':\"\n",
      "(\"Value: {'retrieved_documents': [(Document(metadata={'menu_name': '시그니처 \"\n",
      " \"스테이크', 'menu_number': 1, 'source': './data/restaurant_menu.txt'}, \"\n",
      " \"page_content='1. 시그니처 스테이크\\\\n   • 가격: ₩35,000\\\\n   • 주요 식재료: 최상급 한우 등심, 로즈메리 \"\n",
      " '감자, 그릴드 아스파라거스\\\\n   • 설명: 셰프의 특제 시그니처 메뉴로, 21일간 건조 숙성한 최상급 한우 등심을 사용합니다. 미디엄 '\n",
      " '레어로 조리하여 육즙을 최대한 보존하며, 로즈메리 향의 감자와 아삭한 그릴드 아스파라거스가 곁들여집니다. 레드와인 소스와 함께 제공되어 '\n",
      " \"풍부한 맛을 더합니다.'), 'correct'), (Document(metadata={'menu_name': '안심 스테이크 샐러드', \"\n",
      " \"'menu_number': 8, 'source': './data/restaurant_menu.txt'}, page_content='8. \"\n",
      " '안심 스테이크 샐러드\\\\n   • 가격: ₩26,000\\\\n   • 주요 식재료: 소고기 안심, 루꼴라, 체리 토마토, 발사믹 '\n",
      " '글레이즈\\\\n   • 설명: 부드러운 안심 스테이크를 얇게 슬라이스하여 신선한 루꼴라 위에 올린 메인 요리 샐러드입니다. 체리 토마토와 '\n",
      " \"파마산 치즈 플레이크로 풍미를 더하고, 발사믹 글레이즈로 마무리하여 고기의 풍미를 한층 끌어올렸습니다.'), 'correct')], \"\n",
      " \"'knowledge_strips': [(Document(metadata={'menu_name': '시그니처 스테이크', \"\n",
      " \"'menu_number': 1, 'source': './data/restaurant_menu.txt'}, page_content='1. \"\n",
      " '시그니처 스테이크\\\\n   • 가격: ₩35,000\\\\n   • 주요 식재료: 최상급 한우 등심, 로즈메리 감자, 그릴드 '\n",
      " '아스파라거스\\\\n   • 설명: 셰프의 특제 시그니처 메뉴로, 21일간 건조 숙성한 최상급 한우 등심을 사용합니다. 미디엄 레어로 '\n",
      " '조리하여 육즙을 최대한 보존하며, 로즈메리 향의 감자와 아삭한 그릴드 아스파라거스가 곁들여집니다. 레드와인 소스와 함께 제공되어 풍부한 '\n",
      " \"맛을 더합니다.'), 'correct'), (Document(metadata={'menu_name': '안심 스테이크 샐러드', \"\n",
      " \"'menu_number': 8, 'source': './data/restaurant_menu.txt'}, page_content='8. \"\n",
      " '안심 스테이크 샐러드\\\\n   • 가격: ₩26,000\\\\n   • 주요 식재료: 소고기 안심, 루꼴라, 체리 토마토, 발사믹 '\n",
      " '글레이즈\\\\n   • 설명: 부드러운 안심 스테이크를 얇게 슬라이스하여 신선한 루꼴라 위에 올린 메인 요리 샐러드입니다. 체리 토마토와 '\n",
      " \"파마산 치즈 플레이크로 풍미를 더하고, 발사믹 글레이즈로 마무리하여 고기의 풍미를 한층 끌어올렸습니다.'), 'correct')]}\")\n",
      "\n",
      "----------------------------------------------------------\n",
      "\n",
      "--- 지식 정제 ---\n",
      "---정제된 지식: 추가---\n",
      "---정제된 지식: 추가---\n",
      "--- 평가된 문서 분석 ---\n",
      "--- 결정: 답변 생성 (-> generate)---\n",
      "\"Node 'refine_knowledge':\"\n",
      "(\"Value: {'knowledge_strips': [(Document(metadata={}, page_content='시그니처 스테이크의 \"\n",
      " \"가격은 ₩35,000입니다.'), 'correct'), (Document(metadata={}, page_content='안심 스테이크 \"\n",
      " \"샐러드의 가격은 ₩26,000입니다.'), 'correct')]}\")\n",
      "\n",
      "----------------------------------------------------------\n",
      "\n",
      "--- 답변 생성 ---\n",
      "\"Node 'generate':\"\n",
      "(\"Value: {'messages': [AIMessage(content='스테이크 메뉴의 가격은 시그니처 스테이크가 ₩35,000이고, \"\n",
      " \"안심 스테이크 샐러드가 ₩26,000입니다.', additional_kwargs={}, response_metadata={}, \"\n",
      " \"id='ce0c29ae-4bbe-4aae-b3ab-bb18fdab1c23')], 'generation': '스테이크 메뉴의 가격은 \"\n",
      " \"시그니처 스테이크가 ₩35,000이고, 안심 스테이크 샐러드가 ₩26,000입니다.'}\")\n",
      "\n",
      "----------------------------------------------------------\n",
      "\n"
     ]
    }
   ],
   "source": [
    "inputs = {\"question\": \"스테이크 메뉴의 가격은 얼마인가요?\"}\n",
    "\n",
    "for output in corrective_rag.stream(inputs):\n",
    "    for key, value in output.items():\n",
    "        # 노드 출력\n",
    "        pprint(f\"Node '{key}':\")\n",
    "        pprint(f\"Value: {value}\", indent=2, width=80, depth=None)\n",
    "    print(\"\\n----------------------------------------------------------\\n\")"
   ]
  },
  {
   "cell_type": "code",
   "execution_count": 71,
   "id": "bb891b1a",
   "metadata": {},
   "outputs": [
    {
     "name": "stdout",
     "output_type": "stream",
     "text": [
      "스테이크 메뉴의 가격은 시그니처 스테이크가 ₩35,000이고, 안심 스테이크 샐러드가 ₩26,000입니다.\n"
     ]
    }
   ],
   "source": [
    "# 최종 답변\n",
    "print(value[\"generation\"])"
   ]
  },
  {
   "cell_type": "code",
   "execution_count": 72,
   "id": "dc9dbf54",
   "metadata": {},
   "outputs": [
    {
     "name": "stdout",
     "output_type": "stream",
     "text": [
      "--- 문서 검색 ---\n",
      "\"Node 'retrieve':\"\n",
      "(\"Value: {'retrieved_documents': [(Document(metadata={'menu_name': '시그니처 \"\n",
      " \"스테이크', 'menu_number': 1, 'source': './data/restaurant_menu.txt'}, \"\n",
      " \"page_content='1. 시그니처 스테이크\\\\n   • 가격: ₩35,000\\\\n   • 주요 식재료: 최상급 한우 등심, 로즈메리 \"\n",
      " '감자, 그릴드 아스파라거스\\\\n   • 설명: 셰프의 특제 시그니처 메뉴로, 21일간 건조 숙성한 최상급 한우 등심을 사용합니다. 미디엄 '\n",
      " '레어로 조리하여 육즙을 최대한 보존하며, 로즈메리 향의 감자와 아삭한 그릴드 아스파라거스가 곁들여집니다. 레드와인 소스와 함께 제공되어 '\n",
      " \"풍부한 맛을 더합니다.'), 'ambiguous'), (Document(metadata={'menu_name': '안심 스테이크 \"\n",
      " \"샐러드', 'menu_number': 8, 'source': './data/restaurant_menu.txt'}, \"\n",
      " \"page_content='8. 안심 스테이크 샐러드\\\\n   • 가격: ₩26,000\\\\n   • 주요 식재료: 소고기 안심, 루꼴라, \"\n",
      " '체리 토마토, 발사믹 글레이즈\\\\n   • 설명: 부드러운 안심 스테이크를 얇게 슬라이스하여 신선한 루꼴라 위에 올린 메인 요리 '\n",
      " \"샐러드입니다. 체리 토마토와 파마산 치즈 플레이크로 풍미를 더하고, 발사믹 글레이즈로 마무리하여 고기의 풍미를 한층 끌어올렸습니다.'), \"\n",
      " \"'ambiguous')]}\")\n",
      "\n",
      "----------------------------------------------------------\n",
      "\n",
      "--- 문서 관련성 평가 ---\n",
      "---문서 관련성: 모호함---\n",
      "---문서 관련성: 없음---\n",
      "\"Node 'grade_documents':\"\n",
      "(\"Value: {'retrieved_documents': [(Document(metadata={'menu_name': '시그니처 \"\n",
      " \"스테이크', 'menu_number': 1, 'source': './data/restaurant_menu.txt'}, \"\n",
      " \"page_content='1. 시그니처 스테이크\\\\n   • 가격: ₩35,000\\\\n   • 주요 식재료: 최상급 한우 등심, 로즈메리 \"\n",
      " '감자, 그릴드 아스파라거스\\\\n   • 설명: 셰프의 특제 시그니처 메뉴로, 21일간 건조 숙성한 최상급 한우 등심을 사용합니다. 미디엄 '\n",
      " '레어로 조리하여 육즙을 최대한 보존하며, 로즈메리 향의 감자와 아삭한 그릴드 아스파라거스가 곁들여집니다. 레드와인 소스와 함께 제공되어 '\n",
      " \"풍부한 맛을 더합니다.'), 'ambiguous'), (Document(metadata={'menu_name': '안심 스테이크 \"\n",
      " \"샐러드', 'menu_number': 8, 'source': './data/restaurant_menu.txt'}, \"\n",
      " \"page_content='8. 안심 스테이크 샐러드\\\\n   • 가격: ₩26,000\\\\n   • 주요 식재료: 소고기 안심, 루꼴라, \"\n",
      " '체리 토마토, 발사믹 글레이즈\\\\n   • 설명: 부드러운 안심 스테이크를 얇게 슬라이스하여 신선한 루꼴라 위에 올린 메인 요리 '\n",
      " \"샐러드입니다. 체리 토마토와 파마산 치즈 플레이크로 풍미를 더하고, 발사믹 글레이즈로 마무리하여 고기의 풍미를 한층 끌어올렸습니다.'), \"\n",
      " \"'incorrect')], 'knowledge_strips': []}\")\n",
      "\n",
      "----------------------------------------------------------\n",
      "\n",
      "--- 지식 정제 ---\n",
      "--- 평가된 문서 분석 ---\n",
      "--- 결정: 모든 문서가 질문과 관련이 없음, 질문 개선 필요 (-> transform_query)---\n",
      "\"Node 'refine_knowledge':\"\n",
      "\"Value: {'knowledge_strips': []}\"\n",
      "\n",
      "----------------------------------------------------------\n",
      "\n",
      "--- 질문 개선 ---\n",
      "\"Node 'transform_query':\"\n",
      "(\"Value: {'messages': [HumanMessage(content='스테이크와 잘 어울리는 와인 종류를 추천해 주실 수 \"\n",
      " \"있나요?', additional_kwargs={}, response_metadata={}, \"\n",
      " \"id='69054479-662b-400d-b8de-5a5b07c83be7')], 'question': '스테이크와 잘 어울리는 와인 \"\n",
      " \"종류를 추천해 주실 수 있나요?', 'num_generations': 1}\")\n",
      "\n",
      "----------------------------------------------------------\n",
      "\n",
      "--- 웹 검색 ---\n",
      "---웹 검색 문서 관련성: 있음---\n",
      "---웹 검색 문서 관련성: 있음---\n",
      "\"Node 'web_search':\"\n",
      "(\"Value: {'knowledge_strips': [(Document(metadata={'source': 'web search', \"\n",
      " \"'url': 'https://m.blog.naver.com/chelina89/220634349414'}, \"\n",
      " \"page_content='<Document \"\n",
      " 'href=\"https://m.blog.naver.com/chelina89/220634349414\"/>\\\\n레드 와인 추천! 스테이크와 '\n",
      " '어울리는 와인 베스트 5 - 10만원 미만 (1865, 카니버, 루이마티니, 트라피체) : 네이버 블로그 레드 와인 추천! 스테이크와 '\n",
      " '어울리는 와인 베스트 5 - 10만원 미만 (1865, 카니버, 루이마티니, 트라피체) 레드 와인 추천 - 스테이크와 어울리는 와인 '\n",
      " '리스트! 카니버, 엑스트라버겐저, 1865, 루이마티니, 트라피체 수 많은 와인 중에서 고기와 베스트를 이루는\\\\xa0와인 추천 리스트 '\n",
      " '공개합니다♡ 4. 루이마티니 나파밸리 까베르네 소비뇽 - 9만원 미만 미국 고급 와인 산지인 나파밸리 특유의 진득함과 파워풀함이 응축되어 '\n",
      " '있는 와인이라, 소고기랑 진짜 베스트 인거같아요 개인적으로. 한남동 한와담이나, 뚜뿔등심 처럼 콜키지 프리인 레스토랑에 정말 너무너무 잘 '\n",
      " '어울리는 스테이크 와인! 위의 추천드린 레드 와인 베스트 5 와 함께 하심은 어떠실까요?! #와인 {\"title\":\"레드 와인 추천! '\n",
      " '스테이크와 어울리는 와인 베스트 5 - 10만원 미만 (1865, 카니버, 루이마티니, '\n",
      " '트라피체)\",\"source\":\"https://blog.naver.com/chelina89/220634349414\",\"blogName\":\"유나리\\\\\\'s '\n",
      " '..\",\"blogId\":\"chelina89\",\"domainIdOrBlogId\":\"chelina89\",\"nicknameOrBlogId\":\"유나리\",\"logNo\":220634349414,\"smartEditorVersion\":3,\"meDisplay\":true,\"lineDisplay\":true,\"outsideDisplay\":false,\"cafeDisplay\":true,\"blogDisplay\":true}\\\\n</Document>\\'), '\n",
      " \"'correct'), (Document(metadata={'source': 'web search', 'url': \"\n",
      " \"'https://m.blog.naver.com/wineislikeacat/223096696241'}, \"\n",
      " \"page_content='<Document \"\n",
      " 'href=\"https://m.blog.naver.com/wineislikeacat/223096696241\"/>\\\\n등심 스테이크에는 이 '\n",
      " '와인 드셔보세요! 소고기 부위별 레드와인 추천 모음 : 네이버 블로그 카테고리 이동 나의 와인 아지트, 우리동네내와인 등심 스테이크에는 '\n",
      " '이 와인 드셔보세요! 소고기 부위별 레드와인 추천 모음 우리동네내와인의 소고기 스테이크 부위별 레드와인 추천! 특정 부위에 더 잘 '\n",
      " '어울리는 와인을 소개하는 방식으로요 :) 등심 & 채끝 스테이크와 어울리는 와인 등심 스테이크, 채끝 스테이크와 어울리는 와인 품종은? '\n",
      " '안심 스테이크와 어울리는 와인 안심 스테이크와 어울리는 와인 품종은? 지방이 거의 없기 때문에 고기 자체의 맛을 가장 잘 느낄 수 있는 '\n",
      " '것이죠. 갈비살과 어울리는 와인 갈비살과 어울리는 와인 품종은? 느끼함을 씻어줄 수 있는 와인 품종이 좋습니다. 차돌박이와 어울리는 와인 '\n",
      " '차돌박이와 어울리는 와인 품종은? 부채살과 어울리는 와인 #와인 {\"title\":\"등심 스테이크에는 이 와인 드셔보세요! 소고기 부위별 '\n",
      " '레드와인 추천 '\n",
      " '모음\",\"source\":\"https://blog.naver.com/wineislikeacat/223096696241\",\"blogName\":\"나의 '\n",
      " '와인 '\n",
      " '..\",\"blogId\":\"wineislikeacat\",\"domainIdOrBlogId\":\"wineislikeacat\",\"nicknameOrBlogId\":\"우리동네내와인\",\"logNo\":223096696241,\"smartEditorVersion\":4,\"lineDisplay\":true,\"outsideDisplay\":false,\"cafeDisplay\":false,\"blogDisplay\":false,\"meDisplay\":true}\\\\n</Document>\\'), '\n",
      " \"'correct')]}\")\n",
      "\n",
      "----------------------------------------------------------\n",
      "\n",
      "--- 답변 생성 ---\n",
      "\"Node 'generate':\"\n",
      "(\"Value: {'messages': [AIMessage(content='스테이크와 잘 어울리는 와인으로는 다음과 같은 종류가 추천됩니다: \"\n",
      " '\\\\n\\\\n1. 카니버\\\\n2. 엑스트라버겐저\\\\n3. 1865\\\\n4. 루이마티니\\\\n5. 트라피체\\\\n\\\\n특히 \"루이마티니 나파밸리 '\n",
      " '까베르네 소비뇽\"은 소고기와 잘 어울린다고 언급되어 있습니다.\\', additional_kwargs={}, '\n",
      " \"response_metadata={}, id='48c24602-9984-4b54-b5f4-95a72a3a5c1b')], \"\n",
      " \"'generation': '스테이크와 잘 어울리는 와인으로는 다음과 같은 종류가 추천됩니다: \\\\n\\\\n1. 카니버\\\\n2. \"\n",
      " '엑스트라버겐저\\\\n3. 1865\\\\n4. 루이마티니\\\\n5. 트라피체\\\\n\\\\n특히 \"루이마티니 나파밸리 까베르네 소비뇽\"은 소고기와 잘 '\n",
      " \"어울린다고 언급되어 있습니다.'}\")\n",
      "\n",
      "----------------------------------------------------------\n",
      "\n"
     ]
    }
   ],
   "source": [
    "inputs = {\"question\": \"스테이크에 어울리는 와인을 추천해주세요.\"}\n",
    "\n",
    "for output in corrective_rag.stream(inputs):\n",
    "    for key, value in output.items():\n",
    "        # 노드 출력\n",
    "        pprint(f\"Node '{key}':\")\n",
    "        pprint(f\"Value: {value}\", indent=2, width=80, depth=None)\n",
    "    print(\"\\n----------------------------------------------------------\\n\")"
   ]
  },
  {
   "cell_type": "code",
   "execution_count": 73,
   "id": "28c3792d",
   "metadata": {},
   "outputs": [
    {
     "name": "stdout",
     "output_type": "stream",
     "text": [
      "스테이크와 잘 어울리는 와인으로는 다음과 같은 종류가 추천됩니다: \n",
      "\n",
      "1. 카니버\n",
      "2. 엑스트라버겐저\n",
      "3. 1865\n",
      "4. 루이마티니\n",
      "5. 트라피체\n",
      "\n",
      "특히 \"루이마티니 나파밸리 까베르네 소비뇽\"은 소고기와 잘 어울린다고 언급되어 있습니다.\n"
     ]
    }
   ],
   "source": [
    "# 최종 답변\n",
    "print(value[\"generation\"])"
   ]
  }
 ],
 "metadata": {
  "kernelspec": {
   "display_name": "langgraph-agent-fZJ3tIVY-py3.11",
   "language": "python",
   "name": "python3"
  },
  "language_info": {
   "codemirror_mode": {
    "name": "ipython",
    "version": 3
   },
   "file_extension": ".py",
   "mimetype": "text/x-python",
   "name": "python",
   "nbconvert_exporter": "python",
   "pygments_lexer": "ipython3",
   "version": "3.11.9"
  }
 },
 "nbformat": 4,
 "nbformat_minor": 5
}
