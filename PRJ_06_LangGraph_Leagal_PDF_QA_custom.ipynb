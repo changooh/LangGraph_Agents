{
 "cells": [
  {
   "cell_type": "markdown",
   "id": "98e66a4e",
   "metadata": {},
   "source": [
    "## 1. 환경 설정"
   ]
  },
  {
   "cell_type": "markdown",
   "id": "6b4a539f",
   "metadata": {},
   "source": [
    "`(1) Env 환경변수`"
   ]
  },
  {
   "cell_type": "code",
   "id": "89a27628",
   "metadata": {
    "ExecuteTime": {
     "end_time": "2025-06-30T05:43:53.261992Z",
     "start_time": "2025-06-30T05:43:53.194178Z"
    }
   },
   "source": [
    "from dotenv import load_dotenv\n",
    "load_dotenv()"
   ],
   "outputs": [
    {
     "data": {
      "text/plain": [
       "True"
      ]
     },
     "execution_count": 1,
     "metadata": {},
     "output_type": "execute_result"
    }
   ],
   "execution_count": 1
  },
  {
   "metadata": {},
   "cell_type": "code",
   "outputs": [],
   "execution_count": null,
   "source": "",
   "id": "becea4a6714e8df8"
  },
  {
   "metadata": {
    "ExecuteTime": {
     "end_time": "2025-06-30T05:45:47.178314Z",
     "start_time": "2025-06-30T05:45:47.156365Z"
    }
   },
   "cell_type": "code",
   "source": [
    "\n",
    "import warnings\n",
    "warnings.filterwarnings(\"ignore\")"
   ],
   "id": "5fbf5af0849a6e8c",
   "outputs": [],
   "execution_count": 10
  },
  {
   "cell_type": "markdown",
   "id": "4394ecdf",
   "metadata": {},
   "source": [
    "`(2) 기본 라이브러리`"
   ]
  },
  {
   "cell_type": "code",
   "id": "efe5c80a",
   "metadata": {
    "ExecuteTime": {
     "end_time": "2025-06-30T05:44:11.955917Z",
     "start_time": "2025-06-30T05:44:11.942757Z"
    }
   },
   "source": [
    "import re\n",
    "import os, json\n",
    "from glob import glob\n",
    "\n",
    "from textwrap import dedent\n",
    "from pprint import pprint\n",
    "\n",
    "import uuid\n",
    "\n",
    "import warnings\n",
    "warnings.filterwarnings(\"ignore\")"
   ],
   "outputs": [],
   "execution_count": 2
  },
  {
   "cell_type": "markdown",
   "id": "d5c4536a",
   "metadata": {},
   "source": [
    "## 2. 법률 문서를 로드하여 벡터저장소에 저장"
   ]
  },
  {
   "cell_type": "code",
   "id": "9a10417e",
   "metadata": {
    "ExecuteTime": {
     "end_time": "2025-06-30T05:44:20.312297Z",
     "start_time": "2025-06-30T05:44:20.302531Z"
    }
   },
   "source": [
    "# pdf 파일 목록을 확인\n",
    "pdf_files = glob(os.path.join('data', '*.pdf'))\n",
    "\n",
    "pdf_files"
   ],
   "outputs": [
    {
     "data": {
      "text/plain": [
       "['data\\\\개인정보 보호법(법률)(제19234호)(20240315).pdf',\n",
       " 'data\\\\근로기준법(법률)(제18176호)(20211119).pdf',\n",
       " 'data\\\\주택임대차보호법(법률)(제19356호)(20230719).pdf']"
      ]
     },
     "execution_count": 3,
     "metadata": {},
     "output_type": "execute_result"
    }
   ],
   "execution_count": 3
  },
  {
   "cell_type": "markdown",
   "id": "8eb19dac",
   "metadata": {},
   "source": [
    "###  2-1. 개인정보보호법"
   ]
  },
  {
   "cell_type": "markdown",
   "id": "059583bb",
   "metadata": {},
   "source": [
    "- PDf 문서를 가져와서 조항 별로 구분하여 정리"
   ]
  },
  {
   "cell_type": "code",
   "id": "77cc4c3d",
   "metadata": {
    "ExecuteTime": {
     "end_time": "2025-06-30T05:44:28.683440Z",
     "start_time": "2025-06-30T05:44:24.037041Z"
    }
   },
   "source": [
    "from langchain_community.document_loaders import PyPDFLoader\n",
    "pdf_file=pdf_files[0]\n",
    "# pdf_file = 'data/개인정보 보호법(법률)(제19234호)(20240315).pdf'\n",
    "\n",
    "loader = PyPDFLoader(pdf_file)\n",
    "pages = loader.load()\n",
    "\n",
    "len(pages)"
   ],
   "outputs": [
    {
     "data": {
      "text/plain": [
       "41"
      ]
     },
     "execution_count": 4,
     "metadata": {},
     "output_type": "execute_result"
    }
   ],
   "execution_count": 4
  },
  {
   "cell_type": "code",
   "id": "a5c2df86",
   "metadata": {},
   "source": [
    "pages[0].page_content"
   ],
   "outputs": [],
   "execution_count": null
  },
  {
   "cell_type": "code",
   "id": "2e9e703c",
   "metadata": {},
   "source": [
    "pages[0].metadata"
   ],
   "outputs": [],
   "execution_count": null
  },
  {
   "cell_type": "code",
   "id": "8836feef",
   "metadata": {},
   "source": [
    "print(pages[0].page_content)"
   ],
   "outputs": [],
   "execution_count": null
  },
  {
   "cell_type": "code",
   "id": "f018f7df",
   "metadata": {
    "ExecuteTime": {
     "end_time": "2025-06-30T05:44:31.038680Z",
     "start_time": "2025-06-30T05:44:31.026990Z"
    }
   },
   "source": [
    "def parse_law(law_text):\n",
    "    # 서문 분리\n",
    "    # '^'로 시작하여 '제1장' 또는 '제1조' 직전까지의 모든 텍스트를 탐색 \n",
    "    preamble_pattern = r'^(.*?)(?=제1장|제1조)'\n",
    "    preamble = re.search(preamble_pattern, law_text, re.DOTALL)\n",
    "    if preamble:\n",
    "        preamble = preamble.group(1).strip()\n",
    "    \n",
    "    # 장 분리 \n",
    "    # '제X장' 형식의 제목과 그 뒤에 오는 모든 조항을 하나의 그룹화 \n",
    "    chapter_pattern = r'(제\\d+장\\s+.+?)\\n((?:제\\d+조(?:의\\d+)?(?:\\(\\w+\\))?.*?)(?=제\\d+장|부칙|$))'\n",
    "    chapters = re.findall(chapter_pattern, law_text, re.DOTALL)\n",
    "    \n",
    "    # 부칙 분리\n",
    "    # '부칙'으로 시작하는 모든 텍스트를 탐색 \n",
    "    appendix_pattern = r'(부칙.*)'\n",
    "    appendix = re.search(appendix_pattern, law_text, re.DOTALL)\n",
    "    if appendix:\n",
    "        appendix = appendix.group(1)\n",
    "    \n",
    "    # 파싱 결과를 저장할 딕셔너리 초기화\n",
    "    parsed_law = {'서문': preamble, '장': {}, '부칙': appendix}\n",
    "    \n",
    "    # 각 장 내에서 조 분리\n",
    "    for chapter_title, chapter_content in chapters:\n",
    "        # 조 분리 패턴\n",
    "        # 1. '제X조'로 시작 ('제X조의Y' 형식도 가능)\n",
    "        # 2. 조 번호 뒤에 반드시 '(항목명)' 형식의 제목이 와야 함 \n",
    "        # 3. 다음 조가 시작되기 전까지 또는 문서의 끝까지의 모든 내용을 포함\n",
    "        article_pattern = r'(제\\d+조(?:의\\d+)?\\s*\\([^)]+\\).*?)(?=제\\d+조(?:의\\d+)?\\s*\\([^)]+\\)|$)'\n",
    "        \n",
    "        # 정규표현식을 이용해 모든 조항을 탐색 \n",
    "        articles = re.findall(article_pattern, chapter_content, re.DOTALL)\n",
    "        \n",
    "        # 각 조항의 앞뒤 공백을 제거하고 결과 딕셔너리에 저장\n",
    "        parsed_law['장'][chapter_title.strip()] = [article.strip() for article in articles]\n",
    "    \n",
    "    return parsed_law\n",
    "\n",
    "\n",
    "# 각 페이지의 텍스트를 결합하여 재분리\n",
    "text_for_delete = r\"법제처\\s+\\d+\\s+국가법령정보센터\\n개인정보 보호법\"\n",
    "\n",
    "law_text = \"\\n\".join([re.sub(text_for_delete, \"\", p.page_content).strip() for p in pages])\n",
    "\n",
    "parsed_law = parse_law(law_text)\n",
    "\n",
    "# 분할된 아이템 갯수 확인\n",
    "print(len(parsed_law[\"장\"]))"
   ],
   "outputs": [
    {
     "name": "stdout",
     "output_type": "stream",
     "text": [
      "10\n"
     ]
    }
   ],
   "execution_count": 5
  },
  {
   "cell_type": "code",
   "id": "bb75ff91",
   "metadata": {},
   "source": [
    "parsed_law"
   ],
   "outputs": [],
   "execution_count": null
  },
  {
   "cell_type": "markdown",
   "id": "4b3c3b9e",
   "metadata": {},
   "source": [
    "- 랭체인 Document 객체에 메타데이터와 함께 정리"
   ]
  },
  {
   "cell_type": "code",
   "id": "c88aefc1",
   "metadata": {
    "ExecuteTime": {
     "end_time": "2025-06-30T05:44:36.307831Z",
     "start_time": "2025-06-30T05:44:36.299388Z"
    }
   },
   "source": [
    "from langchain_core.documents import Document\n",
    "\n",
    "final_docs = []\n",
    "for law in parsed_law['장'].keys():\n",
    "    for article in parsed_law['장'][law]:\n",
    "\n",
    "        # metadata 내용을 정리 \n",
    "        metadata = {\n",
    "                \"source\": pdf_file,\n",
    "                \"chapter\": law,\n",
    "                \"name\" : \"개인정보 보호법\"\n",
    "                }\n",
    "\n",
    "        # metadata 내용을 본문에 추가 \n",
    "        content = f\"[법률정보]\\n다음 조항은 {metadata['name']} {metadata['chapter']}에서 발췌한 내용입니다.\\n\\n[법률조항]\\n{article}\"\n",
    "\n",
    "        final_docs.append(Document(page_content=content, metadata=metadata))\n",
    "        \n",
    "len(final_docs)\n"
   ],
   "outputs": [
    {
     "data": {
      "text/plain": [
       "109"
      ]
     },
     "execution_count": 6,
     "metadata": {},
     "output_type": "execute_result"
    }
   ],
   "execution_count": 6
  },
  {
   "cell_type": "code",
   "id": "eedc3481",
   "metadata": {
    "ExecuteTime": {
     "end_time": "2025-06-30T05:44:39.962976Z",
     "start_time": "2025-06-30T05:44:39.956203Z"
    }
   },
   "source": [
    "print(final_docs[0].page_content)\n",
    "print()\n",
    "print(final_docs[0].metadata)\n",
    "print(final_docs[1].page_content)\n",
    "print()\n",
    "print(final_docs[1].metadata)"
   ],
   "outputs": [
    {
     "name": "stdout",
     "output_type": "stream",
     "text": [
      "[법률정보]\n",
      "다음 조항은 개인정보 보호법 제1장 총칙에서 발췌한 내용입니다.\n",
      "\n",
      "[법률조항]\n",
      "제1조(목적) 이 법은 개인정보의 처리 및 보호에 관한 사항을 정함으로써 개인의 자유와 권리를 보호하고, 나아가 개인\n",
      "의 존엄과 가치를 구현함을 목적으로 한다. <개정 2014. 3. 24.>\n",
      "\n",
      "{'source': 'data\\\\개인정보 보호법(법률)(제19234호)(20240315).pdf', 'chapter': '제1장 총칙', 'name': '개인정보 보호법'}\n",
      "[법률정보]\n",
      "다음 조항은 개인정보 보호법 제1장 총칙에서 발췌한 내용입니다.\n",
      "\n",
      "[법률조항]\n",
      "제2조(정의) 이 법에서 사용하는 용어의 뜻은 다음과 같다. <개정 2014. 3. 24., 2020. 2. 4., 2023. 3. 14.>\n",
      "1. “개인정보”란 살아 있는 개인에 관한 정보로서 다음 각 목의 어느 하나에 해당하는 정보를 말한다.\n",
      "가. 성명, 주민등록번호 및 영상 등을 통하여 개인을 알아볼 수 있는 정보 \n",
      "나. 해당 정보만으로는 특정 개인을 알아볼 수 없더라도 다른 정보와 쉽게 결합하여 알아볼 수 있는 정보. 이 경우 \n",
      "쉽게 결합할 수 있는지 여부는 다른 정보의 입수 가능성 등 개인을 알아보는 데 소요되는 시간, 비용, 기술 등 \n",
      "을 합리적으로 고려하여야 한다. \n",
      "다. 가목 또는 나목을 제1호의2에 따라 가명처리함으로써 원래의 상태로 복원하기 위한 추가 정보의 사용ㆍ결합 \n",
      "없이는 특정 개인을 알아볼 수 없는 정보(이하 “가명정보”라 한다) \n",
      "1의2. “가명처리”란 개인정보의 일부를 삭제하거나 일부 또는 전부를 대체하는 등의 방법으로 추가 정보가 없이는\n",
      "특정 개인을 알아볼 수 없도록 처리하는 것을 말한다. \n",
      "2. “처리”란 개인정보의 수집, 생성, 연계, 연동, 기록, 저장, 보유, 가공, 편집, 검색, 출력, 정정(訂正), 복구, 이용, 제공,\n",
      "공개, 파기(破棄), 그 밖에 이와 유사한 행위를 말한다. \n",
      "3. “정보주체”란 처리되는 정보에 의하여 알아볼 수 있는 사람으로서 그 정보의 주체가 되는 사람을 말한다.\n",
      "4. “개인정보파일”이란 개인정보를 쉽게 검색할 수 있도록 일정한 규칙에 따라 체계적으로 배열하거나 구성한 개인\n",
      "정보의 집합물(集合物)을 말한다. \n",
      "5. “개인정보처리자”란 업무를 목적으로 개인정보파일을 운용하기 위하여 스스로 또는 다른 사람을 통하여 개인정\n",
      "보를 처리하는 공공기관, 법인, 단체 및 개인 등을 말한다. \n",
      "6. “공공기관”이란 다음 각 목의 기관을 말한다.\n",
      "가. 국회, 법원, 헌법재판소, 중앙선거관리위원회의 행정사무를 처리하는 기관, 중앙행정기관(대통령 소속 기관과 \n",
      "국무총리 소속 기관을 포함한다) 및 그 소속 기관, 지방자치단체 \n",
      "나. 그 밖의 국가기관 및 공공단체 중 대통령령으로 정하는 기관 \n",
      "7. “고정형 영상정보처리기기”란 일정한 공간에 설치되어 지속적 또는 주기적으로 사람 또는 사물의 영상 등을 촬영\n",
      "하거나 이를 유ㆍ무선망을 통하여 전송하는 장치로서 대통령령으로 정하는 장치를 말한다. \n",
      "7의2. “이동형 영상정보처리기기”란 사람이 신체에 착용 또는 휴대하거나 이동 가능한 물체에 부착 또는 거치(据置\n",
      ")하여 사람 또는 사물의 영상 등을 촬영하거나 이를 유ㆍ무선망을 통하여 전송하는 장치로서 대통령령으로 정하 \n",
      "는 장치를 말한다. \n",
      "8. “과학적 연구”란 기술의 개발과 실증, 기초연구, 응용연구 및 민간 투자 연구 등 과학적 방법을 적용하는 연구를\n",
      "말한다.\n",
      "\n",
      "{'source': 'data\\\\개인정보 보호법(법률)(제19234호)(20240315).pdf', 'chapter': '제1장 총칙', 'name': '개인정보 보호법'}\n"
     ]
    }
   ],
   "execution_count": 7
  },
  {
   "cell_type": "code",
   "id": "825a2ec3",
   "metadata": {},
   "source": [
    "print(final_docs[-1].page_content)\n",
    "print()\n",
    "print(final_docs[-1].metadata)"
   ],
   "outputs": [],
   "execution_count": null
  },
  {
   "cell_type": "markdown",
   "id": "b8b8f6d8",
   "metadata": {},
   "source": [
    "- 벡터저장소에 인덱싱"
   ]
  },
  {
   "cell_type": "code",
   "id": "a66739ba",
   "metadata": {
    "ExecuteTime": {
     "end_time": "2025-06-30T05:44:43.954162Z",
     "start_time": "2025-06-30T05:44:43.944788Z"
    }
   },
   "source": [
    "# 각 문서의 텍스트 길이를 확인\n",
    "\n",
    "text_lengths = [len(d.page_content) for d in final_docs]\n",
    "print(min(text_lengths), max(text_lengths))"
   ],
   "outputs": [
    {
     "name": "stdout",
     "output_type": "stream",
     "text": [
      "116 2844\n"
     ]
    }
   ],
   "execution_count": 8
  },
  {
   "cell_type": "code",
   "id": "f446c40a",
   "metadata": {
    "ExecuteTime": {
     "end_time": "2025-06-30T05:46:03.242825Z",
     "start_time": "2025-06-30T05:45:58.337983Z"
    }
   },
   "source": [
    "from langchain_chroma import Chroma\n",
    "from langchain_ollama  import OllamaEmbeddings\n",
    "\n",
    "embeddings_model = OllamaEmbeddings(model=\"bge-m3\") \n",
    "\n",
    "# Chroma 인덱스 생성\n",
    "personal_db = Chroma.from_documents(\n",
    "    documents=final_docs, \n",
    "    embedding=embeddings_model,   \n",
    "    collection_name=\"personal_law\",\n",
    "    persist_directory=\"./chroma_db\",\n",
    ")"
   ],
   "outputs": [
    {
     "name": "stderr",
     "output_type": "stream",
     "text": [
      "Failed to send telemetry event ClientStartEvent: capture() takes 1 positional argument but 3 were given\n",
      "Failed to send telemetry event ClientCreateCollectionEvent: capture() takes 1 positional argument but 3 were given\n"
     ]
    }
   ],
   "execution_count": 11
  },
  {
   "cell_type": "markdown",
   "id": "88ba5825",
   "metadata": {},
   "source": [
    "###  2-2. 근로기준법"
   ]
  },
  {
   "cell_type": "markdown",
   "id": "ab9951cd",
   "metadata": {},
   "source": [
    "- PDf 문서를 가져와서 조항 별로 구분하여 정리"
   ]
  },
  {
   "cell_type": "code",
   "id": "f682ee4a",
   "metadata": {
    "ExecuteTime": {
     "end_time": "2025-06-30T05:46:07.397454Z",
     "start_time": "2025-06-30T05:46:07.184573Z"
    }
   },
   "source": [
    "from langchain_community.document_loaders import PyPDFLoader\n",
    "pdf_file=pdf_files[1]\n",
    "# pdf_file = 'data/근로기준법(법률)(제18176호)(20211119).pdf'\n",
    "\n",
    "loader = PyPDFLoader(pdf_file)\n",
    "pages = loader.load()\n",
    "\n",
    "len(pages)"
   ],
   "outputs": [
    {
     "data": {
      "text/plain": [
       "20"
      ]
     },
     "execution_count": 12,
     "metadata": {},
     "output_type": "execute_result"
    }
   ],
   "execution_count": 12
  },
  {
   "cell_type": "code",
   "id": "f8ad1cac",
   "metadata": {
    "ExecuteTime": {
     "end_time": "2025-06-30T05:46:11.550025Z",
     "start_time": "2025-06-30T05:46:11.542419Z"
    }
   },
   "source": [
    "pages[0].page_content"
   ],
   "outputs": [
    {
     "data": {
      "text/plain": [
       "'법제처                                                            1                                                       국가법령정보센터\\n근로기준법 \\n \\n근로기준법 \\n[시행 2021. 11. 19.] [법률 제18176호, 2021. 5. 18., 일부개정] \\n고용노동부 (근로기준정책과 - 해고, 취업규칙, 기타) 044-202-7534 \\n고용노동부 (근로기준정책과 - 소년) 044-202-7535 \\n고용노동부 (근로기준정책과 - 임금) 044-202-7548 \\n고용노동부 (여성고용정책과 - 여성) 044-202-7475 \\n고용노동부 (임금근로시간정책과 - 근로시간, 휴게) 044-202-7545 \\n고용노동부 (임금근로시간정책과 - 휴일, 연차휴가) 044-202-7973 \\n고용노동부 (임금근로시간정책과 - 제63조 적용제외, 특례업종) 044-202-7530 \\n고용노동부 (임금근로시간정책과 - 유연근로시간제) 044-202-7549 \\n       제1장 총칙\\n \\n제1조(목적) 이 법은 헌법에 따라 근로조건의 기준을 정함으로써 근로자의 기본적 생활을 보장, 향상시키며 균형 있는\\n국민경제의 발전을 꾀하는 것을 목적으로 한다.\\n \\n제2조(정의) ① 이 법에서 사용하는 용어의 뜻은 다음과 같다. <개정 2018. 3. 20., 2019. 1. 15., 2020. 5. 26.>\\n1. “근로자”란 직업의 종류와 관계없이 임금을 목적으로 사업이나 사업장에 근로를 제공하는 사람을 말한다.\\n2. “사용자”란 사업주 또는 사업 경영 담당자, 그 밖에 근로자에 관한 사항에 대하여 사업주를 위하여 행위하는 자를\\n말한다. \\n3. “근로”란 정신노동과 육체노동을 말한다.\\n4. “근로계약”이란 근로자가 사용자에게 근로를 제공하고 사용자는 이에 대하여 임금을 지급하는 것을 목적으로 체\\n결된 계약을 말한다. \\n5. “임금”이란 사용자가 근로의 대가로 근로자에게 임금, 봉급, 그 밖에 어떠한 명칭으로든지 지급하는 모든 금품을\\n말한다. \\n6. “평균임금”이란 이를 산정하여야 할 사유가 발생한 날 이전 3개월 동안에 그 근로자에게 지급된 임금의 총액을\\n그 기간의 총일수로 나눈 금액을 말한다. 근로자가 취업한 후 3개월 미만인 경우도 이에 준한다. \\n7. “1주”란 휴일을 포함한 7일을 말한다.\\n8. “소정(所定)근로시간”이란 제50조, 제69조 본문 또는 「산업안전보건법」 제139조제1항에 따른 근로시간의 범위에\\n서 근로자와 사용자 사이에 정한 근로시간을 말한다. \\n9. “단시간근로자”란 1주 동안의 소정근로시간이 그 사업장에서 같은 종류의 업무에 종사하는 통상 근로자의 1주\\n동안의 소정근로시간에 비하여 짧은 근로자를 말한다. \\n② 제1항제6호에 따라 산출된 금액이 그 근로자의 통상임금보다 적으면 그 통상임금액을 평균임금으로 한다.\\n \\n제3조(근로조건의 기준) 이 법에서 정하는 근로조건은 최저기준이므로 근로 관계 당사자는 이 기준을 이유로 근로조건\\n을 낮출 수 없다.\\n \\n제4조(근로조건의 결정) 근로조건은 근로자와 사용자가 동등한 지위에서 자유의사에 따라 결정하여야 한다.\\n \\n제5조(근로조건의 준수) 근로자와 사용자는 각자가 단체협약, 취업규칙과 근로계약을 지키고 성실하게 이행할 의무가\\n있다.\\n \\n제6조(균등한 처우) 사용자는 근로자에 대하여 남녀의 성(性)을 이유로 차별적 대우를 하지 못하고, 국적ㆍ신앙 또는 사\\n회적 신분을 이유로 근로조건에 대한 차별적 처우를 하지 못한다.\\n \\n제7조(강제 근로의 금지) 사용자는 폭행, 협박, 감금, 그 밖에 정신상 또는 신체상의 자유를 부당하게 구속하는 수단으로\\n써 근로자의 자유의사에 어긋나는 근로를 강요하지 못한다.'"
      ]
     },
     "execution_count": 13,
     "metadata": {},
     "output_type": "execute_result"
    }
   ],
   "execution_count": 13
  },
  {
   "cell_type": "code",
   "id": "da037524",
   "metadata": {},
   "source": [
    "# 각 페이지의 텍스트를 결합하여 재분리\n",
    "text_for_delete = r\"법제처\\s+\\d+\\s+국가법령정보센터\\n근로기준법\"\n",
    "\n",
    "law_text = \"\\n\".join([re.sub(text_for_delete, \"\", p.page_content).strip() for p in pages])\n",
    "\n",
    "parsed_law = parse_law(law_text)\n",
    "\n",
    "# 분할된 아이템 갯수 확인\n",
    "print(len(parsed_law[\"장\"]))"
   ],
   "outputs": [],
   "execution_count": null
  },
  {
   "cell_type": "code",
   "id": "e30ae994",
   "metadata": {},
   "source": [
    "parsed_law"
   ],
   "outputs": [],
   "execution_count": null
  },
  {
   "cell_type": "markdown",
   "id": "f9b4e0a5",
   "metadata": {},
   "source": [
    "- 랭체인 Document 객체에 메타데이터와 함께 정리"
   ]
  },
  {
   "cell_type": "code",
   "id": "04b9c973",
   "metadata": {
    "ExecuteTime": {
     "end_time": "2025-06-30T05:46:18.652900Z",
     "start_time": "2025-06-30T05:46:18.636193Z"
    }
   },
   "source": [
    "from langchain_core.documents import Document\n",
    "\n",
    "final_docs = []\n",
    "for law in parsed_law['장'].keys():\n",
    "    for article in parsed_law['장'][law]:\n",
    "\n",
    "        # metadata 내용을 정리 \n",
    "        metadata = {\n",
    "                \"source\": pdf_file,\n",
    "                \"chapter\": law,\n",
    "                \"name\" : \"근로기준법\"\n",
    "                }\n",
    "\n",
    "        # metadata 내용을 본문에 추가 \n",
    "        content = f\"[법률정보]\\n다음 조항은 {metadata['name']} {metadata['chapter']}에서 발췌한 내용입니다.\\n\\n[법률조항]\\n{article}\"\n",
    "\n",
    "        final_docs.append(Document(page_content=content, metadata=metadata))\n",
    "        \n",
    "len(final_docs)"
   ],
   "outputs": [
    {
     "data": {
      "text/plain": [
       "109"
      ]
     },
     "execution_count": 14,
     "metadata": {},
     "output_type": "execute_result"
    }
   ],
   "execution_count": 14
  },
  {
   "cell_type": "code",
   "id": "ce58308b",
   "metadata": {
    "ExecuteTime": {
     "end_time": "2025-06-30T05:46:22.124895Z",
     "start_time": "2025-06-30T05:46:22.118270Z"
    }
   },
   "source": [
    "print(final_docs[0].page_content)\n",
    "print()\n",
    "print(final_docs[0].metadata)"
   ],
   "outputs": [
    {
     "name": "stdout",
     "output_type": "stream",
     "text": [
      "[법률정보]\n",
      "다음 조항은 근로기준법 제1장 총칙에서 발췌한 내용입니다.\n",
      "\n",
      "[법률조항]\n",
      "제1조(목적) 이 법은 개인정보의 처리 및 보호에 관한 사항을 정함으로써 개인의 자유와 권리를 보호하고, 나아가 개인\n",
      "의 존엄과 가치를 구현함을 목적으로 한다. <개정 2014. 3. 24.>\n",
      "\n",
      "{'source': 'data\\\\근로기준법(법률)(제18176호)(20211119).pdf', 'chapter': '제1장 총칙', 'name': '근로기준법'}\n"
     ]
    }
   ],
   "execution_count": 15
  },
  {
   "cell_type": "code",
   "id": "c1df1182",
   "metadata": {},
   "source": [
    "print(final_docs[-1].page_content)\n",
    "print()\n",
    "print(final_docs[-1].metadata)"
   ],
   "outputs": [],
   "execution_count": null
  },
  {
   "cell_type": "markdown",
   "id": "b9413999",
   "metadata": {},
   "source": [
    "- 벡터저장소에 인덱싱"
   ]
  },
  {
   "cell_type": "code",
   "id": "e53318fc",
   "metadata": {
    "ExecuteTime": {
     "end_time": "2025-06-30T05:46:25.374840Z",
     "start_time": "2025-06-30T05:46:25.368522Z"
    }
   },
   "source": [
    "# 각 문서의 텍스트 길이를 확인\n",
    "\n",
    "text_lengths = [len(d.page_content) for d in final_docs]\n",
    "print(min(text_lengths), max(text_lengths))"
   ],
   "outputs": [
    {
     "name": "stdout",
     "output_type": "stream",
     "text": [
      "121 2849\n"
     ]
    }
   ],
   "execution_count": 16
  },
  {
   "cell_type": "code",
   "id": "167518a3",
   "metadata": {
    "ExecuteTime": {
     "end_time": "2025-06-30T05:46:32.074426Z",
     "start_time": "2025-06-30T05:46:27.225237Z"
    }
   },
   "source": [
    "from langchain_chroma import Chroma\n",
    "from langchain_ollama  import OllamaEmbeddings\n",
    "\n",
    "embeddings_model = OllamaEmbeddings(model=\"bge-m3\") \n",
    "\n",
    "# Chroma 인덱스 생성\n",
    "labor_db = Chroma.from_documents(\n",
    "    documents=final_docs, \n",
    "    embedding=embeddings_model,   \n",
    "    collection_name=\"labor_law\",\n",
    "    persist_directory=\"./chroma_db\",\n",
    ")"
   ],
   "outputs": [
    {
     "name": "stderr",
     "output_type": "stream",
     "text": [
      "Failed to send telemetry event ClientStartEvent: capture() takes 1 positional argument but 3 were given\n",
      "Failed to send telemetry event ClientCreateCollectionEvent: capture() takes 1 positional argument but 3 were given\n"
     ]
    }
   ],
   "execution_count": 17
  },
  {
   "cell_type": "markdown",
   "id": "64f5af46",
   "metadata": {},
   "source": [
    "###  2-3. 주택임대차보호법"
   ]
  },
  {
   "cell_type": "markdown",
   "id": "5888c5dc",
   "metadata": {},
   "source": [
    "- PDf 문서를 가져와서 조항 별로 구분하여 정리"
   ]
  },
  {
   "cell_type": "code",
   "id": "25bf9968",
   "metadata": {
    "ExecuteTime": {
     "end_time": "2025-06-30T05:46:37.451482Z",
     "start_time": "2025-06-30T05:46:37.375660Z"
    }
   },
   "source": [
    "from langchain_community.document_loaders import PyPDFLoader\n",
    "pdf_file = pdf_files[2]\n",
    "# pdf_file = 'data/주택임대차보호법(법률)(제19356호)(20230719).pdf'\n",
    "\n",
    "loader = PyPDFLoader(pdf_file)\n",
    "pages = loader.load()\n",
    "\n",
    "len(pages)"
   ],
   "outputs": [
    {
     "data": {
      "text/plain": [
       "10"
      ]
     },
     "execution_count": 18,
     "metadata": {},
     "output_type": "execute_result"
    }
   ],
   "execution_count": 18
  },
  {
   "cell_type": "code",
   "id": "01cd01f6",
   "metadata": {
    "ExecuteTime": {
     "end_time": "2025-06-30T05:46:40.882323Z",
     "start_time": "2025-06-30T05:46:40.872644Z"
    }
   },
   "source": [
    "# 파싱 함수를 수정 (장이 없이 조문으로만 구성된 경우)\n",
    "def parse_law_v2(law_text):\n",
    "    # 서문 분리\n",
    "    preamble_pattern = r'^(.*?)(?=제1장|제1조)'\n",
    "    preamble = re.search(preamble_pattern, law_text, re.DOTALL)\n",
    "    if preamble:\n",
    "        preamble = preamble.group(1).strip()\n",
    "    \n",
    "    # 장 분리 \n",
    "    chapter_pattern = r'(제\\d+장\\s+.+?)\\n((?:제\\d+조(?:의\\d+)?(?:\\(\\w+\\))?.*?)(?=제\\d+장|부칙|$))'\n",
    "    chapters = re.findall(chapter_pattern, law_text, re.DOTALL)\n",
    "    \n",
    "    # 부칙 분리\n",
    "    appendix_pattern = r'(부칙.*)'\n",
    "    appendix = re.search(appendix_pattern, law_text, re.DOTALL)\n",
    "    if appendix:\n",
    "        appendix = appendix.group(1)\n",
    "    \n",
    "    parsed_law = {'서문': preamble, '부칙': appendix}\n",
    "    \n",
    "    # 조 분리 패턴\n",
    "    article_pattern = r'(제\\d+조(?:의\\d+)?\\s*\\([^)]+\\).*?)(?=제\\d+조(?:의\\d+)?\\s*\\([^)]+\\)|$)'\n",
    "    \n",
    "    if chapters:  # 장이 있는 경우\n",
    "        parsed_law['장'] = {}\n",
    "        for chapter_title, chapter_content in chapters:\n",
    "            articles = re.findall(article_pattern, chapter_content, re.DOTALL)\n",
    "            parsed_law['장'][chapter_title.strip()] = [article.strip() for article in articles]\n",
    "    else:  # 장이 없는 경우\n",
    "        # 서문과 부칙을 제외한 본문에서 조문 추출\n",
    "        main_text = re.sub(preamble_pattern, '', law_text, flags=re.DOTALL)\n",
    "        main_text = re.sub(appendix_pattern, '', main_text, flags=re.DOTALL)\n",
    "        articles = re.findall(article_pattern, main_text, re.DOTALL)\n",
    "        parsed_law['조문'] = [article.strip() for article in articles]\n",
    "    \n",
    "    return parsed_law"
   ],
   "outputs": [],
   "execution_count": 21
  },
  {
   "cell_type": "code",
   "id": "6ccc3e1d",
   "metadata": {
    "ExecuteTime": {
     "end_time": "2025-06-30T05:46:43.728642Z",
     "start_time": "2025-06-30T05:46:43.721612Z"
    }
   },
   "source": [
    "# 각 페이지의 텍스트를 결합하여 재분리\n",
    "text_for_delete = r\"법제처\\s+\\d+\\s+국가법령정보센터\\n주택임대차보호법\"\n",
    "\n",
    "law_text = \"\\n\".join([re.sub(text_for_delete, \"\", p.page_content).strip() for p in pages])\n",
    "\n",
    "parsed_law = parse_law_v2(law_text)\n",
    "\n",
    "# 분할된 아이템 갯수 확인\n",
    "print(len(parsed_law[\"조문\"]))"
   ],
   "outputs": [
    {
     "name": "stdout",
     "output_type": "stream",
     "text": [
      "41\n"
     ]
    }
   ],
   "execution_count": 22
  },
  {
   "cell_type": "code",
   "id": "00aa83b5",
   "metadata": {},
   "source": [
    "parsed_law"
   ],
   "outputs": [],
   "execution_count": null
  },
  {
   "cell_type": "markdown",
   "id": "bb29aff7",
   "metadata": {},
   "source": [
    "- 랭체인 Document 객체에 메타데이터와 함께 정리"
   ]
  },
  {
   "cell_type": "code",
   "id": "a42ec9d9",
   "metadata": {
    "ExecuteTime": {
     "end_time": "2025-06-30T05:46:46.731530Z",
     "start_time": "2025-06-30T05:46:46.724885Z"
    }
   },
   "source": [
    "from langchain_core.documents import Document\n",
    "\n",
    "final_docs = []\n",
    "for article in parsed_law['조문']:\n",
    "\n",
    "    # metadata 내용을 정리 \n",
    "    metadata = {\n",
    "            \"source\": pdf_file,\n",
    "            \"name\" : \"주택임대차보호법\"\n",
    "            }\n",
    "\n",
    "    # metadata 내용을 본문에 추가 \n",
    "    content = f\"[법률정보]\\n다음 조항은 {metadata['name']}에서 발췌한 내용입니다.\\n\\n[법률조항]\\n{article}\"\n",
    "\n",
    "    final_docs.append(Document(page_content=content, metadata=metadata))\n",
    "\n",
    "        \n",
    "len(final_docs)"
   ],
   "outputs": [
    {
     "data": {
      "text/plain": [
       "41"
      ]
     },
     "execution_count": 23,
     "metadata": {},
     "output_type": "execute_result"
    }
   ],
   "execution_count": 23
  },
  {
   "cell_type": "code",
   "id": "fb21b32c",
   "metadata": {},
   "source": [
    "print(final_docs[0].page_content)\n",
    "print()\n",
    "print(final_docs[0].metadata)"
   ],
   "outputs": [],
   "execution_count": null
  },
  {
   "cell_type": "code",
   "id": "bd4d7885",
   "metadata": {},
   "source": [
    "print(final_docs[-1].page_content)\n",
    "print()\n",
    "print(final_docs[-1].metadata)"
   ],
   "outputs": [],
   "execution_count": null
  },
  {
   "cell_type": "markdown",
   "id": "3d157bc6",
   "metadata": {},
   "source": [
    "- 벡터저장소에 인덱싱"
   ]
  },
  {
   "cell_type": "code",
   "id": "d9819783",
   "metadata": {
    "ExecuteTime": {
     "end_time": "2025-06-30T05:46:50.869138Z",
     "start_time": "2025-06-30T05:46:50.855446Z"
    }
   },
   "source": [
    "# 각 문서의 텍스트 길이를 확인\n",
    "\n",
    "text_lengths = [len(d.page_content) for d in final_docs]\n",
    "print(min(text_lengths), max(text_lengths))"
   ],
   "outputs": [
    {
     "name": "stdout",
     "output_type": "stream",
     "text": [
      "123 1879\n"
     ]
    }
   ],
   "execution_count": 24
  },
  {
   "cell_type": "code",
   "id": "25ce4f3d",
   "metadata": {
    "ExecuteTime": {
     "end_time": "2025-06-30T05:46:55.312781Z",
     "start_time": "2025-06-30T05:46:53.031032Z"
    }
   },
   "source": [
    "from langchain_chroma import Chroma\n",
    "from langchain_ollama  import OllamaEmbeddings\n",
    "\n",
    "embeddings_model = OllamaEmbeddings(model=\"bge-m3\") \n",
    "\n",
    "# Chroma 인덱스 생성\n",
    "housing_db = Chroma.from_documents(\n",
    "    documents=final_docs, \n",
    "    embedding=embeddings_model,   \n",
    "    collection_name=\"housing_law\",\n",
    "    persist_directory=\"./chroma_db\",\n",
    ")"
   ],
   "outputs": [
    {
     "name": "stderr",
     "output_type": "stream",
     "text": [
      "Failed to send telemetry event ClientStartEvent: capture() takes 1 positional argument but 3 were given\n",
      "Failed to send telemetry event ClientCreateCollectionEvent: capture() takes 1 positional argument but 3 were given\n"
     ]
    }
   ],
   "execution_count": 25
  },
  {
   "metadata": {},
   "cell_type": "markdown",
   "source": "## Vector DB 로딩\n",
   "id": "972d6092ad7ade59"
  },
  {
   "metadata": {
    "ExecuteTime": {
     "end_time": "2025-06-30T05:46:59.407242Z",
     "start_time": "2025-06-30T05:46:59.356621Z"
    }
   },
   "cell_type": "code",
   "source": [
    "from langchain_chroma import Chroma\n",
    "from langchain_ollama  import OllamaEmbeddings\n",
    "embeddings_model = OllamaEmbeddings(model=\"bge-m3\") \n",
    "# personal_db 검색 \n",
    "personal_db = Chroma(\n",
    "    embedding_function=embeddings_model,   \n",
    "    collection_name=\"personal_law\",\n",
    "    persist_directory=\"./chroma_db\",\n",
    ")\n",
    "# labor_db 검색 \n",
    "labor_db = Chroma(\n",
    "    embedding_function=embeddings_model,   \n",
    "    collection_name=\"labor_law\",\n",
    "    persist_directory=\"./chroma_db\",\n",
    ")\n",
    "# labor_db 검색 \n",
    "housing_db = Chroma(\n",
    "    embedding_function=embeddings_model,   \n",
    "    collection_name=\"housing_law\",\n",
    "    persist_directory=\"./chroma_db\",\n",
    ")"
   ],
   "id": "84474f10fb8de9b6",
   "outputs": [
    {
     "name": "stderr",
     "output_type": "stream",
     "text": [
      "Failed to send telemetry event ClientStartEvent: capture() takes 1 positional argument but 3 were given\n",
      "Failed to send telemetry event ClientCreateCollectionEvent: capture() takes 1 positional argument but 3 were given\n",
      "Failed to send telemetry event ClientStartEvent: capture() takes 1 positional argument but 3 were given\n",
      "Failed to send telemetry event ClientCreateCollectionEvent: capture() takes 1 positional argument but 3 were given\n",
      "Failed to send telemetry event ClientStartEvent: capture() takes 1 positional argument but 3 were given\n",
      "Failed to send telemetry event ClientCreateCollectionEvent: capture() takes 1 positional argument but 3 were given\n"
     ]
    }
   ],
   "execution_count": 26
  },
  {
   "cell_type": "markdown",
   "id": "e493a788",
   "metadata": {},
   "source": [
    "# 3. 도구 호출"
   ]
  },
  {
   "cell_type": "markdown",
   "id": "b523b0bc",
   "metadata": {},
   "source": [
    "### 3-1. 법률 정보 검색 도구, 웹 검색 도구 정의"
   ]
  },
  {
   "cell_type": "code",
   "id": "6fa4307b",
   "metadata": {
    "ExecuteTime": {
     "end_time": "2025-06-30T05:48:28.162527Z",
     "start_time": "2025-06-30T05:47:38.999924Z"
    }
   },
   "source": [
    "from langchain_chroma import Chroma\n",
    "from langchain_ollama  import OllamaEmbeddings\n",
    "from langchain_core.documents import Document\n",
    "\n",
    "from langchain.retrievers import ContextualCompressionRetriever\n",
    "from langchain.retrievers.document_compressors import CrossEncoderReranker\n",
    "from langchain_community.cross_encoders import HuggingFaceCrossEncoder\n",
    "from langchain_community.retrievers import TavilySearchAPIRetriever\n",
    "from langchain_core.tools import tool\n",
    "from typing import List\n",
    "\n",
    "# 문서 임베딩 모델\n",
    "embeddings_model = OllamaEmbeddings(model=\"bge-m3\") \n",
    "\n",
    "# Re-rank 모델\n",
    "rerank_model = HuggingFaceCrossEncoder(model_name=\"BAAI/bge-reranker-v2-m3\")\n",
    "cross_reranker = CrossEncoderReranker(model=rerank_model, top_n=2)\n",
    "\n",
    "# # 개인정보보호법 검색 \n",
    "personal_db = Chroma(\n",
    "    embedding_function=embeddings_model,   \n",
    "    collection_name=\"personal_law\",\n",
    "    persist_directory=\"./chroma_db\",\n",
    ")\n",
    "\n",
    "personal_db_retriever = ContextualCompressionRetriever(\n",
    "    base_compressor=cross_reranker, \n",
    "    base_retriever=personal_db.as_retriever(search_kwargs={\"k\":2}),\n",
    ")\n",
    "\n",
    "@tool\n",
    "def personal_law_search(query: str) -> List[Document]:\n",
    "    \"\"\"개인정보보호법 법률 조항을 검색합니다.\"\"\"\n",
    "    docs = personal_db_retriever.invoke(query)\n",
    "\n",
    "    if len(docs) > 0:\n",
    "        return docs\n",
    "    \n",
    "    return [Document(page_content=\"관련 정보를 찾을 수 없습니다.\")]\n",
    "\n",
    "\n",
    "# 근로기준법 검색 \n",
    "labor_db = Chroma(\n",
    "    embedding_function=embeddings_model,   \n",
    "    collection_name=\"labor_law\",\n",
    "    persist_directory=\"./chroma_db\",\n",
    ")\n",
    "\n",
    "labor_db_retriever = ContextualCompressionRetriever(\n",
    "    base_compressor=cross_reranker, \n",
    "    base_retriever=labor_db.as_retriever(search_kwargs={\"k\":2}),\n",
    ")\n",
    "\n",
    "\n",
    "@tool\n",
    "def labor_law_search(query: str) -> List[Document]:\n",
    "    \"\"\"근로기준법 법률 조항을 검색합니다.\"\"\"\n",
    "    docs = labor_db_retriever.invoke(query)\n",
    "\n",
    "    if len(docs) > 0:\n",
    "        return docs\n",
    "    \n",
    "    return [Document(page_content=\"관련 정보를 찾을 수 없습니다.\")]\n",
    "\n",
    "\n",
    "# 주택임대차보호법 검색 \n",
    "housing_db = Chroma(\n",
    "    embedding_function=embeddings_model,   \n",
    "    collection_name=\"housing_law\",\n",
    "    persist_directory=\"./chroma_db\",\n",
    ")\n",
    "\n",
    "housing_db_retriever = ContextualCompressionRetriever(\n",
    "    base_compressor=cross_reranker, \n",
    "    base_retriever=housing_db.as_retriever(search_kwargs={\"k\":2}),\n",
    ")\n",
    "\n",
    "\n",
    "\n",
    "@tool\n",
    "def housing_law_search(query: str) -> List[Document]:\n",
    "    \"\"\"주택임대차보호법 법률 조항을 검색합니다.\"\"\"\n",
    "    docs = housing_db_retriever.invoke(query)\n",
    "\n",
    "    if len(docs) > 0:\n",
    "        return docs\n",
    "    \n",
    "    return [Document(page_content=\"관련 정보를 찾을 수 없습니다.\")]\n",
    "\n",
    "\n",
    "\n",
    "# 웹 검색\n",
    "web_retriever = ContextualCompressionRetriever(\n",
    "    base_compressor=cross_reranker, \n",
    "    base_retriever=TavilySearchAPIRetriever(k=10),\n",
    ")\n",
    "\n",
    "@tool\n",
    "def web_search(query: str) -> List[str]:\n",
    "    \"\"\"데이터베이스에 없는 정보 또는 최신 정보를 웹에서 검색합니다.\"\"\"\n",
    "\n",
    "    docs = web_retriever.invoke(query)\n",
    "\n",
    "    formatted_docs = []\n",
    "    for doc in docs:\n",
    "        formatted_docs.append(\n",
    "            Document(\n",
    "                page_content= f'<Document href=\"{doc.metadata[\"source\"]}\"/>\\n{doc.page_content}\\n</Document>',\n",
    "                metadata={\"source\": \"web search\", \"url\": doc.metadata[\"source\"]}\n",
    "            )\n",
    "        )\n",
    "\n",
    "    if len(formatted_docs) > 0:\n",
    "        return formatted_docs\n",
    "    \n",
    "    return [Document(page_content=\"관련 정보를 찾을 수 없습니다.\")]"
   ],
   "outputs": [
    {
     "name": "stderr",
     "output_type": "stream",
     "text": [
      "Failed to send telemetry event ClientStartEvent: capture() takes 1 positional argument but 3 were given\n",
      "Failed to send telemetry event ClientCreateCollectionEvent: capture() takes 1 positional argument but 3 were given\n",
      "Failed to send telemetry event ClientStartEvent: capture() takes 1 positional argument but 3 were given\n",
      "Failed to send telemetry event ClientCreateCollectionEvent: capture() takes 1 positional argument but 3 were given\n",
      "Failed to send telemetry event ClientStartEvent: capture() takes 1 positional argument but 3 were given\n",
      "Failed to send telemetry event ClientCreateCollectionEvent: capture() takes 1 positional argument but 3 were given\n"
     ]
    }
   ],
   "execution_count": 27
  },
  {
   "cell_type": "code",
   "id": "6649ec80",
   "metadata": {
    "ExecuteTime": {
     "end_time": "2025-06-30T05:49:10.066114Z",
     "start_time": "2025-06-30T05:49:10.052736Z"
    }
   },
   "source": [
    "# 도구 목록을 정의 \n",
    "tools = [personal_law_search, labor_law_search, housing_law_search, web_search]"
   ],
   "outputs": [],
   "execution_count": 28
  },
  {
   "cell_type": "markdown",
   "id": "eef7f7a4",
   "metadata": {},
   "source": [
    "### 3-2. LLM 모델"
   ]
  },
  {
   "cell_type": "code",
   "id": "c96e2202",
   "metadata": {
    "ExecuteTime": {
     "end_time": "2025-06-30T05:49:14.890096Z",
     "start_time": "2025-06-30T05:49:11.989353Z"
    }
   },
   "source": [
    "from langchain_openai import ChatOpenAI\n",
    "# # 기본 LLM\n",
    "# llm = ChatOpenAI(model=\"gpt-4o-mini\", temperature=0, streaming=True)\n",
    "\n",
    "import os\n",
    "\n",
    "os.environ[\"OPENAI_API_VERSION\"] = os.getenv('AZURE_OPENAI_VERSION')\n",
    "os.environ[\"AZURE_OPENAI_ENDPOINT\"] = os.getenv('AZURE_OPENAI_END_POINT')\n",
    "os.environ[\"AZURE_OPENAI_API_KEY\"] = os.getenv('AZURE_OPENAI_KEY')\n",
    "\n",
    "from langchain_openai import AzureChatOpenAI\n",
    "\n",
    "llm = AzureChatOpenAI(\n",
    "    azure_deployment=os.getenv('DEPLOYMENT_NAME'),  # or your deployment\n",
    "    api_version=os.getenv('AZURE_OPENAI_VERSION'),  # or your api version\n",
    "    temperature=0,\n",
    "    # stream=True,\n",
    "    # max_tokens=40000,\n",
    "    # timeout=None,\n",
    "    # max_retries=2,\n",
    "    # other params...\n",
    ")\n",
    "\n",
    "# from langchain_anthropic import ChatAnthropic\n",
    "# \n",
    "# # claude 모델 로드 \n",
    "# llm = ChatAnthropic(\n",
    "#     # model=\"claude-3-5-sonnet-20241022\",\n",
    "#     model=\"claude-3-7-sonnet-20250219\",\n",
    "#     temperature=0,\n",
    "#     # max_tokens=200, \n",
    "#     api_key=os.getenv('ANTHROPIC_API_KEY'),\n",
    "#     streaming=True,\n",
    "# )\n",
    "\n",
    "\n",
    "# LLM에 도구 바인딩하여 추가 \n",
    "llm_with_tools = llm.bind_tools(tools)"
   ],
   "outputs": [],
   "execution_count": 29
  },
  {
   "cell_type": "code",
   "id": "7fabf018",
   "metadata": {
    "ExecuteTime": {
     "end_time": "2025-06-30T05:49:19.294479Z",
     "start_time": "2025-06-30T05:49:18.256661Z"
    }
   },
   "source": [
    "# 근로기준법과 관련된 질문을 하는 경우 -> 근로기준법 검색 도구를 호출  \n",
    "query = \"연차휴가 부여 기준에 대해서 설명해주세요.\"\n",
    "ai_msg = llm_with_tools.invoke(query)\n",
    "\n",
    "# pprint(ai_msg)\n",
    "# print(\"-\" * 100)\n",
    "# \n",
    "# pprint(ai_msg.content)\n",
    "# print(\"-\" * 100)\n",
    "# \n",
    "# pprint(ai_msg.tool_calls)\n",
    "# print(\"-\" * 100)"
   ],
   "outputs": [],
   "execution_count": 30
  },
  {
   "metadata": {
    "ExecuteTime": {
     "end_time": "2025-06-30T05:49:21.246390Z",
     "start_time": "2025-06-30T05:49:21.238973Z"
    }
   },
   "cell_type": "code",
   "source": [
    "pprint(ai_msg)\n",
    "print(\"-\" * 100)\n",
    "\n",
    "pprint(ai_msg.content)\n",
    "print(\"-\" * 100)\n",
    "\n",
    "pprint(ai_msg.tool_calls)\n",
    "print(\"-\" * 100)"
   ],
   "id": "ae037ca44556653c",
   "outputs": [
    {
     "name": "stdout",
     "output_type": "stream",
     "text": [
      "AIMessage(content='', additional_kwargs={'tool_calls': [{'id': 'call_jz74fRWntIpy8OihGIXo32tm', 'function': {'arguments': '{\"query\":\"연차휴가 부여 기준\"}', 'name': 'labor_law_search'}, 'type': 'function'}], 'refusal': None}, response_metadata={'token_usage': {'completion_tokens': 24, 'prompt_tokens': 152, 'total_tokens': 176, 'completion_tokens_details': {'accepted_prediction_tokens': 0, 'audio_tokens': 0, 'reasoning_tokens': 0, 'rejected_prediction_tokens': 0}, 'prompt_tokens_details': {'audio_tokens': 0, 'cached_tokens': 0}}, 'model_name': 'gpt-4o-2024-08-06', 'system_fingerprint': 'fp_ee1d74bde0', 'id': 'chatcmpl-Bo1gEDjMS6jlCFDcKvS269YG6Ynve', 'service_tier': None, 'prompt_filter_results': [{'prompt_index': 0, 'content_filter_results': {'hate': {'filtered': False, 'severity': 'safe'}, 'self_harm': {'filtered': False, 'severity': 'safe'}, 'sexual': {'filtered': False, 'severity': 'safe'}, 'violence': {'filtered': False, 'severity': 'safe'}}}], 'finish_reason': 'tool_calls', 'logprobs': None, 'content_filter_results': {}}, id='run--b893c634-9fd3-48d6-b20b-aae704948237-0', tool_calls=[{'name': 'labor_law_search', 'args': {'query': '연차휴가 부여 기준'}, 'id': 'call_jz74fRWntIpy8OihGIXo32tm', 'type': 'tool_call'}], usage_metadata={'input_tokens': 152, 'output_tokens': 24, 'total_tokens': 176, 'input_token_details': {'audio': 0, 'cache_read': 0}, 'output_token_details': {'audio': 0, 'reasoning': 0}})\n",
      "----------------------------------------------------------------------------------------------------\n",
      "''\n",
      "----------------------------------------------------------------------------------------------------\n",
      "[{'args': {'query': '연차휴가 부여 기준'},\n",
      "  'id': 'call_jz74fRWntIpy8OihGIXo32tm',\n",
      "  'name': 'labor_law_search',\n",
      "  'type': 'tool_call'}]\n",
      "----------------------------------------------------------------------------------------------------\n"
     ]
    }
   ],
   "execution_count": 31
  },
  {
   "cell_type": "code",
   "id": "689eddc9",
   "metadata": {},
   "source": [
    "# 도구들의 목적과 관련 없는 질문을 하는 경우 -> 도구 호출 없이 그대로 답변을 생성 \n",
    "query = \"안녕하세요?\"\n",
    "ai_msg = llm_with_tools.invoke(query)\n",
    "\n",
    "pprint(ai_msg)\n",
    "print(\"-\" * 100)\n",
    "\n",
    "pprint(ai_msg.content)\n",
    "print(\"-\" * 100)\n",
    "\n",
    "pprint(ai_msg.tool_calls)\n",
    "print(\"-\" * 100)"
   ],
   "outputs": [],
   "execution_count": null
  },
  {
   "cell_type": "code",
   "id": "978d80b5",
   "metadata": {},
   "source": [
    "# 벡터 검색과 웹 검색이 모두 필요한 경우 \n",
    "query = \"연차휴가 부여 기준에 대해서 설명해주세요. 2023년 연차휴가 사용 비율은 어느 정도인가요?\"\n",
    "ai_msg = llm_with_tools.invoke(query)\n",
    "\n",
    "pprint(ai_msg)\n",
    "print(\"-\" * 100)\n",
    "\n",
    "pprint(ai_msg.content)\n",
    "print(\"-\" * 100)\n",
    "\n",
    "pprint(ai_msg.tool_calls)\n",
    "print(\"-\" * 100)"
   ],
   "outputs": [],
   "execution_count": null
  },
  {
   "cell_type": "code",
   "id": "e646df9a",
   "metadata": {},
   "source": [
    "# 벡터 검색과 웹 검색이 모두 필요한 경우 \n",
    "query = \"전월세 직거래 시에 유의사항은 무엇인가요?\"\n",
    "ai_msg = llm_with_tools.invoke(query)\n",
    "\n",
    "pprint(ai_msg)\n",
    "print(\"-\" * 100)\n",
    "\n",
    "pprint(ai_msg.content)\n",
    "print(\"-\" * 100)\n",
    "\n",
    "pprint(ai_msg.tool_calls)\n",
    "print(\"-\" * 100)"
   ],
   "outputs": [],
   "execution_count": null
  },
  {
   "cell_type": "markdown",
   "id": "d13353a2",
   "metadata": {},
   "source": [
    "# 4. Agent RAG 구현 "
   ]
  },
  {
   "cell_type": "markdown",
   "id": "351a0fa2",
   "metadata": {},
   "source": [
    "- 각 법률에 특화된 RAG 에이전트를 구현 \n",
    "- 질문 라우팅을 통해서 각 에이전트를 도구 형태로 사용 \n",
    "- 생성된 답변에 대한 피드백을 제공하는 에이전트 사용 \n",
    "- 필요한 경우 사람의 피드백을 요청 (답변이 애매한 경우 - 재검색 여부 판단)\n"
   ]
  },
  {
   "cell_type": "markdown",
   "id": "8dcb9f9c",
   "metadata": {},
   "source": [
    "### 4-1. 각 법률에 특화된 RAG 에이전트를 구현 \n",
    "- 검색된 문서의 관련성 등을 평가하여 질문 재작성 및 다시 검색 (Corrective RAG 적용)"
   ]
  },
  {
   "cell_type": "markdown",
   "id": "b4718a35",
   "metadata": {},
   "source": [
    "`(1) 개인정보보호법 검색 에이전트`"
   ]
  },
  {
   "cell_type": "code",
   "id": "d819597d",
   "metadata": {
    "ExecuteTime": {
     "end_time": "2025-06-30T05:49:29.573625Z",
     "start_time": "2025-06-30T05:49:29.564870Z"
    }
   },
   "source": [
    "from pydantic import BaseModel, Field\n",
    "from typing import List, TypedDict, Annotated, Optional\n",
    "from operator import add\n",
    "from langchain_core.documents import Document\n",
    "\n",
    "#  Corrective RAG 상태 관리 클래스\n",
    "class CorrectiveRagState(TypedDict):\n",
    "    question: str                 # 사용자의 질문\n",
    "    generation: str               # LLM 생성 답변\n",
    "    documents: List[Document]     # 컨텍스트 문서 (검색된 문서)\n",
    "    num_generations: int          # 질문 or 답변 생성 횟수 (무한 루프 방지에 활용)\n",
    "\n",
    "# 추출된 정보 조각과 평가 (관련성 및 충실성) 점수 관리 클래스\n",
    "class InformationStrip(BaseModel):\n",
    "    \"\"\"추출된 정보에 대한 내용과 출처, 관련성 점수\"\"\"\n",
    "    content: str = Field(..., description=\"추출된 정보 내용\")\n",
    "    source: str = Field(..., description=\"정보의 출처(법률 조항 또는 URL 등). 예시: 환경법 제22조 3항 or 블로그 환경법 개정 (https://blog.com/page/123)\")\n",
    "    relevance_score: float = Field(..., ge=0, le=1, description=\"추출된 정보 단위의 관련성 점수 (0에서 1 사이)\")\n",
    "    faithfulness_score: float = Field(..., ge=0, le=1, description=\"추출된 정보 단위의 충실성 점수 (0에서 1 사이)\")\n",
    "\n",
    "# 추출된 정보 조각 들의 리스트 와 종합 점수 관리 클래스\n",
    "class ExtractedInformation(BaseModel):\n",
    "    strips: List[InformationStrip] = Field(..., description=\"추출된 정보 조각 리스트 [InformationStrip]\")\n",
    "    query_relevance: float = Field(..., ge=0, le=1, description=\"질의에 대한 종합 답변 가능성 점수 (0에서 1 사이)\")\n",
    "\n",
    "# 개선 질문 및 이유 관리 클래스\n",
    "class RefinedQuestion(BaseModel):\n",
    "    \"\"\" llm이 개선한 질문과 이유\"\"\"\n",
    "    question_refined : str = Field(..., description=\"개선된 질문\")\n",
    "    reason : str = Field(..., description=\"이유\")\n",
    "\n",
    "# 개인정보보호법 검색 에이전드 상태 관리 클래스\n",
    "# CRAG 상태 관리 클래스 상속\n",
    "class PersonalRagState(CorrectiveRagState):\n",
    "    rewritten_query: str   # 재 작성한 질문 \n",
    "    extracted_info: Optional[ExtractedInformation]   # 추출된 정보 조각 \n",
    "    node_answer: Optional[str]"
   ],
   "outputs": [],
   "execution_count": 32
  },
  {
   "cell_type": "code",
   "id": "c980dc1c",
   "metadata": {
    "ExecuteTime": {
     "end_time": "2025-06-30T05:49:36.128649Z",
     "start_time": "2025-06-30T05:49:36.117231Z"
    }
   },
   "source": [
    "from langchain_core.prompts import ChatPromptTemplate\n",
    "from typing import Literal\n",
    "# 노드 정의\n",
    "\n",
    "# 문서 검색 하는 노드\n",
    "# in : 개인 정보 보호법 검색 AGENT 상태 관리 객체 \n",
    "# out: 개인 정보 보호법 검색 AGENT 상태 관리 객체   \n",
    "def retrieve_documents(state: PersonalRagState) -> PersonalRagState:\n",
    "    print(\"---문서 검색---\")\n",
    "    # 재 작성한 쿼리가 없다면, 사용자 입력 쿼리\n",
    "    query = state.get(\"rewritten_query\", state[\"question\"])\n",
    "    # 개인 정보 보호법 검색 객체로 문서 검색 수행.\n",
    "    docs = personal_law_search.invoke(query)\n",
    "    # 개인 정보 보호법 검색 에이전드 상태 관리 객체의 documents 상태를 검색된 문서 리스트로 업데이트 함 \n",
    "    return {\"documents\": docs}\n",
    "\n",
    "# 추출된 정보를 평가 하는 노드\n",
    "# in : 개인 정보 보호법 검색 AGENT 상태 관리 객체 \n",
    "# out: 개인 정보 보호법 검색 AGENT 상태 관리 객체 \n",
    "def extract_and_evaluate_information(state: PersonalRagState) -> PersonalRagState:\n",
    "    print(\"---정보 추출 및 평가---\")\n",
    "    # 우수한 정보 조각 보관 리스트\n",
    "    extracted_strips = []\n",
    "    # 개인 정보 보호법 검색 에이전드 상태 관리 객체의 문서 정보 에서 문서를 하나씩 읽음.\n",
    "    for doc in state[\"documents\"]:\n",
    "        # 문서의 정보 조각화 그리고 평가를 위한 LLM instruction\n",
    "        # input: question, document_content\n",
    "        # output: \"추출된 정보 조각 리스트 [InformationStrip]\" & \"질의에 대한 종합 답변 가능성 점수 (0에서 1 사이)\"\n",
    "        extract_prompt = ChatPromptTemplate.from_messages([\n",
    "            (\"system\", \"\"\"당신은 개인정보보호법 전문가입니다. 주어진 문서에서 질문과 관련된 주요 사실과 정보를 3~5개 정도 추출하세요. \n",
    "            각 추출된 정보에 대해 다음 두 가지 측면을 0에서 1 사이의 점수로 평가하세요:\n",
    "            1. 질문과의 관련성\n",
    "            2. 답변의 충실성 (질문에 대한 완전하고 정확한 답변을 제공할 수 있는 정도)\n",
    "            \n",
    "            추출 형식:\n",
    "            1. [추출된 정보]\n",
    "            - 관련성 점수: [0-1 사이의 점수]\n",
    "            - 충실성 점수: [0-1 사이의 점수]\n",
    "            2. [추출된 정보]\n",
    "            - 관련성 점수: [0-1 사이의 점수]\n",
    "            - 충실성 점수: [0-1 사이의 점수]\n",
    "            ...\n",
    "            \n",
    "            마지막으로, 추출된 정보를 종합하여 질문에 대한 전반적인 답변 가능성을 0에서 1 사이의 점수로 평가하세요.\"\"\"),\n",
    "            (\"human\", \"[질문]\\n{question}\\n\\n[문서 내용]\\n{document_content}\")\n",
    "        ])\n",
    "        # 체인 생성\n",
    "        extract_llm = llm.with_structured_output(ExtractedInformation)\n",
    "        # 체인 실행 \n",
    "        extracted_data = extract_llm.invoke(extract_prompt.format(\n",
    "            question=state[\"question\"],\n",
    "            document_content=doc.page_content\n",
    "        ))\n",
    "        # 만약, ExtractedInformation 종합 점수가 0.8 보다 낮으면 loop 계속\n",
    "        if extracted_data.query_relevance < 0.8:\n",
    "            continue\n",
    "        # 3~5 개의 정보 조각 종합 점수가 0.8 같거나 크고, 각 정보 조각별 연관, 충실성 점수 0.7 점 보다 같거나 크면,\n",
    "        # 우수한 정보 조각 리스트 보관\n",
    "        for strip in extracted_data.strips:\n",
    "            if strip.relevance_score > 0.7 and strip.faithfulness_score > 0.7:\n",
    "                extracted_strips.append(strip)\n",
    "    # 우수한 정보 조각들 & 평가 수행 횟수 UPDATE ON \"개인 정보 보호법 검색 AGENT 상태 관리 객체\"  \n",
    "    return {\n",
    "        \"extracted_info\": extracted_strips,\n",
    "        \"num_generations\": state.get(\"num_generations\", 0) + 1\n",
    "    }\n",
    "\n",
    "# 질문 개선 수행 노드\n",
    "# in : 개인 정보 보호법 검색 AGENT 상태 관리 객체 \n",
    "# out: 개인 정보 보호법 검색 AGENT 상태 관리 객체 \n",
    "def rewrite_query(state: PersonalRagState) -> PersonalRagState:\n",
    "    print(\"---쿼리 재작성---\")\n",
    "    # 원래 질문: 2-3개의 후보 쿼리와 이유를 생성 하고 가장 우수한 퀴리를 하나 선택 하는 LLM instruction\n",
    "    # input: 원래 질문: {question} 우수한 정보 조각:\\n{extracted_info}\n",
    "    # output: 개선 질문 및 이유\n",
    "    rewrite_prompt = ChatPromptTemplate.from_messages([\n",
    "        (\"system\", \"\"\"당신은 개인정보보호법 전문가입니다. 주어진 원래 질문과 추출된 정보를 바탕으로, 더 관련성 있고 충실한 정보를 찾기 위해 검색 쿼리를 개선해주세요.\n",
    "\n",
    "        다음 사항을 고려하여 검색 쿼리를 개선하세요:\n",
    "        1. 원래 질문의 핵심 요소\n",
    "        2. 추출된 정보의 관련성 점수\n",
    "        3. 추출된 정보의 충실성 점수\n",
    "        4. 부족한 정보나 더 자세히 알아야 할 부분\n",
    "\n",
    "        개선된 검색 쿼리 작성 단계:\n",
    "        1. 2-3개의 검색 쿼리를 제안하세요.\n",
    "        2. 각 쿼리는 구체적이고 간결해야 합니다(5-10 단어 사이).\n",
    "        3. 개인정보보호법과 관련된 전문 용어를 적절히 활용하세요.\n",
    "        4. 각 쿼리 뒤에는 해당 쿼리를 제안한 이유를 간단히 설명하세요.\n",
    "\n",
    "        출력 형식:\n",
    "        1. [개선된 검색 쿼리 1]\n",
    "        - 이유: [이 쿼리를 제안한 이유 설명]\n",
    "        2. [개선된 검색 쿼리 2]\n",
    "        - 이유: [이 쿼리를 제안한 이유 설명]\n",
    "        3. [개선된 검색 쿼리 3]\n",
    "        - 이유: [이 쿼리를 제안한 이유 설명]\n",
    "\n",
    "        마지막으로, 제안된 쿼리 중 가장 효과적일 것 같은 쿼리를 선택하고 그 이유를 설명하세요.\"\"\"),\n",
    "        (\"human\", \"원래 질문: {question}\\n\\n추출된 정보:\\n{extracted_info}\\n\\n위 지침에 따라 개선된 검색 쿼리를 작성해주세요.\")\n",
    "    ])\n",
    "    # 우수한 정보 조각 리스트 문자열 변환\n",
    "    extracted_info_str = \"\\n\".join([strip.content for strip in state[\"extracted_info\"]])\n",
    "    # 체인 생성, 출력 객체 RefinedQuestion\n",
    "    rewrite_llm = llm.with_structured_output(RefinedQuestion)\n",
    "    # 체인 실행\n",
    "    response = rewrite_llm.invoke(rewrite_prompt.format(\n",
    "        question=state[\"question\"],\n",
    "        extracted_info=extracted_info_str\n",
    "    ))\n",
    "    # 개선 질문 rewritten_query UPDATE ON \"개인 정보 보호법 검색 AGENT 상태 관리 객체\"  \n",
    "    return {\"rewritten_query\": response.question_refined}\n",
    "\n",
    "# 답변 생성 수행 노드\n",
    "# in : 개인 정보 보호법 검색 AGENT 상태 관리 객체 \n",
    "# out: 개인 정보 보호법 검색 AGENT 상태 관리 객체 \n",
    "def generate_node_answer(state: PersonalRagState) -> PersonalRagState:\n",
    "    print(\"---답변 생성---\")\n",
    "    # 원래 질문: 2-3개의 후보 쿼리와 이유를 생성 하고 가장 우수한 퀴리를 하나 선택 하는 LLM instruction\n",
    "    # input: 원래 질문: {question}, 우수한 정보 조각:\\n{extracted_info} \"내용: {strip.content} 출처: {strip.source} 관련성: {strip.relevance_score} 충실성: {strip.faithfulness_score}\n",
    "    # output: 답변 텍스트\n",
    "    answer_prompt = ChatPromptTemplate.from_messages([\n",
    "        (\"system\", \"\"\"당신은 개인정보보호법 전문가입니다. 주어진 질문과 추출된 정보를 바탕으로 답변을 생성해주세요. \n",
    "        답변은 마크다운 형식으로 작성하며, 각 정보의 출처를 명확히 표시해야 합니다. \n",
    "        답변 구조:\n",
    "        1. 질문에 대한 직접적인 답변\n",
    "        2. 관련 법률 조항 및 해석\n",
    "        3. 추가 설명 또는 예시 (필요한 경우)\n",
    "        4. 결론 및 요약\n",
    "        각 섹션에서 사용된 정보의 출처를 괄호 안에 명시하세요. 예: (출처: 개인정보 보호법 제15조)\"\"\"),\n",
    "        (\"human\", \"질문: {question}\\n\\n추출된 정보:\\n{extracted_info}\\n\\n위 지침에 따라 최종 답변을 작성해주세요.\")\n",
    "    ])\n",
    "    # 우수한 정보 조각 리스트 태그 추가 해서 문자열 변환\n",
    "    extracted_info_str = \"\\n\".join([f\"내용: {strip.content}\\n출처: {strip.source}\\n관련성: {strip.relevance_score}\\n충실성: {strip.faithfulness_score}\" for strip in state[\"extracted_info\"]])\n",
    "    # INVOKE 실행\n",
    "    node_answer = llm.invoke(answer_prompt.format(\n",
    "        question=state[\"question\"],\n",
    "        extracted_info=extracted_info_str\n",
    "    ))\n",
    "    # 응답 텍스트 node_answer UPDATE ON \"개인 정보 보호법 검색 AGENT 상태 관리 객체\"  \n",
    "    return {\"node_answer\": node_answer.content}\n",
    "\n",
    "# 조건부 분기 노드 정의\n",
    "# in : 개인 정보 보호법 검색 AGENT 상태 관리 객체 \n",
    "# out: Literal[\"계속\", \"종료\"]\n",
    "def should_continue(state: PersonalRagState) -> Literal[\"CONTINUE\", \"FINISH\"]:\n",
    "    # 만약 검색 횟수가 2번 이상 또는 우수한 정보 조각이 1개 이상, FINISH   \n",
    "    if state[\"num_generations\"] >= 2:\n",
    "        return \"FINISH\"\n",
    "    if len(state[\"extracted_info\"]) >= 1:\n",
    "        return \"FINISH\"\n",
    "    # 아니면, CONTINUE \n",
    "    return \"CONTINUE\""
   ],
   "outputs": [],
   "execution_count": 33
  },
  {
   "cell_type": "code",
   "id": "80d32535",
   "metadata": {
    "ExecuteTime": {
     "end_time": "2025-06-30T05:49:45.748794Z",
     "start_time": "2025-06-30T05:49:44.102218Z"
    }
   },
   "source": [
    "from langgraph.graph import StateGraph, START, END\n",
    "from IPython.display import Image, display\n",
    "\n",
    "# 그래프 객체 생성\n",
    "# 그래프 객체의 상태 객체는 개인 정보 보호법 검색 AGENT 상태 관리 객체 \n",
    "workflow = StateGraph(PersonalRagState)\n",
    "\n",
    "# 노드 추가\n",
    "# 벡터 검색, 문서 평가 및 우수한 정보 조작 선별, 더 좋은 결과를 위해서 질문 개선, 응답 생성 노드 \n",
    "workflow.add_node(\"retrieve\", retrieve_documents)\n",
    "workflow.add_node(\"extract_and_evaluate\", extract_and_evaluate_information)\n",
    "workflow.add_node(\"rewrite_query\", rewrite_query)\n",
    "workflow.add_node(\"generate_answer\", generate_node_answer)\n",
    "\n",
    "# 엣지 추가\n",
    "# 1 시작 >> 2 추출 >> 3 평가\n",
    "workflow.add_edge(START, \"retrieve\")\n",
    "workflow.add_edge(\"retrieve\", \"extract_and_evaluate\")\n",
    "\n",
    "# 조건부 엣지 추가\n",
    "#  3 평가 >> 4 조건부 분기 > 계속 또는 종료 \n",
    "# 4.1 계속 >> 5 질문 개선, 4.2 종료 >> 6 응답 생성\n",
    "workflow.add_conditional_edges(\n",
    "    \"extract_and_evaluate\",\n",
    "    should_continue,\n",
    "    {\n",
    "        \"CONTINUE\": \"rewrite_query\",\n",
    "        \"FINISH\": \"generate_answer\"\n",
    "    }\n",
    ")\n",
    "# 엣지 추가\n",
    "# 5 질문 개선 >> 2 추출 >> ...\n",
    "# 6 응답 생성 >> END\n",
    "workflow.add_edge(\"rewrite_query\", \"retrieve\")\n",
    "workflow.add_edge(\"generate_answer\", END)\n",
    "\n",
    "# 그래프 컴파일\n",
    "personal_law_agent = workflow.compile()\n",
    "\n",
    "# 그래프 시각화\n",
    "display(Image(personal_law_agent.get_graph().draw_mermaid_png()))"
   ],
   "outputs": [
    {
     "data": {
      "image/png": "[encoded data removed]",
      "text/plain": [
       "<IPython.core.display.Image object>"
      ]
     },
     "metadata": {},
     "output_type": "display_data"
    }
   ],
   "execution_count": 34
  },
  {
   "metadata": {
    "ExecuteTime": {
     "end_time": "2025-06-30T05:49:51.469584Z",
     "start_time": "2025-06-30T05:49:51.461730Z"
    }
   },
   "cell_type": "code",
   "source": [
    "\n",
    "# 그래프 시각화 로컬 파일 생성\n",
    "\n",
    "# display(Image(personal_law_agent.get_graph().draw_mermaid_png()))\n",
    "mermaid_code = personal_law_agent.get_graph().draw_mermaid()\n",
    "\n",
    "# Save to a file\n",
    "with open(\"personal_law_agent.md\", \"w\") as f:\n",
    "    f.write(\"```mermaid\\n\")\n",
    "    f.write(mermaid_code)\n",
    "    f.write(\"\\n```\")"
   ],
   "id": "b0b307085872f147",
   "outputs": [],
   "execution_count": 35
  },
  {
   "cell_type": "code",
   "id": "d36b0c8a",
   "metadata": {
    "ExecuteTime": {
     "end_time": "2025-06-30T05:50:15.492029Z",
     "start_time": "2025-06-30T05:49:55.684816Z"
    }
   },
   "source": [
    "inputs = {\"question\": \"개인정보 처리에 대한 동의를 받을 때 주의해야 할 점은 무엇인가요?\"}\n",
    "for output in personal_law_agent.stream(inputs):\n",
    "    for key, value in output.items():\n",
    "        # 노드 출력\n",
    "        pprint(f\"Node '{key}':\")\n",
    "        pprint(f\"Value: {value}\", indent=2, width=80, depth=None)\n",
    "    print(\"\\n----------------------------------------------------------\\n\")"
   ],
   "outputs": [
    {
     "name": "stdout",
     "output_type": "stream",
     "text": [
      "---문서 검색---\n"
     ]
    },
    {
     "name": "stderr",
     "output_type": "stream",
     "text": [
      "Failed to send telemetry event CollectionQueryEvent: capture() takes 1 positional argument but 3 were given\n"
     ]
    },
    {
     "name": "stdout",
     "output_type": "stream",
     "text": [
      "\"Node 'retrieve':\"\n",
      "(\"Value: {'documents': [Document(metadata={'chapter': '제3장 개인정보의 처리\\\\n         \"\n",
      " \"제1절 개인정보의 수집, 이용, 제공 등', 'name': '개인정보 보호법', 'source': 'data\\\\\\\\개인정보 \"\n",
      " \"보호법(법률)(제19234호)(20240315).pdf'}, page_content='[법률정보]\\\\n다음 조항은 개인정보 보호법 제3장 \"\n",
      " '개인정보의 처리\\\\n         제1절 개인정보의 수집, 이용, 제공 등에서 발췌한 '\n",
      " '내용입니다.\\\\n\\\\n[법률조항]\\\\n제15조(개인정보의 수집ㆍ이용) ① 개인정보처리자는 다음 각 호의 어느 하나에 해당하는 경우에는 '\n",
      " '개인정보를 수집할\\\\n수 있으며 그 수집 목적의 범위에서 이용할 수 있다. <개정 2023. 3. 14.>\\\\n1. 정보주체의 동의를 '\n",
      " '받은 경우\\\\n2. 법률에 특별한 규정이 있거나 법령상 의무를 준수하기 위하여 불가피한 경우\\\\n3. 공공기관이 법령 등에서 정하는 소관 '\n",
      " '업무의 수행을 위하여 불가피한 경우\\\\n4. 정보주체와 체결한 계약을 이행하거나 계약을 체결하는 과정에서 정보주체의 요청에 따른 조치를 '\n",
      " '이행하기 위하\\\\n여 필요한 경우 \\\\n5. 명백히 정보주체 또는 제3자의 급박한 생명, 신체, 재산의 이익을 위하여 필요하다고 인정되는 '\n",
      " '경우\\\\n6. 개인정보처리자의 정당한 이익을 달성하기 위하여 필요한 경우로서 명백하게 정보주체의 권리보다 우선하는 경\\\\n우. 이 경우 '\n",
      " '개인정보처리자의 정당한 이익과 상당한 관련이 있고 합리적인 범위를 초과하지 아니하는 경우에 한 \\\\n한다. \\\\n7. 공중위생 등 공공의 '\n",
      " '안전과 안녕을 위하여 긴급히 필요한 경우\\\\n② 개인정보처리자는 제1항제1호에 따른 동의를 받을 때에는 다음 각 호의 사항을 정보주체에게 '\n",
      " '알려야 한다. 다음\\\\n각 호의 어느 하나의 사항을 변경하는 경우에도 이를 알리고 동의를 받아야 한다.\\\\n1. 개인정보의 수집ㆍ이용 '\n",
      " '목적\\\\n2. 수집하려는 개인정보의 항목\\\\n3. 개인정보의 보유 및 이용 기간\\\\n4. 동의를 거부할 권리가 있다는 사실 및 동의 '\n",
      " '거부에 따른 불이익이 있는 경우에는 그 불이익의 내용\\\\n③ 개인정보처리자는 당초 수집 목적과 합리적으로 관련된 범위에서 정보주체에게 '\n",
      " '불이익이 발생하는지 여부, 암호\\\\n화 등 안전성 확보에 필요한 조치를 하였는지 여부 등을 고려하여 대통령령으로 정하는 바에 따라 '\n",
      " \"정보주체의 동의\\\\n없이 개인정보를 이용할 수 있다.<신설 2020. 2. 4.>'), \"\n",
      " \"Document(metadata={'chapter': '제3장 개인정보의 처리\\\\n         제1절 개인정보의 수집, 이용, 제공 \"\n",
      " \"등', 'name': '개인정보 보호법', 'source': 'data\\\\\\\\개인정보 \"\n",
      " \"보호법(법률)(제19234호)(20240315).pdf'}, page_content='[법률정보]\\\\n다음 조항은 개인정보 보호법 제3장 \"\n",
      " '개인정보의 처리\\\\n         제1절 개인정보의 수집, 이용, 제공 등에서 발췌한 '\n",
      " '내용입니다.\\\\n\\\\n[법률조항]\\\\n제15조(개인정보의 수집ㆍ이용) ① 개인정보처리자는 다음 각 호의 어느 하나에 해당하는 경우에는 '\n",
      " '개인정보를 수집할\\\\n수 있으며 그 수집 목적의 범위에서 이용할 수 있다. <개정 2023. 3. 14.>\\\\n1. 정보주체의 동의를 '\n",
      " '받은 경우\\\\n2. 법률에 특별한 규정이 있거나 법령상 의무를 준수하기 위하여 불가피한 경우\\\\n3. 공공기관이 법령 등에서 정하는 소관 '\n",
      " '업무의 수행을 위하여 불가피한 경우\\\\n4. 정보주체와 체결한 계약을 이행하거나 계약을 체결하는 과정에서 정보주체의 요청에 따른 조치를 '\n",
      " '이행하기 위하\\\\n여 필요한 경우 \\\\n5. 명백히 정보주체 또는 제3자의 급박한 생명, 신체, 재산의 이익을 위하여 필요하다고 인정되는 '\n",
      " '경우\\\\n6. 개인정보처리자의 정당한 이익을 달성하기 위하여 필요한 경우로서 명백하게 정보주체의 권리보다 우선하는 경\\\\n우. 이 경우 '\n",
      " '개인정보처리자의 정당한 이익과 상당한 관련이 있고 합리적인 범위를 초과하지 아니하는 경우에 한 \\\\n한다. \\\\n7. 공중위생 등 공공의 '\n",
      " '안전과 안녕을 위하여 긴급히 필요한 경우\\\\n② 개인정보처리자는 제1항제1호에 따른 동의를 받을 때에는 다음 각 호의 사항을 정보주체에게 '\n",
      " '알려야 한다. 다음\\\\n각 호의 어느 하나의 사항을 변경하는 경우에도 이를 알리고 동의를 받아야 한다.\\\\n1. 개인정보의 수집ㆍ이용 '\n",
      " '목적\\\\n2. 수집하려는 개인정보의 항목\\\\n3. 개인정보의 보유 및 이용 기간\\\\n4. 동의를 거부할 권리가 있다는 사실 및 동의 '\n",
      " '거부에 따른 불이익이 있는 경우에는 그 불이익의 내용\\\\n③ 개인정보처리자는 당초 수집 목적과 합리적으로 관련된 범위에서 정보주체에게 '\n",
      " '불이익이 발생하는지 여부, 암호\\\\n화 등 안전성 확보에 필요한 조치를 하였는지 여부 등을 고려하여 대통령령으로 정하는 바에 따라 '\n",
      " \"정보주체의 동의\\\\n없이 개인정보를 이용할 수 있다.<신설 2020. 2. 4.>')]}\")\n",
      "\n",
      "----------------------------------------------------------\n",
      "\n",
      "---정보 추출 및 평가---\n",
      "\"Node 'extract_and_evaluate':\"\n",
      "(\"Value: {'num_generations': 1, 'extracted_info': \"\n",
      " \"[InformationStrip(content='개인정보처리자는 정보주체의 동의를 받을 때, 개인정보의 수집ㆍ이용 목적, 수집하려는 \"\n",
      " '개인정보의 항목, 개인정보의 보유 및 이용 기간, 동의를 거부할 권리가 있다는 사실 및 동의 거부에 따른 불이익의 내용을 정보주체에게 '\n",
      " \"알려야 한다.', source='개인정보 보호법 제15조 ②항', relevance_score=1.0, \"\n",
      " \"faithfulness_score=1.0), InformationStrip(content='개인정보처리자는 정보주체의 동의를 받을 때, \"\n",
      " \"동의 거부에 따른 불이익이 있는 경우 그 불이익의 내용을 명확히 알려야 한다.', source='개인정보 보호법 제15조 ②항', \"\n",
      " 'relevance_score=0.9, faithfulness_score=1.0), '\n",
      " \"InformationStrip(content='개인정보처리자는 정보주체의 동의를 받을 때, 개인정보의 수집ㆍ이용 목적, 수집하려는 \"\n",
      " '개인정보의 항목, 개인정보의 보유 및 이용 기간, 동의를 거부할 권리가 있다는 사실 및 동의 거부에 따른 불이익이 있는 경우에는 그 '\n",
      " \"불이익의 내용을 정보주체에게 알려야 한다.', source='개인정보 보호법 제15조 ②항', relevance_score=1.0, \"\n",
      " \"faithfulness_score=1.0), InformationStrip(content='개인정보처리자는 정보주체의 동의를 받을 때, \"\n",
      " \"동의 거부에 따른 불이익이 있는 경우 그 불이익의 내용을 명확히 알려야 한다.', source='개인정보 보호법 제15조 ②항', \"\n",
      " 'relevance_score=0.9, faithfulness_score=1.0), '\n",
      " \"InformationStrip(content='개인정보처리자는 당초 수집 목적과 합리적으로 관련된 범위에서 정보주체에게 불이익이 \"\n",
      " '발생하는지 여부, 암호화 등 안전성 확보에 필요한 조치를 하였는지 여부 등을 고려하여 정보주체의 동의 없이 개인정보를 이용할 수 '\n",
      " \"있다.', source='개인정보 보호법 제15조 ③항', relevance_score=0.8, \"\n",
      " 'faithfulness_score=0.9)]}')\n",
      "\n",
      "----------------------------------------------------------\n",
      "\n",
      "---답변 생성---\n",
      "\"Node 'generate_answer':\"\n",
      "(\"Value: {'node_answer': '### 1. 질문에 대한 직접적인 답변\\\\n\\\\n개인정보 처리자가 정보주체의 동의를 받을 때 \"\n",
      " '주의해야 할 점은 다음과 같습니다. 개인정보의 수집 및 이용 목적, 수집하려는 개인정보의 항목, 개인정보의 보유 및 이용 기간, 동의를 '\n",
      " '거부할 권리가 있다는 사실, 그리고 동의 거부에 따른 불이익이 있는 경우 그 내용을 명확히 정보주체에게 알려야 합니다. (출처: 개인정보 '\n",
      " '보호법 제15조 ②항)\\\\n\\\\n### 2. 관련 법률 조항 및 해석\\\\n\\\\n개인정보 보호법 제15조 ②항에 따르면, 개인정보 처리자는 '\n",
      " '정보주체의 동의를 받을 때 다음 사항을 명확히 고지해야 합니다:\\\\n- 개인정보의 수집 및 이용 목적\\\\n- 수집하려는 개인정보의 '\n",
      " '항목\\\\n- 개인정보의 보유 및 이용 기간\\\\n- 동의를 거부할 권리가 있다는 사실\\\\n- 동의 거부에 따른 불이익이 있는 경우 그 '\n",
      " '불이익의 내용\\\\n\\\\n이 조항은 정보주체가 자신의 개인정보가 어떻게 사용될지를 명확히 이해하고, 동의 여부를 결정할 수 있도록 하기 '\n",
      " '위한 것입니다. (출처: 개인정보 보호법 제15조 ②항)\\\\n\\\\n### 3. 추가 설명 또는 예시\\\\n\\\\n예를 들어, 한 온라인 '\n",
      " '쇼핑몰이 고객의 이메일 주소를 수집하려고 할 때, 그 목적이 마케팅 정보 제공이라면, 고객에게 이 사실을 명확히 알리고, 이메일 주소 '\n",
      " '제공을 거부할 경우 어떤 불이익이 있을지(예: 할인 쿠폰 미제공)를 설명해야 합니다. 이러한 정보 제공은 정보주체가 충분한 정보를 '\n",
      " '바탕으로 동의 여부를 결정할 수 있도록 돕습니다.\\\\n\\\\n### 4. 결론 및 요약\\\\n\\\\n개인정보 처리자는 정보주체의 동의를 받을 '\n",
      " '때, 개인정보의 수집 및 이용 목적, 수집 항목, 보유 및 이용 기간, 동의 거부 권리 및 불이익에 대해 명확히 고지해야 합니다. 이는 '\n",
      " '정보주체가 충분한 정보를 바탕으로 동의 여부를 결정할 수 있도록 하기 위한 법적 요구사항입니다. (출처: 개인정보 보호법 제15조 '\n",
      " \"②항)'}\")\n",
      "\n",
      "----------------------------------------------------------\n",
      "\n"
     ]
    }
   ],
   "execution_count": 36
  },
  {
   "cell_type": "code",
   "id": "3a891d43",
   "metadata": {},
   "source": [
    "print(value['node_answer'])"
   ],
   "outputs": [],
   "execution_count": null
  },
  {
   "cell_type": "markdown",
   "id": "ff695b15",
   "metadata": {},
   "source": [
    "`(2) 근로기준법 RAG 에이전트`"
   ]
  },
  {
   "cell_type": "code",
   "id": "abf8075e",
   "metadata": {
    "ExecuteTime": {
     "end_time": "2025-04-21T01:48:15.136462Z",
     "start_time": "2025-04-21T01:48:15.125649Z"
    }
   },
   "source": [
    "# 근로기준법 검색 에이전드 상태 관리 클래스\n",
    "# CRAG 상태 관리 클래스 상속\n",
    "class LaborRagState(CorrectiveRagState):\n",
    "    rewritten_query: str   # 재작성한 질문 \n",
    "    extracted_info: Optional[ExtractedInformation]   # 추출된 정보 조각 \n",
    "    node_answer: Optional[str] "
   ],
   "outputs": [],
   "execution_count": 36
  },
  {
   "cell_type": "code",
   "id": "b9596ee8",
   "metadata": {
    "ExecuteTime": {
     "end_time": "2025-04-21T01:48:16.554307Z",
     "start_time": "2025-04-21T01:48:16.543797Z"
    }
   },
   "source": [
    "from langchain_core.prompts import ChatPromptTemplate\n",
    "from typing import Literal\n",
    "# 문서 검색 하는 노드\n",
    "# in : 근로기준법 검색 AGENT 상태 관리 객체 \n",
    "# out: 근로기준법 검색 AGENT 상태 관리 객체   \n",
    "def retrieve_documents(state: LaborRagState) -> LaborRagState:\n",
    "    print(\"---문서 검색---\")\n",
    "    query = state.get(\"rewritten_query\", state[\"question\"])\n",
    "    docs = labor_law_search.invoke(query)\n",
    "    return {\"documents\": docs}\n",
    "\n",
    "def extract_and_evaluate_information(state: LaborRagState) -> LaborRagState:\n",
    "    print(\"---정보 추출 및 평가---\")\n",
    "    extracted_strips = []\n",
    "\n",
    "    for doc in state[\"documents\"]:\n",
    "        extract_prompt = ChatPromptTemplate.from_messages([\n",
    "            (\"system\", \"\"\"당신은 근로기준법 전문가입니다. 주어진 문서에서 질문과 관련된 주요 사실과 정보를 3~5개 정도 추출하세요. \n",
    "            각 추출된 정보에 대해 다음 두 가지 측면을 0에서 1 사이의 점수로 평가하세요:\n",
    "            1. 질문과의 관련성\n",
    "            2. 답변의 충실성 (질문에 대한 완전하고 정확한 답변을 제공할 수 있는 정도)\n",
    "            \n",
    "            추출 형식:\n",
    "            1. [추출된 정보]\n",
    "            - 관련성 점수: [0-1 사이의 점수]\n",
    "            - 충실성 점수: [0-1 사이의 점수]\n",
    "            2. [추출된 정보]\n",
    "            - 관련성 점수: [0-1 사이의 점수]\n",
    "            - 충실성 점수: [0-1 사이의 점수]\n",
    "            ...\n",
    "            \n",
    "            마지막으로, 추출된 정보를 종합하여 질문에 대한 전반적인 답변 가능성을 0에서 1 사이의 점수로 평가하세요.\"\"\"),\n",
    "            (\"human\", \"[질문]\\n{question}\\n\\n[문서 내용]\\n{document_content}\")\n",
    "        ])\n",
    "\n",
    "        extract_llm = llm.with_structured_output(ExtractedInformation)\n",
    "\n",
    "        extracted_data = extract_llm.invoke(extract_prompt.format(\n",
    "            question=state[\"question\"],\n",
    "            document_content=doc.page_content\n",
    "        ))\n",
    "\n",
    "        if extracted_data.query_relevance < 0.8:\n",
    "            continue\n",
    "\n",
    "        for strip in extracted_data.strips:\n",
    "            if strip.relevance_score > 0.7 and strip.faithfulness_score > 0.7:\n",
    "                extracted_strips.append(strip)\n",
    "\n",
    "    return {\n",
    "        \"extracted_info\": extracted_strips,\n",
    "        \"num_generations\": state.get(\"num_generations\", 0) + 1\n",
    "    }\n",
    "\n",
    "def rewrite_query(state: LaborRagState) -> LaborRagState:\n",
    "    print(\"---쿼리 재작성---\")\n",
    "\n",
    "    rewrite_prompt = ChatPromptTemplate.from_messages([\n",
    "        (\"system\", \"\"\"당신은 근로기준법 전문가입니다. 주어진 원래 질문과 추출된 정보를 바탕으로, 더 관련성 있고 충실한 정보를 찾기 위해 검색 쿼리를 개선해주세요.\n",
    "\n",
    "        다음 사항을 고려하여 검색 쿼리를 개선하세요:\n",
    "        1. 원래 질문의 핵심 요소\n",
    "        2. 추출된 정보의 관련성 점수\n",
    "        3. 추출된 정보의 충실성 점수\n",
    "        4. 부족한 정보나 더 자세히 알아야 할 부분\n",
    "\n",
    "        개선된 검색 쿼리 작성 단계:\n",
    "        1. 2-3개의 검색 쿼리를 제안하세요.\n",
    "        2. 각 쿼리는 구체적이고 간결해야 합니다(5-10 단어 사이).\n",
    "        3. 근로기준법과 관련된 전문 용어를 적절히 활용하세요.\n",
    "        4. 각 쿼리 뒤에는 해당 쿼리를 제안한 이유를 간단히 설명하세요.\n",
    "\n",
    "        출력 형식:\n",
    "        1. [개선된 검색 쿼리 1]\n",
    "        - 이유: [이 쿼리를 제안한 이유 설명]\n",
    "        2. [개선된 검색 쿼리 2]\n",
    "        - 이유: [이 쿼리를 제안한 이유 설명]\n",
    "        3. [개선된 검색 쿼리 3]\n",
    "        - 이유: [이 쿼리를 제안한 이유 설명]\n",
    "\n",
    "        마지막으로, 제안된 쿼리 중 가장 효과적일 것 같은 쿼리를 선택하고 그 이유를 설명하세요.\"\"\"),\n",
    "        (\"human\", \"원래 질문: {question}\\n\\n추출된 정보:\\n{extracted_info}\\n\\n위 지침에 따라 개선된 검색 쿼리를 작성해주세요.\")\n",
    "    ])\n",
    "\n",
    "    extracted_info_str = \"\\n\".join([strip.content for strip in state[\"extracted_info\"]])\n",
    "    \n",
    "    rewrite_llm = llm.with_structured_output(RefinedQuestion)\n",
    "\n",
    "    response = rewrite_llm.invoke(rewrite_prompt.format(\n",
    "        question=state[\"question\"],\n",
    "        extracted_info=extracted_info_str\n",
    "    ))\n",
    "    \n",
    "    return {\"rewritten_query\": response.question_refined}\n",
    "\n",
    "def generate_node_answer(state: LaborRagState) -> LaborRagState:\n",
    "    print(\"---답변 생성---\")\n",
    "\n",
    "    answer_prompt = ChatPromptTemplate.from_messages([\n",
    "        (\"system\", \"\"\"당신은 근로기준법 전문가입니다. 주어진 질문과 추출된 정보를 바탕으로 답변을 생성해주세요. \n",
    "        답변은 마크다운 형식으로 작성하며, 각 정보의 출처를 명확히 표시해야 합니다. \n",
    "        답변 구조:\n",
    "        1. 질문에 대한 직접적인 답변\n",
    "        2. 관련 법률 조항 및 해석\n",
    "        3. 추가 설명 또는 예시 (필요한 경우)\n",
    "        4. 결론 및 요약\n",
    "        각 섹션에서 사용된 정보의 출처를 괄호 안에 명시하세요. 예: (출처: 근로기준법 제15조)\"\"\"),\n",
    "        (\"human\", \"질문: {question}\\n\\n추출된 정보:\\n{extracted_info}\\n\\n위 지침에 따라 최종 답변을 작성해주세요.\")\n",
    "    ])\n",
    "\n",
    "    extracted_info_str = \"\\n\".join([f\"내용: {strip.content}\\n출처: {strip.source}\\n관련성: {strip.relevance_score}\\n충실성: {strip.faithfulness_score}\" for strip in state[\"extracted_info\"]])\n",
    "\n",
    "    node_answer = llm.invoke(answer_prompt.format(\n",
    "        question=state[\"question\"],\n",
    "        extracted_info=extracted_info_str\n",
    "    ))\n",
    "\n",
    "    return {\"node_answer\": node_answer.content}\n",
    "\n",
    "def should_continue(state: LaborRagState) -> Literal[\"CONTINUE\", \"FINISH\"]:\n",
    "    if state[\"num_generations\"] >= 2:\n",
    "        return \"FINISH\"\n",
    "    if len(state[\"extracted_info\"]) >= 1:\n",
    "        return \"FINISH\"\n",
    "    return \"CONTINUE\""
   ],
   "outputs": [],
   "execution_count": 37
  },
  {
   "cell_type": "code",
   "id": "4cb66bd0",
   "metadata": {
    "ExecuteTime": {
     "end_time": "2025-04-21T01:48:18.118426Z",
     "start_time": "2025-04-21T01:48:17.955548Z"
    }
   },
   "source": [
    "from langgraph.graph import StateGraph, START, END\n",
    "from IPython.display import Image, display\n",
    "\n",
    "# 그래프 생성\n",
    "workflow = StateGraph(LaborRagState)\n",
    "\n",
    "# 노드 추가\n",
    "workflow.add_node(\"retrieve\", retrieve_documents)\n",
    "workflow.add_node(\"extract_and_evaluate\", extract_and_evaluate_information)\n",
    "workflow.add_node(\"rewrite_query\", rewrite_query)\n",
    "workflow.add_node(\"generate_answer\", generate_node_answer)\n",
    "\n",
    "\n",
    "# 엣지 추가\n",
    "workflow.add_edge(START, \"retrieve\")\n",
    "workflow.add_edge(\"retrieve\", \"extract_and_evaluate\")\n",
    "\n",
    "# 조건부 엣지 추가\n",
    "workflow.add_conditional_edges(\n",
    "    \"extract_and_evaluate\",\n",
    "    should_continue,\n",
    "    {\n",
    "        \"CONTINUE\": \"rewrite_query\",\n",
    "        \"FINISH\": \"generate_answer\"\n",
    "    }\n",
    ")\n",
    "workflow.add_edge(\"rewrite_query\", \"retrieve\")\n",
    "workflow.add_edge(\"generate_answer\", END)\n",
    "\n",
    "# 그래프 컴파일\n",
    "labor_law_agent = workflow.compile()\n",
    "\n",
    "# 그래프 시각화\n",
    "display(Image(labor_law_agent.get_graph().draw_mermaid_png()))"
   ],
   "outputs": [
    {
     "data": {
      "image/png": "[encoded data removed]",
      "text/plain": [
       "<IPython.core.display.Image object>"
      ]
     },
     "metadata": {},
     "output_type": "display_data"
    }
   ],
   "execution_count": 38
  },
  {
   "cell_type": "code",
   "id": "991a2d8c",
   "metadata": {},
   "source": [
    "inputs = {\"question\": \"근로계약 체결할 때 주의해야 할 점은 무엇인가요?\"}\n",
    "for output in labor_law_agent.stream(inputs):\n",
    "    for key, value in output.items():\n",
    "        # 노드 출력\n",
    "        pprint(f\"Node '{key}':\")\n",
    "        pprint(f\"Value: {value}\", indent=2, width=80, depth=None)\n",
    "    print(\"\\n----------------------------------------------------------\\n\")"
   ],
   "outputs": [],
   "execution_count": null
  },
  {
   "cell_type": "code",
   "id": "04814fd7",
   "metadata": {},
   "source": [
    "print(value['node_answer'])"
   ],
   "outputs": [],
   "execution_count": null
  },
  {
   "cell_type": "markdown",
   "id": "972f8229",
   "metadata": {},
   "source": [
    "`(3) 주택임대차보호법 RAG 에이전트`"
   ]
  },
  {
   "cell_type": "code",
   "id": "237b42e2",
   "metadata": {
    "ExecuteTime": {
     "end_time": "2025-04-21T01:48:26.988569Z",
     "start_time": "2025-04-21T01:48:26.982906Z"
    }
   },
   "source": [
    "# 주택임대차보호법\n",
    "class HousingRagState(CorrectiveRagState):\n",
    "    rewritten_query: str   # 재작성한 질문 \n",
    "    extracted_info: Optional[ExtractedInformation]   # 추출된 정보 조각 \n",
    "    node_answer: Optional[str] "
   ],
   "outputs": [],
   "execution_count": 39
  },
  {
   "cell_type": "code",
   "id": "47f842dc",
   "metadata": {
    "ExecuteTime": {
     "end_time": "2025-04-21T01:48:28.175444Z",
     "start_time": "2025-04-21T01:48:28.164494Z"
    }
   },
   "source": [
    "from langchain_core.prompts import ChatPromptTemplate\n",
    "from typing import Literal\n",
    "\n",
    "def retrieve_documents(state: HousingRagState) -> HousingRagState:\n",
    "    print(\"---문서 검색---\")\n",
    "    query = state.get(\"rewritten_query\", state[\"question\"])\n",
    "    docs = housing_law_search.invoke(query)\n",
    "    return {\"documents\": docs}\n",
    "\n",
    "def extract_and_evaluate_information(state: HousingRagState) -> HousingRagState:\n",
    "    print(\"---정보 추출 및 평가---\")\n",
    "    extracted_strips = []\n",
    "\n",
    "    for doc in state[\"documents\"]:\n",
    "        extract_prompt = ChatPromptTemplate.from_messages([\n",
    "            (\"system\", \"\"\"당신은 주택임대차보호법 전문가입니다. 주어진 문서에서 질문과 관련된 주요 사실과 정보를 3~5개 정도 추출하세요. \n",
    "            각 추출된 정보에 대해 다음 두 가지 측면을 0에서 1 사이의 점수로 평가하세요:\n",
    "            1. 질문과의 관련성\n",
    "            2. 답변의 충실성 (질문에 대한 완전하고 정확한 답변을 제공할 수 있는 정도)\n",
    "            \n",
    "            추출 형식:\n",
    "            1. [추출된 정보]\n",
    "            - 관련성 점수: [0-1 사이의 점수]\n",
    "            - 충실성 점수: [0-1 사이의 점수]\n",
    "            2. [추출된 정보]\n",
    "            - 관련성 점수: [0-1 사이의 점수]\n",
    "            - 충실성 점수: [0-1 사이의 점수]\n",
    "            ...\n",
    "            \n",
    "            마지막으로, 추출된 정보를 종합하여 질문에 대한 전반적인 답변 가능성을 0에서 1 사이의 점수로 평가하세요.\"\"\"),\n",
    "            (\"human\", \"[질문]\\n{question}\\n\\n[문서 내용]\\n{document_content}\")\n",
    "        ])\n",
    "\n",
    "        extract_llm = llm.with_structured_output(ExtractedInformation)\n",
    "\n",
    "        extracted_data = extract_llm.invoke(extract_prompt.format(\n",
    "            question=state[\"question\"],\n",
    "            document_content=doc.page_content\n",
    "        ))\n",
    "\n",
    "        if extracted_data.query_relevance < 0.8:\n",
    "            continue\n",
    "\n",
    "        for strip in extracted_data.strips:\n",
    "            if strip.relevance_score > 0.7 and strip.faithfulness_score > 0.7:\n",
    "                extracted_strips.append(strip)\n",
    "\n",
    "    return {\n",
    "        \"extracted_info\": extracted_strips,\n",
    "        \"num_generations\": state.get(\"num_generations\", 0) + 1\n",
    "    }\n",
    "\n",
    "def rewrite_query(state: HousingRagState) -> HousingRagState:\n",
    "    print(\"---쿼리 재작성---\")\n",
    "\n",
    "    rewrite_prompt = ChatPromptTemplate.from_messages([\n",
    "        (\"system\", \"\"\"당신은 주택임대차보호법 전문가입니다. 주어진 원래 질문과 추출된 정보를 바탕으로, 더 관련성 있고 충실한 정보를 찾기 위해 검색 쿼리를 개선해주세요.\n",
    "\n",
    "        다음 사항을 고려하여 검색 쿼리를 개선하세요:\n",
    "        1. 원래 질문의 핵심 요소\n",
    "        2. 추출된 정보의 관련성 점수\n",
    "        3. 추출된 정보의 충실성 점수\n",
    "        4. 부족한 정보나 더 자세히 알아야 할 부분\n",
    "\n",
    "        개선된 검색 쿼리 작성 단계:\n",
    "        1. 2-3개의 검색 쿼리를 제안하세요.\n",
    "        2. 각 쿼리는 구체적이고 간결해야 합니다(5-10 단어 사이).\n",
    "        3. 주택임대차보호법과 관련된 전문 용어를 적절히 활용하세요.\n",
    "        4. 각 쿼리 뒤에는 해당 쿼리를 제안한 이유를 간단히 설명하세요.\n",
    "\n",
    "        출력 형식:\n",
    "        1. [개선된 검색 쿼리 1]\n",
    "        - 이유: [이 쿼리를 제안한 이유 설명]\n",
    "        2. [개선된 검색 쿼리 2]\n",
    "        - 이유: [이 쿼리를 제안한 이유 설명]\n",
    "        3. [개선된 검색 쿼리 3]\n",
    "        - 이유: [이 쿼리를 제안한 이유 설명]\n",
    "\n",
    "        마지막으로, 제안된 쿼리 중 가장 효과적일 것 같은 쿼리를 선택하고 그 이유를 설명하세요.\"\"\"),\n",
    "        (\"human\", \"원래 질문: {question}\\n\\n추출된 정보:\\n{extracted_info}\\n\\n위 지침에 따라 개선된 검색 쿼리를 작성해주세요.\")\n",
    "    ])\n",
    "\n",
    "    extracted_info_str = \"\\n\".join([strip.content for strip in state[\"extracted_info\"]])\n",
    "    \n",
    "    rewrite_llm = llm.with_structured_output(RefinedQuestion)\n",
    "\n",
    "    response = rewrite_llm.invoke(rewrite_prompt.format(\n",
    "        question=state[\"question\"],\n",
    "        extracted_info=extracted_info_str\n",
    "    ))\n",
    "    \n",
    "    return {\"rewritten_query\": response.question_refined}\n",
    "\n",
    "def generate_node_answer(state: HousingRagState) -> HousingRagState:\n",
    "    print(\"---답변 생성---\")\n",
    "\n",
    "    answer_prompt = ChatPromptTemplate.from_messages([\n",
    "        (\"system\", \"\"\"당신은 주택임대차보호법 전문가입니다. 주어진 질문과 추출된 정보를 바탕으로 답변을 생성해주세요. \n",
    "        답변은 마크다운 형식으로 작성하며, 각 정보의 출처를 명확히 표시해야 합니다. \n",
    "        답변 구조:\n",
    "        1. 질문에 대한 직접적인 답변\n",
    "        2. 관련 법률 조항 및 해석\n",
    "        3. 추가 설명 또는 예시 (필요한 경우)\n",
    "        4. 결론 및 요약\n",
    "        각 섹션에서 사용된 정보의 출처를 괄호 안에 명시하세요. 예: (출처: 주택임대차보호법 제15조)\"\"\"),\n",
    "        (\"human\", \"질문: {question}\\n\\n추출된 정보:\\n{extracted_info}\\n\\n위 지침에 따라 최종 답변을 작성해주세요.\")\n",
    "    ])\n",
    "\n",
    "    extracted_info_str = \"\\n\".join([f\"내용: {strip.content}\\n출처: {strip.source}\\n관련성: {strip.relevance_score}\\n충실성: {strip.faithfulness_score}\" for strip in state[\"extracted_info\"]])\n",
    "\n",
    "    node_answer = llm.invoke(answer_prompt.format(\n",
    "        question=state[\"question\"],\n",
    "        extracted_info=extracted_info_str\n",
    "    ))\n",
    "\n",
    "    return {\"node_answer\": node_answer.content}\n",
    "\n",
    "def should_continue(state: HousingRagState) -> Literal[\"CONTINUE\", \"FINISH\"]:\n",
    "    if state[\"num_generations\"] >= 2:\n",
    "        return \"FINISH\"\n",
    "    if len(state[\"extracted_info\"]) >= 1:\n",
    "        return \"FINISH\"\n",
    "    return \"CONTINUE\""
   ],
   "outputs": [],
   "execution_count": 40
  },
  {
   "cell_type": "code",
   "id": "8a48565a",
   "metadata": {
    "ExecuteTime": {
     "end_time": "2025-04-21T01:48:29.803860Z",
     "start_time": "2025-04-21T01:48:29.641829Z"
    }
   },
   "source": [
    "from langgraph.graph import StateGraph, START, END\n",
    "from IPython.display import Image, display\n",
    "\n",
    "# 그래프 생성\n",
    "workflow = StateGraph(HousingRagState)\n",
    "\n",
    "# 노드 추가\n",
    "workflow.add_node(\"retrieve\", retrieve_documents)\n",
    "workflow.add_node(\"extract_and_evaluate\", extract_and_evaluate_information)\n",
    "workflow.add_node(\"rewrite_query\", rewrite_query)\n",
    "workflow.add_node(\"generate_answer\", generate_node_answer)\n",
    "\n",
    "\n",
    "# 엣지 추가\n",
    "workflow.add_edge(START, \"retrieve\")\n",
    "workflow.add_edge(\"retrieve\", \"extract_and_evaluate\")\n",
    "\n",
    "# 조건부 엣지 추가\n",
    "workflow.add_conditional_edges(\n",
    "    \"extract_and_evaluate\",\n",
    "    should_continue,\n",
    "    {\n",
    "        \"CONTINUE\": \"rewrite_query\",\n",
    "        \"FINISH\": \"generate_answer\"\n",
    "    }\n",
    ")\n",
    "workflow.add_edge(\"rewrite_query\", \"retrieve\")\n",
    "workflow.add_edge(\"generate_answer\", END)\n",
    "\n",
    "# 그래프 컴파일\n",
    "housing_law_agent = workflow.compile()\n",
    "\n",
    "# 그래프 시각화\n",
    "display(Image(housing_law_agent.get_graph().draw_mermaid_png()))"
   ],
   "outputs": [
    {
     "data": {
      "image/png": "[encoded data removed]",
      "text/plain": [
       "<IPython.core.display.Image object>"
      ]
     },
     "metadata": {},
     "output_type": "display_data"
    }
   ],
   "execution_count": 41
  },
  {
   "cell_type": "code",
   "id": "b2bc9a7d",
   "metadata": {},
   "source": [
    "inputs = {\"question\": \"대리인과 아파트 임대차 계약을 체결할 때 주의해야 할 점은 무엇인가요?\"}\n",
    "for output in housing_law_agent.stream(inputs):\n",
    "    for key, value in output.items():\n",
    "        # 노드 출력\n",
    "        pprint(f\"Node '{key}':\")\n",
    "        pprint(f\"Value: {value}\", indent=2, width=80, depth=None)\n",
    "    print(\"\\n----------------------------------------------------------\\n\")"
   ],
   "outputs": [],
   "execution_count": null
  },
  {
   "cell_type": "code",
   "id": "e0c9725e",
   "metadata": {},
   "source": [
    "print(value['node_answer'])"
   ],
   "outputs": [],
   "execution_count": null
  },
  {
   "cell_type": "markdown",
   "id": "67a294b3",
   "metadata": {},
   "source": [
    "`(4) 웹 검색 기반 RAG 에이전트`"
   ]
  },
  {
   "cell_type": "code",
   "id": "2643ebaa",
   "metadata": {
    "ExecuteTime": {
     "end_time": "2025-04-21T01:48:36.144845Z",
     "start_time": "2025-04-21T01:48:36.139574Z"
    }
   },
   "source": [
    "# 웹 검색 도구 \n",
    "class SearchRagState(CorrectiveRagState):\n",
    "    rewritten_query: str   # 재작성한 질문 \n",
    "    extracted_info: Optional[ExtractedInformation]   # 추출된 정보 조각 \n",
    "    node_answer: Optional[str] "
   ],
   "outputs": [],
   "execution_count": 42
  },
  {
   "cell_type": "code",
   "id": "a6528951",
   "metadata": {
    "ExecuteTime": {
     "end_time": "2025-04-21T01:48:37.346348Z",
     "start_time": "2025-04-21T01:48:37.334135Z"
    }
   },
   "source": [
    "from langchain_core.prompts import ChatPromptTemplate\n",
    "from typing import Literal\n",
    "\n",
    "def retrieve_documents(state: SearchRagState) -> SearchRagState:\n",
    "    print(\"---문서 검색---\")\n",
    "    query = state.get(\"rewritten_query\", state[\"question\"])\n",
    "    docs = web_search.invoke(query)\n",
    "    return {\"documents\": docs}\n",
    "\n",
    "def extract_and_evaluate_information(state: SearchRagState) -> SearchRagState:\n",
    "    print(\"---정보 추출 및 평가---\")\n",
    "    extracted_strips = []\n",
    "\n",
    "    for doc in state[\"documents\"]:\n",
    "        extract_prompt = ChatPromptTemplate.from_messages([\n",
    "            (\"system\", \"\"\"당신은 인터넷 정보 검색 전문가입니다. 주어진 문서에서 질문과 관련된 주요 사실과 정보를 3~5개 정도 추출하세요. \n",
    "            각 추출된 정보에 대해 다음 두 가지 측면을 0에서 1 사이의 점수로 평가하세요:\n",
    "            1. 질문과의 관련성\n",
    "            2. 답변의 충실성 (질문에 대한 완전하고 정확한 답변을 제공할 수 있는 정도)\n",
    "            \n",
    "            추출 형식:\n",
    "            1. [추출된 정보]\n",
    "            - 관련성 점수: [0-1 사이의 점수]\n",
    "            - 충실성 점수: [0-1 사이의 점수]\n",
    "            2. [추출된 정보]\n",
    "            - 관련성 점수: [0-1 사이의 점수]\n",
    "            - 충실성 점수: [0-1 사이의 점수]\n",
    "            ...\n",
    "            \n",
    "            마지막으로, 추출된 정보를 종합하여 질문에 대한 전반적인 답변 가능성을 0에서 1 사이의 점수로 평가하세요.\"\"\"),\n",
    "            (\"human\", \"[질문]\\n{question}\\n\\n[문서 내용]\\n{document_content}\")\n",
    "        ])\n",
    "\n",
    "        extract_llm = llm.with_structured_output(ExtractedInformation)\n",
    "\n",
    "        extracted_data = extract_llm.invoke(extract_prompt.format(\n",
    "            question=state[\"question\"],\n",
    "            document_content=doc.page_content\n",
    "        ))\n",
    "\n",
    "        if extracted_data.query_relevance < 0.8:\n",
    "            continue\n",
    "\n",
    "        for strip in extracted_data.strips:\n",
    "            if strip.relevance_score > 0.7 and strip.faithfulness_score > 0.7:\n",
    "                extracted_strips.append(strip)\n",
    "\n",
    "    return {\n",
    "        \"extracted_info\": extracted_strips,\n",
    "        \"num_generations\": state.get(\"num_generations\", 0) + 1\n",
    "    }\n",
    "\n",
    "def rewrite_query(state: SearchRagState) -> SearchRagState:\n",
    "    print(\"---쿼리 재작성---\")\n",
    "\n",
    "    rewrite_prompt = ChatPromptTemplate.from_messages([\n",
    "        (\"system\", \"\"\"당신은 인터넷 정보 검색 전문가입니다. 주어진 원래 질문과 추출된 정보를 바탕으로, 더 관련성 있고 충실한 정보를 찾기 위해 검색 쿼리를 개선해주세요.\n",
    "\n",
    "        다음 사항을 고려하여 검색 쿼리를 개선하세요:\n",
    "        1. 원래 질문의 핵심 요소\n",
    "        2. 추출된 정보의 관련성 점수\n",
    "        3. 추출된 정보의 충실성 점수\n",
    "        4. 부족한 정보나 더 자세히 알아야 할 부분\n",
    "\n",
    "        개선된 검색 쿼리 작성 단계:\n",
    "        1. 2-3개의 검색 쿼리를 제안하세요.\n",
    "        2. 각 쿼리는 구체적이고 간결해야 합니다(5-10 단어 사이).\n",
    "        3. 질문과 관련된 전문 용어를 적절히 활용하세요.\n",
    "        4. 각 쿼리 뒤에는 해당 쿼리를 제안한 이유를 간단히 설명하세요.\n",
    "\n",
    "        출력 형식:\n",
    "        1. [개선된 검색 쿼리 1]\n",
    "        - 이유: [이 쿼리를 제안한 이유 설명]\n",
    "        2. [개선된 검색 쿼리 2]\n",
    "        - 이유: [이 쿼리를 제안한 이유 설명]\n",
    "        3. [개선된 검색 쿼리 3]\n",
    "        - 이유: [이 쿼리를 제안한 이유 설명]\n",
    "\n",
    "        마지막으로, 제안된 쿼리 중 가장 효과적일 것 같은 쿼리를 선택하고 그 이유를 설명하세요.\"\"\"),\n",
    "        (\"human\", \"원래 질문: {question}\\n\\n추출된 정보:\\n{extracted_info}\\n\\n위 지침에 따라 개선된 검색 쿼리를 작성해주세요.\")\n",
    "    ])\n",
    "\n",
    "    extracted_info_str = \"\\n\".join([strip.content for strip in state[\"extracted_info\"]])\n",
    "    \n",
    "    rewrite_llm = llm.with_structured_output(RefinedQuestion)\n",
    "\n",
    "    response = rewrite_llm.invoke(rewrite_prompt.format(\n",
    "        question=state[\"question\"],\n",
    "        extracted_info=extracted_info_str\n",
    "    ))\n",
    "    \n",
    "    return {\"rewritten_query\": response.question_refined}\n",
    "\n",
    "def generate_node_answer(state: SearchRagState) -> SearchRagState:\n",
    "    print(\"---답변 생성---\")\n",
    "\n",
    "    answer_prompt = ChatPromptTemplate.from_messages([\n",
    "        (\"system\", \"\"\"당신은 인터넷 정보 검색 전문가입니다. 주어진 질문과 추출된 정보를 바탕으로 답변을 생성해주세요. \n",
    "        답변은 마크다운 형식으로 작성하며, 각 정보의 출처를 명확히 표시해야 합니다. \n",
    "        답변 구조:\n",
    "        1. 질문에 대한 직접적인 답변\n",
    "        2. 관련 출처 및 링크\n",
    "        3. 추가 설명 또는 예시 (필요한 경우)\n",
    "        4. 결론 및 요약\n",
    "        각 섹션에서 사용된 정보의 출처를 괄호 안에 명시하세요. 예: (출처: 블로그 (www.blog.com/page/001)\"\"\"),\n",
    "        (\"human\", \"질문: {question}\\n\\n추출된 정보:\\n{extracted_info}\\n\\n위 지침에 따라 최종 답변을 작성해주세요.\")\n",
    "    ])\n",
    "\n",
    "    extracted_info_str = \"\\n\".join([f\"내용: {strip.content}\\n출처: {strip.source}\\n관련성: {strip.relevance_score}\\n충실성: {strip.faithfulness_score}\" for strip in state[\"extracted_info\"]])\n",
    "\n",
    "    node_answer = llm.invoke(answer_prompt.format(\n",
    "        question=state[\"question\"],\n",
    "        extracted_info=extracted_info_str\n",
    "    ))\n",
    "\n",
    "    return {\"node_answer\": node_answer.content}\n",
    "\n",
    "def should_continue(state: SearchRagState) -> Literal[\"CONTINUE\", \"FINISH\"]:\n",
    "    if state[\"num_generations\"] >= 2:\n",
    "        return \"FINISH\"\n",
    "    if len(state[\"extracted_info\"]) >= 1:\n",
    "        return \"FINISH\"\n",
    "    return \"CONTINUE\""
   ],
   "outputs": [],
   "execution_count": 43
  },
  {
   "cell_type": "code",
   "id": "c9c56461",
   "metadata": {
    "ExecuteTime": {
     "end_time": "2025-04-21T01:48:38.761055Z",
     "start_time": "2025-04-21T01:48:38.586679Z"
    }
   },
   "source": [
    "from langgraph.graph import StateGraph, START, END\n",
    "from IPython.display import Image, display\n",
    "\n",
    "# 그래프 생성\n",
    "workflow = StateGraph(SearchRagState)\n",
    "\n",
    "# 노드 추가\n",
    "workflow.add_node(\"retrieve\", retrieve_documents)\n",
    "workflow.add_node(\"extract_and_evaluate\", extract_and_evaluate_information)\n",
    "workflow.add_node(\"rewrite_query\", rewrite_query)\n",
    "workflow.add_node(\"generate_answer\", generate_node_answer)\n",
    "\n",
    "\n",
    "# 엣지 추가\n",
    "workflow.add_edge(START, \"retrieve\")\n",
    "workflow.add_edge(\"retrieve\", \"extract_and_evaluate\")\n",
    "\n",
    "# 조건부 엣지 추가\n",
    "workflow.add_conditional_edges(\n",
    "    \"extract_and_evaluate\",\n",
    "    should_continue,\n",
    "    {\n",
    "        \"CONTINUE\": \"rewrite_query\",\n",
    "        \"FINISH\": \"generate_answer\"\n",
    "    }\n",
    ")\n",
    "workflow.add_edge(\"rewrite_query\", \"retrieve\")\n",
    "workflow.add_edge(\"generate_answer\", END)\n",
    "\n",
    "# 그래프 컴파일\n",
    "search_web_agent = workflow.compile()\n",
    "\n",
    "# 그래프 시각화\n",
    "display(Image(search_web_agent.get_graph().draw_mermaid_png()))"
   ],
   "outputs": [
    {
     "data": {
      "image/png": "[encoded data removed]",
      "text/plain": [
       "<IPython.core.display.Image object>"
      ]
     },
     "metadata": {},
     "output_type": "display_data"
    }
   ],
   "execution_count": 44
  },
  {
   "cell_type": "code",
   "id": "47d0e859",
   "metadata": {},
   "source": [
    "inputs = {\"question\": \"대리인과 아파트 임대차 계약을 체결할 때 주의해야 할 점은 무엇인가요?\"}\n",
    "for output in search_web_agent.stream(inputs):\n",
    "    for key, value in output.items():\n",
    "        # 노드 출력\n",
    "        pprint(f\"Node '{key}':\")\n",
    "        pprint(f\"Value: {value}\", indent=2, width=80, depth=None)\n",
    "    print(\"\\n----------------------------------------------------------\\n\")"
   ],
   "outputs": [],
   "execution_count": null
  },
  {
   "cell_type": "code",
   "id": "cdd93d75",
   "metadata": {},
   "source": [
    "print(value['node_answer'])"
   ],
   "outputs": [],
   "execution_count": null
  },
  {
   "cell_type": "markdown",
   "id": "99cd6f08",
   "metadata": {},
   "source": [
    "### 4-2. 질문 라우팅 \n",
    "- 사용자의 질문을 분석하여 적절한 에이전트를 선택 (Adaptive RAG 적용)"
   ]
  },
  {
   "cell_type": "code",
   "id": "e444bb47",
   "metadata": {
    "ExecuteTime": {
     "end_time": "2025-04-21T02:19:59.572568Z",
     "start_time": "2025-04-21T02:19:59.558539Z"
    }
   },
   "source": [
    "from typing import Annotated\n",
    "from operator import add\n",
    "\n",
    "# 메인 그래프 상태 정의\n",
    "# 리서치 AGENT 상태 관리 클래스\n",
    "class ResearchAgentState(TypedDict):\n",
    "    question: str\n",
    "    #질문을 저장하는 문자열 타입의 필드\n",
    "    answers: Annotated[List[str], add]\n",
    "    #여러 개의 응답을 저장하기 위한 리스트 타입의 필드. Annotated를 사용하여 추가 메타 데이터인 add 연산자를 부여. \n",
    "    # 이 메타 데이터는 특정 동작을 나타 내기 위해 추가\n",
    "    final_answer: str\n",
    "    #최종 답변을 저장 하는 문자열 타입의 필드\n",
    "    datasources: List[str]\n",
    "    #데이터 소스들의 리스트를 저장\n",
    "    evaluation_report: Optional[dict]\n",
    "    #평가 보고서를 저장하는 딕셔너리 옵션 필드. 이 값은 선택적이며, 존재하지 않을 수도 있음\n",
    "    user_decision: Optional[str]\n",
    "    #사용자의 결정을 저장하는 선택적 필드. 이 값 또한 존재하지 않을 수 있음\n"
   ],
   "outputs": [],
   "execution_count": 51
  },
  {
   "cell_type": "code",
   "id": "d9830629",
   "metadata": {
    "ExecuteTime": {
     "end_time": "2025-04-21T01:49:41.446899Z",
     "start_time": "2025-04-21T01:49:41.431821Z"
    }
   },
   "source": [
    "from typing import Literal\n",
    "from langchain_core.prompts import ChatPromptTemplate\n",
    "from pydantic import BaseModel, Field\n",
    "\n",
    "# 라우팅 결정을 위한 데이터 모델 \n",
    "# 사용자 질문을 가장 적합한 도구로 라우팅 하기 위해 데이터 모델을 정의 \n",
    "\n",
    "# ToolSelector 클래스는 BaseModel을 상속받아 사용자 질문을 가장 적합한 도구로 라우팅하기 위한 데이터 모델을 정의\n",
    "# tool 속성은 Literal 타입으로, \"search_personal\", \"search_labor\", \"search_housing\", \"search_web\" 중 하나의 값만 가질 수 있음\n",
    "# Field 함수의 description 인자는 tool 속성에 대한 설명으로, \"사용자의 질문에 따라 도구 중 하나를 선택한다\"는 의미\n",
    "\n",
    "class ToolSelector(BaseModel):\n",
    "    \"\"\"Routes the user question to the most appropriate tool.\"\"\"\n",
    "    tool: Literal[\"search_personal\", \"search_labor\", \"search_housing\", \"search_web\"] = Field(\n",
    "        description=\"Select one of the tools, based on the user's question.\",\n",
    "    )\n",
    "    \n",
    "# ToolSelectors 클래스는 BaseModel을 상속받아 사용자 질문에 적합한 도구들을 선택하기 위한 데이터 모델을 정의\n",
    "# tools 속성은 여러 개의 ToolSelector 객체들을 포함하는 리스트\n",
    "# Field 함수의 description 인자는 tools 속성에 대한 설명으로, \"사용자의 질문에 따라 하나 이상의 도구를 선택한다\"는 의미\n",
    "# 이 모델들을 통해 사용자 질문에 맞는 도구를 결정하고, 여러 도구를 사용할 경우 그 리스트를 정의\n",
    "\n",
    "class ToolSelectors(BaseModel):\n",
    "    \"\"\"Select the appropriate tools that are suitable for the user question.\"\"\"\n",
    "    tools: List[ToolSelector] = Field(\n",
    "        description=\"Select one or more tools, based on the user's question.\",\n",
    "    )\n",
    "\n",
    "# 구조화된 출력을 위한 LLM 설정\n",
    "structured_llm_tool_selector = llm.with_structured_output(ToolSelectors)\n",
    "\n",
    "# 라우팅을 위한 프롬프트 템플릿\n",
    "system = dedent(\"\"\"You are an AI assistant specializing in routing user questions to the appropriate tools.\n",
    "Use the following guidelines:\n",
    "- For questions specifically about legal provisions or articles of the privacy protection law (개인정보 보호법), use the search_personal tool.\n",
    "- For questions specifically about legal provisions or articles of the labor law (근로기준법), use the search_labor tool.\n",
    "- For questions specifically about legal provisions or articles of the housing law (주택임대차보호법), use the search_housing tool.\n",
    "- For any other information, including questions related to these laws but not directly about specific legal provisions, or for the most up-to-date data, use the search_web tool.\n",
    "Always choose all of the appropriate tools based on the user's question. \n",
    "If a question is about a law but doesn't seem to be asking about specific legal provisions, include both the relevant law search tool and the search_web tool.\"\"\")\n",
    "\n",
    "route_prompt = ChatPromptTemplate.from_messages(\n",
    "    [\n",
    "        (\"system\", system),\n",
    "        (\"human\", \"{question}\"),\n",
    "    ]\n",
    ")\n",
    "\n",
    "# 질문 라우터 체인 정의\n",
    "question_tool_router = route_prompt | structured_llm_tool_selector\n",
    "\n"
   ],
   "outputs": [],
   "execution_count": 46
  },
  {
   "metadata": {
    "ExecuteTime": {
     "end_time": "2025-04-21T01:49:47.980210Z",
     "start_time": "2025-04-21T01:49:46.056006Z"
    }
   },
   "cell_type": "code",
   "source": [
    "# 테스트 체인 실행\n",
    "print(question_tool_router.invoke({\"question\": \"근로계약 체결할 때 개인정보 취급 상의 유의사항은 무엇인가요?\"}))\n",
    "print(question_tool_router.invoke({\"question\": \"법에서 정한 연차휴가 기준을 알려주세요.\"}))\n",
    "print(question_tool_router.invoke({\"question\": \"개인정보보호법에서 정한 가명정보의 정의는 무엇인가요?\"}))"
   ],
   "id": "ecfe760c40511bc7",
   "outputs": [
    {
     "name": "stdout",
     "output_type": "stream",
     "text": [
      "tools=[ToolSelector(tool='search_personal'), ToolSelector(tool='search_web')]\n",
      "tools=[ToolSelector(tool='search_labor')]\n",
      "tools=[ToolSelector(tool='search_personal')]\n"
     ]
    }
   ],
   "execution_count": 47
  },
  {
   "cell_type": "code",
   "id": "0d9e7222",
   "metadata": {
    "ExecuteTime": {
     "end_time": "2025-04-21T01:50:18.706419Z",
     "start_time": "2025-04-21T01:50:18.693200Z"
    }
   },
   "source": [
    "# 노드 정의 \n",
    "# 질문 라우팅 노드 \n",
    "\n",
    "# 질문에 적절한 agent 선택 노드 \n",
    "# in:  question 리서치 AGENT 상태 관리 객체, out: 리서치 AGENT 상태 관리 객체\n",
    "def analyze_question_tool_search(state: ResearchAgentState):\n",
    "    # 상태 관리 객체 에서 질문 추출\n",
    "    question = state[\"question\"]\n",
    "    # 질문 라우터 체인 실행\n",
    "    result = question_tool_router.invoke({\"question\": question})\n",
    "    # 선택된 도구 리스트 에서 도구 이름만 리스트 형태로 datasources 상태에 저장 \n",
    "    datasources = [tool.tool for tool in result.tools]\n",
    "    return {\"datasources\": datasources}\n",
    "\n",
    "#  선택된 AGENT 명칭의 유효성 검사 노드 \n",
    "#  in:  question 리서치 AGENT 상태 관리 객체, out:  문자열의 리스트(List[str])\n",
    "def route_datasources_tool_search(state: ResearchAgentState) -> List[str]:\n",
    "    #state는 리서치 AGENT 상태 관리 객체 로서 'datasources' 라는 키의 값을 가져와 datasources 변수에 저장\n",
    "    # 이 값은 중복을 제거 하기 위해 set 자료 형으로 변환\n",
    "    datasources = set(state['datasources'])\n",
    "    valid_sources = {\"search_personal\", \"search_labor\", \"search_housing\", \"search_web\"}\n",
    "    \n",
    "    #만약 datasources 집합이 valid_sources 집합의 부분 집합 이면, 즉 datasources 모든 요소가 유효한 데이터 소스에 포함 되면 datasources 요소를 리스트 형태로 리턴 함, 아니면 valid_sources 요소를 리스트 형태로 리턴함\n",
    "    if datasources.issubset(valid_sources):\n",
    "        return list(datasources)\n",
    "    \n",
    "    return list(valid_sources)"
   ],
   "outputs": [],
   "execution_count": 48
  },
  {
   "cell_type": "code",
   "id": "3f8d516e",
   "metadata": {
    "ExecuteTime": {
     "end_time": "2025-04-21T02:05:34.941766Z",
     "start_time": "2025-04-21T02:05:34.924742Z"
    }
   },
   "source": [
    "# 노드 정의 \n",
    "# 앞선 그래프 객체를 노드로 정의 함\n",
    "# input : 매개변수는 기본값으로 ResearchAgentState를 가지며, OUTPUT: ResearchAgentState\n",
    "def personal_rag_node(state: PersonalRagState, input=ResearchAgentState) -> ResearchAgentState:\n",
    "    print(\"--- 개인정보보호법 전문가 에이전트 시작 ---\")\n",
    "    # ResearchAgentState question INPUT\n",
    "    question = state[\"question\"]\n",
    "    # personal_rag_node INVOKE\n",
    "    answer = personal_law_agent.invoke({\"question\": question})\n",
    "    # PersonalRagState \"node_answer\"\n",
    "    return {\"answers\": [answer[\"node_answer\"]]}\n",
    "\n",
    "def labor_rag_node(state: LaborRagState, input=ResearchAgentState) -> ResearchAgentState:\n",
    "    print(\"--- 근로기준법 전문가 에이전트 시작 ---\")\n",
    "    question = state[\"question\"]\n",
    "    answer = labor_law_agent.invoke({\"question\": question})\n",
    "    return {\"answers\": [answer[\"node_answer\"]]}\n",
    "\n",
    "def housing_rag_node(state: HousingRagState, input=ResearchAgentState) -> ResearchAgentState:\n",
    "    print(\"--- 주택임대차보호법 전문가 에이전트 시작 ---\")\n",
    "    question = state[\"question\"]\n",
    "    answer = housing_law_agent.invoke({\"question\": question})\n",
    "    return {\"answers\": [answer[\"node_answer\"]]}\n",
    "\n",
    "def web_rag_node(state: SearchRagState, input=ResearchAgentState) -> ResearchAgentState:\n",
    "    print(\"--- 인터넷 검색 전문가 에이전트 시작 ---\")\n",
    "    question = state[\"question\"]\n",
    "    answer = search_web_agent.invoke({\"question\": question})\n",
    "    return {\"answers\": [answer[\"node_answer\"]]}\n"
   ],
   "outputs": [],
   "execution_count": 50
  },
  {
   "cell_type": "code",
   "id": "261a3bb4",
   "metadata": {
    "ExecuteTime": {
     "end_time": "2025-04-21T02:25:00.962731Z",
     "start_time": "2025-04-21T02:25:00.945737Z"
    }
   },
   "source": [
    "# 최종 답변 생성 노드\n",
    "from langchain_core.output_parsers import StrOutputParser\n",
    "from langchain_core.prompts import ChatPromptTemplate\n",
    "\n",
    "# RAG 프롬프트 정의\n",
    "rag_prompt = ChatPromptTemplate.from_messages([\n",
    "    (\"system\", \"\"\"You are an assistant answering questions based on provided documents. Follow these guidelines:\n",
    "\n",
    "1. Use only information from the given documents.\n",
    "2. If the document lacks relevant info, say \"제공된 정보로는 충분한 답변을 할 수 없습니다.\"\n",
    "3. Cite the source of information for each sentence in your answer. Use the following format:\n",
    "    - For legal articles: \"법률명 제X조 Y항\"\n",
    "    - For web sources: \"출처 제목 (URL)\"\n",
    "4. Don't speculate or add information not in the documents.\n",
    "5. Keep answers concise and clear.\n",
    "6. Omit irrelevant information.\n",
    "7. If multiple sources provide the same information, cite all relevant sources.\n",
    "8. If information comes from multiple sources, combine them coherently while citing each source.\n",
    "\n",
    "Example of citation usage:\n",
    "\"부동산 거래 시 계약서에 거래 금액을 명시해야 합니다 (부동산 거래신고 등에 관한 법률 제3조 1항). 또한, 계약 체결일로부터 30일 이내에 신고해야 합니다 (부동산 거래 신고 안내 블로그, https://example.com/realestate).\"\n",
    "\"\"\"\n",
    "    ),\n",
    "    (\"human\", \"Answer the following question using these documents:\\n\\n[Documents]\\n{documents}\\n\\n[Question]\\n{question}\"),\n",
    "])\n",
    "\n",
    "# 최종 답변 생성 노드 \n",
    "# input : 매개변수 기본값 ResearchAgentState 가지며, OUTPUT: ResearchAgentState\n",
    "def answer_final(state: ResearchAgentState) -> ResearchAgentState:\n",
    "    \"\"\"\n",
    "    Generate answer using the retrieved_documents\n",
    "    \"\"\"\n",
    "    print(\"---최종 답변---\")\n",
    "    question = state[\"question\"]\n",
    "    documents = state.get(\"answers\", [])\n",
    "    if not isinstance(documents, list):\n",
    "        documents = [documents]\n",
    "\n",
    "    # 문서 내용을 문자열로 결합 \n",
    "    documents_text = \"\\n\\n\".join(documents)\n",
    "\n",
    "    # 체인 생성 RAG generation\n",
    "    rag_chain = rag_prompt | llm | StrOutputParser()\n",
    "    # 체인 실행 \n",
    "    # 각 하위 AGENT 응답 취합한 문서 텍스트 와 사용자 질문을 입력\n",
    "    generation = rag_chain.invoke({\"documents\": documents_text, \"question\": question})\n",
    "    # ResearchAgentState UPDATE\n",
    "    return {\"final_answer\": generation, \"question\":question}\n",
    "\n",
    "\n",
    "# LLM Fallback 프롬프트 정의\n",
    "fallback_prompt = ChatPromptTemplate.from_messages([\n",
    "    (\"system\", \"\"\"You are an AI assistant helping with various topics. Follow these guidelines:\n",
    "\n",
    "1. Provide accurate and helpful information to the best of your ability.\n",
    "2. Express uncertainty when unsure; avoid speculation.\n",
    "3. Keep answers concise yet informative.\n",
    "4. Respond ethically and constructively.\n",
    "5. Mention reliable general sources when applicable.\"\"\"),\n",
    "    (\"human\", \"{question}\"),\n",
    "])\n",
    "# Fallback 노드\n",
    "# input : 매개변수 기본값 ResearchAgentState 가지며, OUTPUT: ResearchAgentState\n",
    "def llm_fallback(state: ResearchAgentState) -> ResearchAgentState:\n",
    "    \"\"\"\n",
    "    Generate answer using the LLM without context\n",
    "    \"\"\"\n",
    "    print(\"---Fallback 답변---\")\n",
    "    question = state[\"question\"]\n",
    "    \n",
    "    # LLM chain\n",
    "    llm_chain = fallback_prompt | llm | StrOutputParser()\n",
    "    \n",
    "    generation = llm_chain.invoke({\"question\": question})\n",
    "    return {\"final_answer\": generation, \"question\":question}"
   ],
   "outputs": [],
   "execution_count": 52
  },
  {
   "cell_type": "code",
   "id": "727273fa",
   "metadata": {
    "ExecuteTime": {
     "end_time": "2025-04-21T02:32:41.487243Z",
     "start_time": "2025-04-21T02:32:29.310850Z"
    }
   },
   "source": [
    "# 노드 정의를 딕셔너리로 관리\n",
    "nodes = {\n",
    "    \"analyze_question\": analyze_question_tool_search,\n",
    "    \"search_personal\": personal_rag_node,\n",
    "    \"search_labor\": labor_rag_node,\n",
    "    \"search_housing\": housing_rag_node,\n",
    "    \"search_web\": web_rag_node,\n",
    "    \"generate_answer\": answer_final,\n",
    "    \"llm_fallback\": llm_fallback\n",
    "}\n",
    "\n",
    "# AGENT 그래프 생성을 위한 StateGraph 객체를 정의\n",
    "search_builder = StateGraph(ResearchAgentState)\n",
    "\n",
    "# 노드 추가 (반복 정의 LOOP)\n",
    "for node_name, node_func in nodes.items():\n",
    "    search_builder.add_node(node_name, node_func)\n",
    "\n",
    "# 엣지 추가 (병렬 처리)\n",
    "search_builder.add_edge(START, \"analyze_question\")\n",
    "# 조건부 분기 엣지 추가\n",
    "search_builder.add_conditional_edges(\n",
    "    \"analyze_question\",\n",
    "    route_datasources_tool_search,\n",
    "    [\"search_personal\", \"search_labor\", \"search_housing\", \"search_web\", \"llm_fallback\"]\n",
    ")\n",
    "\n",
    "# 4가지 검색 노드 각각 >> generate_answer 연결\n",
    "for node in [\"search_personal\", \"search_labor\", \"search_housing\", \"search_web\"]:\n",
    "    search_builder.add_edge(node, \"generate_answer\")\n",
    "# generate_answer >> END, llm_fallback >> END\n",
    "search_builder.add_edge(\"generate_answer\", END)\n",
    "search_builder.add_edge(\"llm_fallback\", END)\n",
    "\n",
    "# 그래프 컴파일\n",
    "rag_search_graph = search_builder.compile()\n",
    "\n",
    "# 그래프 시각화 \n",
    "display(Image(rag_search_graph.get_graph().draw_mermaid_png()))"
   ],
   "outputs": [
    {
     "ename": "ReadTimeout",
     "evalue": "HTTPSConnectionPool(host='mermaid.ink', port=443): Read timed out. (read timeout=10)",
     "output_type": "error",
     "traceback": [
      "\u001B[1;31m---------------------------------------------------------------------------\u001B[0m",
      "\u001B[1;31mTimeoutError\u001B[0m                              Traceback (most recent call last)",
      "File \u001B[1;32m~\\Anaconda3\\envs\\langgraph_agent\\Lib\\site-packages\\urllib3\\connectionpool.py:534\u001B[0m, in \u001B[0;36mHTTPConnectionPool._make_request\u001B[1;34m(self, conn, method, url, body, headers, retries, timeout, chunked, response_conn, preload_content, decode_content, enforce_content_length)\u001B[0m\n\u001B[0;32m    533\u001B[0m \u001B[38;5;28;01mtry\u001B[39;00m:\n\u001B[1;32m--> 534\u001B[0m     response \u001B[38;5;241m=\u001B[39m conn\u001B[38;5;241m.\u001B[39mgetresponse()\n\u001B[0;32m    535\u001B[0m \u001B[38;5;28;01mexcept\u001B[39;00m (BaseSSLError, \u001B[38;5;167;01mOSError\u001B[39;00m) \u001B[38;5;28;01mas\u001B[39;00m e:\n",
      "File \u001B[1;32m~\\Anaconda3\\envs\\langgraph_agent\\Lib\\site-packages\\urllib3\\connection.py:516\u001B[0m, in \u001B[0;36mHTTPConnection.getresponse\u001B[1;34m(self)\u001B[0m\n\u001B[0;32m    515\u001B[0m \u001B[38;5;66;03m# Get the response from http.client.HTTPConnection\u001B[39;00m\n\u001B[1;32m--> 516\u001B[0m httplib_response \u001B[38;5;241m=\u001B[39m \u001B[38;5;28msuper\u001B[39m()\u001B[38;5;241m.\u001B[39mgetresponse()\n\u001B[0;32m    518\u001B[0m \u001B[38;5;28;01mtry\u001B[39;00m:\n",
      "File \u001B[1;32m~\\Anaconda3\\envs\\langgraph_agent\\Lib\\http\\client.py:1395\u001B[0m, in \u001B[0;36mHTTPConnection.getresponse\u001B[1;34m(self)\u001B[0m\n\u001B[0;32m   1394\u001B[0m \u001B[38;5;28;01mtry\u001B[39;00m:\n\u001B[1;32m-> 1395\u001B[0m     response\u001B[38;5;241m.\u001B[39mbegin()\n\u001B[0;32m   1396\u001B[0m \u001B[38;5;28;01mexcept\u001B[39;00m \u001B[38;5;167;01mConnectionError\u001B[39;00m:\n",
      "File \u001B[1;32m~\\Anaconda3\\envs\\langgraph_agent\\Lib\\http\\client.py:325\u001B[0m, in \u001B[0;36mHTTPResponse.begin\u001B[1;34m(self)\u001B[0m\n\u001B[0;32m    324\u001B[0m \u001B[38;5;28;01mwhile\u001B[39;00m \u001B[38;5;28;01mTrue\u001B[39;00m:\n\u001B[1;32m--> 325\u001B[0m     version, status, reason \u001B[38;5;241m=\u001B[39m \u001B[38;5;28mself\u001B[39m\u001B[38;5;241m.\u001B[39m_read_status()\n\u001B[0;32m    326\u001B[0m     \u001B[38;5;28;01mif\u001B[39;00m status \u001B[38;5;241m!=\u001B[39m CONTINUE:\n",
      "File \u001B[1;32m~\\Anaconda3\\envs\\langgraph_agent\\Lib\\http\\client.py:286\u001B[0m, in \u001B[0;36mHTTPResponse._read_status\u001B[1;34m(self)\u001B[0m\n\u001B[0;32m    285\u001B[0m \u001B[38;5;28;01mdef\u001B[39;00m \u001B[38;5;21m_read_status\u001B[39m(\u001B[38;5;28mself\u001B[39m):\n\u001B[1;32m--> 286\u001B[0m     line \u001B[38;5;241m=\u001B[39m \u001B[38;5;28mstr\u001B[39m(\u001B[38;5;28mself\u001B[39m\u001B[38;5;241m.\u001B[39mfp\u001B[38;5;241m.\u001B[39mreadline(_MAXLINE \u001B[38;5;241m+\u001B[39m \u001B[38;5;241m1\u001B[39m), \u001B[38;5;124m\"\u001B[39m\u001B[38;5;124miso-8859-1\u001B[39m\u001B[38;5;124m\"\u001B[39m)\n\u001B[0;32m    287\u001B[0m     \u001B[38;5;28;01mif\u001B[39;00m \u001B[38;5;28mlen\u001B[39m(line) \u001B[38;5;241m>\u001B[39m _MAXLINE:\n",
      "File \u001B[1;32m~\\Anaconda3\\envs\\langgraph_agent\\Lib\\socket.py:718\u001B[0m, in \u001B[0;36mSocketIO.readinto\u001B[1;34m(self, b)\u001B[0m\n\u001B[0;32m    717\u001B[0m \u001B[38;5;28;01mtry\u001B[39;00m:\n\u001B[1;32m--> 718\u001B[0m     \u001B[38;5;28;01mreturn\u001B[39;00m \u001B[38;5;28mself\u001B[39m\u001B[38;5;241m.\u001B[39m_sock\u001B[38;5;241m.\u001B[39mrecv_into(b)\n\u001B[0;32m    719\u001B[0m \u001B[38;5;28;01mexcept\u001B[39;00m timeout:\n",
      "File \u001B[1;32m~\\Anaconda3\\envs\\langgraph_agent\\Lib\\ssl.py:1314\u001B[0m, in \u001B[0;36mSSLSocket.recv_into\u001B[1;34m(self, buffer, nbytes, flags)\u001B[0m\n\u001B[0;32m   1311\u001B[0m         \u001B[38;5;28;01mraise\u001B[39;00m \u001B[38;5;167;01mValueError\u001B[39;00m(\n\u001B[0;32m   1312\u001B[0m           \u001B[38;5;124m\"\u001B[39m\u001B[38;5;124mnon-zero flags not allowed in calls to recv_into() on \u001B[39m\u001B[38;5;132;01m%s\u001B[39;00m\u001B[38;5;124m\"\u001B[39m \u001B[38;5;241m%\u001B[39m\n\u001B[0;32m   1313\u001B[0m           \u001B[38;5;28mself\u001B[39m\u001B[38;5;241m.\u001B[39m\u001B[38;5;18m__class__\u001B[39m)\n\u001B[1;32m-> 1314\u001B[0m     \u001B[38;5;28;01mreturn\u001B[39;00m \u001B[38;5;28mself\u001B[39m\u001B[38;5;241m.\u001B[39mread(nbytes, buffer)\n\u001B[0;32m   1315\u001B[0m \u001B[38;5;28;01melse\u001B[39;00m:\n",
      "File \u001B[1;32m~\\Anaconda3\\envs\\langgraph_agent\\Lib\\ssl.py:1166\u001B[0m, in \u001B[0;36mSSLSocket.read\u001B[1;34m(self, len, buffer)\u001B[0m\n\u001B[0;32m   1165\u001B[0m \u001B[38;5;28;01mif\u001B[39;00m buffer \u001B[38;5;129;01mis\u001B[39;00m \u001B[38;5;129;01mnot\u001B[39;00m \u001B[38;5;28;01mNone\u001B[39;00m:\n\u001B[1;32m-> 1166\u001B[0m     \u001B[38;5;28;01mreturn\u001B[39;00m \u001B[38;5;28mself\u001B[39m\u001B[38;5;241m.\u001B[39m_sslobj\u001B[38;5;241m.\u001B[39mread(\u001B[38;5;28mlen\u001B[39m, buffer)\n\u001B[0;32m   1167\u001B[0m \u001B[38;5;28;01melse\u001B[39;00m:\n",
      "\u001B[1;31mTimeoutError\u001B[0m: The read operation timed out",
      "\nThe above exception was the direct cause of the following exception:\n",
      "\u001B[1;31mReadTimeoutError\u001B[0m                          Traceback (most recent call last)",
      "File \u001B[1;32m~\\Anaconda3\\envs\\langgraph_agent\\Lib\\site-packages\\requests\\adapters.py:667\u001B[0m, in \u001B[0;36mHTTPAdapter.send\u001B[1;34m(self, request, stream, timeout, verify, cert, proxies)\u001B[0m\n\u001B[0;32m    666\u001B[0m \u001B[38;5;28;01mtry\u001B[39;00m:\n\u001B[1;32m--> 667\u001B[0m     resp \u001B[38;5;241m=\u001B[39m conn\u001B[38;5;241m.\u001B[39murlopen(\n\u001B[0;32m    668\u001B[0m         method\u001B[38;5;241m=\u001B[39mrequest\u001B[38;5;241m.\u001B[39mmethod,\n\u001B[0;32m    669\u001B[0m         url\u001B[38;5;241m=\u001B[39murl,\n\u001B[0;32m    670\u001B[0m         body\u001B[38;5;241m=\u001B[39mrequest\u001B[38;5;241m.\u001B[39mbody,\n\u001B[0;32m    671\u001B[0m         headers\u001B[38;5;241m=\u001B[39mrequest\u001B[38;5;241m.\u001B[39mheaders,\n\u001B[0;32m    672\u001B[0m         redirect\u001B[38;5;241m=\u001B[39m\u001B[38;5;28;01mFalse\u001B[39;00m,\n\u001B[0;32m    673\u001B[0m         assert_same_host\u001B[38;5;241m=\u001B[39m\u001B[38;5;28;01mFalse\u001B[39;00m,\n\u001B[0;32m    674\u001B[0m         preload_content\u001B[38;5;241m=\u001B[39m\u001B[38;5;28;01mFalse\u001B[39;00m,\n\u001B[0;32m    675\u001B[0m         decode_content\u001B[38;5;241m=\u001B[39m\u001B[38;5;28;01mFalse\u001B[39;00m,\n\u001B[0;32m    676\u001B[0m         retries\u001B[38;5;241m=\u001B[39m\u001B[38;5;28mself\u001B[39m\u001B[38;5;241m.\u001B[39mmax_retries,\n\u001B[0;32m    677\u001B[0m         timeout\u001B[38;5;241m=\u001B[39mtimeout,\n\u001B[0;32m    678\u001B[0m         chunked\u001B[38;5;241m=\u001B[39mchunked,\n\u001B[0;32m    679\u001B[0m     )\n\u001B[0;32m    681\u001B[0m \u001B[38;5;28;01mexcept\u001B[39;00m (ProtocolError, \u001B[38;5;167;01mOSError\u001B[39;00m) \u001B[38;5;28;01mas\u001B[39;00m err:\n",
      "File \u001B[1;32m~\\Anaconda3\\envs\\langgraph_agent\\Lib\\site-packages\\urllib3\\connectionpool.py:841\u001B[0m, in \u001B[0;36mHTTPConnectionPool.urlopen\u001B[1;34m(self, method, url, body, headers, retries, redirect, assert_same_host, timeout, pool_timeout, release_conn, chunked, body_pos, preload_content, decode_content, **response_kw)\u001B[0m\n\u001B[0;32m    839\u001B[0m     new_e \u001B[38;5;241m=\u001B[39m ProtocolError(\u001B[38;5;124m\"\u001B[39m\u001B[38;5;124mConnection aborted.\u001B[39m\u001B[38;5;124m\"\u001B[39m, new_e)\n\u001B[1;32m--> 841\u001B[0m retries \u001B[38;5;241m=\u001B[39m retries\u001B[38;5;241m.\u001B[39mincrement(\n\u001B[0;32m    842\u001B[0m     method, url, error\u001B[38;5;241m=\u001B[39mnew_e, _pool\u001B[38;5;241m=\u001B[39m\u001B[38;5;28mself\u001B[39m, _stacktrace\u001B[38;5;241m=\u001B[39msys\u001B[38;5;241m.\u001B[39mexc_info()[\u001B[38;5;241m2\u001B[39m]\n\u001B[0;32m    843\u001B[0m )\n\u001B[0;32m    844\u001B[0m retries\u001B[38;5;241m.\u001B[39msleep()\n",
      "File \u001B[1;32m~\\Anaconda3\\envs\\langgraph_agent\\Lib\\site-packages\\urllib3\\util\\retry.py:474\u001B[0m, in \u001B[0;36mRetry.increment\u001B[1;34m(self, method, url, response, error, _pool, _stacktrace)\u001B[0m\n\u001B[0;32m    473\u001B[0m \u001B[38;5;28;01mif\u001B[39;00m read \u001B[38;5;129;01mis\u001B[39;00m \u001B[38;5;28;01mFalse\u001B[39;00m \u001B[38;5;129;01mor\u001B[39;00m method \u001B[38;5;129;01mis\u001B[39;00m \u001B[38;5;28;01mNone\u001B[39;00m \u001B[38;5;129;01mor\u001B[39;00m \u001B[38;5;129;01mnot\u001B[39;00m \u001B[38;5;28mself\u001B[39m\u001B[38;5;241m.\u001B[39m_is_method_retryable(method):\n\u001B[1;32m--> 474\u001B[0m     \u001B[38;5;28;01mraise\u001B[39;00m reraise(\u001B[38;5;28mtype\u001B[39m(error), error, _stacktrace)\n\u001B[0;32m    475\u001B[0m \u001B[38;5;28;01melif\u001B[39;00m read \u001B[38;5;129;01mis\u001B[39;00m \u001B[38;5;129;01mnot\u001B[39;00m \u001B[38;5;28;01mNone\u001B[39;00m:\n",
      "File \u001B[1;32m~\\Anaconda3\\envs\\langgraph_agent\\Lib\\site-packages\\urllib3\\util\\util.py:39\u001B[0m, in \u001B[0;36mreraise\u001B[1;34m(tp, value, tb)\u001B[0m\n\u001B[0;32m     38\u001B[0m         \u001B[38;5;28;01mraise\u001B[39;00m value\u001B[38;5;241m.\u001B[39mwith_traceback(tb)\n\u001B[1;32m---> 39\u001B[0m     \u001B[38;5;28;01mraise\u001B[39;00m value\n\u001B[0;32m     40\u001B[0m \u001B[38;5;28;01mfinally\u001B[39;00m:\n",
      "File \u001B[1;32m~\\Anaconda3\\envs\\langgraph_agent\\Lib\\site-packages\\urllib3\\connectionpool.py:787\u001B[0m, in \u001B[0;36mHTTPConnectionPool.urlopen\u001B[1;34m(self, method, url, body, headers, retries, redirect, assert_same_host, timeout, pool_timeout, release_conn, chunked, body_pos, preload_content, decode_content, **response_kw)\u001B[0m\n\u001B[0;32m    786\u001B[0m \u001B[38;5;66;03m# Make the request on the HTTPConnection object\u001B[39;00m\n\u001B[1;32m--> 787\u001B[0m response \u001B[38;5;241m=\u001B[39m \u001B[38;5;28mself\u001B[39m\u001B[38;5;241m.\u001B[39m_make_request(\n\u001B[0;32m    788\u001B[0m     conn,\n\u001B[0;32m    789\u001B[0m     method,\n\u001B[0;32m    790\u001B[0m     url,\n\u001B[0;32m    791\u001B[0m     timeout\u001B[38;5;241m=\u001B[39mtimeout_obj,\n\u001B[0;32m    792\u001B[0m     body\u001B[38;5;241m=\u001B[39mbody,\n\u001B[0;32m    793\u001B[0m     headers\u001B[38;5;241m=\u001B[39mheaders,\n\u001B[0;32m    794\u001B[0m     chunked\u001B[38;5;241m=\u001B[39mchunked,\n\u001B[0;32m    795\u001B[0m     retries\u001B[38;5;241m=\u001B[39mretries,\n\u001B[0;32m    796\u001B[0m     response_conn\u001B[38;5;241m=\u001B[39mresponse_conn,\n\u001B[0;32m    797\u001B[0m     preload_content\u001B[38;5;241m=\u001B[39mpreload_content,\n\u001B[0;32m    798\u001B[0m     decode_content\u001B[38;5;241m=\u001B[39mdecode_content,\n\u001B[0;32m    799\u001B[0m     \u001B[38;5;241m*\u001B[39m\u001B[38;5;241m*\u001B[39mresponse_kw,\n\u001B[0;32m    800\u001B[0m )\n\u001B[0;32m    802\u001B[0m \u001B[38;5;66;03m# Everything went great!\u001B[39;00m\n",
      "File \u001B[1;32m~\\Anaconda3\\envs\\langgraph_agent\\Lib\\site-packages\\urllib3\\connectionpool.py:536\u001B[0m, in \u001B[0;36mHTTPConnectionPool._make_request\u001B[1;34m(self, conn, method, url, body, headers, retries, timeout, chunked, response_conn, preload_content, decode_content, enforce_content_length)\u001B[0m\n\u001B[0;32m    535\u001B[0m \u001B[38;5;28;01mexcept\u001B[39;00m (BaseSSLError, \u001B[38;5;167;01mOSError\u001B[39;00m) \u001B[38;5;28;01mas\u001B[39;00m e:\n\u001B[1;32m--> 536\u001B[0m     \u001B[38;5;28mself\u001B[39m\u001B[38;5;241m.\u001B[39m_raise_timeout(err\u001B[38;5;241m=\u001B[39me, url\u001B[38;5;241m=\u001B[39murl, timeout_value\u001B[38;5;241m=\u001B[39mread_timeout)\n\u001B[0;32m    537\u001B[0m     \u001B[38;5;28;01mraise\u001B[39;00m\n",
      "File \u001B[1;32m~\\Anaconda3\\envs\\langgraph_agent\\Lib\\site-packages\\urllib3\\connectionpool.py:367\u001B[0m, in \u001B[0;36mHTTPConnectionPool._raise_timeout\u001B[1;34m(self, err, url, timeout_value)\u001B[0m\n\u001B[0;32m    366\u001B[0m \u001B[38;5;28;01mif\u001B[39;00m \u001B[38;5;28misinstance\u001B[39m(err, SocketTimeout):\n\u001B[1;32m--> 367\u001B[0m     \u001B[38;5;28;01mraise\u001B[39;00m ReadTimeoutError(\n\u001B[0;32m    368\u001B[0m         \u001B[38;5;28mself\u001B[39m, url, \u001B[38;5;124mf\u001B[39m\u001B[38;5;124m\"\u001B[39m\u001B[38;5;124mRead timed out. (read timeout=\u001B[39m\u001B[38;5;132;01m{\u001B[39;00mtimeout_value\u001B[38;5;132;01m}\u001B[39;00m\u001B[38;5;124m)\u001B[39m\u001B[38;5;124m\"\u001B[39m\n\u001B[0;32m    369\u001B[0m     ) \u001B[38;5;28;01mfrom\u001B[39;00m \u001B[38;5;21;01merr\u001B[39;00m\n\u001B[0;32m    371\u001B[0m \u001B[38;5;66;03m# See the above comment about EAGAIN in Python 3.\u001B[39;00m\n",
      "\u001B[1;31mReadTimeoutError\u001B[0m: HTTPSConnectionPool(host='mermaid.ink', port=443): Read timed out. (read timeout=10)",
      "\nDuring handling of the above exception, another exception occurred:\n",
      "\u001B[1;31mReadTimeout\u001B[0m                               Traceback (most recent call last)",
      "Cell \u001B[1;32mIn[53], line 39\u001B[0m\n\u001B[0;32m     36\u001B[0m rag_search_graph \u001B[38;5;241m=\u001B[39m search_builder\u001B[38;5;241m.\u001B[39mcompile()\n\u001B[0;32m     38\u001B[0m \u001B[38;5;66;03m# 그래프 시각화 \u001B[39;00m\n\u001B[1;32m---> 39\u001B[0m display(Image(rag_search_graph\u001B[38;5;241m.\u001B[39mget_graph()\u001B[38;5;241m.\u001B[39mdraw_mermaid_png()))\n",
      "File \u001B[1;32m~\\Anaconda3\\envs\\langgraph_agent\\Lib\\site-packages\\langchain_core\\runnables\\graph.py:667\u001B[0m, in \u001B[0;36mGraph.draw_mermaid_png\u001B[1;34m(self, curve_style, node_colors, wrap_label_n_words, output_file_path, draw_method, background_color, padding, frontmatter_config)\u001B[0m\n\u001B[0;32m    659\u001B[0m \u001B[38;5;28;01mfrom\u001B[39;00m \u001B[38;5;21;01mlangchain_core\u001B[39;00m\u001B[38;5;21;01m.\u001B[39;00m\u001B[38;5;21;01mrunnables\u001B[39;00m\u001B[38;5;21;01m.\u001B[39;00m\u001B[38;5;21;01mgraph_mermaid\u001B[39;00m \u001B[38;5;28;01mimport\u001B[39;00m draw_mermaid_png\n\u001B[0;32m    661\u001B[0m mermaid_syntax \u001B[38;5;241m=\u001B[39m \u001B[38;5;28mself\u001B[39m\u001B[38;5;241m.\u001B[39mdraw_mermaid(\n\u001B[0;32m    662\u001B[0m     curve_style\u001B[38;5;241m=\u001B[39mcurve_style,\n\u001B[0;32m    663\u001B[0m     node_colors\u001B[38;5;241m=\u001B[39mnode_colors,\n\u001B[0;32m    664\u001B[0m     wrap_label_n_words\u001B[38;5;241m=\u001B[39mwrap_label_n_words,\n\u001B[0;32m    665\u001B[0m     frontmatter_config\u001B[38;5;241m=\u001B[39mfrontmatter_config,\n\u001B[0;32m    666\u001B[0m )\n\u001B[1;32m--> 667\u001B[0m \u001B[38;5;28;01mreturn\u001B[39;00m draw_mermaid_png(\n\u001B[0;32m    668\u001B[0m     mermaid_syntax\u001B[38;5;241m=\u001B[39mmermaid_syntax,\n\u001B[0;32m    669\u001B[0m     output_file_path\u001B[38;5;241m=\u001B[39moutput_file_path,\n\u001B[0;32m    670\u001B[0m     draw_method\u001B[38;5;241m=\u001B[39mdraw_method,\n\u001B[0;32m    671\u001B[0m     background_color\u001B[38;5;241m=\u001B[39mbackground_color,\n\u001B[0;32m    672\u001B[0m     padding\u001B[38;5;241m=\u001B[39mpadding,\n\u001B[0;32m    673\u001B[0m )\n",
      "File \u001B[1;32m~\\Anaconda3\\envs\\langgraph_agent\\Lib\\site-packages\\langchain_core\\runnables\\graph_mermaid.py:282\u001B[0m, in \u001B[0;36mdraw_mermaid_png\u001B[1;34m(mermaid_syntax, output_file_path, draw_method, background_color, padding)\u001B[0m\n\u001B[0;32m    276\u001B[0m     img_bytes \u001B[38;5;241m=\u001B[39m asyncio\u001B[38;5;241m.\u001B[39mrun(\n\u001B[0;32m    277\u001B[0m         _render_mermaid_using_pyppeteer(\n\u001B[0;32m    278\u001B[0m             mermaid_syntax, output_file_path, background_color, padding\n\u001B[0;32m    279\u001B[0m         )\n\u001B[0;32m    280\u001B[0m     )\n\u001B[0;32m    281\u001B[0m \u001B[38;5;28;01melif\u001B[39;00m draw_method \u001B[38;5;241m==\u001B[39m MermaidDrawMethod\u001B[38;5;241m.\u001B[39mAPI:\n\u001B[1;32m--> 282\u001B[0m     img_bytes \u001B[38;5;241m=\u001B[39m _render_mermaid_using_api(\n\u001B[0;32m    283\u001B[0m         mermaid_syntax, output_file_path, background_color\n\u001B[0;32m    284\u001B[0m     )\n\u001B[0;32m    285\u001B[0m \u001B[38;5;28;01melse\u001B[39;00m:\n\u001B[0;32m    286\u001B[0m     supported_methods \u001B[38;5;241m=\u001B[39m \u001B[38;5;124m\"\u001B[39m\u001B[38;5;124m, \u001B[39m\u001B[38;5;124m\"\u001B[39m\u001B[38;5;241m.\u001B[39mjoin([m\u001B[38;5;241m.\u001B[39mvalue \u001B[38;5;28;01mfor\u001B[39;00m m \u001B[38;5;129;01min\u001B[39;00m MermaidDrawMethod])\n",
      "File \u001B[1;32m~\\Anaconda3\\envs\\langgraph_agent\\Lib\\site-packages\\langchain_core\\runnables\\graph_mermaid.py:400\u001B[0m, in \u001B[0;36m_render_mermaid_using_api\u001B[1;34m(mermaid_syntax, output_file_path, background_color, file_type)\u001B[0m\n\u001B[0;32m    394\u001B[0m         background_color \u001B[38;5;241m=\u001B[39m \u001B[38;5;124mf\u001B[39m\u001B[38;5;124m\"\u001B[39m\u001B[38;5;124m!\u001B[39m\u001B[38;5;132;01m{\u001B[39;00mbackground_color\u001B[38;5;132;01m}\u001B[39;00m\u001B[38;5;124m\"\u001B[39m\n\u001B[0;32m    396\u001B[0m image_url \u001B[38;5;241m=\u001B[39m (\n\u001B[0;32m    397\u001B[0m     \u001B[38;5;124mf\u001B[39m\u001B[38;5;124m\"\u001B[39m\u001B[38;5;124mhttps://mermaid.ink/img/\u001B[39m\u001B[38;5;132;01m{\u001B[39;00mmermaid_syntax_encoded\u001B[38;5;132;01m}\u001B[39;00m\u001B[38;5;124m\"\u001B[39m\n\u001B[0;32m    398\u001B[0m     \u001B[38;5;124mf\u001B[39m\u001B[38;5;124m\"\u001B[39m\u001B[38;5;124m?type=\u001B[39m\u001B[38;5;132;01m{\u001B[39;00mfile_type\u001B[38;5;132;01m}\u001B[39;00m\u001B[38;5;124m&bgColor=\u001B[39m\u001B[38;5;132;01m{\u001B[39;00mbackground_color\u001B[38;5;132;01m}\u001B[39;00m\u001B[38;5;124m\"\u001B[39m\n\u001B[0;32m    399\u001B[0m )\n\u001B[1;32m--> 400\u001B[0m response \u001B[38;5;241m=\u001B[39m requests\u001B[38;5;241m.\u001B[39mget(image_url, timeout\u001B[38;5;241m=\u001B[39m\u001B[38;5;241m10\u001B[39m)\n\u001B[0;32m    401\u001B[0m \u001B[38;5;28;01mif\u001B[39;00m response\u001B[38;5;241m.\u001B[39mstatus_code \u001B[38;5;241m==\u001B[39m \u001B[38;5;241m200\u001B[39m:\n\u001B[0;32m    402\u001B[0m     img_bytes \u001B[38;5;241m=\u001B[39m response\u001B[38;5;241m.\u001B[39mcontent\n",
      "File \u001B[1;32m~\\Anaconda3\\envs\\langgraph_agent\\Lib\\site-packages\\requests\\api.py:73\u001B[0m, in \u001B[0;36mget\u001B[1;34m(url, params, **kwargs)\u001B[0m\n\u001B[0;32m     62\u001B[0m \u001B[38;5;28;01mdef\u001B[39;00m \u001B[38;5;21mget\u001B[39m(url, params\u001B[38;5;241m=\u001B[39m\u001B[38;5;28;01mNone\u001B[39;00m, \u001B[38;5;241m*\u001B[39m\u001B[38;5;241m*\u001B[39mkwargs):\n\u001B[0;32m     63\u001B[0m \u001B[38;5;250m    \u001B[39m\u001B[38;5;124mr\u001B[39m\u001B[38;5;124;03m\"\"\"Sends a GET request.\u001B[39;00m\n\u001B[0;32m     64\u001B[0m \n\u001B[0;32m     65\u001B[0m \u001B[38;5;124;03m    :param url: URL for the new :class:`Request` object.\u001B[39;00m\n\u001B[1;32m   (...)\u001B[0m\n\u001B[0;32m     70\u001B[0m \u001B[38;5;124;03m    :rtype: requests.Response\u001B[39;00m\n\u001B[0;32m     71\u001B[0m \u001B[38;5;124;03m    \"\"\"\u001B[39;00m\n\u001B[1;32m---> 73\u001B[0m     \u001B[38;5;28;01mreturn\u001B[39;00m request(\u001B[38;5;124m\"\u001B[39m\u001B[38;5;124mget\u001B[39m\u001B[38;5;124m\"\u001B[39m, url, params\u001B[38;5;241m=\u001B[39mparams, \u001B[38;5;241m*\u001B[39m\u001B[38;5;241m*\u001B[39mkwargs)\n",
      "File \u001B[1;32m~\\Anaconda3\\envs\\langgraph_agent\\Lib\\site-packages\\requests\\api.py:59\u001B[0m, in \u001B[0;36mrequest\u001B[1;34m(method, url, **kwargs)\u001B[0m\n\u001B[0;32m     55\u001B[0m \u001B[38;5;66;03m# By using the 'with' statement we are sure the session is closed, thus we\u001B[39;00m\n\u001B[0;32m     56\u001B[0m \u001B[38;5;66;03m# avoid leaving sockets open which can trigger a ResourceWarning in some\u001B[39;00m\n\u001B[0;32m     57\u001B[0m \u001B[38;5;66;03m# cases, and look like a memory leak in others.\u001B[39;00m\n\u001B[0;32m     58\u001B[0m \u001B[38;5;28;01mwith\u001B[39;00m sessions\u001B[38;5;241m.\u001B[39mSession() \u001B[38;5;28;01mas\u001B[39;00m session:\n\u001B[1;32m---> 59\u001B[0m     \u001B[38;5;28;01mreturn\u001B[39;00m session\u001B[38;5;241m.\u001B[39mrequest(method\u001B[38;5;241m=\u001B[39mmethod, url\u001B[38;5;241m=\u001B[39murl, \u001B[38;5;241m*\u001B[39m\u001B[38;5;241m*\u001B[39mkwargs)\n",
      "File \u001B[1;32m~\\Anaconda3\\envs\\langgraph_agent\\Lib\\site-packages\\requests\\sessions.py:589\u001B[0m, in \u001B[0;36mSession.request\u001B[1;34m(self, method, url, params, data, headers, cookies, files, auth, timeout, allow_redirects, proxies, hooks, stream, verify, cert, json)\u001B[0m\n\u001B[0;32m    584\u001B[0m send_kwargs \u001B[38;5;241m=\u001B[39m {\n\u001B[0;32m    585\u001B[0m     \u001B[38;5;124m\"\u001B[39m\u001B[38;5;124mtimeout\u001B[39m\u001B[38;5;124m\"\u001B[39m: timeout,\n\u001B[0;32m    586\u001B[0m     \u001B[38;5;124m\"\u001B[39m\u001B[38;5;124mallow_redirects\u001B[39m\u001B[38;5;124m\"\u001B[39m: allow_redirects,\n\u001B[0;32m    587\u001B[0m }\n\u001B[0;32m    588\u001B[0m send_kwargs\u001B[38;5;241m.\u001B[39mupdate(settings)\n\u001B[1;32m--> 589\u001B[0m resp \u001B[38;5;241m=\u001B[39m \u001B[38;5;28mself\u001B[39m\u001B[38;5;241m.\u001B[39msend(prep, \u001B[38;5;241m*\u001B[39m\u001B[38;5;241m*\u001B[39msend_kwargs)\n\u001B[0;32m    591\u001B[0m \u001B[38;5;28;01mreturn\u001B[39;00m resp\n",
      "File \u001B[1;32m~\\Anaconda3\\envs\\langgraph_agent\\Lib\\site-packages\\requests\\sessions.py:703\u001B[0m, in \u001B[0;36mSession.send\u001B[1;34m(self, request, **kwargs)\u001B[0m\n\u001B[0;32m    700\u001B[0m start \u001B[38;5;241m=\u001B[39m preferred_clock()\n\u001B[0;32m    702\u001B[0m \u001B[38;5;66;03m# Send the request\u001B[39;00m\n\u001B[1;32m--> 703\u001B[0m r \u001B[38;5;241m=\u001B[39m adapter\u001B[38;5;241m.\u001B[39msend(request, \u001B[38;5;241m*\u001B[39m\u001B[38;5;241m*\u001B[39mkwargs)\n\u001B[0;32m    705\u001B[0m \u001B[38;5;66;03m# Total elapsed time of the request (approximately)\u001B[39;00m\n\u001B[0;32m    706\u001B[0m elapsed \u001B[38;5;241m=\u001B[39m preferred_clock() \u001B[38;5;241m-\u001B[39m start\n",
      "File \u001B[1;32m~\\Anaconda3\\envs\\langgraph_agent\\Lib\\site-packages\\requests\\adapters.py:713\u001B[0m, in \u001B[0;36mHTTPAdapter.send\u001B[1;34m(self, request, stream, timeout, verify, cert, proxies)\u001B[0m\n\u001B[0;32m    711\u001B[0m     \u001B[38;5;28;01mraise\u001B[39;00m SSLError(e, request\u001B[38;5;241m=\u001B[39mrequest)\n\u001B[0;32m    712\u001B[0m \u001B[38;5;28;01melif\u001B[39;00m \u001B[38;5;28misinstance\u001B[39m(e, ReadTimeoutError):\n\u001B[1;32m--> 713\u001B[0m     \u001B[38;5;28;01mraise\u001B[39;00m ReadTimeout(e, request\u001B[38;5;241m=\u001B[39mrequest)\n\u001B[0;32m    714\u001B[0m \u001B[38;5;28;01melif\u001B[39;00m \u001B[38;5;28misinstance\u001B[39m(e, _InvalidHeader):\n\u001B[0;32m    715\u001B[0m     \u001B[38;5;28;01mraise\u001B[39;00m InvalidHeader(e, request\u001B[38;5;241m=\u001B[39mrequest)\n",
      "\u001B[1;31mReadTimeout\u001B[0m: HTTPSConnectionPool(host='mermaid.ink', port=443): Read timed out. (read timeout=10)"
     ]
    }
   ],
   "execution_count": 53
  },
  {
   "metadata": {
    "ExecuteTime": {
     "end_time": "2025-04-21T02:33:42.648741Z",
     "start_time": "2025-04-21T02:33:42.631993Z"
    }
   },
   "cell_type": "code",
   "source": [
    "# 그래프 시각화 로컬 파일 생성\n",
    "\n",
    "# display(Image(personal_law_agent.get_graph().draw_mermaid_png()))\n",
    "mermaid_code = rag_search_graph.get_graph().draw_mermaid()\n",
    "\n",
    "# Save to a file\n",
    "with open(\"search_agents.md\", \"w\") as f:\n",
    "    f.write(\"```mermaid\\n\")\n",
    "    f.write(mermaid_code)\n",
    "    f.write(\"\\n```\")"
   ],
   "id": "1c429f6b63232044",
   "outputs": [],
   "execution_count": 54
  },
  {
   "cell_type": "code",
   "id": "7dd2ae1f",
   "metadata": {},
   "source": [
    "inputs = {\"question\": \"대리인과 아파트 임대차 계약을 체결할 때 주의해야 할 점은 무엇인가요?\"}\n",
    "for output in rag_search_graph.stream(inputs):\n",
    "    for key, value in output.items():\n",
    "        # 노드 출력\n",
    "        pprint(f\"Node '{key}':\")\n",
    "        pprint(f\"Value: {value}\", indent=2, width=80, depth=None)\n",
    "    print(\"\\n----------------------------------------------------------\\n\")"
   ],
   "outputs": [],
   "execution_count": null
  },
  {
   "metadata": {
    "ExecuteTime": {
     "end_time": "2025-04-21T02:36:11.106777Z",
     "start_time": "2025-04-21T02:35:47.627370Z"
    }
   },
   "cell_type": "code",
   "source": [
    "inputs = {\"question\": \"2025년 4월 20일 서울 온도\"}\n",
    "for output in rag_search_graph.stream(inputs):\n",
    "    for key, value in output.items():\n",
    "        # 노드 출력\n",
    "        pprint(f\"Node '{key}':\")\n",
    "        pprint(f\"Value: {value}\", indent=2, width=80, depth=None)\n",
    "    print(\"\\n----------------------------------------------------------\\n\")"
   ],
   "id": "82131be43c3b1843",
   "outputs": [
    {
     "name": "stdout",
     "output_type": "stream",
     "text": [
      "\"Node 'analyze_question':\"\n",
      "\"Value: {'datasources': ['search_web']}\"\n",
      "\n",
      "----------------------------------------------------------\n",
      "\n",
      "--- 인터넷 검색 전문가 에이전트 시작 ---\n",
      "---문서 검색---\n",
      "---정보 추출 및 평가---\n",
      "---답변 생성---\n",
      "\"Node 'search_web':\"\n",
      "(\"Value: {'answers': ['### 질문에 대한 직접적인 답변\\\\n\\\\n2025년 4월 20일 서울의 아침 최저기온은 \"\n",
      " '11.0도입니다.\\\\n\\\\n### 관련 출처 및 링크\\\\n\\\\n- 출처: [Nate '\n",
      " '뉴스](https://news.nate.com/view/20250420n00538)\\\\n- 출처: '\n",
      " '[국민일보](https://www.kmib.co.kr/article/view.asp?arcid=0027990937)\\\\n\\\\n### 추가 '\n",
      " '설명 또는 예시\\\\n\\\\n서울의 4월 평균 기온은 일반적으로 10도에서 20도 사이로, 봄철의 쾌적한 날씨를 보입니다. 2025년 4월 '\n",
      " '20일의 최저기온인 11.0도는 이 시기의 평균적인 기온 범위에 속합니다. 이는 아침 시간대의 기온으로, 낮 동안에는 더 따뜻해질 '\n",
      " '가능성이 있습니다.\\\\n\\\\n### 결론 및 요약\\\\n\\\\n2025년 4월 20일 서울의 아침 최저기온은 11.0도로 예상됩니다. 이는 '\n",
      " \"봄철의 일반적인 기온 범위에 속하며, 쾌적한 날씨를 기대할 수 있습니다. (출처: Nate 뉴스, 국민일보)']}\")\n",
      "\n",
      "----------------------------------------------------------\n",
      "\n",
      "---최종 답변---\n",
      "\"Node 'generate_answer':\"\n",
      "(\"Value: {'question': '2025년 4월 20일 서울 온도', 'final_answer': '2025년 4월 20일 서울의 \"\n",
      " '아침 최저기온은 11.0도입니다 (출처: Nate 뉴스, https://news.nate.com/view/20250420n00538; '\n",
      " \"국민일보, https://www.kmib.co.kr/article/view.asp?arcid=0027990937).'}\")\n",
      "\n",
      "----------------------------------------------------------\n",
      "\n"
     ]
    }
   ],
   "execution_count": 57
  },
  {
   "cell_type": "code",
   "id": "1b89b9bb",
   "metadata": {
    "ExecuteTime": {
     "end_time": "2025-04-21T02:36:15.448831Z",
     "start_time": "2025-04-21T02:36:15.443448Z"
    }
   },
   "source": [
    "print(value['final_answer'])"
   ],
   "outputs": [
    {
     "name": "stdout",
     "output_type": "stream",
     "text": [
      "2025년 4월 20일 서울의 아침 최저기온은 11.0도입니다 (출처: Nate 뉴스, https://news.nate.com/view/20250420n00538; 국민일보, https://www.kmib.co.kr/article/view.asp?arcid=0027990937).\n"
     ]
    }
   ],
   "execution_count": 58
  },
  {
   "cell_type": "markdown",
   "id": "54e96cfe",
   "metadata": {},
   "source": [
    "# 5. 답변 평가 및 확인"
   ]
  },
  {
   "cell_type": "markdown",
   "id": "6309b804",
   "metadata": {},
   "source": [
    "### 5-1. 답변을 평가하는 ReAct 에이전트"
   ]
  },
  {
   "cell_type": "code",
   "id": "ebfedd91",
   "metadata": {
    "ExecuteTime": {
     "end_time": "2025-04-21T03:56:02.171065Z",
     "start_time": "2025-04-21T03:56:02.158413Z"
    }
   },
   "source": [
    "from textwrap import dedent\n",
    "\n",
    "evaluation_prompt = dedent(\"\"\"\n",
    "당신은 AI 어시스턴트가 생성한 답변을 평가하는 전문가입니다. 주어진 질문과 답변을 평가하고, 60점 만점으로 점수를 매기세요. 다음 기준을 사용하여 평가하십시오:\n",
    "\n",
    "1. 정확성 (10점)\n",
    "2. 관련성 (10점)\n",
    "3. 완전성 (10점)\n",
    "4. 인용 정확성 (10점)\n",
    "5. 명확성과 간결성 (10점)\n",
    "6. 객관성 (10점)\n",
    "\n",
    "평가 과정:\n",
    "1. 주어진 질문과 답변을 주의 깊게 읽으십시오.\n",
    "2. 필요한 경우, 다음 도구를 사용하여 추가 정보를 수집하세요:\n",
    "   - web_search: 웹 검색\n",
    "   - personal_law_search: 개인정보보호법 검색\n",
    "   - labor_law_search: 근로기준법 검색\n",
    "   - housing_law_search: 주택임대차보호법 검색\n",
    "\n",
    "   도구 사용 형식:\n",
    "   Action: [tool_name]\n",
    "   Action Input: [input for the tool]\n",
    "\n",
    "3. 각 기준에 대해 1-10점 사이의 점수를 매기세요.\n",
    "4. 총점을 계산하세요 (60점 만점).\n",
    "\n",
    "출력 형식:\n",
    "{\n",
    "  \"scores\": {\n",
    "    \"accuracy\": 0,\n",
    "    \"relevance\": 0,\n",
    "    \"completeness\": 0,\n",
    "    \"citation_accuracy\": 0,\n",
    "    \"clarity_conciseness\": 0,\n",
    "    \"objectivity\": 0\n",
    "  },\n",
    "  \"total_score\": 0,\n",
    "  \"brief_evaluation\": \"간단한 평가 설명\"\n",
    "}\n",
    "\n",
    "최종 출력에는 각 기준의 점수, 총점, 그리고 간단한 평가 설명만 포함하세요.\n",
    "\"\"\")"
   ],
   "outputs": [],
   "execution_count": 59
  },
  {
   "cell_type": "code",
   "id": "73a1548f",
   "metadata": {
    "ExecuteTime": {
     "end_time": "2025-04-21T03:57:09.546856Z",
     "start_time": "2025-04-21T03:57:09.527360Z"
    }
   },
   "source": [
    "tools"
   ],
   "outputs": [
    {
     "data": {
      "text/plain": [
       "[StructuredTool(name='personal_law_search', description='개인정보보호법 법률 조항을 검색합니다.', args_schema=<class 'langchain_core.utils.pydantic.personal_law_search'>, func=<function personal_law_search at 0x000001DDC96C3BA0>),\n",
       " StructuredTool(name='labor_law_search', description='근로기준법 법률 조항을 검색합니다.', args_schema=<class 'langchain_core.utils.pydantic.labor_law_search'>, func=<function labor_law_search at 0x000001DE197A63E0>),\n",
       " StructuredTool(name='housing_law_search', description='주택임대차보호법 법률 조항을 검색합니다.', args_schema=<class 'langchain_core.utils.pydantic.housing_law_search'>, func=<function housing_law_search at 0x000001DDB3F819E0>),\n",
       " StructuredTool(name='web_search', description='데이터베이스에 없는 정보 또는 최신 정보를 웹에서 검색합니다.', args_schema=<class 'langchain_core.utils.pydantic.web_search'>, func=<function web_search at 0x000001DE197A6160>)]"
      ]
     },
     "execution_count": 60,
     "metadata": {},
     "output_type": "execute_result"
    }
   ],
   "execution_count": 60
  },
  {
   "cell_type": "code",
   "id": "c8383fa5",
   "metadata": {
    "ExecuteTime": {
     "end_time": "2025-04-21T04:05:14.340443Z",
     "start_time": "2025-04-21T04:05:14.320278Z"
    }
   },
   "source": [
    "from langgraph.prebuilt import create_react_agent\n",
    "# from IPython.display import Image, display\n",
    "\n",
    "# 그래프 생성 react agent 객체 생성\n",
    "answer_reviewer = create_react_agent(\n",
    "    llm, \n",
    "    tools=tools, \n",
    "    state_modifier=evaluation_prompt,\n",
    "    )\n",
    "# \n",
    "# # 그래프 출력\n",
    "# display(Image(answer_reviewer.get_graph().draw_mermaid_png()))"
   ],
   "outputs": [],
   "execution_count": 65
  },
  {
   "cell_type": "code",
   "id": "b9a92866",
   "metadata": {
    "ExecuteTime": {
     "end_time": "2025-04-21T03:59:04.687518Z",
     "start_time": "2025-04-21T03:58:45.544712Z"
    }
   },
   "source": [
    "# 응답 평가 react 그래프 실행\n",
    "from langchain_core.messages import HumanMessage\n",
    "# 앞선 research agent 응답과 사용자 질문을 입력 하여 응답을 품질을 평가   \n",
    "messages = [HumanMessage(content=f\"\"\"[질문]\\n\\{value['question']}n\\n[답변]\\n{value['final_answer']}\"\"\")]\n",
    " # 품질 평가 react agent 객체 실행\n",
    "messages = answer_reviewer.invoke({\"messages\": messages})\n",
    "for m in messages['messages']:\n",
    "    m.pretty_print()"
   ],
   "outputs": [
    {
     "name": "stdout",
     "output_type": "stream",
     "text": [
      "================================\u001B[1m Human Message \u001B[0m=================================\n",
      "\n",
      "[질문]\n",
      "\\2025년 4월 20일 서울 온도n\n",
      "[답변]\n",
      "2025년 4월 20일 서울의 아침 최저기온은 11.0도입니다 (출처: Nate 뉴스, https://news.nate.com/view/20250420n00538; 국민일보, https://www.kmib.co.kr/article/view.asp?arcid=0027990937).\n",
      "==================================\u001B[1m Ai Message \u001B[0m==================================\n",
      "Tool Calls:\n",
      "  web_search (call_5anFbZQC67KeWvxwm5V54ZEc)\n",
      " Call ID: call_5anFbZQC67KeWvxwm5V54ZEc\n",
      "  Args:\n",
      "    query: 2025년 4월 20일 서울 온도\n",
      "=================================\u001B[1m Tool Message \u001B[0m=================================\n",
      "Name: web_search\n",
      "\n",
      "[Document(metadata={'source': 'web search', 'url': 'https://www.kmib.co.kr/article/view.asp?arcid=0027990937'}, page_content='<Document href=\"https://www.kmib.co.kr/article/view.asp?arcid=0027990937\"/>\\n4월 20일 일요일, 아침 날씨입니다. 아침 최저기온은 서울 11.0도, 인천 9.0도, 수원 10.0도, 춘천 10.0도, 강릉 11.0도, 청주 12.0도, 대전 12.0도, 전주 15.0도, 광주 15.0도, 대구 16.0도, 부산 16.0도, 제주 16.0도로 예상됩니다. 낮 최고기온은 서울 24.0도, 인천 21.0도, 수원 23.0도, 춘천 25.0도, 강릉 18.0도, 청주 24.0도\\n</Document>'), Document(metadata={'source': 'web search', 'url': 'https://ko.meteocast.net/forecast/kr/seoul/'}, page_content='<Document href=\"https://ko.meteocast.net/forecast/kr/seoul/\"/>\\n토요일, 2025년 4월 19일 에 서울특별시 날씨는 다음과 같이 될 것이다: . 저녁에 공기 온도는 +12...+13°C 떨어진다 , 이슬점 : +11,28°C , 온도, 풍속, 습도의 비율 : 아주 편안하게 . 일부 장소에서 약간의 비가 될 것이다 . 산들 바람 바람이 1-2 초당 미터 속도로 서쪽 불어 흐린 하늘 낮의 길이는 : 13:19\\n</Document>')]\n",
      "==================================\u001B[1m Ai Message \u001B[0m==================================\n",
      "\n",
      "{\n",
      "  \"scores\": {\n",
      "    \"accuracy\": 9,\n",
      "    \"relevance\": 10,\n",
      "    \"completeness\": 9,\n",
      "    \"citation_accuracy\": 9,\n",
      "    \"clarity_conciseness\": 10,\n",
      "    \"objectivity\": 10\n",
      "  },\n",
      "  \"total_score\": 57,\n",
      "  \"brief_evaluation\": \"답변은 정확하고 관련성이 있으며, 인용된 출처도 신뢰할 수 있습니다. 다만, 낮 최고기온 정보가 누락되어 있어 완전성에서 약간의 감점이 있습니다.\"\n",
      "}\n"
     ]
    }
   ],
   "execution_count": 62
  },
  {
   "cell_type": "code",
   "id": "eaf8548d",
   "metadata": {
    "ExecuteTime": {
     "end_time": "2025-04-21T04:00:01.499809Z",
     "start_time": "2025-04-21T04:00:01.485871Z"
    }
   },
   "source": [
    "json.loads(m.content).keys()"
   ],
   "outputs": [
    {
     "data": {
      "text/plain": [
       "dict_keys(['scores', 'total_score', 'brief_evaluation'])"
      ]
     },
     "execution_count": 63,
     "metadata": {},
     "output_type": "execute_result"
    }
   ],
   "execution_count": 63
  },
  {
   "cell_type": "code",
   "id": "fe57f21e",
   "metadata": {
    "ExecuteTime": {
     "end_time": "2025-04-21T04:00:22.672358Z",
     "start_time": "2025-04-21T04:00:22.666356Z"
    }
   },
   "source": [
    "print(json.loads(m.content)['total_score'])"
   ],
   "outputs": [
    {
     "name": "stdout",
     "output_type": "stream",
     "text": [
      "57\n"
     ]
    }
   ],
   "execution_count": 64
  },
  {
   "cell_type": "markdown",
   "id": "0112d5be",
   "metadata": {},
   "source": [
    "### 5-2. 답변 평가 내용을 확인하는 HITL 추가"
   ]
  },
  {
   "cell_type": "code",
   "id": "549617e8",
   "metadata": {
    "ExecuteTime": {
     "end_time": "2025-04-21T04:16:57.486801Z",
     "start_time": "2025-04-21T04:16:57.472189Z"
    }
   },
   "source": [
    "# 답변 평가 하는 노드를 추가\n",
    "# in: ResearchAgentState out: ResearchAgentState \n",
    "def evaluate_answer_node(state:ResearchAgentState):\n",
    "    question = state[\"question\"]\n",
    "    final_answer = state[\"final_answer\"]\n",
    "\n",
    "    messages = [HumanMessage(content=f\"\"\"[질문]\\n\\{question}n\\n[답변]\\n{final_answer}\"\"\")]\n",
    "    # answer_reviewer, react agent 실행\n",
    "    response = answer_reviewer.invoke({\"messages\": messages})\n",
    "    response_dict = json.loads(response['messages'][-1].content)\n",
    "    # react agent 답변  \"evaluation_report\": response_dict\n",
    "    return {\"evaluation_report\": response_dict, \"question\": question, \"final_answer\": final_answer}\n",
    "\n",
    "# HITL 조건부 엣지 정의\n",
    "def human_review(state: ResearchAgentState):\n",
    "    print(\"\\n현재 답변:\")\n",
    "    print(state['final_answer'])\n",
    "    print(\"\\n평가 결과:\")\n",
    "    print(f\"총점: {state['evaluation_report']['total_score']}/60\")\n",
    "    # react agent 답변 컨텐트 중 \"brief_evaluation\": \"간단한 평가 설명\"\n",
    "    print(state['evaluation_report']['brief_evaluation'])\n",
    "    \n",
    "    # 사용자 입력 받기 UI\n",
    "    user_input = input(\"\\n이 답변을 승인하시겠습니까? (y/n): \").lower()\n",
    "    # HIL 입력 값 (y/n)\n",
    "    if user_input == 'y':\n",
    "        return \"approved\"\n",
    "    else:\n",
    "        return \"rejected\"\n",
    "    "
   ],
   "outputs": [],
   "execution_count": 66
  },
  {
   "cell_type": "code",
   "id": "ef039f06",
   "metadata": {
    "ExecuteTime": {
     "end_time": "2025-04-21T04:23:35.538172Z",
     "start_time": "2025-04-21T04:23:35.335354Z"
    }
   },
   "source": [
    "# 노드 Dictionary 관리\n",
    "nodes = {\n",
    "    \"analyze_question\": analyze_question_tool_search,\n",
    "    \"search_personal\": personal_rag_node,\n",
    "    \"search_labor\": labor_rag_node,\n",
    "    \"search_housing\": housing_rag_node,\n",
    "    \"search_web\": web_rag_node,\n",
    "    \"generate_answer\": answer_final,\n",
    "    \"llm_fallback\": llm_fallback,\n",
    "    \"evaluate_answer\": evaluate_answer_node, \n",
    "}\n",
    "\n",
    "# 그래프 생성을 위한 StateGraph 객체 생성\n",
    "search_builder = StateGraph(ResearchAgentState)\n",
    "\n",
    "# 노드 Dictionary 각 노드 등록\n",
    "for node_name, node_func in nodes.items():\n",
    "    search_builder.add_node(node_name, node_func)\n",
    "\n",
    "# 기존 엣지 추가 (병렬 처리)\n",
    "search_builder.add_edge(START, \"analyze_question\")\n",
    "search_builder.add_conditional_edges(\n",
    "    \"analyze_question\",\n",
    "    route_datasources_tool_search,\n",
    "    [\"search_personal\", \"search_labor\", \"search_housing\", \"search_web\", \"llm_fallback\"]\n",
    ")\n",
    "\n",
    "# 엣지 노드 등록\n",
    "# 각 agent 노드 >> generate_answer 연결 \n",
    "for node in [\"search_personal\", \"search_labor\", \"search_housing\", \"search_web\"]:\n",
    "    search_builder.add_edge(node, \"generate_answer\")\n",
    "# 추가 : generate_answer >> evaluate_answer 연결\n",
    "search_builder.add_edge(\"generate_answer\", \"evaluate_answer\")\n",
    "\n",
    "# HITL 결과에 따른 조건부 엣지 추가\n",
    "#  \"approved\" >> END, \"rejected\" >> \"analyze_question\"\n",
    "search_builder.add_conditional_edges(\n",
    "    \"evaluate_answer\",\n",
    "    # 사람의 승인, 거절 입력 받는 노드 \n",
    "    human_review,\n",
    "    {\n",
    "        \"approved\": END,\n",
    "        \"rejected\": \"analyze_question\"  # 승인되지 않은 경우 질문 분석 단계로 돌아감\n",
    "    }\n",
    ")\n",
    "\n",
    "# 엣지 llm_fallback >> END\n",
    "search_builder.add_edge(\"llm_fallback\", END)\n",
    "\n",
    "# 그래프 컴파일\n",
    "legal_rag_agent = search_builder.compile()\n",
    "\n",
    "# # 그래프 시각화 \n",
    "# display(Image(legal_rag_agent.get_graph().draw_mermaid_png()))"
   ],
   "outputs": [],
   "execution_count": 67
  },
  {
   "metadata": {
    "ExecuteTime": {
     "end_time": "2025-04-21T04:24:37.659454Z",
     "start_time": "2025-04-21T04:24:37.624995Z"
    }
   },
   "cell_type": "code",
   "source": [
    "# 그래프 시각화 로컬 파일 생성\n",
    "\n",
    "# display(Image(personal_law_agent.get_graph().draw_mermaid_png()))\n",
    "mermaid_code = legal_rag_agent.get_graph().draw_mermaid()\n",
    "\n",
    "# Save to a file\n",
    "with open(\"search_agents_HIL.md\", \"w\") as f:\n",
    "    f.write(\"```mermaid\\n\")\n",
    "    f.write(mermaid_code)\n",
    "    f.write(\"\\n```\")"
   ],
   "id": "5362a955e415d1cc",
   "outputs": [],
   "execution_count": 69
  },
  {
   "cell_type": "code",
   "id": "cacdf91e",
   "metadata": {},
   "source": [
    "inputs = {\"question\": \"대리인과 아파트 임대차 계약을 체결할 때 주의해야 할 점은 무엇인가요?\"}\n",
    "for output in legal_rag_agent.stream(inputs):\n",
    "    for key, value in output.items():\n",
    "        # 노드 출력\n",
    "        pprint(f\"Node '{key}':\")\n",
    "        pprint(f\"Value: {value}\", indent=2, width=80, depth=None)\n",
    "    print(\"\\n----------------------------------------------------------\\n\")"
   ],
   "outputs": [],
   "execution_count": null
  },
  {
   "cell_type": "code",
   "id": "42743e8d",
   "metadata": {},
   "source": [
    "value"
   ],
   "outputs": [],
   "execution_count": null
  },
  {
   "cell_type": "code",
   "id": "e192d91d",
   "metadata": {},
   "source": [
    "inputs = {\"question\": \"개인정보 유출 시 기업이 취해야 할 법적 조치는 무엇인가요?\"}\n",
    "for output in legal_rag_agent.stream(inputs):\n",
    "    for key, value in output.items():\n",
    "        # 노드 출력\n",
    "        pprint(f\"Node '{key}':\")\n",
    "        pprint(f\"Value: {value}\", indent=2, width=80, depth=None)\n",
    "    print(\"\\n----------------------------------------------------------\\n\")"
   ],
   "outputs": [],
   "execution_count": null
  },
  {
   "cell_type": "code",
   "id": "571fe3b1",
   "metadata": {},
   "source": [
    "value"
   ],
   "outputs": [],
   "execution_count": null
  },
  {
   "cell_type": "markdown",
   "id": "c1789c17",
   "metadata": {},
   "source": [
    "# 6. Gradio 챗봇"
   ]
  },
  {
   "cell_type": "code",
   "id": "6f553ef6",
   "metadata": {
    "ExecuteTime": {
     "end_time": "2025-04-21T04:30:20.356025Z",
     "start_time": "2025-04-21T04:30:20.303135Z"
    }
   },
   "source": [
    "from langgraph.checkpoint.memory import MemorySaver\n",
    "\n",
    "# HITL 노드로 변경 (그라디오에서 입력을 처리)\n",
    "def human_review(state: ResearchAgentState):\n",
    "    pass\n",
    "\n",
    "# 그래프 생성을 위한 StateGraph 객체를 정의\n",
    "search_builder = StateGraph(ResearchAgentState)\n",
    "\n",
    "# 노드 Dict. 추가\n",
    "nodes = {\n",
    "    \"analyze_question\": analyze_question_tool_search,\n",
    "    \"search_personal\": personal_rag_node,\n",
    "    \"search_labor\": labor_rag_node,\n",
    "    \"search_housing\": housing_rag_node,\n",
    "    \"search_web\": web_rag_node,\n",
    "    \"generate_answer\": answer_final,\n",
    "    \"llm_fallback\": llm_fallback,\n",
    "    \"evaluate_answer\": evaluate_answer_node, \n",
    "    \"human_review\": human_review,\n",
    "}\n",
    "# 그래프 노드 등록\n",
    "for node_name, node_func in nodes.items():\n",
    "    search_builder.add_node(node_name, node_func)\n",
    "\n",
    "# 엣지 연결 추가 (병렬 처리)\n",
    "# 시작\n",
    "search_builder.add_edge(START, \"analyze_question\")\n",
    "# 조건부 분기 병렬 \n",
    "search_builder.add_conditional_edges(\n",
    "    \"analyze_question\",\n",
    "    route_datasources_tool_search,\n",
    "    [\"search_personal\", \"search_labor\", \"search_housing\", \"search_web\", \"llm_fallback\"]\n",
    ")\n",
    "\n",
    "# 엣지 연결\n",
    "for node in [\"search_personal\", \"search_labor\", \"search_housing\", \"search_web\"]:\n",
    "    search_builder.add_edge(node, \"generate_answer\")\n",
    "search_builder.add_edge(\"generate_answer\", \"evaluate_answer\")\n",
    "search_builder.add_edge(\"evaluate_answer\", \"human_review\")\n",
    "\n",
    "# HITL 결과에 따른 조건부 엣지 추가\n",
    "search_builder.add_conditional_edges(\n",
    "    \"human_review\",\n",
    "    lambda x: \"approved\" if x.get(\"user_decision\") == \"approved\" else \"rejected\",\n",
    "    {\n",
    "        \"approved\": END,\n",
    "        \"rejected\": \"analyze_question\"\n",
    "    }\n",
    ")\n",
    "# 엣지 연결 fallback >> END\n",
    "search_builder.add_edge(\"llm_fallback\", END)\n",
    "\n",
    "# 메모리 추가\n",
    "memory = MemorySaver()\n",
    "\n",
    "# 그래프 컴파일 (Breakpoint 설정)\n",
    "legal_rag_agent = search_builder.compile(checkpointer=memory, interrupt_before=[\"human_review\"])\n",
    "\n",
    "# # 그래프 시각화 \n",
    "# display(Image(legal_rag_agent.get_graph().draw_mermaid_png()))"
   ],
   "outputs": [],
   "execution_count": 70
  },
  {
   "metadata": {
    "ExecuteTime": {
     "end_time": "2025-04-21T04:30:37.862213Z",
     "start_time": "2025-04-21T04:30:37.851160Z"
    }
   },
   "cell_type": "code",
   "source": [
    "# 그래프 시각화 로컬 파일 생성\n",
    "# interrupt_before=[\"human_review\"]\n",
    "# display(Image(personal_law_agent.get_graph().draw_mermaid_png()))\n",
    "mermaid_code = legal_rag_agent.get_graph().draw_mermaid()\n",
    "\n",
    "# Save to a file\n",
    "with open(\"search_agents_HIL.md\", \"w\") as f:\n",
    "    f.write(\"```mermaid\\n\")\n",
    "    f.write(mermaid_code)\n",
    "    f.write(\"\\n```\")"
   ],
   "id": "9af7faf616130c6",
   "outputs": [],
   "execution_count": 71
  },
  {
   "cell_type": "code",
   "id": "2b6c5677",
   "metadata": {
    "ExecuteTime": {
     "end_time": "2025-04-21T05:29:14.901832Z",
     "start_time": "2025-04-21T05:29:11.632876Z"
    }
   },
   "source": [
    "import gradio as gr\n",
    "import uuid\n",
    "from typing import List, Tuple\n",
    "from langgraph.checkpoint.memory import MemorySaver\n",
    "\n",
    "# 메모리 사용 준비\n",
    "memory = MemorySaver()\n",
    "# agent 그래프 컴파일 \n",
    "legal_rag_agent = search_builder.compile(checkpointer=memory, interrupt_before=[\"human_review\"])\n",
    "\n",
    "# 예시 질문들\n",
    "example_questions = [\n",
    "    \"사업장에서 CCTV를 설치할 때 주의해야 할 법적 사항은 무엇인가요?\",\n",
    "    \"전월세 계약 갱신 요구권의 행사 기간과 조건은 어떻게 되나요?\",\n",
    "    \"개인정보 유출 시 기업이 취해야 할 법적 조치는 무엇인가요?\",\n",
    "]\n",
    "\n",
    "# 챗봇 클래스 생성\n",
    "class ChatBot:\n",
    "    def __init__(self):\n",
    "        self.thread_id = str(uuid.uuid4())\n",
    "        self.user_decision = False\n",
    "\n",
    "    def process_message(self, message: str) -> str:\n",
    "        try:\n",
    "            config = {\"configurable\": {\"thread_id\": self.thread_id}}\n",
    "            \n",
    "            if not self.user_decision:\n",
    "                # Breakpoint 까지 먼저 실행\n",
    "                inputs = {\"question\": message}\n",
    "                legal_rag_agent.invoke(inputs, config=config)\n",
    "\n",
    "                # Breakpoint에서 현재 상태를 출력하고, 사용자의 승인 여부를 입력받음 \n",
    "                current_state = legal_rag_agent.get_state(config)\n",
    "                print(\"Current state:\", current_state)\n",
    "                \n",
    "                final_answer = current_state.values.get(\"final_answer\", \"No answer available\")\n",
    "                evaluation_report = current_state.values.get('evaluation_report', {'total_score': 0, 'brief_evaluation': 'No evaluation available'})\n",
    "                \n",
    "                response = f\"\"\"현재 답변:\n",
    "            {final_answer}\n",
    "\n",
    "            평가 결과:\n",
    "            총점: {evaluation_report.get('total_score', 0)}/60\n",
    "            {evaluation_report.get('brief_evaluation', 'No evaluation available')}\n",
    "\n",
    "            이 답변을 승인하시겠습니까? (y/n): \"\"\"\n",
    "                \n",
    "                # 사용자 승인 여부를 True로 변경 \n",
    "                self.user_decision = True\n",
    "                return response\n",
    "                \n",
    "            else:\n",
    "                # 사용자 입력에 따라 다음 경로를 선택\n",
    "                user_decision = message.lower()\n",
    "                if user_decision == 'y':\n",
    "                    self.user_decision = False # 초기화 \n",
    "                    # 상태 업데이트 - 질문을 수정하여 업데이트\n",
    "                    legal_rag_agent.update_state(config, {\"user_decision\": \"approved\"})\n",
    "                    # 나머지 작업을 이어서 진행 \n",
    "                    legal_rag_agent.invoke(None, config=config)\n",
    "                    # 작업이 종료되고 최종 상태의 메시지를 출력 \n",
    "                    current_state = legal_rag_agent.get_state(config)\n",
    "                    print(\"Final state:\", current_state)\n",
    "                    return current_state.values.get(\"final_answer\", \"No final answer available\")\n",
    "                else:\n",
    "                    self.user_decision = False # 초기화 \n",
    "                    # 상태 업데이트 - 질문을 수정하여 업데이트\n",
    "                    legal_rag_agent.update_state(config, {\"user_decision\": \"rejected\"})\n",
    "                    # 나머지 작업을 이어서 진행 \n",
    "                    legal_rag_agent.invoke(None, config=config)\n",
    "                    # Breakpoint에서 현재 상태를 출력하고, 사용자의 승인 여부를 입력받음 \n",
    "                    current_state = legal_rag_agent.get_state(config)\n",
    "                    print(\"Revised state:\", current_state)\n",
    "                    \n",
    "                    final_answer = current_state.values.get(\"final_answer\", \"No answer available\")\n",
    "                    evaluation_report = current_state.values.get('evaluation_report', {'total_score': 0, 'brief_evaluation': 'No evaluation available'})\n",
    "                    \n",
    "                    response = f\"\"\"다시 생성한 답변:\n",
    "                {final_answer}\n",
    "\n",
    "                평가 결과:\n",
    "                총점: {evaluation_report.get('total_score', 0)}/60\n",
    "                {evaluation_report.get('brief_evaluation', 'No evaluation available')}\n",
    "\n",
    "                이 답변을 승인하시겠습니까? (y/n): \"\"\"\n",
    "                    \n",
    "                    # 사용자 승인 여부를 True로 변경 \n",
    "                    self.user_decision = True\n",
    "                    return response\n",
    "\n",
    "        except Exception as e:\n",
    "            print(f\"Error occurred: {str(e)}\")\n",
    "            return \"죄송합니다. 응답을 생성하는 동안 오류가 발생했습니다. 다시 시도해 주세요.\"\n",
    "\n",
    "    def chat(self, message: str, history: List[Tuple[str, str]]) -> str:\n",
    "        print(f\"Thread ID: {self.thread_id}\")\n",
    "        response = self.process_message(message)\n",
    "        return response\n",
    "\n",
    "chatbot = ChatBot()\n",
    "\n",
    "# ChatInterface 생성\n",
    "demo = gr.ChatInterface(\n",
    "    fn=chatbot.chat,\n",
    "    title=\"생활법률 AI 어시스턴트\",\n",
    "    description=\"주택임대차보호법, 근로기준법, 개인정보보호법 관련 질문에 답변해 드립니다.\",\n",
    "    examples=example_questions,\n",
    "    theme=gr.themes.Soft()\n",
    ")\n",
    "\n",
    "# Gradio 앱 실행\n",
    "demo.launch()"
   ],
   "outputs": [
    {
     "name": "stdout",
     "output_type": "stream",
     "text": [
      "Running on local URL:  http://127.0.0.1:7860\n",
      "\n",
      "Thanks for being a Gradio user! If you have questions or feedback, please join our Discord server and chat with us: https://discord.gg/feTf9x3ZSB\n",
      "\n",
      "Could not create share link. Please check your internet connection or our status page: https://status.gradio.app.\n"
     ]
    },
    {
     "data": {
      "text/plain": [
       "<IPython.core.display.HTML object>"
      ],
      "text/html": [
       "<div><iframe src=\"http://127.0.0.1:7860/\" width=\"100%\" height=\"500\" allow=\"autoplay; camera; microphone; clipboard-read; clipboard-write;\" frameborder=\"0\" allowfullscreen></iframe></div>"
      ]
     },
     "metadata": {},
     "output_type": "display_data"
    },
    {
     "data": {
      "text/plain": []
     },
     "execution_count": 76,
     "metadata": {},
     "output_type": "execute_result"
    }
   ],
   "execution_count": 76
  },
  {
   "cell_type": "code",
   "id": "2cfe9e63",
   "metadata": {
    "ExecuteTime": {
     "end_time": "2025-04-21T05:28:03.777877Z",
     "start_time": "2025-04-21T05:28:03.614702Z"
    }
   },
   "source": [
    "demo.close()"
   ],
   "outputs": [
    {
     "name": "stdout",
     "output_type": "stream",
     "text": [
      "Closing server running on port: 7860\n"
     ]
    }
   ],
   "execution_count": 75
  }
 ],
 "metadata": {
  "kernelspec": {
   "display_name": "langgraph-agent-fZJ3tIVY-py3.11",
   "language": "python",
   "name": "python3"
  },
  "language_info": {
   "codemirror_mode": {
    "name": "ipython",
    "version": 3
   },
   "file_extension": ".py",
   "mimetype": "text/x-python",
   "name": "python",
   "nbconvert_exporter": "python",
   "pygments_lexer": "ipython3",
   "version": "3.11.9"
  }
 },
 "nbformat": 4,
 "nbformat_minor": 5
}
