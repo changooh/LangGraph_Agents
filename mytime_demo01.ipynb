{
 "cells": [
  {
   "cell_type": "code",
   "execution_count": 8,
   "id": "b56e4403",
   "metadata": {},
   "outputs": [],
   "source": [
    "from datetime import datetime, timedelta\n",
    "import json\n",
    "import re\n",
    "\n",
    "\n",
    "def parse_work_records(input_text: str) -> str:\n",
    "        \"\"\"근무 기록 파싱 도구\"\"\"\n",
    "        try:\n",
    "            work_records = []\n",
    "\n",
    "            # 자연어 패턴 처리\n",
    "            natural_patterns = [\n",
    "                r'(\\d{1,2}월\\s*\\d{1,2}일).*?(\\d{1,2}시|\\d{1,2}:\\d{2}).*?(\\d{1,2}시|\\d{1,2}:\\d{2})',\n",
    "                r'(어제|오늘|내일|그제|모레).*?(\\d{1,2}시|\\d{1,2}:\\d{2}).*?(\\d{1,2}시|\\d{1,2}:\\d{2})',\n",
    "                r'(지난주|이번주|다음주)\\s*(월|화|수|목|금|토|일)요일.*?(\\d{1,2}시|\\d{1,2}:\\d{2}).*?(\\d{1,2}시|\\d{1,2}:\\d{2})'\n",
    "            ]\n",
    "\n",
    "            # 정형 데이터 패턴\n",
    "            formal_patterns = [\n",
    "                r'(\\d{4}-\\d{2}-\\d{2})\\s+(\\d{1,2}:\\d{2})-(\\d{1,2}:\\d{2})',\n",
    "                r'(\\d{2}-\\d{2})\\s+(\\d{1,2}:\\d{2})-(\\d{1,2}:\\d{2})',\n",
    "                r'(\\d{1,2}/\\d{1,2})\\s+(\\d{1,2}:\\d{2})-(\\d{1,2}:\\d{2})'\n",
    "            ]\n",
    "\n",
    "            current_year = datetime.now().year\n",
    "            today = datetime.now().date()\n",
    "\n",
    "            # 정형 데이터 처리\n",
    "            for pattern in formal_patterns:\n",
    "                matches = re.findall(pattern, input_text)\n",
    "                for match in matches:\n",
    "                    date_str, start_time_str, end_time_str = match\n",
    "\n",
    "                    try:\n",
    "                        # 날짜 정규화\n",
    "                        if '-' in date_str and len(date_str) == 10:  # YYYY-MM-DD\n",
    "                            work_date = datetime.strptime(date_str, '%Y-%m-%d').date()\n",
    "                        elif '-' in date_str and len(date_str) == 5:  # MM-DD\n",
    "                            work_date = datetime.strptime(f\"{current_year}-{date_str}\", '%Y-%m-%d').date()\n",
    "                        elif '/' in date_str:  # M/D\n",
    "                            work_date = datetime.strptime(f\"{current_year}/{date_str}\", '%Y/%m/%d').date()\n",
    "                        else:\n",
    "                            continue\n",
    "\n",
    "                        # 시간 파싱\n",
    "                        start_time = datetime.strptime(f\"{work_date} {start_time_str}\", '%Y-%m-%d %H:%M')\n",
    "                        end_time = datetime.strptime(f\"{work_date} {end_time_str}\", '%Y-%m-%d %H:%M')\n",
    "\n",
    "                        # 종료 시간이 시작 시간보다 이전이면 다음날로 처리\n",
    "                        if end_time <= start_time:\n",
    "                            end_time += timedelta(days=1)\n",
    "\n",
    "                        work_records.append({\n",
    "                            'date': work_date,\n",
    "                            'start_time': start_time,\n",
    "                            'end_time': end_time,\n",
    "                            'is_weekend': work_date.weekday() >= 5,\n",
    "                            'is_substitute_holiday': False\n",
    "                        })\n",
    "                    except:\n",
    "                        continue\n",
    "\n",
    "            # 대체휴일 정보 추출\n",
    "            substitute_holidays = []\n",
    "            sub_patterns = [\n",
    "                r'대체휴일[:\\s]*(\\d{4}-\\d{2}-\\d{2})',\n",
    "                r'대체휴일[:\\s]*(\\d{2}-\\d{2})',\n",
    "                r'대체휴일[:\\s]*(\\d{1,2}월\\s*\\d{1,2}일)'\n",
    "            ]\n",
    "\n",
    "            for pattern in sub_patterns:\n",
    "                matches = re.findall(pattern, input_text)\n",
    "                for match in matches:\n",
    "                    try:\n",
    "                        if len(match) == 10:  # YYYY-MM-DD\n",
    "                            sub_date = datetime.strptime(match, '%Y-%m-%d').date()\n",
    "                        elif len(match) == 5:  # MM-DD\n",
    "                            sub_date = datetime.strptime(f\"{current_year}-{match}\", '%Y-%m-%d').date()\n",
    "                        elif '월' in match and '일' in match:  # M월 D일\n",
    "                            match = match.replace('월', '-').replace('일', '').replace(' ', '')\n",
    "                            sub_date = datetime.strptime(f\"{current_year}-{match}\", '%Y-%m-%d').date()\n",
    "                        else:\n",
    "                            continue\n",
    "                        substitute_holidays.append(sub_date)\n",
    "                    except:\n",
    "                        continue\n",
    "\n",
    "            # 대체휴일 정보 적용\n",
    "            for record in work_records:\n",
    "                if record['date'] in substitute_holidays:\n",
    "                    record['is_substitute_holiday'] = True\n",
    "\n",
    "            result = {\n",
    "                'work_records': work_records,\n",
    "                'substitute_holidays': [d.isoformat() for d in substitute_holidays],\n",
    "                'total_records': len(work_records)\n",
    "            }\n",
    "\n",
    "            return json.dumps(result, default=str, ensure_ascii=False)\n",
    "\n",
    "        except Exception as e:\n",
    "            return f\"파싱 오류: {str(e)}\""
   ]
  },
  {
   "cell_type": "code",
   "execution_count": 3,
   "id": "ffbf767cd1139017",
   "metadata": {},
   "outputs": [],
   "source": [
    "input = '1월 15일 오전 9시부터 밤 11시까지 근무했고, 1월 20일 토요일 오전 8시부터 자정까지 근무했어요. 20일은 대체휴일이에요.'"
   ]
  },
  {
   "cell_type": "code",
   "execution_count": 9,
   "id": "58cbd800",
   "metadata": {},
   "outputs": [],
   "source": [
    "result=parse_work_records(input)"
   ]
  },
  {
   "cell_type": "code",
   "execution_count": 12,
   "id": "f3dbe5e4",
   "metadata": {},
   "outputs": [
    {
     "name": "stdout",
     "output_type": "stream",
     "text": [
      "{'work_records': [], 'substitute_holidays': [], 'total_records': 0}\n"
     ]
    }
   ],
   "source": [
    "#print (result)\n",
    "result_json = json.loads(result)\n",
    "print(result_json)"
   ]
  }
 ],
 "metadata": {
  "kernelspec": {
   "display_name": "myenv",
   "language": "python",
   "name": "python3"
  },
  "language_info": {
   "codemirror_mode": {
    "name": "ipython",
    "version": 3
   },
   "file_extension": ".py",
   "mimetype": "text/x-python",
   "name": "python",
   "nbconvert_exporter": "python",
   "pygments_lexer": "ipython3",
   "version": "3.11.4"
  }
 },
 "nbformat": 4,
 "nbformat_minor": 5
}
