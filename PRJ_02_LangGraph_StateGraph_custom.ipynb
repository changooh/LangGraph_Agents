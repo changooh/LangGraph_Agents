{
 "cells": [
  {
   "cell_type": "raw",
   "metadata": {},
   "source": [
    "## 1. 환경 설정"
   ]
  },
  {
   "cell_type": "markdown",
   "metadata": {},
   "source": [
    "`(1) Env 환경변수`"
   ]
  },
  {
   "cell_type": "code",
   "execution_count": 1,
   "metadata": {
    "ExecuteTime": {
     "end_time": "2025-04-01T23:22:02.838666Z",
     "start_time": "2025-04-01T23:22:02.763354Z"
    },
    "jupyter": {
     "source_hidden": true
    }
   },
   "outputs": [
    {
     "data": {
      "text/plain": [
       "True"
      ]
     },
     "execution_count": 1,
     "metadata": {},
     "output_type": "execute_result"
    }
   ],
   "source": [
    "from dotenv import load_dotenv\n",
    "load_dotenv()"
   ]
  },
  {
   "cell_type": "raw",
   "metadata": {},
   "source": [
    "`(2) 기본 라이브러리`"
   ]
  },
  {
   "cell_type": "code",
   "execution_count": 4,
   "metadata": {
    "ExecuteTime": {
     "end_time": "2025-04-02T04:32:51.683302Z",
     "start_time": "2025-04-02T04:32:51.666894Z"
    }
   },
   "outputs": [],
   "source": [
    "import re\n",
    "import os, json\n",
    "\n",
    "from textwrap import dedent\n",
    "from pprint import pprint\n",
    "\n",
    "import warnings\n",
    "warnings.filterwarnings(\"ignore\")"
   ]
  },
  {
   "cell_type": "markdown",
   "metadata": {},
   "source": [
    "## 2. StateGraph\n",
    "- 상태(state)를 기반으로 작동하는 그래프 구조\n",
    "- 실습: 레스토랑 메뉴 추천 시스템\n",
    "    - 사용자의 선호도에 따라 메뉴를 추천하고, 메뉴에 대한 정보를 제공"
   ]
  },
  {
   "cell_type": "markdown",
   "metadata": {},
   "source": [
    "`(1) 상태(State)`\n",
    "- 상태는 그래프가 처리하는 데이터의 구조를 정의\n",
    "- 기존 상태를 override (덮어쓰기)"
   ]
  },
  {
   "cell_type": "code",
   "execution_count": 3,
   "metadata": {
    "ExecuteTime": {
     "end_time": "2025-04-02T01:27:14.964958Z",
     "start_time": "2025-04-02T01:27:14.958774Z"
    }
   },
   "outputs": [],
   "source": [
    "from typing import TypedDict\n",
    "\n",
    "# 상태 Schema 정의 - 사용자의 선호도, 추천된 메뉴, 그리고 메뉴 정보를 저장\n",
    "class MenuState(TypedDict):\n",
    "    user_preference: str\n",
    "    recommended_menu: str\n",
    "    menu_info: str"
   ]
  },
  {
   "cell_type": "markdown",
   "metadata": {},
   "source": [
    "`(2) 노드(Node)`\n",
    "- 노드는 그래프에서 실제 작업을 수행하는 함수"
   ]
  },
  {
   "cell_type": "code",
   "execution_count": null,
   "metadata": {},
   "outputs": [],
   "source": [
    "import random\n",
    "\n",
    "def get_user_preference(state: MenuState) -> MenuState:\n",
    "    print(\"---랜덤 사용자 선호도 생성---\")\n",
    "    if state['user_preference']:\n",
    "        return {\"user_preference\": state['user_preference']}\n",
    "    else:\n",
    "        preferences = [\"육류\", \"해산물\", \"채식\", \"아무거나\"]\n",
    "        preference = random.choice(preferences)\n",
    "        print(f\"생성된 선호도: {preference}\")\n",
    "        return {\"user_preference\": preference}\n",
    "\n",
    "def recommend_menu(state: MenuState) -> MenuState:\n",
    "    print(\"---메뉴 추천---\")\n",
    "    preference = state['user_preference']\n",
    "    if preference == \"육류\":\n",
    "        menu = \"스테이크\"\n",
    "    elif preference == \"해산물\":\n",
    "        menu = \"랍스터 파스타\"\n",
    "    elif preference == \"채식\":\n",
    "        menu = \"그린 샐러드\"\n",
    "    else:\n",
    "        menu = \"오늘의 쉐프 특선\"\n",
    "    print(f\"추천 메뉴: {menu}\")\n",
    "    return {\"recommended_menu\": menu}\n",
    "\n",
    "def provide_menu_info(state: MenuState) -> MenuState:\n",
    "    print(\"---메뉴 정보 제공---\")\n",
    "    menu = state['recommended_menu']\n",
    "    if menu == \"스테이크\":\n",
    "        info = \"최상급 소고기로 만든 juicy한 스테이크입니다. 가격: 30,000원\"\n",
    "    elif menu == \"랍스터 파스타\":\n",
    "        info = \"신선한 랍스터와 al dente 파스타의 조화. 가격: 28,000원\"\n",
    "    elif menu == \"그린 샐러드\":\n",
    "        info = \"신선한 유기농 채소로 만든 건강한 샐러드. 가격: 15,000원\"\n",
    "    else:\n",
    "        info = \"쉐프가 그날그날 엄선한 특별 요리입니다. 가격: 35,000원\"\n",
    "    print(f\"메뉴 정보: {info}\")\n",
    "    return {\"menu_info\": info}"
   ]
  },
  {
   "cell_type": "markdown",
   "metadata": {},
   "source": [
    "`(3) 그래프(Graph) 구성`\n",
    "- 정의한 구성 요소들을 사용하여 전체 그래프를 빌드"
   ]
  },
  {
   "cell_type": "code",
   "execution_count": null,
   "metadata": {},
   "outputs": [],
   "source": [
    "from langgraph.graph import StateGraph, START, END\n",
    "\n",
    "# 그래프 빌더 생성\n",
    "builder = StateGraph(MenuState)\n",
    "\n",
    "# 노드 추가\n",
    "builder.add_node(\"get_preference\", get_user_preference)\n",
    "builder.add_node(\"recommend\", recommend_menu)\n",
    "builder.add_node(\"provide_info\", provide_menu_info)\n",
    "\n",
    "# 엣지 추가\n",
    "builder.add_edge(START, \"get_preference\")\n",
    "builder.add_edge(\"get_preference\", \"recommend\")\n",
    "builder.add_edge(\"recommend\", \"provide_info\")\n",
    "builder.add_edge(\"provide_info\", END)\n",
    "\n",
    "# 그래프 컴파일\n",
    "graph = builder.compile()"
   ]
  },
  {
   "cell_type": "code",
   "execution_count": null,
   "metadata": {},
   "outputs": [],
   "source": [
    "from IPython.display import Image, display\n",
    "\n",
    "# 그래프 시각화\n",
    "display(Image(graph.get_graph().draw_mermaid_png()))"
   ]
  },
  {
   "cell_type": "code",
   "execution_count": null,
   "metadata": {},
   "outputs": [],
   "source": [
    "# 그래프 실행\n",
    "\n",
    "def print_result(result: MenuState):\n",
    "    print(\"\\n=== 결과 ===\")\n",
    "    print(\"선호도:\", result['user_preference'])\n",
    "    print(\"추천 메뉴:\", result['recommended_menu'])\n",
    "    print(\"메뉴 정보:\", result['menu_info'])\n",
    "    print(\"============\\n\")\n",
    "\n",
    "\n",
    "# 초기 입려\n",
    "inputs = {\"user_preference\": \"채식\"}\n",
    "\n",
    "# 여러 번 실행하여 테스트 \n",
    "for _ in range(2):\n",
    "    result = graph.invoke(inputs)\n",
    "    print_result(result)\n",
    "    print(\"*\"*100)\n",
    "    print()"
   ]
  },
  {
   "cell_type": "markdown",
   "metadata": {},
   "source": [
    "## 3. 조건부 엣지(Edge)\n",
    "- 엣지는 노드 간의 연결을 정의\n",
    "- 조건부 엣지: 사용자 입력이 메뉴 관련인지 여부에 따라 다른 경로로 진행"
   ]
  },
  {
   "cell_type": "markdown",
   "metadata": {},
   "source": [
    "`(1) State 정의`\n",
    "- 사용자 입력이 메뉴 추천이면 벡터저장소에서 검색하여 RAG Chain을 실행하고,\n",
    "- 그렇지 않은 경우에는 LLM이 답변을 생성"
   ]
  },
  {
   "cell_type": "code",
   "execution_count": null,
   "metadata": {},
   "outputs": [],
   "source": [
    "from typing import List\n",
    "\n",
    "# state 스키마 \n",
    "class MenuState(TypedDict):\n",
    "    user_query: str\n",
    "    is_menu_related: bool\n",
    "    search_results: List[str]\n",
    "    final_answer: str"
   ]
  },
  {
   "cell_type": "markdown",
   "metadata": {},
   "source": [
    "`(2) 벡터저장소 검색 도구`\n",
    "- 메뉴 검색을 위한 벡터저장소를 초기화 (기존 저장소를 로드)"
   ]
  },
  {
   "cell_type": "code",
   "execution_count": null,
   "metadata": {},
   "outputs": [],
   "source": [
    "from langchain_chroma import Chroma\n",
    "from langchain_ollama  import OllamaEmbeddings\n",
    "\n",
    "embeddings_model = OllamaEmbeddings(model=\"bge-m3\") \n",
    "\n",
    "# Chroma 인덱스 로드\n",
    "vector_db = Chroma(\n",
    "    embedding_function=embeddings_model,   \n",
    "    collection_name=\"restaurant_menu\",\n",
    "    persist_directory=\"./chroma_db\",\n",
    ")"
   ]
  },
  {
   "cell_type": "code",
   "execution_count": null,
   "metadata": {},
   "outputs": [],
   "source": []
  },
  {
   "cell_type": "code",
   "execution_count": null,
   "metadata": {},
   "outputs": [],
   "source": [
    "import os\n",
    "os.environ[\"OPENAI_API_VERSION\"] = os.getenv('AZURE_OPENAI_VERSION')\n",
    "os.environ[\"AZURE_OPENAI_ENDPOINT\"] = os.getenv('AZURE_OPENAI_END_POINT')\n",
    "os.environ[\"AZURE_OPENAI_API_KEY\"] = os.getenv('AZURE_OPENAI_KEY')\n",
    "\n",
    "from langchain_openai import AzureChatOpenAI\n",
    "\n",
    "llm = AzureChatOpenAI(\n",
    "    azure_deployment=os.getenv('DEPLOYMENT_NAME'),  # or your deployment\n",
    "    api_version=os.getenv('AZURE_OPENAI_VERSION'),  # or your api version\n",
    "    temperature=0,\n",
    "    # max_tokens=40000,\n",
    "    # timeout=None,\n",
    "    # max_retries=2,\n",
    "    # other params...\n",
    ")"
   ]
  },
  {
   "cell_type": "code",
   "execution_count": 27,
   "metadata": {
    "ExecuteTime": {
     "end_time": "2025-04-01T13:13:29.953195Z",
     "start_time": "2025-04-01T13:13:29.946571Z"
    }
   },
   "outputs": [],
   "source": [
    "from langchain_anthropic import ChatAnthropic\n",
    "\n",
    "# claude 모델 로드 \n",
    "llm = ChatAnthropic(\n",
    "    # model=\"claude-3-5-sonnet-20241022\",\n",
    "     model=\"claude-3-7-sonnet-20250219\",\n",
    "    temperature=0,\n",
    "    # max_tokens=200, \n",
    "    api_key=os.getenv('ANTHROPIC_API_KEY'),\n",
    ")"
   ]
  },
  {
   "cell_type": "markdown",
   "metadata": {},
   "source": [
    "`(3) 노드(Node)`"
   ]
  },
  {
   "cell_type": "code",
   "execution_count": 41,
   "metadata": {
    "ExecuteTime": {
     "end_time": "2025-04-01T13:59:51.518737Z",
     "start_time": "2025-04-01T13:59:51.493302Z"
    }
   },
   "outputs": [],
   "source": [
    "from langchain_core.prompts import ChatPromptTemplate\n",
    "from langchain_core.output_parsers import StrOutputParser\n",
    "from langchain_openai import ChatOpenAI\n",
    "\n",
    "# LLM 모델 \n",
    "# llm = ChatOpenAI(model=\"gpt-4o-mini\")\n",
    "\n",
    "def get_user_query(state: MenuState) -> MenuState:\n",
    "    user_query = input(\"무엇을 도와드릴까요? \")\n",
    "    return {\"user_query\": user_query}\n",
    "\n",
    "def analyze_input(state: MenuState) -> MenuState:\n",
    "    analyze_template = \"\"\"\n",
    "    사용자의 입력을 분석하여 레스토랑 메뉴 추천이나 음식 정보에 관한 질문인지 판단하세요.\n",
    "\n",
    "    사용자 입력: {user_query}\n",
    "\n",
    "    레스토랑 메뉴나 음식 정보에 관한 질문이면 \"True\", 아니면 \"False\"로 답변하세요.\n",
    "\n",
    "    답변:\n",
    "    \"\"\"\n",
    "    analyze_prompt = ChatPromptTemplate.from_template(analyze_template)\n",
    "    analyze_chain = analyze_prompt | llm | StrOutputParser()\n",
    "    \n",
    "    result = analyze_chain.invoke({\"user_query\": state['user_query']})\n",
    "    is_menu_related = result.strip().lower() == \"true\"\n",
    "    \n",
    "    return {\"is_menu_related\": is_menu_related}\n",
    "\n",
    "def search_menu_info(state: MenuState) -> MenuState:\n",
    "    # 벡터 저장소 에서 최대 2개의 문서를 검색 \n",
    "    results = vector_db.similarity_search(state['user_query'], k=2)\n",
    "    search_results = [doc.page_content for doc in results]\n",
    "    return {\"search_results\": search_results}\n",
    "\n",
    "def generate_menu_response(state: MenuState) -> MenuState:\n",
    "    response_template = \"\"\"\n",
    "    사용자 입력: {user_query}\n",
    "    메뉴 관련 검색 결과: {search_results}\n",
    "\n",
    "    위 정보를 바탕으로 레스토랑 메뉴 관련 질문에 대한 상세한 답변을 생성하세요. \n",
    "    검색 결과를 가지고 정보를 제공 하세요.\n",
    "\n",
    "    답변:\n",
    "    \"\"\"\n",
    "    response_prompt = ChatPromptTemplate.from_template(response_template)\n",
    "    response_chain = response_prompt | llm | StrOutputParser()\n",
    "    \n",
    "    final_answer = response_chain.invoke({\"user_query\": state['user_query'], \"search_results\": state['search_results']})\n",
    "    print(f\"\\n메뉴 어시스턴트: {final_answer}\")\n",
    "    \n",
    "    return {\"final_answer\": final_answer}\n",
    "\n",
    "def generate_general_response(state: MenuState) -> MenuState:\n",
    "    response_template = \"\"\"\n",
    "    사용자 입력: {user_query}\n",
    "\n",
    "    위 입력은 레스토랑 메뉴나 음식과 관련이 없습니다. \n",
    "    레스토랑 메뉴만 설명 할 수 있다고 답하세요.\n",
    "\n",
    "    답변:\n",
    "    \"\"\"\n",
    "    response_prompt = ChatPromptTemplate.from_template(response_template)\n",
    "    response_chain = response_prompt | llm | StrOutputParser()\n",
    "    \n",
    "    final_answer = response_chain.invoke({\"user_query\": state['user_query']})\n",
    "    print(f\"\\n일반 어시스턴트: {final_answer}\")\n",
    "    \n",
    "    return {\"final_answer\": final_answer}"
   ]
  },
  {
   "cell_type": "markdown",
   "metadata": {},
   "source": [
    "`(4)조건부 엣지(Edge)`"
   ]
  },
  {
   "cell_type": "code",
   "execution_count": 42,
   "metadata": {
    "ExecuteTime": {
     "end_time": "2025-04-01T13:59:53.694316Z",
     "start_time": "2025-04-01T13:59:53.688028Z"
    }
   },
   "outputs": [],
   "source": [
    "from typing import Literal\n",
    "\n",
    "def decide_next_step(state: MenuState) -> Literal[\"search_menu_info\", \"generate_general_response\"]:\n",
    "    if state['is_menu_related']:\n",
    "        return \"search_menu_info\"  \n",
    "    else:\n",
    "        return \"generate_general_response\""
   ]
  },
  {
   "cell_type": "markdown",
   "metadata": {},
   "source": [
    "`(5) 그래프(Graph) 구성`"
   ]
  },
  {
   "cell_type": "code",
   "execution_count": 43,
   "metadata": {
    "ExecuteTime": {
     "end_time": "2025-04-01T13:59:56.040090Z",
     "start_time": "2025-04-01T13:59:56.016941Z"
    }
   },
   "outputs": [],
   "source": [
    "from langgraph.graph import StateGraph, START, END\n",
    "\n",
    "# 그래프 구성\n",
    "builder = StateGraph(MenuState)\n",
    "\n",
    "# 노드 추가\n",
    "builder.add_node(\"get_user_query\", get_user_query)\n",
    "builder.add_node(\"analyze_input\", analyze_input)\n",
    "builder.add_node(\"search_menu_info\", search_menu_info)\n",
    "builder.add_node(\"generate_menu_response\", generate_menu_response)\n",
    "builder.add_node(\"generate_general_response\", generate_general_response)\n",
    "\n",
    "# 엣지 추가\n",
    "builder.add_edge(START, \"get_user_query\")\n",
    "builder.add_edge(\"get_user_query\", \"analyze_input\")\n",
    "\n",
    "# 조건부 엣지 추가\n",
    "builder.add_conditional_edges(\n",
    "    \"analyze_input\",\n",
    "    decide_next_step,\n",
    "    {\n",
    "        \"search_menu_info\": \"search_menu_info\",\n",
    "        \"generate_general_response\": \"generate_general_response\"\n",
    "    }\n",
    ")\n",
    "\n",
    "builder.add_edge(\"search_menu_info\", \"generate_menu_response\")\n",
    "builder.add_edge(\"generate_menu_response\", END)\n",
    "builder.add_edge(\"generate_general_response\", END)\n",
    "\n",
    "# 그래프 컴파일\n",
    "graph = builder.compile()"
   ]
  },
  {
   "cell_type": "code",
   "execution_count": null,
   "metadata": {},
   "outputs": [],
   "source": [
    "\n",
    "from IPython.display import Image, display\n",
    "\n",
    "# 그래프 시각화\n",
    "\n",
    "# display(Image(graph.get_graph().draw_mermaid_png()))\n",
    "mermaid_code = graph.get_graph().draw_mermaid()\n",
    "\n",
    "# Save to a file\n",
    "with open(\"graph_visualization.md\", \"w\") as f:\n",
    "    f.write(\"```mermaid\\n\")\n",
    "    f.write(mermaid_code)\n",
    "    f.write(\"\\n```\")\n",
    "\n",
    "# Display the code for manual rendering elsewhere\n",
    "# print(mermaid_code)"
   ]
  },
  {
   "cell_type": "markdown",
   "metadata": {},
   "source": [
    "`(6) Graph 실행`"
   ]
  },
  {
   "cell_type": "code",
   "execution_count": 44,
   "metadata": {
    "ExecuteTime": {
     "end_time": "2025-04-01T14:05:06.899675Z",
     "start_time": "2025-04-01T13:59:59.314220Z"
    }
   },
   "outputs": [
    {
     "name": "stdout",
     "output_type": "stream",
     "text": [
      "\n",
      "일반 어시스턴트: 죄송합니다만, 저는 레스토랑 메뉴와 음식에 관한 정보만 제공할 수 있습니다. 날씨 정보는 제공해드릴 수 없습니다. 레스토랑 메뉴나 요리에 관한 질문이 있으시면 기꺼이 도와드리겠습니다.\n",
      "\n",
      "메뉴 어시스턴트: 저희 레스토랑에서 추천해 드릴 요리는 '치킨 콘피'입니다.\n",
      "\n",
      "치킨 콘피는 프랑스 전통 조리법으로, 닭다리살을 허브와 마늘이 들어간 올리브 오일에 저온에서 장시간 조리한 요리입니다. 이 조리법 덕분에 육질이 매우 부드럽고 촉촉하게 완성됩니다.\n",
      "\n",
      "가격은 23,000원이며, 로즈메리 향이 가미된 감자와 신선한 제철 채소가 함께 제공됩니다. 마지막으로 레몬 제스트를 뿌려 상큼한 향을 더해 풍미를 한층 높였습니다.\n",
      "\n",
      "프랑스 요리의 정통 맛을 느끼실 수 있는 인기 메뉴로, 특별한 날이나 고급스러운 식사를 원하시는 분들께 적극 추천해 드립니다.\n",
      "\n",
      "메뉴 어시스턴트: 2만원 정도의 메뉴를 찾으셨는데, 검색 결과에서는 정확히 2만원대 메뉴가 나오지 않았습니다. 가장 가까운 메뉴로 랍스터 비스크가 있으나, 이 메뉴는 28,000원으로 말씀하신 가격대보다 조금 높습니다.\n",
      "\n",
      "랍스터 비스크는:\n",
      "- 가격: 28,000원\n",
      "- 주요 식재료: 랍스터, 생크림, 브랜디, 파프리카\n",
      "- 특징: 랍스터 껍질과 육수로 오랜 시간 우려낸 진한 수프로, 생크림으로 부드러운 질감을 더하고 브랜디로 깊은 풍미를 살린 고급 요리입니다. 작은 랍스터 살을 토핑으로 올려 고급스러움을 더했습니다.\n",
      "\n",
      "정확히 2만원대 메뉴를 원하신다면, 다른 메뉴 정보를 추가로 검색해 드릴 수 있을까요?\n",
      "\n",
      "메뉴 어시스턴트: 2만원대 가격대의 메뉴를 찾으셨네요. 검색 결과에 따르면 해산물 파스타가 24,000원으로 가장 가까운 메뉴입니다.\n",
      "\n",
      "해산물 파스타는 알 덴테로 삶은 링귀네 파스타에 신선한 새우, 홍합, 오징어 등 다양한 해산물이 듬뿍 올라가 있습니다. 토마토 소스의 상큼한 산미와 해산물의 감칠맛이 조화롭게 어우러져 있으며, 마늘과 올리브 오일로 풍미를 더했습니다. 마지막으로 파슬리를 뿌려 향긋한 맛을 완성했습니다.\n",
      "\n",
      "2만원대 메뉴를 찾으셨는데, 해산물 파스타는 24,000원으로 조금 더 높은 가격이지만 풍성한 해산물과 정성스러운 조리 방식을 고려하면 가치 있는 선택이 될 것 같습니다. 다른 가격대의 메뉴를 원하시면 말씀해 주세요.\n",
      "\n",
      "일반 어시스턴트: 죄송합니다만, 저는 레스토랑 메뉴와 음식에 관한 정보만 제공할 수 있습니다. 미국 대통령에 관한 정보는 제공해드릴 수 없습니다. 레스토랑 메뉴나 음식에 관한 질문이 있으시면 기꺼이 도와드리겠습니다.\n",
      "대화를 종료합니다. 감사합니다!\n"
     ]
    }
   ],
   "source": [
    "import time\n",
    "while True:\n",
    "    initial_state = {'user_query':''}\n",
    "    graph.invoke(initial_state) \n",
    "    time.sleep(3)\n",
    "    continue_chat = input(\"다른 질문이 있으신가요? (y/n): \").lower()\n",
    "    if continue_chat != 'y':\n",
    "        print(\"대화를 종료합니다. 감사합니다!\")\n",
    "        break"
   ]
  },
  {
   "cell_type": "code",
   "execution_count": null,
   "metadata": {},
   "outputs": [],
   "source": []
  }
 ],
 "metadata": {
  "kernelspec": {
   "display_name": "Python 3 (ipykernel)",
   "language": "python",
   "name": "python3"
  },
  "language_info": {
   "codemirror_mode": {
    "name": "ipython",
    "version": 3
   },
   "file_extension": ".py",
   "mimetype": "text/x-python",
   "name": "python",
   "nbconvert_exporter": "python",
   "pygments_lexer": "ipython3",
   "version": "3.11.11"
  }
 },
 "nbformat": 4,
 "nbformat_minor": 4
}
