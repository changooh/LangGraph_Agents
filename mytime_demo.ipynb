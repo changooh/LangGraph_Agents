{
 "cells": [
  {
   "cell_type": "code",
   "execution_count": null,
   "id": "initial_id",
   "metadata": {
    "ExecuteTime": {
     "end_time": "2025-07-14T04:16:56.465329Z",
     "start_time": "2025-07-14T04:16:22.176407Z"
    },
    "collapsed": true
   },
   "outputs": [],
   "source": [
    "import os\n",
    "import json\n",
    "import uuid\n",
    "from typing import List, Tuple, Literal, Annotated\n",
    "\n",
    "from dotenv import load_dotenv\n",
    "from langchain.chains.summarize.map_reduce_prompt import prompt_template\n",
    "from langchain_openai import AzureChatOpenAI\n",
    "from langchain_core.messages import SystemMessage, AIMessage, HumanMessage, ToolMessage\n",
    "# from langchain_core.pydantic_v1 import BaseModel\n",
    "from pydantic import BaseModel\n",
    "# from langgraph.graph import StateGraph, END, START\n",
    "# from langgraph.checkpoint.memory import MemorySaver\n",
    "# from langgraph.graph.message import add_messages\n",
    "from typing_extensions import TypedDict\n",
    "# import gradio as gr\n",
    "\n",
    "from gen_ai_hub.proxy.langchain.openai import ChatOpenAI\n",
    "from gen_ai_hub.proxy.core.proxy_clients import get_proxy_client\n",
    "from win32comext.adsi.demos.scp import verbose\n",
    "\n",
    "proxy_client = get_proxy_client(\"gen-ai-hub\")\n",
    "\n",
    "load_dotenv()\n",
    "aicore_home = os.getenv(\"AICORE_HOME\")\n",
    "profile = os.getenv(\"AICORE_PROFILE\", \"default\")\n",
    "config_path = os.path.join(aicore_home, f\"config.json\")\n",
    "from ai_core_sdk.ai_core_v2_client import AICoreV2Client\n",
    "\n",
    "# 구성 파일에서 값 읽어오기\n",
    "with open(config_path, \"r\") as config_file:\n",
    "    config = json.load(config_file)\n",
    "\n",
    "# 클라이언트 초기화\n",
    "ai_core_client = AICoreV2Client(\n",
    "    base_url=config[\"AICORE_BASE_URL\"],\n",
    "    auth_url=config[\"AICORE_AUTH_URL\"],\n",
    "    client_id=config[\"AICORE_CLIENT_ID\"],\n",
    "    client_secret=config[\"AICORE_CLIENT_SECRET\"],\n",
    ")\n",
    "\n",
    "print(\"AI Core client initialized successfully!\")\n",
    "llm = ChatOpenAI(proxy_model_name='gpt-4o-mini', proxy_client=proxy_client)\n",
    "model = ChatOpenAI(proxy_model_name='gpt-4o-mini', proxy_client=proxy_client)\n",
    "from langchain_core.prompts import PromptTemplate\n"
   ]
  },
  {
   "cell_type": "code",
   "execution_count": 1,
   "id": "ef74b6ff",
   "metadata": {},
   "outputs": [
    {
     "name": "stdout",
     "output_type": "stream",
     "text": [
      "AI Core client initialized successfully!\n"
     ]
    }
   ],
   "source": [
    "import os\n",
    "import json\n",
    "import uuid\n",
    "from typing import List, Tuple, Literal, Annotated\n",
    "\n",
    "from dotenv import load_dotenv\n",
    "from langchain.chains.summarize.map_reduce_prompt import prompt_template\n",
    "from langchain_openai import AzureChatOpenAI\n",
    "from langchain_core.messages import SystemMessage, AIMessage, HumanMessage, ToolMessage\n",
    "# from langchain_core.pydantic_v1 import BaseModel\n",
    "from pydantic import BaseModel\n",
    "# from langgraph.graph import StateGraph, END, START\n",
    "# from langgraph.checkpoint.memory import MemorySaver\n",
    "# from langgraph.graph.message import add_messages\n",
    "from typing_extensions import TypedDict\n",
    "# import gradio as gr\n",
    "\n",
    "from gen_ai_hub.proxy.langchain.openai import ChatOpenAI\n",
    "from gen_ai_hub.proxy.core.proxy_clients import get_proxy_client\n",
    "# from win32comext.adsi.demos.scp import verbose\n",
    "\n",
    "load_dotenv()\n",
    "# aicore_home = os.getenv(\"AICORE_HOME\")\n",
    "# profile = os.getenv(\"AICORE_PROFILE\", \"default\")\n",
    "# config_path = os.path.join(aicore_home, f\"config.json\")\n",
    "from ai_core_sdk.ai_core_v2_client import AICoreV2Client\n",
    "\n",
    "# 구성 파일에서 값 읽어오기\n",
    "# with open(config_path, \"r\") as config_file:\n",
    "#     config = json.load(config_file)\n",
    "\n",
    "# 클라이언트 초기화\n",
    "ai_core_client = AICoreV2Client(\n",
    "    base_url=os.getenv(\"AICORE_BASE_URL\"),\n",
    "    auth_url=os.getenv(\"AICORE_AUTH_URL\"),\n",
    "    client_id=os.getenv(\"AICORE_CLIENT_ID\"),\n",
    "    client_secret=os.getenv(\"AICORE_CLIENT_SECRET\"),\n",
    ")\n",
    "\n",
    "print(\"AI Core client initialized successfully!\")\n",
    "\n",
    "proxy_client = get_proxy_client(\"gen-ai-hub\")\n",
    "\n",
    "llm = ChatOpenAI(proxy_model_name='gpt-4o-mini', proxy_client=proxy_client)\n",
    "model = ChatOpenAI(proxy_model_name='gpt-4o-mini', proxy_client=proxy_client)\n",
    "from langchain_core.prompts import PromptTemplate\n"
   ]
  },
  {
   "cell_type": "code",
   "execution_count": null,
   "id": "1fccff43a280086e",
   "metadata": {
    "ExecuteTime": {
     "end_time": "2025-07-14T04:26:34.255887Z",
     "start_time": "2025-07-14T04:26:32.417357Z"
    }
   },
   "outputs": [],
   "source": [
    "from langchain_core.prompts import ChatPromptTemplate\n",
    "\n",
    "from langchain_openai import ChatOpenAI\n",
    "\n",
    "# Assume OPENAI_API_KEY is set\n",
    "prompt = ChatPromptTemplate.from_template(\"Tell me a joke about {topic}\")\n",
    "# model = ChatOpenAI()\n",
    "\n",
    "# This creates a RunnableSequence instance\n",
    "chain = prompt | model\n",
    "response = chain.invoke({\"topic\": \"cats\"})\n",
    "print(response.content)"
   ]
  },
  {
   "cell_type": "code",
   "execution_count": null,
   "id": "cbc18e3c8ee87aa6",
   "metadata": {
    "ExecuteTime": {
     "end_time": "2025-07-10T12:23:11.627226Z",
     "start_time": "2025-07-10T12:23:02.585766Z"
    }
   },
   "outputs": [],
   "source": [
    "template02 = \"\"\" Based on the following information, summarize all the working hours and calculate compensatory leave hours. \n",
    "    Follow these steps very carefully:\n",
    "        \n",
    "    1. Set fixed Over Time standards:\n",
    "       Weekday fixed Over Time = 30 hours\n",
    "       Weekend fixed Over Time = 10 hours\n",
    "    \n",
    "    2. Calculate weekday compensatory leave:\n",
    "       a. Excess weekday overtime = MAX(0, weekday_overtime - 30)\n",
    "       b-1. no exceeding the weekday fixed over time, Weekday compensatory leave = (Excess weekday overtime × 1.5) + (Weekday night work × 0.5)\n",
    "       b-2. exceeding the weekday fixed over time, Weekday compensatory leave = (Excess weekday overtime × 1.5) + (Weekday night work × 2)\n",
    "    \n",
    "    3. Calculate weekend compensatory leave:\n",
    "       a. Excess weekend overtime = MAX(0, weekend_overtime - 10)\n",
    "       b-1. If no exceeding the weekend fixed over time, Weekend compensatory leave = (excess weekend overtime × 1.5) + (Weekend night work × 0.5) \n",
    "       b-2. If exceeding the weekend fixed over time, Weekend compensatory leave = (excess weekend overtime × 1.5) + (Weekend night work × 2)\n",
    "    \n",
    "    4. Calculate total compensatory leave:\n",
    "       Total compensatory leave hours = Weekday compensatory leave + Weekend compensatory leave\n",
    "    \n",
    "    5. Round all calculated hours to two decimal places.provide a clear and concise summary of the overtime hours they want to calculate for compensatory leave.\n",
    "    \n",
    "    output format summary as follows:\n",
    "    <summary>\n",
    "    === 보상 휴가 시간 계산 결과 ===\n",
    "    평일 보상 휴가 시간: \n",
    "    주말/휴일 보상 휴가 시간: \n",
    "    총 보상 휴가 시간: \n",
    "    주말/휴일 근무 시간에 \"대체 휴일\"을 적용한 경우, 주말/휴일 보상 시간은 위의 계산 결과와 다를 수 있습니다.\n",
    "    </summary>\n",
    "    \n",
    "    {reqs}\n",
    "\n",
    "\"\"\"\n",
    "prompt = ChatPromptTemplate.from_template(\n",
    "    template=template02\n",
    ")\n",
    "reqs = \"평일 연장근무는 몇시간 인가요? 10시간입니다. 평일 야간근무는 0시간 입니다. 주말 연장근무는 30분이구요. 주말 야간근무는 4시간입니다. 보상휴가를 시간을 계산해라 \"\n",
    "chain1 = prompt | llm  \n",
    "response=chain1.invoke({\"reqs\": reqs})\n",
    "print(response.content)\n"
   ]
  },
  {
   "cell_type": "code",
   "execution_count": null,
   "id": "a4a8e2954296ec3d",
   "metadata": {},
   "outputs": [],
   "source": [
    "from pydantic import BaseModel, Field\n",
    "from langchain_core.tools import tool\n",
    "\n",
    "class WorkHoursInputSchema(BaseModel):\n",
    "    \"\"\"calculate compensatory leave hours\"\"\"\n",
    "    weekday_overtime: float = Field(description=\" Total over time of weekdays of a month: 월간 평일 총 연장 근무 시간. (예) 1시간=1.00, 1시간 30분=1.50, 20분=0.33, 0분=0 등. \")\n",
    "    weekday_night: float = Field(description=\"Total night work time of weekdays of a month : 월간 평일 총 야간 근무 시간. (예) 1시간=1.00, 1시간 30분=1.50, 20분=0.33, 0분=0 등. \")\n",
    "    weekend_overtime: float = Field(description=\"Total over time of weekends of a month: 월간 주말 총 연장 근무 시간. (예) 2시간=2.00, 1시간 30분=1.50, 20분=0.33, 0분=0 등.\")\n",
    "    weekend_night: float = Field(description=\"Total night work time of weekends of a month : 월간 주말 총 야간 근무 시간. (예) 2시간=2.00, 1시간 30분=1.50, 20분=0.33, 0분=0 등.\")\n",
    "\n",
    "@tool(\"calculator_tool\", args_schema=WorkHoursInputSchema)\n",
    "def calculator(weekday_overtime: float, weekday_night: float, weekend_overtime: float, weekend_night:float ) -> dict[str, float]:\n",
    "    \n",
    "    return weekday_night + weekday_overtime + weekend_overtime + weekend_night\n"
   ]
  },
  {
   "cell_type": "code",
   "execution_count": null,
   "id": "24a523344ffc7323",
   "metadata": {
    "ExecuteTime": {
     "end_time": "2025-07-14T05:23:24.900469Z",
     "start_time": "2025-07-14T05:23:24.890551Z"
    }
   },
   "outputs": [],
   "source": [
    "from pydantic import BaseModel, Field\n",
    "from langchain_core.tools import tool\n",
    "\n",
    "class TimeCriteria(BaseModel):\n",
    "    \"\"\"calculate compensatory leave hours\"\"\"\n",
    "    weekday_overtime: float = Field(description=\" Total over time of weekdays of a month: 월간 평일 총 연장 근무 시간. (예) 1시간=1.00, 1시간 30분=1.50, 20분=0.33, 0분=0 등. \")\n",
    "    weekday_night: float = Field(description=\"Total night work time of weekdays of a month : 월간 평일 총 야간 근무 시간. (예) 1시간=1.00, 1시간 30분=1.50, 20분=0.33, 0분=0 등. \")\n",
    "    weekend_overtime: float = Field(description=\"Total over time of weekends of a month: 월간 주말 총 연장 근무 시간. (예) 2시간=2.00, 1시간 30분=1.50, 20분=0.33, 0분=0 등.\")\n",
    "    weekend_night: float = Field(description=\"Total night work time of weekends of a month : 월간 주말 총 야간 근무 시간. (예) 2시간=2.00, 1시간 30분=1.50, 20분=0.33, 0분=0 등.\")\n",
    "\n",
    "@tool(\"calculator_tool\", args_schema=TimeCriteria)\n",
    "def compensatory_leave_calculator(weekday_overtime: float, weekday_night: float, weekend_overtime: float, weekend_night: float) -> dict[str, float]:\n",
    "    \n",
    "    # 1. 고정 연장근무 기준 설정\n",
    "    WEEKDAY_FIXED_OVERTIME = 32\n",
    "    WEEKEND_FIXED_OVERTIME = 8\n",
    "    \n",
    "    # 2. 평일 보상휴가 계산\n",
    "    excess_weekday_overtime = max(0, weekday_overtime - WEEKDAY_FIXED_OVERTIME)\n",
    "    \n",
    "    if weekday_overtime <= WEEKDAY_FIXED_OVERTIME:\n",
    "        # 평일 고정 연장근무 시간을 초과하지 않는 경우\n",
    "        weekday_compensatory = (excess_weekday_overtime * 1.5) + (weekday_night * 0.5)\n",
    "    else:\n",
    "        # 평일 고정 연장근무 시간을 초과하는 경우\n",
    "        weekday_compensatory = (excess_weekday_overtime * 1.5) + (weekday_night * 2)\n",
    "    \n",
    "    # 3. 주말 보상휴가 계산\n",
    "    excess_weekend_overtime = max(0, weekend_overtime - WEEKEND_FIXED_OVERTIME)\n",
    "    \n",
    "    if weekend_overtime <= WEEKEND_FIXED_OVERTIME:\n",
    "        # 주말 고정 연장근무 시간을 초과하지 않는 경우\n",
    "        weekend_compensatory = (excess_weekend_overtime * 1.5) + (weekend_night * 0.5)\n",
    "    else:\n",
    "        # 주말 고정 연장근무 시간을 초과하는 경우\n",
    "        weekend_compensatory = (excess_weekend_overtime * 1.5) + (weekend_night * 2)\n",
    "    \n",
    "    # 4. 총 보상휴가 계산\n",
    "    total_compensatory = weekday_compensatory + weekend_compensatory\n",
    "    \n",
    "    # 5. 소수점 둘째 자리까지 반올림\n",
    "    weekday_compensatory = round(weekday_compensatory, 2)\n",
    "    weekend_compensatory = round(weekend_compensatory, 2)\n",
    "    total_compensatory = round(total_compensatory, 2)\n",
    "    \n",
    "    # 결과 반환\n",
    "    return {\n",
    "        \"평일 보상 휴가 시간\": weekday_compensatory,\n",
    "        \"주말 보상 휴가 시간\": weekend_compensatory,\n",
    "        \"총 보상 휴가 시간\": total_compensatory\n",
    "    }"
   ]
  },
  {
   "cell_type": "code",
   "execution_count": 3,
   "id": "eae7f60717315a59",
   "metadata": {
    "ExecuteTime": {
     "end_time": "2025-07-14T06:13:57.225930Z",
     "start_time": "2025-07-14T06:13:57.213546Z"
    }
   },
   "outputs": [],
   "source": [
    "from textwrap import dedent\n",
    "\n",
    "prompt_system_task = dedent(\"\"\" 당신은 보상 휴가 시간 계산 에이전트입니다. 당신의 역할은 직원들로부터 초과 근무 시간 정보를 수집하고, 이를 요약한 뒤, 보상 휴가 시간을 계산하는 것입니다.\n",
    "        You should obtain the following information from them:\n",
    "        - Total over time of weekdays of a month: 월간 평일 총 연장 근무 시간. 이것은 평일 18시부터 22시 사이에 발생한 총 연장 근무 시간. 시/분 단위로 근무 시간을 수집 한다. (예) 1시간, 1시간 30분, 20분 등. \n",
    "        - Total night work time of weekdays of a month : 월간 평일 총 야간 근무 시간. 이것은 평일 22시부터 다음날 6시 사이에 발생한 총 야간 근무 시간. 시/분 단위로 근무 시간을 수집 한다. (예) 1시간, 1시간 30분, 20분 등.\n",
    "        - Total over time of weekends of a month: 월간 주말 총 연장 근무 시간. 이것은 주말 6시부터 22시 사이에 발생한 총 주말 연장 근무 시간. 시/분 단위로 근무 시간을 수집 한다.(예) 1시간, 1시간 30분, 20분 등. \n",
    "        - Total night work time of weekends of a month : 월간 주말 총 야간 근무 시간. 이것은 주말 22시부터 다음날 6시 사이에 발생한 총 주말 야간 근무 시간. 시/분 단위로 근무 시간을 수집 한다. (예) 1시간, 1시간 30분, 20분 등.\n",
    "\n",
    "        If you are not able to discern this info, ask them to clarify! Do not attempt to wildly guess. \n",
    "        Whenever the user responds to one of the criteria, evaluate if it is detailed enough to be a criterion of compensatory Leave Hours Calculation . If not, ask questions to help the user better detail the criterion.\n",
    "        Do not overwhelm the user with too many questions at once; ask for the information you need in a way that they do not have to write much in each response. \n",
    "        Always remind them that if they do not know how to answer something, you can help them.\n",
    "        After you are able to discern all the information, call the compensatory_leave_calculator tool.\n",
    "\n",
    "        \"\"\")"
   ]
  },
  {
   "cell_type": "code",
   "execution_count": 13,
   "id": "d65a65d0",
   "metadata": {},
   "outputs": [],
   "source": [
    "from textwrap import dedent\n",
    "\n",
    "prompt_system_task = dedent(\"\"\" 당신은 보상 휴가 시간 계산 에이전트입니다. 당신의 역할은 직원들로부터 초과 근무 시간 정보를 수집하고, 해당 정보를 바탕으로 보상 휴가 시간을 계산하여 알려주는 것이다.\n",
    "        You should obtain the following information from them:\n",
    "        - Total over time of weekdays of a month: 월간 평일 총 연장 근무 시간. 이것은 평일 18시부터 22시 사이에 발생한 총 연장 근무 시간. 시/분 단위로 근무 시간을 수집 한다. (예) 1시간, 1시간 30분, 20분 등. \n",
    "        - Total night work time of weekdays of a month : 월간 평일 총 야간 근무 시간. 이것은 평일 22시부터 다음날 6시 사이에 발생한 총 야간 근무 시간. 시/분 단위로 근무 시간을 수집 한다. (예) 1시간, 1시간 30분, 20분 등.\n",
    "        - Total over time of weekends of a month: 월간 주말 총 연장 근무 시간. 이것은 주말 6시부터 22시 사이에 발생한 총 주말 연장 근무 시간. 시/분 단위로 근무 시간을 수집 한다.(예) 1시간, 1시간 30분, 20분 등. \n",
    "        - Total night work time of weekends of a month : 월간 주말 총 야간 근무 시간. 이것은 주말 22시부터 다음날 6시 사이에 발생한 총 주말 야간 근무 시간. 시/분 단위로 근무 시간을 수집 한다. (예) 1시간, 1시간 30분, 20분 등.\n",
    "\n",
    "        If you are not able to discern this info, ask them to clarify! Do not attempt to wildly guess. \n",
    "        Whenever the user responds to one of the criteria, evaluate if it is detailed enough to be a criterion of compensatory Leave Hours Calculation . If not, ask questions to help the user better detail the criterion.\n",
    "        Do not overwhelm the user with too many questions at once; ask for the information you need in a way that they do not have to write much in each response. \n",
    "        Always remind them that if they do not know how to answer something, you can help them.\n",
    "                            \n",
    "        After you are able to discern all the information, you should call the compensatory_leave_calculator tool to give the final compensatory leave hours result.\n",
    "\n",
    "        \"\"\")"
   ]
  },
  {
   "cell_type": "code",
   "execution_count": 4,
   "id": "5a954fed541c88a9",
   "metadata": {
    "ExecuteTime": {
     "end_time": "2025-07-14T05:23:42.954175Z",
     "start_time": "2025-07-14T05:23:42.944650Z"
    }
   },
   "outputs": [],
   "source": [
    "from langchain_core.tools import tool\n",
    "from langgraph.prebuilt import create_react_agent\n",
    "\n",
    "agent = create_react_agent(\n",
    "    model=model,\n",
    "    tools=[compensatory_leave_calculator],\n",
    "    state_modifier=prompt_system_task\n",
    ")\n"
   ]
  },
  {
   "cell_type": "code",
   "execution_count": null,
   "id": "8d88369e9c3ba2ac",
   "metadata": {
    "ExecuteTime": {
     "end_time": "2025-07-14T05:24:41.825571Z",
     "start_time": "2025-07-14T05:24:37.821678Z"
    }
   },
   "outputs": [],
   "source": [
    "agent.invoke({\"messages\": [{\"role\": \"user\", \"content\": \"평일 총 야간 근무 시간이 2시간 50분이다. 평일 총 연장 근무 시간이 2시간 50분이다. 주말 총 연장 근무 시간이 2시간 50분이다. 주말 총 야간 근무 시간이 2시간 50분이다\"}]})"
   ]
  },
  {
   "cell_type": "code",
   "execution_count": null,
   "id": "7f8ee9cafad7cf0d",
   "metadata": {
    "ExecuteTime": {
     "end_time": "2025-07-14T04:55:55.945510Z",
     "start_time": "2025-07-14T04:55:55.625379Z"
    }
   },
   "outputs": [],
   "source": [
    "from IPython.display import Image, display\n",
    "# 그래프 출력\n",
    "display(Image(agent.get_graph().draw_mermaid_png()))"
   ]
  },
  {
   "cell_type": "code",
   "execution_count": 5,
   "id": "2050fd62da99820",
   "metadata": {
    "ExecuteTime": {
     "end_time": "2025-07-14T05:26:50.159778Z",
     "start_time": "2025-07-14T05:26:50.144746Z"
    }
   },
   "outputs": [],
   "source": [
    "# 도구 목록\n",
    "tools = [compensatory_leave_calculator]\n",
    "\n",
    "# 모델에 도구를 바인딩\n",
    "llm_with_tools = llm.bind_tools(tools=tools)"
   ]
  },
  {
   "cell_type": "code",
   "execution_count": null,
   "id": "3fafe3ebfdecfa2f",
   "metadata": {
    "ExecuteTime": {
     "end_time": "2025-07-14T05:30:02.430779Z",
     "start_time": "2025-07-14T05:30:02.005193Z"
    }
   },
   "outputs": [],
   "source": [
    "from langgraph.graph import MessagesState, StateGraph, START, END\n",
    "from langchain_core.messages import HumanMessage, SystemMessage\n",
    "from langgraph.prebuilt import ToolNode\n",
    "from IPython.display import Image, display\n",
    "\n",
    "from langgraph.checkpoint.memory import MemorySaver\n",
    "\n",
    "# 메모리 초기화 \n",
    "memory = MemorySaver()\n",
    "# \n",
    "# # 체크포인터 지정하여 그래프 컴파일 \n",
    "# graph_memory = agent.compile(checkpointer=memory)\n",
    "\n",
    "# LangGraph MessagesState 사용\n",
    "class GraphState(MessagesState):\n",
    "    pass\n",
    "\n",
    "# 노드 구성 \n",
    "def call_model(state: GraphState):\n",
    "    system_message = SystemMessage(content=prompt_system_task)\n",
    "    messages = [system_message] + state['messages']\n",
    "    response = llm.invoke(messages)\n",
    "    return {\"messages\": [response]}\n",
    "\n",
    "def should_continue(state: GraphState):\n",
    "    last_message = state[\"messages\"][-1]\n",
    "    # 도구 호출이 있으면 도구 실행 노드로 이동\n",
    "    if last_message.tool_calls:\n",
    "        return \"execute_tools\"\n",
    "    # 도구 호출이 없으면 답변 생성하고 종료 \n",
    "    return END\n",
    "\n",
    "# 그래프 구성\n",
    "builder = StateGraph(GraphState)\n",
    "builder.add_node(\"call_model\", call_model)\n",
    "builder.add_node(\"execute_tools\", ToolNode(tools))\n",
    "\n",
    "builder.add_edge(START, \"call_model\")\n",
    "builder.add_conditional_edges(\n",
    "    \"call_model\", \n",
    "    should_continue,\n",
    "    {\n",
    "        \"execute_tools\": \"execute_tools\",\n",
    "        END: END\n",
    "    }\n",
    ")\n",
    "builder.add_edge(\"execute_tools\", \"call_model\")\n",
    "\n",
    "graph = builder.compile()\n",
    "# 체크포인터 지정하여 그래프 컴파일 \n",
    "# graph_memory = builder.compile(checkpointer=memory)\n",
    "\n",
    "# 그래프 출력 \n",
    "display(Image(graph.get_graph().draw_mermaid_png()))"
   ]
  },
  {
   "cell_type": "code",
   "execution_count": null,
   "id": "11cdde6f6eb1dd19",
   "metadata": {
    "ExecuteTime": {
     "end_time": "2025-07-14T05:08:29.457141Z",
     "start_time": "2025-07-14T05:08:25.418663Z"
    }
   },
   "outputs": [],
   "source": [
    "# 그래프 실행\n",
    "inputs = {\"messages\": [HumanMessage(content=\" 주어진 시간으로 보상휴가 시간을 계산해라\")]}\n",
    "messages = graph.invoke(inputs)\n",
    "for m in messages['messages']:\n",
    "    m.pretty_print()"
   ]
  },
  {
   "cell_type": "code",
   "execution_count": null,
   "id": "4d42bb5a87121caa",
   "metadata": {
    "ExecuteTime": {
     "end_time": "2025-07-14T05:30:17.279726Z",
     "start_time": "2025-07-14T05:30:17.273822Z"
    }
   },
   "outputs": [],
   "source": [
    "from langgraph.checkpoint.memory import MemorySaver\n",
    "\n",
    "# 메모리 초기화 \n",
    "memory = MemorySaver()\n",
    "\n",
    "# 체크포인터 지정하여 그래프 컴파일 \n",
    "graph_memory = builder.compile(checkpointer=memory)"
   ]
  },
  {
   "cell_type": "code",
   "execution_count": null,
   "id": "1a4a292e4167ba72",
   "metadata": {
    "ExecuteTime": {
     "end_time": "2025-07-14T05:16:18.393192Z",
     "start_time": "2025-07-14T05:16:14.247186Z"
    }
   },
   "outputs": [],
   "source": [
    "config = {\"configurable\": {\"thread_id\": \"1\"}}\n",
    "messages = [HumanMessage(content=\" 알려줘\")]\n",
    "messages = graph_memory.invoke({\"messages\": messages}, config)\n",
    "for m in messages['messages']:\n",
    "    m.pretty_print()"
   ]
  },
  {
   "cell_type": "code",
   "execution_count": 15,
   "id": "8bf676b7f07f42f3",
   "metadata": {
    "ExecuteTime": {
     "end_time": "2025-07-14T06:14:18.679916Z",
     "start_time": "2025-07-14T06:14:18.418558Z"
    }
   },
   "outputs": [
    {
     "data": {
      "image/png": "[encoded data removed]",
      "text/plain": [
       "<IPython.core.display.Image object>"
      ]
     },
     "metadata": {},
     "output_type": "display_data"
    }
   ],
   "source": [
    "from langgraph.prebuilt import create_react_agent\n",
    "from langgraph.checkpoint.memory import MemorySaver\n",
    "from IPython.display import Image, display\n",
    "\n",
    "# 메모리 초기화 \n",
    "memory = MemorySaver()\n",
    "\n",
    "# 그래프 생성 \n",
    "graph = create_react_agent(\n",
    "    llm, \n",
    "    tools=[compensatory_leave_calculator],\n",
    "    state_modifier=prompt_system_task,\n",
    "    checkpointer=memory\n",
    ")\n",
    "\n",
    "# 그래프 출력\n",
    "display(Image(graph.get_graph().draw_mermaid_png()))"
   ]
  },
  {
   "cell_type": "code",
   "execution_count": null,
   "id": "113e7bead5bbeadb",
   "metadata": {
    "ExecuteTime": {
     "end_time": "2025-07-14T06:16:07.536577Z",
     "start_time": "2025-07-14T06:16:01.907531Z"
    }
   },
   "outputs": [],
   "source": [
    "config = {\"configurable\": {\"thread_id\": \"5\"}}\n",
    "messages = [HumanMessage(content=\" 5시간 30분\")]\n",
    "messages = graph.invoke({\"messages\": messages}, config)\n",
    "for m in messages['messages']:\n",
    "    m.pretty_print()"
   ]
  },
  {
   "cell_type": "code",
   "execution_count": null,
   "id": "1a58eef81bdf7595",
   "metadata": {
    "ExecuteTime": {
     "end_time": "2025-07-14T06:07:32.728602Z",
     "start_time": "2025-07-14T06:07:29.859269Z"
    }
   },
   "outputs": [],
   "source": [
    "config = {\"configurable\": {\"thread_id\": \"5시간이요\"}}\n",
    "messages = [HumanMessage(content=\"네\")]\n",
    "messages = graph.invoke({\"messages\": messages}, config)\n",
    "for m in messages['messages']:\n",
    "    m.pretty_print()"
   ]
  },
  {
   "cell_type": "code",
   "execution_count": 16,
   "id": "d066473025f4f023",
   "metadata": {
    "ExecuteTime": {
     "end_time": "2025-07-14T06:05:18.728209Z",
     "start_time": "2025-07-14T06:05:16.472176Z"
    }
   },
   "outputs": [
    {
     "name": "stderr",
     "output_type": "stream",
     "text": [
      "/workspaces/LangGraph_Agents/myenv/lib/python3.12/site-packages/gradio/chat_interface.py:339: UserWarning: The 'tuples' format for chatbot messages is deprecated and will be removed in a future version of Gradio. Please set type='messages' instead, which uses openai-style 'role' and 'content' keys.\n",
      "  self.chatbot = Chatbot(\n"
     ]
    },
    {
     "name": "stdout",
     "output_type": "stream",
     "text": [
      "* Running on local URL:  http://127.0.0.1:7860\n",
      "* Running on public URL: https://770ecfbc70609b6d2b.gradio.live\n",
      "\n",
      "This share link expires in 1 week. For free permanent hosting and GPU upgrades, run `gradio deploy` from the terminal in the working directory to deploy to Hugging Face Spaces (https://huggingface.co/spaces)\n"
     ]
    },
    {
     "data": {
      "text/html": [
       "<div><iframe src=\"https://770ecfbc70609b6d2b.gradio.live\" width=\"100%\" height=\"500\" allow=\"autoplay; camera; microphone; clipboard-read; clipboard-write;\" frameborder=\"0\" allowfullscreen></iframe></div>"
      ],
      "text/plain": [
       "<IPython.core.display.HTML object>"
      ]
     },
     "metadata": {},
     "output_type": "display_data"
    },
    {
     "data": {
      "text/plain": []
     },
     "execution_count": 16,
     "metadata": {},
     "output_type": "execute_result"
    },
    {
     "name": "stdout",
     "output_type": "stream",
     "text": [
      "Thread ID: 9cc2331f-9383-463a-a1f7-e1186a855b73\n",
      "스레드 ID: 9cc2331f-9383-463a-a1f7-e1186a855b73\n",
      "================================\u001b[1m Human Message \u001b[0m=================================\n",
      "\n",
      "하이~ 시작해 볼까?\n",
      "==================================\u001b[1m Ai Message \u001b[0m==================================\n",
      "\n",
      "안녕하세요! 보상 휴가 시간 계산을 도와드릴게요. 먼저 필요한 정보를 하나씩 수집할게요.\n",
      "\n",
      "첫 번째로, 월간 평일 총 연장 근무 시간을 알려주세요. (예: 1시간, 1시간 30분, 20분 등)\n",
      "Thread ID: 9cc2331f-9383-463a-a1f7-e1186a855b73\n",
      "스레드 ID: 9cc2331f-9383-463a-a1f7-e1186a855b73\n",
      "================================\u001b[1m Human Message \u001b[0m=================================\n",
      "\n",
      "하이~ 시작해 볼까?\n",
      "==================================\u001b[1m Ai Message \u001b[0m==================================\n",
      "\n",
      "안녕하세요! 보상 휴가 시간 계산을 도와드릴게요. 먼저 필요한 정보를 하나씩 수집할게요.\n",
      "\n",
      "첫 번째로, 월간 평일 총 연장 근무 시간을 알려주세요. (예: 1시간, 1시간 30분, 20분 등)\n",
      "================================\u001b[1m Human Message \u001b[0m=================================\n",
      "\n",
      "40시간이다\n",
      "==================================\u001b[1m Ai Message \u001b[0m==================================\n",
      "\n",
      "감사합니다! 월간 평일 총 연장 근무 시간이 40시간이군요. \n",
      "\n",
      "다음으로, 월간 평일 총 야간 근무 시간을 알려주세요. (예: 1시간, 1시간 30분, 20분 등)\n",
      "Thread ID: 9cc2331f-9383-463a-a1f7-e1186a855b73\n",
      "스레드 ID: 9cc2331f-9383-463a-a1f7-e1186a855b73\n",
      "================================\u001b[1m Human Message \u001b[0m=================================\n",
      "\n",
      "하이~ 시작해 볼까?\n",
      "==================================\u001b[1m Ai Message \u001b[0m==================================\n",
      "\n",
      "안녕하세요! 보상 휴가 시간 계산을 도와드릴게요. 먼저 필요한 정보를 하나씩 수집할게요.\n",
      "\n",
      "첫 번째로, 월간 평일 총 연장 근무 시간을 알려주세요. (예: 1시간, 1시간 30분, 20분 등)\n",
      "================================\u001b[1m Human Message \u001b[0m=================================\n",
      "\n",
      "40시간이다\n",
      "==================================\u001b[1m Ai Message \u001b[0m==================================\n",
      "\n",
      "감사합니다! 월간 평일 총 연장 근무 시간이 40시간이군요. \n",
      "\n",
      "다음으로, 월간 평일 총 야간 근무 시간을 알려주세요. (예: 1시간, 1시간 30분, 20분 등)\n",
      "================================\u001b[1m Human Message \u001b[0m=================================\n",
      "\n",
      "없어\n",
      "==================================\u001b[1m Ai Message \u001b[0m==================================\n",
      "\n",
      "알겠습니다! 월간 평일 총 야간 근무 시간이 없군요. \n",
      "\n",
      "다음으로, 월간 주말 총 연장 근무 시간을 알려주세요. (예: 1시간, 1시간 30분, 20분 등)\n",
      "Thread ID: 9cc2331f-9383-463a-a1f7-e1186a855b73\n",
      "스레드 ID: 9cc2331f-9383-463a-a1f7-e1186a855b73\n",
      "================================\u001b[1m Human Message \u001b[0m=================================\n",
      "\n",
      "하이~ 시작해 볼까?\n",
      "==================================\u001b[1m Ai Message \u001b[0m==================================\n",
      "\n",
      "안녕하세요! 보상 휴가 시간 계산을 도와드릴게요. 먼저 필요한 정보를 하나씩 수집할게요.\n",
      "\n",
      "첫 번째로, 월간 평일 총 연장 근무 시간을 알려주세요. (예: 1시간, 1시간 30분, 20분 등)\n",
      "================================\u001b[1m Human Message \u001b[0m=================================\n",
      "\n",
      "40시간이다\n",
      "==================================\u001b[1m Ai Message \u001b[0m==================================\n",
      "\n",
      "감사합니다! 월간 평일 총 연장 근무 시간이 40시간이군요. \n",
      "\n",
      "다음으로, 월간 평일 총 야간 근무 시간을 알려주세요. (예: 1시간, 1시간 30분, 20분 등)\n",
      "================================\u001b[1m Human Message \u001b[0m=================================\n",
      "\n",
      "없어\n",
      "==================================\u001b[1m Ai Message \u001b[0m==================================\n",
      "\n",
      "알겠습니다! 월간 평일 총 야간 근무 시간이 없군요. \n",
      "\n",
      "다음으로, 월간 주말 총 연장 근무 시간을 알려주세요. (예: 1시간, 1시간 30분, 20분 등)\n",
      "================================\u001b[1m Human Message \u001b[0m=================================\n",
      "\n",
      "없어\n",
      "==================================\u001b[1m Ai Message \u001b[0m==================================\n",
      "\n",
      "알겠습니다! 월간 주말 총 연장 근무 시간이 없군요. \n",
      "\n",
      "마지막으로, 월간 주말 총 야간 근무 시간을 알려주세요. (예: 1시간, 1시간 30분, 20분 등)\n",
      "Thread ID: 9cc2331f-9383-463a-a1f7-e1186a855b73\n",
      "스레드 ID: 9cc2331f-9383-463a-a1f7-e1186a855b73\n",
      "================================\u001b[1m Human Message \u001b[0m=================================\n",
      "\n",
      "하이~ 시작해 볼까?\n",
      "==================================\u001b[1m Ai Message \u001b[0m==================================\n",
      "\n",
      "안녕하세요! 보상 휴가 시간 계산을 도와드릴게요. 먼저 필요한 정보를 하나씩 수집할게요.\n",
      "\n",
      "첫 번째로, 월간 평일 총 연장 근무 시간을 알려주세요. (예: 1시간, 1시간 30분, 20분 등)\n",
      "================================\u001b[1m Human Message \u001b[0m=================================\n",
      "\n",
      "40시간이다\n",
      "==================================\u001b[1m Ai Message \u001b[0m==================================\n",
      "\n",
      "감사합니다! 월간 평일 총 연장 근무 시간이 40시간이군요. \n",
      "\n",
      "다음으로, 월간 평일 총 야간 근무 시간을 알려주세요. (예: 1시간, 1시간 30분, 20분 등)\n",
      "================================\u001b[1m Human Message \u001b[0m=================================\n",
      "\n",
      "없어\n",
      "==================================\u001b[1m Ai Message \u001b[0m==================================\n",
      "\n",
      "알겠습니다! 월간 평일 총 야간 근무 시간이 없군요. \n",
      "\n",
      "다음으로, 월간 주말 총 연장 근무 시간을 알려주세요. (예: 1시간, 1시간 30분, 20분 등)\n",
      "================================\u001b[1m Human Message \u001b[0m=================================\n",
      "\n",
      "없어\n",
      "==================================\u001b[1m Ai Message \u001b[0m==================================\n",
      "\n",
      "알겠습니다! 월간 주말 총 연장 근무 시간이 없군요. \n",
      "\n",
      "마지막으로, 월간 주말 총 야간 근무 시간을 알려주세요. (예: 1시간, 1시간 30분, 20분 등)\n",
      "================================\u001b[1m Human Message \u001b[0m=================================\n",
      "\n",
      "5시간 30분이다.\n",
      "==================================\u001b[1m Ai Message \u001b[0m==================================\n",
      "\n",
      "감사합니다! 정보를 정리해보면:\n",
      "\n",
      "- 월간 평일 총 연장 근무 시간: 40시간\n",
      "- 월간 평일 총 야간 근무 시간: 0시간\n",
      "- 월간 주말 총 연장 근무 시간: 0시간\n",
      "- 월간 주말 총 야간 근무 시간: 5시간 30분\n",
      "\n",
      "이제 이 정보를 바탕으로 보상 휴가 시간을 계산해볼게요.\n",
      "\n",
      "40시간은 40.00으로, 5시간 30분은 5.50로 변환하여 계산하겠습니다. 잠시만 기다려주세요.\n",
      "Tool Calls:\n",
      "  calculator_tool (call_bpsnZRsIm461tAvB59h4tLot)\n",
      " Call ID: call_bpsnZRsIm461tAvB59h4tLot\n",
      "  Args:\n",
      "    weekday_overtime: 40\n",
      "    weekday_night: 0\n",
      "    weekend_overtime: 0\n",
      "    weekend_night: 5.5\n",
      "=================================\u001b[1m Tool Message \u001b[0m=================================\n",
      "Name: calculator_tool\n",
      "\n",
      "{\"평일 보상 휴가 시간\": 15.0, \"주말 보상 휴가 시간\": 2.75, \"총 보상 휴가 시간\": 17.75}\n",
      "==================================\u001b[1m Ai Message \u001b[0m==================================\n",
      "\n",
      "계산 결과는 다음과 같습니다:\n",
      "\n",
      "- 평일 보상 휴가 시간: 15.0 시간\n",
      "- 주말 보상 휴가 시간: 2.75 시간\n",
      "- 총 보상 휴가 시간: 17.75 시간\n",
      "\n",
      "보상 휴가 시간이 총 17.75 시간이 되네요. 다른 도움이 필요하시면 언제든지 말씀해 주세요!\n",
      "Thread ID: 9cc2331f-9383-463a-a1f7-e1186a855b73\n",
      "스레드 ID: 9cc2331f-9383-463a-a1f7-e1186a855b73\n",
      "================================\u001b[1m Human Message \u001b[0m=================================\n",
      "\n",
      "하이~ 시작해 볼까?\n",
      "==================================\u001b[1m Ai Message \u001b[0m==================================\n",
      "\n",
      "안녕하세요! 보상 휴가 시간 계산을 도와드릴게요. 먼저 필요한 정보를 하나씩 수집할게요.\n",
      "\n",
      "첫 번째로, 월간 평일 총 연장 근무 시간을 알려주세요. (예: 1시간, 1시간 30분, 20분 등)\n",
      "================================\u001b[1m Human Message \u001b[0m=================================\n",
      "\n",
      "40시간이다\n",
      "==================================\u001b[1m Ai Message \u001b[0m==================================\n",
      "\n",
      "감사합니다! 월간 평일 총 연장 근무 시간이 40시간이군요. \n",
      "\n",
      "다음으로, 월간 평일 총 야간 근무 시간을 알려주세요. (예: 1시간, 1시간 30분, 20분 등)\n",
      "================================\u001b[1m Human Message \u001b[0m=================================\n",
      "\n",
      "없어\n",
      "==================================\u001b[1m Ai Message \u001b[0m==================================\n",
      "\n",
      "알겠습니다! 월간 평일 총 야간 근무 시간이 없군요. \n",
      "\n",
      "다음으로, 월간 주말 총 연장 근무 시간을 알려주세요. (예: 1시간, 1시간 30분, 20분 등)\n",
      "================================\u001b[1m Human Message \u001b[0m=================================\n",
      "\n",
      "없어\n",
      "==================================\u001b[1m Ai Message \u001b[0m==================================\n",
      "\n",
      "알겠습니다! 월간 주말 총 연장 근무 시간이 없군요. \n",
      "\n",
      "마지막으로, 월간 주말 총 야간 근무 시간을 알려주세요. (예: 1시간, 1시간 30분, 20분 등)\n",
      "================================\u001b[1m Human Message \u001b[0m=================================\n",
      "\n",
      "5시간 30분이다.\n",
      "==================================\u001b[1m Ai Message \u001b[0m==================================\n",
      "\n",
      "감사합니다! 정보를 정리해보면:\n",
      "\n",
      "- 월간 평일 총 연장 근무 시간: 40시간\n",
      "- 월간 평일 총 야간 근무 시간: 0시간\n",
      "- 월간 주말 총 연장 근무 시간: 0시간\n",
      "- 월간 주말 총 야간 근무 시간: 5시간 30분\n",
      "\n",
      "이제 이 정보를 바탕으로 보상 휴가 시간을 계산해볼게요.\n",
      "\n",
      "40시간은 40.00으로, 5시간 30분은 5.50로 변환하여 계산하겠습니다. 잠시만 기다려주세요.\n",
      "Tool Calls:\n",
      "  calculator_tool (call_bpsnZRsIm461tAvB59h4tLot)\n",
      " Call ID: call_bpsnZRsIm461tAvB59h4tLot\n",
      "  Args:\n",
      "    weekday_overtime: 40\n",
      "    weekday_night: 0\n",
      "    weekend_overtime: 0\n",
      "    weekend_night: 5.5\n",
      "=================================\u001b[1m Tool Message \u001b[0m=================================\n",
      "Name: calculator_tool\n",
      "\n",
      "{\"평일 보상 휴가 시간\": 15.0, \"주말 보상 휴가 시간\": 2.75, \"총 보상 휴가 시간\": 17.75}\n",
      "==================================\u001b[1m Ai Message \u001b[0m==================================\n",
      "\n",
      "계산 결과는 다음과 같습니다:\n",
      "\n",
      "- 평일 보상 휴가 시간: 15.0 시간\n",
      "- 주말 보상 휴가 시간: 2.75 시간\n",
      "- 총 보상 휴가 시간: 17.75 시간\n",
      "\n",
      "보상 휴가 시간이 총 17.75 시간이 되네요. 다른 도움이 필요하시면 언제든지 말씀해 주세요!\n",
      "================================\u001b[1m Human Message \u001b[0m=================================\n",
      "\n",
      "왜 평일 보상 휴가 시간이 15시간이 되는지 계산식을 설명해라\n",
      "==================================\u001b[1m Ai Message \u001b[0m==================================\n",
      "\n",
      "물론입니다! 평일 보상 휴가 시간 계산은 다음과 같은 규칙에 따라 이루어집니다:\n",
      "\n",
      "1. **평일 총 연장 근무 시간**: 40시간\n",
      "2. **평일 총 야간 근무 시간**: 0시간\n",
      "\n",
      "일반적으로 보상 휴가 시간의 계산은 다음의 공식을 따릅니다:\n",
      "\n",
      "- 평일 연장 근무 시간 (오후 6시부터 오후 10시까지 발생한 연장 근무)은 **기본 시급의 1.5배**로 보상됩니다. \n",
      "- 평일 야간 근무 시간 (오후 10시부터 다음 날 오전 6시까지 발생한 야간 근무)은 **기본 시급의 2배**로 보상됩니다.\n",
      "\n",
      "이 경우:\n",
      "- 평일 연장 근무 시간 40시간에 대해 1.5배의 보상을 적용합니다.\n",
      "- 따라서, \\( 40 \\times 1.5 = 60 \\text{ (단위: 시간)} \\)\n",
      "\n",
      "이렇게 계산된 보상 시간 60시간을 4시간으로 나누어 주는 것으로, 총 보상 휴가 시간은 15시간이 됩니다.\n",
      "\n",
      "이 결과는 보상 휴가 시간 계산 규정에 따라 다를 수 있으며, 기본적인 매개변수는 각 회사의 보상 정책 내에서 상이할 수 있습니다. 도움 요청이 더 필요하시면 말씀해 주세요!\n"
     ]
    }
   ],
   "source": [
    "import gradio as gr\n",
    "from typing import List, Tuple\n",
    "from langchain_core.messages import HumanMessage, AIMessage\n",
    "from langgraph.checkpoint.memory import MemorySaver\n",
    "\n",
    "# 메모리 사용 준비\n",
    "# memory = MemorySaver()\n",
    "# graph_memory = builder.compile(checkpointer=memory)\n",
    "\n",
    "# 예시 질문들\n",
    "example_questions = [\n",
    "    \"하이~ 시작해 볼까?\",\n",
    "    # \"오늘의 스페셜 메뉴는 무엇인가요?\",\n",
    "    # \"파스타에 어울리는 음료는 무엇인가요?\"\n",
    "]\n",
    "\n",
    "# 답변 메시지 처리를 위한 함수\n",
    "def process_message(message: str, history: List[Tuple[str, str]], thread_id: str) -> str:\n",
    "    try:\n",
    "        config = {\"configurable\": {\"thread_id\": thread_id}}\n",
    "        inputs = {\"messages\": [HumanMessage(content=message)]}\n",
    "        \n",
    "        result = graph.invoke(inputs, config=config)\n",
    "        \n",
    "        if \"messages\" in result:\n",
    "            # 메시지 로깅 (선택사항)\n",
    "            print(f\"스레드 ID: {thread_id}\")\n",
    "            for msg in result[\"messages\"]:\n",
    "                msg.pretty_print()\n",
    "\n",
    "            last_message = result[\"messages\"][-1]\n",
    "            if isinstance(last_message, AIMessage):\n",
    "                return last_message.content\n",
    "\n",
    "        return \"응답을 생성하지 못했습니다.\"\n",
    "\n",
    "    except Exception as e:\n",
    "        print(f\"Error occurred: {str(e)}\")\n",
    "        return \"죄송합니다. 응답을 생성하는 동안 오류가 발생했습니다. 다시 시도해 주세요.\"\n",
    "\n",
    "\n",
    "# 챗봇 클래스 생성\n",
    "class ChatBot:\n",
    "    def __init__(self):\n",
    "        self.thread_id = str(uuid.uuid4())\n",
    "\n",
    "    def chat(self, message: str, history: List[Tuple[str, str]]) -> str:\n",
    "        print(f\"Thread ID: {self.thread_id}\")\n",
    "        response = process_message(message, history, self.thread_id)\n",
    "        return response\n",
    "\n",
    "chatbot = ChatBot()\n",
    "\n",
    "\n",
    "# ChatInterface 생성\n",
    "demo = gr.ChatInterface(\n",
    "    fn=chatbot.chat,\n",
    "    title=\"보상휴가 계산 AI 어시스턴트\",\n",
    "    description=\"입력하신 근무시간을 기준으로 발생 가능한 보상휴가 시간을 계산해 드립니다.\",\n",
    "    examples=example_questions,\n",
    "    # verbose=True,\n",
    "    theme=gr.themes.Soft()\n",
    ")\n",
    "\n",
    "# Gradio 앱 실행\n",
    "demo.launch(share=True)"
   ]
  },
  {
   "cell_type": "code",
   "execution_count": 14,
   "id": "e3d3d05116127a54",
   "metadata": {
    "ExecuteTime": {
     "end_time": "2025-07-14T05:49:44.336827Z",
     "start_time": "2025-07-14T05:49:44.198298Z"
    }
   },
   "outputs": [
    {
     "name": "stdout",
     "output_type": "stream",
     "text": [
      "Closing server running on port: 7860\n"
     ]
    }
   ],
   "source": [
    "demo.close()"
   ]
  }
 ],
 "metadata": {
  "kernelspec": {
   "display_name": "myenv",
   "language": "python",
   "name": "python3"
  },
  "language_info": {
   "codemirror_mode": {
    "name": "ipython",
    "version": 3
   },
   "file_extension": ".py",
   "mimetype": "text/x-python",
   "name": "python",
   "nbconvert_exporter": "python",
   "pygments_lexer": "ipython3",
   "version": "3.12.1"
  }
 },
 "nbformat": 4,
 "nbformat_minor": 5
}
