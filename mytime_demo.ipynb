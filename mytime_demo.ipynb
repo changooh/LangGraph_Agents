{
 "cells": [
  {
   "cell_type": "code",
   "id": "initial_id",
   "metadata": {
    "collapsed": true,
    "ExecuteTime": {
     "end_time": "2025-07-14T04:16:56.465329Z",
     "start_time": "2025-07-14T04:16:22.176407Z"
    }
   },
   "source": [
    "import os\n",
    "import json\n",
    "import uuid\n",
    "from typing import List, Tuple, Literal, Annotated\n",
    "\n",
    "from dotenv import load_dotenv\n",
    "from langchain.chains.summarize.map_reduce_prompt import prompt_template\n",
    "from langchain_openai import AzureChatOpenAI\n",
    "from langchain_core.messages import SystemMessage, AIMessage, HumanMessage, ToolMessage\n",
    "# from langchain_core.pydantic_v1 import BaseModel\n",
    "from pydantic import BaseModel\n",
    "# from langgraph.graph import StateGraph, END, START\n",
    "# from langgraph.checkpoint.memory import MemorySaver\n",
    "# from langgraph.graph.message import add_messages\n",
    "from typing_extensions import TypedDict\n",
    "# import gradio as gr\n",
    "\n",
    "from gen_ai_hub.proxy.langchain.openai import ChatOpenAI\n",
    "from gen_ai_hub.proxy.core.proxy_clients import get_proxy_client\n",
    "from win32comext.adsi.demos.scp import verbose\n",
    "\n",
    "proxy_client = get_proxy_client(\"gen-ai-hub\")\n",
    "\n",
    "load_dotenv()\n",
    "aicore_home = os.getenv(\"AICORE_HOME\")\n",
    "profile = os.getenv(\"AICORE_PROFILE\", \"default\")\n",
    "config_path = os.path.join(aicore_home, f\"config.json\")\n",
    "from ai_core_sdk.ai_core_v2_client import AICoreV2Client\n",
    "\n",
    "# 구성 파일에서 값 읽어오기\n",
    "with open(config_path, \"r\") as config_file:\n",
    "    config = json.load(config_file)\n",
    "\n",
    "# 클라이언트 초기화\n",
    "ai_core_client = AICoreV2Client(\n",
    "    base_url=config[\"AICORE_BASE_URL\"],\n",
    "    auth_url=config[\"AICORE_AUTH_URL\"],\n",
    "    client_id=config[\"AICORE_CLIENT_ID\"],\n",
    "    client_secret=config[\"AICORE_CLIENT_SECRET\"],\n",
    ")\n",
    "\n",
    "print(\"AI Core client initialized successfully!\")\n",
    "llm = ChatOpenAI(proxy_model_name='gpt-4o-mini', proxy_client=proxy_client)\n",
    "model = ChatOpenAI(proxy_model_name='gpt-4o-mini', proxy_client=proxy_client)\n",
    "from langchain_core.prompts import PromptTemplate\n"
   ],
   "outputs": [
    {
     "name": "stdout",
     "output_type": "stream",
     "text": [
      "AI Core client initialized successfully!\n"
     ]
    }
   ],
   "execution_count": 1
  },
  {
   "metadata": {
    "ExecuteTime": {
     "end_time": "2025-07-14T04:26:34.255887Z",
     "start_time": "2025-07-14T04:26:32.417357Z"
    }
   },
   "cell_type": "code",
   "source": [
    "from langchain_core.prompts import ChatPromptTemplate\n",
    "\n",
    "from langchain_openai import ChatOpenAI\n",
    "\n",
    "# Assume OPENAI_API_KEY is set\n",
    "prompt = ChatPromptTemplate.from_template(\"Tell me a joke about {topic}\")\n",
    "# model = ChatOpenAI()\n",
    "\n",
    "# This creates a RunnableSequence instance\n",
    "chain = prompt | model\n",
    "response = chain.invoke({\"topic\": \"cats\"})\n",
    "print(response.content)"
   ],
   "id": "1fccff43a280086e",
   "outputs": [
    {
     "name": "stdout",
     "output_type": "stream",
     "text": [
      "Why was the cat sitting on the computer?\n",
      "\n",
      "Because it wanted to keep an eye on the mouse!\n"
     ]
    }
   ],
   "execution_count": 2
  },
  {
   "metadata": {
    "ExecuteTime": {
     "end_time": "2025-07-10T12:23:11.627226Z",
     "start_time": "2025-07-10T12:23:02.585766Z"
    }
   },
   "cell_type": "code",
   "source": [
    "template02 = \"\"\" Based on the following information, summarize all the working hours and calculate compensatory leave hours. \n",
    "    Follow these steps very carefully:\n",
    "        \n",
    "    1. Set fixed Over Time standards:\n",
    "       Weekday fixed Over Time = 30 hours\n",
    "       Weekend fixed Over Time = 10 hours\n",
    "    \n",
    "    2. Calculate weekday compensatory leave:\n",
    "       a. Excess weekday overtime = MAX(0, weekday_overtime - 30)\n",
    "       b-1. no exceeding the weekday fixed over time, Weekday compensatory leave = (Excess weekday overtime × 1.5) + (Weekday night work × 0.5)\n",
    "       b-2. exceeding the weekday fixed over time, Weekday compensatory leave = (Excess weekday overtime × 1.5) + (Weekday night work × 2)\n",
    "    \n",
    "    3. Calculate weekend compensatory leave:\n",
    "       a. Excess weekend overtime = MAX(0, weekend_overtime - 10)\n",
    "       b-1. If no exceeding the weekend fixed over time, Weekend compensatory leave = (excess weekend overtime × 1.5) + (Weekend night work × 0.5) \n",
    "       b-2. If exceeding the weekend fixed over time, Weekend compensatory leave = (excess weekend overtime × 1.5) + (Weekend night work × 2)\n",
    "    \n",
    "    4. Calculate total compensatory leave:\n",
    "       Total compensatory leave hours = Weekday compensatory leave + Weekend compensatory leave\n",
    "    \n",
    "    5. Round all calculated hours to two decimal places.provide a clear and concise summary of the overtime hours they want to calculate for compensatory leave.\n",
    "    \n",
    "    output format summary as follows:\n",
    "    <summary>\n",
    "    === 보상 휴가 시간 계산 결과 ===\n",
    "    평일 보상 휴가 시간: \n",
    "    주말/휴일 보상 휴가 시간: \n",
    "    총 보상 휴가 시간: \n",
    "    주말/휴일 근무 시간에 \"대체 휴일\"을 적용한 경우, 주말/휴일 보상 시간은 위의 계산 결과와 다를 수 있습니다.\n",
    "    </summary>\n",
    "    \n",
    "    {reqs}\n",
    "\n",
    "\"\"\"\n",
    "prompt = ChatPromptTemplate.from_template(\n",
    "    template=template02\n",
    ")\n",
    "reqs = \"평일 연장근무는 몇시간 인가요? 10시간입니다. 평일 야간근무는 0시간 입니다. 주말 연장근무는 30분이구요. 주말 야간근무는 4시간입니다. 보상휴가를 시간을 계산해라 \"\n",
    "chain1 = prompt | llm  \n",
    "response=chain1.invoke({\"reqs\": reqs})\n",
    "print(response.content)\n"
   ],
   "id": "cbc18e3c8ee87aa6",
   "outputs": [
    {
     "name": "stdout",
     "output_type": "stream",
     "text": [
      "To calculate the compensatory leave hours based on the provided information, we will follow the outlined steps.\n",
      "\n",
      "1. **Fixed Over Time Standards:**\n",
      "   - Weekday fixed Over Time: 30 hours\n",
      "   - Weekend fixed Over Time: 10 hours\n",
      "\n",
      "2. **Given Data:**\n",
      "   - Weekday overtime: 10 hours\n",
      "   - Weekday night work: 0 hours\n",
      "   - Weekend overtime: 0.5 hours (30 minutes)\n",
      "   - Weekend night work: 4 hours\n",
      "\n",
      "3. **Calculate Weekday Compensatory Leave:**\n",
      "   a. Excess weekday overtime = MAX(0, weekday_overtime - 30)\n",
      "   - Excess weekday overtime = MAX(0, 10 - 30) = 0 hours (no excess)\n",
      "\n",
      "   b. Since there is no exceeding the weekday fixed overtime, we use the first formula for compensatory leave:\n",
      "   - Weekday compensatory leave = (0 × 1.5) + (0 × 0.5) = 0 hours\n",
      "\n",
      "4. **Calculate Weekend Compensatory Leave:**\n",
      "   a. Excess weekend overtime = MAX(0, weekend_overtime - 10)\n",
      "   - Excess weekend overtime = MAX(0, 0.5 - 10) = 0 hours (no excess)\n",
      "\n",
      "   b. Since there is no exceeding the weekend fixed overtime, we use the first formula for compensatory leave:\n",
      "   - Weekend compensatory leave = (0 × 1.5) + (4 × 0.5) = 2 hours\n",
      "\n",
      "5. **Calculate Total Compensatory Leave:**\n",
      "   - Total compensatory leave hours = Weekday compensatory leave + Weekend compensatory leave\n",
      "   - Total compensatory leave = 0 + 2 = 2 hours\n",
      "\n",
      "6. **Final Output Summary:**\n",
      "\n",
      "<summary>\n",
      "=== 보상 휴가 시간 계산 결과 ===\n",
      "평일 보상 휴가 시간: 0.00\n",
      "주말/휴일 보상 휴가 시간: 2.00\n",
      "총 보상 휴가 시간: 2.00\n",
      "주말/휴일 근무 시간에 \"대체 휴일\"을 적용한 경우, 주말/휴일 보상 시간은 위의 계산 결과와 다를 수 있습니다.\n",
      "</summary>\n"
     ]
    }
   ],
   "execution_count": 10
  },
  {
   "metadata": {},
   "cell_type": "code",
   "outputs": [],
   "execution_count": null,
   "source": [
    "from pydantic import BaseModel, Field\n",
    "from langchain_core.tools import tool\n",
    "\n",
    "class WorkHoursInputSchema(BaseModel):\n",
    "    \"\"\"calculate compensatory leave hours\"\"\"\n",
    "    weekday_overtime: float = Field(description=\" Total over time of weekdays of a month: 월간 평일 총 연장 근무 시간. (예) 1시간=1.00, 1시간 30분=1.50, 20분=0.33, 0분=0 등. \")\n",
    "    weekday_night: float = Field(description=\"Total night work time of weekdays of a month : 월간 평일 총 야간 근무 시간. (예) 1시간=1.00, 1시간 30분=1.50, 20분=0.33, 0분=0 등. \")\n",
    "    weekend_overtime: float = Field(description=\"Total over time of weekends of a month: 월간 주말 총 연장 근무 시간. (예) 2시간=2.00, 1시간 30분=1.50, 20분=0.33, 0분=0 등.\")\n",
    "    weekend_night: float = Field(description=\"Total night work time of weekends of a month : 월간 주말 총 야간 근무 시간. (예) 2시간=2.00, 1시간 30분=1.50, 20분=0.33, 0분=0 등.\")\n",
    "\n",
    "@tool(\"calculator_tool\", args_schema=WorkHoursInputSchema)\n",
    "def calculator(weekday_overtime: float, weekday_night: float, weekend_overtime: float, weekend_night:float ) -> dict[str, float]:\n",
    "    \n",
    "    return weekday_night + weekday_overtime + weekend_overtime + weekend_night\n"
   ],
   "id": "a4a8e2954296ec3d"
  },
  {
   "metadata": {
    "ExecuteTime": {
     "end_time": "2025-07-14T05:23:24.900469Z",
     "start_time": "2025-07-14T05:23:24.890551Z"
    }
   },
   "cell_type": "code",
   "source": [
    "from pydantic import BaseModel, Field\n",
    "from langchain_core.tools import tool\n",
    "\n",
    "class TimeCriteria(BaseModel):\n",
    "    \"\"\"calculate compensatory leave hours\"\"\"\n",
    "    weekday_overtime: float = Field(description=\" Total over time of weekdays of a month: 월간 평일 총 연장 근무 시간. (예) 1시간=1.00, 1시간 30분=1.50, 20분=0.33, 0분=0 등. \")\n",
    "    weekday_night: float = Field(description=\"Total night work time of weekdays of a month : 월간 평일 총 야간 근무 시간. (예) 1시간=1.00, 1시간 30분=1.50, 20분=0.33, 0분=0 등. \")\n",
    "    weekend_overtime: float = Field(description=\"Total over time of weekends of a month: 월간 주말 총 연장 근무 시간. (예) 2시간=2.00, 1시간 30분=1.50, 20분=0.33, 0분=0 등.\")\n",
    "    weekend_night: float = Field(description=\"Total night work time of weekends of a month : 월간 주말 총 야간 근무 시간. (예) 2시간=2.00, 1시간 30분=1.50, 20분=0.33, 0분=0 등.\")\n",
    "\n",
    "@tool(\"calculator_tool\", args_schema=TimeCriteria)\n",
    "def compensatory_leave_calculator(weekday_overtime: float, weekday_night: float, weekend_overtime: float, weekend_night: float) -> dict[str, float]:\n",
    "    \n",
    "    # 1. 고정 연장근무 기준 설정\n",
    "    WEEKDAY_FIXED_OVERTIME = 30\n",
    "    WEEKEND_FIXED_OVERTIME = 10\n",
    "    \n",
    "    # 2. 평일 보상휴가 계산\n",
    "    excess_weekday_overtime = max(0, weekday_overtime - WEEKDAY_FIXED_OVERTIME)\n",
    "    \n",
    "    if weekday_overtime <= WEEKDAY_FIXED_OVERTIME:\n",
    "        # 평일 고정 연장근무 시간을 초과하지 않는 경우\n",
    "        weekday_compensatory = (excess_weekday_overtime * 1.5) + (weekday_night * 0.5)\n",
    "    else:\n",
    "        # 평일 고정 연장근무 시간을 초과하는 경우\n",
    "        weekday_compensatory = (excess_weekday_overtime * 1.5) + (weekday_night * 2)\n",
    "    \n",
    "    # 3. 주말 보상휴가 계산\n",
    "    excess_weekend_overtime = max(0, weekend_overtime - WEEKEND_FIXED_OVERTIME)\n",
    "    \n",
    "    if weekend_overtime <= WEEKEND_FIXED_OVERTIME:\n",
    "        # 주말 고정 연장근무 시간을 초과하지 않는 경우\n",
    "        weekend_compensatory = (excess_weekend_overtime * 1.5) + (weekend_night * 0.5)\n",
    "    else:\n",
    "        # 주말 고정 연장근무 시간을 초과하는 경우\n",
    "        weekend_compensatory = (excess_weekend_overtime * 1.5) + (weekend_night * 2)\n",
    "    \n",
    "    # 4. 총 보상휴가 계산\n",
    "    total_compensatory = weekday_compensatory + weekend_compensatory\n",
    "    \n",
    "    # 5. 소수점 둘째 자리까지 반올림\n",
    "    weekday_compensatory = round(weekday_compensatory, 2)\n",
    "    weekend_compensatory = round(weekend_compensatory, 2)\n",
    "    total_compensatory = round(total_compensatory, 2)\n",
    "    \n",
    "    # 결과 반환\n",
    "    return {\n",
    "        \"평일 보상 휴가 시간\": weekday_compensatory,\n",
    "        \"주말 보상 휴가 시간\": weekend_compensatory,\n",
    "        \"총 보상 휴가 시간\": total_compensatory\n",
    "    }"
   ],
   "id": "24a523344ffc7323",
   "outputs": [],
   "execution_count": 35
  },
  {
   "metadata": {
    "ExecuteTime": {
     "end_time": "2025-07-14T06:13:57.225930Z",
     "start_time": "2025-07-14T06:13:57.213546Z"
    }
   },
   "cell_type": "code",
   "source": [
    "from textwrap import dedent\n",
    "\n",
    "prompt_system_task = dedent(\"\"\" 당신은 보상 휴가 시간 계산 에이전트입니다. 당신의 역할은 직원들로부터 초과 근무 시간 정보를 수집하고, 이를 요약한 뒤, 보상 휴가 시간을 계산하는 것입니다.\n",
    "        You should obtain the following information from them:\n",
    "        - Total over time of weekdays of a month: 월간 평일 총 연장 근무 시간. 이것은 평일 18시부터 22시 사이에 발생한 총 연장 근무 시간. 시/분 단위로 근무 시간을 수집 한다. (예) 1시간, 1시간 30분, 20분 등. \n",
    "        - Total night work time of weekdays of a month : 월간 평일 총 야간 근무 시간. 이것은 평일 22시부터 다음날 6시 사이에 발생한 총 야간 근무 시간. 시/분 단위로 근무 시간을 수집 한다. (예) 1시간, 1시간 30분, 20분 등.\n",
    "        - Total over time of weekends of a month: 월간 주말 총 연장 근무 시간. 이것은 주말 6시부터 22시 사이에 발생한 총 주말 연장 근무 시간. 시/분 단위로 근무 시간을 수집 한다.(예) 1시간, 1시간 30분, 20분 등. \n",
    "        - Total night work time of weekends of a month : 월간 주말 총 야간 근무 시간. 이것은 주말 22시부터 다음날 6시 사이에 발생한 총 주말 야간 근무 시간. 시/분 단위로 근무 시간을 수집 한다. (예) 1시간, 1시간 30분, 20분 등.\n",
    "\n",
    "        If you are not able to discern this info, ask them to clarify! Do not attempt to wildly guess. \n",
    "        Whenever the user responds to one of the criteria, evaluate if it is detailed enough to be a criterion of compensatory Leave Hours Calculation . If not, ask questions to help the user better detail the criterion.\n",
    "        Do not overwhelm the user with too many questions at once; ask for the information you need in a way that they do not have to write much in each response. \n",
    "        Always remind them that if they do not know how to answer something, you can help them.\n",
    "        After you are able to discern all the information, call the compensatory_leave_calculator tool.\n",
    "\n",
    "        \"\"\")"
   ],
   "id": "eae7f60717315a59",
   "outputs": [],
   "execution_count": 63
  },
  {
   "metadata": {
    "ExecuteTime": {
     "end_time": "2025-07-14T05:23:42.954175Z",
     "start_time": "2025-07-14T05:23:42.944650Z"
    }
   },
   "cell_type": "code",
   "source": [
    "from langchain_core.tools import tool\n",
    "from langgraph.prebuilt import create_react_agent\n",
    "\n",
    "agent = create_react_agent(\n",
    "    model=model,\n",
    "    tools=[compensatory_leave_calculator],\n",
    "    state_modifier=prompt_system_task\n",
    ")\n"
   ],
   "id": "5a954fed541c88a9",
   "outputs": [],
   "execution_count": 37
  },
  {
   "metadata": {
    "ExecuteTime": {
     "end_time": "2025-07-14T05:24:41.825571Z",
     "start_time": "2025-07-14T05:24:37.821678Z"
    }
   },
   "cell_type": "code",
   "source": "agent.invoke({\"messages\": [{\"role\": \"user\", \"content\": \"평일 총 야간 근무 시간이 2시간 50분이다. 평일 총 연장 근무 시간이 2시간 50분이다. 주말 총 연장 근무 시간이 2시간 50분이다. 주말 총 야간 근무 시간이 2시간 50분이다\"}]})",
   "id": "8d88369e9c3ba2ac",
   "outputs": [
    {
     "data": {
      "text/plain": [
       "{'messages': [HumanMessage(content='평일 총 야간 근무 시간이 2시간 50분이다. 평일 총 연장 근무 시간이 2시간 50분이다. 주말 총 연장 근무 시간이 2시간 50분이다. 주말 총 야간 근무 시간이 2시간 50분이다', additional_kwargs={}, response_metadata={}, id='513e6301-97c6-4e99-ae3e-b8c3b051d378'),\n",
       "  AIMessage(content='제공해주신 정보를 시/분 단위에서 소수점으로 변환하고 싶습니다. 다음과 같이 나눌 수 있습니다:\\n\\n- 평일 총 야간 근무 시간: 2시간 50분 = 2 + 50/60 = 2 + 0.83 = 2.83시간\\n- 평일 총 연장 근무 시간: 2시간 50분 = 2 + 50/60 = 2 + 0.83 = 2.83시간\\n- 주말 총 연장 근무 시간: 2시간 50분 = 2 + 50/60 = 2 + 0.83 = 2.83시간\\n- 주말 총 야간 근무 시간: 2시간 50분 = 2 + 50/60 = 2 + 0.83 = 2.83시간\\n\\n이렇게 되는지 확인해주시겠어요? 그리고 추가로 확인할 정보가 있다면 말씀해주시기 바랍니다!', additional_kwargs={'refusal': None}, response_metadata={'token_usage': {'completion_tokens': 214, 'prompt_tokens': 869, 'total_tokens': 1083, 'completion_tokens_details': {'accepted_prediction_tokens': 0, 'audio_tokens': 0, 'reasoning_tokens': 0, 'rejected_prediction_tokens': 0}, 'prompt_tokens_details': {'audio_tokens': 0, 'cached_tokens': 0}}, 'model_name': 'gpt-4o-mini-2024-07-18', 'system_fingerprint': 'fp_efad92c60b', 'id': 'chatcmpl-Bt5y3WqT6gmpMLvevBnObJHSN0V5h', 'service_tier': None, 'finish_reason': 'stop', 'logprobs': None}, id='run--b269e6c7-d591-4962-af43-ab077422705a-0', usage_metadata={'input_tokens': 869, 'output_tokens': 214, 'total_tokens': 1083, 'input_token_details': {'audio': 0, 'cache_read': 0}, 'output_token_details': {'audio': 0, 'reasoning': 0}})]}"
      ]
     },
     "execution_count": 38,
     "metadata": {},
     "output_type": "execute_result"
    }
   ],
   "execution_count": 38
  },
  {
   "metadata": {
    "ExecuteTime": {
     "end_time": "2025-07-14T04:55:55.945510Z",
     "start_time": "2025-07-14T04:55:55.625379Z"
    }
   },
   "cell_type": "code",
   "source": [
    "from IPython.display import Image, display\n",
    "# 그래프 출력\n",
    "display(Image(agent.get_graph().draw_mermaid_png()))"
   ],
   "id": "7f8ee9cafad7cf0d",
   "outputs": [
    {
     "data": {
      "image/png": "[encoded data removed]",
      "text/plain": [
       "<IPython.core.display.Image object>"
      ]
     },
     "metadata": {},
     "output_type": "display_data"
    }
   ],
   "execution_count": 18
  },
  {
   "metadata": {
    "ExecuteTime": {
     "end_time": "2025-07-14T05:26:50.159778Z",
     "start_time": "2025-07-14T05:26:50.144746Z"
    }
   },
   "cell_type": "code",
   "source": [
    "# 도구 목록\n",
    "tools = [compensatory_leave_calculator]\n",
    "\n",
    "# 모델에 도구를 바인딩\n",
    "llm_with_tools = llm.bind_tools(tools=tools)"
   ],
   "id": "2050fd62da99820",
   "outputs": [],
   "execution_count": 39
  },
  {
   "metadata": {
    "ExecuteTime": {
     "end_time": "2025-07-14T05:30:02.430779Z",
     "start_time": "2025-07-14T05:30:02.005193Z"
    }
   },
   "cell_type": "code",
   "source": [
    "from langgraph.graph import MessagesState, StateGraph, START, END\n",
    "from langchain_core.messages import HumanMessage, SystemMessage\n",
    "from langgraph.prebuilt import ToolNode\n",
    "from IPython.display import Image, display\n",
    "\n",
    "from langgraph.checkpoint.memory import MemorySaver\n",
    "\n",
    "# 메모리 초기화 \n",
    "memory = MemorySaver()\n",
    "# \n",
    "# # 체크포인터 지정하여 그래프 컴파일 \n",
    "# graph_memory = agent.compile(checkpointer=memory)\n",
    "\n",
    "# LangGraph MessagesState 사용\n",
    "class GraphState(MessagesState):\n",
    "    pass\n",
    "\n",
    "# 노드 구성 \n",
    "def call_model(state: GraphState):\n",
    "    system_message = SystemMessage(content=prompt_system_task)\n",
    "    messages = [system_message] + state['messages']\n",
    "    response = llm.invoke(messages)\n",
    "    return {\"messages\": [response]}\n",
    "\n",
    "def should_continue(state: GraphState):\n",
    "    last_message = state[\"messages\"][-1]\n",
    "    # 도구 호출이 있으면 도구 실행 노드로 이동\n",
    "    if last_message.tool_calls:\n",
    "        return \"execute_tools\"\n",
    "    # 도구 호출이 없으면 답변 생성하고 종료 \n",
    "    return END\n",
    "\n",
    "# 그래프 구성\n",
    "builder = StateGraph(GraphState)\n",
    "builder.add_node(\"call_model\", call_model)\n",
    "builder.add_node(\"execute_tools\", ToolNode(tools))\n",
    "\n",
    "builder.add_edge(START, \"call_model\")\n",
    "builder.add_conditional_edges(\n",
    "    \"call_model\", \n",
    "    should_continue,\n",
    "    {\n",
    "        \"execute_tools\": \"execute_tools\",\n",
    "        END: END\n",
    "    }\n",
    ")\n",
    "builder.add_edge(\"execute_tools\", \"call_model\")\n",
    "\n",
    "graph = builder.compile()\n",
    "# 체크포인터 지정하여 그래프 컴파일 \n",
    "# graph_memory = builder.compile(checkpointer=memory)\n",
    "\n",
    "# 그래프 출력 \n",
    "display(Image(graph.get_graph().draw_mermaid_png()))"
   ],
   "id": "3fafe3ebfdecfa2f",
   "outputs": [
    {
     "data": {
      "image/png": "[encoded data removed]",
      "text/plain": [
       "<IPython.core.display.Image object>"
      ]
     },
     "metadata": {},
     "output_type": "display_data"
    }
   ],
   "execution_count": 43
  },
  {
   "metadata": {
    "ExecuteTime": {
     "end_time": "2025-07-14T05:08:29.457141Z",
     "start_time": "2025-07-14T05:08:25.418663Z"
    }
   },
   "cell_type": "code",
   "source": [
    "# 그래프 실행\n",
    "inputs = {\"messages\": [HumanMessage(content=\" 주어진 시간으로 보상휴가 시간을 계산해라\")]}\n",
    "messages = graph.invoke(inputs)\n",
    "for m in messages['messages']:\n",
    "    m.pretty_print()"
   ],
   "id": "11cdde6f6eb1dd19",
   "outputs": [
    {
     "name": "stdout",
     "output_type": "stream",
     "text": [
      "================================\u001B[1m Human Message \u001B[0m=================================\n",
      "\n",
      " 주어진 시간으로 보상휴가 시간을 계산해라\n",
      "==================================\u001B[1m Ai Message \u001B[0m==================================\n",
      "\n",
      "보상 휴가 시간을 계산하기 위해 몇 가지 정보를 더 수집해야 합니다. 다음 항목들에 대해 알려주세요:\n",
      "\n",
      "1. 월간 평일 총 연장 근무 시간(18시부터 22시 사이, 시/분 단위로).\n",
      "2. 월간 평일 총 야간 근무 시간(22시부터 다음날 6시 사이, 시/분 단위로).\n",
      "3. 월간 주말 총 연장 근무 시간(주말 6시부터 22시 사이, 시/분 단위로).\n",
      "4. 월간 주말 총 야간 근무 시간(주말 22시부터 다음날 6시 사이, 시/분 단위로).\n",
      "\n",
      "각 항목에 대한 정보를 제공해주시면 계산을 도와드리겠습니다. 만약 어떤 항목을 정리해야 할지 모르겠다면, 제가 도와드릴 수 있습니다!\n"
     ]
    }
   ],
   "execution_count": 26
  },
  {
   "metadata": {
    "ExecuteTime": {
     "end_time": "2025-07-14T05:30:17.279726Z",
     "start_time": "2025-07-14T05:30:17.273822Z"
    }
   },
   "cell_type": "code",
   "source": [
    "from langgraph.checkpoint.memory import MemorySaver\n",
    "\n",
    "# 메모리 초기화 \n",
    "memory = MemorySaver()\n",
    "\n",
    "# 체크포인터 지정하여 그래프 컴파일 \n",
    "graph_memory = builder.compile(checkpointer=memory)"
   ],
   "id": "4d42bb5a87121caa",
   "outputs": [],
   "execution_count": 44
  },
  {
   "metadata": {
    "ExecuteTime": {
     "end_time": "2025-07-14T05:16:18.393192Z",
     "start_time": "2025-07-14T05:16:14.247186Z"
    }
   },
   "cell_type": "code",
   "source": [
    "config = {\"configurable\": {\"thread_id\": \"1\"}}\n",
    "messages = [HumanMessage(content=\" 알려줘\")]\n",
    "messages = graph_memory.invoke({\"messages\": messages}, config)\n",
    "for m in messages['messages']:\n",
    "    m.pretty_print()"
   ],
   "id": "1a4a292e4167ba72",
   "outputs": [
    {
     "name": "stdout",
     "output_type": "stream",
     "text": [
      "================================\u001B[1m Human Message \u001B[0m=================================\n",
      "\n",
      "?\n",
      "==================================\u001B[1m Ai Message \u001B[0m==================================\n",
      "\n",
      "안녕하세요! 보상 휴가 시간 계산을 도와드리겠습니다. 먼저, 몇 가지 정보를 제공해 주시면 됩니다.\n",
      "\n",
      "1. 월간 평일 총 연장 근무 시간(18시부터 22시 사이, 시/분 단위로)\n",
      "   \n",
      "예시: 1시간, 1시간 30분, 20분 등\n",
      "\n",
      "이 정보를 제공해 주시면 감사하겠습니다! 다른 질문이 있으면 언제든지 말씀해 주세요.\n",
      "================================\u001B[1m Human Message \u001B[0m=================================\n",
      "\n",
      " 10시간 30분\n",
      "==================================\u001B[1m Ai Message \u001B[0m==================================\n",
      "\n",
      "감사합니다! 이제 월간 평일 총 연장 근무 시간이 10시간 30분으로 확인되었습니다.\n",
      "\n",
      "다음으로, 아래 정보를 제공해 주시겠어요?\n",
      "\n",
      "2. 월간 평일 총 야간 근무 시간(22시부터 다음날 6시 사이, 시/분 단위로)\n",
      "\n",
      "예시: 1시간, 1시간 30분, 20분 등\n",
      "\n",
      "이 정보를 주시면 이어서 진행하겠습니다!\n",
      "================================\u001B[1m Human Message \u001B[0m=================================\n",
      "\n",
      " 10시간 30분\n",
      "==================================\u001B[1m Ai Message \u001B[0m==================================\n",
      "\n",
      "감사합니다! 월간 평일 총 야간 근무 시간이 10시간 30분으로 확인되었습니다.\n",
      "\n",
      "이제 세 번째 정보를 부탁드립니다:\n",
      "\n",
      "3. 월간 주말 총 연장 근무 시간(주말 6시부터 22시 사이, 시/분 단위로)\n",
      "\n",
      "예시: 1시간, 1시간 30분, 20분 등\n",
      "\n",
      "이 정보를 주시면 다음 단계로 넘어가겠습니다! 다른 질문이 있다면 말씀해 주세요.\n",
      "================================\u001B[1m Human Message \u001B[0m=================================\n",
      "\n",
      " 10시간 30분\n",
      "==================================\u001B[1m Ai Message \u001B[0m==================================\n",
      "\n",
      "감사합니다! 월간 주말 총 연장 근무 시간이 10시간 30분으로 확인되었습니다.\n",
      "\n",
      "마지막으로, 아래 정보를 제공해 주시겠어요?\n",
      "\n",
      "4. 월간 주말 총 야간 근무 시간(주말 22시부터 다음날 6시 사이, 시/분 단위로)\n",
      "\n",
      "예시: 1시간, 1시간 30분, 20분 등\n",
      "\n",
      "이 정보를 주시면 최종적으로 진행하겠습니다! 도움이 필요하시면 언제든지 말씀해 주세요.\n",
      "================================\u001B[1m Human Message \u001B[0m=================================\n",
      "\n",
      " 10시간 30분\n",
      "==================================\u001B[1m Ai Message \u001B[0m==================================\n",
      "\n",
      "감사합니다! 이제 모든 정보를 확인했습니다:\n",
      "\n",
      "1. 월간 평일 총 연장 근무 시간: 10시간 30분\n",
      "2. 월간 평일 총 야간 근무 시간: 10시간 30분\n",
      "3. 월간 주말 총 연장 근무 시간: 10시간 30분\n",
      "4. 월간 주말 총 야간 근무 시간: 10시간 30분\n",
      "\n",
      "이제 보상 휴가 시간을 계산하겠습니다. 평일 연장 근무 시간과 주말 연장 근무 시간은 각각 1:1 비율로 보상되며, 야간 근무 시간은 1.5배로 계산됩니다.\n",
      "\n",
      "계산을 시작하겠습니다:\n",
      "\n",
      "- 평일 총 보상 휴가 = (10시간 30분 + 10시간 30분 × 1.5) \n",
      "- 주말 총 보상 휴가 = (10시간 30분 + 10시간 30분 × 1.5)\n",
      "\n",
      "보상 휴가는 모두 합쳐서 계산합니다.\n",
      "\n",
      "최종 결과를 계산한 후 알려드리겠습니다. 잠시만 기다려 주세요.\n",
      "================================\u001B[1m Human Message \u001B[0m=================================\n",
      "\n",
      " 알려줘\n",
      "==================================\u001B[1m Ai Message \u001B[0m==================================\n",
      "\n",
      "보상 휴가 시간을 계산해보겠습니다.\n",
      "\n",
      "1. 평일 보상 휴가:\n",
      "   - 평일 총 연장 근무 시간: 10시간 30분\n",
      "   - 평일 총 야간 근무 시간: 10시간 30분 × 1.5 = 15시간 45분\n",
      "\n",
      "   평일 총 보상 휴가 = 10시간 30분 + 15시간 45분 = 26시간 15분\n",
      "\n",
      "2. 주말 보상 휴가:\n",
      "   - 주말 총 연장 근무 시간: 10시간 30분\n",
      "   - 주말 총 야간 근무 시간: 10시간 30분 × 1.5 = 15시간 45분\n",
      "\n",
      "   주말 총 보상 휴가 = 10시간 30분 + 15시간 45분 = 26시간 15분\n",
      "\n",
      "이제 전체 보상 휴가 시간을 합치면:\n",
      "\n",
      "전체 보상 휴가 = 26시간 15분 + 26시간 15분 = 52시간 30분\n",
      "\n",
      "결과적으로, 귀하의 총 보상 휴가 시간은 **52시간 30분**입니다! \n",
      "\n",
      "더 궁금한 점이나 도움이 필요하시면 언제든지 말씀해 주세요!\n"
     ]
    }
   ],
   "execution_count": 33
  },
  {
   "metadata": {
    "ExecuteTime": {
     "end_time": "2025-07-14T06:14:18.679916Z",
     "start_time": "2025-07-14T06:14:18.418558Z"
    }
   },
   "cell_type": "code",
   "source": [
    "from langgraph.prebuilt import create_react_agent\n",
    "from langgraph.checkpoint.memory import MemorySaver\n",
    "from IPython.display import Image, display\n",
    "\n",
    "# 메모리 초기화 \n",
    "memory = MemorySaver()\n",
    "\n",
    "# 그래프 생성 \n",
    "graph = create_react_agent(\n",
    "    llm, \n",
    "    tools=[compensatory_leave_calculator],\n",
    "    state_modifier=prompt_system_task,\n",
    "    checkpointer=memory,\n",
    "    )\n",
    "\n",
    "# 그래프 출력\n",
    "display(Image(graph.get_graph().draw_mermaid_png()))"
   ],
   "id": "8bf676b7f07f42f3",
   "outputs": [
    {
     "data": {
      "image/png": "[encoded data removed]",
      "text/plain": [
       "<IPython.core.display.Image object>"
      ]
     },
     "metadata": {},
     "output_type": "display_data"
    }
   ],
   "execution_count": 64
  },
  {
   "metadata": {
    "ExecuteTime": {
     "end_time": "2025-07-14T06:16:07.536577Z",
     "start_time": "2025-07-14T06:16:01.907531Z"
    }
   },
   "cell_type": "code",
   "source": [
    "config = {\"configurable\": {\"thread_id\": \"5\"}}\n",
    "messages = [HumanMessage(content=\" 5시간 30분\")]\n",
    "messages = graph.invoke({\"messages\": messages}, config)\n",
    "for m in messages['messages']:\n",
    "    m.pretty_print()"
   ],
   "id": "113e7bead5bbeadb",
   "outputs": [
    {
     "name": "stdout",
     "output_type": "stream",
     "text": [
      "================================\u001B[1m Human Message \u001B[0m=================================\n",
      "\n",
      ".\n",
      "==================================\u001B[1m Ai Message \u001B[0m==================================\n",
      "\n",
      "안녕하세요! 보상 휴가 시간 계산을 도와드리겠습니다. 시작하기 위해 몇 가지 정보를 제공해 주셔야 합니다.\n",
      "\n",
      "첫 번째로, 월간 평일 총 연장 근무 시간을 알려주실 수 있나요? 이 시간은 평일 18시부터 22시 사이에 발생한 총 연장 근무 시간입니다. 시/분 단위로 입력해 주세요. 예를 들어, \"1시간\", \"1시간 30분\", \"20분\" 등으로 말씀해 주시면 됩니다. \n",
      "\n",
      "답변이 어려우시면 언제든지 도와드리겠습니다!\n",
      "================================\u001B[1m Human Message \u001B[0m=================================\n",
      "\n",
      " 20시간\n",
      "==================================\u001B[1m Ai Message \u001B[0m==================================\n",
      "\n",
      "감사합니다! 월간 평일 총 연장 근무 시간을 20시간으로 확인했습니다.\n",
      "\n",
      "다음으로, 월간 평일 총 야간 근무 시간을 알려주실 수 있을까요? 이 시간은 평일 22시부터 다음날 6시 사이에 발생한 총 야간 근무 시간입니다. 시/분 단위로 입력해 주세요. 예를 들어, \"1시간\", \"1시간 30분\", \"20분\" 등으로 말씀해 주시면 됩니다. \n",
      "\n",
      "도움이 필요하시면 말씀해 주세요!\n",
      "================================\u001B[1m Human Message \u001B[0m=================================\n",
      "\n",
      " 2시간\n",
      "==================================\u001B[1m Ai Message \u001B[0m==================================\n",
      "\n",
      "감사합니다! 월간 평일 총 야간 근무 시간을 2시간으로 확인했습니다.\n",
      "\n",
      "이제 세 번째 정보입니다. 월간 주말 총 연장 근무 시간을 알려주실 수 있을까요? 이 시간은 주말 6시부터 22시 사이에 발생한 총 연장 근무 시간입니다. 시/분 단위로 입력해 주세요. 예를 들어, \"1시간\", \"1시간 30분\", \"20분\" 등으로 말씀해 주시면 됩니다. \n",
      "\n",
      "필요한 경우 언제든지 도와드리겠습니다!\n",
      "================================\u001B[1m Human Message \u001B[0m=================================\n",
      "\n",
      " 10시간 30분\n",
      "==================================\u001B[1m Ai Message \u001B[0m==================================\n",
      "\n",
      "감사합니다! 월간 주말 총 연장 근무 시간을 10시간 30분으로 확인했습니다.\n",
      "\n",
      "마지막으로, 월간 주말 총 야간 근무 시간을 알려주실 수 있을까요? 이 시간은 주말 22시부터 다음날 6시 사이에 발생한 총 야간 근무 시간입니다. 시/분 단위로 입력해 주세요. 예를 들어, \"1시간\", \"1시간 30분\", \"20분\" 등으로 말씀해 주시면 됩니다.\n",
      "\n",
      "도움이 필요하시면 언제든지 말씀해 주세요!\n",
      "================================\u001B[1m Human Message \u001B[0m=================================\n",
      "\n",
      " 5시간 30분\n",
      "==================================\u001B[1m Ai Message \u001B[0m==================================\n",
      "\n",
      "감사합니다! 월간 주말 총 야간 근무 시간을 5시간 30분으로 확인했습니다.\n",
      "\n",
      "이제 모든 정보를 정리하겠습니다:\n",
      "- 월간 평일 총 연장 근무 시간: 20시간\n",
      "- 월간 평일 총 야간 근무 시간: 2시간\n",
      "- 월간 주말 총 연장 근무 시간: 10시간 30분\n",
      "- 월간 주말 총 야간 근무 시간: 5시간 30분\n",
      "\n",
      "이 정보를 바탕으로 보상 휴가 시간을 계산해 보겠습니다. 잠시만 기다려 주세요!\n",
      "Tool Calls:\n",
      "  calculator_tool (call_qrdrICJa3Fl7pb3oStvI1GsJ)\n",
      " Call ID: call_qrdrICJa3Fl7pb3oStvI1GsJ\n",
      "  Args:\n",
      "    weekday_overtime: 20\n",
      "    weekday_night: 2\n",
      "    weekend_overtime: 10.5\n",
      "    weekend_night: 5.5\n",
      "=================================\u001B[1m Tool Message \u001B[0m=================================\n",
      "Name: calculator_tool\n",
      "\n",
      "{\"평일 보상 휴가 시간\": 1.0, \"주말 보상 휴가 시간\": 11.75, \"총 보상 휴가 시간\": 12.75}\n",
      "==================================\u001B[1m Ai Message \u001B[0m==================================\n",
      "\n",
      "보상 휴가 시간 계산 결과는 다음과 같습니다:\n",
      "\n",
      "- 평일 보상 휴가 시간: 1.0 시간\n",
      "- 주말 보상 휴가 시간: 11.75 시간\n",
      "- 총 보상 휴가 시간: 12.75 시간\n",
      "\n",
      "즉, 총 12시간 45분의 보상 휴가를 받으실 수 있습니다. 도움이 더 필요하시거나 추가 질문이 있으시면 언제든지 말씀해 주세요!\n"
     ]
    }
   ],
   "execution_count": 69
  },
  {
   "metadata": {
    "ExecuteTime": {
     "end_time": "2025-07-14T06:07:32.728602Z",
     "start_time": "2025-07-14T06:07:29.859269Z"
    }
   },
   "cell_type": "code",
   "source": [
    "config = {\"configurable\": {\"thread_id\": \"5시간이요\"}}\n",
    "messages = [HumanMessage(content=\"네\")]\n",
    "messages = graph.invoke({\"messages\": messages}, config)\n",
    "for m in messages['messages']:\n",
    "    m.pretty_print()"
   ],
   "id": "1a58eef81bdf7595",
   "outputs": [
    {
     "name": "stdout",
     "output_type": "stream",
     "text": [
      "================================\u001B[1m Human Message \u001B[0m=================================\n",
      "\n",
      "네\n",
      "==================================\u001B[1m Ai Message \u001B[0m==================================\n",
      "\n",
      "안녕하세요! 보상 휴가 시간을 계산하기 위해 필요한 정보를 제공해 주시면 도와드리겠습니다. 아래의 정보를 단계별로 알려주시면 됩니다.\n",
      "\n",
      "1. 월간 평일 총 연장 근무 시간 (평일 18시부터 22시 사이의 총 근무 시간, 예: 1시간, 1시간 30분, 20분 등)\n",
      "   \n",
      "이 정보를 먼저 알려주실 수 있나요?\n"
     ]
    }
   ],
   "execution_count": 59
  },
  {
   "metadata": {
    "ExecuteTime": {
     "end_time": "2025-07-14T06:05:18.728209Z",
     "start_time": "2025-07-14T06:05:16.472176Z"
    }
   },
   "cell_type": "code",
   "source": [
    "import gradio as gr\n",
    "from typing import List, Tuple\n",
    "from langchain_core.messages import HumanMessage, AIMessage\n",
    "from langgraph.checkpoint.memory import MemorySaver\n",
    "\n",
    "# 메모리 사용 준비\n",
    "# memory = MemorySaver()\n",
    "# graph_memory = builder.compile(checkpointer=memory)\n",
    "\n",
    "# 예시 질문들\n",
    "example_questions = [\n",
    "    \"하이~ 시작해 볼까?\",\n",
    "    # \"오늘의 스페셜 메뉴는 무엇인가요?\",\n",
    "    # \"파스타에 어울리는 음료는 무엇인가요?\"\n",
    "]\n",
    "\n",
    "# 답변 메시지 처리를 위한 함수\n",
    "def process_message(message: str, history: List[Tuple[str, str]], thread_id: str) -> str:\n",
    "    try:\n",
    "        config = {\"configurable\": {\"thread_id\": thread_id}}\n",
    "        inputs = {\"messages\": [HumanMessage(content=message)]}\n",
    "        \n",
    "        result = graph.invoke(inputs, config=config)\n",
    "        \n",
    "        if \"messages\" in result:\n",
    "            # 메시지 로깅 (선택사항)\n",
    "            print(f\"스레드 ID: {thread_id}\")\n",
    "            for msg in result[\"messages\"]:\n",
    "                msg.pretty_print()\n",
    "\n",
    "            last_message = result[\"messages\"][-1]\n",
    "            if isinstance(last_message, AIMessage):\n",
    "                return last_message.content\n",
    "\n",
    "        return \"응답을 생성하지 못했습니다.\"\n",
    "\n",
    "    except Exception as e:\n",
    "        print(f\"Error occurred: {str(e)}\")\n",
    "        return \"죄송합니다. 응답을 생성하는 동안 오류가 발생했습니다. 다시 시도해 주세요.\"\n",
    "\n",
    "\n",
    "# 챗봇 클래스 생성\n",
    "class ChatBot:\n",
    "    def __init__(self):\n",
    "        self.thread_id = str(uuid.uuid4())\n",
    "\n",
    "    def chat(self, message: str, history: List[Tuple[str, str]]) -> str:\n",
    "        print(f\"Thread ID: {self.thread_id}\")\n",
    "        response = process_message(message, history, self.thread_id)\n",
    "        return response\n",
    "\n",
    "chatbot = ChatBot()\n",
    "\n",
    "\n",
    "# ChatInterface 생성\n",
    "demo = gr.ChatInterface(\n",
    "    fn=chatbot.chat,\n",
    "    title=\"보상휴가 계산 AI 어시스턴트\",\n",
    "    description=\"입력하신 근무시간을 기준으로 발생 가능한 보상휴가 시간을 계산해 드립니다.\",\n",
    "    examples=example_questions,\n",
    "    # verbose=True,\n",
    "    theme=gr.themes.Soft()\n",
    ")\n",
    "\n",
    "# Gradio 앱 실행\n",
    "demo.launch()"
   ],
   "id": "d066473025f4f023",
   "outputs": [
    {
     "name": "stdout",
     "output_type": "stream",
     "text": [
      "Running on local URL:  http://127.0.0.1:7860\n",
      "\n",
      "To create a public link, set `share=True` in `launch()`.\n"
     ]
    },
    {
     "data": {
      "text/plain": [
       "<IPython.core.display.HTML object>"
      ],
      "text/html": [
       "<div><iframe src=\"http://127.0.0.1:7860/\" width=\"100%\" height=\"500\" allow=\"autoplay; camera; microphone; clipboard-read; clipboard-write;\" frameborder=\"0\" allowfullscreen></iframe></div>"
      ]
     },
     "metadata": {},
     "output_type": "display_data"
    },
    {
     "data": {
      "text/plain": []
     },
     "execution_count": 54,
     "metadata": {},
     "output_type": "execute_result"
    }
   ],
   "execution_count": 54
  },
  {
   "metadata": {
    "ExecuteTime": {
     "end_time": "2025-07-14T05:49:44.336827Z",
     "start_time": "2025-07-14T05:49:44.198298Z"
    }
   },
   "cell_type": "code",
   "source": "demo.close()",
   "id": "e3d3d05116127a54",
   "outputs": [
    {
     "name": "stdout",
     "output_type": "stream",
     "text": [
      "Closing server running on port: 7860\n"
     ]
    }
   ],
   "execution_count": 52
  }
 ],
 "metadata": {
  "kernelspec": {
   "display_name": "Python 3",
   "language": "python",
   "name": "python3"
  },
  "language_info": {
   "codemirror_mode": {
    "name": "ipython",
    "version": 2
   },
   "file_extension": ".py",
   "mimetype": "text/x-python",
   "name": "python",
   "nbconvert_exporter": "python",
   "pygments_lexer": "ipython2",
   "version": "2.7.6"
  }
 },
 "nbformat": 4,
 "nbformat_minor": 5
}
