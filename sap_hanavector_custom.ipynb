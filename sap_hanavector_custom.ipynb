{
 "cells": [
  {
   "cell_type": "markdown",
   "metadata": {},
   "source": [
    "# SAP HANA Cloud Vector Engine\n",
    "\n",
    ">[SAP HANA Cloud Vector Engine](https://help.sap.com/docs/hana-cloud-database/sap-hana-cloud-sap-hana-database-vector-engine-guide/sap-hana-cloud-sap-hana-database-vector-engine-guide) is a vector store fully integrated into the `SAP HANA Cloud` database."
   ]
  },
  {
   "cell_type": "markdown",
   "metadata": {},
   "source": [
    "## Setup\n",
    "\n",
    "Install the `langchain-hana` external integration package, as well as the other packages used throughout this notebook."
   ]
  },
  {
   "cell_type": "code",
   "metadata": {
    "tags": [],
    "ExecuteTime": {
     "end_time": "2025-06-11T08:45:13.916955Z",
     "start_time": "2025-06-11T08:45:08.520189Z"
    }
   },
   "source": [
    "%pip install -qU langchain-hana"
   ],
   "outputs": [
    {
     "name": "stdout",
     "output_type": "stream",
     "text": [
      "^C\n",
      "Note: you may need to restart the kernel to use updated packages.\n"
     ]
    }
   ],
   "execution_count": 8
  },
  {
   "cell_type": "markdown",
   "metadata": {},
   "source": [
    "### Credentials\n",
    "\n",
    "Ensure your SAP HANA instance is running. Load your credentials from environment variables and create a connection:"
   ]
  },
  {
   "metadata": {
    "ExecuteTime": {
     "end_time": "2025-06-11T08:52:38.982860Z",
     "start_time": "2025-06-11T08:52:38.957667Z"
    }
   },
   "cell_type": "code",
   "source": [
    "import os\n",
    "import json\n",
    "print(os.getenv('AICORE_HOME', 'default_value'))"
   ],
   "outputs": [
    {
     "name": "stdout",
     "output_type": "stream",
     "text": [
      "C:\\Users\\changgoo.kang\\PycharmProjects\\ai-core-samples\\.aicore\n"
     ]
    }
   ],
   "execution_count": 1
  },
  {
   "metadata": {
    "ExecuteTime": {
     "end_time": "2025-06-11T08:53:06.209963Z",
     "start_time": "2025-06-11T08:53:06.192289Z"
    }
   },
   "cell_type": "code",
   "source": [
    "# 환경 변수에서 경로 및 프로파일 읽어오기\n",
    "aicore_home = os.getenv('AICORE_HOME')\n",
    "#profile = os.getenv('AICORE_PROFILE', 'default')\n",
    "config_path = os.path.join(aicore_home, f\"config.json\")"
   ],
   "outputs": [],
   "execution_count": 2
  },
  {
   "metadata": {
    "ExecuteTime": {
     "end_time": "2025-06-11T08:53:10.381344Z",
     "start_time": "2025-06-11T08:53:09.262332Z"
    }
   },
   "cell_type": "code",
   "source": [
    "from ai_core_sdk.ai_core_v2_client import AICoreV2Client\n",
    "# 구성 파일에서 값 읽어오기\n",
    "with open(config_path, 'r') as config_file:\n",
    "    config = json.load(config_file)\n",
    "\n",
    "# 클라이언트 초기화\n",
    "ai_core_client = AICoreV2Client(\n",
    "    base_url=config['AICORE_BASE_URL'],\n",
    "    auth_url=config['AICORE_AUTH_URL'],\n",
    "    client_id=config['AICORE_CLIENT_ID'],\n",
    "    client_secret=config['AICORE_CLIENT_SECRET']\n",
    ")\n",
    "\n",
    "print(\"AI Core client initialized successfully!\")"
   ],
   "outputs": [
    {
     "name": "stdout",
     "output_type": "stream",
     "text": [
      "AI Core client initialized successfully!\n"
     ]
    }
   ],
   "execution_count": 3
  },
  {
   "metadata": {
    "ExecuteTime": {
     "end_time": "2025-06-11T09:03:37.022328Z",
     "start_time": "2025-06-11T09:03:37.009385Z"
    }
   },
   "cell_type": "code",
   "source": "model_list=['gpt-4o-mini', 'anthropic--claude-3.5-sonnet', 'text-embedding-3-small']",
   "outputs": [],
   "execution_count": 10
  },
  {
   "metadata": {
    "ExecuteTime": {
     "end_time": "2025-06-11T08:53:17.889899Z",
     "start_time": "2025-06-11T08:53:17.881216Z"
    }
   },
   "cell_type": "code",
   "source": [
    "# 환경 변수에서 경로 및 프로파일 읽어오기\n",
    "aicore_home = os.getenv('AICORE_HOME')\n",
    "hana_config_path = os.path.join(aicore_home, \"hana_config.json\")\n",
    "\n",
    "with open(hana_config_path, 'r') as hana_config_file:\n",
    "    hana_config = json.load(hana_config_file)"
   ],
   "outputs": [],
   "execution_count": 5
  },
  {
   "metadata": {
    "ExecuteTime": {
     "end_time": "2025-06-11T08:53:19.589763Z",
     "start_time": "2025-06-11T08:53:19.583225Z"
    }
   },
   "cell_type": "code",
   "source": [
    "\n",
    "# HANA 연결 설정\n",
    "my_hana_config = {\n",
    "    'address': hana_config['HOST'],\n",
    "    'port': hana_config['PORT'],  # 기본 포트\n",
    "    'user': hana_config['USER'],\n",
    "    'password': hana_config['PASSWORD'],\n",
    "    'encrypt': 'true',\n",
    "    'sslValidateCertificate': 'false'  # 개발 환경에서는 false, 운영은 true 권장\n",
    "}"
   ],
   "outputs": [],
   "execution_count": 6
  },
  {
   "metadata": {
    "ExecuteTime": {
     "end_time": "2025-06-11T08:53:22.475342Z",
     "start_time": "2025-06-11T08:53:21.595529Z"
    }
   },
   "cell_type": "code",
   "source": [
    "from hdbcli import dbapi\n",
    "    # DB 연결\n",
    "    # conn = dbapi.connect(**my_hana_config)\n",
    "connection = dbapi.connect(\n",
    "    address=hana_config['HOST'],\n",
    "    port=hana_config['PORT'],\n",
    "    user=hana_config['USER'],\n",
    "    password=hana_config['PASSWORD'],\n",
    ")\n",
    "cursor = connection.cursor()"
   ],
   "outputs": [],
   "execution_count": 7
  },
  {
   "cell_type": "code",
   "execution_count": 2,
   "metadata": {},
   "outputs": [],
   "source": [
    "\n",
    "\n",
    "\n",
    "from dotenv import load_dotenv\n",
    "from hdbcli import dbapi\n",
    "\n",
    "load_dotenv()\n",
    "# Use connection settings from the environment\n",
    "connection = dbapi.connect(\n",
    "    address=os.environ.get(\"HANA_DB_ADDRESS\"),\n",
    "    port=os.environ.get(\"HANA_DB_PORT\"),\n",
    "    user=os.environ.get(\"HANA_DB_USER\"),\n",
    "    password=os.environ.get(\"HANA_DB_PASSWORD\"),\n",
    "    autocommit=True,\n",
    "    sslValidateCertificate=False,\n",
    ")"
   ]
  },
  {
   "cell_type": "markdown",
   "metadata": {},
   "source": [
    "Learn more about SAP HANA in [What is SAP HANA?](https://www.sap.com/products/data-cloud/hana/what-is-sap-hana.html)."
   ]
  },
  {
   "cell_type": "markdown",
   "metadata": {},
   "source": [
    "### Initialization\n",
    "To initialize a `HanaDB` vector store, you need a database connection and an embedding instance. SAP HANA Cloud Vector Engine supports both external and internal embeddings."
   ]
  },
  {
   "cell_type": "markdown",
   "metadata": {},
   "source": [
    "- #### Using External Embeddings\n",
    "\n",
    "import EmbeddingTabs from \"@theme/EmbeddingTabs\";\n",
    "\n",
    "<EmbeddingTabs/>"
   ]
  },
  {
   "metadata": {
    "ExecuteTime": {
     "end_time": "2025-06-11T09:00:22.336892Z",
     "start_time": "2025-06-11T08:59:59.432171Z"
    }
   },
   "cell_type": "code",
   "outputs": [
    {
     "name": "stdout",
     "output_type": "stream",
     "text": [
      "Response: 텍스트 임베딩은 단어나 문장을 컴퓨터가 이해할 수 있는 숫자 벡터로 변환하는 기술입니다.\n"
     ]
    }
   ],
   "execution_count": 9,
   "source": [
    "from gen_ai_hub.proxy.langchain.init_models import init_llm\n",
    " \n",
    "llm = init_llm('anthropic--claude-3.5-sonnet', temperature=0.0, max_tokens=256)\n",
    "response = llm.invoke('What is text embeddings. Write it in 20 words in korean?').content \n",
    "print('Response:', response)"
   ]
  },
  {
   "metadata": {
    "ExecuteTime": {
     "end_time": "2025-06-11T09:04:54.511693Z",
     "start_time": "2025-06-11T09:04:54.291614Z"
    }
   },
   "cell_type": "code",
   "outputs": [],
   "execution_count": 11,
   "source": [
    "from gen_ai_hub.proxy.langchain.init_models import init_llm\n",
    "from gen_ai_hub.proxy.langchain.init_models import init_embedding_model\n",
    "\n",
    "# llm = init_llm('gpt-4o-mini', temperature=0., max_tokens=256)\n",
    "embeddings = init_embedding_model('text-embedding-3-small')"
   ]
  },
  {
   "cell_type": "code",
   "execution_count": 3,
   "metadata": {},
   "outputs": [],
   "source": [
    "# | output: false\n",
    "# | echo: false\n",
    "# from langchain_openai import OpenAIEmbeddings\n",
    "# \n",
    "# embeddings = OpenAIEmbeddings(model=\"text-embedding-3-small\")"
   ]
  },
  {
   "cell_type": "markdown",
   "metadata": {},
   "source": [
    "- #### Using Internal Embeddings"
   ]
  },
  {
   "cell_type": "markdown",
   "metadata": {},
   "source": [
    "Alternatively, you can compute embeddings directly in SAP HANA using its native `VECTOR_EMBEDDING()` function. To enable this, create an instance of `HanaInternalEmbeddings` with your internal model ID and pass it to `HanaDB`. Note that the `HanaInternalEmbeddings` instance is specifically designed for use with `HanaDB` and is not intended for use with other vector store implementations. For more information about internal embedding, see the [SAP HANA VECTOR_EMBEDDING Function](https://help.sap.com/docs/hana-cloud-database/sap-hana-cloud-sap-hana-database-vector-engine-guide/vector-embedding-function-vector).\n",
    "\n",
    "> **Caution:** Ensure NLP is enabled in your SAP HANA Cloud instance."
   ]
  },
  {
   "cell_type": "code",
   "execution_count": 4,
   "metadata": {},
   "outputs": [],
   "source": [
    "from langchain_hana import HanaInternalEmbeddings\n",
    "\n",
    "embeddings = HanaInternalEmbeddings(internal_embedding_model_id=\"SAP_NEB.20240715\")"
   ]
  },
  {
   "cell_type": "markdown",
   "metadata": {},
   "source": [
    "Once you have your connection and embedding instance, create the vector store by passing them to `HanaDB` along with a table name for storing vectors:"
   ]
  },
  {
   "cell_type": "code",
   "metadata": {
    "ExecuteTime": {
     "end_time": "2025-06-11T09:05:59.765197Z",
     "start_time": "2025-06-11T09:05:56.929234Z"
    }
   },
   "source": [
    "from langchain_hana import HanaDB\n",
    "\n",
    "db = HanaDB(\n",
    "    embedding=embeddings, connection=connection, table_name=\"STATE_OF_THE_UNION\"\n",
    ")"
   ],
   "outputs": [],
   "execution_count": 12
  },
  {
   "cell_type": "markdown",
   "metadata": {},
   "source": [
    "## Example"
   ]
  },
  {
   "cell_type": "markdown",
   "metadata": {},
   "source": [
    "Load the sample document \"state_of_the_union.txt\" and create chunks from it."
   ]
  },
  {
   "cell_type": "code",
   "metadata": {
    "ExecuteTime": {
     "end_time": "2025-06-11T09:06:12.715603Z",
     "start_time": "2025-06-11T09:06:12.578911Z"
    }
   },
   "source": [
    "from langchain_community.document_loaders import TextLoader\n",
    "from langchain_core.documents import Document\n",
    "from langchain_openai import OpenAIEmbeddings\n",
    "from langchain_text_splitters import CharacterTextSplitter\n",
    "\n",
    "text_documents = TextLoader(\n",
    "    \"../../how_to/state_of_the_union.txt\", encoding=\"UTF-8\"\n",
    ").load()\n",
    "text_splitter = CharacterTextSplitter(chunk_size=500, chunk_overlap=0)\n",
    "text_chunks = text_splitter.split_documents(text_documents)\n",
    "print(f\"Number of document chunks: {len(text_chunks)}\")"
   ],
   "outputs": [
    {
     "name": "stdout",
     "output_type": "stream",
     "text": [
      "Number of document chunks: 88\n"
     ]
    }
   ],
   "execution_count": 13
  },
  {
   "cell_type": "markdown",
   "metadata": {},
   "source": [
    "Add the loaded document chunks to the table. For this example, we delete any previous content from the table which might exist from previous runs."
   ]
  },
  {
   "cell_type": "code",
   "metadata": {
    "ExecuteTime": {
     "end_time": "2025-06-11T09:06:32.494895Z",
     "start_time": "2025-06-11T09:06:19.126699Z"
    }
   },
   "source": [
    "# Delete already existing documents from the table\n",
    "db.delete(filter={})\n",
    "\n",
    "# add the loaded document chunks\n",
    "db.add_documents(text_chunks)"
   ],
   "outputs": [
    {
     "data": {
      "text/plain": [
       "[]"
      ]
     },
     "execution_count": 14,
     "metadata": {},
     "output_type": "execute_result"
    }
   ],
   "execution_count": 14
  },
  {
   "cell_type": "markdown",
   "metadata": {},
   "source": [
    "Perform a query to get the two best-matching document chunks from the ones that were added in the previous step.\n",
    "By default \"Cosine Similarity\" is used for the search."
   ]
  },
  {
   "cell_type": "code",
   "metadata": {
    "ExecuteTime": {
     "end_time": "2025-06-11T09:11:18.311606Z",
     "start_time": "2025-06-11T09:11:17.182047Z"
    }
   },
   "source": [
    "query = \"What did the president say about Ketanji Brown Jackson\"\n",
    "docs = db.similarity_search(query, k=2)\n",
    "\n",
    "for doc in docs:\n",
    "    print(\"-\" * 80)\n",
    "    print(doc.page_content)"
   ],
   "outputs": [
    {
     "name": "stdout",
     "output_type": "stream",
     "text": [
      "--------------------------------------------------------------------------------\n",
      "One of the most serious constitutional responsibilities a President has is nominating someone to serve on the United States Supreme Court. \n",
      "\n",
      "And I did that 4 days ago, when I nominated Circuit Court of Appeals Judge Ketanji Brown Jackson. One of our nation’s top legal minds, who will continue Justice Breyer’s legacy of excellence.\n",
      "--------------------------------------------------------------------------------\n",
      "As I said last year, especially to our younger transgender Americans, I will always have your back as your President, so you can be yourself and reach your God-given potential. \n",
      "\n",
      "While it often appears that we never agree, that isn’t true. I signed 80 bipartisan bills into law last year. From preventing government shutdowns to protecting Asian-Americans from still-too-common hate crimes to reforming military justice.\n"
     ]
    }
   ],
   "execution_count": 15
  },
  {
   "cell_type": "markdown",
   "metadata": {},
   "source": [
    "Query the same content with \"Euclidian Distance\". The results shoud be the same as with \"Cosine Similarity\"."
   ]
  },
  {
   "cell_type": "code",
   "execution_count": 9,
   "metadata": {},
   "outputs": [
    {
     "name": "stdout",
     "output_type": "stream",
     "text": [
      "--------------------------------------------------------------------------------\n",
      "One of the most serious constitutional responsibilities a President has is nominating someone to serve on the United States Supreme Court. \n",
      "\n",
      "And I did that 4 days ago, when I nominated Circuit Court of Appeals Judge Ketanji Brown Jackson. One of our nation’s top legal minds, who will continue Justice Breyer’s legacy of excellence.\n",
      "--------------------------------------------------------------------------------\n",
      "As I said last year, especially to our younger transgender Americans, I will always have your back as your President, so you can be yourself and reach your God-given potential. \n",
      "\n",
      "While it often appears that we never agree, that isn’t true. I signed 80 bipartisan bills into law last year. From preventing government shutdowns to protecting Asian-Americans from still-too-common hate crimes to reforming military justice.\n"
     ]
    }
   ],
   "source": [
    "from langchain_hana.utils import DistanceStrategy\n",
    "\n",
    "db = HanaDB(\n",
    "    embedding=embeddings,\n",
    "    connection=connection,\n",
    "    distance_strategy=DistanceStrategy.EUCLIDEAN_DISTANCE,\n",
    "    table_name=\"STATE_OF_THE_UNION\",\n",
    ")\n",
    "\n",
    "query = \"What did the president say about Ketanji Brown Jackson\"\n",
    "docs = db.similarity_search(query, k=2)\n",
    "for doc in docs:\n",
    "    print(\"-\" * 80)\n",
    "    print(doc.page_content)"
   ]
  },
  {
   "cell_type": "markdown",
   "metadata": {
    "collapsed": false,
    "jupyter": {
     "outputs_hidden": false
    }
   },
   "source": [
    "## Maximal Marginal Relevance Search (MMR)\n",
    "\n",
    "`Maximal marginal relevance` optimizes for similarity to query AND diversity among selected documents. The first 20 (fetch_k) items will be retrieved from the DB. The MMR algorithm will then find the best 2 (k) matches."
   ]
  },
  {
   "cell_type": "code",
   "execution_count": 10,
   "metadata": {
    "ExecuteTime": {
     "end_time": "2023-09-09T08:05:23.276819Z",
     "start_time": "2023-09-09T08:05:21.972256Z"
    },
    "collapsed": false,
    "jupyter": {
     "outputs_hidden": false
    }
   },
   "outputs": [
    {
     "name": "stdout",
     "output_type": "stream",
     "text": [
      "--------------------------------------------------------------------------------\n",
      "One of the most serious constitutional responsibilities a President has is nominating someone to serve on the United States Supreme Court. \n",
      "\n",
      "And I did that 4 days ago, when I nominated Circuit Court of Appeals Judge Ketanji Brown Jackson. One of our nation’s top legal minds, who will continue Justice Breyer’s legacy of excellence.\n",
      "--------------------------------------------------------------------------------\n",
      "Groups of citizens blocking tanks with their bodies. Everyone from students to retirees teachers turned soldiers defending their homeland. \n",
      "\n",
      "In this struggle as President Zelenskyy said in his speech to the European Parliament “Light will win over darkness.” The Ukrainian Ambassador to the United States is here tonight. \n",
      "\n",
      "Let each of us here tonight in this Chamber send an unmistakable signal to Ukraine and to the world.\n"
     ]
    }
   ],
   "source": [
    "docs = db.max_marginal_relevance_search(query, k=2, fetch_k=20)\n",
    "for doc in docs:\n",
    "    print(\"-\" * 80)\n",
    "    print(doc.page_content)"
   ]
  },
  {
   "cell_type": "markdown",
   "metadata": {},
   "source": [
    "## Creating an HNSW Vector Index\n",
    "\n",
    "A vector index can significantly speed up top-k nearest neighbor queries for vectors. Users can create a Hierarchical Navigable Small World (HNSW) vector index using the `create_hnsw_index` function.\n",
    "\n",
    "For more information about creating an index at the database level, please refer to the [official documentation](https://help.sap.com/docs/hana-cloud-database/sap-hana-cloud-sap-hana-database-vector-engine-guide/create-vector-index-statement-data-definition).\n",
    "\n"
   ]
  },
  {
   "cell_type": "code",
   "execution_count": 11,
   "metadata": {},
   "outputs": [
    {
     "name": "stdout",
     "output_type": "stream",
     "text": [
      "--------------------------------------------------------------------------------\n",
      "One of the most serious constitutional responsibilities a President has is nominating someone to serve on the United States Supreme Court. \n",
      "\n",
      "And I did that 4 days ago, when I nominated Circuit Court of Appeals Judge Ketanji Brown Jackson. One of our nation’s top legal minds, who will continue Justice Breyer’s legacy of excellence.\n",
      "--------------------------------------------------------------------------------\n",
      "Groups of citizens blocking tanks with their bodies. Everyone from students to retirees teachers turned soldiers defending their homeland. \n",
      "\n",
      "In this struggle as President Zelenskyy said in his speech to the European Parliament “Light will win over darkness.” The Ukrainian Ambassador to the United States is here tonight. \n",
      "\n",
      "Let each of us here tonight in this Chamber send an unmistakable signal to Ukraine and to the world.\n"
     ]
    }
   ],
   "source": [
    "# HanaDB instance uses cosine similarity as default:\n",
    "db_cosine = HanaDB(\n",
    "    embedding=embeddings, connection=connection, table_name=\"STATE_OF_THE_UNION\"\n",
    ")\n",
    "\n",
    "# Attempting to create the HNSW index with default parameters\n",
    "db_cosine.create_hnsw_index()  # If no other parameters are specified, the default values will be used\n",
    "# Default values: m=64, ef_construction=128, ef_search=200\n",
    "# The default index name will be: STATE_OF_THE_UNION_COSINE_SIMILARITY_IDX (verify this naming pattern in HanaDB class)\n",
    "\n",
    "\n",
    "# Creating a HanaDB instance with L2 distance as the similarity function and defined values\n",
    "db_l2 = HanaDB(\n",
    "    embedding=embeddings,\n",
    "    connection=connection,\n",
    "    table_name=\"STATE_OF_THE_UNION\",\n",
    "    distance_strategy=DistanceStrategy.EUCLIDEAN_DISTANCE,  # Specify L2 distance\n",
    ")\n",
    "\n",
    "# This will create an index based on L2 distance strategy.\n",
    "db_l2.create_hnsw_index(\n",
    "    index_name=\"STATE_OF_THE_UNION_L2_index\",\n",
    "    m=100,  # Max number of neighbors per graph node (valid range: 4 to 1000)\n",
    "    ef_construction=200,  # Max number of candidates during graph construction (valid range: 1 to 100000)\n",
    "    ef_search=500,  # Min number of candidates during the search (valid range: 1 to 100000)\n",
    ")\n",
    "\n",
    "# Use L2 index to perform MMR\n",
    "docs = db_l2.max_marginal_relevance_search(query, k=2, fetch_k=20)\n",
    "for doc in docs:\n",
    "    print(\"-\" * 80)\n",
    "    print(doc.page_content)"
   ]
  },
  {
   "cell_type": "markdown",
   "metadata": {},
   "source": [
    "\n",
    "**Key Points**:\n",
    "- **Similarity Function**: The similarity function for the index is **cosine similarity** by default. If you want to use a different similarity function (e.g., `L2` distance), you need to specify it when initializing the `HanaDB` instance.\n",
    "- **Default Parameters**: In the `create_hnsw_index` function, if the user does not provide custom values for parameters like `m`, `ef_construction`, or `ef_search`, the default values (e.g., `m=64`, `ef_construction=128`, `ef_search=200`) will be used automatically. These values ensure the index is created with reasonable performance without requiring user intervention.\n",
    "\n"
   ]
  },
  {
   "cell_type": "markdown",
   "metadata": {},
   "source": [
    "## Basic Vectorstore Operations"
   ]
  },
  {
   "cell_type": "code",
   "metadata": {
    "ExecuteTime": {
     "end_time": "2025-06-11T09:13:05.910643Z",
     "start_time": "2025-06-11T09:13:05.771798Z"
    }
   },
   "source": [
    "db = HanaDB(\n",
    "    connection=connection, embedding=embeddings, table_name=\"LANGCHAIN_DEMO_BASIC\"\n",
    ")\n",
    "\n",
    "# Delete already existing documents from the table\n",
    "db.delete(filter={})"
   ],
   "outputs": [
    {
     "data": {
      "text/plain": [
       "True"
      ]
     },
     "execution_count": 16,
     "metadata": {},
     "output_type": "execute_result"
    }
   ],
   "execution_count": 16
  },
  {
   "cell_type": "markdown",
   "metadata": {},
   "source": [
    "We can add simple text documents to the existing table."
   ]
  },
  {
   "cell_type": "code",
   "metadata": {
    "ExecuteTime": {
     "end_time": "2025-06-11T09:13:26.833947Z",
     "start_time": "2025-06-11T09:13:25.562490Z"
    }
   },
   "source": [
    "docs = [Document(page_content=\"Some text\"), Document(page_content=\"Other docs\")]\n",
    "db.add_documents(docs)"
   ],
   "outputs": [
    {
     "data": {
      "text/plain": [
       "[]"
      ]
     },
     "execution_count": 17,
     "metadata": {},
     "output_type": "execute_result"
    }
   ],
   "execution_count": 17
  },
  {
   "cell_type": "markdown",
   "metadata": {},
   "source": [
    "Add documents with metadata."
   ]
  },
  {
   "cell_type": "code",
   "metadata": {
    "ExecuteTime": {
     "end_time": "2025-06-11T09:14:43.048835Z",
     "start_time": "2025-06-11T09:14:41.671207Z"
    }
   },
   "source": [
    "docs = [\n",
    "    Document(\n",
    "        page_content=\"foo\",\n",
    "        metadata={\"start\": 100, \"end\": 150, \"doc_name\": \"foo.txt\", \"quality\": \"bad\"},\n",
    "    ),\n",
    "    Document(\n",
    "        page_content=\"bar\",\n",
    "        metadata={\"start\": 200, \"end\": 250, \"doc_name\": \"bar.txt\", \"quality\": \"good\"},\n",
    "    ),\n",
    "]\n",
    "db.add_documents(docs)"
   ],
   "outputs": [
    {
     "data": {
      "text/plain": [
       "[]"
      ]
     },
     "execution_count": 18,
     "metadata": {},
     "output_type": "execute_result"
    }
   ],
   "execution_count": 18
  },
  {
   "cell_type": "markdown",
   "metadata": {},
   "source": [
    "Query documents with specific metadata."
   ]
  },
  {
   "cell_type": "code",
   "metadata": {
    "ExecuteTime": {
     "end_time": "2025-06-11T09:14:48.517176Z",
     "start_time": "2025-06-11T09:14:47.501224Z"
    }
   },
   "source": [
    "docs = db.similarity_search(\"foobar\", k=2, filter={\"quality\": \"bad\"})\n",
    "# With filtering on \"quality\"==\"bad\", only one document should be returned\n",
    "for doc in docs:\n",
    "    print(\"-\" * 80)\n",
    "    print(doc.page_content)\n",
    "    print(doc.metadata)"
   ],
   "outputs": [
    {
     "name": "stderr",
     "output_type": "stream",
     "text": [
      "Plain SQL Placeholder '?' for value='bad'\n"
     ]
    },
    {
     "name": "stdout",
     "output_type": "stream",
     "text": [
      "--------------------------------------------------------------------------------\n",
      "foo\n",
      "{'start': 100, 'end': 150, 'doc_name': 'foo.txt', 'quality': 'bad'}\n"
     ]
    }
   ],
   "execution_count": 19
  },
  {
   "cell_type": "markdown",
   "metadata": {},
   "source": [
    "Delete documents with specific metadata."
   ]
  },
  {
   "cell_type": "code",
   "metadata": {
    "ExecuteTime": {
     "end_time": "2025-06-11T09:15:34.143434Z",
     "start_time": "2025-06-11T09:15:33.041690Z"
    }
   },
   "source": [
    "db.delete(filter={\"quality\": \"bad\"})\n",
    "\n",
    "# Now the similarity search with the same filter will return no results\n",
    "docs = db.similarity_search(\"foobar\", k=2, filter={\"quality\": \"bad\"})\n",
    "print(len(docs))"
   ],
   "outputs": [
    {
     "name": "stderr",
     "output_type": "stream",
     "text": [
      "Plain SQL Placeholder '?' for value='bad'\n",
      "Plain SQL Placeholder '?' for value='bad'\n"
     ]
    },
    {
     "name": "stdout",
     "output_type": "stream",
     "text": [
      "0\n"
     ]
    }
   ],
   "execution_count": 20
  },
  {
   "cell_type": "markdown",
   "metadata": {},
   "source": [
    "## Advanced filtering\n",
    "In addition to the basic value-based filtering capabilities, it is possible to use more advanced filtering.\n",
    "The table below shows the available filter operators.\n",
    "\n",
    "| Operator | Semantic                 |\n",
    "|----------|-------------------------|\n",
    "| `$eq`    | Equality (==)           |\n",
    "| `$ne`    | Inequality (!=)         |\n",
    "| `$lt`    | Less than (&lt;)           |\n",
    "| `$lte`   | Less than or equal (&lt;=) |\n",
    "| `$gt`    | Greater than (>)        |\n",
    "| `$gte`   | Greater than or equal (>=) |\n",
    "| `$in`    | Contained in a set of given values  (in)    |\n",
    "| `$nin`   | Not contained in a set of given values  (not in)  |\n",
    "| `$between` | Between the range of two boundary values |\n",
    "| `$like`  | Text equality based on the \"LIKE\" semantics in SQL (using \"%\" as wildcard)  |\n",
    "| `$contains` | Filters documents containing a specific keyword |\n",
    "| `$and`   | Logical \"and\", supporting 2 or more operands |\n",
    "| `$or`    | Logical \"or\", supporting 2 or more operands |"
   ]
  },
  {
   "cell_type": "code",
   "metadata": {
    "ExecuteTime": {
     "end_time": "2025-06-11T09:16:35.263207Z",
     "start_time": "2025-06-11T09:16:33.876746Z"
    }
   },
   "source": [
    "# Prepare some test documents\n",
    "docs = [\n",
    "    Document(\n",
    "        page_content=\"First\",\n",
    "        metadata={\"name\": \"Adam Smith\", \"is_active\": True, \"id\": 1, \"height\": 10.0},\n",
    "    ),\n",
    "    Document(\n",
    "        page_content=\"Second\",\n",
    "        metadata={\"name\": \"Bob Johnson\", \"is_active\": False, \"id\": 2, \"height\": 5.7},\n",
    "    ),\n",
    "    Document(\n",
    "        page_content=\"Third\",\n",
    "        metadata={\"name\": \"Jane Doe\", \"is_active\": True, \"id\": 3, \"height\": 2.4},\n",
    "    ),\n",
    "]\n",
    "\n",
    "db = HanaDB(\n",
    "    connection=connection,\n",
    "    embedding=embeddings,\n",
    "    table_name=\"LANGCHAIN_DEMO_ADVANCED_FILTER\",\n",
    ")\n",
    "\n",
    "# Delete already existing documents from the table\n",
    "db.delete(filter={})\n",
    "db.add_documents(docs)\n",
    "\n",
    "\n",
    "# Helper function for printing filter results\n",
    "def print_filter_result(result):\n",
    "    if len(result) == 0:\n",
    "        print(\"<empty result>\")\n",
    "    for doc in result:\n",
    "        print(doc.metadata)"
   ],
   "outputs": [],
   "execution_count": 21
  },
  {
   "cell_type": "markdown",
   "metadata": {},
   "source": [
    "Filtering with `$ne`, `$gt`, `$gte`, `$lt`, `$lte`"
   ]
  },
  {
   "cell_type": "code",
   "metadata": {
    "ExecuteTime": {
     "end_time": "2025-06-11T09:17:28.055842Z",
     "start_time": "2025-06-11T09:17:23.175345Z"
    }
   },
   "source": [
    "advanced_filter = {\"id\": {\"$ne\": 1}}\n",
    "print(f\"Filter: {advanced_filter}\")\n",
    "print_filter_result(db.similarity_search(\"just testing\", k=5, filter=advanced_filter))\n",
    "\n",
    "advanced_filter = {\"id\": {\"$gt\": 1}}\n",
    "print(f\"Filter: {advanced_filter}\")\n",
    "print_filter_result(db.similarity_search(\"just testing\", k=5, filter=advanced_filter))\n",
    "\n",
    "advanced_filter = {\"id\": {\"$gte\": 1}}\n",
    "print(f\"Filter: {advanced_filter}\")\n",
    "print_filter_result(db.similarity_search(\"just testing\", k=5, filter=advanced_filter))\n",
    "\n",
    "advanced_filter = {\"id\": {\"$lt\": 1}}\n",
    "print(f\"Filter: {advanced_filter}\")\n",
    "print_filter_result(db.similarity_search(\"just testing\", k=5, filter=advanced_filter))\n",
    "\n",
    "advanced_filter = {\"id\": {\"$lte\": 1}}\n",
    "print(f\"Filter: {advanced_filter}\")\n",
    "print_filter_result(db.similarity_search(\"just testing\", k=5, filter=advanced_filter))"
   ],
   "outputs": [
    {
     "name": "stdout",
     "output_type": "stream",
     "text": [
      "Filter: {'id': {'$ne': 1}}\n",
      "{'name': 'Bob Johnson', 'is_active': False, 'id': 2, 'height': 5.7}\n",
      "{'name': 'Jane Doe', 'is_active': True, 'id': 3, 'height': 2.4}\n",
      "Filter: {'id': {'$gt': 1}}\n",
      "{'name': 'Bob Johnson', 'is_active': False, 'id': 2, 'height': 5.7}\n",
      "{'name': 'Jane Doe', 'is_active': True, 'id': 3, 'height': 2.4}\n",
      "Filter: {'id': {'$gte': 1}}\n",
      "{'name': 'Bob Johnson', 'is_active': False, 'id': 2, 'height': 5.7}\n",
      "{'name': 'Adam Smith', 'is_active': True, 'id': 1, 'height': 10.0}\n",
      "{'name': 'Jane Doe', 'is_active': True, 'id': 3, 'height': 2.4}\n",
      "Filter: {'id': {'$lt': 1}}\n",
      "<empty result>\n",
      "Filter: {'id': {'$lte': 1}}\n",
      "{'name': 'Adam Smith', 'is_active': True, 'id': 1, 'height': 10.0}\n"
     ]
    }
   ],
   "execution_count": 22
  },
  {
   "cell_type": "markdown",
   "metadata": {},
   "source": [
    "Filtering with `$between`, `$in`, `$nin`"
   ]
  },
  {
   "cell_type": "code",
   "metadata": {
    "ExecuteTime": {
     "end_time": "2025-06-11T09:18:07.747445Z",
     "start_time": "2025-06-11T09:18:04.871069Z"
    }
   },
   "source": [
    "advanced_filter = {\"id\": {\"$between\": (1, 2)}}\n",
    "print(f\"Filter: {advanced_filter}\")\n",
    "print_filter_result(db.similarity_search(\"just testing\", k=5, filter=advanced_filter))\n",
    "\n",
    "advanced_filter = {\"name\": {\"$in\": [\"Adam Smith\", \"Bob Johnson\"]}}\n",
    "print(f\"Filter: {advanced_filter}\")\n",
    "print_filter_result(db.similarity_search(\"just testing\", k=5, filter=advanced_filter))\n",
    "\n",
    "advanced_filter = {\"name\": {\"$nin\": [\"Adam Smith\", \"Bob Johnson\"]}}\n",
    "print(f\"Filter: {advanced_filter}\")\n",
    "print_filter_result(db.similarity_search(\"just testing\", k=5, filter=advanced_filter))"
   ],
   "outputs": [
    {
     "name": "stdout",
     "output_type": "stream",
     "text": [
      "Filter: {'id': {'$between': (1, 2)}}\n",
      "{'name': 'Bob Johnson', 'is_active': False, 'id': 2, 'height': 5.7}\n",
      "{'name': 'Adam Smith', 'is_active': True, 'id': 1, 'height': 10.0}\n",
      "Filter: {'name': {'$in': ['Adam Smith', 'Bob Johnson']}}\n"
     ]
    },
    {
     "name": "stderr",
     "output_type": "stream",
     "text": [
      "Plain SQL Placeholder '?' for value='Adam Smith'\n",
      "Plain SQL Placeholder '?' for value='Bob Johnson'\n"
     ]
    },
    {
     "name": "stdout",
     "output_type": "stream",
     "text": [
      "{'name': 'Bob Johnson', 'is_active': False, 'id': 2, 'height': 5.7}\n",
      "{'name': 'Adam Smith', 'is_active': True, 'id': 1, 'height': 10.0}\n",
      "Filter: {'name': {'$nin': ['Adam Smith', 'Bob Johnson']}}\n"
     ]
    },
    {
     "name": "stderr",
     "output_type": "stream",
     "text": [
      "Plain SQL Placeholder '?' for value='Adam Smith'\n",
      "Plain SQL Placeholder '?' for value='Bob Johnson'\n"
     ]
    },
    {
     "name": "stdout",
     "output_type": "stream",
     "text": [
      "{'name': 'Jane Doe', 'is_active': True, 'id': 3, 'height': 2.4}\n"
     ]
    }
   ],
   "execution_count": 23
  },
  {
   "cell_type": "markdown",
   "metadata": {},
   "source": [
    "Text filtering with `$like`"
   ]
  },
  {
   "cell_type": "code",
   "metadata": {
    "ExecuteTime": {
     "end_time": "2025-06-11T09:18:17.578577Z",
     "start_time": "2025-06-11T09:18:15.573219Z"
    }
   },
   "source": [
    "advanced_filter = {\"name\": {\"$like\": \"a%\"}}\n",
    "print(f\"Filter: {advanced_filter}\")\n",
    "print_filter_result(db.similarity_search(\"just testing\", k=5, filter=advanced_filter))\n",
    "\n",
    "advanced_filter = {\"name\": {\"$like\": \"%a%\"}}\n",
    "print(f\"Filter: {advanced_filter}\")\n",
    "print_filter_result(db.similarity_search(\"just testing\", k=5, filter=advanced_filter))"
   ],
   "outputs": [
    {
     "name": "stdout",
     "output_type": "stream",
     "text": [
      "Filter: {'name': {'$like': 'a%'}}\n"
     ]
    },
    {
     "name": "stderr",
     "output_type": "stream",
     "text": [
      "Plain SQL Placeholder '?' for value='a%'\n"
     ]
    },
    {
     "name": "stdout",
     "output_type": "stream",
     "text": [
      "<empty result>\n",
      "Filter: {'name': {'$like': '%a%'}}\n"
     ]
    },
    {
     "name": "stderr",
     "output_type": "stream",
     "text": [
      "Plain SQL Placeholder '?' for value='%a%'\n"
     ]
    },
    {
     "name": "stdout",
     "output_type": "stream",
     "text": [
      "{'name': 'Adam Smith', 'is_active': True, 'id': 1, 'height': 10.0}\n",
      "{'name': 'Jane Doe', 'is_active': True, 'id': 3, 'height': 2.4}\n"
     ]
    }
   ],
   "execution_count": 24
  },
  {
   "cell_type": "markdown",
   "metadata": {},
   "source": [
    "Text filtering with `$contains`"
   ]
  },
  {
   "cell_type": "code",
   "execution_count": 21,
   "metadata": {},
   "outputs": [
    {
     "name": "stdout",
     "output_type": "stream",
     "text": [
      "Filter: {'name': {'$contains': 'bob'}}\n",
      "{'name': 'Bob Johnson', 'is_active': False, 'id': 2, 'height': 5.7}\n",
      "Filter: {'name': {'$contains': 'bo'}}\n",
      "<empty result>\n",
      "Filter: {'name': {'$contains': 'Adam Johnson'}}\n",
      "<empty result>\n",
      "Filter: {'name': {'$contains': 'Adam Smith'}}\n",
      "{'name': 'Adam Smith', 'is_active': True, 'id': 1, 'height': 10.0}\n"
     ]
    }
   ],
   "source": [
    "advanced_filter = {\"name\": {\"$contains\": \"bob\"}}\n",
    "print(f\"Filter: {advanced_filter}\")\n",
    "print_filter_result(db.similarity_search(\"just testing\", k=5, filter=advanced_filter))\n",
    "\n",
    "advanced_filter = {\"name\": {\"$contains\": \"bo\"}}\n",
    "print(f\"Filter: {advanced_filter}\")\n",
    "print_filter_result(db.similarity_search(\"just testing\", k=5, filter=advanced_filter))\n",
    "\n",
    "advanced_filter = {\"name\": {\"$contains\": \"Adam Johnson\"}}\n",
    "print(f\"Filter: {advanced_filter}\")\n",
    "print_filter_result(db.similarity_search(\"just testing\", k=5, filter=advanced_filter))\n",
    "\n",
    "advanced_filter = {\"name\": {\"$contains\": \"Adam Smith\"}}\n",
    "print(f\"Filter: {advanced_filter}\")\n",
    "print_filter_result(db.similarity_search(\"just testing\", k=5, filter=advanced_filter))"
   ]
  },
  {
   "cell_type": "markdown",
   "metadata": {},
   "source": [
    "Combined filtering with `$and`, `$or`"
   ]
  },
  {
   "cell_type": "code",
   "execution_count": 22,
   "metadata": {},
   "outputs": [
    {
     "name": "stdout",
     "output_type": "stream",
     "text": [
      "Filter: {'$or': [{'id': 1}, {'name': 'bob'}]}\n",
      "{'name': 'Adam Smith', 'is_active': True, 'id': 1, 'height': 10.0}\n",
      "Filter: {'$and': [{'id': 1}, {'id': 2}]}\n",
      "<empty result>\n",
      "Filter: {'$or': [{'id': 1}, {'id': 2}, {'id': 3}]}\n",
      "{'name': 'Adam Smith', 'is_active': True, 'id': 1, 'height': 10.0}\n",
      "{'name': 'Jane Doe', 'is_active': True, 'id': 3, 'height': 2.4}\n",
      "{'name': 'Bob Johnson', 'is_active': False, 'id': 2, 'height': 5.7}\n",
      "Filter: {'$and': [{'name': {'$contains': 'bob'}}, {'name': {'$contains': 'johnson'}}]}\n",
      "{'name': 'Bob Johnson', 'is_active': False, 'id': 2, 'height': 5.7}\n"
     ]
    }
   ],
   "source": [
    "advanced_filter = {\"$or\": [{\"id\": 1}, {\"name\": \"bob\"}]}\n",
    "print(f\"Filter: {advanced_filter}\")\n",
    "print_filter_result(db.similarity_search(\"just testing\", k=5, filter=advanced_filter))\n",
    "\n",
    "advanced_filter = {\"$and\": [{\"id\": 1}, {\"id\": 2}]}\n",
    "print(f\"Filter: {advanced_filter}\")\n",
    "print_filter_result(db.similarity_search(\"just testing\", k=5, filter=advanced_filter))\n",
    "\n",
    "advanced_filter = {\"$or\": [{\"id\": 1}, {\"id\": 2}, {\"id\": 3}]}\n",
    "print(f\"Filter: {advanced_filter}\")\n",
    "print_filter_result(db.similarity_search(\"just testing\", k=5, filter=advanced_filter))\n",
    "\n",
    "advanced_filter = {\n",
    "    \"$and\": [{\"name\": {\"$contains\": \"bob\"}}, {\"name\": {\"$contains\": \"johnson\"}}]\n",
    "}\n",
    "print(f\"Filter: {advanced_filter}\")\n",
    "print_filter_result(db.similarity_search(\"just testing\", k=5, filter=advanced_filter))"
   ]
  },
  {
   "cell_type": "markdown",
   "metadata": {},
   "source": [
    "## Using a VectorStore as a retriever in chains for retrieval augmented generation (RAG)"
   ]
  },
  {
   "cell_type": "code",
   "metadata": {
    "ExecuteTime": {
     "end_time": "2025-06-11T09:19:05.917290Z",
     "start_time": "2025-06-11T09:18:55.825307Z"
    }
   },
   "source": [
    "# Access the vector DB with a new table\n",
    "db = HanaDB(\n",
    "    connection=connection,\n",
    "    embedding=embeddings,\n",
    "    table_name=\"LANGCHAIN_DEMO_RETRIEVAL_CHAIN\",\n",
    ")\n",
    "\n",
    "# Delete already existing entries from the table\n",
    "db.delete(filter={})\n",
    "\n",
    "# add the loaded document chunks from the \"State Of The Union\" file\n",
    "db.add_documents(text_chunks)\n",
    "\n",
    "# Create a retriever instance of the vector store\n",
    "retriever = db.as_retriever()"
   ],
   "outputs": [],
   "execution_count": 25
  },
  {
   "cell_type": "markdown",
   "metadata": {},
   "source": [
    "Define the prompt."
   ]
  },
  {
   "cell_type": "code",
   "metadata": {
    "ExecuteTime": {
     "end_time": "2025-06-11T09:19:49.753510Z",
     "start_time": "2025-06-11T09:19:49.741871Z"
    }
   },
   "source": [
    "from langchain_core.prompts import PromptTemplate\n",
    "\n",
    "prompt_template = \"\"\"\n",
    "You are an expert in state of the union topics. You are provided multiple context items that are related to the prompt you have to answer.\n",
    "Use the following pieces of context to answer the question at the end.\n",
    "\n",
    "'''\n",
    "{context}\n",
    "'''\n",
    "\n",
    "Question: {question}\n",
    "\"\"\"\n",
    "\n",
    "PROMPT = PromptTemplate(\n",
    "    template=prompt_template, input_variables=[\"context\", \"question\"]\n",
    ")\n",
    "chain_type_kwargs = {\"prompt\": PROMPT}"
   ],
   "outputs": [],
   "execution_count": 26
  },
  {
   "cell_type": "markdown",
   "metadata": {},
   "source": [
    "Create the ConversationalRetrievalChain, which handles the chat history and the retrieval of similar document chunks to be added to the prompt."
   ]
  },
  {
   "metadata": {
    "ExecuteTime": {
     "end_time": "2025-06-11T09:22:31.795784Z",
     "start_time": "2025-06-11T09:22:31.760467Z"
    }
   },
   "cell_type": "code",
   "source": [
    "from gen_ai_hub.proxy.langchain.init_models import init_llm\n",
    " \n",
    "llm = init_llm(model_list[0], temperature=0.0, max_tokens=256)"
   ],
   "outputs": [],
   "execution_count": 29
  },
  {
   "metadata": {
    "ExecuteTime": {
     "end_time": "2025-06-11T09:20:11.328889Z",
     "start_time": "2025-06-11T09:20:11.321863Z"
    }
   },
   "cell_type": "code",
   "source": "llm",
   "outputs": [
    {
     "data": {
      "text/plain": [
       "ChatBedrock(client=<gen_ai_hub.proxy.native.amazon.clients.BedrockRuntime object at 0x0000017659843ED0>, model_id='anthropic.claude-3-5-sonnet-20240620-v1:0', model_kwargs={'temperature': 0.0, 'max_tokens': 256, 'top_p': 1.0}, client_params={'deployment_id': 'ddf582baaa876fa4', 'model_name': 'anthropic--claude-3.5-sonnet', 'config_id': '', 'config_name': '', 'proxy_client': GenAIHubProxyClient(base_url=None, auth_url=None, client_id=None, client_secret=None, resource_group=None, ai_core_client=<ai_core_sdk.ai_core_v2_client.AICoreV2Client object at 0x00000176207D1F10>)})"
      ]
     },
     "execution_count": 27,
     "metadata": {},
     "output_type": "execute_result"
    }
   ],
   "execution_count": 27
  },
  {
   "cell_type": "code",
   "metadata": {
    "ExecuteTime": {
     "end_time": "2025-06-11T09:27:35.857584Z",
     "start_time": "2025-06-11T09:27:35.845712Z"
    }
   },
   "source": [
    "from langchain.chains import ConversationalRetrievalChain\n",
    "from langchain.memory import ConversationBufferMemory\n",
    "# from langchain_openai import ChatOpenAI\n",
    "\n",
    "# llm = ChatOpenAI(model=\"gpt-3.5-turbo\")\n",
    "memory = ConversationBufferMemory(\n",
    "    memory_key=\"chat_history\", output_key=\"answer\", return_messages=True\n",
    ")\n",
    "qa_chain = ConversationalRetrievalChain.from_llm(\n",
    "    llm,\n",
    "    db.as_retriever(search_kwargs={\"k\": 5}),\n",
    "    return_source_documents=True,\n",
    "    memory=memory,\n",
    "    verbose=False,\n",
    "    combine_docs_chain_kwargs={\"prompt\": PROMPT},\n",
    ")"
   ],
   "outputs": [],
   "execution_count": 35
  },
  {
   "cell_type": "markdown",
   "metadata": {},
   "source": [
    "Ask the first question (and verify how many text chunks have been used)."
   ]
  },
  {
   "cell_type": "code",
   "metadata": {
    "ExecuteTime": {
     "end_time": "2025-06-11T09:27:42.975770Z",
     "start_time": "2025-06-11T09:27:38.793693Z"
    }
   },
   "source": [
    "question = \"What about Mexico and Guatemala?\"\n",
    "\n",
    "result = qa_chain.invoke({\"question\": question})\n",
    "print(\"Answer from LLM:\")\n",
    "print(\"================\")\n",
    "print(result[\"answer\"])\n",
    "\n",
    "source_docs = result[\"source_documents\"]\n",
    "print(\"================\")\n",
    "print(f\"Number of used source document chunks: {len(source_docs)}\")"
   ],
   "outputs": [
    {
     "name": "stdout",
     "output_type": "stream",
     "text": [
      "Answer from LLM:\n",
      "================\n",
      "The context highlights efforts to enhance border security and combat human trafficking through joint patrols with Mexico and Guatemala. These collaborative measures aim to catch more human traffickers and improve the overall safety and security of the region. Additionally, there is a focus on securing commitments from these countries to host more refugees and to strengthen their own borders, indicating a comprehensive approach to immigration and border management that involves cooperation with neighboring nations.\n",
      "================\n",
      "Number of used source document chunks: 5\n"
     ]
    }
   ],
   "execution_count": 36
  },
  {
   "cell_type": "markdown",
   "metadata": {},
   "source": [
    "Examine the used chunks of the chain in detail. Check if the best ranked chunk contains info about \"Mexico and Guatemala\" as mentioned in the question."
   ]
  },
  {
   "cell_type": "code",
   "metadata": {
    "ExecuteTime": {
     "end_time": "2025-06-11T09:27:47.532479Z",
     "start_time": "2025-06-11T09:27:47.526514Z"
    }
   },
   "source": [
    "for doc in source_docs:\n",
    "    print(\"-\" * 80)\n",
    "    print(doc.page_content)\n",
    "    print(doc.metadata)"
   ],
   "outputs": [
    {
     "name": "stdout",
     "output_type": "stream",
     "text": [
      "--------------------------------------------------------------------------------\n",
      "We can do both. At our border, we’ve installed new technology like cutting-edge scanners to better detect drug smuggling.  \n",
      "\n",
      "We’ve set up joint patrols with Mexico and Guatemala to catch more human traffickers.  \n",
      "\n",
      "We’re putting in place dedicated immigration judges so families fleeing persecution and violence can have their cases heard faster. \n",
      "\n",
      "We’re securing commitments and supporting partners in South and Central America to host more refugees and secure their own borders.\n",
      "{'source': '../../how_to/state_of_the_union.txt'}\n",
      "--------------------------------------------------------------------------------\n",
      "Officer Mora was 27 years old. \n",
      "\n",
      "Officer Rivera was 22. \n",
      "\n",
      "Both Dominican Americans who’d grown up on the same streets they later chose to patrol as police officers. \n",
      "\n",
      "I spoke with their families and told them that we are forever in debt for their sacrifice, and we will carry on their mission to restore the trust and safety every community deserves. \n",
      "\n",
      "I’ve worked on these issues a long time.\n",
      "{'source': '../../how_to/state_of_the_union.txt'}\n",
      "--------------------------------------------------------------------------------\n",
      "We can do all this while keeping lit the torch of liberty that has led generations of immigrants to this land—my forefathers and so many of yours. \n",
      "\n",
      "Provide a pathway to citizenship for Dreamers, those on temporary status, farm workers, and essential workers. \n",
      "\n",
      "Revise our laws so businesses have the workers they need and families don’t wait decades to reunite. \n",
      "\n",
      "It’s not only the right thing to do—it’s the economically smart thing to do.\n",
      "{'source': '../../how_to/state_of_the_union.txt'}\n",
      "--------------------------------------------------------------------------------\n",
      "Please rise if you are able and show that, Yes, we the United States of America stand with the Ukrainian people. \n",
      "\n",
      "Throughout our history we’ve learned this lesson when dictators do not pay a price for their aggression they cause more chaos.   \n",
      "\n",
      "They keep moving.   \n",
      "\n",
      "And the costs and the threats to America and the world keep rising.   \n",
      "\n",
      "That’s why the NATO Alliance was created to secure peace and stability in Europe after World War 2.\n",
      "{'source': '../../how_to/state_of_the_union.txt'}\n",
      "--------------------------------------------------------------------------------\n",
      "That’s why immigration reform is supported by everyone from labor unions to religious leaders to the U.S. Chamber of Commerce. \n",
      "\n",
      "Let’s get it done once and for all. \n",
      "\n",
      "Advancing liberty and justice also requires protecting the rights of women. \n",
      "\n",
      "The constitutional right affirmed in Roe v. Wade—standing precedent for half a century—is under attack as never before.\n",
      "{'source': '../../how_to/state_of_the_union.txt'}\n"
     ]
    }
   ],
   "execution_count": 37
  },
  {
   "cell_type": "markdown",
   "metadata": {},
   "source": [
    "Ask another question on the same conversational chain. The answer should relate to the previous answer given."
   ]
  },
  {
   "cell_type": "code",
   "metadata": {
    "ExecuteTime": {
     "end_time": "2025-06-11T09:27:58.413663Z",
     "start_time": "2025-06-11T09:27:53.775298Z"
    }
   },
   "source": [
    "question = \"How many casualties were reported after that? write in English.\"\n",
    "\n",
    "result = qa_chain.invoke({\"question\": question})\n",
    "print(\"Answer from LLM:\")\n",
    "print(\"================\")\n",
    "print(result[\"answer\"])"
   ],
   "outputs": [
    {
     "name": "stdout",
     "output_type": "stream",
     "text": [
      "Answer from LLM:\n",
      "================\n",
      "The provided context does not mention any casualties reported after the joint patrols with Mexico and Guatemala. It focuses on various measures taken to enhance border security and support for law enforcement, but does not provide specific information about casualties related to those patrols.\n"
     ]
    }
   ],
   "execution_count": 38
  },
  {
   "cell_type": "markdown",
   "metadata": {},
   "source": [
    "## Standard tables vs. \"custom\" tables with vector data"
   ]
  },
  {
   "cell_type": "markdown",
   "metadata": {},
   "source": [
    "As default behaviour, the table for the embeddings is created with 3 columns:\n",
    "\n",
    "- A column `VEC_TEXT`, which contains the text of the Document\n",
    "- A column `VEC_META`, which contains the metadata of the Document\n",
    "- A column `VEC_VECTOR`, which contains the embeddings-vector of the Document's text"
   ]
  },
  {
   "cell_type": "code",
   "metadata": {
    "ExecuteTime": {
     "end_time": "2025-06-11T09:28:39.515577Z",
     "start_time": "2025-06-11T09:28:38.381826Z"
    }
   },
   "source": [
    "# Access the vector DB with a new table\n",
    "db = HanaDB(\n",
    "    connection=connection, embedding=embeddings, table_name=\"LANGCHAIN_DEMO_NEW_TABLE\"\n",
    ")\n",
    "\n",
    "# Delete already existing entries from the table\n",
    "db.delete(filter={})\n",
    "\n",
    "# Add a simple document with some metadata\n",
    "docs = [\n",
    "    Document(\n",
    "        page_content=\"A simple document\",\n",
    "        metadata={\"start\": 100, \"end\": 150, \"doc_name\": \"simple.txt\"},\n",
    "    )\n",
    "]\n",
    "db.add_documents(docs)"
   ],
   "outputs": [
    {
     "data": {
      "text/plain": [
       "[]"
      ]
     },
     "execution_count": 39,
     "metadata": {},
     "output_type": "execute_result"
    }
   ],
   "execution_count": 39
  },
  {
   "cell_type": "markdown",
   "metadata": {},
   "source": [
    "Show the columns in table \"LANGCHAIN_DEMO_NEW_TABLE\""
   ]
  },
  {
   "cell_type": "code",
   "metadata": {
    "ExecuteTime": {
     "end_time": "2025-06-11T09:29:39.301974Z",
     "start_time": "2025-06-11T09:29:39.204028Z"
    }
   },
   "source": [
    "cur = connection.cursor()\n",
    "cur.execute(\n",
    "    \"SELECT COLUMN_NAME, DATA_TYPE_NAME FROM SYS.TABLE_COLUMNS WHERE SCHEMA_NAME = CURRENT_SCHEMA AND TABLE_NAME = 'LANGCHAIN_DEMO_NEW_TABLE'\"\n",
    ")\n",
    "rows = cur.fetchall()\n",
    "for row in rows:\n",
    "    print(row)\n",
    "cur.close()"
   ],
   "outputs": [
    {
     "name": "stdout",
     "output_type": "stream",
     "text": [
      "('VEC_META', 'NCLOB')\n",
      "('VEC_TEXT', 'NCLOB')\n",
      "('VEC_VECTOR', 'REAL_VECTOR')\n"
     ]
    }
   ],
   "execution_count": 40
  },
  {
   "cell_type": "markdown",
   "metadata": {},
   "source": [
    "Show the value of the inserted document in the three columns "
   ]
  },
  {
   "cell_type": "code",
   "metadata": {
    "ExecuteTime": {
     "end_time": "2025-06-11T09:30:26.906852Z",
     "start_time": "2025-06-11T09:30:26.863848Z"
    }
   },
   "source": [
    "cur = connection.cursor()\n",
    "cur.execute(\n",
    "    \"SELECT VEC_TEXT, VEC_META, TO_NVARCHAR(VEC_VECTOR) FROM LANGCHAIN_DEMO_NEW_TABLE LIMIT 1\"\n",
    ")\n",
    "rows = cur.fetchall()\n",
    "print(rows[0][0])  # The text\n",
    "print(rows[0][1])  # The metadata\n",
    "print(rows[0][2])  # The vector\n",
    "cur.close()"
   ],
   "outputs": [
    {
     "name": "stdout",
     "output_type": "stream",
     "text": [
      "A simple document\n",
      "{\"start\": 100, \"end\": 150, \"doc_name\": \"simple.txt\"}\n",
      "[-0.025887018,0.037281916,0.011992734,-0.03336357,0.003929151,-0.05137068,0.0021338423,0.008355298,0.0008337291,-0.00089315255,0.009471739,-0.0316637,-0.0037022615,-0.0040047807,0.014664989,0.050592773,0.013843865,0.014038342,0.03624471,0.03316189,0.015284434,0.044110212,0.023596514,0.0070948005,0.024302393,-0.043533985,-0.03604303,-0.03503463,0.0040984177,-0.046904914,0.029704526,-0.03313308,-0.0014306648,-0.010069575,-0.0047646808,0.045233857,0.024777781,-0.0076134056,-0.05033347,-0.038491994,-0.0035582045,-0.020484887,0.052206207,-0.008369704,0.025224358,0.034573648,0.012821062,0.067245744,0.00046503358,0.04024949,-0.044167835,-0.020412859,0.010710628,0.07611965,-0.008960337,-0.038924165,-0.02525317,-0.0011002343,-0.0070083668,0.009277262,-0.0038427168,0.0015918284,0.006190844,0.053963702,-0.007800679,0.02297707,-0.045406725,0.017848646,0.03607184,0.016379265,0.022789797,0.010905105,0.0044513573,0.032038245,-0.010905105,-0.014780235,-0.041718867,0.00881628,-0.015442896,0.020398453,0.01573101,0.060100526,-0.01372862,-0.03981732,-0.017013116,-0.016047934,-0.07150983,0.028768156,-0.012468122,-0.029646903,-0.045032177,0.019548517,-0.012677005,-0.0015522128,0.07467908,0.015918285,-0.047913313,-0.0005996367,-0.015788633,-0.01269141,0.0072208503,-0.013008335,-0.047509953,-0.009493347,0.019562922,0.044830497,0.022170352,-0.015687793,-0.031692512,-0.03422791,-0.061771583,-0.020715378,0.048633598,0.047337085,-0.00881628,-0.015125971,-0.0049087377,-0.032297548,0.013390086,-0.035812538,-0.016854653,-0.040768094,-0.012331268,-0.057017706,-0.008909917,-0.030770546,-0.02621835,-0.02948844,-0.054799233,-0.015759822,0.04906577,-0.017646967,0.07087598,-0.04684729,0.00079096225,-0.019173969,-0.0380022,0.04223747,-0.0016827643,0.028897807,0.063846,-0.052580755,0.027341994,0.018295223,-0.010501745,0.010177618,-0.029906206,0.00041889035,0.004134432,0.0023805397,-0.005567798,0.007310886,-0.013721417,0.010797062,0.019418865,-0.0061692353,0.03163489,-0.016580945,-0.029819772,0.016076745,0.02034083,-0.0044549587,0.018280817,0.005106816,-0.0046026167,0.020600133,0.0054129367,-0.052840058,-0.05958192,0.006943541,-0.034861762,-0.025526877,-0.019173969,-0.021579718,-0.024777781,-0.004422546,-0.027442833,-0.06545944,-0.019116346,0.025699746,0.04088334,0.039586827,0.0049231434,-0.007800679,0.004516183,-0.046040576,0.025123518,0.011301261,-0.042871322,0.011337276,-0.06211732,0.05595169,-0.023769382,-0.023870222,0.014009531,-0.0007734053,0.020499293,-0.031778947,-0.0020528103,-0.008881106,-0.024893027,0.016019123,-0.06424936,-0.05747869,-0.06419174,-0.045233857,-0.02484981,-0.018785015,-0.017387664,-0.047596388,0.05070802,0.007404523,-0.024907432,-0.006039584,-0.05030466,-0.034458403,0.0056326236,0.044398326,0.018857043,0.0025642123,-0.030568868,0.0060539898,0.13979279,0.023971062,-0.024187148,0.031692512,-0.04782688,-0.053790834,-0.013498128,-0.0341991,0.013490926,0.025008272,-0.01563017,0.000990391,0.06315453,0.017358853,-0.022501683,-0.024432044,-0.05770918,0.008823483,-0.0190011,0.0000022297866,-0.027399616,0.009817475,0.017171578,-0.023625325,-0.059409052,-0.032902587,0.016955493,0.05070802,0.06874394,0.022890637,0.010861888,-0.007865505,-0.009363696,-0.038319126,-0.011949517,0.004498176,0.04131551,0.043764476,-0.049786054,-0.012813859,-0.02915711,-0.004894332,-0.03440078,0.039298713,0.0076926365,0.015586953,0.0003351573,-0.009968735,-0.0048799263,0.04004781,0.028868996,-0.01552933,-0.04068166,0.025800584,-0.011798257,0.005859513,-0.020657755,0.0488929,-0.0022797,-0.008045576,-0.020196773,0.05410776,0.0071560247,0.02327959,0.023870222,0.004674645,-0.0035311938,-0.027226748,0.0030287956,-0.010098387,0.034717705,-0.047135405,-0.021190764,0.0061440254,-0.02401428,-0.02621835,0.06793722,0.011538955,0.03402623,0.037253104,0.0050852075,0.03696499,-0.017776618,0.042900134,0.012295254,-0.032211114,0.012713019,-0.0024021482,0.026636114,-0.020297613,-0.02351008,-0.02120517,-0.025656529,-0.0053769224,0.030511245,0.047798067,-0.031490833,-0.048403107,0.04405259,-0.054223005,0.06453747,-0.024561696,0.012777844,0.00009875774,-0.007505363,-0.00063340005,-0.0052904882,-0.025829395,0.0048042964,-0.024518479,0.0062628724,0.010508948,0.02284742,-0.06759148,-0.0031188312,0.048950523,0.008463341,0.0092916675,0.011985531,-0.03713786,-0.023423646,-0.01583185,-0.0104369195,-0.049641997,-0.007440537,0.008744252,0.06326978,0.01793508,-0.042986568,0.04047998,-0.01833844,0.023956656,0.021925455,0.008578586,0.0316637,-0.025454849,0.03941396,0.013570157,-0.0030522048,-0.021464473,0.012604976,0.014398484,-0.028566476,0.047164217,0.0120143425,-0.018165572,0.031375587,0.024921838,-0.02284742,-0.0074261315,-0.027615702,-0.0012911097,-0.01583185,-0.010336081,-0.021867832,0.06119536,0.0058198976,-0.02214154,0.0020780202,0.023481268,-0.0233084,0.004620624,0.027241154,0.00020100435,-0.012223225,0.02244406,0.013195609,-0.010667411,-0.008657818,0.018540118,-0.0010453126,0.03235517,0.018554524,0.0016944689,-0.05410776,0.03863605,0.01689787,-0.060100526,0.048143804,-0.007836694,0.010544962,-0.021925455,-0.018871449,-0.03186538,-0.026996257,-0.007505363,0.018050326,-0.018612146,0.0195053,0.002715472,0.031231528,0.0022905043,-0.021334821,-0.025829395,-0.023639731,0.036792126,-0.0047862893,0.020816218,-0.03209587,0.010408109,0.014088762,-0.017978298,-0.030712923,0.059063315,0.040998586,-0.027615702,0.0066734343,-0.08101758,0.01833844,-0.009176423,-0.01195672,-0.0069363383,0.020312019,0.00050509936,-0.060331017,0.018986695,0.030684112,0.016148774,0.013368477,-0.0024813795,-0.04678967,-0.042698454,-0.040307112,-0.018511306,0.017445287,-0.00336913,-0.003361927,-0.015471707,-0.009644607,0.00995433,0.030223131,-0.056556724,-0.005229264,-0.0060864026,0.030338377,-0.0071560247,0.0071632275,0.012187211,0.03212468,0.06263593,-0.004066005,0.023754977,-0.011863083,-0.03857843,-0.008708238,-0.025008272,-0.03483295,-0.030684112,-0.03255685,-0.009918315,0.0044513573,0.053963702,-0.01573101,-0.044974554,0.016926682,-0.03860724,0.028033467,0.0068354984,0.015817445,-0.057651557,0.007278473,-0.025209952,0.008787469,0.10907986,0.013915894,0.007923128,0.011596578,-0.0031116283,0.0077358535,0.029085081,0.0023085112,-0.018252006,0.0135413455,-0.036158275,-0.010544962,-0.053185795,-0.013807851,-0.040393546,0.0073649073,0.0063168937,-0.010710628,0.023697354,0.029315572,0.0049735634,-0.003554603,-0.017214796,0.039385147,0.018396063,-0.027774164,-0.01152455,0.025829395,-0.0022436858,-0.0082400525,-0.023394834,0.038924165,0.078366935,-0.0108186705,0.0031908597,-0.018453684,-0.01529884,0.021363633,-0.026088698,0.00301439,0.015875068,0.010170415,0.020297613,-0.0034663684,0.02414393,0.014967509,-0.016206397,0.039356336,0.023682948,-0.013101972,-0.03085698,-0.019260403,0.026636114,0.016091151,-0.0018178176,-0.025123518,0.012151197,0.019173969,-0.022069512,-0.0072064446,0.009579781,0.012907495,-0.0022941057,0.024187148,0.014456106,0.009262856,-0.0025119917,0.022861825,-0.027428428,0.022660146,-0.0025696144,0.032009434,0.009486144,0.012943509,0.0011803659,0.0070227725,-0.020873839,0.023380429,0.006115214,-0.031116283,0.03607184,-0.0195053,-0.029531658,0.025368415,-0.02074419,0.015759822,0.022890637,-0.009896707,-0.025512472,-0.0059747584,-0.011740634,-0.005773079,-0.01649451,-0.022962665,0.015543736,-0.0076062027,-0.019562922,-0.040537603,-0.016321642,-0.04768282,0.018194383,0.05618218,-0.009644607,-0.007354103,0.022372032,0.024561696,0.013656591,0.001048914,0.003475372,0.0032971015,-0.018712986,-0.017963892,0.010343283,-0.033450004,0.010019155,0.014765829,0.023366023,-0.033248324,-0.018280817,0.01107077,-0.0043109017,-0.006442943,0.0014468712,-0.022804203,-0.039759696,-0.0039327526,0.046386313,-0.009543767,-0.033738118,0.0068354984,-0.008542572,-0.030914603,0.022631334,-0.00602878,-0.002097828,-0.00016757865,0.04024949,0.0177334,0.046040576,-0.02394225,0.049238637,-0.03563967,0.0054957694,-0.061310604,0.024273582,-0.032412793,0.017992703,0.031980623,-0.0020618138,-0.013051552,0.017445287,0.0074333344,-0.0066518257,-0.001560316,-0.023596514,-0.0016710596,0.004379329,0.04068166,-0.010220835,0.025786178,0.012504136,0.023798194,0.000065725944,0.010905105,-0.009061177,0.0018655364,-0.010883496,-0.026002264,0.011106784,0.017214796,0.0122520365,-0.0028289168,-0.0053084954,-0.0038967382,0.0026002266,-0.024287988,0.010170415,-0.022890637,0.00012053508,-0.02505149,0.05453993,-0.03739716,-0.0020636145,-0.032268737,0.0058631143,-0.05070802,-0.012086371,-0.008391312,0.0058559114,0.030424811,0.013670997,-0.0046422323,-0.033305947,-0.000020792582,-0.011740634,0.032902587,0.008484949,-0.018050326,-0.024100713,-0.012785047,-0.023538891,0.021522095,0.034775328,0.021147547,0.019447677,-0.026535274,-0.0043505174,0.00602878,0.009234045,0.017027522,0.023682948,0.014268832,0.03085698,0.015745416,-0.0651137,-0.004372126,0.004372126,-0.009010757,0.022300003,-0.011265247,-0.047711633,0.004552197,0.015255623,0.036734503,-0.07358425,0.010840279,0.012475325,0.009270059,-0.014837857,-0.041747678,-0.0058919257,-0.024921838,0.01411037,-0.011452521,0.008412921,0.011236436,0.026823388,-0.011466927,-0.037858143,0.0030035856,-0.0068715126,0.017258013,0.022184758,-0.007411726,0.024590507,-0.055000912,-0.005380524,-0.002223878,0.035582047,-0.004591813,0.025872612,-0.07951939,0.021075519,-0.031289153,0.0020564117,0.01479464,0.026304783,-0.022415249,0.048950523,-0.044340704,-0.020067122,-0.009659013,0.041344322,-0.063615516,0.012561759,-0.032441605,0.012684207,-0.053617965,0.0010795261,0.019476488,-0.038059823,-0.051255435,-0.0018529315,0.03817507,0.021161953,-0.028033467,0.014600163,0.011949517,0.0121079795,-0.020456076,-0.014953103,-0.011978328,0.009183626,0.017747806,-0.0025876216,0.0047610793,-0.002944162,-0.029877394,-0.0052328655,0.029099487,0.011618187,-0.048835278,-0.036014218,-0.013642185,-0.0062124524,0.0031584469,-0.03584135,-0.021522095,-0.02822074,-0.020225585,0.008650615,-0.010091184,-0.006543783,-0.014456106,-0.024331205,-0.022127135,-0.0079519395,-0.0046026167,0.01302274,0.00440814,-0.00022711465,-0.041430756,-0.07479432,0.0091188,-0.0049735634,-0.030223131,-0.03463127,-0.007966345,0.0438221,0.0076566227,0.045176234,-0.040364735,-0.012720222,-0.0076926365,0.00051140186,-0.02945963,0.02034083,0.021233981,0.034516025,0.014938697,-0.02150769,0.0013874477,-0.008348095,-0.031577267,0.017229201,-0.024360016,-0.045233857,-0.012244834,-0.004894332,0.012439311,0.039990187,-0.023423646,0.030251943,-0.026232755,-0.017027522,-0.015414084,0.0036662472,-0.009507753,0.0066662314,0.011380493,0.020384047,0.018813826,-0.00042586811,-0.041257888,-0.026362406,-0.005575001,-0.008088793,-0.005070802,-0.022487277,0.016523322,-0.012151197,-0.014628975,0.04344755,0.007228053,0.040220678,-0.011769446,-0.019217186,-0.03186538,-0.018179977,-0.020787407,0.025123518,0.008549775,-0.04111383,-0.00030004344,0.00028968934,0.006831897,0.0021950665,-0.028710533,0.028235145,0.010501745,-0.047394708,-0.0034141478,0.014023936,0.013346869,0.009839084,0.04892171,0.028062278,0.011697417,0.00024039489,0.0008170725,0.018554524,0.036532823,0.039558016,-0.03105866,-0.008672223,0.037858143,0.010400906,0.002135643,0.028969835,-0.015327651,-0.027745353,0.039990187,0.047279462,0.01770459,-0.00813201,0.013800648,-0.007995156,0.012532948,-0.015716605,-0.037425973,0.015010726,-0.014297644,0.038463183,-0.017330041,0.01866977,0.013310854,-0.021089924,0.043591607,0.02064335,0.006619413,0.000050194816,-0.00055011717,0.023423646,-0.014153587,0.0663814,-0.026780171,-0.016840247,-0.0032106675,0.016076745,0.050016545,0.008578586,0.013800648,-0.01096993,0.038319126,0.016480105,-0.034285534,-0.03713786,-0.01679703,0.0046854494,0.036590446,-0.0016179386,0.010487339,0.041949358,0.046271067,-0.0182376,0.016321642,0.02665052,-0.06695763,0.034343157,-0.00068336976,-0.041027397,-0.0064969645,-0.0050239833,-0.0112940585,-0.002409351,-0.023956656,0.004869122,0.01780543,-0.0009822878,0.021464473,-0.023322806,-0.022415249,-0.021694964,0.033046644,-0.022991477,-0.010775453,-0.004775485,0.026232755,-0.030885791,-0.020773001,-0.016249614,0.049181014,-0.05033347,0.0049231434,-0.022213569,0.039068222,0.016681785,-0.008672223,-0.019260403,-0.012893089,-0.008319284,-0.0033349164,0.008168024,0.01639367,0.023423646,0.015586953,-0.0007328893,-0.00803117,0.019245997,-0.012525745,0.0061440254,0.018396063,-0.04091215,0.010415312,-0.048748843,-0.007829491,0.005560595,0.020787407,-0.023798194,0.0043505174,0.031202717,-0.0164657,0.033277135,-0.00021552258,-0.016710596,-0.022732174,0.038290314,-0.019750196,0.010667411,0.02505149,0.027010662,-0.010372095,-0.01626402,0.0059567513,0.0014243623,0.015846256,-0.00095437677,0.02013915,-0.013930299,0.008592992,-0.0116542,-0.009514956,-0.015370867,-0.018007109,0.0009147611,0.019116346,0.026664926,-0.018842638,-0.023596514,0.0072136475,-0.047164217,-0.032902587,0.021017896,-0.053012926,-0.04324587,-0.0037346743,-0.0023463261,0.005380524,-0.018785015,-0.010091184,0.00096968276,-0.0043685245,-0.017776618,0.020254396,0.05430944,-0.0033655285,0.031490833,0.0064789574,-0.021017896,-0.014376875,0.01656654,-0.0011209425,-0.02665052,0.030655302,-0.011358884,0.0012866079,-0.0060683955,-0.021752587,0.020369641,-0.010105589,0.0029963828,0.0084777465,0.036187086,-0.010775453,0.021781398,-0.033075456,0.045982953,-0.026492057,-0.0035041834,-0.026808983,-0.012900292,0.010991539,0.0028307175,0.0003515888,0.011675809,-0.027068285,-0.013202812,0.026362406,-0.0032935,0.03235517,0.004177649,-0.0027730947,-0.012986726,0.020960273,0.041661248,-0.011236436,-0.0038931367,0.011049162,0.040018998,-0.022112729,0.022300003,0.0086218035,-0.007091199,0.005081606,0.02013915,-0.001451373,0.027442833,-0.008801875,-0.020369641,-0.019750196,-0.029963829,0.034919385,-0.010941119,0.02120517,0.014607366,0.013707011,-0.022732174,0.007260466,-0.0005492168,0.036215898,0.029819772,0.024129525,-0.0072640674,0.033622872,0.012799453,-0.022919448,0.005510175,0.04050879,-0.010328878,-0.008643412,-0.033478815,-0.0025570095,0.021666152,-0.04402378,-0.0007738555,-0.009342087,-0.009493347,0.0039759697,-0.050621584,-0.0024543689,0.00293876,-0.016768219,-0.028681722,-0.010609788,0.017747806,0.024576101,-0.023668543,0.005189649,0.01499632,-0.0104369195,-0.017949486,-0.024287988,0.019620545,0.013901488,-0.014636178,0.02535401,0.011207624,0.04301538,-0.007894317,-0.011769446,-0.026074292,-0.0013460313,-0.024576101,-0.045464348,-0.018525712,0.026621709,-0.02778857,-0.015241217,0.027068285,-0.0123456735,0.0049303463,-0.0032178704,0.10493102,-0.030424811,-0.003176454,0.010890699,0.030280754,0.015226811,0.034343157,0.015457301,0.019188374,0.006849904,0.0041560405,0.012374485,0.024388827,0.002042006,-0.014088762,-0.007411726,-0.020009499,-0.026031075,0.008888309,-0.0089531345,0.033651683,-0.008297675,0.0059315413,-0.020686567,-0.01499632,-0.035783727,-0.030251943,-0.036100652,-0.0003389838,0.01629283,-0.0020996288,-0.011827068,0.035754915,-0.019044317,0.010408109,-0.0014900882,0.006799484,-0.029229138,-0.022055106,-0.018324034,-0.009270059,0.015615764,-0.0064537474,-0.0054201395,0.01474422,-0.000924665,0.005448951,-0.004707058,0.028033467,0.00052805844,-0.04321706,0.029373195,0.02150769,0.035956595,0.0037778914,-0.0329314,0.009205233,-0.030338377,0.029085081,0.03235517,0.010321675,0.0116542,0.03296021,-0.017574938,0.023524486,-0.013786242,-0.04506099,0.02401428,-0.0011308464,0.019577328,0.023164345,0.012417702,-0.00592794,0.022703363,-0.02404309,0.020571321,0.028508853,-0.0035041834,0.021450067,0.0107250335,-0.0029009453,-0.025224358,0.03143321,0.059409052,-0.006133221,0.0250803,-0.007879911,-0.023020288,0.0018547322,0.009925518,-0.0012983126,0.021089924,0.023394834,0.008845092,0.009846287,0.03255685,0.01489548,-0.027125908,0.004876325,-0.002670454,0.009457333,-0.006252068,0.020225585,0.021450067,0.0027640911,0.008657818,-0.024316799,0.011106784,-0.02160853,0.0153564615,0.0190011,-0.0128714815,0.01132287,-0.025699746,-0.0075341742,0.008153618,-0.004339713,0.017459692,0.024820998,0.0029297564,0.009644607,0.012230428,0.0061980467,-0.04217985,0.035956595,0.02956047,0.023005882,0.040134244,0.0341991,-0.03085698,0.023783788,-0.0027442833,0.010379298,0.011250841,0.022732174,0.0041812505,-0.0088667,0.0013775438,0.008160821,-0.019951876,-0.038463183,-0.014636178,-0.0071632275,0.033248324,0.034141477,0.02183902,-0.0070155696,0.024792187,0.0060359826,-0.015687793,-0.015615764,-0.0053841253,-0.04045117,0.011402101,-0.016869059,0.019951876,-0.0045738057,-0.022962665,0.016609756,-0.0078511,-0.010905105,0.009133206,-0.0050347876,-0.01284267,0.038347937,-0.030540057,-0.006270075,0.007771868,0.025800584,-0.021262793,0.005859513,0.013087566,-0.020182367,0.017056333,-0.030799357,-0.012698613,0.0057694777,-0.014672192,-0.023827005,0.0369938,-0.006849904,0.023394834,0.008052778,0.002758689,0.016552133,-0.011308464,-0.039702073,0.004033592,-0.018309629,-0.02958928,0.024071902,0.026088698,0.0025173938,0.006644623,-0.005106816,0.02979096,0.008945932,-0.00602878,-0.0065293773,-0.0051536346,-0.008513761,-0.017142767,0.023063505,0.020427264,0.028710533,-0.02090265,-0.0010516151,0.0021590523,-0.014038342,0.0028577282,0.03777171,0.027226748,0.0062736766,0.004980766,0.0009606792,0.036158275,-0.0041236277,0.019577328,0.0035978202,0.027961439,-0.002191465,0.0018142161,0.015615764,-0.033507627,0.016667379,-0.007192039,0.01147413,-0.034660082,0.0014486719,0.005229264,-0.0112940585,0.010091184,0.015774228,0.040422358,0.034919385,-0.040105432,-0.03670569,-0.0054273424,0.0066842386,-0.03483295,-0.017863052,-0.012453716,-0.026348,0.007440537,-0.01973579,-0.005031186,0.0013037146,-0.031519644,-0.00440814,-0.008470544,-0.037022613,0.055461895,-0.03587016,0.00072253525,-0.018021515,0.0076782308,-0.018684175,0.010768251,0.0038895353,0.02758689,0.0027658918,-0.010797062,-0.026131915,-0.010861888,-0.0021896644,-0.036129463,0.017877458,0.0040984177,-0.010609788,0.024777781,0.013087566,-0.03857843,0.0155005185,0.01970698,-0.022227975,-0.018727392,0.02484981,0.0007328893,0.0035888166,-0.0042676846,0.012266442,-0.052696,0.037886955,0.013217217,0.019044317,0.023668543,-0.04402378,-0.005391328,0.007721448,-0.014578555,-0.004656638,-0.0015999316,0.0034645677,0.019260403,0.006183641,0.018424872,-0.016523322,-0.0037346743,-0.017517315,0.0052760825,-0.041257888,0.004152439,-0.021450067,0.003475372,0.006414132,0.028393608,0.0072820745,-0.008938729,-0.005380524,-0.00079096225,0.007908722,-0.001737686,-0.0022130737,0.010566571,0.00037904963,0.01740207,0.002416554,-0.004714261,0.010753845,0.0159615,0.017286824,0.0026434434,-0.009226842,0.015947094,0.069550656,-0.010220835,-0.04848954,-0.010357689,0.018381657,0.018756203,0.02505149,0.02695304,-0.0012586969,-0.0073432988,-0.0083841095,-0.011286856,0.022458466,0.049786054,-0.021363633,-0.0118702855,-0.02140685,0.0076926365,0.022876231,-0.041603625,0.007148822,-0.004159642,0.0016305436,-0.014095965,0.0096734185,-0.020225585,0.008492152,-0.009486144,0.00975265,-0.008355298,-0.0045485958,0.018828232,0.0002827116,-0.014146384,0.010105589,-0.017589344,-0.014420092,-0.007800679,-0.010559368,0.00020336777,-0.028840184,-0.008665021,-0.019577328,0.021075519,0.012828264,-0.0018673372,-0.010537759,0.011092379,0.0027064683,-0.024806593,0.03396861,-0.0018511307,-0.0054525523,0.0048655206,0.031490833,0.016710596,0.040940963,-0.0007981651,-0.017070739,-0.008427327,0.03402623,-0.0065221745,-0.005909933,-0.02294826,0.021867832]\n"
     ]
    }
   ],
   "execution_count": 41
  },
  {
   "cell_type": "markdown",
   "metadata": {},
   "source": [
    "Custom tables must have at least three columns that match the semantics of a standard table\n",
    "\n",
    "- A column with type `NCLOB` or `NVARCHAR` for the text/context of the embeddings\n",
    "- A column with type `NCLOB` or `NVARCHAR` for the metadata \n",
    "- A column with type `REAL_VECTOR` for the embedding vector\n",
    "\n",
    "The table can contain additional columns. When new Documents are inserted into the table, these additional columns must allow NULL values."
   ]
  },
  {
   "cell_type": "code",
   "metadata": {
    "ExecuteTime": {
     "end_time": "2025-06-11T09:33:25.911100Z",
     "start_time": "2025-06-11T09:33:24.768661Z"
    }
   },
   "source": [
    "# Create a new table \"MY_OWN_TABLE_ADD\" with three \"standard\" columns and one additional column\n",
    "my_own_table_name = \"MY_OWN_TABLE_ADD\"\n",
    "cur = connection.cursor()\n",
    "cur.execute(\n",
    "    (\n",
    "        f\"CREATE TABLE {my_own_table_name} (\"\n",
    "        \"SOME_OTHER_COLUMN NVARCHAR(42), \"\n",
    "        \"MY_TEXT NVARCHAR(2048), \"\n",
    "        \"MY_METADATA NVARCHAR(1024), \"\n",
    "        \"MY_VECTOR REAL_VECTOR )\"\n",
    "    )\n",
    ")\n",
    "\n",
    "# Create a HanaDB instance with the own table\n",
    "db = HanaDB(\n",
    "    connection=connection,\n",
    "    embedding=embeddings,\n",
    "    table_name=my_own_table_name,\n",
    "    content_column=\"MY_TEXT\",\n",
    "    metadata_column=\"MY_METADATA\",\n",
    "    vector_column=\"MY_VECTOR\",\n",
    ")\n",
    "\n",
    "# Add a simple document with some metadata\n",
    "docs = [\n",
    "    Document(\n",
    "        page_content=\"Some other text\",\n",
    "        metadata={\"start\": 400, \"end\": 450, \"doc_name\": \"other.txt\"},\n",
    "    )\n",
    "]\n",
    "db.add_documents(docs)\n",
    "\n",
    "# Check if data has been inserted into our own table\n",
    "cur.execute(f\"SELECT * FROM {my_own_table_name} LIMIT 1\")\n",
    "rows = cur.fetchall()\n",
    "print(rows[0][0])  # Value of column \"SOME_OTHER_DATA\". Should be NULL/None\n",
    "print(rows[0][1])  # The text\n",
    "print(rows[0][2])  # The metadata\n",
    "print(rows[0][3])  # The vector\n",
    "\n",
    "cur.close()"
   ],
   "outputs": [
    {
     "name": "stdout",
     "output_type": "stream",
     "text": [
      "None\n",
      "Some other text\n",
      "{\"start\": 400, \"end\": 450, \"doc_name\": \"other.txt\"}\n",
      "<memory at 0x000001765C5E4AC0>\n"
     ]
    }
   ],
   "execution_count": 42
  },
  {
   "cell_type": "markdown",
   "metadata": {},
   "source": [
    "Add another document and perform a similarity search on the custom table."
   ]
  },
  {
   "cell_type": "code",
   "metadata": {
    "ExecuteTime": {
     "end_time": "2025-06-11T09:36:51.777051Z",
     "start_time": "2025-06-11T09:36:49.761506Z"
    }
   },
   "source": [
    "docs = [\n",
    "    Document(\n",
    "        page_content=\"Some more text\",\n",
    "        metadata={\"start\": 800, \"end\": 950, \"doc_name\": \"more.txt\"},\n",
    "    )\n",
    "]\n",
    "db.add_documents(docs)\n",
    "\n",
    "query = \"What's up?\"\n",
    "docs = db.similarity_search(query, k=2)\n",
    "for doc in docs:\n",
    "    print(\"-\" * 80)\n",
    "    print(doc.page_content)"
   ],
   "outputs": [
    {
     "name": "stdout",
     "output_type": "stream",
     "text": [
      "--------------------------------------------------------------------------------\n",
      "Some other text\n",
      "--------------------------------------------------------------------------------\n",
      "Some more text\n"
     ]
    }
   ],
   "execution_count": 43
  },
  {
   "cell_type": "markdown",
   "metadata": {},
   "source": [
    "### Filter Performance Optimization with Custom Columns"
   ]
  },
  {
   "cell_type": "markdown",
   "metadata": {},
   "source": [
    "To allow flexible metadata values, all metadata is stored as JSON in the metadata column by default. If some of the used metadata keys and value types are known, they can be stored in additional columns instead by creating the target table with the key names as column names and passing them to the HanaDB constructor via the specific_metadata_columns list. Metadata keys that match those values are copied into the special column during insert. Filters use the special columns instead of the metadata JSON column for keys in the specific_metadata_columns list."
   ]
  },
  {
   "cell_type": "code",
   "metadata": {
    "ExecuteTime": {
     "end_time": "2025-06-11T09:37:37.932975Z",
     "start_time": "2025-06-11T09:37:36.882123Z"
    }
   },
   "source": [
    "# Create a new table \"PERFORMANT_CUSTOMTEXT_FILTER\" with three \"standard\" columns and one additional column\n",
    "my_own_table_name = \"PERFORMANT_CUSTOMTEXT_FILTER\"\n",
    "cur = connection.cursor()\n",
    "cur.execute(\n",
    "    (\n",
    "        f\"CREATE TABLE {my_own_table_name} (\"\n",
    "        \"CUSTOMTEXT NVARCHAR(500), \"\n",
    "        \"MY_TEXT NVARCHAR(2048), \"\n",
    "        \"MY_METADATA NVARCHAR(1024), \"\n",
    "        \"MY_VECTOR REAL_VECTOR )\"\n",
    "    )\n",
    ")\n",
    "\n",
    "# Create a HanaDB instance with the own table\n",
    "db = HanaDB(\n",
    "    connection=connection,\n",
    "    embedding=embeddings,\n",
    "    table_name=my_own_table_name,\n",
    "    content_column=\"MY_TEXT\",\n",
    "    metadata_column=\"MY_METADATA\",\n",
    "    vector_column=\"MY_VECTOR\",\n",
    "    specific_metadata_columns=[\"CUSTOMTEXT\"],\n",
    ")\n",
    "\n",
    "# Add a simple document with some metadata\n",
    "docs = [\n",
    "    Document(\n",
    "        page_content=\"Some other text\",\n",
    "        metadata={\n",
    "            \"start\": 400,\n",
    "            \"end\": 450,\n",
    "            \"doc_name\": \"other.txt\",\n",
    "            \"CUSTOMTEXT\": \"Filters on this value are very performant\",\n",
    "        },\n",
    "    )\n",
    "]\n",
    "db.add_documents(docs)\n",
    "\n",
    "# Check if data has been inserted into our own table\n",
    "cur.execute(f\"SELECT * FROM {my_own_table_name} LIMIT 1\")\n",
    "rows = cur.fetchall()\n",
    "print(\n",
    "    rows[0][0]\n",
    ")  # Value of column \"CUSTOMTEXT\". Should be \"Filters on this value are very performant\"\n",
    "print(rows[0][1])  # The text\n",
    "print(\n",
    "    rows[0][2]\n",
    ")  # The metadata without the \"CUSTOMTEXT\" data, as this is extracted into a sperate column\n",
    "print(rows[0][3])  # The vector\n",
    "\n",
    "cur.close()"
   ],
   "outputs": [
    {
     "name": "stdout",
     "output_type": "stream",
     "text": [
      "Filters on this value are very performant\n",
      "Some other text\n",
      "{\"start\": 400, \"end\": 450, \"doc_name\": \"other.txt\", \"CUSTOMTEXT\": \"Filters on this value are very performant\"}\n",
      "<memory at 0x000001765BDC0880>\n"
     ]
    }
   ],
   "execution_count": 44
  },
  {
   "cell_type": "markdown",
   "metadata": {},
   "source": [
    "The special columns are completely transparent to the rest of the langchain interface. Everything works as it did before, just more performant."
   ]
  },
  {
   "cell_type": "code",
   "metadata": {
    "ExecuteTime": {
     "end_time": "2025-06-11T09:44:52.355367Z",
     "start_time": "2025-06-11T09:44:51.348115Z"
    }
   },
   "source": [
    "docs = [\n",
    "    Document(\n",
    "        page_content=\"Some more text football\",\n",
    "        metadata={\n",
    "            \"start\": 800,\n",
    "            \"end\": 950,\n",
    "            \"doc_name\": \"more.txt\",\n",
    "            \"CUSTOMTEXT\": \"Another customtext value football\",\n",
    "        },\n",
    "    )\n",
    "]\n",
    "db.add_documents(docs)\n",
    "\n"
   ],
   "outputs": [
    {
     "data": {
      "text/plain": [
       "[]"
      ]
     },
     "execution_count": 46,
     "metadata": {},
     "output_type": "execute_result"
    }
   ],
   "execution_count": 46
  },
  {
   "metadata": {
    "ExecuteTime": {
     "end_time": "2025-06-11T09:46:23.135718Z",
     "start_time": "2025-06-11T09:46:21.998512Z"
    }
   },
   "cell_type": "code",
   "source": [
    "advanced_filter = {\"CUSTOMTEXT\": {\"$like\": \"%foot%\"}}\n",
    "query = \"What's up?\"\n",
    "docs = db.similarity_search(query, k=2, filter=advanced_filter)\n",
    "for doc in docs:\n",
    "    print(\"-\" * 80)\n",
    "    print(doc.page_content)"
   ],
   "outputs": [
    {
     "name": "stderr",
     "output_type": "stream",
     "text": [
      "Plain SQL Placeholder '?' for value='%foot%'\n"
     ]
    },
    {
     "name": "stdout",
     "output_type": "stream",
     "text": [
      "--------------------------------------------------------------------------------\n",
      "Some more text football\n"
     ]
    }
   ],
   "execution_count": 47
  },
  {
   "metadata": {
    "ExecuteTime": {
     "end_time": "2025-06-11T09:49:57.516663Z",
     "start_time": "2025-06-11T09:49:56.497111Z"
    }
   },
   "cell_type": "code",
   "source": [
    "advanced_filter = {\"CUSTOMTEXT\": {\"$like\": \"%foot%\"}}\n",
    "query = \"What's up?\"\n",
    "docs = db.similarity_search(query, k=2, filter=advanced_filter)\n",
    "for doc in docs:\n",
    "    print(\"-\" * 80)\n",
    "    print(doc.page_content)"
   ],
   "outputs": [
    {
     "name": "stderr",
     "output_type": "stream",
     "text": [
      "Plain SQL Placeholder '?' for value='%foot%'\n"
     ]
    },
    {
     "name": "stdout",
     "output_type": "stream",
     "text": [
      "--------------------------------------------------------------------------------\n",
      "Some more text football\n"
     ]
    }
   ],
   "execution_count": 51
  },
  {
   "metadata": {
    "ExecuteTime": {
     "end_time": "2025-06-11T09:49:43.529511Z",
     "start_time": "2025-06-11T09:49:42.486822Z"
    }
   },
   "cell_type": "code",
   "source": [
    "advanced_filter = {\"CUSTOMTEXT\": {\"$like\": \"%football%\"}}\n",
    "query = \"What's up?\"\n",
    "docs = db.similarity_search(query, k=2,)\n",
    "for doc in docs:\n",
    "    print(\"-\" * 80)\n",
    "    print(doc.page_content)"
   ],
   "outputs": [
    {
     "name": "stdout",
     "output_type": "stream",
     "text": [
      "--------------------------------------------------------------------------------\n",
      "Some other text\n",
      "--------------------------------------------------------------------------------\n",
      "Some more text\n"
     ]
    }
   ],
   "execution_count": 50
  }
 ],
 "metadata": {
  "kernelspec": {
   "display_name": "Python 3 (ipykernel)",
   "language": "python",
   "name": "python3"
  },
  "language_info": {
   "codemirror_mode": {
    "name": "ipython",
    "version": 3
   },
   "file_extension": ".py",
   "mimetype": "text/x-python",
   "name": "python",
   "nbconvert_exporter": "python",
   "pygments_lexer": "ipython3",
   "version": "3.11.9"
  }
 },
 "nbformat": 4,
 "nbformat_minor": 4
}
